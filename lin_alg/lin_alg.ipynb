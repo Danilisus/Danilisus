{
 "cells": [
  {
   "cell_type": "markdown",
   "metadata": {
    "toc": true
   },
   "source": [
    "<h1>Содержание<span class=\"tocSkip\"></span></h1>\n",
    "<div class=\"toc\"><ul class=\"toc-item\"><li><span><a href=\"#Загрузка-данных\" data-toc-modified-id=\"Загрузка-данных-1\"><span class=\"toc-item-num\">1&nbsp;&nbsp;</span>Загрузка данных</a></span></li><li><span><a href=\"#Умножение-матриц\" data-toc-modified-id=\"Умножение-матриц-2\"><span class=\"toc-item-num\">2&nbsp;&nbsp;</span>Умножение матриц</a></span></li><li><span><a href=\"#Алгоритм-преобразования\" data-toc-modified-id=\"Алгоритм-преобразования-3\"><span class=\"toc-item-num\">3&nbsp;&nbsp;</span>Алгоритм преобразования</a></span></li><li><span><a href=\"#Проверка-алгоритма\" data-toc-modified-id=\"Проверка-алгоритма-4\"><span class=\"toc-item-num\">4&nbsp;&nbsp;</span>Проверка алгоритма</a></span></li></ul></div>"
   ]
  },
  {
   "cell_type": "markdown",
   "metadata": {},
   "source": [
    "# Защита персональных данных клиентов"
   ]
  },
  {
   "cell_type": "markdown",
   "metadata": {},
   "source": [
    "Вам нужно защитить данные клиентов компании. Разработайте такой метод преобразования данных, чтобы по ним было сложно восстановить персональную информацию. Обоснуйте корректность его работы.\n",
    "\n",
    "Нужно защитить данные, чтобы при преобразовании качество моделей машинного обучения не ухудшилось. Подбирать наилучшую модель не требуется."
   ]
  },
  {
   "cell_type": "markdown",
   "metadata": {},
   "source": [
    "## Загрузка данных"
   ]
  },
  {
   "cell_type": "markdown",
   "metadata": {},
   "source": [
    "Импортируем необходимые библиотеки."
   ]
  },
  {
   "cell_type": "code",
   "execution_count": 1,
   "metadata": {},
   "outputs": [],
   "source": [
    "import pandas as pd\n",
    "import numpy as np\n",
    "from sklearn.metrics import r2_score\n",
    "from sklearn.model_selection import train_test_split\n",
    "from sklearn.linear_model import LinearRegression"
   ]
  },
  {
   "cell_type": "markdown",
   "metadata": {},
   "source": [
    "Прочитаем предоставленные данные."
   ]
  },
  {
   "cell_type": "code",
   "execution_count": 2,
   "metadata": {},
   "outputs": [
    {
     "data": {
      "text/html": [
       "<div>\n",
       "<style scoped>\n",
       "    .dataframe tbody tr th:only-of-type {\n",
       "        vertical-align: middle;\n",
       "    }\n",
       "\n",
       "    .dataframe tbody tr th {\n",
       "        vertical-align: top;\n",
       "    }\n",
       "\n",
       "    .dataframe thead th {\n",
       "        text-align: right;\n",
       "    }\n",
       "</style>\n",
       "<table border=\"1\" class=\"dataframe\">\n",
       "  <thead>\n",
       "    <tr style=\"text-align: right;\">\n",
       "      <th></th>\n",
       "      <th>Пол</th>\n",
       "      <th>Возраст</th>\n",
       "      <th>Зарплата</th>\n",
       "      <th>Члены семьи</th>\n",
       "      <th>Страховые выплаты</th>\n",
       "    </tr>\n",
       "  </thead>\n",
       "  <tbody>\n",
       "    <tr>\n",
       "      <th>0</th>\n",
       "      <td>1</td>\n",
       "      <td>41.0</td>\n",
       "      <td>49600.0</td>\n",
       "      <td>1</td>\n",
       "      <td>0</td>\n",
       "    </tr>\n",
       "    <tr>\n",
       "      <th>1</th>\n",
       "      <td>0</td>\n",
       "      <td>46.0</td>\n",
       "      <td>38000.0</td>\n",
       "      <td>1</td>\n",
       "      <td>1</td>\n",
       "    </tr>\n",
       "    <tr>\n",
       "      <th>2</th>\n",
       "      <td>0</td>\n",
       "      <td>29.0</td>\n",
       "      <td>21000.0</td>\n",
       "      <td>0</td>\n",
       "      <td>0</td>\n",
       "    </tr>\n",
       "    <tr>\n",
       "      <th>3</th>\n",
       "      <td>0</td>\n",
       "      <td>21.0</td>\n",
       "      <td>41700.0</td>\n",
       "      <td>2</td>\n",
       "      <td>0</td>\n",
       "    </tr>\n",
       "    <tr>\n",
       "      <th>4</th>\n",
       "      <td>1</td>\n",
       "      <td>28.0</td>\n",
       "      <td>26100.0</td>\n",
       "      <td>0</td>\n",
       "      <td>0</td>\n",
       "    </tr>\n",
       "  </tbody>\n",
       "</table>\n",
       "</div>"
      ],
      "text/plain": [
       "   Пол  Возраст  Зарплата  Члены семьи  Страховые выплаты\n",
       "0    1     41.0   49600.0            1                  0\n",
       "1    0     46.0   38000.0            1                  1\n",
       "2    0     29.0   21000.0            0                  0\n",
       "3    0     21.0   41700.0            2                  0\n",
       "4    1     28.0   26100.0            0                  0"
      ]
     },
     "metadata": {},
     "output_type": "display_data"
    }
   ],
   "source": [
    "insurance = pd.read_csv('/datasets/insurance.csv')\n",
    "display(insurance.head())"
   ]
  },
  {
   "cell_type": "code",
   "execution_count": 3,
   "metadata": {},
   "outputs": [
    {
     "name": "stdout",
     "output_type": "stream",
     "text": [
      "<class 'pandas.core.frame.DataFrame'>\n",
      "RangeIndex: 5000 entries, 0 to 4999\n",
      "Data columns (total 5 columns):\n",
      " #   Column             Non-Null Count  Dtype  \n",
      "---  ------             --------------  -----  \n",
      " 0   Пол                5000 non-null   int64  \n",
      " 1   Возраст            5000 non-null   float64\n",
      " 2   Зарплата           5000 non-null   float64\n",
      " 3   Члены семьи        5000 non-null   int64  \n",
      " 4   Страховые выплаты  5000 non-null   int64  \n",
      "dtypes: float64(2), int64(3)\n",
      "memory usage: 195.4 KB\n"
     ]
    }
   ],
   "source": [
    "insurance.info()"
   ]
  },
  {
   "cell_type": "code",
   "execution_count": 4,
   "metadata": {},
   "outputs": [
    {
     "name": "stdout",
     "output_type": "stream",
     "text": [
      "<class 'pandas.core.frame.DataFrame'>\n",
      "RangeIndex: 5000 entries, 0 to 4999\n",
      "Data columns (total 5 columns):\n",
      " #   Column             Non-Null Count  Dtype\n",
      "---  ------             --------------  -----\n",
      " 0   Пол                5000 non-null   int64\n",
      " 1   Возраст            5000 non-null   int64\n",
      " 2   Зарплата           5000 non-null   int64\n",
      " 3   Члены семьи        5000 non-null   int64\n",
      " 4   Страховые выплаты  5000 non-null   int64\n",
      "dtypes: int64(5)\n",
      "memory usage: 195.4 KB\n"
     ]
    }
   ],
   "source": [
    "insurance = insurance.astype({'Возраст':'int', 'Зарплата':'int'})\n",
    "insurance.info()"
   ]
  },
  {
   "cell_type": "code",
   "execution_count": 5,
   "metadata": {},
   "outputs": [
    {
     "data": {
      "text/html": [
       "<div>\n",
       "<style scoped>\n",
       "    .dataframe tbody tr th:only-of-type {\n",
       "        vertical-align: middle;\n",
       "    }\n",
       "\n",
       "    .dataframe tbody tr th {\n",
       "        vertical-align: top;\n",
       "    }\n",
       "\n",
       "    .dataframe thead th {\n",
       "        text-align: right;\n",
       "    }\n",
       "</style>\n",
       "<table border=\"1\" class=\"dataframe\">\n",
       "  <thead>\n",
       "    <tr style=\"text-align: right;\">\n",
       "      <th></th>\n",
       "      <th>Пол</th>\n",
       "      <th>Возраст</th>\n",
       "      <th>Зарплата</th>\n",
       "      <th>Члены семьи</th>\n",
       "      <th>Страховые выплаты</th>\n",
       "    </tr>\n",
       "  </thead>\n",
       "  <tbody>\n",
       "    <tr>\n",
       "      <th>count</th>\n",
       "      <td>5000.000000</td>\n",
       "      <td>5000.000000</td>\n",
       "      <td>5000.000000</td>\n",
       "      <td>5000.000000</td>\n",
       "      <td>5000.000000</td>\n",
       "    </tr>\n",
       "    <tr>\n",
       "      <th>mean</th>\n",
       "      <td>0.499000</td>\n",
       "      <td>30.952800</td>\n",
       "      <td>39916.359400</td>\n",
       "      <td>1.194200</td>\n",
       "      <td>0.148000</td>\n",
       "    </tr>\n",
       "    <tr>\n",
       "      <th>std</th>\n",
       "      <td>0.500049</td>\n",
       "      <td>8.440807</td>\n",
       "      <td>9900.082063</td>\n",
       "      <td>1.091387</td>\n",
       "      <td>0.463183</td>\n",
       "    </tr>\n",
       "    <tr>\n",
       "      <th>min</th>\n",
       "      <td>0.000000</td>\n",
       "      <td>18.000000</td>\n",
       "      <td>5300.000000</td>\n",
       "      <td>0.000000</td>\n",
       "      <td>0.000000</td>\n",
       "    </tr>\n",
       "    <tr>\n",
       "      <th>25%</th>\n",
       "      <td>0.000000</td>\n",
       "      <td>24.000000</td>\n",
       "      <td>33300.000000</td>\n",
       "      <td>0.000000</td>\n",
       "      <td>0.000000</td>\n",
       "    </tr>\n",
       "    <tr>\n",
       "      <th>50%</th>\n",
       "      <td>0.000000</td>\n",
       "      <td>30.000000</td>\n",
       "      <td>40200.000000</td>\n",
       "      <td>1.000000</td>\n",
       "      <td>0.000000</td>\n",
       "    </tr>\n",
       "    <tr>\n",
       "      <th>75%</th>\n",
       "      <td>1.000000</td>\n",
       "      <td>37.000000</td>\n",
       "      <td>46600.000000</td>\n",
       "      <td>2.000000</td>\n",
       "      <td>0.000000</td>\n",
       "    </tr>\n",
       "    <tr>\n",
       "      <th>max</th>\n",
       "      <td>1.000000</td>\n",
       "      <td>65.000000</td>\n",
       "      <td>79000.000000</td>\n",
       "      <td>6.000000</td>\n",
       "      <td>5.000000</td>\n",
       "    </tr>\n",
       "  </tbody>\n",
       "</table>\n",
       "</div>"
      ],
      "text/plain": [
       "               Пол      Возраст      Зарплата  Члены семьи  Страховые выплаты\n",
       "count  5000.000000  5000.000000   5000.000000  5000.000000        5000.000000\n",
       "mean      0.499000    30.952800  39916.359400     1.194200           0.148000\n",
       "std       0.500049     8.440807   9900.082063     1.091387           0.463183\n",
       "min       0.000000    18.000000   5300.000000     0.000000           0.000000\n",
       "25%       0.000000    24.000000  33300.000000     0.000000           0.000000\n",
       "50%       0.000000    30.000000  40200.000000     1.000000           0.000000\n",
       "75%       1.000000    37.000000  46600.000000     2.000000           0.000000\n",
       "max       1.000000    65.000000  79000.000000     6.000000           5.000000"
      ]
     },
     "execution_count": 5,
     "metadata": {},
     "output_type": "execute_result"
    }
   ],
   "source": [
    "insurance.describe()"
   ]
  },
  {
   "cell_type": "markdown",
   "metadata": {},
   "source": [
    "Удалим явные дубликаты."
   ]
  },
  {
   "cell_type": "code",
   "execution_count": 6,
   "metadata": {},
   "outputs": [],
   "source": [
    "insurance = insurance.drop_duplicates()"
   ]
  },
  {
   "cell_type": "markdown",
   "metadata": {},
   "source": [
    "## Умножение матриц"
   ]
  },
  {
   "cell_type": "markdown",
   "metadata": {},
   "source": [
    "Выделим из выборки целевой признак."
   ]
  },
  {
   "cell_type": "code",
   "execution_count": 7,
   "metadata": {},
   "outputs": [],
   "source": [
    "features = insurance.drop(['Страховые выплаты'], axis=1)\n",
    "target = insurance['Страховые выплаты']"
   ]
  },
  {
   "cell_type": "markdown",
   "metadata": {},
   "source": [
    "Обучим модель на нешифрованных признаках."
   ]
  },
  {
   "cell_type": "code",
   "execution_count": 8,
   "metadata": {},
   "outputs": [
    {
     "data": {
      "text/plain": [
       "0.4302010046633359"
      ]
     },
     "metadata": {},
     "output_type": "display_data"
    }
   ],
   "source": [
    "model_linear_regression = LinearRegression()\n",
    "model_linear_regression.fit(features, target)\n",
    "predict = model_linear_regression.predict(features)\n",
    "display(r2_score(target, predict))"
   ]
  },
  {
   "cell_type": "markdown",
   "metadata": {},
   "source": [
    "В этом задании вы можете записывать формулы в *Jupyter Notebook.*\n",
    "\n",
    "Чтобы записать формулу внутри текста, окружите её символами доллара \\\\$; если снаружи —  двойными символами \\\\$\\\\$. Эти формулы записываются на языке вёрстки *LaTeX.* \n",
    "\n",
    "Для примера мы записали формулы линейной регрессии. Можете их скопировать и отредактировать, чтобы решить задачу.\n",
    "\n",
    "Работать в *LaTeX* необязательно."
   ]
  },
  {
   "cell_type": "markdown",
   "metadata": {},
   "source": [
    "Обозначения:\n",
    "\n",
    "- $X$ — матрица признаков (нулевой столбец состоит из единиц)\n",
    "\n",
    "- $y$ — вектор целевого признака\n",
    "\n",
    "- $P$ — матрица, на которую умножаются признаки\n",
    "\n",
    "- $w$ — вектор весов линейной регрессии (нулевой элемент равен сдвигу)"
   ]
  },
  {
   "cell_type": "markdown",
   "metadata": {},
   "source": [
    "**Обоснование:** \n",
    "\n",
    "Предположим, что качество модели не изменится, если умножить признаки на обратную матрицу. Для этого возьмем формулу обучения и прировняем ее к формуле обучения с добавленной к ней обратимой матрицей. Далее попробуем раскрыть скобки и сократить лишнее:\n",
    "\n",
    "Известно, что для линейной регрессии верны следующие выражения:\n",
    "\n",
    "Предсказания:\n",
    "\n",
    "$$\n",
    "a = Xw\n",
    "$$\n",
    "\n",
    "Задача обучения:\n",
    "\n",
    "$$\n",
    "w = \\arg\\min_w MSE(Xw, y)\n",
    "$$\n",
    "\n",
    "Формула обучения:\n",
    "\n",
    "$$\n",
    "w = (X^T X)^{-1} X^T y\n",
    "$$\n",
    "\n",
    "Умножим матрицу признаков X на обратимую матрицу P:\n",
    "\n",
    "$$\n",
    "a' = (XP)w'\n",
    "$$\n",
    "\n",
    "\n",
    "$$\n",
    "w' = ((XP)^T XP)^{-1} (XP)^T y\n",
    "$$\n",
    "\n",
    "Одно из войств транспонированных матриц: Транспонированное произведение матриц равно произведению транспонированных матриц, взятых в обратном порядке.\n",
    "\n",
    "$$\n",
    "(AB)^T = B^T A^T \n",
    "$$\n",
    "\n",
    "Следовательно:\n",
    "\n",
    "$$\n",
    "w' = (P^T X^T XP)^{-1} (XP)^T y\n",
    "$$\n",
    "$$\n",
    "w' = P^{-1} (X^T X)^{-1} (P^T)^{-1} P^T X^T y\n",
    "$$\n",
    "Поскольку:\n",
    "$$\n",
    "(P^T)^{-1} P^T = E \n",
    "$$\n",
    "Получаем:\n",
    "$$\n",
    "w' = P^{-1} (X^T X)^{-1} X^T y\n",
    "$$\n",
    "$$\n",
    "w' = P^{-1} w\n",
    "$$\n",
    "\n",
    "$$\n",
    "a' = (XP)P^{-1} w\n",
    "$$\n",
    "$$\n",
    "a' = Xw = a\n",
    "$$\n",
    "**Вывод:** Качество модели не изменится."
   ]
  },
  {
   "cell_type": "markdown",
   "metadata": {},
   "source": [
    "## Алгоритм преобразования"
   ]
  },
  {
   "cell_type": "markdown",
   "metadata": {},
   "source": [
    "**Алгоритм**\n",
    "\n",
    "1. Находим квадратную обратимую матрицу шифрования, для этого случайным образом генерируем квадратную матрицу, размером равную количеству признаков.\n",
    "2. Проверяем нашу матрицу на оборачиваемость.\n",
    "3. По-векторно умножаем таблицу с признаками на матрицу шифрования.\n",
    "4. Обучаем модель.\n",
    "6. Пробуем предсказать."
   ]
  },
  {
   "cell_type": "markdown",
   "metadata": {},
   "source": [
    "**Обоснование**\n",
    "\n",
    "Качество линейной регрессии не поменяется, так как мы рассуждали об этом выше. Тем не менее, если взять формулу линейной регрессии и пропорционально увеличить обе части, то логично, что вектор весов не изменится."
   ]
  },
  {
   "cell_type": "markdown",
   "metadata": {},
   "source": [
    "## Проверка алгоритма"
   ]
  },
  {
   "cell_type": "markdown",
   "metadata": {},
   "source": [
    "Выделим матрицу признаков."
   ]
  },
  {
   "cell_type": "code",
   "execution_count": 9,
   "metadata": {},
   "outputs": [],
   "source": [
    "features_new = insurance.drop(['Страховые выплаты'], axis=1)\n",
    "features_new = np.array(features_new)"
   ]
  },
  {
   "cell_type": "markdown",
   "metadata": {},
   "source": [
    "Сгенерируем случайным образом квадратную матрицу и проверим на обратимость."
   ]
  },
  {
   "cell_type": "code",
   "execution_count": 10,
   "metadata": {},
   "outputs": [],
   "source": [
    "p = np.random.normal(size=(len(features_new[0]), len(features_new[0])))\n",
    "p_inverse = np.linalg.inv(p)"
   ]
  },
  {
   "cell_type": "markdown",
   "metadata": {},
   "source": [
    "По-веторно умножим матрицу признаков на матрицу шифрования."
   ]
  },
  {
   "cell_type": "code",
   "execution_count": 11,
   "metadata": {
    "scrolled": true
   },
   "outputs": [
    {
     "data": {
      "text/plain": [
       "array([[ 21408.24941853, -18941.18938132,  -6009.68747635,\n",
       "         29480.19203243],\n",
       "       [ 16396.04801735, -14503.08140559,  -4613.29232788,\n",
       "         22564.74352909],\n",
       "       [  9060.24824159,  -8012.38650726,  -2552.89993872,\n",
       "         12464.46211474],\n",
       "       ...,\n",
       "       [ 14633.71689201, -12951.37021825,  -4099.36461358,\n",
       "         20161.59524494],\n",
       "       [ 14112.9702768 , -12491.93380643,  -3954.28378046,\n",
       "         19443.84340771],\n",
       "       [ 17525.502776  , -15507.6447836 ,  -4915.20563391,\n",
       "         24139.12010968]])"
      ]
     },
     "execution_count": 11,
     "metadata": {},
     "output_type": "execute_result"
    }
   ],
   "source": [
    "list_insurace_new = []\n",
    "for i in features_new:\n",
    "    list_insurace_new.append(np.dot(i, p))\n",
    "features_new = np.array(list_insurace_new)\n",
    "features_new"
   ]
  },
  {
   "cell_type": "raw",
   "metadata": {},
   "source": [
    "features_new = features_new.dot(p)\n",
    "features_new"
   ]
  },
  {
   "cell_type": "markdown",
   "metadata": {},
   "source": [
    "Обучим модель и сравним ошибку с нешифрованной моделью."
   ]
  },
  {
   "cell_type": "code",
   "execution_count": 12,
   "metadata": {},
   "outputs": [
    {
     "data": {
      "text/plain": [
       "'R2 до шифрования:   0.4302010046633359'"
      ]
     },
     "metadata": {},
     "output_type": "display_data"
    },
    {
     "data": {
      "text/plain": [
       "'R2 после шифрования:0.4302010046633292'"
      ]
     },
     "metadata": {},
     "output_type": "display_data"
    }
   ],
   "source": [
    "model_linear_regression = LinearRegression()\n",
    "model_linear_regression.fit(features_new, target)\n",
    "predict_new = model_linear_regression.predict(features_new)\n",
    "display(f'R2 до шифрования:   {r2_score(target, predict)}')\n",
    "display(f'R2 после шифрования:{r2_score(target, predict_new)}')"
   ]
  },
  {
   "cell_type": "markdown",
   "metadata": {},
   "source": [
    "**Вывод**\n",
    "\n",
    "Судя по результатам величина R2 изменилась незначительно."
   ]
  }
 ],
 "metadata": {
  "ExecuteTimeLog": [
   {
    "duration": 416,
    "start_time": "2022-04-05T11:24:16.801Z"
   },
   {
    "duration": 36,
    "start_time": "2022-04-05T11:24:31.393Z"
   },
   {
    "duration": 8,
    "start_time": "2022-04-05T11:25:25.511Z"
   },
   {
    "duration": 6,
    "start_time": "2022-04-05T11:25:32.114Z"
   },
   {
    "duration": 15,
    "start_time": "2022-04-05T11:26:21.841Z"
   },
   {
    "duration": 80,
    "start_time": "2022-04-05T11:42:03.362Z"
   },
   {
    "duration": 5,
    "start_time": "2022-04-05T11:42:10.354Z"
   },
   {
    "duration": 6,
    "start_time": "2022-04-05T11:43:28.496Z"
   },
   {
    "duration": 8,
    "start_time": "2022-04-05T12:04:00.338Z"
   },
   {
    "duration": 7,
    "start_time": "2022-04-05T12:04:20.386Z"
   },
   {
    "duration": 2,
    "start_time": "2022-04-05T12:04:38.052Z"
   },
   {
    "duration": 315,
    "start_time": "2022-04-05T12:04:40.547Z"
   },
   {
    "duration": 730,
    "start_time": "2022-04-05T17:05:49.645Z"
   },
   {
    "duration": 62,
    "start_time": "2022-04-05T17:05:50.383Z"
   },
   {
    "duration": 7,
    "start_time": "2022-04-05T17:05:50.447Z"
   },
   {
    "duration": 13,
    "start_time": "2022-04-05T17:05:50.457Z"
   },
   {
    "duration": 252,
    "start_time": "2022-04-05T17:05:50.485Z"
   },
   {
    "duration": 1012,
    "start_time": "2022-04-05T17:07:26.327Z"
   },
   {
    "duration": 4,
    "start_time": "2022-04-05T17:09:40.715Z"
   },
   {
    "duration": 61,
    "start_time": "2022-04-05T17:12:20.218Z"
   },
   {
    "duration": 18,
    "start_time": "2022-04-05T17:12:27.851Z"
   },
   {
    "duration": 6,
    "start_time": "2022-04-05T17:13:08.699Z"
   },
   {
    "duration": 14,
    "start_time": "2022-04-05T17:13:34.924Z"
   },
   {
    "duration": 6,
    "start_time": "2022-04-05T17:13:40.851Z"
   },
   {
    "duration": 8,
    "start_time": "2022-04-05T17:13:43.818Z"
   },
   {
    "duration": 17,
    "start_time": "2022-04-05T17:13:47.763Z"
   },
   {
    "duration": 26,
    "start_time": "2022-04-05T17:13:57.667Z"
   },
   {
    "duration": 17,
    "start_time": "2022-04-05T17:17:34.908Z"
   },
   {
    "duration": 20,
    "start_time": "2022-04-05T17:21:40.949Z"
   },
   {
    "duration": 15,
    "start_time": "2022-04-05T17:21:43.388Z"
   },
   {
    "duration": 1677,
    "start_time": "2022-04-05T17:21:55.502Z"
   },
   {
    "duration": 48,
    "start_time": "2022-04-05T17:21:57.183Z"
   },
   {
    "duration": 9,
    "start_time": "2022-04-05T17:21:57.233Z"
   },
   {
    "duration": 12,
    "start_time": "2022-04-05T17:21:57.244Z"
   },
   {
    "duration": 9,
    "start_time": "2022-04-05T17:21:57.259Z"
   },
   {
    "duration": 100,
    "start_time": "2022-04-05T17:21:57.284Z"
   },
   {
    "duration": 109,
    "start_time": "2022-04-05T17:21:57.387Z"
   },
   {
    "duration": 18,
    "start_time": "2022-04-05T17:22:37.832Z"
   },
   {
    "duration": 71,
    "start_time": "2022-04-06T09:56:59.548Z"
   },
   {
    "duration": 1918,
    "start_time": "2022-04-06T09:57:08.108Z"
   },
   {
    "duration": 48,
    "start_time": "2022-04-06T09:57:10.029Z"
   },
   {
    "duration": 8,
    "start_time": "2022-04-06T09:57:10.079Z"
   },
   {
    "duration": 19,
    "start_time": "2022-04-06T09:57:10.089Z"
   },
   {
    "duration": 12,
    "start_time": "2022-04-06T09:57:10.111Z"
   },
   {
    "duration": 30,
    "start_time": "2022-04-06T09:57:10.125Z"
   },
   {
    "duration": 109,
    "start_time": "2022-04-06T09:57:10.242Z"
   },
   {
    "duration": 17,
    "start_time": "2022-04-06T09:57:10.353Z"
   },
   {
    "duration": 14,
    "start_time": "2022-04-06T09:57:10.372Z"
   },
   {
    "duration": 7,
    "start_time": "2022-04-06T10:00:45.979Z"
   },
   {
    "duration": 6,
    "start_time": "2022-04-06T10:01:01.642Z"
   },
   {
    "duration": 201,
    "start_time": "2022-04-06T10:02:04.779Z"
   },
   {
    "duration": 240,
    "start_time": "2022-04-06T10:02:26.107Z"
   },
   {
    "duration": 831,
    "start_time": "2022-04-06T10:23:41.945Z"
   },
   {
    "duration": 921,
    "start_time": "2022-04-06T10:27:23.735Z"
   },
   {
    "duration": 23686,
    "start_time": "2022-04-06T10:27:33.017Z"
   },
   {
    "duration": 292,
    "start_time": "2022-04-06T11:03:00.742Z"
   },
   {
    "duration": 4,
    "start_time": "2022-04-06T11:04:22.149Z"
   },
   {
    "duration": 3124,
    "start_time": "2022-04-06T11:08:33.796Z"
   },
   {
    "duration": 16,
    "start_time": "2022-04-06T11:08:53.076Z"
   },
   {
    "duration": 6459,
    "start_time": "2022-04-06T11:09:16.436Z"
   },
   {
    "duration": 10,
    "start_time": "2022-04-06T11:09:48.853Z"
   },
   {
    "duration": 6,
    "start_time": "2022-04-06T11:11:48.227Z"
   },
   {
    "duration": 24479,
    "start_time": "2022-04-06T11:14:11.845Z"
   },
   {
    "duration": 16,
    "start_time": "2022-04-06T11:14:36.327Z"
   },
   {
    "duration": 4,
    "start_time": "2022-04-06T11:15:05.844Z"
   },
   {
    "duration": 185,
    "start_time": "2022-04-06T11:15:43.923Z"
   },
   {
    "duration": 7,
    "start_time": "2022-04-06T11:16:06.677Z"
   },
   {
    "duration": 5,
    "start_time": "2022-04-06T11:18:41.619Z"
   },
   {
    "duration": 11,
    "start_time": "2022-04-06T11:20:54.372Z"
   },
   {
    "duration": 1699,
    "start_time": "2022-04-06T11:21:15.077Z"
   },
   {
    "duration": 1937,
    "start_time": "2022-04-06T11:21:31.684Z"
   },
   {
    "duration": 5,
    "start_time": "2022-04-06T11:21:52.643Z"
   },
   {
    "duration": 5,
    "start_time": "2022-04-06T11:22:08.532Z"
   },
   {
    "duration": 4,
    "start_time": "2022-04-06T11:22:08.916Z"
   },
   {
    "duration": 19,
    "start_time": "2022-04-06T11:22:55.476Z"
   },
   {
    "duration": 20,
    "start_time": "2022-04-06T11:23:25.445Z"
   },
   {
    "duration": 23,
    "start_time": "2022-04-06T11:23:32.931Z"
   },
   {
    "duration": 243,
    "start_time": "2022-04-06T11:24:59.474Z"
   },
   {
    "duration": 11,
    "start_time": "2022-04-06T11:25:08.690Z"
   },
   {
    "duration": 5,
    "start_time": "2022-04-06T11:25:21.586Z"
   },
   {
    "duration": 215,
    "start_time": "2022-04-06T11:25:28.485Z"
   },
   {
    "duration": 32,
    "start_time": "2022-04-06T11:27:19.126Z"
   },
   {
    "duration": 1118,
    "start_time": "2022-04-07T09:15:00.266Z"
   },
   {
    "duration": 28,
    "start_time": "2022-04-07T09:15:01.386Z"
   },
   {
    "duration": 6,
    "start_time": "2022-04-07T09:15:01.416Z"
   },
   {
    "duration": 11,
    "start_time": "2022-04-07T09:15:01.424Z"
   },
   {
    "duration": 8,
    "start_time": "2022-04-07T09:15:01.437Z"
   },
   {
    "duration": 15,
    "start_time": "2022-04-07T09:15:01.446Z"
   },
   {
    "duration": 111,
    "start_time": "2022-04-07T09:15:01.533Z"
   },
   {
    "duration": 12,
    "start_time": "2022-04-07T09:15:01.646Z"
   },
   {
    "duration": 3,
    "start_time": "2022-04-07T09:18:21.298Z"
   },
   {
    "duration": 4,
    "start_time": "2022-04-07T09:18:58.537Z"
   },
   {
    "duration": 89,
    "start_time": "2022-04-07T09:19:10.888Z"
   },
   {
    "duration": 14,
    "start_time": "2022-04-07T09:20:20.579Z"
   },
   {
    "duration": 4,
    "start_time": "2022-04-07T09:25:54.584Z"
   },
   {
    "duration": 4,
    "start_time": "2022-04-07T09:26:53.594Z"
   },
   {
    "duration": 104,
    "start_time": "2022-04-07T09:28:28.760Z"
   },
   {
    "duration": 3,
    "start_time": "2022-04-07T09:29:05.498Z"
   },
   {
    "duration": 8,
    "start_time": "2022-04-07T09:29:57.928Z"
   },
   {
    "duration": 3,
    "start_time": "2022-04-07T09:30:44.631Z"
   },
   {
    "duration": 7,
    "start_time": "2022-04-07T09:30:46.471Z"
   },
   {
    "duration": 8,
    "start_time": "2022-04-07T09:33:40.874Z"
   },
   {
    "duration": 256,
    "start_time": "2022-04-07T09:36:19.959Z"
   },
   {
    "duration": 5,
    "start_time": "2022-04-07T09:36:46.312Z"
   },
   {
    "duration": 5,
    "start_time": "2022-04-07T09:37:05.591Z"
   },
   {
    "duration": 5,
    "start_time": "2022-04-07T09:37:17.590Z"
   },
   {
    "duration": 4,
    "start_time": "2022-04-07T09:38:10.087Z"
   },
   {
    "duration": 2,
    "start_time": "2022-04-07T09:38:33.175Z"
   },
   {
    "duration": 7,
    "start_time": "2022-04-07T09:38:34.742Z"
   },
   {
    "duration": 7,
    "start_time": "2022-04-07T09:40:03.384Z"
   },
   {
    "duration": 240,
    "start_time": "2022-04-07T09:46:52.118Z"
   },
   {
    "duration": 280,
    "start_time": "2022-04-07T09:46:59.350Z"
   },
   {
    "duration": 3,
    "start_time": "2022-04-07T09:49:10.391Z"
   },
   {
    "duration": 36,
    "start_time": "2022-04-07T09:50:05.750Z"
   },
   {
    "duration": 9,
    "start_time": "2022-04-07T09:56:03.702Z"
   },
   {
    "duration": 3,
    "start_time": "2022-04-07T09:56:18.694Z"
   },
   {
    "duration": 3,
    "start_time": "2022-04-07T09:56:42.198Z"
   },
   {
    "duration": 9,
    "start_time": "2022-04-07T09:59:05.845Z"
   },
   {
    "duration": 17,
    "start_time": "2022-04-07T09:59:13.797Z"
   },
   {
    "duration": 11,
    "start_time": "2022-04-07T09:59:52.900Z"
   },
   {
    "duration": 19,
    "start_time": "2022-04-07T10:00:20.373Z"
   },
   {
    "duration": 5,
    "start_time": "2022-04-07T10:00:55.604Z"
   },
   {
    "duration": 12,
    "start_time": "2022-04-07T10:02:39.644Z"
   },
   {
    "duration": 17,
    "start_time": "2022-04-07T10:04:41.194Z"
   },
   {
    "duration": 16,
    "start_time": "2022-04-07T10:05:36.487Z"
   },
   {
    "duration": 18,
    "start_time": "2022-04-07T10:08:10.709Z"
   },
   {
    "duration": 1143,
    "start_time": "2022-04-07T10:08:58.616Z"
   },
   {
    "duration": 41,
    "start_time": "2022-04-07T10:08:59.761Z"
   },
   {
    "duration": 6,
    "start_time": "2022-04-07T10:08:59.804Z"
   },
   {
    "duration": 11,
    "start_time": "2022-04-07T10:08:59.812Z"
   },
   {
    "duration": 5,
    "start_time": "2022-04-07T10:08:59.832Z"
   },
   {
    "duration": 16,
    "start_time": "2022-04-07T10:08:59.838Z"
   },
   {
    "duration": 177,
    "start_time": "2022-04-07T10:08:59.857Z"
   },
   {
    "duration": 14,
    "start_time": "2022-04-07T10:09:00.036Z"
   },
   {
    "duration": 5,
    "start_time": "2022-04-07T10:09:00.052Z"
   },
   {
    "duration": 9,
    "start_time": "2022-04-07T10:09:00.059Z"
   },
   {
    "duration": 73,
    "start_time": "2022-04-07T10:09:00.073Z"
   },
   {
    "duration": 3,
    "start_time": "2022-04-07T10:09:00.233Z"
   },
   {
    "duration": 16,
    "start_time": "2022-04-07T10:09:00.238Z"
   },
   {
    "duration": 191,
    "start_time": "2022-04-07T10:09:00.257Z"
   },
   {
    "duration": 5,
    "start_time": "2022-04-07T10:23:33.303Z"
   },
   {
    "duration": 4,
    "start_time": "2022-04-07T10:23:33.798Z"
   },
   {
    "duration": 97,
    "start_time": "2022-04-07T10:23:34.503Z"
   },
   {
    "duration": 14,
    "start_time": "2022-04-07T10:23:46.457Z"
   },
   {
    "duration": 8,
    "start_time": "2022-04-07T10:24:06.057Z"
   },
   {
    "duration": 10,
    "start_time": "2022-04-07T10:24:24.360Z"
   },
   {
    "duration": 15,
    "start_time": "2022-04-07T10:26:08.537Z"
   },
   {
    "duration": 1114,
    "start_time": "2022-04-07T11:09:20.546Z"
   },
   {
    "duration": 27,
    "start_time": "2022-04-07T11:09:21.662Z"
   },
   {
    "duration": 5,
    "start_time": "2022-04-07T11:09:21.691Z"
   },
   {
    "duration": 9,
    "start_time": "2022-04-07T11:09:21.698Z"
   },
   {
    "duration": 30,
    "start_time": "2022-04-07T11:09:21.708Z"
   },
   {
    "duration": 96,
    "start_time": "2022-04-07T11:09:21.740Z"
   },
   {
    "duration": 96,
    "start_time": "2022-04-07T11:09:21.838Z"
   },
   {
    "duration": 96,
    "start_time": "2022-04-07T11:09:21.937Z"
   },
   {
    "duration": 97,
    "start_time": "2022-04-07T11:09:22.036Z"
   },
   {
    "duration": 1155,
    "start_time": "2022-04-07T12:05:46.196Z"
   },
   {
    "duration": 32,
    "start_time": "2022-04-07T12:05:47.353Z"
   },
   {
    "duration": 6,
    "start_time": "2022-04-07T12:05:47.387Z"
   },
   {
    "duration": 4,
    "start_time": "2022-04-07T12:05:47.396Z"
   },
   {
    "duration": 34,
    "start_time": "2022-04-07T12:05:47.402Z"
   },
   {
    "duration": 6,
    "start_time": "2022-04-07T12:05:47.438Z"
   },
   {
    "duration": 95,
    "start_time": "2022-04-07T12:05:47.446Z"
   },
   {
    "duration": 102,
    "start_time": "2022-04-07T12:05:47.543Z"
   },
   {
    "duration": 186,
    "start_time": "2022-04-07T12:05:47.647Z"
   },
   {
    "duration": 3,
    "start_time": "2022-04-07T12:08:49.403Z"
   },
   {
    "duration": 5,
    "start_time": "2022-04-07T12:09:01.312Z"
   },
   {
    "duration": 5,
    "start_time": "2022-04-07T12:09:22.820Z"
   },
   {
    "duration": 4,
    "start_time": "2022-04-07T12:09:25.416Z"
   },
   {
    "duration": 12,
    "start_time": "2022-04-07T12:09:48.860Z"
   },
   {
    "duration": 9,
    "start_time": "2022-04-07T12:09:51.740Z"
   },
   {
    "duration": 9,
    "start_time": "2022-04-07T12:09:53.624Z"
   },
   {
    "duration": 12,
    "start_time": "2022-04-07T12:09:54.910Z"
   },
   {
    "duration": 16,
    "start_time": "2022-04-07T12:10:02.530Z"
   },
   {
    "duration": 18,
    "start_time": "2022-04-07T12:10:04.562Z"
   },
   {
    "duration": 14,
    "start_time": "2022-04-07T12:10:05.970Z"
   },
   {
    "duration": 14,
    "start_time": "2022-04-07T12:10:07.721Z"
   },
   {
    "duration": 15,
    "start_time": "2022-04-07T12:10:09.297Z"
   },
   {
    "duration": 15,
    "start_time": "2022-04-07T12:10:11.993Z"
   },
   {
    "duration": 4,
    "start_time": "2022-04-07T12:10:25.785Z"
   },
   {
    "duration": 1322,
    "start_time": "2022-04-08T09:43:08.879Z"
   },
   {
    "duration": 30,
    "start_time": "2022-04-08T09:43:11.471Z"
   },
   {
    "duration": 13,
    "start_time": "2022-04-08T09:43:36.733Z"
   },
   {
    "duration": 25,
    "start_time": "2022-04-08T09:44:07.997Z"
   },
   {
    "duration": 104,
    "start_time": "2022-04-08T09:47:31.294Z"
   },
   {
    "duration": 2823,
    "start_time": "2022-04-08T09:47:41.901Z"
   },
   {
    "duration": 4,
    "start_time": "2022-04-08T09:50:00.288Z"
   },
   {
    "duration": 12,
    "start_time": "2022-04-08T09:50:07.165Z"
   },
   {
    "duration": 12,
    "start_time": "2022-04-08T09:50:22.175Z"
   },
   {
    "duration": 24,
    "start_time": "2022-04-08T09:50:40.514Z"
   },
   {
    "duration": 13,
    "start_time": "2022-04-08T09:51:11.069Z"
   },
   {
    "duration": 12,
    "start_time": "2022-04-08T09:51:23.870Z"
   },
   {
    "duration": 15,
    "start_time": "2022-04-08T09:53:06.717Z"
   },
   {
    "duration": 1191,
    "start_time": "2022-04-08T09:53:46.341Z"
   },
   {
    "duration": 31,
    "start_time": "2022-04-08T09:53:47.534Z"
   },
   {
    "duration": 13,
    "start_time": "2022-04-08T09:53:47.567Z"
   },
   {
    "duration": 17,
    "start_time": "2022-04-08T09:53:47.582Z"
   },
   {
    "duration": 35,
    "start_time": "2022-04-08T09:53:47.600Z"
   },
   {
    "duration": 5,
    "start_time": "2022-04-08T09:53:47.637Z"
   },
   {
    "duration": 4,
    "start_time": "2022-04-08T09:53:47.644Z"
   },
   {
    "duration": 86,
    "start_time": "2022-04-08T09:53:47.650Z"
   },
   {
    "duration": 93,
    "start_time": "2022-04-08T09:53:47.739Z"
   },
   {
    "duration": 17,
    "start_time": "2022-04-08T09:53:47.835Z"
   },
   {
    "duration": 179,
    "start_time": "2022-04-08T09:53:47.854Z"
   },
   {
    "duration": 11,
    "start_time": "2022-04-08T09:53:48.035Z"
   },
   {
    "duration": 14,
    "start_time": "2022-04-08T09:54:11.468Z"
   },
   {
    "duration": 19,
    "start_time": "2022-04-08T09:54:22.732Z"
   },
   {
    "duration": 7,
    "start_time": "2022-04-08T09:54:26.923Z"
   },
   {
    "duration": 15,
    "start_time": "2022-04-08T09:54:57.818Z"
   },
   {
    "duration": 11,
    "start_time": "2022-04-08T09:55:49.723Z"
   },
   {
    "duration": 23,
    "start_time": "2022-04-08T09:55:54.427Z"
   },
   {
    "duration": 12,
    "start_time": "2022-04-08T09:55:55.146Z"
   },
   {
    "duration": 12,
    "start_time": "2022-04-08T09:55:57.793Z"
   },
   {
    "duration": 1230,
    "start_time": "2022-04-08T09:56:09.000Z"
   },
   {
    "duration": 30,
    "start_time": "2022-04-08T09:56:10.233Z"
   },
   {
    "duration": 12,
    "start_time": "2022-04-08T09:56:10.265Z"
   },
   {
    "duration": 15,
    "start_time": "2022-04-08T09:56:10.279Z"
   },
   {
    "duration": 35,
    "start_time": "2022-04-08T09:56:10.297Z"
   },
   {
    "duration": 6,
    "start_time": "2022-04-08T09:56:10.334Z"
   },
   {
    "duration": 6,
    "start_time": "2022-04-08T09:56:10.341Z"
   },
   {
    "duration": 86,
    "start_time": "2022-04-08T09:56:10.349Z"
   },
   {
    "duration": 98,
    "start_time": "2022-04-08T09:56:10.438Z"
   },
   {
    "duration": 7,
    "start_time": "2022-04-08T09:56:10.538Z"
   },
   {
    "duration": 99,
    "start_time": "2022-04-08T09:56:10.546Z"
   },
   {
    "duration": 185,
    "start_time": "2022-04-08T09:56:10.648Z"
   },
   {
    "duration": 1590,
    "start_time": "2022-04-09T06:13:02.338Z"
   },
   {
    "duration": 41,
    "start_time": "2022-04-09T06:13:03.931Z"
   },
   {
    "duration": 18,
    "start_time": "2022-04-09T06:13:03.974Z"
   },
   {
    "duration": 18,
    "start_time": "2022-04-09T06:13:03.995Z"
   },
   {
    "duration": 56,
    "start_time": "2022-04-09T06:13:04.015Z"
   },
   {
    "duration": 7,
    "start_time": "2022-04-09T06:13:04.074Z"
   },
   {
    "duration": 7,
    "start_time": "2022-04-09T06:13:04.083Z"
   },
   {
    "duration": 61,
    "start_time": "2022-04-09T06:13:04.092Z"
   },
   {
    "duration": 91,
    "start_time": "2022-04-09T06:13:04.155Z"
   },
   {
    "duration": 6,
    "start_time": "2022-04-09T06:13:04.250Z"
   },
   {
    "duration": 187,
    "start_time": "2022-04-09T06:13:04.259Z"
   },
   {
    "duration": 18,
    "start_time": "2022-04-09T06:13:04.449Z"
   }
  ],
  "kernelspec": {
   "display_name": "Python 3 (ipykernel)",
   "language": "python",
   "name": "python3"
  },
  "language_info": {
   "codemirror_mode": {
    "name": "ipython",
    "version": 3
   },
   "file_extension": ".py",
   "mimetype": "text/x-python",
   "name": "python",
   "nbconvert_exporter": "python",
   "pygments_lexer": "ipython3",
   "version": "3.9.5"
  },
  "toc": {
   "base_numbering": 1,
   "nav_menu": {},
   "number_sections": true,
   "sideBar": true,
   "skip_h1_title": true,
   "title_cell": "Содержание",
   "title_sidebar": "Contents",
   "toc_cell": true,
   "toc_position": {
    "height": "calc(100% - 180px)",
    "left": "10px",
    "top": "150px",
    "width": "245px"
   },
   "toc_section_display": true,
   "toc_window_display": true
  }
 },
 "nbformat": 4,
 "nbformat_minor": 2
}
