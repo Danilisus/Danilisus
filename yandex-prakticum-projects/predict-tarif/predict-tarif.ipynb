{
 "cells": [
  {
   "cell_type": "markdown",
   "metadata": {},
   "source": [
    "# Рекомендация тарифов"
   ]
  },
  {
   "cell_type": "markdown",
   "metadata": {},
   "source": [
    "В нашем распоряжении данные о поведении клиентов, которые уже перешли на тарифы (из проекта курса «Статистический анализ данных»). Нужно построить модель для задачи классификации, которая выберет подходящий тариф. Предобработка данных не понадобится — её уже сделали.\n",
    "\n",
    "Постройте модель с максимально большим значением *accuracy*. Нужно довести долю правильных ответов по крайней мере до 0.75."
   ]
  },
  {
   "cell_type": "markdown",
   "metadata": {},
   "source": [
    "**План**\n",
    "1. Изучение предоставленного файла.\n",
    "2. Разделение исходного файла на обучающую, валидационную, тестовую выборки.\n",
    "3. Исследование качества разных моделей, меняя гиперпараметры.\n",
    "4. Проверка качества моделей на тестовой сборке.\n",
    "5. Проверка модели на вменяемость."
   ]
  },
  {
   "cell_type": "markdown",
   "metadata": {},
   "source": [
    "## Откроем и изучим файл"
   ]
  },
  {
   "cell_type": "code",
   "execution_count": 12,
   "metadata": {},
   "outputs": [],
   "source": [
    "import pandas as pd\n",
    "from sklearn.model_selection import train_test_split\n",
    "from sklearn.tree import DecisionTreeClassifier\n",
    "from sklearn.ensemble import RandomForestClassifier\n",
    "from sklearn.linear_model import LogisticRegression\n",
    "from sklearn.dummy import DummyClassifier\n",
    "\n",
    "from sklearn.metrics import mean_squared_error\n",
    "from sklearn.metrics import accuracy_score\n",
    "\n",
    "import matplotlib.pyplot as plt\n",
    "import matplotlib.ticker as ticker\n",
    "\n",
    "from scipy import stats as st\n",
    "import numpy as np"
   ]
  },
  {
   "cell_type": "code",
   "execution_count": 13,
   "metadata": {},
   "outputs": [
    {
     "name": "stdout",
     "output_type": "stream",
     "text": [
      "<class 'pandas.core.frame.DataFrame'>\n",
      "RangeIndex: 3214 entries, 0 to 3213\n",
      "Data columns (total 5 columns):\n",
      " #   Column    Non-Null Count  Dtype  \n",
      "---  ------    --------------  -----  \n",
      " 0   calls     3214 non-null   int64  \n",
      " 1   minutes   3214 non-null   float64\n",
      " 2   messages  3214 non-null   int64  \n",
      " 3   mb_used   3214 non-null   float64\n",
      " 4   is_ultra  3214 non-null   int64  \n",
      "dtypes: float64(2), int64(3)\n",
      "memory usage: 125.7 KB\n"
     ]
    },
    {
     "data": {
      "text/html": [
       "<div>\n",
       "<style scoped>\n",
       "    .dataframe tbody tr th:only-of-type {\n",
       "        vertical-align: middle;\n",
       "    }\n",
       "\n",
       "    .dataframe tbody tr th {\n",
       "        vertical-align: top;\n",
       "    }\n",
       "\n",
       "    .dataframe thead th {\n",
       "        text-align: right;\n",
       "    }\n",
       "</style>\n",
       "<table border=\"1\" class=\"dataframe\">\n",
       "  <thead>\n",
       "    <tr style=\"text-align: right;\">\n",
       "      <th></th>\n",
       "      <th>calls</th>\n",
       "      <th>minutes</th>\n",
       "      <th>messages</th>\n",
       "      <th>mb_used</th>\n",
       "      <th>is_ultra</th>\n",
       "    </tr>\n",
       "  </thead>\n",
       "  <tbody>\n",
       "    <tr>\n",
       "      <th>0</th>\n",
       "      <td>40</td>\n",
       "      <td>311.90</td>\n",
       "      <td>83</td>\n",
       "      <td>19915.42</td>\n",
       "      <td>0</td>\n",
       "    </tr>\n",
       "    <tr>\n",
       "      <th>1</th>\n",
       "      <td>85</td>\n",
       "      <td>516.75</td>\n",
       "      <td>56</td>\n",
       "      <td>22696.96</td>\n",
       "      <td>0</td>\n",
       "    </tr>\n",
       "    <tr>\n",
       "      <th>2</th>\n",
       "      <td>77</td>\n",
       "      <td>467.66</td>\n",
       "      <td>86</td>\n",
       "      <td>21060.45</td>\n",
       "      <td>0</td>\n",
       "    </tr>\n",
       "    <tr>\n",
       "      <th>3</th>\n",
       "      <td>106</td>\n",
       "      <td>745.53</td>\n",
       "      <td>81</td>\n",
       "      <td>8437.39</td>\n",
       "      <td>1</td>\n",
       "    </tr>\n",
       "    <tr>\n",
       "      <th>4</th>\n",
       "      <td>66</td>\n",
       "      <td>418.74</td>\n",
       "      <td>1</td>\n",
       "      <td>14502.75</td>\n",
       "      <td>0</td>\n",
       "    </tr>\n",
       "    <tr>\n",
       "      <th>...</th>\n",
       "      <td>...</td>\n",
       "      <td>...</td>\n",
       "      <td>...</td>\n",
       "      <td>...</td>\n",
       "      <td>...</td>\n",
       "    </tr>\n",
       "    <tr>\n",
       "      <th>3209</th>\n",
       "      <td>122</td>\n",
       "      <td>910.98</td>\n",
       "      <td>20</td>\n",
       "      <td>35124.90</td>\n",
       "      <td>1</td>\n",
       "    </tr>\n",
       "    <tr>\n",
       "      <th>3210</th>\n",
       "      <td>25</td>\n",
       "      <td>190.36</td>\n",
       "      <td>0</td>\n",
       "      <td>3275.61</td>\n",
       "      <td>0</td>\n",
       "    </tr>\n",
       "    <tr>\n",
       "      <th>3211</th>\n",
       "      <td>97</td>\n",
       "      <td>634.44</td>\n",
       "      <td>70</td>\n",
       "      <td>13974.06</td>\n",
       "      <td>0</td>\n",
       "    </tr>\n",
       "    <tr>\n",
       "      <th>3212</th>\n",
       "      <td>64</td>\n",
       "      <td>462.32</td>\n",
       "      <td>90</td>\n",
       "      <td>31239.78</td>\n",
       "      <td>0</td>\n",
       "    </tr>\n",
       "    <tr>\n",
       "      <th>3213</th>\n",
       "      <td>80</td>\n",
       "      <td>566.09</td>\n",
       "      <td>6</td>\n",
       "      <td>29480.52</td>\n",
       "      <td>1</td>\n",
       "    </tr>\n",
       "  </tbody>\n",
       "</table>\n",
       "<p>3214 rows × 5 columns</p>\n",
       "</div>"
      ],
      "text/plain": [
       "      calls  minutes  messages   mb_used  is_ultra\n",
       "0        40   311.90        83  19915.42         0\n",
       "1        85   516.75        56  22696.96         0\n",
       "2        77   467.66        86  21060.45         0\n",
       "3       106   745.53        81   8437.39         1\n",
       "4        66   418.74         1  14502.75         0\n",
       "...     ...      ...       ...       ...       ...\n",
       "3209    122   910.98        20  35124.90         1\n",
       "3210     25   190.36         0   3275.61         0\n",
       "3211     97   634.44        70  13974.06         0\n",
       "3212     64   462.32        90  31239.78         0\n",
       "3213     80   566.09         6  29480.52         1\n",
       "\n",
       "[3214 rows x 5 columns]"
      ]
     },
     "metadata": {},
     "output_type": "display_data"
    }
   ],
   "source": [
    "df = pd.read_csv('/datasets/users_behavior.csv', dtype={'calls':np.int64, 'messages':np.int64})\n",
    "df.info()\n",
    "display(df)"
   ]
  },
  {
   "cell_type": "markdown",
   "metadata": {},
   "source": [
    "**Вывод**\n",
    "\n",
    "Действительно, в файле нет пропусков, заголовки столбцов в змеином регистре. Данные выглядят приемлемо для построения модели машинного обучения."
   ]
  },
  {
   "cell_type": "markdown",
   "metadata": {},
   "source": [
    "## Разобьем данные на выборки"
   ]
  },
  {
   "cell_type": "markdown",
   "metadata": {},
   "source": [
    "Из предоставленного датасета выделим целевой признак - клиент находится на тарифе \"Ультра\" или нет.\n",
    "\n",
    "Так как у нас нет тестовой выборки, разобъем нашу на три части: обучающую - 60%, валидационную - 20%, тестовую - 20%."
   ]
  },
  {
   "cell_type": "code",
   "execution_count": 14,
   "metadata": {},
   "outputs": [],
   "source": [
    "features = df.drop('is_ultra', axis=1)\n",
    "target = df['is_ultra']"
   ]
  },
  {
   "cell_type": "code",
   "execution_count": 15,
   "metadata": {
    "scrolled": true
   },
   "outputs": [
    {
     "data": {
      "text/plain": [
       "'features_train'"
      ]
     },
     "metadata": {},
     "output_type": "display_data"
    },
    {
     "data": {
      "text/html": [
       "<div>\n",
       "<style scoped>\n",
       "    .dataframe tbody tr th:only-of-type {\n",
       "        vertical-align: middle;\n",
       "    }\n",
       "\n",
       "    .dataframe tbody tr th {\n",
       "        vertical-align: top;\n",
       "    }\n",
       "\n",
       "    .dataframe thead th {\n",
       "        text-align: right;\n",
       "    }\n",
       "</style>\n",
       "<table border=\"1\" class=\"dataframe\">\n",
       "  <thead>\n",
       "    <tr style=\"text-align: right;\">\n",
       "      <th></th>\n",
       "      <th>calls</th>\n",
       "      <th>minutes</th>\n",
       "      <th>messages</th>\n",
       "      <th>mb_used</th>\n",
       "    </tr>\n",
       "  </thead>\n",
       "  <tbody>\n",
       "    <tr>\n",
       "      <th>2388</th>\n",
       "      <td>3</td>\n",
       "      <td>35.47</td>\n",
       "      <td>62</td>\n",
       "      <td>11774.26</td>\n",
       "    </tr>\n",
       "    <tr>\n",
       "      <th>1777</th>\n",
       "      <td>58</td>\n",
       "      <td>325.83</td>\n",
       "      <td>48</td>\n",
       "      <td>15144.70</td>\n",
       "    </tr>\n",
       "    <tr>\n",
       "      <th>472</th>\n",
       "      <td>99</td>\n",
       "      <td>710.20</td>\n",
       "      <td>64</td>\n",
       "      <td>23674.04</td>\n",
       "    </tr>\n",
       "    <tr>\n",
       "      <th>3201</th>\n",
       "      <td>56</td>\n",
       "      <td>419.42</td>\n",
       "      <td>59</td>\n",
       "      <td>5177.62</td>\n",
       "    </tr>\n",
       "    <tr>\n",
       "      <th>1846</th>\n",
       "      <td>25</td>\n",
       "      <td>141.99</td>\n",
       "      <td>84</td>\n",
       "      <td>16150.12</td>\n",
       "    </tr>\n",
       "    <tr>\n",
       "      <th>...</th>\n",
       "      <td>...</td>\n",
       "      <td>...</td>\n",
       "      <td>...</td>\n",
       "      <td>...</td>\n",
       "    </tr>\n",
       "    <tr>\n",
       "      <th>1043</th>\n",
       "      <td>106</td>\n",
       "      <td>796.79</td>\n",
       "      <td>23</td>\n",
       "      <td>42250.70</td>\n",
       "    </tr>\n",
       "    <tr>\n",
       "      <th>2132</th>\n",
       "      <td>18</td>\n",
       "      <td>117.80</td>\n",
       "      <td>0</td>\n",
       "      <td>10006.79</td>\n",
       "    </tr>\n",
       "    <tr>\n",
       "      <th>1642</th>\n",
       "      <td>87</td>\n",
       "      <td>583.02</td>\n",
       "      <td>1</td>\n",
       "      <td>11213.97</td>\n",
       "    </tr>\n",
       "    <tr>\n",
       "      <th>1495</th>\n",
       "      <td>63</td>\n",
       "      <td>408.68</td>\n",
       "      <td>63</td>\n",
       "      <td>24970.26</td>\n",
       "    </tr>\n",
       "    <tr>\n",
       "      <th>510</th>\n",
       "      <td>83</td>\n",
       "      <td>597.83</td>\n",
       "      <td>0</td>\n",
       "      <td>16273.02</td>\n",
       "    </tr>\n",
       "  </tbody>\n",
       "</table>\n",
       "<p>2056 rows × 4 columns</p>\n",
       "</div>"
      ],
      "text/plain": [
       "      calls  minutes  messages   mb_used\n",
       "2388      3    35.47        62  11774.26\n",
       "1777     58   325.83        48  15144.70\n",
       "472      99   710.20        64  23674.04\n",
       "3201     56   419.42        59   5177.62\n",
       "1846     25   141.99        84  16150.12\n",
       "...     ...      ...       ...       ...\n",
       "1043    106   796.79        23  42250.70\n",
       "2132     18   117.80         0  10006.79\n",
       "1642     87   583.02         1  11213.97\n",
       "1495     63   408.68        63  24970.26\n",
       "510      83   597.83         0  16273.02\n",
       "\n",
       "[2056 rows x 4 columns]"
      ]
     },
     "metadata": {},
     "output_type": "display_data"
    },
    {
     "data": {
      "text/plain": [
       "'features_test'"
      ]
     },
     "metadata": {},
     "output_type": "display_data"
    },
    {
     "data": {
      "text/html": [
       "<div>\n",
       "<style scoped>\n",
       "    .dataframe tbody tr th:only-of-type {\n",
       "        vertical-align: middle;\n",
       "    }\n",
       "\n",
       "    .dataframe tbody tr th {\n",
       "        vertical-align: top;\n",
       "    }\n",
       "\n",
       "    .dataframe thead th {\n",
       "        text-align: right;\n",
       "    }\n",
       "</style>\n",
       "<table border=\"1\" class=\"dataframe\">\n",
       "  <thead>\n",
       "    <tr style=\"text-align: right;\">\n",
       "      <th></th>\n",
       "      <th>calls</th>\n",
       "      <th>minutes</th>\n",
       "      <th>messages</th>\n",
       "      <th>mb_used</th>\n",
       "    </tr>\n",
       "  </thead>\n",
       "  <tbody>\n",
       "    <tr>\n",
       "      <th>2699</th>\n",
       "      <td>71</td>\n",
       "      <td>512.53</td>\n",
       "      <td>27</td>\n",
       "      <td>15772.68</td>\n",
       "    </tr>\n",
       "    <tr>\n",
       "      <th>242</th>\n",
       "      <td>183</td>\n",
       "      <td>1247.04</td>\n",
       "      <td>150</td>\n",
       "      <td>29186.41</td>\n",
       "    </tr>\n",
       "    <tr>\n",
       "      <th>2854</th>\n",
       "      <td>34</td>\n",
       "      <td>246.06</td>\n",
       "      <td>31</td>\n",
       "      <td>8448.76</td>\n",
       "    </tr>\n",
       "    <tr>\n",
       "      <th>1638</th>\n",
       "      <td>63</td>\n",
       "      <td>468.66</td>\n",
       "      <td>0</td>\n",
       "      <td>11794.34</td>\n",
       "    </tr>\n",
       "    <tr>\n",
       "      <th>1632</th>\n",
       "      <td>4</td>\n",
       "      <td>19.85</td>\n",
       "      <td>28</td>\n",
       "      <td>13107.42</td>\n",
       "    </tr>\n",
       "    <tr>\n",
       "      <th>...</th>\n",
       "      <td>...</td>\n",
       "      <td>...</td>\n",
       "      <td>...</td>\n",
       "      <td>...</td>\n",
       "    </tr>\n",
       "    <tr>\n",
       "      <th>1735</th>\n",
       "      <td>39</td>\n",
       "      <td>274.85</td>\n",
       "      <td>72</td>\n",
       "      <td>18436.72</td>\n",
       "    </tr>\n",
       "    <tr>\n",
       "      <th>1916</th>\n",
       "      <td>51</td>\n",
       "      <td>427.07</td>\n",
       "      <td>63</td>\n",
       "      <td>13108.17</td>\n",
       "    </tr>\n",
       "    <tr>\n",
       "      <th>496</th>\n",
       "      <td>96</td>\n",
       "      <td>597.80</td>\n",
       "      <td>45</td>\n",
       "      <td>13214.80</td>\n",
       "    </tr>\n",
       "    <tr>\n",
       "      <th>1037</th>\n",
       "      <td>56</td>\n",
       "      <td>357.36</td>\n",
       "      <td>0</td>\n",
       "      <td>12965.49</td>\n",
       "    </tr>\n",
       "    <tr>\n",
       "      <th>773</th>\n",
       "      <td>94</td>\n",
       "      <td>707.37</td>\n",
       "      <td>19</td>\n",
       "      <td>14491.72</td>\n",
       "    </tr>\n",
       "  </tbody>\n",
       "</table>\n",
       "<p>515 rows × 4 columns</p>\n",
       "</div>"
      ],
      "text/plain": [
       "      calls  minutes  messages   mb_used\n",
       "2699     71   512.53        27  15772.68\n",
       "242     183  1247.04       150  29186.41\n",
       "2854     34   246.06        31   8448.76\n",
       "1638     63   468.66         0  11794.34\n",
       "1632      4    19.85        28  13107.42\n",
       "...     ...      ...       ...       ...\n",
       "1735     39   274.85        72  18436.72\n",
       "1916     51   427.07        63  13108.17\n",
       "496      96   597.80        45  13214.80\n",
       "1037     56   357.36         0  12965.49\n",
       "773      94   707.37        19  14491.72\n",
       "\n",
       "[515 rows x 4 columns]"
      ]
     },
     "metadata": {},
     "output_type": "display_data"
    },
    {
     "data": {
      "text/plain": [
       "'target_train'"
      ]
     },
     "metadata": {},
     "output_type": "display_data"
    },
    {
     "data": {
      "text/plain": [
       "2388    1\n",
       "1777    0\n",
       "472     0\n",
       "3201    1\n",
       "1846    1\n",
       "       ..\n",
       "1043    1\n",
       "2132    1\n",
       "1642    0\n",
       "1495    0\n",
       "510     0\n",
       "Name: is_ultra, Length: 2056, dtype: int64"
      ]
     },
     "metadata": {},
     "output_type": "display_data"
    },
    {
     "data": {
      "text/plain": [
       "'target_test'"
      ]
     },
     "metadata": {},
     "output_type": "display_data"
    },
    {
     "data": {
      "text/plain": [
       "2699    0\n",
       "242     1\n",
       "2854    0\n",
       "1638    0\n",
       "1632    0\n",
       "       ..\n",
       "1735    0\n",
       "1916    0\n",
       "496     0\n",
       "1037    0\n",
       "773     1\n",
       "Name: is_ultra, Length: 515, dtype: int64"
      ]
     },
     "metadata": {},
     "output_type": "display_data"
    },
    {
     "data": {
      "text/plain": [
       "'features_valid'"
      ]
     },
     "metadata": {},
     "output_type": "display_data"
    },
    {
     "data": {
      "text/html": [
       "<div>\n",
       "<style scoped>\n",
       "    .dataframe tbody tr th:only-of-type {\n",
       "        vertical-align: middle;\n",
       "    }\n",
       "\n",
       "    .dataframe tbody tr th {\n",
       "        vertical-align: top;\n",
       "    }\n",
       "\n",
       "    .dataframe thead th {\n",
       "        text-align: right;\n",
       "    }\n",
       "</style>\n",
       "<table border=\"1\" class=\"dataframe\">\n",
       "  <thead>\n",
       "    <tr style=\"text-align: right;\">\n",
       "      <th></th>\n",
       "      <th>calls</th>\n",
       "      <th>minutes</th>\n",
       "      <th>messages</th>\n",
       "      <th>mb_used</th>\n",
       "    </tr>\n",
       "  </thead>\n",
       "  <tbody>\n",
       "    <tr>\n",
       "      <th>1415</th>\n",
       "      <td>82</td>\n",
       "      <td>507.89</td>\n",
       "      <td>88</td>\n",
       "      <td>17543.37</td>\n",
       "    </tr>\n",
       "    <tr>\n",
       "      <th>916</th>\n",
       "      <td>50</td>\n",
       "      <td>375.91</td>\n",
       "      <td>35</td>\n",
       "      <td>12388.40</td>\n",
       "    </tr>\n",
       "    <tr>\n",
       "      <th>1670</th>\n",
       "      <td>83</td>\n",
       "      <td>540.49</td>\n",
       "      <td>41</td>\n",
       "      <td>9127.74</td>\n",
       "    </tr>\n",
       "    <tr>\n",
       "      <th>686</th>\n",
       "      <td>79</td>\n",
       "      <td>562.99</td>\n",
       "      <td>19</td>\n",
       "      <td>25508.19</td>\n",
       "    </tr>\n",
       "    <tr>\n",
       "      <th>2951</th>\n",
       "      <td>78</td>\n",
       "      <td>531.29</td>\n",
       "      <td>20</td>\n",
       "      <td>9217.25</td>\n",
       "    </tr>\n",
       "    <tr>\n",
       "      <th>...</th>\n",
       "      <td>...</td>\n",
       "      <td>...</td>\n",
       "      <td>...</td>\n",
       "      <td>...</td>\n",
       "    </tr>\n",
       "    <tr>\n",
       "      <th>2061</th>\n",
       "      <td>66</td>\n",
       "      <td>478.48</td>\n",
       "      <td>0</td>\n",
       "      <td>16962.58</td>\n",
       "    </tr>\n",
       "    <tr>\n",
       "      <th>1510</th>\n",
       "      <td>40</td>\n",
       "      <td>334.24</td>\n",
       "      <td>91</td>\n",
       "      <td>11304.14</td>\n",
       "    </tr>\n",
       "    <tr>\n",
       "      <th>2215</th>\n",
       "      <td>62</td>\n",
       "      <td>436.68</td>\n",
       "      <td>52</td>\n",
       "      <td>12311.24</td>\n",
       "    </tr>\n",
       "    <tr>\n",
       "      <th>664</th>\n",
       "      <td>117</td>\n",
       "      <td>739.27</td>\n",
       "      <td>124</td>\n",
       "      <td>22818.56</td>\n",
       "    </tr>\n",
       "    <tr>\n",
       "      <th>1196</th>\n",
       "      <td>66</td>\n",
       "      <td>461.84</td>\n",
       "      <td>85</td>\n",
       "      <td>14264.14</td>\n",
       "    </tr>\n",
       "  </tbody>\n",
       "</table>\n",
       "<p>643 rows × 4 columns</p>\n",
       "</div>"
      ],
      "text/plain": [
       "      calls  minutes  messages   mb_used\n",
       "1415     82   507.89        88  17543.37\n",
       "916      50   375.91        35  12388.40\n",
       "1670     83   540.49        41   9127.74\n",
       "686      79   562.99        19  25508.19\n",
       "2951     78   531.29        20   9217.25\n",
       "...     ...      ...       ...       ...\n",
       "2061     66   478.48         0  16962.58\n",
       "1510     40   334.24        91  11304.14\n",
       "2215     62   436.68        52  12311.24\n",
       "664     117   739.27       124  22818.56\n",
       "1196     66   461.84        85  14264.14\n",
       "\n",
       "[643 rows x 4 columns]"
      ]
     },
     "metadata": {},
     "output_type": "display_data"
    },
    {
     "data": {
      "text/plain": [
       "'target_valid'"
      ]
     },
     "metadata": {},
     "output_type": "display_data"
    },
    {
     "data": {
      "text/plain": [
       "1415    1\n",
       "916     0\n",
       "1670    0\n",
       "686     1\n",
       "2951    0\n",
       "       ..\n",
       "2061    0\n",
       "1510    0\n",
       "2215    0\n",
       "664     1\n",
       "1196    0\n",
       "Name: is_ultra, Length: 643, dtype: int64"
      ]
     },
     "metadata": {},
     "output_type": "display_data"
    }
   ],
   "source": [
    "features_train, features_valid, target_train, target_valid = train_test_split(\n",
    "    features, target, test_size=0.2, random_state=12345)\n",
    "\n",
    "features_train, features_test, target_train, target_test = train_test_split(\n",
    "    features_train, target_train, test_size=0.2, random_state=12345)\n",
    "display('features_train', features_train)\n",
    "display('features_test', features_test)\n",
    "display('target_train', target_train)\n",
    "display('target_test', target_test)\n",
    "display('features_valid', features_valid)\n",
    "display('target_valid', target_valid)"
   ]
  },
  {
   "cell_type": "markdown",
   "metadata": {},
   "source": [
    "## Исследование моделей"
   ]
  },
  {
   "cell_type": "markdown",
   "metadata": {},
   "source": [
    "В нашем исследовании попробуем обучить решающее дерево, случайный лес и логистическую регрессию. "
   ]
  },
  {
   "cell_type": "markdown",
   "metadata": {},
   "source": [
    "Первым на очереди решающее дерево. Так как в задании определен порог accuracy в 0,75, попробуем циклами перебирать разные значения для гиперпараметров и возьмем лучшее из них в финальную модель. Ограничим себя треми гиперпараметрами: максимальной глубиной дерева - `max_depth`, минимальное количество листьев для разделения внутреннего узла - `min_samples_split`, минимальное количество листьев для конечного узла - `min_samples_leaf`. Пробовал во время эксперимента менять `criterion` на `entropy`, accuracy оказалось на 5% ниже чем с `gini`."
   ]
  },
  {
   "cell_type": "code",
   "execution_count": 16,
   "metadata": {},
   "outputs": [
    {
     "data": {
      "text/plain": [
       "'Accuracy до изменения гиперпараметров: 0.731'"
      ]
     },
     "metadata": {},
     "output_type": "display_data"
    },
    {
     "data": {
      "text/plain": [
       "'Accuracy наилучшей модели на валидационной выборке: 0.798'"
      ]
     },
     "metadata": {},
     "output_type": "display_data"
    }
   ],
   "source": [
    "best_model = None\n",
    "best_result = 0\n",
    "best_depth = 0\n",
    "\n",
    "model = DecisionTreeClassifier(random_state=12345).fit(features_train, target_train)\n",
    "result = model.score(features_valid, target_valid)\n",
    "display(f\"Accuracy до изменения гиперпараметров: {result:.3f}\")\n",
    "\n",
    "for depth in range(1, 10):\n",
    "    model = DecisionTreeClassifier(\n",
    "        random_state=12345, \n",
    "        max_depth=depth\n",
    "    ).fit(features_train, target_train)\n",
    "    \n",
    "    result = model.score(features_valid, target_valid) # найдем качество модели на валидационной выборке\n",
    "    if result > best_result:\n",
    "        best_model = model # сохраним наилучшую модель\n",
    "        best_result = result #  сохраним наилучшее значение метрики accuracy на валидационных данных\n",
    "        best_depth = depth\n",
    "        \n",
    "for min_samples_split in range(2, 10):\n",
    "    model = DecisionTreeClassifier(\n",
    "        random_state=12345, \n",
    "        max_depth=best_depth,\n",
    "        min_samples_split=min_samples_split\n",
    "    ).fit(features_train, target_train)\n",
    "     \n",
    "    result = model.score(features_valid, target_valid)\n",
    "    if result > best_result:\n",
    "        best_model = model\n",
    "        best_result = result\n",
    "        best_min_samples_split = min_samples_split        \n",
    "\n",
    "for min_samples_leaf in range(1, 30):\n",
    "    model = DecisionTreeClassifier(\n",
    "        random_state=12345, \n",
    "        max_depth=best_depth,\n",
    "        min_samples_split=best_min_samples_split,\n",
    "        min_samples_leaf=min_samples_leaf\n",
    "    ).fit(features_train, target_train)\n",
    "    \n",
    "    result = model.score(features_valid, target_valid)\n",
    "    if result > best_result:\n",
    "        best_model = model\n",
    "        best_result = result\n",
    "        best_min_samples_leaf = min_samples_leaf          \n",
    "\n",
    "model_tree = best_model        \n",
    "display(f\"Accuracy наилучшей модели на валидационной выборке: {best_result:.3f}\")"
   ]
  },
  {
   "cell_type": "markdown",
   "metadata": {},
   "source": [
    "**Вывод**\n",
    "\n",
    "После изменения гиперпараметров удалось увеличить accuracy с 0,73 до 0,798. Оставим модель такой и рассморим другие типы."
   ]
  },
  {
   "cell_type": "markdown",
   "metadata": {},
   "source": [
    "Вторым, рассотрим случайный лес. Здесь, как и в предыдущем попробуем изменить три гиперпараметра:\n",
    "* `n_estimators` - количество деревьев в нашем лесу;\n",
    "* `max_depth` - максимальная глубина дерева;\n",
    "* `min_samples_leaf` - минимальное количество листьев для конечного узла"
   ]
  },
  {
   "cell_type": "code",
   "execution_count": 17,
   "metadata": {},
   "outputs": [
    {
     "data": {
      "text/plain": [
       "'Accuracy до изменения гиперпараметров: 0.788'"
      ]
     },
     "metadata": {},
     "output_type": "display_data"
    },
    {
     "data": {
      "text/plain": [
       "'Accuracy наилучшей модели на валидационной выборке: 0.801'"
      ]
     },
     "metadata": {},
     "output_type": "display_data"
    }
   ],
   "source": [
    "best_model = None\n",
    "best_result = 0\n",
    "\n",
    "# Так как в версии 0.22 изменили стандартные настройки \n",
    "# n_estimators на 100, примем это значение.\n",
    "model = RandomForestClassifier(random_state=12345, n_estimators=100).fit(features_train, target_train)\n",
    "result = model.score(features_valid, target_valid)\n",
    "display(f\"Accuracy до изменения гиперпараметров: {result:.3f}\")\n",
    "\n",
    "for est in range(1, 150):\n",
    "    model = RandomForestClassifier(random_state=12345, n_estimators=est) # обучите модель с заданным количеством деревьев\n",
    "    model.fit(features_train, target_train) # обучите модель на тренировочной выборке\n",
    "    result = model.score(features_valid, target_valid) # посчитайте качество модели на валидационной выборке\n",
    "    if result > best_result:\n",
    "        best_model = model # сохраните наилучшую модель\n",
    "        best_result = result #  сохраните наилучшее значение метрики accuracy на валидационных данных\n",
    "        best_est=est\n",
    "        \n",
    "for depth in range(1, 10):\n",
    "    model = RandomForestClassifier(\n",
    "        random_state=12345, \n",
    "        n_estimators=best_est,\n",
    "        max_depth=depth,\n",
    "    ) # обучите модель с заданным количеством деревьев\n",
    "    model.fit(features_train, target_train) # обучите модель на тренировочной выборке\n",
    "    result = model.score(features_valid, target_valid) # посчитайте качество модели на валидационной выборке\n",
    "    if result > best_result:\n",
    "        best_model = model # сохраните наилучшую модель\n",
    "        best_result = result #  сохраните наилучшее значение метрики accuracy на валидационных данных\n",
    "        best_depth=depth\n",
    "\n",
    "for samples_leaf in range(1, 10):\n",
    "    model = RandomForestClassifier(\n",
    "        random_state=12345, \n",
    "        n_estimators=best_est,\n",
    "        max_depth=best_depth,\n",
    "        min_samples_leaf=samples_leaf\n",
    "    ) # обучите модель с заданным количеством деревьев\n",
    "    model.fit(features_train, target_train) # обучите модель на тренировочной выборке\n",
    "    result = model.score(features_valid, target_valid) # посчитайте качество модели на валидационной выборке\n",
    "    if result > best_result:\n",
    "        best_model = model # сохраните наилучшую модель\n",
    "        best_result = result #  сохраните наилучшее значение метрики accuracy на валидационных данных\n",
    "        best_min_samples_leaf=samples_leaf      \n",
    "\n",
    "model_forest = best_model        \n",
    "display(f\"Accuracy наилучшей модели на валидационной выборке: {best_result:.3f}\")"
   ]
  },
  {
   "cell_type": "markdown",
   "metadata": {},
   "source": [
    "**Вывод**\n",
    "\n",
    "Случайный лес - один из самых точных моделей, что и показывает наш эксперимент - точность модели до изменения гиперпараметров почти 0,79, как у настроенного решающего дерева. Увеличение точности после настройки на 2% - не так много, как в предыдушей модели, но в данный момент - это самая точная модель. Посмотрим что нам даст логистическая регрессия."
   ]
  },
  {
   "cell_type": "code",
   "execution_count": 18,
   "metadata": {},
   "outputs": [
    {
     "data": {
      "text/plain": [
       "'Accuracy модели логистической регрессии на валидационной выборке: 0.760'"
      ]
     },
     "metadata": {},
     "output_type": "display_data"
    }
   ],
   "source": [
    "model_logistic = LogisticRegression(random_state=12345, solver='lbfgs')\n",
    "model_logistic.fit(features_train, target_train)\n",
    "result = model_logistic.score(features_valid, target_valid)\n",
    "\n",
    "display(f\"Accuracy модели логистической регрессии на валидационной выборке: {result:.3f}\")"
   ]
  },
  {
   "cell_type": "markdown",
   "metadata": {},
   "source": [
    "**Вывод**"
   ]
  },
  {
   "cell_type": "markdown",
   "metadata": {},
   "source": [
    "Так как обычно модель на основе логистической регресси не отличается большой точностью, то оставим ее без настройки. Посмотрим что покажут все три модели в тесте."
   ]
  },
  {
   "cell_type": "markdown",
   "metadata": {},
   "source": [
    "## Проверьте модель на тестовой выборке"
   ]
  },
  {
   "cell_type": "markdown",
   "metadata": {},
   "source": [
    "Сведем accuracy в один датафрейм, столбцы будут соответствовать выборкам: тренировочной, валидационной и тестовой, а строки - моделям. После этого посроим график зависимости точности модели от типа и выборки."
   ]
  },
  {
   "cell_type": "code",
   "execution_count": 19,
   "metadata": {
    "scrolled": false
   },
   "outputs": [
    {
     "data": {
      "text/html": [
       "<div>\n",
       "<style scoped>\n",
       "    .dataframe tbody tr th:only-of-type {\n",
       "        vertical-align: middle;\n",
       "    }\n",
       "\n",
       "    .dataframe tbody tr th {\n",
       "        vertical-align: top;\n",
       "    }\n",
       "\n",
       "    .dataframe thead th {\n",
       "        text-align: right;\n",
       "    }\n",
       "</style>\n",
       "<table border=\"1\" class=\"dataframe\">\n",
       "  <thead>\n",
       "    <tr style=\"text-align: right;\">\n",
       "      <th></th>\n",
       "      <th>train</th>\n",
       "      <th>valid</th>\n",
       "      <th>test</th>\n",
       "    </tr>\n",
       "  </thead>\n",
       "  <tbody>\n",
       "    <tr>\n",
       "      <th>tree</th>\n",
       "      <td>0.834630</td>\n",
       "      <td>0.797823</td>\n",
       "      <td>0.765049</td>\n",
       "    </tr>\n",
       "    <tr>\n",
       "      <th>forest</th>\n",
       "      <td>0.862840</td>\n",
       "      <td>0.800933</td>\n",
       "      <td>0.778641</td>\n",
       "    </tr>\n",
       "    <tr>\n",
       "      <th>logistic</th>\n",
       "      <td>0.753891</td>\n",
       "      <td>0.760498</td>\n",
       "      <td>0.716505</td>\n",
       "    </tr>\n",
       "  </tbody>\n",
       "</table>\n",
       "</div>"
      ],
      "text/plain": [
       "             train     valid      test\n",
       "tree      0.834630  0.797823  0.765049\n",
       "forest    0.862840  0.800933  0.778641\n",
       "logistic  0.753891  0.760498  0.716505"
      ]
     },
     "metadata": {},
     "output_type": "display_data"
    },
    {
     "data": {
      "image/png": "[encoded data removed]",
      "text/plain": [
       "<Figure size 1080x432 with 1 Axes>"
      ]
     },
     "metadata": {
      "needs_background": "light"
     },
     "output_type": "display_data"
    }
   ],
   "source": [
    "index = ['tree', 'forest', 'logistic']\n",
    "data = {'train':[],\n",
    "        'valid':[],\n",
    "        'test':[]}\n",
    "for i,j in data.items():\n",
    "    if i == 'train':\n",
    "        j.append(model_tree.score(features_train, target_train))\n",
    "        j.append(model_forest.score(features_train, target_train))\n",
    "        j.append(model_logistic.score(features_train, target_train))\n",
    "    if i == 'valid':\n",
    "        j.append(model_tree.score(features_valid, target_valid))\n",
    "        j.append(model_forest.score(features_valid, target_valid))\n",
    "        j.append(model_logistic.score(features_valid, target_valid))\n",
    "    if i == 'test':\n",
    "        j.append(model_tree.score(features_test, target_test))\n",
    "        j.append(model_forest.score(features_test, target_test))\n",
    "        j.append(model_logistic.score(features_test, target_test))\n",
    "\n",
    "accuracy = pd.DataFrame(data=data, index=index)\n",
    "display(accuracy)\n",
    "\n",
    "#####################################\n",
    "# Для наглядности построим график Accuracy по разным моделям\n",
    "\n",
    "fig, ax = plt.subplots()\n",
    "\n",
    "x = accuracy.columns\n",
    "y1 = accuracy.loc['tree']\n",
    "y2 = accuracy.loc['forest']\n",
    "y3 = accuracy.loc['logistic']\n",
    "\n",
    "fig.set_figwidth(15)\n",
    "fig.set_figheight(6)\n",
    "fig.suptitle('Accuracy разных моделей', fontsize = 15)\n",
    "\n",
    "ax.plot(x, y1, label = 'tree')\n",
    "ax.plot(x, y2, label = 'forest')\n",
    "ax.plot(x, y3, label = 'logictic')\n",
    "\n",
    "ax.legend()\n",
    "\n",
    "ax.set_xlabel('Набор даных')\n",
    "ax.set_ylabel('Accuracy')\n",
    "ax.grid()\n",
    "\n",
    "# Добавим горизонтальную линию на высоте 0,75, для обозначения порога\n",
    "ax.hlines(0.75, 0, 2, \n",
    "          color='r',\n",
    "          linewidth=0.8,\n",
    "          linestyle='--')\n",
    "\n",
    "plt.show()"
   ]
  },
  {
   "cell_type": "markdown",
   "metadata": {},
   "source": [
    "**Вывод**\n",
    "\n",
    "По нашему графику видно, что модель на основе логистической регресии уступает остальным по всем выборкам. Настроенные модели решающего дерева и случайного леса идут очень близко друг к другу, но лес лучше дерева."
   ]
  },
  {
   "cell_type": "markdown",
   "metadata": {},
   "source": [
    "## (бонус) Проверьте модели на адекватность"
   ]
  },
  {
   "cell_type": "markdown",
   "metadata": {},
   "source": [
    "Обучим престейшую модель, которая предсказывает постоянное число, в одном случае 0, в другом - 1. Выбрали данные числа, так как клиент либо имеет тариф \"Ultra\" - 1, либо имеет тариф \"Smart\" - 0. Посмотрим насколько точно получится предсказать."
   ]
  },
  {
   "cell_type": "code",
   "execution_count": 20,
   "metadata": {},
   "outputs": [
    {
     "data": {
      "text/plain": [
       "'accuracy, когда константа = 0: 0.697'"
      ]
     },
     "metadata": {},
     "output_type": "display_data"
    },
    {
     "data": {
      "text/plain": [
       "'accuracy, когда константа = 1: 0.303'"
      ]
     },
     "metadata": {},
     "output_type": "display_data"
    }
   ],
   "source": [
    "dummy_clf = DummyClassifier(strategy='constant', random_state=12345, constant=0)\n",
    "dummy_clf.fit(features_train, target_train)\n",
    "display(f'accuracy, когда константа = 0: {dummy_clf.score(features_train, target_train):.3f}')\n",
    "\n",
    "dummy_clf = DummyClassifier(strategy='constant', random_state=12345, constant=1)\n",
    "dummy_clf.fit(features_train, target_train)\n",
    "display(f'accuracy, когда константа = 1: {dummy_clf.score(features_train, target_train):.3f}')"
   ]
  },
  {
   "cell_type": "markdown",
   "metadata": {},
   "source": [
    "Модель, которая предсказывает контсанту, точна при 0 на 70%, при 1 - в 30%. Такое может быть из-за неравномерности классов в тестовой выборке. Примем за правильную константую модель, предсказывающую 0, так как у нее показатель точности выше.\n",
    "\n",
    "Простейшая модель ошибается в 30% случаев, наша, самая лучшая в 22%. Думаю можно считать модель адекватной."
   ]
  },
  {
   "cell_type": "markdown",
   "metadata": {},
   "source": [
    "# Вывод\n",
    "\n",
    "В результате рассмотрения трех моделей классификации, а именно: решающего дерева, случайного леса и логистической регрессии, пришли к выводу что случайный лес оказался наиболее точным в предсказаниях чем два других. Точность моделей удалось немного поднять по отношению к модели с настройками гиперпараметров по умолчанию. "
   ]
  }
 ],
 "metadata": {
  "ExecuteTimeLog": [
   {
    "duration": 214,
    "start_time": "2022-02-08T08:38:06.326Z"
   },
   {
    "duration": 204,
    "start_time": "2022-02-08T08:38:14.973Z"
   },
   {
    "duration": 1014,
    "start_time": "2022-02-08T08:38:19.224Z"
   },
   {
    "duration": 1357,
    "start_time": "2022-02-08T08:38:21.447Z"
   },
   {
    "duration": 21,
    "start_time": "2022-02-08T08:38:34.951Z"
   },
   {
    "duration": 34,
    "start_time": "2022-02-08T08:40:22.919Z"
   },
   {
    "duration": 4,
    "start_time": "2022-02-08T08:49:24.762Z"
   },
   {
    "duration": 5,
    "start_time": "2022-02-08T08:51:52.712Z"
   },
   {
    "duration": 28,
    "start_time": "2022-02-08T09:36:45.412Z"
   },
   {
    "duration": 53,
    "start_time": "2022-02-08T09:37:06.740Z"
   },
   {
    "duration": 4710,
    "start_time": "2022-02-08T09:37:47.316Z"
   },
   {
    "duration": 8,
    "start_time": "2022-02-08T09:39:52.339Z"
   },
   {
    "duration": 3,
    "start_time": "2022-02-08T09:41:22.082Z"
   },
   {
    "duration": 12,
    "start_time": "2022-02-08T09:41:25.922Z"
   },
   {
    "duration": 989,
    "start_time": "2022-02-08T09:42:42.259Z"
   },
   {
    "duration": 35,
    "start_time": "2022-02-08T09:42:43.250Z"
   },
   {
    "duration": 4,
    "start_time": "2022-02-08T09:42:43.287Z"
   },
   {
    "duration": 9,
    "start_time": "2022-02-08T09:42:43.292Z"
   },
   {
    "duration": 56,
    "start_time": "2022-02-08T09:42:43.302Z"
   },
   {
    "duration": 4798,
    "start_time": "2022-02-08T09:42:43.360Z"
   },
   {
    "duration": 8,
    "start_time": "2022-02-08T09:42:48.160Z"
   },
   {
    "duration": 12,
    "start_time": "2022-02-08T09:42:48.170Z"
   },
   {
    "duration": 375,
    "start_time": "2022-02-08T09:45:03.043Z"
   },
   {
    "duration": 3,
    "start_time": "2022-02-08T09:46:11.861Z"
   },
   {
    "duration": 253,
    "start_time": "2022-02-08T09:46:33.889Z"
   },
   {
    "duration": 255,
    "start_time": "2022-02-08T09:47:16.418Z"
   },
   {
    "duration": 205,
    "start_time": "2022-02-08T09:54:47.504Z"
   },
   {
    "duration": 3,
    "start_time": "2022-02-08T09:55:23.279Z"
   },
   {
    "duration": 18,
    "start_time": "2022-02-08T09:55:28.959Z"
   },
   {
    "duration": 203,
    "start_time": "2022-02-08T09:57:16.095Z"
   },
   {
    "duration": 39,
    "start_time": "2022-02-08T09:57:56.096Z"
   },
   {
    "duration": 30,
    "start_time": "2022-02-08T09:59:45.779Z"
   },
   {
    "duration": 32,
    "start_time": "2022-02-08T10:01:26.384Z"
   },
   {
    "duration": 201,
    "start_time": "2022-02-08T10:02:51.823Z"
   },
   {
    "duration": 3,
    "start_time": "2022-02-08T10:04:02.718Z"
   },
   {
    "duration": 274,
    "start_time": "2022-02-08T10:04:08.511Z"
   },
   {
    "duration": 31,
    "start_time": "2022-02-08T10:05:05.935Z"
   },
   {
    "duration": 270,
    "start_time": "2022-02-08T10:05:08.655Z"
   },
   {
    "duration": 11,
    "start_time": "2022-02-08T10:05:40.670Z"
   },
   {
    "duration": 474,
    "start_time": "2022-02-08T10:09:57.437Z"
   },
   {
    "duration": 49184,
    "start_time": "2022-02-08T10:10:45.038Z"
   },
   {
    "duration": 227,
    "start_time": "2022-02-08T10:12:09.981Z"
   },
   {
    "duration": 58,
    "start_time": "2022-02-08T10:12:15.695Z"
   },
   {
    "duration": 934,
    "start_time": "2022-02-08T10:12:22.702Z"
   },
   {
    "duration": 60,
    "start_time": "2022-02-08T10:12:29.901Z"
   },
   {
    "duration": 1920,
    "start_time": "2022-02-08T10:12:34.477Z"
   },
   {
    "duration": 61,
    "start_time": "2022-02-08T10:12:48.957Z"
   },
   {
    "duration": 1410,
    "start_time": "2022-02-08T10:12:55.811Z"
   },
   {
    "duration": 61,
    "start_time": "2022-02-08T10:13:03.581Z"
   },
   {
    "duration": 5,
    "start_time": "2022-02-08T10:22:05.182Z"
   },
   {
    "duration": 7,
    "start_time": "2022-02-08T10:22:44.125Z"
   },
   {
    "duration": 53,
    "start_time": "2022-02-08T10:22:48.075Z"
   },
   {
    "duration": 1731,
    "start_time": "2022-02-08T10:22:49.963Z"
   },
   {
    "duration": 29,
    "start_time": "2022-02-08T10:22:55.084Z"
   },
   {
    "duration": 251,
    "start_time": "2022-02-08T10:25:21.356Z"
   },
   {
    "duration": 4940,
    "start_time": "2022-02-08T10:26:14.651Z"
   },
   {
    "duration": 96,
    "start_time": "2022-02-08T10:27:34.492Z"
   },
   {
    "duration": 1835,
    "start_time": "2022-02-08T10:29:12.045Z"
   },
   {
    "duration": 1890,
    "start_time": "2022-02-08T10:30:42.827Z"
   },
   {
    "duration": 76,
    "start_time": "2022-02-08T10:30:54.314Z"
   },
   {
    "duration": 103,
    "start_time": "2022-02-08T10:31:04.282Z"
   },
   {
    "duration": 1833,
    "start_time": "2022-02-08T10:31:06.205Z"
   },
   {
    "duration": 79,
    "start_time": "2022-02-08T10:31:09.562Z"
   },
   {
    "duration": 107,
    "start_time": "2022-02-08T11:02:40.823Z"
   },
   {
    "duration": 97,
    "start_time": "2022-02-08T11:03:30.391Z"
   },
   {
    "duration": 103,
    "start_time": "2022-02-08T11:06:13.544Z"
   },
   {
    "duration": 116,
    "start_time": "2022-02-08T11:07:58.423Z"
   },
   {
    "duration": 258,
    "start_time": "2022-02-08T11:09:59.597Z"
   },
   {
    "duration": 273,
    "start_time": "2022-02-08T11:11:19.867Z"
   },
   {
    "duration": 346,
    "start_time": "2022-02-08T11:12:23.913Z"
   },
   {
    "duration": 257,
    "start_time": "2022-02-08T11:13:00.153Z"
   },
   {
    "duration": 157,
    "start_time": "2022-02-08T11:14:09.735Z"
   },
   {
    "duration": 208,
    "start_time": "2022-02-08T11:17:49.637Z"
   },
   {
    "duration": 155,
    "start_time": "2022-02-08T11:18:13.222Z"
   },
   {
    "duration": 274,
    "start_time": "2022-02-08T11:18:30.604Z"
   },
   {
    "duration": 327,
    "start_time": "2022-02-08T11:18:37.958Z"
   },
   {
    "duration": 27996,
    "start_time": "2022-02-08T11:22:48.870Z"
   },
   {
    "duration": 29336,
    "start_time": "2022-02-08T11:24:07.559Z"
   },
   {
    "duration": 31116,
    "start_time": "2022-02-08T11:26:11.191Z"
   },
   {
    "duration": 30892,
    "start_time": "2022-02-08T11:27:51.396Z"
   },
   {
    "duration": 289,
    "start_time": "2022-02-08T12:06:32.385Z"
   },
   {
    "duration": 31,
    "start_time": "2022-02-08T12:06:45.409Z"
   },
   {
    "duration": 302,
    "start_time": "2022-02-08T12:08:19.360Z"
   },
   {
    "duration": 31461,
    "start_time": "2022-02-08T12:09:00.992Z"
   },
   {
    "duration": 30,
    "start_time": "2022-02-08T12:09:43.473Z"
   },
   {
    "duration": 31764,
    "start_time": "2022-02-08T12:09:55.184Z"
   },
   {
    "duration": 271,
    "start_time": "2022-02-08T12:21:18.527Z"
   },
   {
    "duration": 1442,
    "start_time": "2022-02-08T18:10:55.688Z"
   },
   {
    "duration": 47,
    "start_time": "2022-02-08T18:10:57.132Z"
   },
   {
    "duration": 5,
    "start_time": "2022-02-08T18:10:57.182Z"
   },
   {
    "duration": 10,
    "start_time": "2022-02-08T18:10:57.190Z"
   },
   {
    "duration": 411,
    "start_time": "2022-02-08T18:10:57.203Z"
   },
   {
    "duration": 46819,
    "start_time": "2022-02-08T18:10:57.617Z"
   },
   {
    "duration": 61,
    "start_time": "2022-02-08T18:11:44.439Z"
   },
   {
    "duration": 6,
    "start_time": "2022-02-08T18:16:52.050Z"
   },
   {
    "duration": 34,
    "start_time": "2022-02-08T18:16:52.059Z"
   },
   {
    "duration": 6,
    "start_time": "2022-02-08T18:16:52.096Z"
   },
   {
    "duration": 12,
    "start_time": "2022-02-08T18:16:52.104Z"
   },
   {
    "duration": 412,
    "start_time": "2022-02-08T18:16:52.118Z"
   },
   {
    "duration": 46920,
    "start_time": "2022-02-08T18:16:52.533Z"
   },
   {
    "duration": 55,
    "start_time": "2022-02-08T18:17:39.456Z"
   },
   {
    "duration": 391,
    "start_time": "2022-02-08T18:26:30.567Z"
   },
   {
    "duration": 10,
    "start_time": "2022-02-08T18:26:45.659Z"
   },
   {
    "duration": 44,
    "start_time": "2022-02-08T18:27:20.947Z"
   },
   {
    "duration": 10,
    "start_time": "2022-02-08T18:27:52.736Z"
   },
   {
    "duration": 12,
    "start_time": "2022-02-08T18:29:37.057Z"
   },
   {
    "duration": 13,
    "start_time": "2022-02-08T18:30:16.659Z"
   },
   {
    "duration": 59,
    "start_time": "2022-02-08T18:30:18.771Z"
   },
   {
    "duration": 1132,
    "start_time": "2022-02-09T04:15:58.625Z"
   },
   {
    "duration": 37,
    "start_time": "2022-02-09T04:15:59.759Z"
   },
   {
    "duration": 4,
    "start_time": "2022-02-09T04:15:59.798Z"
   },
   {
    "duration": 10,
    "start_time": "2022-02-09T04:15:59.804Z"
   },
   {
    "duration": 299,
    "start_time": "2022-02-09T04:15:59.816Z"
   },
   {
    "duration": 32078,
    "start_time": "2022-02-09T04:16:00.117Z"
   },
   {
    "duration": 33,
    "start_time": "2022-02-09T04:16:32.197Z"
   },
   {
    "duration": 8,
    "start_time": "2022-02-09T04:16:32.233Z"
   },
   {
    "duration": 61,
    "start_time": "2022-02-09T04:16:32.243Z"
   },
   {
    "duration": 9,
    "start_time": "2022-02-09T04:16:32.305Z"
   },
   {
    "duration": 3,
    "start_time": "2022-02-09T04:17:36.192Z"
   },
   {
    "duration": 32,
    "start_time": "2022-02-09T04:17:36.197Z"
   },
   {
    "duration": 4,
    "start_time": "2022-02-09T04:17:36.231Z"
   },
   {
    "duration": 9,
    "start_time": "2022-02-09T04:17:36.237Z"
   },
   {
    "duration": 287,
    "start_time": "2022-02-09T04:17:36.248Z"
   },
   {
    "duration": 32106,
    "start_time": "2022-02-09T04:17:36.537Z"
   },
   {
    "duration": 33,
    "start_time": "2022-02-09T04:18:08.645Z"
   },
   {
    "duration": 22,
    "start_time": "2022-02-09T04:18:08.680Z"
   },
   {
    "duration": 39,
    "start_time": "2022-02-09T04:18:08.704Z"
   },
   {
    "duration": 9,
    "start_time": "2022-02-09T04:18:08.745Z"
   },
   {
    "duration": 1149,
    "start_time": "2022-02-09T04:26:22.809Z"
   },
   {
    "duration": 37,
    "start_time": "2022-02-09T04:26:23.960Z"
   },
   {
    "duration": 4,
    "start_time": "2022-02-09T04:26:23.999Z"
   },
   {
    "duration": 15,
    "start_time": "2022-02-09T04:26:24.004Z"
   },
   {
    "duration": 301,
    "start_time": "2022-02-09T04:26:24.020Z"
   },
   {
    "duration": 31806,
    "start_time": "2022-02-09T04:26:24.324Z"
   },
   {
    "duration": 32,
    "start_time": "2022-02-09T04:26:56.131Z"
   },
   {
    "duration": 9,
    "start_time": "2022-02-09T04:26:56.165Z"
   },
   {
    "duration": 53,
    "start_time": "2022-02-09T04:26:56.176Z"
   },
   {
    "duration": 8,
    "start_time": "2022-02-09T04:26:56.231Z"
   },
   {
    "duration": 7,
    "start_time": "2022-02-09T04:53:47.220Z"
   },
   {
    "duration": 347,
    "start_time": "2022-02-09T04:53:56.908Z"
   },
   {
    "duration": 277,
    "start_time": "2022-02-09T04:54:15.292Z"
   },
   {
    "duration": 9,
    "start_time": "2022-02-09T04:55:24.108Z"
   },
   {
    "duration": 59,
    "start_time": "2022-02-09T04:56:58.908Z"
   },
   {
    "duration": 23,
    "start_time": "2022-02-09T04:59:28.044Z"
   },
   {
    "duration": 47,
    "start_time": "2022-02-09T05:01:22.243Z"
   },
   {
    "duration": 87,
    "start_time": "2022-02-09T05:02:30.332Z"
   },
   {
    "duration": 49,
    "start_time": "2022-02-09T05:02:35.596Z"
   },
   {
    "duration": 1159,
    "start_time": "2022-02-09T05:04:06.478Z"
   },
   {
    "duration": 39,
    "start_time": "2022-02-09T05:04:07.639Z"
   },
   {
    "duration": 4,
    "start_time": "2022-02-09T05:04:07.680Z"
   },
   {
    "duration": 22,
    "start_time": "2022-02-09T05:04:07.686Z"
   },
   {
    "duration": 295,
    "start_time": "2022-02-09T05:04:07.709Z"
   },
   {
    "duration": 33198,
    "start_time": "2022-02-09T05:04:08.006Z"
   },
   {
    "duration": 34,
    "start_time": "2022-02-09T05:04:41.206Z"
   },
   {
    "duration": 10,
    "start_time": "2022-02-09T05:04:41.242Z"
   },
   {
    "duration": 68,
    "start_time": "2022-02-09T05:04:41.255Z"
   },
   {
    "duration": 9,
    "start_time": "2022-02-09T05:04:41.326Z"
   },
   {
    "duration": 76,
    "start_time": "2022-02-09T05:04:41.337Z"
   },
   {
    "duration": 411,
    "start_time": "2022-02-09T05:09:45.073Z"
   },
   {
    "duration": 78,
    "start_time": "2022-02-09T05:10:13.176Z"
   },
   {
    "duration": 7343,
    "start_time": "2022-02-09T05:10:18.009Z"
   },
   {
    "duration": 6,
    "start_time": "2022-02-09T05:11:33.688Z"
   },
   {
    "duration": 6870,
    "start_time": "2022-02-09T05:11:47.176Z"
   },
   {
    "duration": 8193,
    "start_time": "2022-02-09T05:13:05.647Z"
   },
   {
    "duration": 299,
    "start_time": "2022-02-09T05:13:23.159Z"
   },
   {
    "duration": 5,
    "start_time": "2022-02-09T05:13:36.072Z"
   },
   {
    "duration": 6751,
    "start_time": "2022-02-09T05:13:52.793Z"
   },
   {
    "duration": 6,
    "start_time": "2022-02-09T05:14:26.216Z"
   },
   {
    "duration": 302,
    "start_time": "2022-02-09T05:14:58.953Z"
   },
   {
    "duration": 301,
    "start_time": "2022-02-09T05:15:48.184Z"
   },
   {
    "duration": 294,
    "start_time": "2022-02-09T05:16:21.656Z"
   },
   {
    "duration": 155,
    "start_time": "2022-02-09T05:16:32.776Z"
   },
   {
    "duration": 304,
    "start_time": "2022-02-09T05:16:37.879Z"
   },
   {
    "duration": 309,
    "start_time": "2022-02-09T05:16:45.768Z"
   },
   {
    "duration": 583,
    "start_time": "2022-02-09T05:18:19.177Z"
   },
   {
    "duration": 583,
    "start_time": "2022-02-09T05:19:48.312Z"
   },
   {
    "duration": 354,
    "start_time": "2022-02-09T05:21:05.367Z"
   },
   {
    "duration": 327,
    "start_time": "2022-02-09T05:21:27.223Z"
   },
   {
    "duration": 304,
    "start_time": "2022-02-09T05:21:42.759Z"
   },
   {
    "duration": 312,
    "start_time": "2022-02-09T05:22:00.231Z"
   },
   {
    "duration": 300,
    "start_time": "2022-02-09T05:22:09.671Z"
   },
   {
    "duration": 311,
    "start_time": "2022-02-09T05:22:28.184Z"
   },
   {
    "duration": 624,
    "start_time": "2022-02-09T05:33:07.847Z"
   },
   {
    "duration": 384,
    "start_time": "2022-02-09T05:33:19.623Z"
   },
   {
    "duration": 305,
    "start_time": "2022-02-09T05:33:26.646Z"
   },
   {
    "duration": 588,
    "start_time": "2022-02-09T05:34:01.846Z"
   },
   {
    "duration": 597,
    "start_time": "2022-02-09T05:34:22.759Z"
   },
   {
    "duration": 303,
    "start_time": "2022-02-09T05:34:30.678Z"
   },
   {
    "duration": 312,
    "start_time": "2022-02-09T05:34:39.798Z"
   },
   {
    "duration": 311,
    "start_time": "2022-02-09T05:36:37.861Z"
   },
   {
    "duration": 327,
    "start_time": "2022-02-09T05:37:12.805Z"
   },
   {
    "duration": 324,
    "start_time": "2022-02-09T05:44:52.795Z"
   },
   {
    "duration": 1238,
    "start_time": "2022-02-09T05:48:35.195Z"
   },
   {
    "duration": 110,
    "start_time": "2022-02-09T05:48:36.435Z"
   },
   {
    "duration": 3,
    "start_time": "2022-02-09T05:48:36.547Z"
   },
   {
    "duration": 9,
    "start_time": "2022-02-09T05:48:36.552Z"
   },
   {
    "duration": 278,
    "start_time": "2022-02-09T05:48:36.563Z"
   },
   {
    "duration": 32327,
    "start_time": "2022-02-09T05:48:36.842Z"
   },
   {
    "duration": 37,
    "start_time": "2022-02-09T05:49:09.171Z"
   },
   {
    "duration": 334,
    "start_time": "2022-02-09T05:49:09.210Z"
   },
   {
    "duration": 6,
    "start_time": "2022-02-09T05:49:09.545Z"
   },
   {
    "duration": 326,
    "start_time": "2022-02-09T06:06:11.239Z"
   },
   {
    "duration": 333,
    "start_time": "2022-02-09T06:07:08.839Z"
   },
   {
    "duration": 328,
    "start_time": "2022-02-09T06:08:12.240Z"
   },
   {
    "duration": 379,
    "start_time": "2022-02-09T06:09:27.937Z"
   },
   {
    "duration": 303,
    "start_time": "2022-02-09T06:09:47.168Z"
   },
   {
    "duration": 665,
    "start_time": "2022-02-09T06:11:29.616Z"
   },
   {
    "duration": 489,
    "start_time": "2022-02-09T06:12:17.040Z"
   },
   {
    "duration": 310,
    "start_time": "2022-02-09T06:22:50.269Z"
   },
   {
    "duration": 337,
    "start_time": "2022-02-09T06:26:18.525Z"
   },
   {
    "duration": 317,
    "start_time": "2022-02-09T06:26:27.628Z"
   },
   {
    "duration": 313,
    "start_time": "2022-02-09T06:26:58.622Z"
   },
   {
    "duration": 319,
    "start_time": "2022-02-09T06:27:16.812Z"
   },
   {
    "duration": 338,
    "start_time": "2022-02-09T06:27:40.397Z"
   },
   {
    "duration": 313,
    "start_time": "2022-02-09T06:28:05.725Z"
   },
   {
    "duration": 389,
    "start_time": "2022-02-09T06:28:35.549Z"
   },
   {
    "duration": 334,
    "start_time": "2022-02-09T06:28:41.692Z"
   },
   {
    "duration": 303,
    "start_time": "2022-02-09T06:28:52.844Z"
   },
   {
    "duration": 318,
    "start_time": "2022-02-09T06:30:08.268Z"
   },
   {
    "duration": 306,
    "start_time": "2022-02-09T06:30:27.388Z"
   },
   {
    "duration": 269,
    "start_time": "2022-02-09T07:25:36.939Z"
   },
   {
    "duration": 304,
    "start_time": "2022-02-09T07:25:57.378Z"
   },
   {
    "duration": 267,
    "start_time": "2022-02-09T07:26:18.037Z"
   },
   {
    "duration": 465,
    "start_time": "2022-02-09T07:34:24.642Z"
   },
   {
    "duration": 5,
    "start_time": "2022-02-09T07:44:09.797Z"
   },
   {
    "duration": 244,
    "start_time": "2022-02-09T07:44:42.789Z"
   },
   {
    "duration": 325,
    "start_time": "2022-02-09T07:44:55.509Z"
   },
   {
    "duration": 317,
    "start_time": "2022-02-09T07:53:35.365Z"
   },
   {
    "duration": 88,
    "start_time": "2022-02-09T07:53:51.780Z"
   },
   {
    "duration": 352,
    "start_time": "2022-02-09T08:24:58.155Z"
   },
   {
    "duration": 306,
    "start_time": "2022-02-09T08:26:31.418Z"
   },
   {
    "duration": 33821,
    "start_time": "2022-02-09T08:27:09.835Z"
   },
   {
    "duration": 33432,
    "start_time": "2022-02-09T08:34:05.478Z"
   },
   {
    "duration": 33680,
    "start_time": "2022-02-09T08:37:28.714Z"
   },
   {
    "duration": 34417,
    "start_time": "2022-02-09T08:45:46.300Z"
   },
   {
    "duration": 37,
    "start_time": "2022-02-09T08:47:40.240Z"
   },
   {
    "duration": 38,
    "start_time": "2022-02-09T09:09:03.523Z"
   },
   {
    "duration": 4,
    "start_time": "2022-02-09T10:43:18.961Z"
   },
   {
    "duration": 4,
    "start_time": "2022-02-09T10:43:26.560Z"
   },
   {
    "duration": 394,
    "start_time": "2022-02-09T10:48:22.919Z"
   },
   {
    "duration": 25,
    "start_time": "2022-02-09T10:50:02.786Z"
   },
   {
    "duration": 22,
    "start_time": "2022-02-09T10:50:22.744Z"
   },
   {
    "duration": 35,
    "start_time": "2022-02-09T11:00:42.937Z"
   },
   {
    "duration": 1236,
    "start_time": "2022-02-09T11:00:55.802Z"
   },
   {
    "duration": 44,
    "start_time": "2022-02-09T11:00:57.041Z"
   },
   {
    "duration": 5,
    "start_time": "2022-02-09T11:00:57.088Z"
   },
   {
    "duration": 9,
    "start_time": "2022-02-09T11:00:57.100Z"
   },
   {
    "duration": 581,
    "start_time": "2022-02-09T11:00:57.111Z"
   },
   {
    "duration": -55,
    "start_time": "2022-02-09T11:00:57.750Z"
   },
   {
    "duration": -56,
    "start_time": "2022-02-09T11:00:57.751Z"
   },
   {
    "duration": -55,
    "start_time": "2022-02-09T11:00:57.752Z"
   },
   {
    "duration": -103,
    "start_time": "2022-02-09T11:00:57.801Z"
   },
   {
    "duration": 310,
    "start_time": "2022-02-09T11:02:31.718Z"
   },
   {
    "duration": 4,
    "start_time": "2022-02-09T11:02:36.294Z"
   },
   {
    "duration": 39,
    "start_time": "2022-02-09T11:02:36.300Z"
   },
   {
    "duration": 4,
    "start_time": "2022-02-09T11:02:36.341Z"
   },
   {
    "duration": 10,
    "start_time": "2022-02-09T11:02:36.347Z"
   },
   {
    "duration": 329,
    "start_time": "2022-02-09T11:02:36.359Z"
   },
   {
    "duration": 322,
    "start_time": "2022-02-09T11:02:40.838Z"
   },
   {
    "duration": 35171,
    "start_time": "2022-02-09T11:02:41.162Z"
   },
   {
    "duration": 35,
    "start_time": "2022-02-09T11:03:16.335Z"
   },
   {
    "duration": 384,
    "start_time": "2022-02-09T11:03:16.372Z"
   },
   {
    "duration": 20,
    "start_time": "2022-02-09T11:03:16.758Z"
   },
   {
    "duration": 55133,
    "start_time": "2022-02-09T11:03:49.678Z"
   },
   {
    "duration": 1356,
    "start_time": "2022-02-09T11:07:11.690Z"
   },
   {
    "duration": 1553,
    "start_time": "2022-02-09T11:07:13.049Z"
   },
   {
    "duration": 4,
    "start_time": "2022-02-09T11:07:14.604Z"
   },
   {
    "duration": 10,
    "start_time": "2022-02-09T11:07:14.610Z"
   },
   {
    "duration": 370,
    "start_time": "2022-02-09T11:07:14.623Z"
   },
   {
    "duration": 53235,
    "start_time": "2022-02-09T11:07:14.998Z"
   },
   {
    "duration": 37,
    "start_time": "2022-02-09T11:08:08.235Z"
   },
   {
    "duration": 393,
    "start_time": "2022-02-09T11:08:08.274Z"
   },
   {
    "duration": 30,
    "start_time": "2022-02-09T11:08:08.669Z"
   },
   {
    "duration": 1120,
    "start_time": "2022-02-10T05:17:50.343Z"
   },
   {
    "duration": 29,
    "start_time": "2022-02-10T05:17:51.465Z"
   },
   {
    "duration": 9,
    "start_time": "2022-02-10T05:17:51.496Z"
   },
   {
    "duration": 21,
    "start_time": "2022-02-10T05:17:51.507Z"
   },
   {
    "duration": 264,
    "start_time": "2022-02-10T05:17:51.530Z"
   },
   {
    "duration": 44693,
    "start_time": "2022-02-10T05:17:51.795Z"
   },
   {
    "duration": 29,
    "start_time": "2022-02-10T05:18:36.489Z"
   },
   {
    "duration": 305,
    "start_time": "2022-02-10T05:18:36.519Z"
   },
   {
    "duration": 6,
    "start_time": "2022-02-10T05:18:36.825Z"
   },
   {
    "duration": 6,
    "start_time": "2022-02-10T05:21:04.611Z"
   },
   {
    "duration": 5,
    "start_time": "2022-02-10T05:21:11.580Z"
   },
   {
    "duration": 7,
    "start_time": "2022-02-10T05:23:41.276Z"
   },
   {
    "duration": 63,
    "start_time": "2022-02-10T05:24:54.587Z"
   },
   {
    "duration": 14,
    "start_time": "2022-02-10T05:25:10.475Z"
   },
   {
    "duration": 23,
    "start_time": "2022-02-10T05:37:54.219Z"
   },
   {
    "duration": 276,
    "start_time": "2022-02-10T05:39:34.848Z"
   },
   {
    "duration": 197,
    "start_time": "2022-02-10T05:39:40.026Z"
   },
   {
    "duration": 13,
    "start_time": "2022-02-10T05:39:58.425Z"
   },
   {
    "duration": 16,
    "start_time": "2022-02-10T05:40:10.441Z"
   },
   {
    "duration": 18,
    "start_time": "2022-02-10T07:13:53.777Z"
   },
   {
    "duration": 49,
    "start_time": "2022-02-10T07:15:02.848Z"
   },
   {
    "duration": 2473,
    "start_time": "2022-04-01T17:04:19.305Z"
   },
   {
    "duration": 55,
    "start_time": "2022-04-01T17:04:21.784Z"
   },
   {
    "duration": 5,
    "start_time": "2022-04-01T17:04:21.841Z"
   },
   {
    "duration": 89,
    "start_time": "2022-04-01T17:04:21.848Z"
   },
   {
    "duration": 659,
    "start_time": "2022-04-01T17:04:24.803Z"
   },
   {
    "duration": 465,
    "start_time": "2022-04-01T17:04:43.720Z"
   },
   {
    "duration": 464,
    "start_time": "2022-04-01T17:05:03.796Z"
   },
   {
    "duration": 478,
    "start_time": "2022-04-01T17:07:45.652Z"
   },
   {
    "duration": 66675,
    "start_time": "2022-04-01T17:08:44.225Z"
   },
   {
    "duration": 51,
    "start_time": "2022-04-01T17:10:37.428Z"
   },
   {
    "duration": 12,
    "start_time": "2022-04-01T17:12:30.897Z"
   },
   {
    "duration": 5,
    "start_time": "2022-04-01T17:14:38.204Z"
   },
   {
    "duration": 43,
    "start_time": "2022-04-01T17:14:38.212Z"
   },
   {
    "duration": 5,
    "start_time": "2022-04-01T17:14:38.257Z"
   },
   {
    "duration": 80,
    "start_time": "2022-04-01T17:14:38.264Z"
   },
   {
    "duration": 493,
    "start_time": "2022-04-01T17:14:38.347Z"
   },
   {
    "duration": 66032,
    "start_time": "2022-04-01T17:14:38.843Z"
   },
   {
    "duration": 56,
    "start_time": "2022-04-01T17:15:44.882Z"
   },
   {
    "duration": 403,
    "start_time": "2022-04-01T17:15:44.940Z"
   },
   {
    "duration": 13,
    "start_time": "2022-04-01T17:15:45.346Z"
   }
  ],
  "kernelspec": {
   "display_name": "Python 3 (ipykernel)",
   "language": "python",
   "name": "python3"
  },
  "language_info": {
   "codemirror_mode": {
    "name": "ipython",
    "version": 3
   },
   "file_extension": ".py",
   "mimetype": "text/x-python",
   "name": "python",
   "nbconvert_exporter": "python",
   "pygments_lexer": "ipython3",
   "version": "3.9.5"
  },
  "toc": {
   "base_numbering": 1,
   "nav_menu": {},
   "number_sections": true,
   "sideBar": true,
   "skip_h1_title": true,
   "title_cell": "Table of Contents",
   "title_sidebar": "Contents",
   "toc_cell": false,
   "toc_position": {},
   "toc_section_display": true,
   "toc_window_display": false
  }
 },
 "nbformat": 4,
 "nbformat_minor": 2
}
