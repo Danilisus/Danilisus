{
 "cells": [
  {
   "cell_type": "markdown",
   "metadata": {},
   "source": [
    "<div style=\"border:solid green 2px; padding: 20px\">\n",
    "<b>Александр, привет!</b>\n",
    "\n",
    "Меня зовут Евгений Дащенко, и я буду проверять твой проект. Предлагаю общаться на «ты» 😊 Но если это не удобно - дай знать, и мы перейдем на \"вы\". \n",
    "\n",
    "Моя основная цель — не указать на совершенные тобою ошибки, а поделиться своим опытом и помочь тебе стать аналитиком данных. Ты уже проделал большую работу над проектом, но давай сделаем его еще лучше. Ниже ты найдешь мои комментарии - пожалуйста, не перемещай, не изменяй и не удаляй их. Я буду использовать цветовую разметку:\n",
    "\n",
    "<div class=\"alert alert-danger\">\n",
    "<b>Критическая ошибка:</b> Так выделены самые важные замечания. Без их отработки проект не будет принят. </div>\n",
    "\n",
    "<div class=\"alert alert-warning\">\n",
    "<b>Хорошо, но можно и лучше:</b> Так выделены небольшие замечания. Одна-два таких замечания в проекте допустимы, но если их будет больше - тебе будет необходимо внести исправления. Это как тестовое задание при приеме на работу: очень много мелких ошибок могут стать причиной отказа кандидату. \n",
    "\n",
    "</div>\n",
    "\n",
    "<div class=\"alert alert-success\">\n",
    "<b>Все отлично:</b> Так я выделяю все остальные комментарии.</div>\n",
    "\n",
    "Давай работать над проектом в диалоге: если ты что-то меняешь в проекте или отвечаешь на мои комменатри — пиши об этом. Мне будет легче отследить изменения, если ты выделишь свои комментарии:\n",
    "<div class=\"alert alert-info\"> <b>Комментарий студента:</b> Например, вот так.</div>\n",
    "\n",
    "Всё это поможет выполнить повторную проверку твоего проекта оперативнее. "
   ]
  },
  {
   "cell_type": "markdown",
   "metadata": {
    "toc": true
   },
   "source": [
    "<h1>Содержание<span class=\"tocSkip\"></span></h1>\n",
    "<div class=\"toc\"><ul class=\"toc-item\"><li><span><a href=\"#Открытие-файла-с-данными-и-изучение-общей-информации\" data-toc-modified-id=\"Открытие-файла-с-данными-и-изучение-общей-информации-1\"><span class=\"toc-item-num\">1&nbsp;&nbsp;</span>Открытие файла с данными и изучение общей информации</a></span></li><li><span><a href=\"#Подготовка-данных\" data-toc-modified-id=\"Подготовка-данных-2\"><span class=\"toc-item-num\">2&nbsp;&nbsp;</span>Подготовка данных</a></span><ul class=\"toc-item\"><li><span><a href=\"#Приведение-названий-столбцов-к-нижнему-регистру\" data-toc-modified-id=\"Приведение-названий-столбцов-к-нижнему-регистру-2.1\"><span class=\"toc-item-num\">2.1&nbsp;&nbsp;</span>Приведение названий столбцов к нижнему регистру</a></span></li><li><span><a href=\"#Преобразование-типов-данных\" data-toc-modified-id=\"Преобразование-типов-данных-2.2\"><span class=\"toc-item-num\">2.2&nbsp;&nbsp;</span>Преобразование типов данных</a></span></li><li><span><a href=\"#Обработка-пропусков\" data-toc-modified-id=\"Обработка-пропусков-2.3\"><span class=\"toc-item-num\">2.3&nbsp;&nbsp;</span>Обработка пропусков</a></span></li><li><span><a href=\"#Определение-общей-выручки\" data-toc-modified-id=\"Определение-общей-выручки-2.4\"><span class=\"toc-item-num\">2.4&nbsp;&nbsp;</span>Определение общей выручки</a></span></li></ul></li><li><span><a href=\"#Исследовательский-анализ-данных\" data-toc-modified-id=\"Исследовательский-анализ-данных-3\"><span class=\"toc-item-num\">3&nbsp;&nbsp;</span>Исследовательский анализ данных</a></span><ul class=\"toc-item\"><li><span><a href=\"#Исследование-выпуска-игр-по-годам\" data-toc-modified-id=\"Исследование-выпуска-игр-по-годам-3.1\"><span class=\"toc-item-num\">3.1&nbsp;&nbsp;</span>Исследование выпуска игр по годам</a></span></li><li><span><a href=\"#Исследование-продожительности-жизни-платформы\" data-toc-modified-id=\"Исследование-продожительности-жизни-платформы-3.2\"><span class=\"toc-item-num\">3.2&nbsp;&nbsp;</span>Исследование продожительности жизни платформы</a></span></li><li><span><a href=\"#Определение-лидера-продаж\" data-toc-modified-id=\"Определение-лидера-продаж-3.3\"><span class=\"toc-item-num\">3.3&nbsp;&nbsp;</span>Определение лидера продаж</a></span></li><li><span><a href=\"#Изучение-глобальных-продаж-по-платформам\" data-toc-modified-id=\"Изучение-глобальных-продаж-по-платформам-3.4\"><span class=\"toc-item-num\">3.4&nbsp;&nbsp;</span>Изучение глобальных продаж по платформам</a></span></li><li><span><a href=\"#Изучение-зависимости-продаж-от-отзывов\" data-toc-modified-id=\"Изучение-зависимости-продаж-от-отзывов-3.5\"><span class=\"toc-item-num\">3.5&nbsp;&nbsp;</span>Изучение зависимости продаж от отзывов</a></span></li><li><span><a href=\"#Изучение-продаж-по-жанрам\" data-toc-modified-id=\"Изучение-продаж-по-жанрам-3.6\"><span class=\"toc-item-num\">3.6&nbsp;&nbsp;</span>Изучение продаж по жанрам</a></span></li></ul></li><li><span><a href=\"#Составление-портрета-пользователя-каждого-региона\" data-toc-modified-id=\"Составление-портрета-пользователя-каждого-региона-4\"><span class=\"toc-item-num\">4&nbsp;&nbsp;</span>Составление портрета пользователя каждого региона</a></span><ul class=\"toc-item\"><li><span><a href=\"#Определим-для-каждого-региона-популярные-платформы\" data-toc-modified-id=\"Определим-для-каждого-региона-популярные-платформы-4.1\"><span class=\"toc-item-num\">4.1&nbsp;&nbsp;</span>Определим для каждого региона популярные платформы</a></span></li><li><span><a href=\"#Определение-популярных-жанров-для-каждого-региона\" data-toc-modified-id=\"Определение-популярных-жанров-для-каждого-региона-4.2\"><span class=\"toc-item-num\">4.2&nbsp;&nbsp;</span>Определение популярных жанров для каждого региона</a></span></li><li><span><a href=\"#Определение-влияния-рейтинга-ESRB-на-продажи\" data-toc-modified-id=\"Определение-влияния-рейтинга-ESRB-на-продажи-4.3\"><span class=\"toc-item-num\">4.3&nbsp;&nbsp;</span>Определение влияния рейтинга ESRB на продажи</a></span></li></ul></li><li><span><a href=\"#Проверка-гипотез\" data-toc-modified-id=\"Проверка-гипотез-5\"><span class=\"toc-item-num\">5&nbsp;&nbsp;</span>Проверка гипотез</a></span></li><li><span><a href=\"#Общий-вывод\" data-toc-modified-id=\"Общий-вывод-6\"><span class=\"toc-item-num\">6&nbsp;&nbsp;</span>Общий вывод</a></span></li></ul></div>"
   ]
  },
  {
   "cell_type": "markdown",
   "metadata": {},
   "source": [
    "# Определение успешности копьютерных игр"
   ]
  },
  {
   "cell_type": "markdown",
   "metadata": {},
   "source": [
    "Интернет-магазин «Стримчик» продаёт по всему миру компьютерные игры. Из открытых источников доступны исторические данные о продажах игр, оценки пользователей и экспертов, жанры и платформы (например, Xbox или PlayStation). Необходимо выявить определяющие успешность игры закономерности. Это позволит сделать ставку на потенциально популярный продукт и спланировать рекламные кампании.\n",
    "\n",
    "Предоставлены данные до 2016 года. Нужно отработать принцип работы с данными. Неважно, прогнозируем продажи на 2017 год по данным 2016-го или же 2027-й — по данным 2026 года.\n",
    "\n",
    "**Цель исследования**\n",
    "\n",
    "1. Провести исследовательский анализ данных;\n",
    "2. Составить портрет пользователя каждого региона;\n",
    "3. Проверить гипотезы:\n",
    "    * Средние пользовательские рейтинги платформ Xbox One и PC одинаковые;\n",
    "    * Средние пользовательские рейтинги жанров Action и Sports.\n",
    "\n",
    "Также необходимо пояснить:\n",
    "* Как сформулировали нулевыю и альтернативную гипотезы;\n",
    "* Какой критерий применили для проверки гипотез и почему.\n",
    "\n",
    "**Ход исследования**\n",
    "\n",
    "1. Откройтие файла с данными и изучение общей информации;\n",
    "2. Подготовка данных:\n",
    "    * Замена названий столбцов (привести к нижнему регистру);\n",
    "    * Преобразование данные в нужные типы. Описать, в каких столбцах заменили тип данных и почему;\n",
    "    * Обработка пропусков при необходимости:\n",
    "        * Объяснить, почему заполнили пропуски определённым образом или почему не стали это делать;\n",
    "        * Описание причин, которые могли привести к пропускам;\n",
    "        * Отдельно разберем 'tbd' и опишем как его обработать;\n",
    "    * Посчитайте суммарные продажи во всех регионах и запишите их в отдельный столбец.\n",
    "3. Проведем исследовательский анализ данных\n",
    "    * Определим, сколько игр выпускалось в разные годы.\n",
    "    * Определим, как менялись продажи по платформам.\n",
    "    * Определим лидера по продажам \n",
    "    * Построим график «ящик с усами» по глобальным продажам игр в разбивке по платформам. Опишите результат.\n",
    "    * Посмотрим, как влияют на продажи внутри одной популярной платформы отзывы пользователей и критиков. Построим диаграмму рассеяния и посчитаем корреляцию между отзывами и продажами.\n",
    "    * Соотнесем выводы с продажами игр на других платформах.\n",
    "    * Посмотрим на общее распределение игр по жанрам. \n",
    "4. Составим портрет пользователя каждого региона\n",
    "    * Определим для пользователя каждого региона (NA, EU, JP):\n",
    "    * Самые популярные платформы (топ-5). Опишите различия в долях продаж.\n",
    "    * Самые популярные жанры (топ-5). Поясните разницу.\n",
    "    * Влияет ли рейтинг ESRB на продажи в отдельном регионе?\n",
    "5. Проверим гипотезы\n",
    "    * Средние пользовательские рейтинги платформ Xbox One и PC одинаковые;\n",
    "    * Средние пользовательские рейтинги жанров Action (англ. «действие», экшен-игры) и Sports (англ. «спортивные соревнования») разные.\n",
    "6. Общий вывод"
   ]
  },
  {
   "cell_type": "markdown",
   "metadata": {},
   "source": [
    "<div class=\"alert alert-success\">\n",
    "<b>Комментарий ревьюера:</b>\n",
    "\n",
    "Здорово, когда есть вступление в сам проект, каждый сможет быстрее разобраться в концепции / деталях работы. \n",
    "\n",
    "</div>"
   ]
  },
  {
   "cell_type": "markdown",
   "metadata": {},
   "source": [
    "##  Открытие файла с данными и изучение общей информации"
   ]
  },
  {
   "cell_type": "markdown",
   "metadata": {},
   "source": [
    "Импортируем необходимые для работы библиотеки и откроем файлы с данными."
   ]
  },
  {
   "cell_type": "code",
   "execution_count": 1,
   "metadata": {},
   "outputs": [],
   "source": [
    "import pandas as pd\n",
    "import matplotlib.pyplot as plt\n",
    "import matplotlib.ticker as ticker\n",
    "import numpy as np\n",
    "import seaborn as sns\n",
    "from scipy import stats as st"
   ]
  },
  {
   "cell_type": "code",
   "execution_count": 2,
   "metadata": {},
   "outputs": [
    {
     "data": {
      "text/html": [
       "<div>\n",
       "<style scoped>\n",
       "    .dataframe tbody tr th:only-of-type {\n",
       "        vertical-align: middle;\n",
       "    }\n",
       "\n",
       "    .dataframe tbody tr th {\n",
       "        vertical-align: top;\n",
       "    }\n",
       "\n",
       "    .dataframe thead th {\n",
       "        text-align: right;\n",
       "    }\n",
       "</style>\n",
       "<table border=\"1\" class=\"dataframe\">\n",
       "  <thead>\n",
       "    <tr style=\"text-align: right;\">\n",
       "      <th></th>\n",
       "      <th>Name</th>\n",
       "      <th>Platform</th>\n",
       "      <th>Year_of_Release</th>\n",
       "      <th>Genre</th>\n",
       "      <th>NA_sales</th>\n",
       "      <th>EU_sales</th>\n",
       "      <th>JP_sales</th>\n",
       "      <th>Other_sales</th>\n",
       "      <th>Critic_Score</th>\n",
       "      <th>User_Score</th>\n",
       "      <th>Rating</th>\n",
       "    </tr>\n",
       "  </thead>\n",
       "  <tbody>\n",
       "    <tr>\n",
       "      <td>0</td>\n",
       "      <td>Wii Sports</td>\n",
       "      <td>Wii</td>\n",
       "      <td>2006.0</td>\n",
       "      <td>Sports</td>\n",
       "      <td>41.36</td>\n",
       "      <td>28.96</td>\n",
       "      <td>3.77</td>\n",
       "      <td>8.45</td>\n",
       "      <td>76.0</td>\n",
       "      <td>8</td>\n",
       "      <td>E</td>\n",
       "    </tr>\n",
       "    <tr>\n",
       "      <td>1</td>\n",
       "      <td>Super Mario Bros.</td>\n",
       "      <td>NES</td>\n",
       "      <td>1985.0</td>\n",
       "      <td>Platform</td>\n",
       "      <td>29.08</td>\n",
       "      <td>3.58</td>\n",
       "      <td>6.81</td>\n",
       "      <td>0.77</td>\n",
       "      <td>NaN</td>\n",
       "      <td>NaN</td>\n",
       "      <td>NaN</td>\n",
       "    </tr>\n",
       "    <tr>\n",
       "      <td>2</td>\n",
       "      <td>Mario Kart Wii</td>\n",
       "      <td>Wii</td>\n",
       "      <td>2008.0</td>\n",
       "      <td>Racing</td>\n",
       "      <td>15.68</td>\n",
       "      <td>12.76</td>\n",
       "      <td>3.79</td>\n",
       "      <td>3.29</td>\n",
       "      <td>82.0</td>\n",
       "      <td>8.3</td>\n",
       "      <td>E</td>\n",
       "    </tr>\n",
       "    <tr>\n",
       "      <td>3</td>\n",
       "      <td>Wii Sports Resort</td>\n",
       "      <td>Wii</td>\n",
       "      <td>2009.0</td>\n",
       "      <td>Sports</td>\n",
       "      <td>15.61</td>\n",
       "      <td>10.93</td>\n",
       "      <td>3.28</td>\n",
       "      <td>2.95</td>\n",
       "      <td>80.0</td>\n",
       "      <td>8</td>\n",
       "      <td>E</td>\n",
       "    </tr>\n",
       "    <tr>\n",
       "      <td>4</td>\n",
       "      <td>Pokemon Red/Pokemon Blue</td>\n",
       "      <td>GB</td>\n",
       "      <td>1996.0</td>\n",
       "      <td>Role-Playing</td>\n",
       "      <td>11.27</td>\n",
       "      <td>8.89</td>\n",
       "      <td>10.22</td>\n",
       "      <td>1.00</td>\n",
       "      <td>NaN</td>\n",
       "      <td>NaN</td>\n",
       "      <td>NaN</td>\n",
       "    </tr>\n",
       "  </tbody>\n",
       "</table>\n",
       "</div>"
      ],
      "text/plain": [
       "                       Name Platform  Year_of_Release         Genre  NA_sales  \\\n",
       "0                Wii Sports      Wii           2006.0        Sports     41.36   \n",
       "1         Super Mario Bros.      NES           1985.0      Platform     29.08   \n",
       "2            Mario Kart Wii      Wii           2008.0        Racing     15.68   \n",
       "3         Wii Sports Resort      Wii           2009.0        Sports     15.61   \n",
       "4  Pokemon Red/Pokemon Blue       GB           1996.0  Role-Playing     11.27   \n",
       "\n",
       "   EU_sales  JP_sales  Other_sales  Critic_Score User_Score Rating  \n",
       "0     28.96      3.77         8.45          76.0          8      E  \n",
       "1      3.58      6.81         0.77           NaN        NaN    NaN  \n",
       "2     12.76      3.79         3.29          82.0        8.3      E  \n",
       "3     10.93      3.28         2.95          80.0          8      E  \n",
       "4      8.89     10.22         1.00           NaN        NaN    NaN  "
      ]
     },
     "metadata": {},
     "output_type": "display_data"
    },
    {
     "name": "stdout",
     "output_type": "stream",
     "text": [
      "<class 'pandas.core.frame.DataFrame'>\n",
      "RangeIndex: 16715 entries, 0 to 16714\n",
      "Data columns (total 11 columns):\n",
      "Name               16713 non-null object\n",
      "Platform           16715 non-null object\n",
      "Year_of_Release    16446 non-null float64\n",
      "Genre              16713 non-null object\n",
      "NA_sales           16715 non-null float64\n",
      "EU_sales           16715 non-null float64\n",
      "JP_sales           16715 non-null float64\n",
      "Other_sales        16715 non-null float64\n",
      "Critic_Score       8137 non-null float64\n",
      "User_Score         10014 non-null object\n",
      "Rating             9949 non-null object\n",
      "dtypes: float64(6), object(5)\n",
      "memory usage: 1.4+ MB\n"
     ]
    }
   ],
   "source": [
    "df = pd.read_csv('/datasets/games.csv')\n",
    "display(df.head())\n",
    "df.info()"
   ]
  },
  {
   "cell_type": "markdown",
   "metadata": {},
   "source": [
    "**Вывод** \n",
    "\n",
    "На первый взгляд видно, что в данных есть ряд проблем:\n",
    "1. столбцы необходимо привести к \"змеиному_регистру\";\n",
    "2. Заменить типы данных, например, год привести к целочисленному.\n",
    "3. Обратотать пропуски."
   ]
  },
  {
   "cell_type": "markdown",
   "metadata": {},
   "source": [
    "<div class=\"alert alert-success\">\n",
    "<b>Комментарий ревьюера:</b>\n",
    "\n",
    "Первичные данные посмотрели, давай теперь их обработаем, ведь у нас есть план 😊. \n",
    "</div>"
   ]
  },
  {
   "cell_type": "markdown",
   "metadata": {},
   "source": [
    "## Подготовка данных"
   ]
  },
  {
   "cell_type": "markdown",
   "metadata": {},
   "source": [
    "### Приведение названий столбцов к нижнему регистру"
   ]
  },
  {
   "cell_type": "markdown",
   "metadata": {},
   "source": [
    "Для приведение названий столбцов к нижнему регистру, получим список с названиями столбцов и заменим их."
   ]
  },
  {
   "cell_type": "code",
   "execution_count": 3,
   "metadata": {},
   "outputs": [
    {
     "data": {
      "text/html": [
       "<div>\n",
       "<style scoped>\n",
       "    .dataframe tbody tr th:only-of-type {\n",
       "        vertical-align: middle;\n",
       "    }\n",
       "\n",
       "    .dataframe tbody tr th {\n",
       "        vertical-align: top;\n",
       "    }\n",
       "\n",
       "    .dataframe thead th {\n",
       "        text-align: right;\n",
       "    }\n",
       "</style>\n",
       "<table border=\"1\" class=\"dataframe\">\n",
       "  <thead>\n",
       "    <tr style=\"text-align: right;\">\n",
       "      <th></th>\n",
       "      <th>name</th>\n",
       "      <th>platform</th>\n",
       "      <th>year_of_release</th>\n",
       "      <th>genre</th>\n",
       "      <th>na_sales</th>\n",
       "      <th>eu_sales</th>\n",
       "      <th>jp_sales</th>\n",
       "      <th>other_sales</th>\n",
       "      <th>critic_score</th>\n",
       "      <th>user_score</th>\n",
       "      <th>rating</th>\n",
       "    </tr>\n",
       "  </thead>\n",
       "  <tbody>\n",
       "    <tr>\n",
       "      <td>0</td>\n",
       "      <td>Wii Sports</td>\n",
       "      <td>Wii</td>\n",
       "      <td>2006.0</td>\n",
       "      <td>Sports</td>\n",
       "      <td>41.36</td>\n",
       "      <td>28.96</td>\n",
       "      <td>3.77</td>\n",
       "      <td>8.45</td>\n",
       "      <td>76.0</td>\n",
       "      <td>8</td>\n",
       "      <td>E</td>\n",
       "    </tr>\n",
       "    <tr>\n",
       "      <td>1</td>\n",
       "      <td>Super Mario Bros.</td>\n",
       "      <td>NES</td>\n",
       "      <td>1985.0</td>\n",
       "      <td>Platform</td>\n",
       "      <td>29.08</td>\n",
       "      <td>3.58</td>\n",
       "      <td>6.81</td>\n",
       "      <td>0.77</td>\n",
       "      <td>NaN</td>\n",
       "      <td>NaN</td>\n",
       "      <td>NaN</td>\n",
       "    </tr>\n",
       "    <tr>\n",
       "      <td>2</td>\n",
       "      <td>Mario Kart Wii</td>\n",
       "      <td>Wii</td>\n",
       "      <td>2008.0</td>\n",
       "      <td>Racing</td>\n",
       "      <td>15.68</td>\n",
       "      <td>12.76</td>\n",
       "      <td>3.79</td>\n",
       "      <td>3.29</td>\n",
       "      <td>82.0</td>\n",
       "      <td>8.3</td>\n",
       "      <td>E</td>\n",
       "    </tr>\n",
       "    <tr>\n",
       "      <td>3</td>\n",
       "      <td>Wii Sports Resort</td>\n",
       "      <td>Wii</td>\n",
       "      <td>2009.0</td>\n",
       "      <td>Sports</td>\n",
       "      <td>15.61</td>\n",
       "      <td>10.93</td>\n",
       "      <td>3.28</td>\n",
       "      <td>2.95</td>\n",
       "      <td>80.0</td>\n",
       "      <td>8</td>\n",
       "      <td>E</td>\n",
       "    </tr>\n",
       "    <tr>\n",
       "      <td>4</td>\n",
       "      <td>Pokemon Red/Pokemon Blue</td>\n",
       "      <td>GB</td>\n",
       "      <td>1996.0</td>\n",
       "      <td>Role-Playing</td>\n",
       "      <td>11.27</td>\n",
       "      <td>8.89</td>\n",
       "      <td>10.22</td>\n",
       "      <td>1.00</td>\n",
       "      <td>NaN</td>\n",
       "      <td>NaN</td>\n",
       "      <td>NaN</td>\n",
       "    </tr>\n",
       "  </tbody>\n",
       "</table>\n",
       "</div>"
      ],
      "text/plain": [
       "                       name platform  year_of_release         genre  na_sales  \\\n",
       "0                Wii Sports      Wii           2006.0        Sports     41.36   \n",
       "1         Super Mario Bros.      NES           1985.0      Platform     29.08   \n",
       "2            Mario Kart Wii      Wii           2008.0        Racing     15.68   \n",
       "3         Wii Sports Resort      Wii           2009.0        Sports     15.61   \n",
       "4  Pokemon Red/Pokemon Blue       GB           1996.0  Role-Playing     11.27   \n",
       "\n",
       "   eu_sales  jp_sales  other_sales  critic_score user_score rating  \n",
       "0     28.96      3.77         8.45          76.0          8      E  \n",
       "1      3.58      6.81         0.77           NaN        NaN    NaN  \n",
       "2     12.76      3.79         3.29          82.0        8.3      E  \n",
       "3     10.93      3.28         2.95          80.0          8      E  \n",
       "4      8.89     10.22         1.00           NaN        NaN    NaN  "
      ]
     },
     "metadata": {},
     "output_type": "display_data"
    }
   ],
   "source": [
    "df.columns = df.columns.str.lower()\n",
    "display(df.head())"
   ]
  },
  {
   "cell_type": "markdown",
   "metadata": {},
   "source": [
    "<div class=\"alert alert-success\">\n",
    "<b>Комментарий ревьюера:</b>\n",
    "\n",
    "Отличный способ заменить регистр в наших данных 👍\n",
    "</div>"
   ]
  },
  {
   "cell_type": "markdown",
   "metadata": {},
   "source": [
    "### Преобразование типов данных"
   ]
  },
  {
   "cell_type": "markdown",
   "metadata": {},
   "source": [
    "Для начала видим что столбец с годом имеет тип данных `float64`, а также большое количество пропусков. В данном случае нам необходимо сначала избавиться от пропусков, а затем привести столбец к целому числу. Для заполнения пропусков передадим методу `.fillna()` сгруппированную таблицу по названиям игр со средним значением года релиза, так как релиз обычно на разных платформах происходит в один год. После этого посчитаем осташиеся пропуски."
   ]
  },
  {
   "cell_type": "code",
   "execution_count": 4,
   "metadata": {},
   "outputs": [
    {
     "data": {
      "text/plain": [
       "146"
      ]
     },
     "execution_count": 4,
     "metadata": {},
     "output_type": "execute_result"
    }
   ],
   "source": [
    "df['year_of_release'] = df['year_of_release'].fillna(df.groupby('name')['year_of_release'].transform('mean'))\n",
    "df['year_of_release'].isna().sum()"
   ]
  },
  {
   "cell_type": "markdown",
   "metadata": {},
   "source": [
    "Так как в таблице остались пропуски, а данных по ним нет, то экспортируем таблицу и заполним ее вручную из открытых источников."
   ]
  },
  {
   "cell_type": "code",
   "execution_count": 5,
   "metadata": {},
   "outputs": [
    {
     "data": {
      "text/html": [
       "<div>\n",
       "<style scoped>\n",
       "    .dataframe tbody tr th:only-of-type {\n",
       "        vertical-align: middle;\n",
       "    }\n",
       "\n",
       "    .dataframe tbody tr th {\n",
       "        vertical-align: top;\n",
       "    }\n",
       "\n",
       "    .dataframe thead th {\n",
       "        text-align: right;\n",
       "    }\n",
       "</style>\n",
       "<table border=\"1\" class=\"dataframe\">\n",
       "  <thead>\n",
       "    <tr style=\"text-align: right;\">\n",
       "      <th></th>\n",
       "      <th>name</th>\n",
       "      <th>platform</th>\n",
       "      <th>year_of_release</th>\n",
       "      <th>genre</th>\n",
       "      <th>na_sales</th>\n",
       "      <th>eu_sales</th>\n",
       "      <th>jp_sales</th>\n",
       "      <th>other_sales</th>\n",
       "      <th>critic_score</th>\n",
       "      <th>user_score</th>\n",
       "      <th>rating</th>\n",
       "    </tr>\n",
       "  </thead>\n",
       "  <tbody>\n",
       "    <tr>\n",
       "      <td>475</td>\n",
       "      <td>wwe Smackdown vs. Raw 2006</td>\n",
       "      <td>PS2</td>\n",
       "      <td>NaN</td>\n",
       "      <td>Fighting</td>\n",
       "      <td>1.57</td>\n",
       "      <td>1.02</td>\n",
       "      <td>0.00</td>\n",
       "      <td>0.41</td>\n",
       "      <td>NaN</td>\n",
       "      <td>NaN</td>\n",
       "      <td>NaN</td>\n",
       "    </tr>\n",
       "    <tr>\n",
       "      <td>627</td>\n",
       "      <td>Rock Band</td>\n",
       "      <td>X360</td>\n",
       "      <td>NaN</td>\n",
       "      <td>Misc</td>\n",
       "      <td>1.93</td>\n",
       "      <td>0.33</td>\n",
       "      <td>0.00</td>\n",
       "      <td>0.21</td>\n",
       "      <td>92.0</td>\n",
       "      <td>8.2</td>\n",
       "      <td>T</td>\n",
       "    </tr>\n",
       "    <tr>\n",
       "      <td>657</td>\n",
       "      <td>Frogger's Adventures: Temple of the Frog</td>\n",
       "      <td>GBA</td>\n",
       "      <td>NaN</td>\n",
       "      <td>Adventure</td>\n",
       "      <td>2.15</td>\n",
       "      <td>0.18</td>\n",
       "      <td>0.00</td>\n",
       "      <td>0.07</td>\n",
       "      <td>73.0</td>\n",
       "      <td>tbd</td>\n",
       "      <td>E</td>\n",
       "    </tr>\n",
       "    <tr>\n",
       "      <td>805</td>\n",
       "      <td>Rock Band</td>\n",
       "      <td>Wii</td>\n",
       "      <td>NaN</td>\n",
       "      <td>Misc</td>\n",
       "      <td>1.33</td>\n",
       "      <td>0.56</td>\n",
       "      <td>0.00</td>\n",
       "      <td>0.20</td>\n",
       "      <td>80.0</td>\n",
       "      <td>6.3</td>\n",
       "      <td>T</td>\n",
       "    </tr>\n",
       "    <tr>\n",
       "      <td>1142</td>\n",
       "      <td>Rock Band</td>\n",
       "      <td>PS3</td>\n",
       "      <td>NaN</td>\n",
       "      <td>Misc</td>\n",
       "      <td>0.99</td>\n",
       "      <td>0.41</td>\n",
       "      <td>0.00</td>\n",
       "      <td>0.22</td>\n",
       "      <td>92.0</td>\n",
       "      <td>8.4</td>\n",
       "      <td>T</td>\n",
       "    </tr>\n",
       "    <tr>\n",
       "      <td>...</td>\n",
       "      <td>...</td>\n",
       "      <td>...</td>\n",
       "      <td>...</td>\n",
       "      <td>...</td>\n",
       "      <td>...</td>\n",
       "      <td>...</td>\n",
       "      <td>...</td>\n",
       "      <td>...</td>\n",
       "      <td>...</td>\n",
       "      <td>...</td>\n",
       "      <td>...</td>\n",
       "    </tr>\n",
       "    <tr>\n",
       "      <td>16277</td>\n",
       "      <td>Homeworld Remastered Collection</td>\n",
       "      <td>PC</td>\n",
       "      <td>NaN</td>\n",
       "      <td>Strategy</td>\n",
       "      <td>0.00</td>\n",
       "      <td>0.01</td>\n",
       "      <td>0.00</td>\n",
       "      <td>0.00</td>\n",
       "      <td>86.0</td>\n",
       "      <td>8.2</td>\n",
       "      <td>E10+</td>\n",
       "    </tr>\n",
       "    <tr>\n",
       "      <td>16288</td>\n",
       "      <td>Shorts</td>\n",
       "      <td>DS</td>\n",
       "      <td>NaN</td>\n",
       "      <td>Platform</td>\n",
       "      <td>0.01</td>\n",
       "      <td>0.00</td>\n",
       "      <td>0.00</td>\n",
       "      <td>0.00</td>\n",
       "      <td>NaN</td>\n",
       "      <td>tbd</td>\n",
       "      <td>E10+</td>\n",
       "    </tr>\n",
       "    <tr>\n",
       "      <td>16348</td>\n",
       "      <td>Agarest Senki: Re-appearance</td>\n",
       "      <td>PS3</td>\n",
       "      <td>NaN</td>\n",
       "      <td>Role-Playing</td>\n",
       "      <td>0.00</td>\n",
       "      <td>0.00</td>\n",
       "      <td>0.01</td>\n",
       "      <td>0.00</td>\n",
       "      <td>NaN</td>\n",
       "      <td>NaN</td>\n",
       "      <td>NaN</td>\n",
       "    </tr>\n",
       "    <tr>\n",
       "      <td>16458</td>\n",
       "      <td>Hakuouki: Shinsengumi Kitan</td>\n",
       "      <td>PS3</td>\n",
       "      <td>NaN</td>\n",
       "      <td>Adventure</td>\n",
       "      <td>0.01</td>\n",
       "      <td>0.00</td>\n",
       "      <td>0.00</td>\n",
       "      <td>0.00</td>\n",
       "      <td>NaN</td>\n",
       "      <td>NaN</td>\n",
       "      <td>NaN</td>\n",
       "    </tr>\n",
       "    <tr>\n",
       "      <td>16522</td>\n",
       "      <td>Virtua Quest</td>\n",
       "      <td>GC</td>\n",
       "      <td>NaN</td>\n",
       "      <td>Role-Playing</td>\n",
       "      <td>0.01</td>\n",
       "      <td>0.00</td>\n",
       "      <td>0.00</td>\n",
       "      <td>0.00</td>\n",
       "      <td>55.0</td>\n",
       "      <td>5.5</td>\n",
       "      <td>T</td>\n",
       "    </tr>\n",
       "  </tbody>\n",
       "</table>\n",
       "<p>146 rows × 11 columns</p>\n",
       "</div>"
      ],
      "text/plain": [
       "                                           name platform  year_of_release  \\\n",
       "475                  wwe Smackdown vs. Raw 2006      PS2              NaN   \n",
       "627                                   Rock Band     X360              NaN   \n",
       "657    Frogger's Adventures: Temple of the Frog      GBA              NaN   \n",
       "805                                   Rock Band      Wii              NaN   \n",
       "1142                                  Rock Band      PS3              NaN   \n",
       "...                                         ...      ...              ...   \n",
       "16277           Homeworld Remastered Collection       PC              NaN   \n",
       "16288                                    Shorts       DS              NaN   \n",
       "16348              Agarest Senki: Re-appearance      PS3              NaN   \n",
       "16458               Hakuouki: Shinsengumi Kitan      PS3              NaN   \n",
       "16522                              Virtua Quest       GC              NaN   \n",
       "\n",
       "              genre  na_sales  eu_sales  jp_sales  other_sales  critic_score  \\\n",
       "475        Fighting      1.57      1.02      0.00         0.41           NaN   \n",
       "627            Misc      1.93      0.33      0.00         0.21          92.0   \n",
       "657       Adventure      2.15      0.18      0.00         0.07          73.0   \n",
       "805            Misc      1.33      0.56      0.00         0.20          80.0   \n",
       "1142           Misc      0.99      0.41      0.00         0.22          92.0   \n",
       "...             ...       ...       ...       ...          ...           ...   \n",
       "16277      Strategy      0.00      0.01      0.00         0.00          86.0   \n",
       "16288      Platform      0.01      0.00      0.00         0.00           NaN   \n",
       "16348  Role-Playing      0.00      0.00      0.01         0.00           NaN   \n",
       "16458     Adventure      0.01      0.00      0.00         0.00           NaN   \n",
       "16522  Role-Playing      0.01      0.00      0.00         0.00          55.0   \n",
       "\n",
       "      user_score rating  \n",
       "475          NaN    NaN  \n",
       "627          8.2      T  \n",
       "657          tbd      E  \n",
       "805          6.3      T  \n",
       "1142         8.4      T  \n",
       "...          ...    ...  \n",
       "16277        8.2   E10+  \n",
       "16288        tbd   E10+  \n",
       "16348        NaN    NaN  \n",
       "16458        NaN    NaN  \n",
       "16522        5.5      T  \n",
       "\n",
       "[146 rows x 11 columns]"
      ]
     },
     "metadata": {},
     "output_type": "display_data"
    }
   ],
   "source": [
    "year_of_release = df[df['year_of_release'].isna()]\n",
    "display(year_of_release)\n",
    "year_of_release.to_csv('year_of_release.csv')"
   ]
  },
  {
   "cell_type": "markdown",
   "metadata": {},
   "source": [
    "После ручного добавления необходимых данных в таблицу, повторим заполнение пропусков. "
   ]
  },
  {
   "cell_type": "code",
   "execution_count": 6,
   "metadata": {},
   "outputs": [
    {
     "name": "stdout",
     "output_type": "stream",
     "text": [
      "<class 'pandas.core.frame.DataFrame'>\n",
      "Int64Index: 146 entries, 475 to 16522\n",
      "Data columns (total 11 columns):\n",
      "name               146 non-null object\n",
      "platform           146 non-null object\n",
      "year_of_release    146 non-null int64\n",
      "genre              146 non-null object\n",
      "na_sales           146 non-null float64\n",
      "eu_sales           146 non-null float64\n",
      "jp_sales           146 non-null float64\n",
      "other_sales        146 non-null float64\n",
      "critic_score       62 non-null float64\n",
      "user_score         80 non-null object\n",
      "rating             81 non-null object\n",
      "dtypes: float64(5), int64(1), object(5)\n",
      "memory usage: 13.7+ KB\n"
     ]
    }
   ],
   "source": [
    "year_of_release_correct = pd.read_csv('year_of_release_correct.csv', sep=';', index_col=0)\n",
    "year_of_release_correct.info()"
   ]
  },
  {
   "cell_type": "code",
   "execution_count": 7,
   "metadata": {},
   "outputs": [
    {
     "data": {
      "text/plain": [
       "0"
      ]
     },
     "execution_count": 7,
     "metadata": {},
     "output_type": "execute_result"
    }
   ],
   "source": [
    "df['year_of_release'] = df['year_of_release'].fillna(year_of_release_correct['year_of_release'])\n",
    "df['year_of_release'].isna().sum()"
   ]
  },
  {
   "cell_type": "markdown",
   "metadata": {},
   "source": [
    "Преобразуем столбец с `year_of_release` в целочисленный тип данных, предварительно округлив значения до целых."
   ]
  },
  {
   "cell_type": "code",
   "execution_count": 8,
   "metadata": {},
   "outputs": [
    {
     "name": "stdout",
     "output_type": "stream",
     "text": [
      "<class 'pandas.core.frame.DataFrame'>\n",
      "RangeIndex: 16715 entries, 0 to 16714\n",
      "Data columns (total 11 columns):\n",
      "name               16713 non-null object\n",
      "platform           16715 non-null object\n",
      "year_of_release    16715 non-null int64\n",
      "genre              16713 non-null object\n",
      "na_sales           16715 non-null float64\n",
      "eu_sales           16715 non-null float64\n",
      "jp_sales           16715 non-null float64\n",
      "other_sales        16715 non-null float64\n",
      "critic_score       8137 non-null float64\n",
      "user_score         10014 non-null object\n",
      "rating             9949 non-null object\n",
      "dtypes: float64(5), int64(1), object(5)\n",
      "memory usage: 1.4+ MB\n"
     ]
    }
   ],
   "source": [
    "df['year_of_release'] = df['year_of_release'].round().astype('int64')\n",
    "df.info()"
   ]
  },
  {
   "cell_type": "markdown",
   "metadata": {},
   "source": [
    "В столбце `user_score` и `critic_score` встречается тип даннных `object`. Взглянем на него подробнее."
   ]
  },
  {
   "cell_type": "code",
   "execution_count": 9,
   "metadata": {},
   "outputs": [
    {
     "data": {
      "text/plain": [
       "array(['0', '0.2', '0.3', '0.5', '0.6', '0.7', '0.9', '1', '1.1', '1.2',\n",
       "       '1.3', '1.4', '1.5', '1.6', '1.7', '1.8', '1.9', '2', '2.1', '2.2',\n",
       "       '2.3', '2.4', '2.5', '2.6', '2.7', '2.8', '2.9', '3', '3.1', '3.2',\n",
       "       '3.3', '3.4', '3.5', '3.6', '3.7', '3.8', '3.9', '4', '4.1', '4.2',\n",
       "       '4.3', '4.4', '4.5', '4.6', '4.7', '4.8', '4.9', '5', '5.1', '5.2',\n",
       "       '5.3', '5.4', '5.5', '5.6', '5.7', '5.8', '5.9', '6', '6.1', '6.2',\n",
       "       '6.3', '6.4', '6.5', '6.6', '6.7', '6.8', '6.9', '7', '7.1', '7.2',\n",
       "       '7.3', '7.4', '7.5', '7.6', '7.7', '7.8', '7.9', '8', '8.1', '8.2',\n",
       "       '8.3', '8.4', '8.5', '8.6', '8.7', '8.8', '8.9', '9', '9.1', '9.2',\n",
       "       '9.3', '9.4', '9.5', '9.6', '9.7', 'tbd', nan], dtype=object)"
      ]
     },
     "execution_count": 9,
     "metadata": {},
     "output_type": "execute_result"
    }
   ],
   "source": [
    "df['user_score'].sort_values().unique()"
   ]
  },
  {
   "cell_type": "code",
   "execution_count": 10,
   "metadata": {},
   "outputs": [
    {
     "data": {
      "text/plain": [
       "array([13., 17., 19., 20., 21., 22., 23., 24., 25., 26., 27., 28., 29.,\n",
       "       30., 31., 32., 33., 34., 35., 36., 37., 38., 39., 40., 41., 42.,\n",
       "       43., 44., 45., 46., 47., 48., 49., 50., 51., 52., 53., 54., 55.,\n",
       "       56., 57., 58., 59., 60., 61., 62., 63., 64., 65., 66., 67., 68.,\n",
       "       69., 70., 71., 72., 73., 74., 75., 76., 77., 78., 79., 80., 81.,\n",
       "       82., 83., 84., 85., 86., 87., 88., 89., 90., 91., 92., 93., 94.,\n",
       "       95., 96., 97., 98., nan])"
      ]
     },
     "execution_count": 10,
     "metadata": {},
     "output_type": "execute_result"
    }
   ],
   "source": [
    "df['critic_score'].sort_values().unique()"
   ]
  },
  {
   "cell_type": "markdown",
   "metadata": {},
   "source": [
    "После просмотра уникальных значений в столбце с оценками пользователей видим значение `tbd`. Данная аббревиатура раcшифровывается как to be clarified (с англ. быть уточненным). Как правило данную аббревиатуру просталвляют когда данных нет Заменим данную аббривеатуру на пропуски."
   ]
  },
  {
   "cell_type": "code",
   "execution_count": 11,
   "metadata": {},
   "outputs": [
    {
     "data": {
      "text/html": [
       "<div>\n",
       "<style scoped>\n",
       "    .dataframe tbody tr th:only-of-type {\n",
       "        vertical-align: middle;\n",
       "    }\n",
       "\n",
       "    .dataframe tbody tr th {\n",
       "        vertical-align: top;\n",
       "    }\n",
       "\n",
       "    .dataframe thead th {\n",
       "        text-align: right;\n",
       "    }\n",
       "</style>\n",
       "<table border=\"1\" class=\"dataframe\">\n",
       "  <thead>\n",
       "    <tr style=\"text-align: right;\">\n",
       "      <th></th>\n",
       "      <th>name</th>\n",
       "      <th>platform</th>\n",
       "      <th>year_of_release</th>\n",
       "      <th>genre</th>\n",
       "      <th>na_sales</th>\n",
       "      <th>eu_sales</th>\n",
       "      <th>jp_sales</th>\n",
       "      <th>other_sales</th>\n",
       "      <th>critic_score</th>\n",
       "      <th>user_score</th>\n",
       "      <th>rating</th>\n",
       "    </tr>\n",
       "  </thead>\n",
       "  <tbody>\n",
       "  </tbody>\n",
       "</table>\n",
       "</div>"
      ],
      "text/plain": [
       "Empty DataFrame\n",
       "Columns: [name, platform, year_of_release, genre, na_sales, eu_sales, jp_sales, other_sales, critic_score, user_score, rating]\n",
       "Index: []"
      ]
     },
     "execution_count": 11,
     "metadata": {},
     "output_type": "execute_result"
    }
   ],
   "source": [
    "df.loc[df['user_score'] == 'tbd', 'user_score'] = np.nan\n",
    "df.query('user_score == \"tbd\"')"
   ]
  },
  {
   "cell_type": "markdown",
   "metadata": {},
   "source": [
    "Преобразуем тип данных в столбце `user_score` в `float`"
   ]
  },
  {
   "cell_type": "code",
   "execution_count": 12,
   "metadata": {},
   "outputs": [
    {
     "name": "stdout",
     "output_type": "stream",
     "text": [
      "<class 'pandas.core.frame.DataFrame'>\n",
      "RangeIndex: 16715 entries, 0 to 16714\n",
      "Data columns (total 11 columns):\n",
      "name               16713 non-null object\n",
      "platform           16715 non-null object\n",
      "year_of_release    16715 non-null int64\n",
      "genre              16713 non-null object\n",
      "na_sales           16715 non-null float64\n",
      "eu_sales           16715 non-null float64\n",
      "jp_sales           16715 non-null float64\n",
      "other_sales        16715 non-null float64\n",
      "critic_score       8137 non-null float64\n",
      "user_score         7590 non-null float64\n",
      "rating             9949 non-null object\n",
      "dtypes: float64(6), int64(1), object(4)\n",
      "memory usage: 1.4+ MB\n"
     ]
    }
   ],
   "source": [
    "df['user_score'] = df['user_score'].astype('float64')\n",
    "df.info()"
   ]
  },
  {
   "cell_type": "code",
   "execution_count": 13,
   "metadata": {},
   "outputs": [
    {
     "data": {
      "text/plain": [
       "array([0. , 0.2, 0.3, 0.5, 0.6, 0.7, 0.9, 1. , 1.1, 1.2, 1.3, 1.4, 1.5,\n",
       "       1.6, 1.7, 1.8, 1.9, 2. , 2.1, 2.2, 2.3, 2.4, 2.5, 2.6, 2.7, 2.8,\n",
       "       2.9, 3. , 3.1, 3.2, 3.3, 3.4, 3.5, 3.6, 3.7, 3.8, 3.9, 4. , 4.1,\n",
       "       4.2, 4.3, 4.4, 4.5, 4.6, 4.7, 4.8, 4.9, 5. , 5.1, 5.2, 5.3, 5.4,\n",
       "       5.5, 5.6, 5.7, 5.8, 5.9, 6. , 6.1, 6.2, 6.3, 6.4, 6.5, 6.6, 6.7,\n",
       "       6.8, 6.9, 7. , 7.1, 7.2, 7.3, 7.4, 7.5, 7.6, 7.7, 7.8, 7.9, 8. ,\n",
       "       8.1, 8.2, 8.3, 8.4, 8.5, 8.6, 8.7, 8.8, 8.9, 9. , 9.1, 9.2, 9.3,\n",
       "       9.4, 9.5, 9.6, 9.7, nan])"
      ]
     },
     "execution_count": 13,
     "metadata": {},
     "output_type": "execute_result"
    }
   ],
   "source": [
    "df['user_score'].sort_values().unique()"
   ]
  },
  {
   "cell_type": "markdown",
   "metadata": {},
   "source": [
    "<div class=\"alert alert-success\">\n",
    "<b>Комментарий ревьюера:</b>\n",
    "\n",
    "В том числе метод `fillna` и `astype` можно применять к нескольким столбцам одновременно.\n",
    "    \n",
    "Если столбцов более 2–ух, то рекомендую применять цикл `for`.\n",
    "    \n",
    "Пример: \n",
    "    \n",
    "`df.astype({ \"col1\": \"float64\", \"col2\": \"int64\"})`\n",
    "    \n",
    "</div>"
   ]
  },
  {
   "cell_type": "markdown",
   "metadata": {},
   "source": [
    "### Обработка пропусков"
   ]
  },
  {
   "cell_type": "markdown",
   "metadata": {},
   "source": [
    "Просмотрим строки с пропущенными значениями в столбце `name`."
   ]
  },
  {
   "cell_type": "code",
   "execution_count": 14,
   "metadata": {},
   "outputs": [
    {
     "data": {
      "text/html": [
       "<div>\n",
       "<style scoped>\n",
       "    .dataframe tbody tr th:only-of-type {\n",
       "        vertical-align: middle;\n",
       "    }\n",
       "\n",
       "    .dataframe tbody tr th {\n",
       "        vertical-align: top;\n",
       "    }\n",
       "\n",
       "    .dataframe thead th {\n",
       "        text-align: right;\n",
       "    }\n",
       "</style>\n",
       "<table border=\"1\" class=\"dataframe\">\n",
       "  <thead>\n",
       "    <tr style=\"text-align: right;\">\n",
       "      <th></th>\n",
       "      <th>name</th>\n",
       "      <th>platform</th>\n",
       "      <th>year_of_release</th>\n",
       "      <th>genre</th>\n",
       "      <th>na_sales</th>\n",
       "      <th>eu_sales</th>\n",
       "      <th>jp_sales</th>\n",
       "      <th>other_sales</th>\n",
       "      <th>critic_score</th>\n",
       "      <th>user_score</th>\n",
       "      <th>rating</th>\n",
       "    </tr>\n",
       "  </thead>\n",
       "  <tbody>\n",
       "    <tr>\n",
       "      <td>659</td>\n",
       "      <td>NaN</td>\n",
       "      <td>GEN</td>\n",
       "      <td>1993</td>\n",
       "      <td>NaN</td>\n",
       "      <td>1.78</td>\n",
       "      <td>0.53</td>\n",
       "      <td>0.00</td>\n",
       "      <td>0.08</td>\n",
       "      <td>NaN</td>\n",
       "      <td>NaN</td>\n",
       "      <td>NaN</td>\n",
       "    </tr>\n",
       "    <tr>\n",
       "      <td>14244</td>\n",
       "      <td>NaN</td>\n",
       "      <td>GEN</td>\n",
       "      <td>1993</td>\n",
       "      <td>NaN</td>\n",
       "      <td>0.00</td>\n",
       "      <td>0.00</td>\n",
       "      <td>0.03</td>\n",
       "      <td>0.00</td>\n",
       "      <td>NaN</td>\n",
       "      <td>NaN</td>\n",
       "      <td>NaN</td>\n",
       "    </tr>\n",
       "  </tbody>\n",
       "</table>\n",
       "</div>"
      ],
      "text/plain": [
       "      name platform  year_of_release genre  na_sales  eu_sales  jp_sales  \\\n",
       "659    NaN      GEN             1993   NaN      1.78      0.53      0.00   \n",
       "14244  NaN      GEN             1993   NaN      0.00      0.00      0.03   \n",
       "\n",
       "       other_sales  critic_score  user_score rating  \n",
       "659           0.08           NaN         NaN    NaN  \n",
       "14244         0.00           NaN         NaN    NaN  "
      ]
     },
     "execution_count": 14,
     "metadata": {},
     "output_type": "execute_result"
    }
   ],
   "source": [
    "df[df['name'].isna()]"
   ]
  },
  {
   "cell_type": "markdown",
   "metadata": {},
   "source": [
    "Данные строки можно смело удалить."
   ]
  },
  {
   "cell_type": "code",
   "execution_count": 15,
   "metadata": {},
   "outputs": [
    {
     "name": "stdout",
     "output_type": "stream",
     "text": [
      "<class 'pandas.core.frame.DataFrame'>\n",
      "Int64Index: 16713 entries, 0 to 16714\n",
      "Data columns (total 11 columns):\n",
      "name               16713 non-null object\n",
      "platform           16713 non-null object\n",
      "year_of_release    16713 non-null int64\n",
      "genre              16713 non-null object\n",
      "na_sales           16713 non-null float64\n",
      "eu_sales           16713 non-null float64\n",
      "jp_sales           16713 non-null float64\n",
      "other_sales        16713 non-null float64\n",
      "critic_score       8137 non-null float64\n",
      "user_score         7590 non-null float64\n",
      "rating             9949 non-null object\n",
      "dtypes: float64(6), int64(1), object(4)\n",
      "memory usage: 1.5+ MB\n"
     ]
    }
   ],
   "source": [
    "df = df.dropna(subset=['name'])\n",
    "df.info()"
   ]
  },
  {
   "cell_type": "markdown",
   "metadata": {},
   "source": [
    "В столбцах с оценками пользователей и критиков оставим как есть, так как заменить на 0 нельзя, так как 0 - это оценка.\n",
    "\n",
    "Посмотрим на пропуска в столбце с рейтингом."
   ]
  },
  {
   "cell_type": "markdown",
   "metadata": {},
   "source": [
    "### Определение общей выручки"
   ]
  },
  {
   "cell_type": "markdown",
   "metadata": {},
   "source": [
    "Определим общую выручку для каждой игры, сложив все продажи."
   ]
  },
  {
   "cell_type": "code",
   "execution_count": 16,
   "metadata": {},
   "outputs": [],
   "source": [
    "df['general_sales'] = df['na_sales'] + df['eu_sales'] + df['jp_sales'] + df['other_sales']"
   ]
  },
  {
   "cell_type": "markdown",
   "metadata": {},
   "source": [
    "**Вывод**\n",
    "\n",
    "На данном этапе провели подготовку данных, для дальнейшего анализа: преобразовали типы, заполнили пропуски в столбце с годом релиза, удалили строки с пропущенными названиями и жанром двумя играми. В столбцах с рейтингом и оценками пользователей и критиков пропуски оставили как есть."
   ]
  },
  {
   "cell_type": "markdown",
   "metadata": {},
   "source": [
    "<div class=\"alert alert-success\">\n",
    "<b>Комментарий ревьюера:</b>\n",
    "\n",
    "Кстати мы можем применить метод `sum(axis=1)` к суммируемым столбцам.\n",
    "    \n",
    "`df[['col1', 'col2', 'col3']].sum(axis=1)`\n",
    "</div>"
   ]
  },
  {
   "cell_type": "markdown",
   "metadata": {},
   "source": [
    "## Исследовательский анализ данных"
   ]
  },
  {
   "cell_type": "markdown",
   "metadata": {},
   "source": [
    "### Исследование выпуска игр по годам"
   ]
  },
  {
   "cell_type": "code",
   "execution_count": 17,
   "metadata": {},
   "outputs": [
    {
     "data": {
      "image/png": "[encoded data removed]",
      "text/plain": [
       "<Figure size 864x576 with 1 Axes>"
      ]
     },
     "metadata": {
      "needs_background": "light"
     },
     "output_type": "display_data"
    }
   ],
   "source": [
    "fig, ax = plt.subplots()\n",
    "\n",
    "plt.plot(\n",
    "    df.groupby('year_of_release')['name'].count()\n",
    "    \n",
    ")\n",
    "\n",
    "fig.set_figwidth(12)\n",
    "fig.set_figheight(6)\n",
    "fig.suptitle('График количества игр по годам', fontsize = 15)\n",
    "\n",
    "#  Устанавливаем интервал основных и\n",
    "#  вспомогательных делений:\n",
    "ax.xaxis.set_major_locator(ticker.MultipleLocator(2))\n",
    "ax.xaxis.set_minor_locator(ticker.MultipleLocator(1))\n",
    "ax.yaxis.set_major_locator(ticker.MultipleLocator(200))\n",
    "ax.yaxis.set_minor_locator(ticker.MultipleLocator(100))\n",
    "\n",
    "#  Добавляем линии основной сетки:\n",
    "ax.grid(which='major',\n",
    "        color = 'k')\n",
    "ax.set_xlabel('Год')\n",
    "ax.set_ylabel('Количество игр, шт.')\n",
    "\n",
    "#  Включаем видимость вспомогательных делений:\n",
    "ax.minorticks_on()\n",
    "#  Теперь можем отдельно задавать внешний вид\n",
    "#  вспомогательной сетки:\n",
    "ax.grid(which='minor',\n",
    "        color = 'gray',\n",
    "        linestyle = ':')\n",
    "\n",
    "fig.set_figwidth(12)\n",
    "fig.set_figheight(8)\n",
    "\n",
    "plt.show()"
   ]
  },
  {
   "cell_type": "markdown",
   "metadata": {},
   "source": [
    "**Вывод**\n",
    "\n",
    "Как видно из графика значений до 1990 года очень мало и после этого года начинается резкий подъем вверх выпуска игр. Отбросим значения до 1990 года. Также из графика видно что распределение видимой части похоже на нормальное распределение со смещением вправо. Также видны характерные точки:\n",
    "* до 2008 года стремительный рост количества игр;\n",
    "* падение прекращается в 2012 году, финансовая ситуация в мире начинает налаживаться, мы видим рост на графике;\n",
    "* характерный перелом наступает в 2014 году, когда снова ударил финансовый кризис и началось падение рынка.\n",
    "\n",
    "Построенный нами график отражает суть событий в мире."
   ]
  },
  {
   "cell_type": "markdown",
   "metadata": {},
   "source": [
    "<div class=\"alert alert-success\">\n",
    "<b>Комментарий ревьюера:</b>\n",
    "\n",
    "Здорово, когда график и его оси подписаны 😊👍\n",
    "    \n",
    "Так быстрее понять о чем идёт речь на самом графике.\n",
    "    \n",
    "</div>"
   ]
  },
  {
   "cell_type": "markdown",
   "metadata": {},
   "source": [
    "### Исследование продожительности жизни платформы"
   ]
  },
  {
   "cell_type": "markdown",
   "metadata": {},
   "source": [
    "Для начала определим платформы с наибольшими суммарными продажами."
   ]
  },
  {
   "cell_type": "code",
   "execution_count": 18,
   "metadata": {
    "scrolled": false
   },
   "outputs": [
    {
     "data": {
      "image/png": "[encoded data removed]",
      "text/plain": [
       "<Figure size 1080x432 with 1 Axes>"
      ]
     },
     "metadata": {
      "needs_background": "light"
     },
     "output_type": "display_data"
    }
   ],
   "source": [
    "platform_sales = df.pivot_table(\n",
    "    values='general_sales',\n",
    "    index='platform',\n",
    "    aggfunc='sum'\n",
    ").sort_values(by='general_sales').reset_index()\n",
    "#display(platform_sales)\n",
    "\n",
    "fig, ax = plt.subplots()\n",
    "\n",
    "plt.bar(platform_sales['platform'], platform_sales['general_sales'])\n",
    "\n",
    "fig.set_figwidth(15)\n",
    "fig.set_figheight(6)\n",
    "fig.suptitle('Суммарыне продажи', fontsize = 15)\n",
    "\n",
    "ax.set_xlabel('Названия плотформ')\n",
    "ax.set_ylabel('Суммарные продажи по платформе, млн. копий')\n",
    "\n",
    "plt.xticks(rotation=90)\n",
    "plt.show()"
   ]
  },
  {
   "cell_type": "markdown",
   "metadata": {},
   "source": [
    "По гистограмме отчетливо видно 6 платформ, которые преобладают в продажах: PS, DS, Wii, PS2, PS3, X360. \n",
    "Построим распределение продаж для каждой платформы по годам в одной системе координат."
   ]
  },
  {
   "cell_type": "markdown",
   "metadata": {},
   "source": [
    "<div class=\"alert alert-success\">\n",
    "<b>Комментарий ревьюера:</b>\n",
    "\n",
    "Отличный формат графика 👍\n",
    "    \n",
    "Если вдруг тебе понравилась тема визуализации, рекомендую посмотреть на библиотеку `seaborn`\n",
    "</div>"
   ]
  },
  {
   "cell_type": "code",
   "execution_count": 19,
   "metadata": {
    "scrolled": false
   },
   "outputs": [
    {
     "data": {
      "text/html": [
       "<div>\n",
       "<style scoped>\n",
       "    .dataframe tbody tr th:only-of-type {\n",
       "        vertical-align: middle;\n",
       "    }\n",
       "\n",
       "    .dataframe tbody tr th {\n",
       "        vertical-align: top;\n",
       "    }\n",
       "\n",
       "    .dataframe thead th {\n",
       "        text-align: right;\n",
       "    }\n",
       "</style>\n",
       "<table border=\"1\" class=\"dataframe\">\n",
       "  <thead>\n",
       "    <tr style=\"text-align: right;\">\n",
       "      <th>platform</th>\n",
       "      <th>DS</th>\n",
       "      <th>PS</th>\n",
       "      <th>PS2</th>\n",
       "      <th>PS3</th>\n",
       "      <th>Wii</th>\n",
       "      <th>X360</th>\n",
       "    </tr>\n",
       "    <tr>\n",
       "      <th>year_of_release</th>\n",
       "      <th></th>\n",
       "      <th></th>\n",
       "      <th></th>\n",
       "      <th></th>\n",
       "      <th></th>\n",
       "      <th></th>\n",
       "    </tr>\n",
       "  </thead>\n",
       "  <tbody>\n",
       "    <tr>\n",
       "      <td>1994</td>\n",
       "      <td>NaN</td>\n",
       "      <td>6.03</td>\n",
       "      <td>NaN</td>\n",
       "      <td>NaN</td>\n",
       "      <td>NaN</td>\n",
       "      <td>NaN</td>\n",
       "    </tr>\n",
       "    <tr>\n",
       "      <td>1995</td>\n",
       "      <td>NaN</td>\n",
       "      <td>35.96</td>\n",
       "      <td>NaN</td>\n",
       "      <td>NaN</td>\n",
       "      <td>NaN</td>\n",
       "      <td>NaN</td>\n",
       "    </tr>\n",
       "    <tr>\n",
       "      <td>1996</td>\n",
       "      <td>NaN</td>\n",
       "      <td>94.70</td>\n",
       "      <td>NaN</td>\n",
       "      <td>NaN</td>\n",
       "      <td>NaN</td>\n",
       "      <td>NaN</td>\n",
       "    </tr>\n",
       "    <tr>\n",
       "      <td>1997</td>\n",
       "      <td>NaN</td>\n",
       "      <td>136.17</td>\n",
       "      <td>NaN</td>\n",
       "      <td>NaN</td>\n",
       "      <td>NaN</td>\n",
       "      <td>NaN</td>\n",
       "    </tr>\n",
       "    <tr>\n",
       "      <td>1998</td>\n",
       "      <td>NaN</td>\n",
       "      <td>170.99</td>\n",
       "      <td>NaN</td>\n",
       "      <td>NaN</td>\n",
       "      <td>NaN</td>\n",
       "      <td>NaN</td>\n",
       "    </tr>\n",
       "    <tr>\n",
       "      <td>1999</td>\n",
       "      <td>NaN</td>\n",
       "      <td>145.58</td>\n",
       "      <td>NaN</td>\n",
       "      <td>NaN</td>\n",
       "      <td>0.04</td>\n",
       "      <td>NaN</td>\n",
       "    </tr>\n",
       "    <tr>\n",
       "      <td>2000</td>\n",
       "      <td>NaN</td>\n",
       "      <td>96.76</td>\n",
       "      <td>39.17</td>\n",
       "      <td>NaN</td>\n",
       "      <td>NaN</td>\n",
       "      <td>NaN</td>\n",
       "    </tr>\n",
       "    <tr>\n",
       "      <td>2001</td>\n",
       "      <td>NaN</td>\n",
       "      <td>35.93</td>\n",
       "      <td>166.82</td>\n",
       "      <td>0.48</td>\n",
       "      <td>NaN</td>\n",
       "      <td>NaN</td>\n",
       "    </tr>\n",
       "    <tr>\n",
       "      <td>2002</td>\n",
       "      <td>NaN</td>\n",
       "      <td>6.67</td>\n",
       "      <td>210.66</td>\n",
       "      <td>NaN</td>\n",
       "      <td>NaN</td>\n",
       "      <td>NaN</td>\n",
       "    </tr>\n",
       "    <tr>\n",
       "      <td>2003</td>\n",
       "      <td>NaN</td>\n",
       "      <td>2.07</td>\n",
       "      <td>193.20</td>\n",
       "      <td>NaN</td>\n",
       "      <td>NaN</td>\n",
       "      <td>NaN</td>\n",
       "    </tr>\n",
       "    <tr>\n",
       "      <td>2004</td>\n",
       "      <td>17.27</td>\n",
       "      <td>NaN</td>\n",
       "      <td>213.38</td>\n",
       "      <td>NaN</td>\n",
       "      <td>NaN</td>\n",
       "      <td>NaN</td>\n",
       "    </tr>\n",
       "    <tr>\n",
       "      <td>2005</td>\n",
       "      <td>130.23</td>\n",
       "      <td>NaN</td>\n",
       "      <td>163.84</td>\n",
       "      <td>0.19</td>\n",
       "      <td>NaN</td>\n",
       "      <td>9.22</td>\n",
       "    </tr>\n",
       "    <tr>\n",
       "      <td>2006</td>\n",
       "      <td>120.09</td>\n",
       "      <td>NaN</td>\n",
       "      <td>105.03</td>\n",
       "      <td>20.96</td>\n",
       "      <td>140.54</td>\n",
       "      <td>51.80</td>\n",
       "    </tr>\n",
       "    <tr>\n",
       "      <td>2007</td>\n",
       "      <td>147.30</td>\n",
       "      <td>NaN</td>\n",
       "      <td>77.28</td>\n",
       "      <td>74.81</td>\n",
       "      <td>155.53</td>\n",
       "      <td>97.88</td>\n",
       "    </tr>\n",
       "    <tr>\n",
       "      <td>2008</td>\n",
       "      <td>146.13</td>\n",
       "      <td>NaN</td>\n",
       "      <td>53.90</td>\n",
       "      <td>119.55</td>\n",
       "      <td>177.76</td>\n",
       "      <td>137.00</td>\n",
       "    </tr>\n",
       "    <tr>\n",
       "      <td>2009</td>\n",
       "      <td>120.01</td>\n",
       "      <td>NaN</td>\n",
       "      <td>26.40</td>\n",
       "      <td>131.11</td>\n",
       "      <td>207.33</td>\n",
       "      <td>121.00</td>\n",
       "    </tr>\n",
       "    <tr>\n",
       "      <td>2010</td>\n",
       "      <td>85.47</td>\n",
       "      <td>NaN</td>\n",
       "      <td>5.64</td>\n",
       "      <td>143.92</td>\n",
       "      <td>129.71</td>\n",
       "      <td>170.55</td>\n",
       "    </tr>\n",
       "    <tr>\n",
       "      <td>2011</td>\n",
       "      <td>26.33</td>\n",
       "      <td>NaN</td>\n",
       "      <td>0.45</td>\n",
       "      <td>158.84</td>\n",
       "      <td>60.00</td>\n",
       "      <td>146.38</td>\n",
       "    </tr>\n",
       "    <tr>\n",
       "      <td>2012</td>\n",
       "      <td>11.73</td>\n",
       "      <td>NaN</td>\n",
       "      <td>NaN</td>\n",
       "      <td>108.35</td>\n",
       "      <td>22.94</td>\n",
       "      <td>100.79</td>\n",
       "    </tr>\n",
       "    <tr>\n",
       "      <td>2013</td>\n",
       "      <td>1.54</td>\n",
       "      <td>NaN</td>\n",
       "      <td>NaN</td>\n",
       "      <td>113.25</td>\n",
       "      <td>8.59</td>\n",
       "      <td>88.58</td>\n",
       "    </tr>\n",
       "    <tr>\n",
       "      <td>2014</td>\n",
       "      <td>NaN</td>\n",
       "      <td>NaN</td>\n",
       "      <td>NaN</td>\n",
       "      <td>47.77</td>\n",
       "      <td>3.75</td>\n",
       "      <td>34.74</td>\n",
       "    </tr>\n",
       "    <tr>\n",
       "      <td>2015</td>\n",
       "      <td>NaN</td>\n",
       "      <td>NaN</td>\n",
       "      <td>NaN</td>\n",
       "      <td>16.82</td>\n",
       "      <td>1.14</td>\n",
       "      <td>11.96</td>\n",
       "    </tr>\n",
       "    <tr>\n",
       "      <td>2016</td>\n",
       "      <td>NaN</td>\n",
       "      <td>NaN</td>\n",
       "      <td>NaN</td>\n",
       "      <td>3.60</td>\n",
       "      <td>0.18</td>\n",
       "      <td>1.52</td>\n",
       "    </tr>\n",
       "  </tbody>\n",
       "</table>\n",
       "</div>"
      ],
      "text/plain": [
       "platform             DS      PS     PS2     PS3     Wii    X360\n",
       "year_of_release                                                \n",
       "1994                NaN    6.03     NaN     NaN     NaN     NaN\n",
       "1995                NaN   35.96     NaN     NaN     NaN     NaN\n",
       "1996                NaN   94.70     NaN     NaN     NaN     NaN\n",
       "1997                NaN  136.17     NaN     NaN     NaN     NaN\n",
       "1998                NaN  170.99     NaN     NaN     NaN     NaN\n",
       "1999                NaN  145.58     NaN     NaN    0.04     NaN\n",
       "2000                NaN   96.76   39.17     NaN     NaN     NaN\n",
       "2001                NaN   35.93  166.82    0.48     NaN     NaN\n",
       "2002                NaN    6.67  210.66     NaN     NaN     NaN\n",
       "2003                NaN    2.07  193.20     NaN     NaN     NaN\n",
       "2004              17.27     NaN  213.38     NaN     NaN     NaN\n",
       "2005             130.23     NaN  163.84    0.19     NaN    9.22\n",
       "2006             120.09     NaN  105.03   20.96  140.54   51.80\n",
       "2007             147.30     NaN   77.28   74.81  155.53   97.88\n",
       "2008             146.13     NaN   53.90  119.55  177.76  137.00\n",
       "2009             120.01     NaN   26.40  131.11  207.33  121.00\n",
       "2010              85.47     NaN    5.64  143.92  129.71  170.55\n",
       "2011              26.33     NaN    0.45  158.84   60.00  146.38\n",
       "2012              11.73     NaN     NaN  108.35   22.94  100.79\n",
       "2013               1.54     NaN     NaN  113.25    8.59   88.58\n",
       "2014                NaN     NaN     NaN   47.77    3.75   34.74\n",
       "2015                NaN     NaN     NaN   16.82    1.14   11.96\n",
       "2016                NaN     NaN     NaN    3.60    0.18    1.52"
      ]
     },
     "metadata": {},
     "output_type": "display_data"
    }
   ],
   "source": [
    "platform_high_sales = df.query(\n",
    "    'platform == [\"PS2\", \"X360\", \"PS3\", \"Wii\", \"DS\", \"PS\"] & (year_of_release > 1990)'\n",
    ").pivot_table(\n",
    "    values='general_sales',\n",
    "    index='year_of_release',\n",
    "    columns='platform',\n",
    "    aggfunc='sum'\n",
    ")\n",
    "display(platform_high_sales)"
   ]
  },
  {
   "cell_type": "markdown",
   "metadata": {},
   "source": [
    "<div class=\"alert alert-success\">\n",
    "<b>Комментарий ревьюера:</b>\n",
    "\n",
    "Когда используешь множественную фильтрацию, рекомендую применять метод `loc`. Он читается проще и работает быстрее.    \n",
    "</div>"
   ]
  },
  {
   "cell_type": "code",
   "execution_count": 20,
   "metadata": {
    "scrolled": false
   },
   "outputs": [
    {
     "data": {
      "image/png": "[encoded data removed]",
      "text/plain": [
       "<Figure size 1080x432 with 1 Axes>"
      ]
     },
     "metadata": {
      "needs_background": "light"
     },
     "output_type": "display_data"
    }
   ],
   "source": [
    "fig, ax = plt.subplots()\n",
    "\n",
    "x = platform_high_sales.index\n",
    "y1 = platform_high_sales['DS']\n",
    "y2 = platform_high_sales['PS']\n",
    "y3 = platform_high_sales['PS2']\n",
    "y4 = platform_high_sales['PS3']\n",
    "y5 = platform_high_sales['Wii']\n",
    "y6 = platform_high_sales['X360']\n",
    "\n",
    "fig.set_figwidth(15)\n",
    "fig.set_figheight(6)\n",
    "fig.suptitle('Количество продаж по платформам', fontsize = 15)\n",
    "\n",
    "ax.plot(x, y1, label = 'DS')\n",
    "ax.plot(x, y2, label = 'PS')\n",
    "ax.plot(x, y3, label = 'PS2')\n",
    "ax.plot(x, y4, label = 'PS3')\n",
    "ax.plot(x, y5, label = 'Wii')\n",
    "ax.plot(x, y6, label = 'X360')\n",
    "\n",
    "ax.legend()\n",
    "ax.set_xticks(platform_high_sales.index)\n",
    "\n",
    "ax.set_xlabel('Год')\n",
    "ax.set_ylabel('Продажи в год, млн. копий')\n",
    "ax.grid()\n",
    "\n",
    "plt.show()"
   ]
  },
  {
   "cell_type": "markdown",
   "metadata": {},
   "source": [
    "Продажи по платформам очень похожи на нормальное распределение. \n",
    "\n",
    "По графику хорошо видно, что наибольшее количество продаж приходится на разные покаления платформы Sony Playstation. Если не брать в расчет PS и PS2, то видим характерный пик продаж по платформам в районе 2010 года.\n",
    "\n",
    "Определим медианную продожительность жизни платформы."
   ]
  },
  {
   "cell_type": "code",
   "execution_count": 21,
   "metadata": {
    "scrolled": true
   },
   "outputs": [
    {
     "data": {
      "text/plain": [
       "9.0"
      ]
     },
     "execution_count": 21,
     "metadata": {},
     "output_type": "execute_result"
    }
   ],
   "source": [
    "platform_mean_age = df.pivot_table(\n",
    "    values='year_of_release',\n",
    "    index='platform',\n",
    "    aggfunc=[max, min]\n",
    ")\n",
    "platform_mean_age.columns = ['max', 'min']\n",
    "platform_mean_age['age'] = platform_mean_age['max'] - platform_mean_age['min']\n",
    "platform_mean_age['age'].median()"
   ]
  },
  {
   "cell_type": "markdown",
   "metadata": {},
   "source": [
    "Изучим подробнее продолжительность жизни разных поколений платформ. Построим распределение продаж на примере разных поколений PS и Xbox."
   ]
  },
  {
   "cell_type": "code",
   "execution_count": 22,
   "metadata": {},
   "outputs": [
    {
     "data": {
      "image/png": "[encoded data removed]",
      "text/plain": [
       "<Figure size 1080x432 with 1 Axes>"
      ]
     },
     "metadata": {
      "needs_background": "light"
     },
     "output_type": "display_data"
    }
   ],
   "source": [
    "platform_high_sales_PS = df.query(\n",
    "    'platform == [\"PS\", \"PS2\", \"PS3\", \"PS4\", \"XB\", \"X360\", \"XOne\"]'\n",
    ").pivot_table(\n",
    "    values='general_sales',\n",
    "    index='year_of_release',\n",
    "    columns='platform',\n",
    "    aggfunc='sum'\n",
    ")\n",
    "\n",
    "fig, ax = plt.subplots()\n",
    "\n",
    "x = platform_high_sales_PS.index\n",
    "\n",
    "y1 = platform_high_sales_PS['PS']\n",
    "y2 = platform_high_sales_PS['PS2']\n",
    "y3 = platform_high_sales_PS['PS3']\n",
    "y4 = platform_high_sales_PS['PS4']\n",
    "\n",
    "y5 = platform_high_sales_PS['XB']\n",
    "y6 = platform_high_sales_PS['X360']\n",
    "y7 = platform_high_sales_PS['XOne']\n",
    "\n",
    "fig.set_figwidth(15)\n",
    "fig.set_figheight(6)\n",
    "fig.suptitle('Количество продаж PS и Xbox разных поколений', fontsize = 15)\n",
    "\n",
    "ax.plot(x, y1, label = 'PS')\n",
    "ax.plot(x, y2, label = 'PS2')\n",
    "ax.plot(x, y3, label = 'PS3')\n",
    "ax.plot(x, y4, label = 'PS4')\n",
    "\n",
    "ax.plot(x, y5, label = 'XB')\n",
    "ax.plot(x, y6, label = 'X360')\n",
    "ax.plot(x, y7, label = 'XOne')\n",
    "\n",
    "ax.legend()\n",
    "ax.set_xticks(platform_high_sales_PS.index)\n",
    "\n",
    "ax.set_xlabel('Год')\n",
    "ax.set_ylabel('Продажи в год, млн. копий')\n",
    "ax.grid()\n",
    "\n",
    "plt.show()"
   ]
  },
  {
   "cell_type": "markdown",
   "metadata": {},
   "source": [
    "По данному графику хорошо видно, что у PS после снижения количества продаж на 75 млн. копий после преодоления пика следует выход нового поколения. \n",
    "\n",
    "Определим среднее время старта продаж нового поколения отностильно предыдущего."
   ]
  },
  {
   "cell_type": "markdown",
   "metadata": {},
   "source": [
    "<div class=\"alert alert-success\">\n",
    "<b>Комментарий ревьюера:</b>\n",
    "\n",
    "Обрати внимание, что наши действия повторяются с точки зрения построения графиков.\n",
    "    \n",
    "Это говорит о том, что мы можем создать функцию, которая будет выполнять все действия за нас.\n",
    "    \n",
    "Тем самым мы сможем оптимизировать свой код и проект целиком.\n",
    "    \n",
    "</div>"
   ]
  },
  {
   "cell_type": "code",
   "execution_count": 23,
   "metadata": {},
   "outputs": [
    {
     "data": {
      "text/plain": [
       "6.4"
      ]
     },
     "metadata": {},
     "output_type": "display_data"
    }
   ],
   "source": [
    "start_sales = df.groupby('platform')['year_of_release'].min()\n",
    "mean_live_platform = np.mean(np.array([\n",
    "    abs(start_sales['PS'] - start_sales['PS2']),\n",
    "    abs(start_sales['PS2'] - start_sales['PS3']),\n",
    "    abs(start_sales['PS3'] - start_sales['PS4']),\n",
    "    abs(start_sales['XB'] - start_sales['X360']),\n",
    "    abs(start_sales['X360'] - start_sales['XOne'])\n",
    "]))\n",
    "display(mean_live_platform)"
   ]
  },
  {
   "cell_type": "markdown",
   "metadata": {},
   "source": [
    "Определим среднее время снятия с продаж старого поколения отностильно выхода нового."
   ]
  },
  {
   "cell_type": "code",
   "execution_count": 24,
   "metadata": {},
   "outputs": [
    {
     "data": {
      "text/plain": [
       "3"
      ]
     },
     "metadata": {},
     "output_type": "display_data"
    }
   ],
   "source": [
    "stop_sales = df.groupby('platform')['year_of_release'].max()\n",
    "median_dead_platform = np.median(np.array([\n",
    "    stop_sales['PS'] - start_sales['PS2'],\n",
    "    stop_sales['PS2'] - start_sales['PS3'],\n",
    "    stop_sales['PS3'] - start_sales['PS4'],\n",
    "    stop_sales['XB'] - start_sales['X360'],\n",
    "    stop_sales['X360'] - start_sales['XOne']\n",
    "]))\n",
    "display(stop_sales['PS3'] - start_sales['PS4'])"
   ]
  },
  {
   "cell_type": "markdown",
   "metadata": {},
   "source": [
    "После расчетов можно сказать, что в среднем платформа живет в течении 9 лет, также с момента начала продаж через 6,5 лет выходит новое поколение платформы. Также однозначно можно скажать, что с момента выхода нового поколения старое в среднем остается на рынке еще 3 года."
   ]
  },
  {
   "cell_type": "markdown",
   "metadata": {},
   "source": [
    "<div class=\"alert alert-success\">\n",
    "<b>Комментарий ревьюера:</b>\n",
    "\n",
    "Отличный способ посчитать срок жизни платформы 👍    \n",
    "</div>"
   ]
  },
  {
   "cell_type": "markdown",
   "metadata": {},
   "source": [
    "**Вывод**\n",
    "\n",
    "Примем за актуальный период 9 лет - с 2005 по 2015 год, для построения прогноза на 2017 год, так как в этот период есть характерные периоды роста и падения разных платформ, выход новых поколений. За актыальный период не берем 2016, так как за него не все данные имеются для анализа."
   ]
  },
  {
   "cell_type": "markdown",
   "metadata": {},
   "source": [
    "### Определение лидера продаж"
   ]
  },
  {
   "cell_type": "markdown",
   "metadata": {},
   "source": [
    "Построим распределение по продажам для каждой платформы по принятому актуальному периоду."
   ]
  },
  {
   "cell_type": "code",
   "execution_count": 25,
   "metadata": {},
   "outputs": [
    {
     "data": {
      "image/png": "[encoded data removed]",
      "text/plain": [
       "<Figure size 1080x432 with 1 Axes>"
      ]
     },
     "metadata": {
      "needs_background": "light"
     },
     "output_type": "display_data"
    }
   ],
   "source": [
    "platform_sales_relevant = df.query(\n",
    "    '2015 >= year_of_release >= 2005'\n",
    ").pivot_table(\n",
    "    values='general_sales',\n",
    "    index='year_of_release',\n",
    "    columns='platform',\n",
    "    aggfunc='sum'\n",
    ")\n",
    "\n",
    "fig, ax = plt.subplots()\n",
    "\n",
    "fig.set_figwidth(15)\n",
    "fig.set_figheight(6)\n",
    "fig.suptitle('', fontsize = 15)\n",
    "\n",
    "for i in platform_sales_relevant:\n",
    "    x = platform_sales_relevant.index\n",
    "    y = platform_sales_relevant[i]\n",
    "\n",
    "    ax.plot(x, y, label=i)\n",
    "\n",
    "ax.legend()\n",
    "ax.set_xticks(platform_sales_relevant.index)\n",
    "\n",
    "ax.set_xlabel('Год')\n",
    "ax.set_ylabel('Продажи в год, млн. копий')\n",
    "ax.grid()\n",
    "\n",
    "plt.show()"
   ]
  },
  {
   "cell_type": "markdown",
   "metadata": {},
   "source": [
    "Так как необходимо прогнозировать 2017 год, посмотрим на график по продажам за актуальный период. Мы видим что на 2015 год устойчивый рост наблюдается у двух платформ: PS4 и Xbox One. Данный рост вполне закономерен, так как как они появились в продаже в 2013 году. Прошлые поколения этих платформ пережили пик продаж в 2010 и 2011 годах.\n",
    "\n",
    "PS4 и Xbox One выберем как потенциально прибыльные платформы."
   ]
  },
  {
   "cell_type": "markdown",
   "metadata": {},
   "source": [
    "### Изучение глобальных продаж по платформам"
   ]
  },
  {
   "cell_type": "code",
   "execution_count": 26,
   "metadata": {},
   "outputs": [
    {
     "data": {
      "text/html": [
       "<div>\n",
       "<style scoped>\n",
       "    .dataframe tbody tr th:only-of-type {\n",
       "        vertical-align: middle;\n",
       "    }\n",
       "\n",
       "    .dataframe tbody tr th {\n",
       "        vertical-align: top;\n",
       "    }\n",
       "\n",
       "    .dataframe thead th {\n",
       "        text-align: right;\n",
       "    }\n",
       "</style>\n",
       "<table border=\"1\" class=\"dataframe\">\n",
       "  <thead>\n",
       "    <tr style=\"text-align: right;\">\n",
       "      <th></th>\n",
       "      <th>name</th>\n",
       "      <th>platform</th>\n",
       "      <th>year_of_release</th>\n",
       "      <th>genre</th>\n",
       "      <th>na_sales</th>\n",
       "      <th>eu_sales</th>\n",
       "      <th>jp_sales</th>\n",
       "      <th>other_sales</th>\n",
       "      <th>critic_score</th>\n",
       "      <th>user_score</th>\n",
       "      <th>rating</th>\n",
       "      <th>general_sales</th>\n",
       "    </tr>\n",
       "  </thead>\n",
       "  <tbody>\n",
       "    <tr>\n",
       "      <td>0</td>\n",
       "      <td>Wii Sports</td>\n",
       "      <td>Wii</td>\n",
       "      <td>2006</td>\n",
       "      <td>Sports</td>\n",
       "      <td>41.36</td>\n",
       "      <td>28.96</td>\n",
       "      <td>3.77</td>\n",
       "      <td>8.45</td>\n",
       "      <td>76.0</td>\n",
       "      <td>8.0</td>\n",
       "      <td>E</td>\n",
       "      <td>82.54</td>\n",
       "    </tr>\n",
       "    <tr>\n",
       "      <td>2</td>\n",
       "      <td>Mario Kart Wii</td>\n",
       "      <td>Wii</td>\n",
       "      <td>2008</td>\n",
       "      <td>Racing</td>\n",
       "      <td>15.68</td>\n",
       "      <td>12.76</td>\n",
       "      <td>3.79</td>\n",
       "      <td>3.29</td>\n",
       "      <td>82.0</td>\n",
       "      <td>8.3</td>\n",
       "      <td>E</td>\n",
       "      <td>35.52</td>\n",
       "    </tr>\n",
       "    <tr>\n",
       "      <td>3</td>\n",
       "      <td>Wii Sports Resort</td>\n",
       "      <td>Wii</td>\n",
       "      <td>2009</td>\n",
       "      <td>Sports</td>\n",
       "      <td>15.61</td>\n",
       "      <td>10.93</td>\n",
       "      <td>3.28</td>\n",
       "      <td>2.95</td>\n",
       "      <td>80.0</td>\n",
       "      <td>8.0</td>\n",
       "      <td>E</td>\n",
       "      <td>32.77</td>\n",
       "    </tr>\n",
       "    <tr>\n",
       "      <td>6</td>\n",
       "      <td>New Super Mario Bros.</td>\n",
       "      <td>DS</td>\n",
       "      <td>2006</td>\n",
       "      <td>Platform</td>\n",
       "      <td>11.28</td>\n",
       "      <td>9.14</td>\n",
       "      <td>6.50</td>\n",
       "      <td>2.88</td>\n",
       "      <td>89.0</td>\n",
       "      <td>8.5</td>\n",
       "      <td>E</td>\n",
       "      <td>29.80</td>\n",
       "    </tr>\n",
       "    <tr>\n",
       "      <td>7</td>\n",
       "      <td>Wii Play</td>\n",
       "      <td>Wii</td>\n",
       "      <td>2006</td>\n",
       "      <td>Misc</td>\n",
       "      <td>13.96</td>\n",
       "      <td>9.18</td>\n",
       "      <td>2.93</td>\n",
       "      <td>2.84</td>\n",
       "      <td>58.0</td>\n",
       "      <td>6.6</td>\n",
       "      <td>E</td>\n",
       "      <td>28.91</td>\n",
       "    </tr>\n",
       "    <tr>\n",
       "      <td>...</td>\n",
       "      <td>...</td>\n",
       "      <td>...</td>\n",
       "      <td>...</td>\n",
       "      <td>...</td>\n",
       "      <td>...</td>\n",
       "      <td>...</td>\n",
       "      <td>...</td>\n",
       "      <td>...</td>\n",
       "      <td>...</td>\n",
       "      <td>...</td>\n",
       "      <td>...</td>\n",
       "      <td>...</td>\n",
       "    </tr>\n",
       "    <tr>\n",
       "      <td>16704</td>\n",
       "      <td>Plushees</td>\n",
       "      <td>DS</td>\n",
       "      <td>2008</td>\n",
       "      <td>Simulation</td>\n",
       "      <td>0.01</td>\n",
       "      <td>0.00</td>\n",
       "      <td>0.00</td>\n",
       "      <td>0.00</td>\n",
       "      <td>NaN</td>\n",
       "      <td>NaN</td>\n",
       "      <td>E</td>\n",
       "      <td>0.01</td>\n",
       "    </tr>\n",
       "    <tr>\n",
       "      <td>16705</td>\n",
       "      <td>15 Days</td>\n",
       "      <td>PC</td>\n",
       "      <td>2009</td>\n",
       "      <td>Adventure</td>\n",
       "      <td>0.00</td>\n",
       "      <td>0.01</td>\n",
       "      <td>0.00</td>\n",
       "      <td>0.00</td>\n",
       "      <td>63.0</td>\n",
       "      <td>5.8</td>\n",
       "      <td>NaN</td>\n",
       "      <td>0.01</td>\n",
       "    </tr>\n",
       "    <tr>\n",
       "      <td>16707</td>\n",
       "      <td>Aiyoku no Eustia</td>\n",
       "      <td>PSV</td>\n",
       "      <td>2014</td>\n",
       "      <td>Misc</td>\n",
       "      <td>0.00</td>\n",
       "      <td>0.00</td>\n",
       "      <td>0.01</td>\n",
       "      <td>0.00</td>\n",
       "      <td>NaN</td>\n",
       "      <td>NaN</td>\n",
       "      <td>NaN</td>\n",
       "      <td>0.01</td>\n",
       "    </tr>\n",
       "    <tr>\n",
       "      <td>16709</td>\n",
       "      <td>SCORE International Baja 1000: The Official Game</td>\n",
       "      <td>PS2</td>\n",
       "      <td>2008</td>\n",
       "      <td>Racing</td>\n",
       "      <td>0.00</td>\n",
       "      <td>0.00</td>\n",
       "      <td>0.00</td>\n",
       "      <td>0.00</td>\n",
       "      <td>NaN</td>\n",
       "      <td>NaN</td>\n",
       "      <td>NaN</td>\n",
       "      <td>0.00</td>\n",
       "    </tr>\n",
       "    <tr>\n",
       "      <td>16711</td>\n",
       "      <td>LMA Manager 2007</td>\n",
       "      <td>X360</td>\n",
       "      <td>2006</td>\n",
       "      <td>Sports</td>\n",
       "      <td>0.00</td>\n",
       "      <td>0.01</td>\n",
       "      <td>0.00</td>\n",
       "      <td>0.00</td>\n",
       "      <td>NaN</td>\n",
       "      <td>NaN</td>\n",
       "      <td>NaN</td>\n",
       "      <td>0.01</td>\n",
       "    </tr>\n",
       "  </tbody>\n",
       "</table>\n",
       "<p>10951 rows × 12 columns</p>\n",
       "</div>"
      ],
      "text/plain": [
       "                                                   name platform  \\\n",
       "0                                            Wii Sports      Wii   \n",
       "2                                        Mario Kart Wii      Wii   \n",
       "3                                     Wii Sports Resort      Wii   \n",
       "6                                 New Super Mario Bros.       DS   \n",
       "7                                              Wii Play      Wii   \n",
       "...                                                 ...      ...   \n",
       "16704                                          Plushees       DS   \n",
       "16705                                           15 Days       PC   \n",
       "16707                                  Aiyoku no Eustia      PSV   \n",
       "16709  SCORE International Baja 1000: The Official Game      PS2   \n",
       "16711                                  LMA Manager 2007     X360   \n",
       "\n",
       "       year_of_release       genre  na_sales  eu_sales  jp_sales  other_sales  \\\n",
       "0                 2006      Sports     41.36     28.96      3.77         8.45   \n",
       "2                 2008      Racing     15.68     12.76      3.79         3.29   \n",
       "3                 2009      Sports     15.61     10.93      3.28         2.95   \n",
       "6                 2006    Platform     11.28      9.14      6.50         2.88   \n",
       "7                 2006        Misc     13.96      9.18      2.93         2.84   \n",
       "...                ...         ...       ...       ...       ...          ...   \n",
       "16704             2008  Simulation      0.01      0.00      0.00         0.00   \n",
       "16705             2009   Adventure      0.00      0.01      0.00         0.00   \n",
       "16707             2014        Misc      0.00      0.00      0.01         0.00   \n",
       "16709             2008      Racing      0.00      0.00      0.00         0.00   \n",
       "16711             2006      Sports      0.00      0.01      0.00         0.00   \n",
       "\n",
       "       critic_score  user_score rating  general_sales  \n",
       "0              76.0         8.0      E          82.54  \n",
       "2              82.0         8.3      E          35.52  \n",
       "3              80.0         8.0      E          32.77  \n",
       "6              89.0         8.5      E          29.80  \n",
       "7              58.0         6.6      E          28.91  \n",
       "...             ...         ...    ...            ...  \n",
       "16704           NaN         NaN      E           0.01  \n",
       "16705          63.0         5.8    NaN           0.01  \n",
       "16707           NaN         NaN    NaN           0.01  \n",
       "16709           NaN         NaN    NaN           0.00  \n",
       "16711           NaN         NaN    NaN           0.01  \n",
       "\n",
       "[10951 rows x 12 columns]"
      ]
     },
     "execution_count": 26,
     "metadata": {},
     "output_type": "execute_result"
    }
   ],
   "source": [
    "platform_sales_boxplot = df.query(\n",
    "    '2015 >= year_of_release >= 2005'\n",
    ")\n",
    "platform_sales_boxplot"
   ]
  },
  {
   "cell_type": "code",
   "execution_count": 27,
   "metadata": {
    "scrolled": false
   },
   "outputs": [
    {
     "data": {
      "image/png": "[encoded data removed]",
      "text/plain": [
       "<Figure size 1080x432 with 1 Axes>"
      ]
     },
     "metadata": {
      "needs_background": "light"
     },
     "output_type": "display_data"
    }
   ],
   "source": [
    "fig, ax = plt.subplots()\n",
    "\n",
    "fig.set_figwidth(15)\n",
    "fig.set_figheight(6)\n",
    "fig.suptitle('Диаграмма рассеяния зависимости продаж от оценок', fontsize = 15)\n",
    "\n",
    "sns.boxplot(\n",
    "    data=platform_sales_boxplot, \n",
    "    x='platform', \n",
    "    y='general_sales')\n",
    "\n",
    "ax.set_ylim(0,3)\n",
    "ax.set_xlabel('Глобальные продажи')\n",
    "ax.set_ylabel('Оценка критиков')\n",
    "\n",
    "plt.show()"
   ]
  },
  {
   "cell_type": "markdown",
   "metadata": {},
   "source": [
    "**Вывод**\n",
    "\n",
    "По \"ящику с усами\" видно, что наибольший разброс имеют те платформы, которые являются актуальными и наиболее перспективными поколениями самых популярных платформ. За ними, по продажам, следуют предыдущие поколения этих платформ, что логично, так как в последнее время они вытеснили всех конкурентов."
   ]
  },
  {
   "cell_type": "markdown",
   "metadata": {},
   "source": [
    "<div class=\"alert alert-success\">\n",
    "<b>Комментарий ревьюера:</b>\n",
    "\n",
    "А вот и `seaborn`, тогда рекомендую посмотреть на библиотеку `plotly`.    \n",
    "</div>"
   ]
  },
  {
   "cell_type": "markdown",
   "metadata": {},
   "source": [
    "### Изучение зависимости продаж от отзывов"
   ]
  },
  {
   "cell_type": "markdown",
   "metadata": {},
   "source": [
    "Для изучения данного вопроса возьмем для анализа данные по платформе PS3."
   ]
  },
  {
   "cell_type": "code",
   "execution_count": 28,
   "metadata": {},
   "outputs": [],
   "source": [
    "data_ps3 = df.query('platform == \"PS3\"')"
   ]
  },
  {
   "cell_type": "code",
   "execution_count": 29,
   "metadata": {},
   "outputs": [
    {
     "data": {
      "image/png": "[encoded data removed]",
      "text/plain": [
       "<Figure size 1080x432 with 2 Axes>"
      ]
     },
     "metadata": {
      "needs_background": "light"
     },
     "output_type": "display_data"
    }
   ],
   "source": [
    "fig = plt.figure()\n",
    "\n",
    "ax_1 = fig.add_subplot(2, 2, 1)\n",
    "ax_2 = fig.add_subplot(2, 2, 2)\n",
    "\n",
    "fig.set_figwidth(15)\n",
    "fig.set_figheight(6)\n",
    "fig.suptitle('Диаграмма рассеяния зависимости продаж от оценок', fontsize = 15)\n",
    "\n",
    "x=data_ps3['general_sales']\n",
    "y1=data_ps3['critic_score']\n",
    "y2=data_ps3['user_score']\n",
    "\n",
    "ax_1.scatter(x, y1, alpha=0.5)\n",
    "ax_2.scatter(x, y2, alpha=0.5)\n",
    "\n",
    "ax_1.set_xlabel('Глобальные продажи')\n",
    "ax_1.set_ylabel('Оценка критиков')\n",
    "ax_1.set_xlim(0,2)\n",
    "ax_1.grid()\n",
    "\n",
    "ax_2.set_xlabel('Глобальные продажи')\n",
    "ax_2.set_ylabel('Оценка пользователей')\n",
    "ax_2.set_xlim(0,2)\n",
    "ax_2.grid()\n",
    "\n",
    "plt.show()"
   ]
  },
  {
   "cell_type": "code",
   "execution_count": 30,
   "metadata": {
    "scrolled": true
   },
   "outputs": [
    {
     "data": {
      "text/plain": [
       "'Корреляция глобальных продаж и оценок критиков:'"
      ]
     },
     "metadata": {},
     "output_type": "display_data"
    },
    {
     "data": {
      "text/plain": [
       "0.43243156856420606"
      ]
     },
     "metadata": {},
     "output_type": "display_data"
    },
    {
     "data": {
      "text/plain": [
       "'Корреляция глобальных продаж и оценок пользователей:'"
      ]
     },
     "metadata": {},
     "output_type": "display_data"
    },
    {
     "data": {
      "text/plain": [
       "0.12669133936341712"
      ]
     },
     "metadata": {},
     "output_type": "display_data"
    }
   ],
   "source": [
    "display('Корреляция глобальных продаж и оценок критиков:', \n",
    "        data_ps3['general_sales'].corr(data_ps3['critic_score']))\n",
    "display('Корреляция глобальных продаж и оценок пользователей:', \n",
    "        data_ps3['general_sales'].corr(data_ps3['user_score']))"
   ]
  },
  {
   "cell_type": "markdown",
   "metadata": {},
   "source": [
    "**Вывод**\n",
    "\n",
    "Диаграмма рассеяния в обих случая сосредоточена вверхней части, причем с оценками пользователей распределение в верхней части выражено ярче. Расчет коррекляции подтверждает, что оценку критиков слушают больше, чем пользоватлей при продаже, но в обоих случаях можно сказать что завасимость продаж от оценок пользователей/критиков зависит в меньшей степени."
   ]
  },
  {
   "cell_type": "markdown",
   "metadata": {},
   "source": [
    "<div class=\"alert alert-success\">\n",
    "<b>Комментарий ревьюера:</b>\n",
    "    \n",
    "Хорошие и логичные комментарии. Очень важно строить график корреляции между переменными, ведь может произойти такая ситуация, что расчет у нас очень сильный а на графике абсолютно другая картина.\n",
    "    \n",
    "---\n",
    "\n",
    "В том числе можно было построить матрицу корреляции между нужными нам переменными.\n",
    "    \n",
    "И визуализировать её с помощью метода `heatmap` из библиотеки `seaborn`.\n",
    "    \n",
    "</div>"
   ]
  },
  {
   "cell_type": "markdown",
   "metadata": {},
   "source": [
    "### Изучение продаж по жанрам"
   ]
  },
  {
   "cell_type": "code",
   "execution_count": 31,
   "metadata": {},
   "outputs": [
    {
     "data": {
      "image/png": "[encoded data removed]",
      "text/plain": [
       "<Figure size 1080x432 with 1 Axes>"
      ]
     },
     "metadata": {
      "needs_background": "light"
     },
     "output_type": "display_data"
    }
   ],
   "source": [
    "genre_sales = df.pivot_table(\n",
    "    values='general_sales',\n",
    "    index='genre',\n",
    "    aggfunc='sum'\n",
    ").sort_values(by='general_sales').reset_index()\n",
    "#display(platform_sales)\n",
    "\n",
    "fig, ax = plt.subplots()\n",
    "\n",
    "plt.bar(genre_sales['genre'], genre_sales['general_sales'])\n",
    "\n",
    "fig.set_figwidth(15)\n",
    "fig.set_figheight(6)\n",
    "fig.suptitle('Суммарные продажи', fontsize = 15)\n",
    "\n",
    "ax.set_xlabel('Жанры')\n",
    "ax.set_ylabel('Суммарные продажи по платформе, млн. копий')\n",
    "\n",
    "plt.xticks(rotation=90)\n",
    "plt.show()"
   ]
  },
  {
   "cell_type": "markdown",
   "metadata": {},
   "source": [
    "**Вывод**\n",
    "\n",
    "Результат ожидаемый: лидером продаж по жанрам является Action, за ним следует Spotrs и Shooter. Ожидаем он потому, что люди играя в игры хотят провести хорошо время и отдохнуть, а не напрягаться и думать над решением каких то сложных задач. Да и к тому же в этих жанрах много красивых эффектов, что заставляет удерживаться у экрана."
   ]
  },
  {
   "cell_type": "markdown",
   "metadata": {},
   "source": [
    "<div class=\"alert alert-success\">\n",
    "<b>Комментарий ревьюера:</b>\n",
    "\n",
    "А если мы посмотрим на средние значения продаж, какие выводы мы сможем сделать ? \n",
    "    \n",
    "Почему на средние значения ? \n",
    "    \n",
    "Т.к. эта метрика более устойчива к выбросам, чем просто суммы и количественные показатели.\n",
    "    \n",
    "</div>"
   ]
  },
  {
   "cell_type": "markdown",
   "metadata": {},
   "source": [
    "## Составление портрета пользователя каждого региона"
   ]
  },
  {
   "cell_type": "markdown",
   "metadata": {},
   "source": [
    "### Определим для каждого региона популярные платформы"
   ]
  },
  {
   "cell_type": "code",
   "execution_count": 32,
   "metadata": {},
   "outputs": [
    {
     "data": {
      "image/png": "[encoded data removed]",
      "text/plain": [
       "<Figure size 1080x432 with 1 Axes>"
      ]
     },
     "metadata": {
      "needs_background": "light"
     },
     "output_type": "display_data"
    }
   ],
   "source": [
    "platform_sales_na = df.query(\n",
    "    '2015 >= year_of_release >= 2005'\n",
    ").pivot_table(\n",
    "    values='na_sales',\n",
    "    index='platform',\n",
    "    aggfunc='sum'\n",
    ").sort_values(by='na_sales', ascending=False).reset_index().head()\n",
    "platform_sales_na['sales_percentage'] = platform_sales_na['na_sales'] / platform_sales_na['na_sales'].sum()\n",
    "#display(platform_sales)\n",
    "\n",
    "fig, ax = plt.subplots()\n",
    "\n",
    "plt.bar(platform_sales_na['platform'], platform_sales_na['sales_percentage'])\n",
    "\n",
    "fig.set_figwidth(15)\n",
    "fig.set_figheight(6)\n",
    "fig.suptitle('Суммарные продажи в Северной Америке', fontsize = 15)\n",
    "\n",
    "ax.set_xlabel('Названия плотформ')\n",
    "ax.set_ylabel('Доля продаж на платформу')\n",
    "\n",
    "plt.xticks(rotation=90)\n",
    "plt.show()"
   ]
  },
  {
   "cell_type": "markdown",
   "metadata": {},
   "source": [
    "**Вывод**\n",
    "\n",
    "В Америке лидеруют в продажах Xbox 360, Wii и PS3. Что интересно, в топ-5 входят два покаления Sony Playstation, что может говорить о хорошей позиции компании Sony на этом рынке."
   ]
  },
  {
   "cell_type": "code",
   "execution_count": 33,
   "metadata": {},
   "outputs": [
    {
     "data": {
      "image/png": "[encoded data removed]",
      "text/plain": [
       "<Figure size 1080x432 with 1 Axes>"
      ]
     },
     "metadata": {
      "needs_background": "light"
     },
     "output_type": "display_data"
    }
   ],
   "source": [
    "platform_sales_eu = df.query(\n",
    "    '2015 >= year_of_release >= 2005'\n",
    ").pivot_table(\n",
    "    values='eu_sales',\n",
    "    index='platform',\n",
    "    aggfunc='sum'\n",
    ").sort_values(by='eu_sales', ascending=False).reset_index().head()\n",
    "platform_sales_eu['sales_percentage'] = platform_sales_eu['eu_sales'] / platform_sales_eu['eu_sales'].sum()\n",
    "#display(platform_sales)\n",
    "\n",
    "fig, ax = plt.subplots()\n",
    "\n",
    "plt.bar(platform_sales_eu['platform'], platform_sales_eu['sales_percentage'])\n",
    "\n",
    "fig.set_figwidth(15)\n",
    "fig.set_figheight(6)\n",
    "fig.suptitle('Суммарные продажи в Европе', fontsize = 15)\n",
    "\n",
    "ax.set_xlabel('Названия плотформ')\n",
    "ax.set_ylabel('Доля продаж на платформу')\n",
    "\n",
    "plt.xticks(rotation=90)\n",
    "plt.show()"
   ]
  },
  {
   "cell_type": "markdown",
   "metadata": {},
   "source": [
    "В Европе позиции Sony крепче чем в Америке. Относительно рынка Америки, лидеры поменялись местами. Но можно также видеть в топ-5 PS4, новинку от Sony, которая в продаже всего 2 года. "
   ]
  },
  {
   "cell_type": "code",
   "execution_count": 34,
   "metadata": {},
   "outputs": [
    {
     "data": {
      "image/png": "[encoded data removed]",
      "text/plain": [
       "<Figure size 1080x432 with 1 Axes>"
      ]
     },
     "metadata": {
      "needs_background": "light"
     },
     "output_type": "display_data"
    }
   ],
   "source": [
    "platform_sales_jp = df.query(\n",
    "    '2015 >= year_of_release >= 2005'\n",
    ").pivot_table(\n",
    "    values='jp_sales',\n",
    "    index='platform',\n",
    "    aggfunc='sum'\n",
    ").sort_values(by='jp_sales', ascending=False).reset_index().head()\n",
    "\n",
    "platform_sales_jp['sales_percentage'] = platform_sales_jp['jp_sales'] / platform_sales_jp['jp_sales'].sum()\n",
    "#display(platform_sales)\n",
    "\n",
    "fig, ax = plt.subplots()\n",
    "\n",
    "plt.bar(platform_sales_jp['platform'], platform_sales_jp['sales_percentage'])\n",
    "\n",
    "fig.set_figwidth(15)\n",
    "fig.set_figheight(6)\n",
    "fig.suptitle('Суммарные продажи в Японии', fontsize = 15)\n",
    "\n",
    "ax.set_xlabel('Названия плотформ')\n",
    "ax.set_ylabel('Доля продаж на платформу')\n",
    "\n",
    "plt.xticks(rotation=90)\n",
    "plt.show()"
   ]
  },
  {
   "cell_type": "markdown",
   "metadata": {},
   "source": [
    "В японии в лидерах мы видим DS и 3DS - портативную платформу от Nintendo, наверное они просто чаще играют \"на ходу\" - в транспорте, по дороге на учебу/работу. Также видим в лидерах и PS3, как на рынке Европы и Америки."
   ]
  },
  {
   "cell_type": "markdown",
   "metadata": {},
   "source": [
    "### Определение популярных жанров для каждого региона"
   ]
  },
  {
   "cell_type": "code",
   "execution_count": 35,
   "metadata": {
    "scrolled": false
   },
   "outputs": [
    {
     "data": {
      "image/png": "[encoded data removed]",
      "text/plain": [
       "<Figure size 1080x432 with 1 Axes>"
      ]
     },
     "metadata": {
      "needs_background": "light"
     },
     "output_type": "display_data"
    }
   ],
   "source": [
    "genre_na = df.query(\n",
    "    '2015 >= year_of_release >= 2005'\n",
    ").pivot_table(\n",
    "    values='na_sales',\n",
    "    index='genre',\n",
    "    aggfunc='sum'\n",
    ").sort_values(by='na_sales', ascending=False).reset_index()\n",
    "\n",
    "fig, ax = plt.subplots()\n",
    "\n",
    "plt.bar(genre_na['genre'], genre_na['na_sales'])\n",
    "\n",
    "fig.set_figwidth(15)\n",
    "fig.set_figheight(6)\n",
    "fig.suptitle('Продажи игр разных жанров в Северной Америке', fontsize = 15)\n",
    "\n",
    "ax.set_xlabel('Жанры')\n",
    "ax.set_ylabel('Продажи, в млн. копий')\n",
    "\n",
    "plt.xticks(rotation=90)\n",
    "plt.show()"
   ]
  },
  {
   "cell_type": "markdown",
   "metadata": {},
   "source": [
    "Продажи по жанрам в Америке расперделены по жанрам также, как в целом на глобальном рынке: Action, Sports, Shooter."
   ]
  },
  {
   "cell_type": "code",
   "execution_count": 36,
   "metadata": {},
   "outputs": [
    {
     "data": {
      "image/png": "[encoded data removed]",
      "text/plain": [
       "<Figure size 1080x432 with 1 Axes>"
      ]
     },
     "metadata": {
      "needs_background": "light"
     },
     "output_type": "display_data"
    }
   ],
   "source": [
    "genre_eu = df.query(\n",
    "    '2015 >= year_of_release >= 2005'\n",
    ").pivot_table(\n",
    "    values='eu_sales',\n",
    "    index='genre',\n",
    "    aggfunc='sum'\n",
    ").sort_values(by='eu_sales', ascending=False).reset_index()\n",
    "\n",
    "fig, ax = plt.subplots()\n",
    "\n",
    "plt.bar(genre_eu['genre'], genre_eu['eu_sales'])\n",
    "\n",
    "fig.set_figwidth(15)\n",
    "fig.set_figheight(6)\n",
    "fig.suptitle('Продажи игр разных жанров в Европе', fontsize = 15)\n",
    "\n",
    "ax.set_xlabel('Жанры')\n",
    "ax.set_ylabel('Продажи, в млн. копий')\n",
    "\n",
    "plt.xticks(rotation=90)\n",
    "plt.show()"
   ]
  },
  {
   "cell_type": "markdown",
   "metadata": {},
   "source": [
    "Продажи по жанрам в Европе аналогичны глобальным и Американским: Action, Sports, Shooter."
   ]
  },
  {
   "cell_type": "code",
   "execution_count": 37,
   "metadata": {},
   "outputs": [
    {
     "data": {
      "image/png": "[encoded data removed]",
      "text/plain": [
       "<Figure size 1080x432 with 1 Axes>"
      ]
     },
     "metadata": {
      "needs_background": "light"
     },
     "output_type": "display_data"
    }
   ],
   "source": [
    "genre_jp = df.query(\n",
    "    '2015 >= year_of_release >= 2005'\n",
    ").pivot_table(\n",
    "    values='jp_sales',\n",
    "    index='genre',\n",
    "    aggfunc='sum'\n",
    ").sort_values(by='jp_sales', ascending=False).reset_index()\n",
    "\n",
    "fig, ax = plt.subplots()\n",
    "\n",
    "plt.bar(genre_jp['genre'], genre_jp['jp_sales'])\n",
    "\n",
    "fig.set_figwidth(15)\n",
    "fig.set_figheight(6)\n",
    "fig.suptitle('Продажи игр разных жанров в Японии', fontsize = 15)\n",
    "\n",
    "ax.set_xlabel('Жанры')\n",
    "ax.set_ylabel('Продажи, в млн. копий')\n",
    "\n",
    "plt.xticks(rotation=90)\n",
    "plt.show()"
   ]
  },
  {
   "cell_type": "markdown",
   "metadata": {},
   "source": [
    "Япония выделяется на глобальном рынке и в расперделении по жанрам - в лидерах тут: Role-Playing, Action, Misc."
   ]
  },
  {
   "cell_type": "markdown",
   "metadata": {},
   "source": [
    "### Определение влияния рейтинга ESRB на продажи"
   ]
  },
  {
   "cell_type": "code",
   "execution_count": 38,
   "metadata": {},
   "outputs": [
    {
     "data": {
      "image/png": "[encoded data removed]",
      "text/plain": [
       "<Figure size 1080x432 with 1 Axes>"
      ]
     },
     "metadata": {
      "needs_background": "light"
     },
     "output_type": "display_data"
    }
   ],
   "source": [
    "rating_na = df.query(\n",
    "    '2015 >= year_of_release >= 2005'\n",
    ").pivot_table(\n",
    "    values='na_sales',\n",
    "    index='rating',\n",
    "    aggfunc='sum'\n",
    ").sort_values(by='na_sales', ascending=False).reset_index()\n",
    "\n",
    "fig, ax = plt.subplots()\n",
    "\n",
    "plt.bar(rating_na['rating'], rating_na['na_sales'])\n",
    "\n",
    "fig.set_figwidth(15)\n",
    "fig.set_figheight(6)\n",
    "fig.suptitle('Продажи и рейтинг в Северной Америке', fontsize = 15)\n",
    "\n",
    "ax.set_xlabel('Жанры')\n",
    "ax.set_ylabel('Продажи, в млн. копий')\n",
    "\n",
    "plt.xticks(rotation=90)\n",
    "plt.show()"
   ]
  },
  {
   "cell_type": "code",
   "execution_count": 39,
   "metadata": {},
   "outputs": [
    {
     "data": {
      "image/png": "[encoded data removed]",
      "text/plain": [
       "<Figure size 1080x432 with 1 Axes>"
      ]
     },
     "metadata": {
      "needs_background": "light"
     },
     "output_type": "display_data"
    }
   ],
   "source": [
    "rating_eu = df.query(\n",
    "    '2015 >= year_of_release >= 2005'\n",
    ").pivot_table(\n",
    "    values='eu_sales',\n",
    "    index='rating',\n",
    "    aggfunc='sum'\n",
    ").sort_values(by='eu_sales', ascending=False).reset_index()\n",
    "\n",
    "fig, ax = plt.subplots()\n",
    "\n",
    "plt.bar(rating_eu['rating'], rating_eu['eu_sales'])\n",
    "\n",
    "fig.set_figwidth(15)\n",
    "fig.set_figheight(6)\n",
    "fig.suptitle('Продажи и рейтинг в Европе', fontsize = 15)\n",
    "\n",
    "ax.set_xlabel('Жанры')\n",
    "ax.set_ylabel('Продажи, в млн. копий')\n",
    "\n",
    "plt.xticks(rotation=90)\n",
    "plt.show()"
   ]
  },
  {
   "cell_type": "code",
   "execution_count": 40,
   "metadata": {},
   "outputs": [
    {
     "data": {
      "image/png": "[encoded data removed]",
      "text/plain": [
       "<Figure size 1080x432 with 1 Axes>"
      ]
     },
     "metadata": {
      "needs_background": "light"
     },
     "output_type": "display_data"
    }
   ],
   "source": [
    "rating_jp = df.query(\n",
    "    '2015 >= year_of_release >= 2005'\n",
    ").pivot_table(\n",
    "    values='jp_sales',\n",
    "    index='rating',\n",
    "    aggfunc='sum'\n",
    ").sort_values(by='jp_sales', ascending=False).reset_index()\n",
    "\n",
    "fig, ax = plt.subplots()\n",
    "\n",
    "plt.bar(rating_jp['rating'], rating_jp['jp_sales'])\n",
    "\n",
    "fig.set_figwidth(15)\n",
    "fig.set_figheight(6)\n",
    "fig.suptitle('Продажи и рейтинг в Японии', fontsize = 15)\n",
    "\n",
    "ax.set_xlabel('Жанры')\n",
    "ax.set_ylabel('Продажи, в млн. копий')\n",
    "\n",
    "plt.xticks(rotation=90)\n",
    "plt.show()"
   ]
  },
  {
   "cell_type": "markdown",
   "metadata": {},
   "source": [
    "**Вывод**\n",
    "\n",
    "В данном случае, зависимость продаж от рейтинга в целом похожи во всех регионах, лишь не значительно отличается в Японии, где на втором месте по продажам игры для детей старше 13 лет; лучше всего продаются игры для детей старше 10 лет во всех регионах."
   ]
  },
  {
   "cell_type": "markdown",
   "metadata": {},
   "source": [
    "<div class=\"alert alert-success\">\n",
    "<b>Комментарий ревьюера:</b>\n",
    "\n",
    "Достаточно детально проанализировали наши данные и изучили портреты пользователей.\n",
    "    \n",
    "\n",
    "    \n",
    "Давай теперь проверим наши гипотезы.\n",
    "    \n",
    "</div>"
   ]
  },
  {
   "cell_type": "markdown",
   "metadata": {},
   "source": [
    "## Проверка гипотез"
   ]
  },
  {
   "cell_type": "markdown",
   "metadata": {},
   "source": [
    "Для начала проверим гипотезу о равенствесредних пользовательских рейтингов платформ Xbox One и PC. Альтернативная гипотеза говорит об их различии. Для повышения точности примем уровень статистической значимости 1%."
   ]
  },
  {
   "cell_type": "markdown",
   "metadata": {},
   "source": [
    "<div class=\"alert alert-success\">\n",
    "<b>Комментарий ревьюера:</b>\n",
    "\n",
    "Гипотезы сформулированы верно.\n",
    "    \n",
    "    \n",
    "**Best practies:**\n",
    "    \n",
    "Перед проверкой гипотезы рекомендую проверить дисперсии выборок, чтобы корректно определить атрибут `equal_val` в Т–тесте.\n",
    "    \n",
    "В том числе стоит визуализировать распределение каждой выборки, чтобы определить нормальное ли у них распределение или нет.\n",
    "    \n",
    "Так мы покажем логичность и последовательность наших действий.\n",
    "    \n",
    "</div>"
   ]
  },
  {
   "cell_type": "code",
   "execution_count": 41,
   "metadata": {},
   "outputs": [
    {
     "name": "stdout",
     "output_type": "stream",
     "text": [
      "p-значение:  0.0033913346413872243\n",
      "Отвергаем нулевую гипотезу\n"
     ]
    }
   ],
   "source": [
    "rating_xbox_one = df.query(\n",
    "    '2015 >= year_of_release >= 2005 & platform == \"XOne\"'\n",
    ")['user_score'].fillna(0)\n",
    "\n",
    "rating_pc = df.query(\n",
    "    '2015 >= year_of_release >= 2005 & platform == \"PC\"'\n",
    ")['user_score'].fillna(0)\n",
    "\n",
    "alpha = .01 # критический уровень статистической значимости\n",
    "# если p-value окажется не равен - отвегнем гипотезу\n",
    "\n",
    "results = st.ttest_ind(\n",
    "    rating_xbox_one, \n",
    "    rating_pc)\n",
    "\n",
    "print('p-значение: ', results.pvalue)\n",
    "\n",
    "if results.pvalue != alpha:\n",
    "    print(\"Отвергаем нулевую гипотезу\")\n",
    "else:\n",
    "    print(\"Не получилось отвергнуть нулевую гипотезу\") "
   ]
  },
  {
   "cell_type": "markdown",
   "metadata": {},
   "source": [
    "Теперь проверим гипотезу о том, что средние пользовательские рейтинги жанров Action и Sports разные. Альтернативная гипотеза будет говорить об их равенстве."
   ]
  },
  {
   "cell_type": "markdown",
   "metadata": {},
   "source": [
    "<div class=\"alert alert-warning\">\n",
    "<b>Комментарий ревьюера:</b>\n",
    "\n",
    "Не совсем так, нулевая гипотеза как раз всегда говорит о равенстве проверяемых групп данных. Это важный момент, стоит его учитывать при будущих проверках гипотез.\n",
    "    \n",
    "</div>"
   ]
  },
  {
   "cell_type": "code",
   "execution_count": 42,
   "metadata": {},
   "outputs": [
    {
     "name": "stdout",
     "output_type": "stream",
     "text": [
      "p-значение:  0.00011385021944290894\n",
      "Не получилось отвергнуть нулевую гипотезу\n"
     ]
    }
   ],
   "source": [
    "rating_action = df.query(\n",
    "    '2015 >= year_of_release >= 2005 & genre == \"Action\"'\n",
    ")['user_score'].fillna(0)\n",
    "\n",
    "rating_sports = df.query(\n",
    "    '2015 >= year_of_release >= 2005 & genre == \"Sports\"'\n",
    ")['user_score'].fillna(0)\n",
    "\n",
    "alpha = .01 # критический уровень статистической значимости\n",
    "# если p-value окажется равен - отвегнем гипотезу\n",
    "\n",
    "results = st.ttest_ind(\n",
    "    rating_action, \n",
    "    rating_sports)\n",
    "\n",
    "print('p-значение: ', results.pvalue)\n",
    "\n",
    "if results.pvalue == alpha:\n",
    "    print(\"Отвергаем нулевую гипотезу\")\n",
    "else:\n",
    "    print(\"Не получилось отвергнуть нулевую гипотезу\") "
   ]
  },
  {
   "cell_type": "markdown",
   "metadata": {},
   "source": [
    "<div class=\"alert alert-success\">\n",
    "<b>Комментарий ревьюера:</b>\n",
    "\n",
    "Обрати внимание, что наши действия также повторяются с точки зрения расчетов статистических тестов, это говорит о том, что мы можем также создать здесь функцию 😊\n",
    "    \n",
    "</div>"
   ]
  },
  {
   "cell_type": "markdown",
   "metadata": {},
   "source": [
    "## Общий вывод"
   ]
  },
  {
   "cell_type": "markdown",
   "metadata": {},
   "source": [
    "После проведенного анализа можем сделать следующие выводы:\n",
    "1. На мировом рынке игровых платформ лучшие позиции у компании Sony с их платформой Playstation, следом за ними идут Microsoft с их Xbox. Если смотреть в целом по рынку, то прослеживается как компании, после прохождения пика продаж, выпускают на рынок новое поколение своей консоли. В среднем платформа живет 9 лет, но с момента выхода, через 6,5 лет выходит новое поколение.\n",
    "2. Проводя анализ актуального периода, видна тенденция роста перспективных платформ, а именно тех, которые вышли на рынок в течение последних трех лет. Если мы рассматриваем на 2015 год, то мы видим на рынке стремительный рост новинок: PS4 и Xbox One. На 2017 год они должны достигнуть своего пика и не за горами выход новых поколений этих платформ.\n",
    "3. Оценка критиков и пользователей не имеет большого влияния на продажи игр в мире.\n",
    "4. Рассмотреть по жанрам, то картина к 2017 году на глобальном рынке врядли измениться: в лидерах будет Action, за ним пойдет Sports, замыкать тройку будет Shooter.\n",
    "5. В разрезе по регионам, Европа и Америка предпочитают общемировые жанры: Action, Sports, Shooter. В Японии картина несколько иная: Role-Playing, Action, Misc.\n",
    "6. Рейтинг ESRB по регионам практически одинаково распрелен: E - лидер на всех рынках.\n",
    "7. Гипотеза о равенстве пользовательских рейтингов платформ PC и Xbox One не подтвердилась в отличие он гипотезы о разнице средних пользовательских рейтингов в жанрах Action и Sports."
   ]
  },
  {
   "cell_type": "markdown",
   "metadata": {},
   "source": [
    "<div class=\"alert alert-success\">\n",
    "<b>Комментарий ревьюера:</b>\n",
    "\n",
    "Выводы понятны и логичны, а самое главное подкреплены выявленными фактами.\n",
    "       \n",
    "В целом сам проект выполнен на хорошем уровне! На протяжении всей работы чувствуется глубина проработки задачи и это безусловный плюс для нас. Было использовано большое количество методов, которые будут помогать тебе в дальнейших проектах.\n",
    "    \n",
    "    \n",
    "Т.к. особо критичных замечаний у меня нет, то я предлагаю двигаться дальше.\n",
    "    \n",
    "Но! Если вдруг у тебя возникнет какой-либо вопрос касаемо моих комментариев, ты всегда можешь написать мне через куратора, он мне все передаст и я отвечу обязательно на все вопросы.\n",
    "\n",
    "    \n",
    "Поздравляю с успешным завершением проекта 😊👍\n",
    "    \n",
    "И желаю успехов в новых работах 😊\n",
    "    \n",
    "    \n",
    "**[общий комментарий]** Ячейки **markdown** в том числе мы можем использовать как дополнительный способ стилизации нашего проекта. Оставил ниже ссылку, с примерами стилизации.\n",
    "\n",
    "https://sqlbak.com/blog/jupyter-notebook-markdown-cheatsheet     \n",
    "</div>"
   ]
  },
  {
   "cell_type": "code",
   "execution_count": null,
   "metadata": {},
   "outputs": [],
   "source": []
  }
 ],
 "metadata": {
  "ExecuteTimeLog": [
   {
    "duration": 1405,
    "start_time": "2022-01-24T12:12:34.864Z"
   },
   {
    "duration": 88,
    "start_time": "2022-01-24T12:14:33.800Z"
   },
   {
    "duration": 1021,
    "start_time": "2022-01-25T04:19:50.620Z"
   },
   {
    "duration": 58,
    "start_time": "2022-01-25T04:19:51.643Z"
   },
   {
    "duration": 53,
    "start_time": "2022-01-25T04:20:05.547Z"
   },
   {
    "duration": 382,
    "start_time": "2022-01-25T04:45:46.468Z"
   },
   {
    "duration": 4,
    "start_time": "2022-01-25T04:46:46.040Z"
   },
   {
    "duration": 326,
    "start_time": "2022-01-25T04:47:13.375Z"
   },
   {
    "duration": 297,
    "start_time": "2022-01-25T04:48:21.415Z"
   },
   {
    "duration": 524,
    "start_time": "2022-01-25T05:15:16.769Z"
   },
   {
    "duration": 4,
    "start_time": "2022-01-25T05:55:20.286Z"
   },
   {
    "duration": 5,
    "start_time": "2022-01-25T05:55:51.716Z"
   },
   {
    "duration": 359,
    "start_time": "2022-01-25T05:56:10.031Z"
   },
   {
    "duration": 308,
    "start_time": "2022-01-25T06:04:00.701Z"
   },
   {
    "duration": 5,
    "start_time": "2022-01-25T06:04:28.228Z"
   },
   {
    "duration": 4,
    "start_time": "2022-01-25T06:05:29.934Z"
   },
   {
    "duration": 4,
    "start_time": "2022-01-25T06:05:56.638Z"
   },
   {
    "duration": 4,
    "start_time": "2022-01-25T06:08:09.457Z"
   },
   {
    "duration": 4,
    "start_time": "2022-01-25T06:08:32.029Z"
   },
   {
    "duration": 4,
    "start_time": "2022-01-25T06:09:16.162Z"
   },
   {
    "duration": 4,
    "start_time": "2022-01-25T06:09:30.733Z"
   },
   {
    "duration": 1561,
    "start_time": "2022-01-25T06:10:53.932Z"
   },
   {
    "duration": 4,
    "start_time": "2022-01-25T06:11:25.581Z"
   },
   {
    "duration": 4,
    "start_time": "2022-01-25T06:11:50.172Z"
   },
   {
    "duration": 1076,
    "start_time": "2022-01-25T06:13:24.578Z"
   },
   {
    "duration": 58,
    "start_time": "2022-01-25T06:13:25.656Z"
   },
   {
    "duration": 380,
    "start_time": "2022-01-25T06:13:25.716Z"
   },
   {
    "duration": 3,
    "start_time": "2022-01-25T06:13:42.951Z"
   },
   {
    "duration": 324,
    "start_time": "2022-01-25T06:14:03.354Z"
   },
   {
    "duration": 12,
    "start_time": "2022-01-25T06:14:09.387Z"
   },
   {
    "duration": 20,
    "start_time": "2022-01-25T06:21:25.325Z"
   },
   {
    "duration": 15,
    "start_time": "2022-01-25T06:22:23.566Z"
   },
   {
    "duration": 8164,
    "start_time": "2022-01-25T06:25:57.463Z"
   },
   {
    "duration": 70,
    "start_time": "2022-01-25T06:27:03.447Z"
   },
   {
    "duration": 14,
    "start_time": "2022-01-25T06:27:33.069Z"
   },
   {
    "duration": 14,
    "start_time": "2022-01-25T06:28:27.911Z"
   },
   {
    "duration": 369,
    "start_time": "2022-01-25T06:31:24.418Z"
   },
   {
    "duration": 23,
    "start_time": "2022-01-25T06:31:30.854Z"
   },
   {
    "duration": 104,
    "start_time": "2022-01-25T06:43:14.572Z"
   },
   {
    "duration": 27,
    "start_time": "2022-01-25T06:43:19.573Z"
   },
   {
    "duration": 326,
    "start_time": "2022-01-25T06:45:48.085Z"
   },
   {
    "duration": 26,
    "start_time": "2022-01-25T06:46:06.245Z"
   },
   {
    "duration": 27,
    "start_time": "2022-01-25T06:46:45.029Z"
   },
   {
    "duration": 28,
    "start_time": "2022-01-25T06:47:55.652Z"
   },
   {
    "duration": 27,
    "start_time": "2022-01-25T06:48:43.911Z"
   },
   {
    "duration": 27,
    "start_time": "2022-01-25T06:48:53.963Z"
   },
   {
    "duration": 24,
    "start_time": "2022-01-25T06:50:07.963Z"
   },
   {
    "duration": 25,
    "start_time": "2022-01-25T06:50:16.052Z"
   },
   {
    "duration": 25,
    "start_time": "2022-01-25T06:51:03.747Z"
   },
   {
    "duration": 25,
    "start_time": "2022-01-25T06:51:29.283Z"
   },
   {
    "duration": 322,
    "start_time": "2022-01-25T07:02:35.268Z"
   },
   {
    "duration": 29,
    "start_time": "2022-01-25T07:04:46.770Z"
   },
   {
    "duration": 28,
    "start_time": "2022-01-25T07:05:38.611Z"
   },
   {
    "duration": 14,
    "start_time": "2022-01-25T07:36:49.475Z"
   },
   {
    "duration": 12,
    "start_time": "2022-01-25T07:37:19.986Z"
   },
   {
    "duration": 12,
    "start_time": "2022-01-25T07:37:47.118Z"
   },
   {
    "duration": 3,
    "start_time": "2022-01-25T08:42:53.701Z"
   },
   {
    "duration": 50,
    "start_time": "2022-01-25T08:42:53.708Z"
   },
   {
    "duration": 11,
    "start_time": "2022-01-25T08:42:53.760Z"
   },
   {
    "duration": 5,
    "start_time": "2022-01-25T08:42:53.773Z"
   },
   {
    "duration": 13,
    "start_time": "2022-01-25T08:42:53.779Z"
   },
   {
    "duration": 1048,
    "start_time": "2022-01-25T08:43:05.599Z"
   },
   {
    "duration": 55,
    "start_time": "2022-01-25T08:43:06.649Z"
   },
   {
    "duration": 12,
    "start_time": "2022-01-25T08:43:06.706Z"
   },
   {
    "duration": 8,
    "start_time": "2022-01-25T08:43:06.720Z"
   },
   {
    "duration": 21,
    "start_time": "2022-01-25T08:43:06.729Z"
   },
   {
    "duration": 24,
    "start_time": "2022-01-25T08:44:01.244Z"
   },
   {
    "duration": 33,
    "start_time": "2022-01-25T08:48:07.677Z"
   },
   {
    "duration": 35,
    "start_time": "2022-01-25T08:52:09.575Z"
   },
   {
    "duration": 34,
    "start_time": "2022-01-25T09:02:20.640Z"
   },
   {
    "duration": 15,
    "start_time": "2022-01-25T09:04:01.849Z"
   },
   {
    "duration": 34,
    "start_time": "2022-01-25T09:07:51.463Z"
   },
   {
    "duration": 114,
    "start_time": "2022-01-25T09:12:35.789Z"
   },
   {
    "duration": 6,
    "start_time": "2022-01-25T09:12:59.949Z"
   },
   {
    "duration": 380,
    "start_time": "2022-01-25T09:13:33.586Z"
   },
   {
    "duration": 351,
    "start_time": "2022-01-25T09:13:59.470Z"
   },
   {
    "duration": 5,
    "start_time": "2022-01-25T09:14:10.078Z"
   },
   {
    "duration": 560,
    "start_time": "2022-01-25T09:14:25.160Z"
   },
   {
    "duration": 309,
    "start_time": "2022-01-25T09:16:07.075Z"
   },
   {
    "duration": 299,
    "start_time": "2022-01-25T09:18:41.716Z"
   },
   {
    "duration": 329,
    "start_time": "2022-01-25T09:18:57.764Z"
   },
   {
    "duration": 398,
    "start_time": "2022-01-25T09:19:43.986Z"
   },
   {
    "duration": 4,
    "start_time": "2022-01-25T09:20:12.019Z"
   },
   {
    "duration": 8,
    "start_time": "2022-01-25T09:20:19.902Z"
   },
   {
    "duration": 538,
    "start_time": "2022-01-25T09:20:36.572Z"
   },
   {
    "duration": 612,
    "start_time": "2022-01-25T09:24:31.186Z"
   },
   {
    "duration": 118,
    "start_time": "2022-01-25T09:26:00.034Z"
   },
   {
    "duration": 490,
    "start_time": "2022-01-25T09:26:07.352Z"
   },
   {
    "duration": 491,
    "start_time": "2022-01-25T09:28:39.491Z"
   },
   {
    "duration": 470,
    "start_time": "2022-01-25T09:29:18.278Z"
   },
   {
    "duration": 7,
    "start_time": "2022-01-25T09:30:51.404Z"
   },
   {
    "duration": 7,
    "start_time": "2022-01-25T09:31:07.706Z"
   },
   {
    "duration": 108,
    "start_time": "2022-01-25T09:31:19.353Z"
   },
   {
    "duration": 7,
    "start_time": "2022-01-25T09:31:24.337Z"
   },
   {
    "duration": 8,
    "start_time": "2022-01-25T09:32:43.617Z"
   },
   {
    "duration": 9,
    "start_time": "2022-01-25T09:33:35.644Z"
   },
   {
    "duration": 7,
    "start_time": "2022-01-25T09:33:46.820Z"
   },
   {
    "duration": 7,
    "start_time": "2022-01-25T09:34:18.050Z"
   },
   {
    "duration": 7,
    "start_time": "2022-01-25T09:34:33.604Z"
   },
   {
    "duration": 302,
    "start_time": "2022-01-25T09:39:01.523Z"
   },
   {
    "duration": 15,
    "start_time": "2022-01-25T09:40:06.485Z"
   },
   {
    "duration": 13,
    "start_time": "2022-01-25T09:40:53.371Z"
   },
   {
    "duration": 11,
    "start_time": "2022-01-25T09:41:04.670Z"
   },
   {
    "duration": 286,
    "start_time": "2022-01-25T09:41:29.235Z"
   },
   {
    "duration": 324,
    "start_time": "2022-01-25T09:42:24.984Z"
   },
   {
    "duration": 6,
    "start_time": "2022-01-25T09:45:20.178Z"
   },
   {
    "duration": 304,
    "start_time": "2022-01-25T09:46:28.368Z"
   },
   {
    "duration": 9,
    "start_time": "2022-01-25T09:46:50.241Z"
   },
   {
    "duration": 12,
    "start_time": "2022-01-25T09:47:11.508Z"
   },
   {
    "duration": 19,
    "start_time": "2022-01-25T09:47:26.071Z"
   },
   {
    "duration": 7,
    "start_time": "2022-01-25T09:47:39.648Z"
   },
   {
    "duration": 7,
    "start_time": "2022-01-25T09:48:16.099Z"
   },
   {
    "duration": 8,
    "start_time": "2022-01-25T09:48:27.623Z"
   },
   {
    "duration": 7,
    "start_time": "2022-01-25T09:48:43.443Z"
   },
   {
    "duration": 35,
    "start_time": "2022-01-25T09:48:46.562Z"
   },
   {
    "duration": 7,
    "start_time": "2022-01-25T09:49:08.517Z"
   },
   {
    "duration": 7,
    "start_time": "2022-01-25T09:49:16.994Z"
   },
   {
    "duration": 35,
    "start_time": "2022-01-25T09:50:06.613Z"
   },
   {
    "duration": 8548,
    "start_time": "2022-01-25T09:50:26.116Z"
   },
   {
    "duration": 304,
    "start_time": "2022-01-25T09:50:53.980Z"
   },
   {
    "duration": 44,
    "start_time": "2022-01-25T09:51:23.109Z"
   },
   {
    "duration": 7,
    "start_time": "2022-01-25T09:51:29.878Z"
   },
   {
    "duration": 6,
    "start_time": "2022-01-25T09:54:09.548Z"
   },
   {
    "duration": 9,
    "start_time": "2022-01-25T09:55:12.898Z"
   },
   {
    "duration": 1152,
    "start_time": "2022-01-25T09:56:05.986Z"
   },
   {
    "duration": 60,
    "start_time": "2022-01-25T09:56:07.140Z"
   },
   {
    "duration": 11,
    "start_time": "2022-01-25T09:56:07.202Z"
   },
   {
    "duration": 44,
    "start_time": "2022-01-25T09:56:07.214Z"
   },
   {
    "duration": 557,
    "start_time": "2022-01-25T09:56:07.260Z"
   },
   {
    "duration": 500,
    "start_time": "2022-01-25T09:56:59.094Z"
   },
   {
    "duration": 520,
    "start_time": "2022-01-25T10:00:01.728Z"
   },
   {
    "duration": 7,
    "start_time": "2022-01-25T10:00:34.780Z"
   },
   {
    "duration": 521,
    "start_time": "2022-01-25T10:01:11.883Z"
   },
   {
    "duration": 488,
    "start_time": "2022-01-25T10:01:42.107Z"
   },
   {
    "duration": 6,
    "start_time": "2022-01-25T10:02:32.112Z"
   },
   {
    "duration": 27,
    "start_time": "2022-01-25T10:02:49.921Z"
   },
   {
    "duration": 15,
    "start_time": "2022-01-25T10:02:56.419Z"
   },
   {
    "duration": 27,
    "start_time": "2022-01-25T10:10:05.186Z"
   },
   {
    "duration": 42,
    "start_time": "2022-01-25T10:10:25.648Z"
   },
   {
    "duration": 28,
    "start_time": "2022-01-25T10:10:53.892Z"
   },
   {
    "duration": 1218,
    "start_time": "2022-01-25T10:11:30.240Z"
   },
   {
    "duration": 53,
    "start_time": "2022-01-25T10:11:31.460Z"
   },
   {
    "duration": 12,
    "start_time": "2022-01-25T10:11:31.515Z"
   },
   {
    "duration": 45,
    "start_time": "2022-01-25T10:11:31.529Z"
   },
   {
    "duration": 12,
    "start_time": "2022-01-25T10:11:31.575Z"
   },
   {
    "duration": 380,
    "start_time": "2022-01-25T10:11:31.588Z"
   },
   {
    "duration": 8,
    "start_time": "2022-01-25T10:12:12.860Z"
   },
   {
    "duration": 1023,
    "start_time": "2022-01-25T10:32:52.614Z"
   },
   {
    "duration": 55,
    "start_time": "2022-01-25T10:32:53.639Z"
   },
   {
    "duration": 12,
    "start_time": "2022-01-25T10:32:53.695Z"
   },
   {
    "duration": 35,
    "start_time": "2022-01-25T10:32:53.709Z"
   },
   {
    "duration": 13,
    "start_time": "2022-01-25T10:32:53.746Z"
   },
   {
    "duration": 28,
    "start_time": "2022-01-25T10:33:17.989Z"
   },
   {
    "duration": 385,
    "start_time": "2022-01-25T10:39:19.784Z"
   },
   {
    "duration": 411,
    "start_time": "2022-01-25T10:39:41.047Z"
   },
   {
    "duration": 7,
    "start_time": "2022-01-25T10:40:06.710Z"
   },
   {
    "duration": 488,
    "start_time": "2022-01-25T10:40:28.642Z"
   },
   {
    "duration": 7,
    "start_time": "2022-01-25T10:41:24.974Z"
   },
   {
    "duration": 8571,
    "start_time": "2022-01-25T10:44:47.400Z"
   },
   {
    "duration": 7729,
    "start_time": "2022-01-25T10:45:18.537Z"
   },
   {
    "duration": 6,
    "start_time": "2022-01-25T10:47:16.295Z"
   },
   {
    "duration": 297,
    "start_time": "2022-01-25T10:49:26.099Z"
   },
   {
    "duration": 6,
    "start_time": "2022-01-25T10:49:42.797Z"
   },
   {
    "duration": 7,
    "start_time": "2022-01-25T10:49:59.234Z"
   },
   {
    "duration": 6,
    "start_time": "2022-01-25T10:51:01.903Z"
   },
   {
    "duration": 488,
    "start_time": "2022-01-25T10:52:25.805Z"
   },
   {
    "duration": 9,
    "start_time": "2022-01-25T10:54:04.945Z"
   },
   {
    "duration": 6,
    "start_time": "2022-01-25T10:54:42.190Z"
   },
   {
    "duration": 6,
    "start_time": "2022-01-25T10:55:13.170Z"
   },
   {
    "duration": 10,
    "start_time": "2022-01-25T10:55:27.025Z"
   },
   {
    "duration": 7,
    "start_time": "2022-01-25T10:55:40.337Z"
   },
   {
    "duration": 7,
    "start_time": "2022-01-25T10:57:06.477Z"
   },
   {
    "duration": 7,
    "start_time": "2022-01-25T11:00:24.893Z"
   },
   {
    "duration": 8,
    "start_time": "2022-01-25T11:00:44.728Z"
   },
   {
    "duration": 7,
    "start_time": "2022-01-25T11:00:58.057Z"
   },
   {
    "duration": 7,
    "start_time": "2022-01-25T11:01:11.255Z"
   },
   {
    "duration": 7,
    "start_time": "2022-01-25T11:01:39.377Z"
   },
   {
    "duration": 7,
    "start_time": "2022-01-25T11:02:50.658Z"
   },
   {
    "duration": 6,
    "start_time": "2022-01-25T11:03:17.353Z"
   },
   {
    "duration": 309,
    "start_time": "2022-01-25T11:03:56.731Z"
   },
   {
    "duration": 103,
    "start_time": "2022-01-25T11:04:22.716Z"
   },
   {
    "duration": 103,
    "start_time": "2022-01-25T11:04:29.841Z"
   },
   {
    "duration": 8,
    "start_time": "2022-01-25T11:04:43.244Z"
   },
   {
    "duration": 7,
    "start_time": "2022-01-25T11:07:59.730Z"
   },
   {
    "duration": 9,
    "start_time": "2022-01-25T11:08:46.260Z"
   },
   {
    "duration": 7,
    "start_time": "2022-01-25T11:09:43.731Z"
   },
   {
    "duration": 6,
    "start_time": "2022-01-25T11:11:40.356Z"
   },
   {
    "duration": 320,
    "start_time": "2022-01-25T11:18:46.892Z"
   },
   {
    "duration": 11,
    "start_time": "2022-01-25T11:18:56.428Z"
   },
   {
    "duration": 2565,
    "start_time": "2022-01-25T11:20:20.131Z"
   },
   {
    "duration": 816,
    "start_time": "2022-01-25T11:23:02.842Z"
   },
   {
    "duration": 1718,
    "start_time": "2022-01-25T11:24:50.574Z"
   },
   {
    "duration": 437,
    "start_time": "2022-01-25T11:26:40.214Z"
   },
   {
    "duration": 401,
    "start_time": "2022-01-25T11:26:51.189Z"
   },
   {
    "duration": 1094,
    "start_time": "2022-01-25T11:27:32.446Z"
   },
   {
    "duration": 53,
    "start_time": "2022-01-25T11:27:33.542Z"
   },
   {
    "duration": 12,
    "start_time": "2022-01-25T11:27:33.597Z"
   },
   {
    "duration": 35,
    "start_time": "2022-01-25T11:27:33.611Z"
   },
   {
    "duration": 7,
    "start_time": "2022-01-25T11:27:33.647Z"
   },
   {
    "duration": 41,
    "start_time": "2022-01-25T11:27:33.656Z"
   },
   {
    "duration": 9,
    "start_time": "2022-01-25T11:27:33.699Z"
   },
   {
    "duration": 484,
    "start_time": "2022-01-25T11:30:00.974Z"
   },
   {
    "duration": 296,
    "start_time": "2022-01-25T11:30:14.614Z"
   },
   {
    "duration": 295,
    "start_time": "2022-01-25T11:30:18.128Z"
   },
   {
    "duration": 4,
    "start_time": "2022-01-25T11:30:20.741Z"
   },
   {
    "duration": 506,
    "start_time": "2022-01-25T11:37:10.688Z"
   },
   {
    "duration": 524,
    "start_time": "2022-01-25T11:38:00.507Z"
   },
   {
    "duration": 493,
    "start_time": "2022-01-25T11:38:34.132Z"
   },
   {
    "duration": 7305,
    "start_time": "2022-01-25T11:40:24.820Z"
   },
   {
    "duration": 5,
    "start_time": "2022-01-25T11:40:43.440Z"
   },
   {
    "duration": 478,
    "start_time": "2022-01-25T11:40:55.956Z"
   },
   {
    "duration": 100,
    "start_time": "2022-01-25T11:41:23.341Z"
   },
   {
    "duration": 591,
    "start_time": "2022-01-25T11:42:15.148Z"
   },
   {
    "duration": 300,
    "start_time": "2022-01-25T11:44:26.201Z"
   },
   {
    "duration": 6,
    "start_time": "2022-01-25T11:44:30.612Z"
   },
   {
    "duration": 6,
    "start_time": "2022-01-25T11:44:36.040Z"
   },
   {
    "duration": 295,
    "start_time": "2022-01-25T11:44:49.726Z"
   },
   {
    "duration": 6,
    "start_time": "2022-01-25T11:44:56.511Z"
   },
   {
    "duration": 396,
    "start_time": "2022-01-25T11:47:11.052Z"
   },
   {
    "duration": 427,
    "start_time": "2022-01-25T11:47:19.994Z"
   },
   {
    "duration": 3,
    "start_time": "2022-01-25T11:48:35.620Z"
   },
   {
    "duration": 412,
    "start_time": "2022-01-25T11:48:42.836Z"
   },
   {
    "duration": 9,
    "start_time": "2022-01-25T11:49:26.440Z"
   },
   {
    "duration": 3,
    "start_time": "2022-01-25T11:50:52.902Z"
   },
   {
    "duration": 9,
    "start_time": "2022-01-25T11:50:59.925Z"
   },
   {
    "duration": 3,
    "start_time": "2022-01-25T11:51:04.252Z"
   },
   {
    "duration": 437,
    "start_time": "2022-01-25T11:51:06.302Z"
   },
   {
    "duration": 4111,
    "start_time": "2022-01-25T11:52:37.082Z"
   },
   {
    "duration": 433,
    "start_time": "2022-01-25T11:52:48.270Z"
   },
   {
    "duration": 511,
    "start_time": "2022-01-25T11:58:20.067Z"
   },
   {
    "duration": 9,
    "start_time": "2022-01-25T11:58:44.460Z"
   },
   {
    "duration": 8,
    "start_time": "2022-01-25T11:59:21.385Z"
   },
   {
    "duration": 606,
    "start_time": "2022-01-25T11:59:25.880Z"
   },
   {
    "duration": 8,
    "start_time": "2022-01-25T12:01:27.020Z"
   },
   {
    "duration": 357,
    "start_time": "2022-01-25T12:01:39.865Z"
   },
   {
    "duration": 512,
    "start_time": "2022-01-25T12:02:48.777Z"
   },
   {
    "duration": 560,
    "start_time": "2022-01-25T12:14:16.202Z"
   },
   {
    "duration": 11,
    "start_time": "2022-01-25T12:14:40.723Z"
   },
   {
    "duration": 620,
    "start_time": "2022-01-25T12:14:45.010Z"
   },
   {
    "duration": 535,
    "start_time": "2022-01-25T12:15:26.712Z"
   },
   {
    "duration": 1420,
    "start_time": "2022-01-25T17:19:44.529Z"
   },
   {
    "duration": 100,
    "start_time": "2022-01-25T17:19:45.952Z"
   },
   {
    "duration": 39,
    "start_time": "2022-01-25T17:19:46.056Z"
   },
   {
    "duration": 74,
    "start_time": "2022-01-25T17:19:46.098Z"
   },
   {
    "duration": 647,
    "start_time": "2022-01-25T17:19:46.175Z"
   },
   {
    "duration": 730,
    "start_time": "2022-01-25T17:19:46.096Z"
   },
   {
    "duration": 731,
    "start_time": "2022-01-25T17:19:46.097Z"
   },
   {
    "duration": 732,
    "start_time": "2022-01-25T17:19:46.098Z"
   },
   {
    "duration": 361,
    "start_time": "2022-01-25T17:24:15.006Z"
   },
   {
    "duration": 31,
    "start_time": "2022-01-25T17:25:06.905Z"
   },
   {
    "duration": 3689,
    "start_time": "2022-01-25T17:25:37.374Z"
   },
   {
    "duration": 4555,
    "start_time": "2022-01-25T17:26:00.715Z"
   },
   {
    "duration": 1337,
    "start_time": "2022-01-25T17:26:51.715Z"
   },
   {
    "duration": 78,
    "start_time": "2022-01-25T17:26:53.054Z"
   },
   {
    "duration": 39,
    "start_time": "2022-01-25T17:26:53.136Z"
   },
   {
    "duration": 70,
    "start_time": "2022-01-25T17:26:53.178Z"
   },
   {
    "duration": 5165,
    "start_time": "2022-01-25T17:26:53.271Z"
   },
   {
    "duration": 728,
    "start_time": "2022-01-25T17:26:57.711Z"
   },
   {
    "duration": 727,
    "start_time": "2022-01-25T17:26:57.713Z"
   },
   {
    "duration": 3743,
    "start_time": "2022-01-25T17:27:13.546Z"
   },
   {
    "duration": 4585,
    "start_time": "2022-01-25T17:28:21.522Z"
   },
   {
    "duration": 1431,
    "start_time": "2022-01-25T17:28:50.496Z"
   },
   {
    "duration": 178,
    "start_time": "2022-01-25T17:28:51.930Z"
   },
   {
    "duration": 22,
    "start_time": "2022-01-25T17:28:52.111Z"
   },
   {
    "duration": 53,
    "start_time": "2022-01-25T17:28:52.136Z"
   },
   {
    "duration": 403,
    "start_time": "2022-01-25T17:28:52.192Z"
   },
   {
    "duration": 749,
    "start_time": "2022-01-25T17:28:51.849Z"
   },
   {
    "duration": 8,
    "start_time": "2022-01-25T17:29:26.630Z"
   },
   {
    "duration": 23,
    "start_time": "2022-01-25T17:30:40.182Z"
   },
   {
    "duration": 6,
    "start_time": "2022-01-25T17:30:41.574Z"
   },
   {
    "duration": 30,
    "start_time": "2022-01-25T17:30:58.758Z"
   },
   {
    "duration": 31,
    "start_time": "2022-01-25T17:31:38.071Z"
   },
   {
    "duration": 23,
    "start_time": "2022-01-25T17:32:56.447Z"
   },
   {
    "duration": 19,
    "start_time": "2022-01-25T17:33:13.902Z"
   },
   {
    "duration": 9,
    "start_time": "2022-01-25T17:33:40.343Z"
   },
   {
    "duration": 32,
    "start_time": "2022-01-25T18:08:47.676Z"
   },
   {
    "duration": 29,
    "start_time": "2022-01-25T18:09:21.696Z"
   },
   {
    "duration": 5,
    "start_time": "2022-01-25T18:13:05.412Z"
   },
   {
    "duration": 36,
    "start_time": "2022-01-25T18:13:20.723Z"
   },
   {
    "duration": 321,
    "start_time": "2022-01-25T18:30:29.247Z"
   },
   {
    "duration": 349,
    "start_time": "2022-01-25T18:31:08.500Z"
   },
   {
    "duration": 418,
    "start_time": "2022-01-25T18:42:16.109Z"
   },
   {
    "duration": 6,
    "start_time": "2022-01-25T18:45:27.508Z"
   },
   {
    "duration": 27,
    "start_time": "2022-01-25T18:46:19.564Z"
   },
   {
    "duration": 465,
    "start_time": "2022-01-25T18:49:10.626Z"
   },
   {
    "duration": 1270,
    "start_time": "2022-01-26T04:13:12.091Z"
   },
   {
    "duration": 65,
    "start_time": "2022-01-26T04:13:13.364Z"
   },
   {
    "duration": 17,
    "start_time": "2022-01-26T04:13:13.432Z"
   },
   {
    "duration": 24,
    "start_time": "2022-01-26T04:13:13.451Z"
   },
   {
    "duration": 407,
    "start_time": "2022-01-26T04:13:13.477Z"
   },
   {
    "duration": 19,
    "start_time": "2022-01-26T04:13:13.886Z"
   },
   {
    "duration": 162,
    "start_time": "2022-01-26T04:13:32.201Z"
   },
   {
    "duration": 65,
    "start_time": "2022-01-26T05:33:40.886Z"
   },
   {
    "duration": 65,
    "start_time": "2022-01-26T05:33:56.085Z"
   },
   {
    "duration": 70,
    "start_time": "2022-01-26T05:34:26.437Z"
   },
   {
    "duration": 5,
    "start_time": "2022-01-26T05:35:36.982Z"
   },
   {
    "duration": 14,
    "start_time": "2022-01-26T05:35:45.527Z"
   },
   {
    "duration": 9,
    "start_time": "2022-01-26T05:36:12.584Z"
   },
   {
    "duration": 446,
    "start_time": "2022-01-26T05:36:24.981Z"
   },
   {
    "duration": 1263,
    "start_time": "2022-01-26T05:37:52.690Z"
   },
   {
    "duration": 68,
    "start_time": "2022-01-26T05:37:53.955Z"
   },
   {
    "duration": 18,
    "start_time": "2022-01-26T05:37:54.025Z"
   },
   {
    "duration": 24,
    "start_time": "2022-01-26T05:37:54.045Z"
   },
   {
    "duration": 193,
    "start_time": "2022-01-26T05:37:54.071Z"
   },
   {
    "duration": 19,
    "start_time": "2022-01-26T05:37:54.267Z"
   },
   {
    "duration": 117,
    "start_time": "2022-01-26T05:37:54.288Z"
   },
   {
    "duration": 7,
    "start_time": "2022-01-26T05:37:54.409Z"
   },
   {
    "duration": 66,
    "start_time": "2022-01-26T05:39:12.041Z"
   },
   {
    "duration": 10,
    "start_time": "2022-01-26T05:39:18.680Z"
   },
   {
    "duration": 1442,
    "start_time": "2022-01-26T05:39:34.789Z"
   },
   {
    "duration": 70,
    "start_time": "2022-01-26T05:39:36.234Z"
   },
   {
    "duration": 27,
    "start_time": "2022-01-26T05:39:36.307Z"
   },
   {
    "duration": 27,
    "start_time": "2022-01-26T05:39:36.336Z"
   },
   {
    "duration": 139,
    "start_time": "2022-01-26T05:39:36.365Z"
   },
   {
    "duration": 18,
    "start_time": "2022-01-26T05:39:36.506Z"
   },
   {
    "duration": 78,
    "start_time": "2022-01-26T05:39:36.527Z"
   },
   {
    "duration": 6,
    "start_time": "2022-01-26T05:39:36.608Z"
   },
   {
    "duration": 16,
    "start_time": "2022-01-26T05:43:41.580Z"
   },
   {
    "duration": 7,
    "start_time": "2022-01-26T05:46:09.950Z"
   },
   {
    "duration": 29,
    "start_time": "2022-01-26T05:48:15.820Z"
   },
   {
    "duration": 1278,
    "start_time": "2022-01-26T05:51:41.844Z"
   },
   {
    "duration": 1205,
    "start_time": "2022-01-26T05:51:54.975Z"
   },
   {
    "duration": 1140,
    "start_time": "2022-01-26T05:52:07.004Z"
   },
   {
    "duration": 1147,
    "start_time": "2022-01-26T05:52:23.372Z"
   },
   {
    "duration": 29,
    "start_time": "2022-01-26T05:52:32.139Z"
   },
   {
    "duration": 306,
    "start_time": "2022-01-26T06:23:28.302Z"
   },
   {
    "duration": 28,
    "start_time": "2022-01-26T06:23:34.215Z"
   },
   {
    "duration": 25,
    "start_time": "2022-01-26T06:25:16.473Z"
   },
   {
    "duration": 1314,
    "start_time": "2022-01-26T06:26:28.064Z"
   },
   {
    "duration": 72,
    "start_time": "2022-01-26T06:26:29.382Z"
   },
   {
    "duration": 7,
    "start_time": "2022-01-26T06:26:54.503Z"
   },
   {
    "duration": 4,
    "start_time": "2022-01-26T06:27:05.991Z"
   },
   {
    "duration": 18,
    "start_time": "2022-01-26T06:27:13.671Z"
   },
   {
    "duration": 19,
    "start_time": "2022-01-26T06:27:26.542Z"
   },
   {
    "duration": 27,
    "start_time": "2022-01-26T06:27:26.564Z"
   },
   {
    "duration": 271,
    "start_time": "2022-01-26T06:27:26.594Z"
   },
   {
    "duration": 164,
    "start_time": "2022-01-26T06:27:26.868Z"
   },
   {
    "duration": 8,
    "start_time": "2022-01-26T06:27:27.036Z"
   },
   {
    "duration": 16,
    "start_time": "2022-01-26T06:27:27.046Z"
   },
   {
    "duration": 7,
    "start_time": "2022-01-26T06:27:27.065Z"
   },
   {
    "duration": 64,
    "start_time": "2022-01-26T06:27:27.076Z"
   },
   {
    "duration": 7,
    "start_time": "2022-01-26T06:29:52.758Z"
   },
   {
    "duration": 881,
    "start_time": "2022-01-26T06:30:22.178Z"
   },
   {
    "duration": 15,
    "start_time": "2022-01-26T06:30:59.270Z"
   },
   {
    "duration": 24,
    "start_time": "2022-01-26T06:31:08.630Z"
   },
   {
    "duration": 25,
    "start_time": "2022-01-26T06:31:37.847Z"
   },
   {
    "duration": 12,
    "start_time": "2022-01-26T06:32:11.669Z"
   },
   {
    "duration": 15,
    "start_time": "2022-01-26T06:33:43.750Z"
   },
   {
    "duration": 16,
    "start_time": "2022-01-26T06:33:51.286Z"
   },
   {
    "duration": 17,
    "start_time": "2022-01-26T06:34:45.292Z"
   },
   {
    "duration": 1238,
    "start_time": "2022-01-26T06:42:09.814Z"
   },
   {
    "duration": 69,
    "start_time": "2022-01-26T06:42:11.054Z"
   },
   {
    "duration": 18,
    "start_time": "2022-01-26T06:42:11.126Z"
   },
   {
    "duration": 25,
    "start_time": "2022-01-26T06:42:11.147Z"
   },
   {
    "duration": 156,
    "start_time": "2022-01-26T06:42:11.174Z"
   },
   {
    "duration": 193,
    "start_time": "2022-01-26T06:42:11.332Z"
   },
   {
    "duration": 7,
    "start_time": "2022-01-26T06:42:11.527Z"
   },
   {
    "duration": 15,
    "start_time": "2022-01-26T06:42:11.537Z"
   },
   {
    "duration": 6,
    "start_time": "2022-01-26T06:42:11.554Z"
   },
   {
    "duration": 22,
    "start_time": "2022-01-26T06:42:17.151Z"
   },
   {
    "duration": 14,
    "start_time": "2022-01-26T06:42:26.447Z"
   },
   {
    "duration": 8,
    "start_time": "2022-01-26T06:43:37.726Z"
   },
   {
    "duration": 377,
    "start_time": "2022-01-26T06:44:32.063Z"
   },
   {
    "duration": 268,
    "start_time": "2022-01-26T06:44:37.583Z"
   },
   {
    "duration": 10,
    "start_time": "2022-01-26T06:44:48.096Z"
   },
   {
    "duration": 17,
    "start_time": "2022-01-26T06:47:56.334Z"
   },
   {
    "duration": 283,
    "start_time": "2022-01-26T07:10:32.027Z"
   },
   {
    "duration": 32,
    "start_time": "2022-01-26T07:10:42.460Z"
   },
   {
    "duration": 20,
    "start_time": "2022-01-26T07:11:20.513Z"
   },
   {
    "duration": 20,
    "start_time": "2022-01-26T07:11:43.803Z"
   },
   {
    "duration": 30,
    "start_time": "2022-01-26T07:14:22.587Z"
   },
   {
    "duration": 22,
    "start_time": "2022-01-26T07:15:46.914Z"
   },
   {
    "duration": 301,
    "start_time": "2022-01-26T07:16:10.418Z"
   },
   {
    "duration": 41,
    "start_time": "2022-01-26T07:16:15.932Z"
   },
   {
    "duration": 45,
    "start_time": "2022-01-26T07:16:32.157Z"
   },
   {
    "duration": 41,
    "start_time": "2022-01-26T07:16:42.283Z"
   },
   {
    "duration": 42,
    "start_time": "2022-01-26T07:16:58.670Z"
   },
   {
    "duration": 15,
    "start_time": "2022-01-26T07:18:03.451Z"
   },
   {
    "duration": 29,
    "start_time": "2022-01-26T07:18:21.514Z"
   },
   {
    "duration": 298,
    "start_time": "2022-01-26T07:18:42.139Z"
   },
   {
    "duration": 273,
    "start_time": "2022-01-26T07:18:49.899Z"
   },
   {
    "duration": 11,
    "start_time": "2022-01-26T07:19:05.067Z"
   },
   {
    "duration": 9,
    "start_time": "2022-01-26T07:19:18.794Z"
   },
   {
    "duration": 8,
    "start_time": "2022-01-26T07:20:32.626Z"
   },
   {
    "duration": 27,
    "start_time": "2022-01-26T07:21:27.212Z"
   },
   {
    "duration": 9,
    "start_time": "2022-01-26T08:29:56.227Z"
   },
   {
    "duration": 9,
    "start_time": "2022-01-26T08:30:15.250Z"
   },
   {
    "duration": 8,
    "start_time": "2022-01-26T08:30:45.714Z"
   },
   {
    "duration": 11,
    "start_time": "2022-01-26T08:33:29.298Z"
   },
   {
    "duration": 6,
    "start_time": "2022-01-26T08:38:04.929Z"
   },
   {
    "duration": 1248,
    "start_time": "2022-01-26T08:38:25.694Z"
   },
   {
    "duration": 70,
    "start_time": "2022-01-26T08:38:26.944Z"
   },
   {
    "duration": 23,
    "start_time": "2022-01-26T08:38:27.017Z"
   },
   {
    "duration": 28,
    "start_time": "2022-01-26T08:38:27.043Z"
   },
   {
    "duration": 166,
    "start_time": "2022-01-26T08:38:27.073Z"
   },
   {
    "duration": 101,
    "start_time": "2022-01-26T08:38:27.242Z"
   },
   {
    "duration": 7,
    "start_time": "2022-01-26T08:38:27.345Z"
   },
   {
    "duration": 14,
    "start_time": "2022-01-26T08:38:27.355Z"
   },
   {
    "duration": 15,
    "start_time": "2022-01-26T08:38:27.371Z"
   },
   {
    "duration": 37,
    "start_time": "2022-01-26T08:38:27.389Z"
   },
   {
    "duration": 18,
    "start_time": "2022-01-26T08:38:27.428Z"
   },
   {
    "duration": 14,
    "start_time": "2022-01-26T08:38:27.448Z"
   },
   {
    "duration": 8,
    "start_time": "2022-01-26T08:38:27.464Z"
   },
   {
    "duration": 55,
    "start_time": "2022-01-26T08:38:27.474Z"
   },
   {
    "duration": 20,
    "start_time": "2022-01-26T08:38:27.532Z"
   },
   {
    "duration": 6,
    "start_time": "2022-01-26T08:38:27.554Z"
   },
   {
    "duration": 13,
    "start_time": "2022-01-26T09:05:34.336Z"
   },
   {
    "duration": 364,
    "start_time": "2022-01-26T09:05:59.088Z"
   },
   {
    "duration": 577,
    "start_time": "2022-01-26T09:09:53.071Z"
   },
   {
    "duration": 308,
    "start_time": "2022-01-26T09:11:34.977Z"
   },
   {
    "duration": 310,
    "start_time": "2022-01-26T09:11:54.527Z"
   },
   {
    "duration": 338,
    "start_time": "2022-01-26T09:12:57.135Z"
   },
   {
    "duration": 335,
    "start_time": "2022-01-26T09:13:30.015Z"
   },
   {
    "duration": 797,
    "start_time": "2022-01-26T09:22:03.086Z"
   },
   {
    "duration": 4,
    "start_time": "2022-01-26T09:22:34.541Z"
   },
   {
    "duration": 929,
    "start_time": "2022-01-26T09:22:39.602Z"
   },
   {
    "duration": 821,
    "start_time": "2022-01-26T09:24:18.283Z"
   },
   {
    "duration": 801,
    "start_time": "2022-01-26T09:34:53.292Z"
   },
   {
    "duration": 793,
    "start_time": "2022-01-26T09:35:18.076Z"
   },
   {
    "duration": 292,
    "start_time": "2022-01-26T09:46:04.106Z"
   },
   {
    "duration": 10,
    "start_time": "2022-01-26T09:46:47.258Z"
   },
   {
    "duration": 318,
    "start_time": "2022-01-26T09:51:21.512Z"
   },
   {
    "duration": 4,
    "start_time": "2022-01-26T09:52:19.275Z"
   },
   {
    "duration": 7,
    "start_time": "2022-01-26T09:53:02.730Z"
   },
   {
    "duration": 94,
    "start_time": "2022-01-26T10:04:08.044Z"
   },
   {
    "duration": 12,
    "start_time": "2022-01-26T10:04:35.463Z"
   },
   {
    "duration": 303,
    "start_time": "2022-01-26T10:05:07.047Z"
   },
   {
    "duration": 297,
    "start_time": "2022-01-26T10:05:28.680Z"
   },
   {
    "duration": 819,
    "start_time": "2022-01-26T10:06:42.695Z"
   },
   {
    "duration": 6,
    "start_time": "2022-01-26T10:07:11.690Z"
   },
   {
    "duration": 516,
    "start_time": "2022-01-26T10:07:32.681Z"
   },
   {
    "duration": 572,
    "start_time": "2022-01-26T10:08:11.275Z"
   },
   {
    "duration": 340,
    "start_time": "2022-01-26T10:09:15.704Z"
   },
   {
    "duration": 62,
    "start_time": "2022-01-26T10:21:40.937Z"
   },
   {
    "duration": 358,
    "start_time": "2022-01-26T10:22:13.223Z"
   },
   {
    "duration": 370,
    "start_time": "2022-01-26T10:23:36.518Z"
   },
   {
    "duration": 361,
    "start_time": "2022-01-26T10:23:46.870Z"
   },
   {
    "duration": 61,
    "start_time": "2022-01-26T10:33:45.239Z"
   },
   {
    "duration": 10,
    "start_time": "2022-01-26T10:39:27.396Z"
   },
   {
    "duration": 11,
    "start_time": "2022-01-26T10:39:40.964Z"
   },
   {
    "duration": 391,
    "start_time": "2022-01-26T10:44:02.949Z"
   },
   {
    "duration": 8,
    "start_time": "2022-01-26T10:44:51.811Z"
   },
   {
    "duration": 386,
    "start_time": "2022-01-26T10:47:44.195Z"
   },
   {
    "duration": 334,
    "start_time": "2022-01-26T10:48:07.059Z"
   },
   {
    "duration": 436,
    "start_time": "2022-01-26T11:38:05.741Z"
   },
   {
    "duration": 477,
    "start_time": "2022-01-26T11:46:15.691Z"
   },
   {
    "duration": 8,
    "start_time": "2022-01-26T11:46:48.636Z"
   },
   {
    "duration": 9,
    "start_time": "2022-01-26T11:46:57.566Z"
   },
   {
    "duration": 418,
    "start_time": "2022-01-26T11:50:15.500Z"
   },
   {
    "duration": 563,
    "start_time": "2022-01-26T11:50:59.644Z"
   },
   {
    "duration": 501,
    "start_time": "2022-01-26T11:51:07.467Z"
   },
   {
    "duration": 103,
    "start_time": "2022-01-26T11:51:36.957Z"
   },
   {
    "duration": 347,
    "start_time": "2022-01-26T11:52:09.595Z"
   },
   {
    "duration": 10,
    "start_time": "2022-01-26T11:52:33.692Z"
   },
   {
    "duration": 105,
    "start_time": "2022-01-26T11:53:13.948Z"
   },
   {
    "duration": 339,
    "start_time": "2022-01-26T11:53:18.555Z"
   },
   {
    "duration": 260,
    "start_time": "2022-01-26T11:53:30.475Z"
   },
   {
    "duration": 347,
    "start_time": "2022-01-26T11:56:00.507Z"
   },
   {
    "duration": 19,
    "start_time": "2022-01-26T11:56:16.667Z"
   },
   {
    "duration": 22,
    "start_time": "2022-01-26T11:56:41.659Z"
   },
   {
    "duration": 407,
    "start_time": "2022-01-26T11:57:09.643Z"
   },
   {
    "duration": 505,
    "start_time": "2022-01-26T11:57:19.835Z"
   },
   {
    "duration": 1083,
    "start_time": "2022-01-26T11:57:28.714Z"
   },
   {
    "duration": 2013,
    "start_time": "2022-01-26T11:59:47.578Z"
   },
   {
    "duration": 2211,
    "start_time": "2022-01-26T11:59:56.394Z"
   },
   {
    "duration": 275,
    "start_time": "2022-01-26T12:00:30.859Z"
   },
   {
    "duration": 21,
    "start_time": "2022-01-26T12:04:22.393Z"
   },
   {
    "duration": 15,
    "start_time": "2022-01-26T12:04:59.273Z"
   },
   {
    "duration": 20,
    "start_time": "2022-01-26T12:05:16.345Z"
   },
   {
    "duration": 22,
    "start_time": "2022-01-26T12:05:34.394Z"
   },
   {
    "duration": 29,
    "start_time": "2022-01-26T12:07:21.609Z"
   },
   {
    "duration": 473,
    "start_time": "2022-01-26T12:07:47.497Z"
   },
   {
    "duration": 26,
    "start_time": "2022-01-26T12:08:10.954Z"
   },
   {
    "duration": 341,
    "start_time": "2022-01-26T12:08:36.793Z"
   },
   {
    "duration": 94,
    "start_time": "2022-01-26T12:09:08.777Z"
   },
   {
    "duration": 519,
    "start_time": "2022-01-26T12:09:14.426Z"
   },
   {
    "duration": 675,
    "start_time": "2022-01-26T12:10:15.579Z"
   },
   {
    "duration": 491,
    "start_time": "2022-01-26T12:14:09.001Z"
   },
   {
    "duration": 496,
    "start_time": "2022-01-26T12:24:01.751Z"
   },
   {
    "duration": 4,
    "start_time": "2022-01-26T13:17:04.340Z"
   },
   {
    "duration": 66,
    "start_time": "2022-01-26T13:17:04.347Z"
   },
   {
    "duration": 17,
    "start_time": "2022-01-26T13:17:04.416Z"
   },
   {
    "duration": 25,
    "start_time": "2022-01-26T13:17:04.436Z"
   },
   {
    "duration": 226,
    "start_time": "2022-01-26T13:17:04.463Z"
   },
   {
    "duration": 101,
    "start_time": "2022-01-26T13:17:04.691Z"
   },
   {
    "duration": 7,
    "start_time": "2022-01-26T13:17:04.795Z"
   },
   {
    "duration": 18,
    "start_time": "2022-01-26T13:17:04.805Z"
   },
   {
    "duration": 14,
    "start_time": "2022-01-26T13:17:04.826Z"
   },
   {
    "duration": 8,
    "start_time": "2022-01-26T13:17:04.842Z"
   },
   {
    "duration": 17,
    "start_time": "2022-01-26T13:17:04.852Z"
   },
   {
    "duration": 23,
    "start_time": "2022-01-26T13:17:04.871Z"
   },
   {
    "duration": 33,
    "start_time": "2022-01-26T13:17:04.896Z"
   },
   {
    "duration": 17,
    "start_time": "2022-01-26T13:17:04.932Z"
   },
   {
    "duration": 19,
    "start_time": "2022-01-26T13:17:04.952Z"
   },
   {
    "duration": 5,
    "start_time": "2022-01-26T13:17:04.973Z"
   },
   {
    "duration": 874,
    "start_time": "2022-01-26T13:17:04.981Z"
   },
   {
    "duration": 585,
    "start_time": "2022-01-26T13:17:05.858Z"
   },
   {
    "duration": 382,
    "start_time": "2022-01-26T13:17:06.446Z"
   },
   {
    "duration": 12,
    "start_time": "2022-01-26T13:17:06.831Z"
   },
   {
    "duration": 4,
    "start_time": "2022-01-26T14:50:54.156Z"
   },
   {
    "duration": 65,
    "start_time": "2022-01-26T14:50:54.163Z"
   },
   {
    "duration": 17,
    "start_time": "2022-01-26T14:50:54.231Z"
   },
   {
    "duration": 23,
    "start_time": "2022-01-26T14:50:54.250Z"
   },
   {
    "duration": 230,
    "start_time": "2022-01-26T14:50:54.276Z"
   },
   {
    "duration": 124,
    "start_time": "2022-01-26T14:50:54.508Z"
   },
   {
    "duration": 10,
    "start_time": "2022-01-26T14:50:54.635Z"
   },
   {
    "duration": 25,
    "start_time": "2022-01-26T14:50:54.648Z"
   },
   {
    "duration": 15,
    "start_time": "2022-01-26T14:50:54.677Z"
   },
   {
    "duration": 29,
    "start_time": "2022-01-26T14:50:54.695Z"
   },
   {
    "duration": 19,
    "start_time": "2022-01-26T14:50:54.727Z"
   },
   {
    "duration": 21,
    "start_time": "2022-01-26T14:50:54.748Z"
   },
   {
    "duration": 8,
    "start_time": "2022-01-26T14:50:54.771Z"
   },
   {
    "duration": 54,
    "start_time": "2022-01-26T14:50:54.781Z"
   },
   {
    "duration": 17,
    "start_time": "2022-01-26T14:50:54.837Z"
   },
   {
    "duration": 13,
    "start_time": "2022-01-26T14:50:54.856Z"
   },
   {
    "duration": 1068,
    "start_time": "2022-01-26T14:50:54.871Z"
   },
   {
    "duration": 515,
    "start_time": "2022-01-26T14:50:55.941Z"
   },
   {
    "duration": 351,
    "start_time": "2022-01-26T14:50:56.458Z"
   },
   {
    "duration": 19,
    "start_time": "2022-01-26T14:50:56.811Z"
   },
   {
    "duration": 1048,
    "start_time": "2022-01-26T18:16:07.424Z"
   },
   {
    "duration": 53,
    "start_time": "2022-01-26T18:16:08.474Z"
   },
   {
    "duration": 12,
    "start_time": "2022-01-26T18:16:08.529Z"
   },
   {
    "duration": 19,
    "start_time": "2022-01-26T18:16:08.543Z"
   },
   {
    "duration": 96,
    "start_time": "2022-01-26T18:16:08.563Z"
   },
   {
    "duration": 68,
    "start_time": "2022-01-26T18:16:08.660Z"
   },
   {
    "duration": 5,
    "start_time": "2022-01-26T18:16:08.730Z"
   },
   {
    "duration": 10,
    "start_time": "2022-01-26T18:16:08.736Z"
   },
   {
    "duration": 11,
    "start_time": "2022-01-26T18:16:08.749Z"
   },
   {
    "duration": 7,
    "start_time": "2022-01-26T18:16:08.763Z"
   },
   {
    "duration": 41,
    "start_time": "2022-01-26T18:16:08.772Z"
   },
   {
    "duration": 13,
    "start_time": "2022-01-26T18:16:08.815Z"
   },
   {
    "duration": 8,
    "start_time": "2022-01-26T18:16:08.830Z"
   },
   {
    "duration": 12,
    "start_time": "2022-01-26T18:16:08.840Z"
   },
   {
    "duration": 16,
    "start_time": "2022-01-26T18:16:08.854Z"
   },
   {
    "duration": 4,
    "start_time": "2022-01-26T18:16:08.872Z"
   },
   {
    "duration": 579,
    "start_time": "2022-01-26T18:16:08.913Z"
   },
   {
    "duration": 357,
    "start_time": "2022-01-26T18:16:09.494Z"
   },
   {
    "duration": 408,
    "start_time": "2022-01-26T18:16:09.853Z"
   },
   {
    "duration": -289,
    "start_time": "2022-01-26T18:16:10.552Z"
   },
   {
    "duration": 10,
    "start_time": "2022-01-26T18:18:33.405Z"
   },
   {
    "duration": 5230,
    "start_time": "2022-01-26T18:19:17.410Z"
   },
   {
    "duration": 360,
    "start_time": "2022-01-26T18:19:39.989Z"
   },
   {
    "duration": 365,
    "start_time": "2022-01-26T18:20:35.005Z"
   },
   {
    "duration": 357,
    "start_time": "2022-01-26T18:22:28.244Z"
   },
   {
    "duration": 3,
    "start_time": "2022-01-26T18:22:50.037Z"
   },
   {
    "duration": 6,
    "start_time": "2022-01-26T18:23:04.349Z"
   },
   {
    "duration": 9,
    "start_time": "2022-01-26T18:23:11.460Z"
   },
   {
    "duration": 15,
    "start_time": "2022-01-26T18:26:54.340Z"
   },
   {
    "duration": 16,
    "start_time": "2022-01-26T18:27:23.289Z"
   },
   {
    "duration": 235,
    "start_time": "2022-01-26T18:31:06.873Z"
   },
   {
    "duration": 44,
    "start_time": "2022-01-26T18:31:22.148Z"
   },
   {
    "duration": 16,
    "start_time": "2022-01-26T18:33:52.380Z"
   },
   {
    "duration": 23,
    "start_time": "2022-01-26T18:36:31.424Z"
   },
   {
    "duration": 94,
    "start_time": "2022-01-26T18:37:42.339Z"
   },
   {
    "duration": 64,
    "start_time": "2022-01-26T18:37:59.691Z"
   },
   {
    "duration": 205,
    "start_time": "2022-01-26T18:39:20.507Z"
   },
   {
    "duration": 217,
    "start_time": "2022-01-26T18:39:49.323Z"
   },
   {
    "duration": 62,
    "start_time": "2022-01-26T18:40:01.867Z"
   },
   {
    "duration": 37,
    "start_time": "2022-01-26T18:40:07.091Z"
   },
   {
    "duration": 3943,
    "start_time": "2022-01-26T18:41:49.496Z"
   },
   {
    "duration": 5373,
    "start_time": "2022-01-26T18:42:24.300Z"
   },
   {
    "duration": 338,
    "start_time": "2022-01-26T18:42:54.963Z"
   },
   {
    "duration": 338,
    "start_time": "2022-01-26T18:43:07.570Z"
   },
   {
    "duration": 367,
    "start_time": "2022-01-26T18:43:50.844Z"
   },
   {
    "duration": 233,
    "start_time": "2022-01-26T18:44:17.756Z"
   },
   {
    "duration": 19,
    "start_time": "2022-01-26T18:44:52.755Z"
   },
   {
    "duration": 215,
    "start_time": "2022-01-26T18:46:13.864Z"
   },
   {
    "duration": 429,
    "start_time": "2022-01-26T18:46:59.795Z"
   },
   {
    "duration": 329,
    "start_time": "2022-01-26T18:48:28.923Z"
   },
   {
    "duration": 647,
    "start_time": "2022-01-26T18:48:59.683Z"
   },
   {
    "duration": 2,
    "start_time": "2022-01-26T18:49:25.979Z"
   },
   {
    "duration": 4,
    "start_time": "2022-01-26T18:49:40.354Z"
   },
   {
    "duration": 360,
    "start_time": "2022-01-26T18:49:50.786Z"
   },
   {
    "duration": 329,
    "start_time": "2022-01-26T18:50:08.292Z"
   },
   {
    "duration": 358,
    "start_time": "2022-01-26T18:50:35.355Z"
   },
   {
    "duration": 23,
    "start_time": "2022-01-26T18:51:00.211Z"
   },
   {
    "duration": 4731,
    "start_time": "2022-01-26T18:51:40.280Z"
   },
   {
    "duration": 5,
    "start_time": "2022-01-26T18:53:46.307Z"
   },
   {
    "duration": 22,
    "start_time": "2022-01-26T18:53:57.211Z"
   },
   {
    "duration": 221,
    "start_time": "2022-01-26T18:54:09.739Z"
   },
   {
    "duration": 7,
    "start_time": "2022-01-26T18:54:17.387Z"
   },
   {
    "duration": 946,
    "start_time": "2022-01-26T18:55:01.044Z"
   },
   {
    "duration": 52,
    "start_time": "2022-01-26T18:55:01.992Z"
   },
   {
    "duration": 11,
    "start_time": "2022-01-26T18:55:02.046Z"
   },
   {
    "duration": 21,
    "start_time": "2022-01-26T18:55:02.059Z"
   },
   {
    "duration": 123,
    "start_time": "2022-01-26T18:55:02.082Z"
   },
   {
    "duration": 80,
    "start_time": "2022-01-26T18:55:02.207Z"
   },
   {
    "duration": 5,
    "start_time": "2022-01-26T18:55:02.289Z"
   },
   {
    "duration": 12,
    "start_time": "2022-01-26T18:55:02.295Z"
   },
   {
    "duration": 11,
    "start_time": "2022-01-26T18:55:02.309Z"
   },
   {
    "duration": 6,
    "start_time": "2022-01-26T18:55:02.322Z"
   },
   {
    "duration": 13,
    "start_time": "2022-01-26T18:55:02.330Z"
   },
   {
    "duration": 10,
    "start_time": "2022-01-26T18:55:02.345Z"
   },
   {
    "duration": 6,
    "start_time": "2022-01-26T18:55:02.356Z"
   },
   {
    "duration": 10,
    "start_time": "2022-01-26T18:55:02.364Z"
   },
   {
    "duration": 48,
    "start_time": "2022-01-26T18:55:02.376Z"
   },
   {
    "duration": 3,
    "start_time": "2022-01-26T18:55:02.426Z"
   },
   {
    "duration": 613,
    "start_time": "2022-01-26T18:55:02.431Z"
   },
   {
    "duration": 360,
    "start_time": "2022-01-26T18:55:03.046Z"
   },
   {
    "duration": 434,
    "start_time": "2022-01-26T18:55:03.408Z"
   },
   {
    "duration": -318,
    "start_time": "2022-01-26T18:55:04.162Z"
   },
   {
    "duration": 8,
    "start_time": "2022-01-26T18:55:10.553Z"
   },
   {
    "duration": 19,
    "start_time": "2022-01-26T18:55:45.818Z"
   },
   {
    "duration": 8,
    "start_time": "2022-01-26T18:55:49.681Z"
   },
   {
    "duration": 65,
    "start_time": "2022-01-26T18:56:22.617Z"
   },
   {
    "duration": 478,
    "start_time": "2022-01-26T18:57:15.234Z"
   },
   {
    "duration": 19,
    "start_time": "2022-01-26T18:59:29.427Z"
   },
   {
    "duration": 231,
    "start_time": "2022-01-26T18:59:43.674Z"
   },
   {
    "duration": 27,
    "start_time": "2022-01-26T19:00:26.722Z"
   },
   {
    "duration": 26,
    "start_time": "2022-01-26T19:01:13.815Z"
   },
   {
    "duration": 949,
    "start_time": "2022-01-26T19:01:26.147Z"
   },
   {
    "duration": 55,
    "start_time": "2022-01-26T19:01:27.098Z"
   },
   {
    "duration": 14,
    "start_time": "2022-01-26T19:01:27.155Z"
   },
   {
    "duration": 21,
    "start_time": "2022-01-26T19:01:27.171Z"
   },
   {
    "duration": 111,
    "start_time": "2022-01-26T19:01:27.194Z"
   },
   {
    "duration": 44,
    "start_time": "2022-01-26T19:01:27.307Z"
   },
   {
    "duration": 6,
    "start_time": "2022-01-26T19:01:27.353Z"
   },
   {
    "duration": 10,
    "start_time": "2022-01-26T19:01:27.360Z"
   },
   {
    "duration": 10,
    "start_time": "2022-01-26T19:01:27.373Z"
   },
   {
    "duration": 5,
    "start_time": "2022-01-26T19:01:27.385Z"
   },
   {
    "duration": 13,
    "start_time": "2022-01-26T19:01:27.392Z"
   },
   {
    "duration": 14,
    "start_time": "2022-01-26T19:01:27.407Z"
   },
   {
    "duration": 6,
    "start_time": "2022-01-26T19:01:27.423Z"
   },
   {
    "duration": 12,
    "start_time": "2022-01-26T19:01:27.431Z"
   },
   {
    "duration": 15,
    "start_time": "2022-01-26T19:01:27.444Z"
   },
   {
    "duration": 4,
    "start_time": "2022-01-26T19:01:27.460Z"
   },
   {
    "duration": 621,
    "start_time": "2022-01-26T19:01:27.466Z"
   },
   {
    "duration": 365,
    "start_time": "2022-01-26T19:01:28.088Z"
   },
   {
    "duration": 29,
    "start_time": "2022-01-26T19:01:28.454Z"
   },
   {
    "duration": 278,
    "start_time": "2022-01-26T19:01:28.485Z"
   },
   {
    "duration": 28,
    "start_time": "2022-01-26T19:01:57.273Z"
   },
   {
    "duration": 233,
    "start_time": "2022-01-26T19:02:01.697Z"
   },
   {
    "duration": 28,
    "start_time": "2022-01-26T19:02:05.369Z"
   },
   {
    "duration": 26,
    "start_time": "2022-01-26T19:02:23.061Z"
   },
   {
    "duration": 248,
    "start_time": "2022-01-26T19:02:29.016Z"
   },
   {
    "duration": 524,
    "start_time": "2022-01-26T19:03:02.273Z"
   },
   {
    "duration": 244,
    "start_time": "2022-01-26T19:03:16.144Z"
   },
   {
    "duration": 38,
    "start_time": "2022-01-26T19:04:38.934Z"
   },
   {
    "duration": 202,
    "start_time": "2022-01-26T19:04:55.761Z"
   },
   {
    "duration": 409,
    "start_time": "2022-01-26T19:05:08.961Z"
   },
   {
    "duration": 88,
    "start_time": "2022-01-26T19:06:03.115Z"
   },
   {
    "duration": 243,
    "start_time": "2022-01-26T19:06:06.897Z"
   },
   {
    "duration": 6,
    "start_time": "2022-01-26T19:08:37.320Z"
   },
   {
    "duration": 6,
    "start_time": "2022-01-26T19:09:05.929Z"
   },
   {
    "duration": 67,
    "start_time": "2022-01-26T19:10:36.961Z"
   },
   {
    "duration": 62,
    "start_time": "2022-01-26T19:10:45.809Z"
   },
   {
    "duration": 72,
    "start_time": "2022-01-26T19:11:31.929Z"
   },
   {
    "duration": 22,
    "start_time": "2022-01-26T19:11:41.417Z"
   },
   {
    "duration": 19,
    "start_time": "2022-01-26T19:15:46.479Z"
   },
   {
    "duration": 17,
    "start_time": "2022-01-26T19:16:44.346Z"
   },
   {
    "duration": 19,
    "start_time": "2022-01-26T19:17:10.634Z"
   },
   {
    "duration": 18,
    "start_time": "2022-01-26T19:17:35.018Z"
   },
   {
    "duration": 1061,
    "start_time": "2022-01-27T05:37:23.805Z"
   },
   {
    "duration": 57,
    "start_time": "2022-01-27T05:37:24.867Z"
   },
   {
    "duration": 12,
    "start_time": "2022-01-27T05:37:24.926Z"
   },
   {
    "duration": 18,
    "start_time": "2022-01-27T05:37:24.939Z"
   },
   {
    "duration": 150,
    "start_time": "2022-01-27T05:37:24.959Z"
   },
   {
    "duration": 94,
    "start_time": "2022-01-27T05:37:25.111Z"
   },
   {
    "duration": 6,
    "start_time": "2022-01-27T05:37:25.207Z"
   },
   {
    "duration": 11,
    "start_time": "2022-01-27T05:37:25.216Z"
   },
   {
    "duration": 13,
    "start_time": "2022-01-27T05:37:25.229Z"
   },
   {
    "duration": 8,
    "start_time": "2022-01-27T05:37:25.243Z"
   },
   {
    "duration": 26,
    "start_time": "2022-01-27T05:37:25.253Z"
   },
   {
    "duration": 14,
    "start_time": "2022-01-27T05:37:25.281Z"
   },
   {
    "duration": 8,
    "start_time": "2022-01-27T05:37:25.296Z"
   },
   {
    "duration": 14,
    "start_time": "2022-01-27T05:37:25.306Z"
   },
   {
    "duration": 15,
    "start_time": "2022-01-27T05:37:25.322Z"
   },
   {
    "duration": 6,
    "start_time": "2022-01-27T05:37:25.372Z"
   },
   {
    "duration": 631,
    "start_time": "2022-01-27T05:37:25.380Z"
   },
   {
    "duration": 367,
    "start_time": "2022-01-27T05:37:26.013Z"
   },
   {
    "duration": 27,
    "start_time": "2022-01-27T05:37:26.383Z"
   },
   {
    "duration": 270,
    "start_time": "2022-01-27T05:37:26.412Z"
   },
   {
    "duration": 22,
    "start_time": "2022-01-27T05:37:26.683Z"
   },
   {
    "duration": 358,
    "start_time": "2022-01-27T05:44:30.962Z"
   },
   {
    "duration": 231,
    "start_time": "2022-01-27T06:05:44.505Z"
   },
   {
    "duration": 241,
    "start_time": "2022-01-27T06:06:17.080Z"
   },
   {
    "duration": 245,
    "start_time": "2022-01-27T06:06:32.440Z"
   },
   {
    "duration": 7,
    "start_time": "2022-01-27T06:10:37.191Z"
   },
   {
    "duration": 4,
    "start_time": "2022-01-27T06:10:48.719Z"
   },
   {
    "duration": 5,
    "start_time": "2022-01-27T06:11:22.040Z"
   },
   {
    "duration": 309,
    "start_time": "2022-01-27T06:20:25.390Z"
   },
   {
    "duration": 394,
    "start_time": "2022-01-27T06:21:29.239Z"
   },
   {
    "duration": 289,
    "start_time": "2022-01-27T06:22:04.118Z"
   },
   {
    "duration": 1176,
    "start_time": "2022-01-27T06:57:30.697Z"
   },
   {
    "duration": 165,
    "start_time": "2022-01-27T06:57:41.937Z"
   },
   {
    "duration": 318,
    "start_time": "2022-01-27T06:57:53.681Z"
   },
   {
    "duration": 581,
    "start_time": "2022-01-27T06:58:48.609Z"
   },
   {
    "duration": 331,
    "start_time": "2022-01-27T06:58:54.865Z"
   },
   {
    "duration": 353,
    "start_time": "2022-01-27T07:16:39.270Z"
   },
   {
    "duration": 42,
    "start_time": "2022-01-27T07:16:55.511Z"
   },
   {
    "duration": 541,
    "start_time": "2022-01-27T07:17:10.032Z"
   },
   {
    "duration": 323,
    "start_time": "2022-01-27T07:19:08.901Z"
   },
   {
    "duration": 332,
    "start_time": "2022-01-27T07:19:49.247Z"
   },
   {
    "duration": 4,
    "start_time": "2022-01-27T07:21:31.951Z"
   },
   {
    "duration": 302,
    "start_time": "2022-01-27T07:23:30.353Z"
   },
   {
    "duration": 380,
    "start_time": "2022-01-27T07:23:45.055Z"
   },
   {
    "duration": 332,
    "start_time": "2022-01-27T07:25:21.127Z"
   },
   {
    "duration": 7,
    "start_time": "2022-01-27T07:32:02.702Z"
   },
   {
    "duration": 4,
    "start_time": "2022-01-27T07:33:50.318Z"
   },
   {
    "duration": 6,
    "start_time": "2022-01-27T07:35:06.467Z"
   },
   {
    "duration": 6,
    "start_time": "2022-01-27T07:42:13.245Z"
   },
   {
    "duration": 6,
    "start_time": "2022-01-27T07:42:44.685Z"
   },
   {
    "duration": 7,
    "start_time": "2022-01-27T07:42:58.301Z"
   },
   {
    "duration": 336,
    "start_time": "2022-01-27T07:43:53.932Z"
   },
   {
    "duration": 389,
    "start_time": "2022-01-27T07:44:13.568Z"
   },
   {
    "duration": 1077,
    "start_time": "2022-01-27T07:54:51.506Z"
   },
   {
    "duration": 6,
    "start_time": "2022-01-27T07:57:17.108Z"
   },
   {
    "duration": 8,
    "start_time": "2022-01-27T07:57:43.899Z"
   },
   {
    "duration": 7,
    "start_time": "2022-01-27T08:00:21.531Z"
   },
   {
    "duration": 7,
    "start_time": "2022-01-27T08:00:31.533Z"
   },
   {
    "duration": 7,
    "start_time": "2022-01-27T08:00:43.147Z"
   },
   {
    "duration": 7,
    "start_time": "2022-01-27T08:01:00.604Z"
   },
   {
    "duration": 7,
    "start_time": "2022-01-27T08:01:13.515Z"
   },
   {
    "duration": 7,
    "start_time": "2022-01-27T08:01:26.523Z"
   },
   {
    "duration": 1097,
    "start_time": "2022-01-27T08:21:24.556Z"
   },
   {
    "duration": 66,
    "start_time": "2022-01-27T08:21:25.655Z"
   },
   {
    "duration": 11,
    "start_time": "2022-01-27T08:21:25.723Z"
   },
   {
    "duration": 16,
    "start_time": "2022-01-27T08:21:25.736Z"
   },
   {
    "duration": 135,
    "start_time": "2022-01-27T08:21:25.753Z"
   },
   {
    "duration": 106,
    "start_time": "2022-01-27T08:21:25.891Z"
   },
   {
    "duration": 6,
    "start_time": "2022-01-27T08:21:26.002Z"
   },
   {
    "duration": 9,
    "start_time": "2022-01-27T08:21:26.011Z"
   },
   {
    "duration": 11,
    "start_time": "2022-01-27T08:21:26.022Z"
   },
   {
    "duration": 6,
    "start_time": "2022-01-27T08:21:26.035Z"
   },
   {
    "duration": 40,
    "start_time": "2022-01-27T08:21:26.043Z"
   },
   {
    "duration": 17,
    "start_time": "2022-01-27T08:21:26.085Z"
   },
   {
    "duration": 8,
    "start_time": "2022-01-27T08:21:26.104Z"
   },
   {
    "duration": 11,
    "start_time": "2022-01-27T08:21:26.114Z"
   },
   {
    "duration": 14,
    "start_time": "2022-01-27T08:21:26.127Z"
   },
   {
    "duration": 34,
    "start_time": "2022-01-27T08:21:26.142Z"
   },
   {
    "duration": 631,
    "start_time": "2022-01-27T08:21:26.178Z"
   },
   {
    "duration": 369,
    "start_time": "2022-01-27T08:21:26.810Z"
   },
   {
    "duration": 28,
    "start_time": "2022-01-27T08:21:27.181Z"
   },
   {
    "duration": 365,
    "start_time": "2022-01-27T08:21:27.211Z"
   },
   {
    "duration": 25,
    "start_time": "2022-01-27T08:21:27.579Z"
   },
   {
    "duration": 829,
    "start_time": "2022-01-27T08:21:27.606Z"
   },
   {
    "duration": -145,
    "start_time": "2022-01-27T08:21:28.582Z"
   },
   {
    "duration": -146,
    "start_time": "2022-01-27T08:21:28.584Z"
   },
   {
    "duration": 358,
    "start_time": "2022-01-27T08:21:46.354Z"
   },
   {
    "duration": 7,
    "start_time": "2022-01-27T08:21:50.322Z"
   },
   {
    "duration": 7,
    "start_time": "2022-01-27T08:21:51.521Z"
   },
   {
    "duration": 106,
    "start_time": "2022-01-27T08:42:55.654Z"
   },
   {
    "duration": 29,
    "start_time": "2022-01-27T09:01:16.768Z"
   },
   {
    "duration": 29,
    "start_time": "2022-01-27T09:02:27.462Z"
   },
   {
    "duration": 29,
    "start_time": "2022-01-27T09:02:42.974Z"
   },
   {
    "duration": 28,
    "start_time": "2022-01-27T09:02:54.894Z"
   },
   {
    "duration": 982,
    "start_time": "2022-01-27T09:03:08.196Z"
   },
   {
    "duration": 54,
    "start_time": "2022-01-27T09:03:09.180Z"
   },
   {
    "duration": 11,
    "start_time": "2022-01-27T09:03:09.236Z"
   },
   {
    "duration": 23,
    "start_time": "2022-01-27T09:03:09.249Z"
   },
   {
    "duration": 126,
    "start_time": "2022-01-27T09:03:09.274Z"
   },
   {
    "duration": 242,
    "start_time": "2022-01-27T09:03:09.401Z"
   },
   {
    "duration": 5,
    "start_time": "2022-01-27T09:03:09.645Z"
   },
   {
    "duration": 10,
    "start_time": "2022-01-27T09:03:09.652Z"
   },
   {
    "duration": 11,
    "start_time": "2022-01-27T09:03:09.663Z"
   },
   {
    "duration": 5,
    "start_time": "2022-01-27T09:03:09.676Z"
   },
   {
    "duration": 12,
    "start_time": "2022-01-27T09:03:09.683Z"
   },
   {
    "duration": 10,
    "start_time": "2022-01-27T09:03:09.697Z"
   },
   {
    "duration": 6,
    "start_time": "2022-01-27T09:03:09.708Z"
   },
   {
    "duration": 11,
    "start_time": "2022-01-27T09:03:09.715Z"
   },
   {
    "duration": 15,
    "start_time": "2022-01-27T09:03:09.727Z"
   },
   {
    "duration": 29,
    "start_time": "2022-01-27T09:03:09.744Z"
   },
   {
    "duration": 509,
    "start_time": "2022-01-27T09:03:09.774Z"
   },
   {
    "duration": 337,
    "start_time": "2022-01-27T09:03:10.284Z"
   },
   {
    "duration": 24,
    "start_time": "2022-01-27T09:03:10.623Z"
   },
   {
    "duration": 317,
    "start_time": "2022-01-27T09:03:10.649Z"
   },
   {
    "duration": 20,
    "start_time": "2022-01-27T09:03:10.968Z"
   },
   {
    "duration": 353,
    "start_time": "2022-01-27T09:03:10.989Z"
   },
   {
    "duration": 7,
    "start_time": "2022-01-27T09:03:11.345Z"
   },
   {
    "duration": 20,
    "start_time": "2022-01-27T09:03:11.354Z"
   },
   {
    "duration": 23,
    "start_time": "2022-01-27T09:03:11.375Z"
   },
   {
    "duration": 31,
    "start_time": "2022-01-27T09:03:31.681Z"
   },
   {
    "duration": 264,
    "start_time": "2022-01-27T09:06:07.490Z"
   },
   {
    "duration": 395,
    "start_time": "2022-01-27T09:06:32.402Z"
   },
   {
    "duration": 262,
    "start_time": "2022-01-27T09:07:11.138Z"
   },
   {
    "duration": 308,
    "start_time": "2022-01-27T09:07:48.626Z"
   },
   {
    "duration": 497,
    "start_time": "2022-01-27T09:08:30.082Z"
   },
   {
    "duration": 5,
    "start_time": "2022-01-27T09:09:04.001Z"
   },
   {
    "duration": 266,
    "start_time": "2022-01-27T09:09:17.600Z"
   },
   {
    "duration": 5,
    "start_time": "2022-01-27T09:09:46.912Z"
   },
   {
    "duration": 258,
    "start_time": "2022-01-27T09:09:57.521Z"
   },
   {
    "duration": 670,
    "start_time": "2022-01-27T09:11:39.168Z"
   },
   {
    "duration": 411,
    "start_time": "2022-01-27T09:12:29.489Z"
   },
   {
    "duration": 241,
    "start_time": "2022-01-27T09:12:48.565Z"
   },
   {
    "duration": 19,
    "start_time": "2022-01-27T09:13:43.424Z"
   },
   {
    "duration": 31,
    "start_time": "2022-01-27T09:14:16.192Z"
   },
   {
    "duration": 19,
    "start_time": "2022-01-27T09:15:25.984Z"
   },
   {
    "duration": 345,
    "start_time": "2022-01-27T09:15:33.616Z"
   },
   {
    "duration": 16,
    "start_time": "2022-01-27T09:59:12.605Z"
   },
   {
    "duration": 18,
    "start_time": "2022-01-27T10:00:07.828Z"
   },
   {
    "duration": 329,
    "start_time": "2022-01-27T10:00:46.397Z"
   },
   {
    "duration": 511,
    "start_time": "2022-01-27T10:04:31.837Z"
   },
   {
    "duration": 16,
    "start_time": "2022-01-27T10:07:32.988Z"
   },
   {
    "duration": 8599,
    "start_time": "2022-01-27T10:07:57.458Z"
   },
   {
    "duration": 17,
    "start_time": "2022-01-27T10:08:34.939Z"
   },
   {
    "duration": 3024,
    "start_time": "2022-01-27T10:10:12.268Z"
   },
   {
    "duration": 3195,
    "start_time": "2022-01-27T10:10:51.356Z"
   },
   {
    "duration": 17,
    "start_time": "2022-01-27T10:15:00.994Z"
   },
   {
    "duration": 505,
    "start_time": "2022-01-27T10:19:04.722Z"
   },
   {
    "duration": 189,
    "start_time": "2022-01-27T10:19:31.147Z"
   },
   {
    "duration": 193,
    "start_time": "2022-01-27T10:20:07.026Z"
   },
   {
    "duration": 522,
    "start_time": "2022-01-27T10:20:48.733Z"
   },
   {
    "duration": 541,
    "start_time": "2022-01-27T10:25:41.330Z"
   },
   {
    "duration": 120,
    "start_time": "2022-01-27T10:28:12.874Z"
   },
   {
    "duration": 363,
    "start_time": "2022-01-27T10:28:19.680Z"
   },
   {
    "duration": 3186,
    "start_time": "2022-01-27T10:28:36.890Z"
   },
   {
    "duration": 5,
    "start_time": "2022-01-27T10:28:55.816Z"
   },
   {
    "duration": 526,
    "start_time": "2022-01-27T10:29:15.151Z"
   },
   {
    "duration": 748,
    "start_time": "2022-01-27T10:30:50.351Z"
   },
   {
    "duration": 450,
    "start_time": "2022-01-27T10:31:33.279Z"
   },
   {
    "duration": 6,
    "start_time": "2022-01-27T10:32:29.921Z"
   },
   {
    "duration": 527,
    "start_time": "2022-01-27T10:33:00.337Z"
   },
   {
    "duration": 506,
    "start_time": "2022-01-27T10:33:21.089Z"
   },
   {
    "duration": 580,
    "start_time": "2022-01-27T10:45:24.065Z"
   },
   {
    "duration": 114,
    "start_time": "2022-01-27T10:45:32.377Z"
   },
   {
    "duration": 101,
    "start_time": "2022-01-27T10:46:05.482Z"
   },
   {
    "duration": 5,
    "start_time": "2022-01-27T10:46:15.571Z"
   },
   {
    "duration": 21,
    "start_time": "2022-01-27T10:46:34.873Z"
   },
   {
    "duration": 8,
    "start_time": "2022-01-27T10:49:27.332Z"
   },
   {
    "duration": 17,
    "start_time": "2022-01-27T10:50:04.183Z"
   },
   {
    "duration": 21,
    "start_time": "2022-01-27T10:55:30.936Z"
   },
   {
    "duration": 535,
    "start_time": "2022-01-27T10:57:52.541Z"
   },
   {
    "duration": 356,
    "start_time": "2022-01-27T10:59:48.359Z"
   },
   {
    "duration": 308,
    "start_time": "2022-01-27T11:00:12.423Z"
   },
   {
    "duration": 297,
    "start_time": "2022-01-27T11:01:02.215Z"
   },
   {
    "duration": 323,
    "start_time": "2022-01-27T11:02:01.927Z"
   },
   {
    "duration": 383,
    "start_time": "2022-01-27T11:02:50.765Z"
   },
   {
    "duration": 446,
    "start_time": "2022-01-27T11:03:29.543Z"
   },
   {
    "duration": 531,
    "start_time": "2022-01-27T11:03:46.935Z"
   },
   {
    "duration": 460,
    "start_time": "2022-01-27T11:04:00.582Z"
   },
   {
    "duration": 570,
    "start_time": "2022-01-27T11:07:53.308Z"
   },
   {
    "duration": 427,
    "start_time": "2022-01-27T11:08:46.716Z"
   },
   {
    "duration": 609,
    "start_time": "2022-01-27T11:11:57.327Z"
   },
   {
    "duration": 452,
    "start_time": "2022-01-27T11:12:04.059Z"
   },
   {
    "duration": 610,
    "start_time": "2022-01-27T11:12:22.874Z"
   },
   {
    "duration": 448,
    "start_time": "2022-01-27T11:12:34.669Z"
   },
   {
    "duration": 445,
    "start_time": "2022-01-27T11:16:01.279Z"
   },
   {
    "duration": 474,
    "start_time": "2022-01-27T11:16:30.248Z"
   },
   {
    "duration": 459,
    "start_time": "2022-01-27T11:17:10.567Z"
   },
   {
    "duration": 654,
    "start_time": "2022-01-27T11:17:19.911Z"
   },
   {
    "duration": 458,
    "start_time": "2022-01-27T11:17:51.160Z"
   },
   {
    "duration": 544,
    "start_time": "2022-01-27T11:18:05.383Z"
   },
   {
    "duration": 457,
    "start_time": "2022-01-27T11:18:20.102Z"
   },
   {
    "duration": 636,
    "start_time": "2022-01-27T11:18:36.567Z"
   },
   {
    "duration": 468,
    "start_time": "2022-01-27T11:22:23.781Z"
   },
   {
    "duration": 507,
    "start_time": "2022-01-27T11:22:29.973Z"
   },
   {
    "duration": 534,
    "start_time": "2022-01-27T11:22:39.543Z"
   },
   {
    "duration": 498,
    "start_time": "2022-01-27T11:22:48.168Z"
   },
   {
    "duration": 1108,
    "start_time": "2022-01-27T11:26:10.991Z"
   },
   {
    "duration": 54,
    "start_time": "2022-01-27T11:26:12.101Z"
   },
   {
    "duration": 17,
    "start_time": "2022-01-27T11:26:12.157Z"
   },
   {
    "duration": 28,
    "start_time": "2022-01-27T11:26:12.177Z"
   },
   {
    "duration": 133,
    "start_time": "2022-01-27T11:26:12.207Z"
   },
   {
    "duration": 105,
    "start_time": "2022-01-27T11:26:12.342Z"
   },
   {
    "duration": 5,
    "start_time": "2022-01-27T11:26:12.448Z"
   },
   {
    "duration": 32,
    "start_time": "2022-01-27T11:26:12.455Z"
   },
   {
    "duration": 12,
    "start_time": "2022-01-27T11:26:12.489Z"
   },
   {
    "duration": 17,
    "start_time": "2022-01-27T11:26:12.503Z"
   },
   {
    "duration": 29,
    "start_time": "2022-01-27T11:26:12.522Z"
   },
   {
    "duration": 16,
    "start_time": "2022-01-27T11:26:12.552Z"
   },
   {
    "duration": 13,
    "start_time": "2022-01-27T11:26:12.570Z"
   },
   {
    "duration": 13,
    "start_time": "2022-01-27T11:26:12.585Z"
   },
   {
    "duration": 23,
    "start_time": "2022-01-27T11:26:12.600Z"
   },
   {
    "duration": 6,
    "start_time": "2022-01-27T11:26:12.625Z"
   },
   {
    "duration": 562,
    "start_time": "2022-01-27T11:26:12.632Z"
   },
   {
    "duration": 368,
    "start_time": "2022-01-27T11:26:13.196Z"
   },
   {
    "duration": 38,
    "start_time": "2022-01-27T11:26:13.565Z"
   },
   {
    "duration": 353,
    "start_time": "2022-01-27T11:26:13.605Z"
   },
   {
    "duration": 28,
    "start_time": "2022-01-27T11:26:13.959Z"
   },
   {
    "duration": 355,
    "start_time": "2022-01-27T11:26:13.989Z"
   },
   {
    "duration": 7,
    "start_time": "2022-01-27T11:26:14.346Z"
   },
   {
    "duration": 23,
    "start_time": "2022-01-27T11:26:14.355Z"
   },
   {
    "duration": 381,
    "start_time": "2022-01-27T11:26:14.380Z"
   },
   {
    "duration": 30,
    "start_time": "2022-01-27T11:26:14.763Z"
   },
   {
    "duration": 6,
    "start_time": "2022-01-27T11:26:14.795Z"
   },
   {
    "duration": 498,
    "start_time": "2022-01-27T11:26:14.802Z"
   },
   {
    "duration": 781,
    "start_time": "2022-01-27T11:26:57.140Z"
   },
   {
    "duration": 737,
    "start_time": "2022-01-27T11:27:10.611Z"
   },
   {
    "duration": 648,
    "start_time": "2022-01-27T11:27:17.059Z"
   },
   {
    "duration": 551,
    "start_time": "2022-01-27T11:27:53.044Z"
   },
   {
    "duration": 505,
    "start_time": "2022-01-27T11:28:03.833Z"
   },
   {
    "duration": 18,
    "start_time": "2022-01-27T11:29:02.596Z"
   },
   {
    "duration": 5,
    "start_time": "2022-01-27T11:30:30.650Z"
   },
   {
    "duration": 9,
    "start_time": "2022-01-27T11:32:30.762Z"
   },
   {
    "duration": 251,
    "start_time": "2022-01-27T11:37:13.621Z"
   },
   {
    "duration": 248,
    "start_time": "2022-01-27T11:37:28.994Z"
   },
   {
    "duration": 343,
    "start_time": "2022-01-27T11:41:11.437Z"
   },
   {
    "duration": 18,
    "start_time": "2022-01-27T11:41:51.126Z"
   },
   {
    "duration": 366,
    "start_time": "2022-01-27T11:42:25.944Z"
   },
   {
    "duration": 326,
    "start_time": "2022-01-27T11:42:38.230Z"
   },
   {
    "duration": 339,
    "start_time": "2022-01-27T11:42:47.095Z"
   },
   {
    "duration": 458,
    "start_time": "2022-01-27T11:43:37.974Z"
   },
   {
    "duration": 8003,
    "start_time": "2022-01-27T11:51:19.242Z"
   },
   {
    "duration": 8,
    "start_time": "2022-01-27T11:51:50.362Z"
   },
   {
    "duration": 436,
    "start_time": "2022-01-27T11:52:47.347Z"
   },
   {
    "duration": 9114,
    "start_time": "2022-01-27T11:54:14.442Z"
   },
   {
    "duration": 395,
    "start_time": "2022-01-27T11:54:28.498Z"
   },
   {
    "duration": 342,
    "start_time": "2022-01-27T11:54:34.643Z"
   },
   {
    "duration": 332,
    "start_time": "2022-01-27T11:54:59.043Z"
   },
   {
    "duration": 331,
    "start_time": "2022-01-27T11:58:32.386Z"
   },
   {
    "duration": 212,
    "start_time": "2022-01-27T11:58:43.842Z"
   },
   {
    "duration": 199,
    "start_time": "2022-01-27T11:59:06.451Z"
   },
   {
    "duration": 207,
    "start_time": "2022-01-27T11:59:41.349Z"
   },
   {
    "duration": 218,
    "start_time": "2022-01-27T12:04:31.011Z"
   },
   {
    "duration": 208,
    "start_time": "2022-01-27T12:04:40.098Z"
   },
   {
    "duration": 213,
    "start_time": "2022-01-27T12:04:47.185Z"
   },
   {
    "duration": 326,
    "start_time": "2022-01-27T12:08:46.152Z"
   },
   {
    "duration": 257,
    "start_time": "2022-01-27T12:09:53.779Z"
   },
   {
    "duration": 268,
    "start_time": "2022-01-27T12:10:40.657Z"
   },
   {
    "duration": 209,
    "start_time": "2022-01-27T12:17:43.679Z"
   },
   {
    "duration": 4889,
    "start_time": "2022-01-27T12:18:35.226Z"
   },
   {
    "duration": 218,
    "start_time": "2022-01-27T12:19:05.721Z"
   },
   {
    "duration": 4282,
    "start_time": "2022-01-27T12:19:21.487Z"
   },
   {
    "duration": 5,
    "start_time": "2022-01-27T12:19:41.184Z"
   },
   {
    "duration": 209,
    "start_time": "2022-01-27T12:19:59.983Z"
   },
   {
    "duration": 226,
    "start_time": "2022-01-27T12:20:22.080Z"
   },
   {
    "duration": 215,
    "start_time": "2022-01-27T12:20:58.880Z"
   },
   {
    "duration": 212,
    "start_time": "2022-01-27T12:21:35.535Z"
   },
   {
    "duration": 279,
    "start_time": "2022-01-27T12:21:47.151Z"
   },
   {
    "duration": 209,
    "start_time": "2022-01-27T12:21:57.344Z"
   },
   {
    "duration": 210,
    "start_time": "2022-01-27T12:22:04.465Z"
   },
   {
    "duration": 5,
    "start_time": "2022-01-27T12:22:22.447Z"
   },
   {
    "duration": 211,
    "start_time": "2022-01-27T12:23:15.120Z"
   },
   {
    "duration": 215,
    "start_time": "2022-01-27T12:23:18.016Z"
   },
   {
    "duration": 997,
    "start_time": "2022-01-27T17:58:48.031Z"
   },
   {
    "duration": 52,
    "start_time": "2022-01-27T17:58:49.030Z"
   },
   {
    "duration": 11,
    "start_time": "2022-01-27T17:58:49.084Z"
   },
   {
    "duration": 16,
    "start_time": "2022-01-27T17:58:49.097Z"
   },
   {
    "duration": 119,
    "start_time": "2022-01-27T17:58:49.115Z"
   },
   {
    "duration": 80,
    "start_time": "2022-01-27T17:58:49.236Z"
   },
   {
    "duration": 4,
    "start_time": "2022-01-27T17:58:49.318Z"
   },
   {
    "duration": 8,
    "start_time": "2022-01-27T17:58:49.325Z"
   },
   {
    "duration": 10,
    "start_time": "2022-01-27T17:58:49.335Z"
   },
   {
    "duration": 5,
    "start_time": "2022-01-27T17:58:49.346Z"
   },
   {
    "duration": 13,
    "start_time": "2022-01-27T17:58:49.353Z"
   },
   {
    "duration": 10,
    "start_time": "2022-01-27T17:58:49.367Z"
   },
   {
    "duration": 5,
    "start_time": "2022-01-27T17:58:49.378Z"
   },
   {
    "duration": 10,
    "start_time": "2022-01-27T17:58:49.384Z"
   },
   {
    "duration": 11,
    "start_time": "2022-01-27T17:58:49.395Z"
   },
   {
    "duration": 3,
    "start_time": "2022-01-27T17:58:49.408Z"
   },
   {
    "duration": 503,
    "start_time": "2022-01-27T17:58:49.412Z"
   },
   {
    "duration": 320,
    "start_time": "2022-01-27T17:58:49.916Z"
   },
   {
    "duration": 25,
    "start_time": "2022-01-27T17:58:50.237Z"
   },
   {
    "duration": 312,
    "start_time": "2022-01-27T17:58:50.272Z"
   },
   {
    "duration": 18,
    "start_time": "2022-01-27T17:58:50.585Z"
   },
   {
    "duration": 331,
    "start_time": "2022-01-27T17:58:50.604Z"
   },
   {
    "duration": 7,
    "start_time": "2022-01-27T17:58:50.937Z"
   },
   {
    "duration": 6,
    "start_time": "2022-01-27T17:58:50.945Z"
   },
   {
    "duration": 346,
    "start_time": "2022-01-27T17:58:50.952Z"
   },
   {
    "duration": 15,
    "start_time": "2022-01-27T17:58:51.300Z"
   },
   {
    "duration": 6,
    "start_time": "2022-01-27T17:58:51.316Z"
   },
   {
    "duration": 515,
    "start_time": "2022-01-27T17:58:51.323Z"
   },
   {
    "duration": 8,
    "start_time": "2022-01-27T17:58:51.840Z"
   },
   {
    "duration": 311,
    "start_time": "2022-01-27T17:58:51.849Z"
   },
   {
    "duration": 212,
    "start_time": "2022-01-27T17:58:52.162Z"
   },
   {
    "duration": 211,
    "start_time": "2022-01-27T17:58:52.375Z"
   },
   {
    "duration": 209,
    "start_time": "2022-01-27T17:58:52.588Z"
   },
   {
    "duration": 256,
    "start_time": "2022-01-27T17:58:52.799Z"
   },
   {
    "duration": 253,
    "start_time": "2022-01-27T17:58:53.056Z"
   },
   {
    "duration": 252,
    "start_time": "2022-01-27T17:58:53.311Z"
   },
   {
    "duration": 209,
    "start_time": "2022-01-27T17:58:53.564Z"
   },
   {
    "duration": 207,
    "start_time": "2022-01-27T17:58:53.775Z"
   },
   {
    "duration": 214,
    "start_time": "2022-01-27T17:58:53.984Z"
   },
   {
    "duration": 8,
    "start_time": "2022-01-27T18:14:39.875Z"
   },
   {
    "duration": 22,
    "start_time": "2022-01-27T18:14:50.350Z"
   },
   {
    "duration": 23,
    "start_time": "2022-01-27T18:16:45.278Z"
   },
   {
    "duration": 9,
    "start_time": "2022-01-27T18:17:03.999Z"
   },
   {
    "duration": 10,
    "start_time": "2022-01-27T18:17:35.534Z"
   },
   {
    "duration": 13,
    "start_time": "2022-01-27T18:17:59.318Z"
   },
   {
    "duration": 9,
    "start_time": "2022-01-27T18:18:09.222Z"
   },
   {
    "duration": 13,
    "start_time": "2022-01-27T18:18:49.703Z"
   },
   {
    "duration": 8,
    "start_time": "2022-01-27T18:19:18.454Z"
   },
   {
    "duration": 9,
    "start_time": "2022-01-27T18:19:29.125Z"
   },
   {
    "duration": 13,
    "start_time": "2022-01-27T18:22:14.547Z"
   },
   {
    "duration": 12,
    "start_time": "2022-01-27T18:22:25.054Z"
   },
   {
    "duration": 12,
    "start_time": "2022-01-27T18:26:07.924Z"
   },
   {
    "duration": 4,
    "start_time": "2022-01-27T18:26:49.662Z"
   },
   {
    "duration": 421,
    "start_time": "2022-01-27T18:27:53.844Z"
   },
   {
    "duration": 13,
    "start_time": "2022-01-27T18:28:13.535Z"
   },
   {
    "duration": 9,
    "start_time": "2022-01-27T18:28:35.295Z"
   },
   {
    "duration": 8,
    "start_time": "2022-01-27T18:28:53.087Z"
   },
   {
    "duration": 8,
    "start_time": "2022-01-27T18:28:59.191Z"
   },
   {
    "duration": 14,
    "start_time": "2022-01-27T18:29:28.215Z"
   },
   {
    "duration": 4,
    "start_time": "2022-01-27T18:35:49.348Z"
   },
   {
    "duration": 970,
    "start_time": "2022-01-27T18:36:10.471Z"
   },
   {
    "duration": 2316,
    "start_time": "2022-01-27T18:36:17.540Z"
   },
   {
    "duration": 4,
    "start_time": "2022-01-27T18:36:47.823Z"
   },
   {
    "duration": 6,
    "start_time": "2022-01-27T18:39:52.968Z"
   },
   {
    "duration": 21,
    "start_time": "2022-01-27T18:40:05.151Z"
   },
   {
    "duration": 22,
    "start_time": "2022-01-27T18:41:11.815Z"
   },
   {
    "duration": 37,
    "start_time": "2022-01-27T18:41:43.560Z"
   },
   {
    "duration": 851,
    "start_time": "2022-01-27T18:42:29.856Z"
   },
   {
    "duration": 661,
    "start_time": "2022-01-27T18:43:49.573Z"
   },
   {
    "duration": 28,
    "start_time": "2022-01-27T18:44:44.048Z"
   },
   {
    "duration": 599,
    "start_time": "2022-01-27T18:44:59.145Z"
   },
   {
    "duration": 393,
    "start_time": "2022-01-27T18:45:24.232Z"
   },
   {
    "duration": 490,
    "start_time": "2022-01-27T18:48:36.573Z"
   },
   {
    "duration": 547,
    "start_time": "2022-01-27T18:48:43.673Z"
   },
   {
    "duration": 198,
    "start_time": "2022-01-27T18:50:29.600Z"
   },
   {
    "duration": 192,
    "start_time": "2022-01-27T18:55:48.173Z"
   },
   {
    "duration": 39,
    "start_time": "2022-01-27T18:56:02.485Z"
   },
   {
    "duration": 281,
    "start_time": "2022-01-27T18:56:21.969Z"
   },
   {
    "duration": 10,
    "start_time": "2022-01-27T18:56:40.937Z"
   },
   {
    "duration": 524,
    "start_time": "2022-01-27T18:56:59.056Z"
   },
   {
    "duration": 532,
    "start_time": "2022-01-27T18:57:22.730Z"
   },
   {
    "duration": 321,
    "start_time": "2022-01-27T18:58:39.505Z"
   },
   {
    "duration": 321,
    "start_time": "2022-01-27T19:02:55.457Z"
   },
   {
    "duration": 1052,
    "start_time": "2022-01-27T19:04:17.969Z"
   },
   {
    "duration": 55,
    "start_time": "2022-01-27T19:04:19.023Z"
   },
   {
    "duration": 10,
    "start_time": "2022-01-27T19:04:19.080Z"
   },
   {
    "duration": 17,
    "start_time": "2022-01-27T19:04:19.092Z"
   },
   {
    "duration": 125,
    "start_time": "2022-01-27T19:04:19.110Z"
   },
   {
    "duration": 114,
    "start_time": "2022-01-27T19:04:19.236Z"
   },
   {
    "duration": 6,
    "start_time": "2022-01-27T19:04:19.351Z"
   },
   {
    "duration": 9,
    "start_time": "2022-01-27T19:04:19.360Z"
   },
   {
    "duration": 14,
    "start_time": "2022-01-27T19:04:19.372Z"
   },
   {
    "duration": 7,
    "start_time": "2022-01-27T19:04:19.387Z"
   },
   {
    "duration": 15,
    "start_time": "2022-01-27T19:04:19.395Z"
   },
   {
    "duration": 15,
    "start_time": "2022-01-27T19:04:19.411Z"
   },
   {
    "duration": 6,
    "start_time": "2022-01-27T19:04:19.428Z"
   },
   {
    "duration": 42,
    "start_time": "2022-01-27T19:04:19.436Z"
   },
   {
    "duration": 12,
    "start_time": "2022-01-27T19:04:19.480Z"
   },
   {
    "duration": 5,
    "start_time": "2022-01-27T19:04:19.494Z"
   },
   {
    "duration": 821,
    "start_time": "2022-01-27T19:04:19.501Z"
   },
   {
    "duration": 325,
    "start_time": "2022-01-27T19:04:20.323Z"
   },
   {
    "duration": 34,
    "start_time": "2022-01-27T19:04:20.649Z"
   },
   {
    "duration": 306,
    "start_time": "2022-01-27T19:04:20.684Z"
   },
   {
    "duration": 22,
    "start_time": "2022-01-27T19:04:20.993Z"
   },
   {
    "duration": 334,
    "start_time": "2022-01-27T19:04:21.017Z"
   },
   {
    "duration": 18,
    "start_time": "2022-01-27T19:04:21.354Z"
   },
   {
    "duration": 6,
    "start_time": "2022-01-27T19:04:21.374Z"
   },
   {
    "duration": 328,
    "start_time": "2022-01-27T19:04:21.381Z"
   },
   {
    "duration": 41,
    "start_time": "2022-01-27T19:04:21.711Z"
   },
   {
    "duration": 1452,
    "start_time": "2022-01-28T06:35:54.779Z"
   },
   {
    "duration": 81,
    "start_time": "2022-01-28T06:35:56.234Z"
   },
   {
    "duration": 20,
    "start_time": "2022-01-28T06:35:56.317Z"
   },
   {
    "duration": 43,
    "start_time": "2022-01-28T06:35:56.339Z"
   },
   {
    "duration": 152,
    "start_time": "2022-01-28T06:35:56.385Z"
   },
   {
    "duration": 263,
    "start_time": "2022-01-28T06:35:56.540Z"
   },
   {
    "duration": 7,
    "start_time": "2022-01-28T06:35:56.806Z"
   },
   {
    "duration": 16,
    "start_time": "2022-01-28T06:35:56.818Z"
   },
   {
    "duration": 19,
    "start_time": "2022-01-28T06:35:56.838Z"
   },
   {
    "duration": 10,
    "start_time": "2022-01-28T06:35:56.870Z"
   },
   {
    "duration": 21,
    "start_time": "2022-01-28T06:35:56.883Z"
   },
   {
    "duration": 16,
    "start_time": "2022-01-28T06:35:56.906Z"
   },
   {
    "duration": 48,
    "start_time": "2022-01-28T06:35:56.925Z"
   },
   {
    "duration": 18,
    "start_time": "2022-01-28T06:35:56.975Z"
   },
   {
    "duration": 22,
    "start_time": "2022-01-28T06:35:56.996Z"
   },
   {
    "duration": 6,
    "start_time": "2022-01-28T06:35:57.020Z"
   },
   {
    "duration": 1047,
    "start_time": "2022-01-28T06:35:57.028Z"
   },
   {
    "duration": 609,
    "start_time": "2022-01-28T06:35:58.078Z"
   },
   {
    "duration": 40,
    "start_time": "2022-01-28T06:35:58.689Z"
   },
   {
    "duration": 574,
    "start_time": "2022-01-28T06:35:58.732Z"
   },
   {
    "duration": 30,
    "start_time": "2022-01-28T06:35:59.309Z"
   },
   {
    "duration": 620,
    "start_time": "2022-01-28T06:35:59.342Z"
   },
   {
    "duration": 10,
    "start_time": "2022-01-28T06:35:59.967Z"
   },
   {
    "duration": 8,
    "start_time": "2022-01-28T06:35:59.980Z"
   },
   {
    "duration": 648,
    "start_time": "2022-01-28T06:35:59.990Z"
   },
   {
    "duration": 92,
    "start_time": "2022-01-28T06:36:00.641Z"
   },
   {
    "duration": 877,
    "start_time": "2022-01-28T06:36:00.735Z"
   },
   {
    "duration": 1062,
    "start_time": "2022-01-28T06:36:01.615Z"
   },
   {
    "duration": 8,
    "start_time": "2022-01-28T06:36:02.679Z"
   },
   {
    "duration": 792,
    "start_time": "2022-01-28T06:36:02.689Z"
   },
   {
    "duration": 11,
    "start_time": "2022-01-28T06:36:03.483Z"
   },
   {
    "duration": 476,
    "start_time": "2022-01-28T06:36:03.496Z"
   },
   {
    "duration": 395,
    "start_time": "2022-01-28T06:36:03.974Z"
   },
   {
    "duration": 485,
    "start_time": "2022-01-28T06:36:04.371Z"
   },
   {
    "duration": 394,
    "start_time": "2022-01-28T06:36:04.859Z"
   },
   {
    "duration": 463,
    "start_time": "2022-01-28T06:36:05.256Z"
   },
   {
    "duration": 473,
    "start_time": "2022-01-28T06:36:05.721Z"
   },
   {
    "duration": 456,
    "start_time": "2022-01-28T06:36:06.197Z"
   },
   {
    "duration": 466,
    "start_time": "2022-01-28T06:36:06.656Z"
   },
   {
    "duration": 387,
    "start_time": "2022-01-28T06:36:07.125Z"
   },
   {
    "duration": 398,
    "start_time": "2022-01-28T06:36:07.514Z"
   },
   {
    "duration": 23,
    "start_time": "2022-01-28T06:36:07.914Z"
   },
   {
    "duration": 46,
    "start_time": "2022-01-28T06:36:07.940Z"
   },
   {
    "duration": 872,
    "start_time": "2022-01-28T07:07:31.571Z"
   },
   {
    "duration": 754,
    "start_time": "2022-01-28T07:07:42.241Z"
   },
   {
    "duration": 71,
    "start_time": "2022-01-28T07:12:31.356Z"
   },
   {
    "duration": 764,
    "start_time": "2022-01-28T07:12:34.816Z"
   },
   {
    "duration": 56,
    "start_time": "2022-01-28T08:31:01.722Z"
   },
   {
    "duration": 50,
    "start_time": "2022-01-28T08:31:20.296Z"
   },
   {
    "duration": 49,
    "start_time": "2022-01-28T08:33:52.679Z"
   },
   {
    "duration": 744,
    "start_time": "2022-01-28T08:34:28.503Z"
   },
   {
    "duration": 641,
    "start_time": "2022-01-28T08:35:00.936Z"
   },
   {
    "duration": 800,
    "start_time": "2022-01-28T08:35:36.823Z"
   },
   {
    "duration": 811,
    "start_time": "2022-01-28T08:35:56.343Z"
   },
   {
    "duration": 180,
    "start_time": "2022-01-28T08:41:02.503Z"
   },
   {
    "duration": 449,
    "start_time": "2022-01-28T08:41:08.106Z"
   },
   {
    "duration": 369,
    "start_time": "2022-01-28T08:41:26.071Z"
   },
   {
    "duration": 147,
    "start_time": "2022-01-28T08:42:04.966Z"
   },
   {
    "duration": 54,
    "start_time": "2022-01-28T08:44:13.145Z"
   },
   {
    "duration": 9,
    "start_time": "2022-01-28T08:45:47.750Z"
   },
   {
    "duration": 37,
    "start_time": "2022-01-28T08:45:54.070Z"
   },
   {
    "duration": 742,
    "start_time": "2022-01-28T08:47:12.933Z"
   },
   {
    "duration": 690,
    "start_time": "2022-01-28T08:47:21.829Z"
   },
   {
    "duration": 455,
    "start_time": "2022-01-28T08:54:26.134Z"
   },
   {
    "duration": 559,
    "start_time": "2022-01-28T08:54:36.565Z"
   },
   {
    "duration": 620,
    "start_time": "2022-01-28T09:01:35.379Z"
   },
   {
    "duration": 873,
    "start_time": "2022-01-28T09:02:46.132Z"
   },
   {
    "duration": 454,
    "start_time": "2022-01-28T09:03:37.924Z"
   },
   {
    "duration": 37,
    "start_time": "2022-01-28T09:04:17.268Z"
   },
   {
    "duration": 749,
    "start_time": "2022-01-28T09:04:33.268Z"
   },
   {
    "duration": 797,
    "start_time": "2022-01-28T09:06:00.502Z"
   },
   {
    "duration": 786,
    "start_time": "2022-01-28T09:06:29.619Z"
   },
   {
    "duration": 845,
    "start_time": "2022-01-28T09:11:21.924Z"
   },
   {
    "duration": 1511,
    "start_time": "2022-01-28T09:11:53.830Z"
   },
   {
    "duration": 84,
    "start_time": "2022-01-28T09:11:55.344Z"
   },
   {
    "duration": 19,
    "start_time": "2022-01-28T09:11:55.431Z"
   },
   {
    "duration": 42,
    "start_time": "2022-01-28T09:11:55.452Z"
   },
   {
    "duration": 129,
    "start_time": "2022-01-28T09:11:55.497Z"
   },
   {
    "duration": 92,
    "start_time": "2022-01-28T09:11:55.629Z"
   },
   {
    "duration": 7,
    "start_time": "2022-01-28T09:11:55.723Z"
   },
   {
    "duration": 18,
    "start_time": "2022-01-28T09:11:55.734Z"
   },
   {
    "duration": 16,
    "start_time": "2022-01-28T09:11:55.755Z"
   },
   {
    "duration": 9,
    "start_time": "2022-01-28T09:11:55.773Z"
   },
   {
    "duration": 20,
    "start_time": "2022-01-28T09:11:55.784Z"
   },
   {
    "duration": 15,
    "start_time": "2022-01-28T09:11:55.806Z"
   },
   {
    "duration": 50,
    "start_time": "2022-01-28T09:11:55.823Z"
   },
   {
    "duration": 19,
    "start_time": "2022-01-28T09:11:55.875Z"
   },
   {
    "duration": 19,
    "start_time": "2022-01-28T09:11:55.897Z"
   },
   {
    "duration": 7,
    "start_time": "2022-01-28T09:11:55.918Z"
   },
   {
    "duration": 971,
    "start_time": "2022-01-28T09:11:55.927Z"
   },
   {
    "duration": 608,
    "start_time": "2022-01-28T09:11:56.900Z"
   },
   {
    "duration": 68,
    "start_time": "2022-01-28T09:11:57.511Z"
   },
   {
    "duration": 796,
    "start_time": "2022-01-28T09:11:57.582Z"
   },
   {
    "duration": 40,
    "start_time": "2022-01-28T09:11:58.381Z"
   },
   {
    "duration": 850,
    "start_time": "2022-01-28T09:11:58.424Z"
   },
   {
    "duration": 13,
    "start_time": "2022-01-28T09:11:59.281Z"
   },
   {
    "duration": 13,
    "start_time": "2022-01-28T09:11:59.297Z"
   },
   {
    "duration": 957,
    "start_time": "2022-01-28T09:11:59.313Z"
   },
   {
    "duration": 49,
    "start_time": "2022-01-28T09:12:00.273Z"
   },
   {
    "duration": 1181,
    "start_time": "2022-01-28T09:12:00.325Z"
   },
   {
    "duration": 9,
    "start_time": "2022-01-28T09:12:01.510Z"
   },
   {
    "duration": 806,
    "start_time": "2022-01-28T09:12:01.522Z"
   },
   {
    "duration": 12,
    "start_time": "2022-01-28T09:12:02.331Z"
   },
   {
    "duration": 457,
    "start_time": "2022-01-28T09:12:02.370Z"
   },
   {
    "duration": 380,
    "start_time": "2022-01-28T09:12:02.829Z"
   },
   {
    "duration": 379,
    "start_time": "2022-01-28T09:12:03.211Z"
   },
   {
    "duration": 489,
    "start_time": "2022-01-28T09:12:03.593Z"
   },
   {
    "duration": 451,
    "start_time": "2022-01-28T09:12:04.085Z"
   },
   {
    "duration": 465,
    "start_time": "2022-01-28T09:12:04.539Z"
   },
   {
    "duration": 553,
    "start_time": "2022-01-28T09:12:05.007Z"
   },
   {
    "duration": 378,
    "start_time": "2022-01-28T09:12:05.563Z"
   },
   {
    "duration": 388,
    "start_time": "2022-01-28T09:12:05.945Z"
   },
   {
    "duration": 401,
    "start_time": "2022-01-28T09:12:06.336Z"
   },
   {
    "duration": 35,
    "start_time": "2022-01-28T09:12:06.741Z"
   },
   {
    "duration": 20,
    "start_time": "2022-01-28T09:12:06.778Z"
   },
   {
    "duration": 792,
    "start_time": "2022-01-28T09:52:05.326Z"
   },
   {
    "duration": 821,
    "start_time": "2022-01-28T09:52:23.580Z"
   },
   {
    "duration": 1509,
    "start_time": "2022-01-28T12:10:26.831Z"
   },
   {
    "duration": 76,
    "start_time": "2022-01-28T12:10:28.344Z"
   },
   {
    "duration": 25,
    "start_time": "2022-01-28T12:10:28.427Z"
   },
   {
    "duration": 27,
    "start_time": "2022-01-28T12:10:28.470Z"
   },
   {
    "duration": 148,
    "start_time": "2022-01-28T12:10:28.499Z"
   },
   {
    "duration": 93,
    "start_time": "2022-01-28T12:10:28.650Z"
   },
   {
    "duration": 10,
    "start_time": "2022-01-28T12:10:28.746Z"
   },
   {
    "duration": 16,
    "start_time": "2022-01-28T12:10:28.762Z"
   },
   {
    "duration": 19,
    "start_time": "2022-01-28T12:10:28.781Z"
   },
   {
    "duration": 12,
    "start_time": "2022-01-28T12:10:28.802Z"
   },
   {
    "duration": 54,
    "start_time": "2022-01-28T12:10:28.817Z"
   },
   {
    "duration": 17,
    "start_time": "2022-01-28T12:10:28.874Z"
   },
   {
    "duration": 12,
    "start_time": "2022-01-28T12:10:28.894Z"
   },
   {
    "duration": 29,
    "start_time": "2022-01-28T12:10:28.909Z"
   },
   {
    "duration": 21,
    "start_time": "2022-01-28T12:10:28.969Z"
   },
   {
    "duration": 6,
    "start_time": "2022-01-28T12:10:28.992Z"
   },
   {
    "duration": 972,
    "start_time": "2022-01-28T12:10:29.001Z"
   },
   {
    "duration": 602,
    "start_time": "2022-01-28T12:10:29.975Z"
   },
   {
    "duration": 41,
    "start_time": "2022-01-28T12:10:30.580Z"
   },
   {
    "duration": 638,
    "start_time": "2022-01-28T12:10:30.623Z"
   },
   {
    "duration": 30,
    "start_time": "2022-01-28T12:10:31.268Z"
   },
   {
    "duration": 612,
    "start_time": "2022-01-28T12:10:31.301Z"
   },
   {
    "duration": 13,
    "start_time": "2022-01-28T12:10:31.916Z"
   },
   {
    "duration": 39,
    "start_time": "2022-01-28T12:10:31.932Z"
   },
   {
    "duration": 679,
    "start_time": "2022-01-28T12:10:31.973Z"
   },
   {
    "duration": 44,
    "start_time": "2022-01-28T12:10:32.658Z"
   },
   {
    "duration": 814,
    "start_time": "2022-01-28T12:10:32.705Z"
   },
   {
    "duration": 7,
    "start_time": "2022-01-28T12:10:33.522Z"
   },
   {
    "duration": 811,
    "start_time": "2022-01-28T12:10:33.531Z"
   },
   {
    "duration": 29,
    "start_time": "2022-01-28T12:10:34.345Z"
   },
   {
    "duration": 572,
    "start_time": "2022-01-28T12:10:34.376Z"
   },
   {
    "duration": 398,
    "start_time": "2022-01-28T12:10:34.951Z"
   },
   {
    "duration": 380,
    "start_time": "2022-01-28T12:10:35.351Z"
   },
   {
    "duration": 463,
    "start_time": "2022-01-28T12:10:35.734Z"
   },
   {
    "duration": 474,
    "start_time": "2022-01-28T12:10:36.200Z"
   },
   {
    "duration": 473,
    "start_time": "2022-01-28T12:10:36.677Z"
   },
   {
    "duration": 652,
    "start_time": "2022-01-28T12:10:37.152Z"
   },
   {
    "duration": 399,
    "start_time": "2022-01-28T12:10:37.806Z"
   },
   {
    "duration": 394,
    "start_time": "2022-01-28T12:10:38.207Z"
   },
   {
    "duration": 403,
    "start_time": "2022-01-28T12:10:38.604Z"
   },
   {
    "duration": 23,
    "start_time": "2022-01-28T12:10:39.009Z"
   },
   {
    "duration": 52,
    "start_time": "2022-01-28T12:10:39.034Z"
   }
  ],
  "kernelspec": {
   "display_name": "Python 3 (ipykernel)",
   "language": "python",
   "name": "python3"
  },
  "language_info": {
   "codemirror_mode": {
    "name": "ipython",
    "version": 3
   },
   "file_extension": ".py",
   "mimetype": "text/x-python",
   "name": "python",
   "nbconvert_exporter": "python",
   "pygments_lexer": "ipython3",
   "version": "3.9.5"
  },
  "toc": {
   "base_numbering": 1,
   "nav_menu": {
    "height": "386px",
    "width": "214px"
   },
   "number_sections": true,
   "sideBar": true,
   "skip_h1_title": true,
   "title_cell": "Содержание",
   "title_sidebar": "Содержание",
   "toc_cell": true,
   "toc_position": {
    "height": "calc(100% - 180px)",
    "left": "10px",
    "top": "150px",
    "width": "207.391px"
   },
   "toc_section_display": true,
   "toc_window_display": true
  }
 },
 "nbformat": 4,
 "nbformat_minor": 2
}
