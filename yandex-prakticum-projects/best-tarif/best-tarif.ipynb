{
 "cells": [
  {
   "cell_type": "markdown",
   "metadata": {},
   "source": [
    "<div class=\"alert alert-success\">\n",
    "<font size=\"5\"><b>Комментарий ревьюера 3</b></font>\n",
    "\n",
    "Отлично, все помарки исправлены, и теперь работа выполнена хорошо. Ты здорово поработал, молодец. Поздравляю со сданным проектом. Надеюсь, он был интересен и познавателен. Продолжай в том же духе! Успехов в дальнейшем пути :)\n",
    "\n",
    "</div>"
   ]
  },
  {
   "cell_type": "markdown",
   "metadata": {},
   "source": [
    "<div class=\"alert alert-info\">\n",
    "<font size=\"5\"><b>Комментарий ревьюера 2</b></font>\n",
    "\n",
    "Привет еще раз. Спасибо, что доделал работу. Оформление комментариев по работе сохраняется. Только обозначим, что это вторая итерация. \n",
    "\n",
    "</div>"
   ]
  },
  {
   "cell_type": "markdown",
   "metadata": {},
   "source": [
    "<div class=\"alert alert-info\">\n",
    "<font size=\"5\"><b>Комментарий ревьюера</b></font>\n",
    "\n",
    "Привет, Данил! Спасибо, что прислал задание:) Извини за задержку при проверке. Меня зовут Слепцов Артем и я буду проверять твой проект) Ты проделал большую работу над проектом. Он выполнен уже на достойном уровне. Однако есть моменты, которые еще можно улучшить. Будет здорово, если ты, надеюсь, не против, если я буду на ты, будешь отвечать на комментарии и участвовать в диалоге. Если обращение на ты неприемлемо, то прошу сообщить. \n",
    "\n",
    "Мои комментарии обозначены пометкой **Комментарий ревьюера**. Далее в файле ты сможешь найти их в похожих ячейках:\n",
    "    \n",
    "<div class=\"alert alert-success\">Успех: Если фон комментария зелёный - всё сделано правильно. Рекомендации укажу таким же цветом;</div>\n",
    "        \n",
    "<div class=\"alert alert-warning\">Совет: Оранжевый - некритичные замечания;</div>\n",
    "        \n",
    "<div class=\"alert alert-danger\">Ошибка: Красный - нужно переделать. </div>\n",
    "        \n",
    "Не удаляй эти комментарии и постарайся учесть их в ходе выполнения данного проекта. Свои же комментарии ты можешь обозначать любым заметным способом. \n",
    "\n",
    "</div>"
   ]
  },
  {
   "cell_type": "markdown",
   "metadata": {
    "toc": true
   },
   "source": [
    "<h1>Содержание<span class=\"tocSkip\"></span></h1>\n",
    "<div class=\"toc\"><ul class=\"toc-item\"><li><span><a href=\"#Открытие-файла-с-данными-и-изучение-общей-информации\" data-toc-modified-id=\"Открытие-файла-с-данными-и-изучение-общей-информации-1\"><span class=\"toc-item-num\">1&nbsp;&nbsp;</span>Открытие файла с данными и изучение общей информации</a></span></li><li><span><a href=\"#Подготовка-данных\" data-toc-modified-id=\"Подготовка-данных-2\"><span class=\"toc-item-num\">2&nbsp;&nbsp;</span>Подготовка данных</a></span><ul class=\"toc-item\"><li><span><a href=\"#Приведем-данные-к-нужным-типам\" data-toc-modified-id=\"Приведем-данные-к-нужным-типам-2.1\"><span class=\"toc-item-num\">2.1&nbsp;&nbsp;</span>Приведем данные к нужным типам</a></span></li><li><span><a href=\"#Устранение-ошибок-в-данных\" data-toc-modified-id=\"Устранение-ошибок-в-данных-2.2\"><span class=\"toc-item-num\">2.2&nbsp;&nbsp;</span>Устранение ошибок в данных</a></span></li><li><span><a href=\"#Расчет-необходимых-показателей\" data-toc-modified-id=\"Расчет-необходимых-показателей-2.3\"><span class=\"toc-item-num\">2.3&nbsp;&nbsp;</span>Расчет необходимых показателей</a></span></li></ul></li><li><span><a href=\"#Анализ-данных\" data-toc-modified-id=\"Анализ-данных-3\"><span class=\"toc-item-num\">3&nbsp;&nbsp;</span>Анализ данных</a></span><ul class=\"toc-item\"><li><span><a href=\"#Описание-поведения-клиентов\" data-toc-modified-id=\"Описание-поведения-клиентов-3.1\"><span class=\"toc-item-num\">3.1&nbsp;&nbsp;</span>Описание поведения клиентов</a></span></li></ul></li><li><span><a href=\"#Проверка-гипотез\" data-toc-modified-id=\"Проверка-гипотез-4\"><span class=\"toc-item-num\">4&nbsp;&nbsp;</span>Проверка гипотез</a></span></li><li><span><a href=\"#Общий-вывод\" data-toc-modified-id=\"Общий-вывод-5\"><span class=\"toc-item-num\">5&nbsp;&nbsp;</span>Общий вывод</a></span></li></ul></div>"
   ]
  },
  {
   "cell_type": "markdown",
   "metadata": {},
   "source": [
    "# Определение перспективного тарифа для телеком-компании"
   ]
  },
  {
   "cell_type": "markdown",
   "metadata": {},
   "source": [
    "  В телеком компании предлагается два тарифных плана \"Смарт\" и \"Ультра\". Для корректировки рекламного бюджета коммерческим департаментом, необходимо понять, какой тариф приносит больше денег.\n",
    "\n",
    "Необходимо проанализировать тарифы на небольшой выборке поведение клиентов и сделать вывод - какой тариф лучше.\n",
    "\n",
    "**Цель исследования** - проверка гипотез:\n",
    "* средняя выручка пользователей тарифов \"Ультра\" и \"Смарт\" различаются;\n",
    "* средняя выручка пользователей из Москвы отличается от выручки пользователей из других регионов.\n",
    "\n",
    "Также необходимо пояснить:\n",
    "* как формулировали нулевую и альтернативную гипотезы;\n",
    "* какой критерий использовали для проверки гипотез и почему.\n",
    "\n",
    "**Ход исследования**\n",
    "1. Открытие файлов с данными и изучение общей информации.\n",
    "2. Подготовка данных.\n",
    "3. Проанализировать данные:\n",
    "    * Определить сколько разговора, сообщений и объема трафика требуется пользователям каждого тарифа в месяц;\n",
    "    * Определить среднее количество, дисперсию и стандартное отклонение;\n",
    "    * Построить гистограммы;\n",
    "    * Описать распределения.\n",
    "4. Проверить гипотезы:\n",
    "    * средняя выручка пользователей тарифов \"Ультра\" и \"Смарт\" различаются;\n",
    "    * средняя выручка пользователей из Москвы отличается от выручки пользователей из других регионов;\n",
    "    * пояснить формулировку нулевой и альтернативной гипотез;\n",
    "    * пояснить какой критерий был использован для проверки гипотез.\n",
    "5. Написть общий вывод."
   ]
  },
  {
   "cell_type": "markdown",
   "metadata": {},
   "source": [
    "## Открытие файла с данными и изучение общей информации"
   ]
  },
  {
   "cell_type": "markdown",
   "metadata": {},
   "source": [
    "Импортируем необходимые для работы библиотеки и откроем файлы с данными."
   ]
  },
  {
   "cell_type": "code",
   "execution_count": 1,
   "metadata": {},
   "outputs": [],
   "source": [
    "import pandas as pd\n",
    "import matplotlib.pyplot as plt\n",
    "import numpy as np\n",
    "from scipy import stats as st"
   ]
  },
  {
   "cell_type": "markdown",
   "metadata": {},
   "source": [
    "Прочитаем предоставленные файлы и посмотрим данные в них."
   ]
  },
  {
   "cell_type": "code",
   "execution_count": 2,
   "metadata": {},
   "outputs": [],
   "source": [
    "calls = pd.read_csv('/datasets/calls.csv')\n",
    "internet = pd.read_csv('/datasets/internet.csv', index_col=0)\n",
    "messages = pd.read_csv('/datasets/messages.csv')\n",
    "tariffs = pd.read_csv('/datasets/tariffs.csv')\n",
    "users = pd.read_csv('/datasets/users.csv')"
   ]
  },
  {
   "cell_type": "code",
   "execution_count": 3,
   "metadata": {
    "scrolled": false
   },
   "outputs": [
    {
     "name": "stdout",
     "output_type": "stream",
     "text": [
      "<class 'pandas.core.frame.DataFrame'>\n",
      "RangeIndex: 202607 entries, 0 to 202606\n",
      "Data columns (total 4 columns):\n",
      "id           202607 non-null object\n",
      "call_date    202607 non-null object\n",
      "duration     202607 non-null float64\n",
      "user_id      202607 non-null int64\n",
      "dtypes: float64(1), int64(1), object(2)\n",
      "memory usage: 6.2+ MB\n"
     ]
    },
    {
     "data": {
      "text/html": [
       "<div>\n",
       "<style scoped>\n",
       "    .dataframe tbody tr th:only-of-type {\n",
       "        vertical-align: middle;\n",
       "    }\n",
       "\n",
       "    .dataframe tbody tr th {\n",
       "        vertical-align: top;\n",
       "    }\n",
       "\n",
       "    .dataframe thead th {\n",
       "        text-align: right;\n",
       "    }\n",
       "</style>\n",
       "<table border=\"1\" class=\"dataframe\">\n",
       "  <thead>\n",
       "    <tr style=\"text-align: right;\">\n",
       "      <th></th>\n",
       "      <th>id</th>\n",
       "      <th>call_date</th>\n",
       "      <th>duration</th>\n",
       "      <th>user_id</th>\n",
       "    </tr>\n",
       "  </thead>\n",
       "  <tbody>\n",
       "    <tr>\n",
       "      <td>0</td>\n",
       "      <td>1000_0</td>\n",
       "      <td>2018-07-25</td>\n",
       "      <td>0.00</td>\n",
       "      <td>1000</td>\n",
       "    </tr>\n",
       "    <tr>\n",
       "      <td>1</td>\n",
       "      <td>1000_1</td>\n",
       "      <td>2018-08-17</td>\n",
       "      <td>0.00</td>\n",
       "      <td>1000</td>\n",
       "    </tr>\n",
       "    <tr>\n",
       "      <td>2</td>\n",
       "      <td>1000_2</td>\n",
       "      <td>2018-06-11</td>\n",
       "      <td>2.85</td>\n",
       "      <td>1000</td>\n",
       "    </tr>\n",
       "    <tr>\n",
       "      <td>3</td>\n",
       "      <td>1000_3</td>\n",
       "      <td>2018-09-21</td>\n",
       "      <td>13.80</td>\n",
       "      <td>1000</td>\n",
       "    </tr>\n",
       "    <tr>\n",
       "      <td>4</td>\n",
       "      <td>1000_4</td>\n",
       "      <td>2018-12-15</td>\n",
       "      <td>5.18</td>\n",
       "      <td>1000</td>\n",
       "    </tr>\n",
       "  </tbody>\n",
       "</table>\n",
       "</div>"
      ],
      "text/plain": [
       "       id   call_date  duration  user_id\n",
       "0  1000_0  2018-07-25      0.00     1000\n",
       "1  1000_1  2018-08-17      0.00     1000\n",
       "2  1000_2  2018-06-11      2.85     1000\n",
       "3  1000_3  2018-09-21     13.80     1000\n",
       "4  1000_4  2018-12-15      5.18     1000"
      ]
     },
     "metadata": {},
     "output_type": "display_data"
    },
    {
     "data": {
      "text/plain": [
       "count    202607.000000\n",
       "mean          6.755887\n",
       "std           5.843365\n",
       "min           0.000000\n",
       "25%           1.300000\n",
       "50%           6.000000\n",
       "75%          10.700000\n",
       "max          38.000000\n",
       "Name: duration, dtype: float64"
      ]
     },
     "execution_count": 3,
     "metadata": {},
     "output_type": "execute_result"
    }
   ],
   "source": [
    "calls.info()\n",
    "display(calls.head())\n",
    "calls['duration'].describe()"
   ]
  },
  {
   "cell_type": "code",
   "execution_count": 4,
   "metadata": {
    "scrolled": false
   },
   "outputs": [
    {
     "name": "stdout",
     "output_type": "stream",
     "text": [
      "<class 'pandas.core.frame.DataFrame'>\n",
      "Int64Index: 149396 entries, 0 to 149395\n",
      "Data columns (total 4 columns):\n",
      "id              149396 non-null object\n",
      "mb_used         149396 non-null float64\n",
      "session_date    149396 non-null object\n",
      "user_id         149396 non-null int64\n",
      "dtypes: float64(1), int64(1), object(2)\n",
      "memory usage: 5.7+ MB\n"
     ]
    },
    {
     "data": {
      "text/html": [
       "<div>\n",
       "<style scoped>\n",
       "    .dataframe tbody tr th:only-of-type {\n",
       "        vertical-align: middle;\n",
       "    }\n",
       "\n",
       "    .dataframe tbody tr th {\n",
       "        vertical-align: top;\n",
       "    }\n",
       "\n",
       "    .dataframe thead th {\n",
       "        text-align: right;\n",
       "    }\n",
       "</style>\n",
       "<table border=\"1\" class=\"dataframe\">\n",
       "  <thead>\n",
       "    <tr style=\"text-align: right;\">\n",
       "      <th></th>\n",
       "      <th>id</th>\n",
       "      <th>mb_used</th>\n",
       "      <th>session_date</th>\n",
       "      <th>user_id</th>\n",
       "    </tr>\n",
       "  </thead>\n",
       "  <tbody>\n",
       "    <tr>\n",
       "      <td>0</td>\n",
       "      <td>1000_0</td>\n",
       "      <td>112.95</td>\n",
       "      <td>2018-11-25</td>\n",
       "      <td>1000</td>\n",
       "    </tr>\n",
       "    <tr>\n",
       "      <td>1</td>\n",
       "      <td>1000_1</td>\n",
       "      <td>1052.81</td>\n",
       "      <td>2018-09-07</td>\n",
       "      <td>1000</td>\n",
       "    </tr>\n",
       "    <tr>\n",
       "      <td>2</td>\n",
       "      <td>1000_2</td>\n",
       "      <td>1197.26</td>\n",
       "      <td>2018-06-25</td>\n",
       "      <td>1000</td>\n",
       "    </tr>\n",
       "    <tr>\n",
       "      <td>3</td>\n",
       "      <td>1000_3</td>\n",
       "      <td>550.27</td>\n",
       "      <td>2018-08-22</td>\n",
       "      <td>1000</td>\n",
       "    </tr>\n",
       "    <tr>\n",
       "      <td>4</td>\n",
       "      <td>1000_4</td>\n",
       "      <td>302.56</td>\n",
       "      <td>2018-09-24</td>\n",
       "      <td>1000</td>\n",
       "    </tr>\n",
       "  </tbody>\n",
       "</table>\n",
       "</div>"
      ],
      "text/plain": [
       "       id  mb_used session_date  user_id\n",
       "0  1000_0   112.95   2018-11-25     1000\n",
       "1  1000_1  1052.81   2018-09-07     1000\n",
       "2  1000_2  1197.26   2018-06-25     1000\n",
       "3  1000_3   550.27   2018-08-22     1000\n",
       "4  1000_4   302.56   2018-09-24     1000"
      ]
     },
     "metadata": {},
     "output_type": "display_data"
    },
    {
     "data": {
      "text/plain": [
       "count    149396.000000\n",
       "mean        370.192426\n",
       "std         278.300951\n",
       "min           0.000000\n",
       "25%         138.187500\n",
       "50%         348.015000\n",
       "75%         559.552500\n",
       "max        1724.830000\n",
       "Name: mb_used, dtype: float64"
      ]
     },
     "execution_count": 4,
     "metadata": {},
     "output_type": "execute_result"
    }
   ],
   "source": [
    "internet.info()\n",
    "display(internet.head())\n",
    "internet['mb_used'].describe()"
   ]
  },
  {
   "cell_type": "code",
   "execution_count": 5,
   "metadata": {},
   "outputs": [
    {
     "name": "stdout",
     "output_type": "stream",
     "text": [
      "<class 'pandas.core.frame.DataFrame'>\n",
      "RangeIndex: 123036 entries, 0 to 123035\n",
      "Data columns (total 3 columns):\n",
      "id              123036 non-null object\n",
      "message_date    123036 non-null object\n",
      "user_id         123036 non-null int64\n",
      "dtypes: int64(1), object(2)\n",
      "memory usage: 2.8+ MB\n"
     ]
    },
    {
     "data": {
      "text/html": [
       "<div>\n",
       "<style scoped>\n",
       "    .dataframe tbody tr th:only-of-type {\n",
       "        vertical-align: middle;\n",
       "    }\n",
       "\n",
       "    .dataframe tbody tr th {\n",
       "        vertical-align: top;\n",
       "    }\n",
       "\n",
       "    .dataframe thead th {\n",
       "        text-align: right;\n",
       "    }\n",
       "</style>\n",
       "<table border=\"1\" class=\"dataframe\">\n",
       "  <thead>\n",
       "    <tr style=\"text-align: right;\">\n",
       "      <th></th>\n",
       "      <th>id</th>\n",
       "      <th>message_date</th>\n",
       "      <th>user_id</th>\n",
       "    </tr>\n",
       "  </thead>\n",
       "  <tbody>\n",
       "    <tr>\n",
       "      <td>0</td>\n",
       "      <td>1000_0</td>\n",
       "      <td>2018-06-27</td>\n",
       "      <td>1000</td>\n",
       "    </tr>\n",
       "    <tr>\n",
       "      <td>1</td>\n",
       "      <td>1000_1</td>\n",
       "      <td>2018-10-08</td>\n",
       "      <td>1000</td>\n",
       "    </tr>\n",
       "    <tr>\n",
       "      <td>2</td>\n",
       "      <td>1000_2</td>\n",
       "      <td>2018-08-04</td>\n",
       "      <td>1000</td>\n",
       "    </tr>\n",
       "    <tr>\n",
       "      <td>3</td>\n",
       "      <td>1000_3</td>\n",
       "      <td>2018-06-16</td>\n",
       "      <td>1000</td>\n",
       "    </tr>\n",
       "    <tr>\n",
       "      <td>4</td>\n",
       "      <td>1000_4</td>\n",
       "      <td>2018-12-05</td>\n",
       "      <td>1000</td>\n",
       "    </tr>\n",
       "  </tbody>\n",
       "</table>\n",
       "</div>"
      ],
      "text/plain": [
       "       id message_date  user_id\n",
       "0  1000_0   2018-06-27     1000\n",
       "1  1000_1   2018-10-08     1000\n",
       "2  1000_2   2018-08-04     1000\n",
       "3  1000_3   2018-06-16     1000\n",
       "4  1000_4   2018-12-05     1000"
      ]
     },
     "metadata": {},
     "output_type": "display_data"
    }
   ],
   "source": [
    "messages.info()\n",
    "display(messages.head())"
   ]
  },
  {
   "cell_type": "code",
   "execution_count": 6,
   "metadata": {},
   "outputs": [
    {
     "name": "stdout",
     "output_type": "stream",
     "text": [
      "<class 'pandas.core.frame.DataFrame'>\n",
      "RangeIndex: 2 entries, 0 to 1\n",
      "Data columns (total 8 columns):\n",
      "messages_included        2 non-null int64\n",
      "mb_per_month_included    2 non-null int64\n",
      "minutes_included         2 non-null int64\n",
      "rub_monthly_fee          2 non-null int64\n",
      "rub_per_gb               2 non-null int64\n",
      "rub_per_message          2 non-null int64\n",
      "rub_per_minute           2 non-null int64\n",
      "tariff_name              2 non-null object\n",
      "dtypes: int64(7), object(1)\n",
      "memory usage: 256.0+ bytes\n"
     ]
    },
    {
     "data": {
      "text/html": [
       "<div>\n",
       "<style scoped>\n",
       "    .dataframe tbody tr th:only-of-type {\n",
       "        vertical-align: middle;\n",
       "    }\n",
       "\n",
       "    .dataframe tbody tr th {\n",
       "        vertical-align: top;\n",
       "    }\n",
       "\n",
       "    .dataframe thead th {\n",
       "        text-align: right;\n",
       "    }\n",
       "</style>\n",
       "<table border=\"1\" class=\"dataframe\">\n",
       "  <thead>\n",
       "    <tr style=\"text-align: right;\">\n",
       "      <th></th>\n",
       "      <th>messages_included</th>\n",
       "      <th>mb_per_month_included</th>\n",
       "      <th>minutes_included</th>\n",
       "      <th>rub_monthly_fee</th>\n",
       "      <th>rub_per_gb</th>\n",
       "      <th>rub_per_message</th>\n",
       "      <th>rub_per_minute</th>\n",
       "      <th>tariff_name</th>\n",
       "    </tr>\n",
       "  </thead>\n",
       "  <tbody>\n",
       "    <tr>\n",
       "      <td>0</td>\n",
       "      <td>50</td>\n",
       "      <td>15360</td>\n",
       "      <td>500</td>\n",
       "      <td>550</td>\n",
       "      <td>200</td>\n",
       "      <td>3</td>\n",
       "      <td>3</td>\n",
       "      <td>smart</td>\n",
       "    </tr>\n",
       "    <tr>\n",
       "      <td>1</td>\n",
       "      <td>1000</td>\n",
       "      <td>30720</td>\n",
       "      <td>3000</td>\n",
       "      <td>1950</td>\n",
       "      <td>150</td>\n",
       "      <td>1</td>\n",
       "      <td>1</td>\n",
       "      <td>ultra</td>\n",
       "    </tr>\n",
       "  </tbody>\n",
       "</table>\n",
       "</div>"
      ],
      "text/plain": [
       "   messages_included  mb_per_month_included  minutes_included  \\\n",
       "0                 50                  15360               500   \n",
       "1               1000                  30720              3000   \n",
       "\n",
       "   rub_monthly_fee  rub_per_gb  rub_per_message  rub_per_minute tariff_name  \n",
       "0              550         200                3               3       smart  \n",
       "1             1950         150                1               1       ultra  "
      ]
     },
     "metadata": {},
     "output_type": "display_data"
    }
   ],
   "source": [
    "tariffs.info()\n",
    "display(tariffs.head())"
   ]
  },
  {
   "cell_type": "code",
   "execution_count": 7,
   "metadata": {
    "scrolled": false
   },
   "outputs": [
    {
     "name": "stdout",
     "output_type": "stream",
     "text": [
      "<class 'pandas.core.frame.DataFrame'>\n",
      "RangeIndex: 500 entries, 0 to 499\n",
      "Data columns (total 8 columns):\n",
      "user_id       500 non-null int64\n",
      "age           500 non-null int64\n",
      "churn_date    38 non-null object\n",
      "city          500 non-null object\n",
      "first_name    500 non-null object\n",
      "last_name     500 non-null object\n",
      "reg_date      500 non-null object\n",
      "tariff        500 non-null object\n",
      "dtypes: int64(2), object(6)\n",
      "memory usage: 31.4+ KB\n"
     ]
    },
    {
     "data": {
      "text/html": [
       "<div>\n",
       "<style scoped>\n",
       "    .dataframe tbody tr th:only-of-type {\n",
       "        vertical-align: middle;\n",
       "    }\n",
       "\n",
       "    .dataframe tbody tr th {\n",
       "        vertical-align: top;\n",
       "    }\n",
       "\n",
       "    .dataframe thead th {\n",
       "        text-align: right;\n",
       "    }\n",
       "</style>\n",
       "<table border=\"1\" class=\"dataframe\">\n",
       "  <thead>\n",
       "    <tr style=\"text-align: right;\">\n",
       "      <th></th>\n",
       "      <th>user_id</th>\n",
       "      <th>age</th>\n",
       "      <th>churn_date</th>\n",
       "      <th>city</th>\n",
       "      <th>first_name</th>\n",
       "      <th>last_name</th>\n",
       "      <th>reg_date</th>\n",
       "      <th>tariff</th>\n",
       "    </tr>\n",
       "  </thead>\n",
       "  <tbody>\n",
       "    <tr>\n",
       "      <td>0</td>\n",
       "      <td>1000</td>\n",
       "      <td>52</td>\n",
       "      <td>NaN</td>\n",
       "      <td>Краснодар</td>\n",
       "      <td>Рафаил</td>\n",
       "      <td>Верещагин</td>\n",
       "      <td>2018-05-25</td>\n",
       "      <td>ultra</td>\n",
       "    </tr>\n",
       "    <tr>\n",
       "      <td>1</td>\n",
       "      <td>1001</td>\n",
       "      <td>41</td>\n",
       "      <td>NaN</td>\n",
       "      <td>Москва</td>\n",
       "      <td>Иван</td>\n",
       "      <td>Ежов</td>\n",
       "      <td>2018-11-01</td>\n",
       "      <td>smart</td>\n",
       "    </tr>\n",
       "    <tr>\n",
       "      <td>2</td>\n",
       "      <td>1002</td>\n",
       "      <td>59</td>\n",
       "      <td>NaN</td>\n",
       "      <td>Стерлитамак</td>\n",
       "      <td>Евгений</td>\n",
       "      <td>Абрамович</td>\n",
       "      <td>2018-06-17</td>\n",
       "      <td>smart</td>\n",
       "    </tr>\n",
       "    <tr>\n",
       "      <td>3</td>\n",
       "      <td>1003</td>\n",
       "      <td>23</td>\n",
       "      <td>NaN</td>\n",
       "      <td>Москва</td>\n",
       "      <td>Белла</td>\n",
       "      <td>Белякова</td>\n",
       "      <td>2018-08-17</td>\n",
       "      <td>ultra</td>\n",
       "    </tr>\n",
       "    <tr>\n",
       "      <td>4</td>\n",
       "      <td>1004</td>\n",
       "      <td>68</td>\n",
       "      <td>NaN</td>\n",
       "      <td>Новокузнецк</td>\n",
       "      <td>Татьяна</td>\n",
       "      <td>Авдеенко</td>\n",
       "      <td>2018-05-14</td>\n",
       "      <td>ultra</td>\n",
       "    </tr>\n",
       "  </tbody>\n",
       "</table>\n",
       "</div>"
      ],
      "text/plain": [
       "   user_id  age churn_date         city first_name  last_name    reg_date  \\\n",
       "0     1000   52        NaN    Краснодар     Рафаил  Верещагин  2018-05-25   \n",
       "1     1001   41        NaN       Москва       Иван       Ежов  2018-11-01   \n",
       "2     1002   59        NaN  Стерлитамак    Евгений  Абрамович  2018-06-17   \n",
       "3     1003   23        NaN       Москва      Белла   Белякова  2018-08-17   \n",
       "4     1004   68        NaN  Новокузнецк    Татьяна   Авдеенко  2018-05-14   \n",
       "\n",
       "  tariff  \n",
       "0  ultra  \n",
       "1  smart  \n",
       "2  smart  \n",
       "3  ultra  \n",
       "4  ultra  "
      ]
     },
     "metadata": {},
     "output_type": "display_data"
    }
   ],
   "source": [
    "users.info()\n",
    "display(users.head())"
   ]
  },
  {
   "cell_type": "code",
   "execution_count": 8,
   "metadata": {},
   "outputs": [
    {
     "data": {
      "text/plain": [
       "0"
      ]
     },
     "metadata": {},
     "output_type": "display_data"
    },
    {
     "data": {
      "text/plain": [
       "0"
      ]
     },
     "metadata": {},
     "output_type": "display_data"
    },
    {
     "data": {
      "text/plain": [
       "0"
      ]
     },
     "metadata": {},
     "output_type": "display_data"
    },
    {
     "data": {
      "text/plain": [
       "0"
      ]
     },
     "metadata": {},
     "output_type": "display_data"
    },
    {
     "data": {
      "text/plain": [
       "0"
      ]
     },
     "metadata": {},
     "output_type": "display_data"
    }
   ],
   "source": [
    "display(calls.duplicated().sum())\n",
    "display(internet.duplicated().sum())\n",
    "display(messages.duplicated().sum())\n",
    "display(tariffs.duplicated().sum())\n",
    "display(users.duplicated().sum())"
   ]
  },
  {
   "cell_type": "markdown",
   "metadata": {},
   "source": [
    "**Вывод**"
   ]
  },
  {
   "cell_type": "markdown",
   "metadata": {},
   "source": [
    "На первый взгляд видно, что:\n",
    "* в данных даты записаны как текст, вероятно это происходит на этапе чтения CSV таблицы.\n",
    "* необходимо данные по звонкам и трафику в интернете привести к виду, по которому идет тарификация. Нв данный момент, предположу, что данные таблицы учитывают фактическое потребление, а тарификация происходит на другой части бэкэнда.\n",
    "\n",
    "Первый тип ошибки устраним применив метод `.to_datetime()` к столбцу и преобразуем в дату. Второй - добавим соответствующие столбцы в таблицы с верным округлением для тарификации."
   ]
  },
  {
   "cell_type": "markdown",
   "metadata": {},
   "source": [
    "## Подготовка данных"
   ]
  },
  {
   "cell_type": "markdown",
   "metadata": {},
   "source": [
    "### Приведем данные к нужным типам"
   ]
  },
  {
   "cell_type": "markdown",
   "metadata": {},
   "source": [
    "Приведем данные к нужным типам по замечаниям в предыдушем выводе."
   ]
  },
  {
   "cell_type": "code",
   "execution_count": 9,
   "metadata": {},
   "outputs": [],
   "source": [
    "calls['call_date'] = pd.to_datetime(calls['call_date'], format='%Y-%m-%d')"
   ]
  },
  {
   "cell_type": "code",
   "execution_count": 10,
   "metadata": {},
   "outputs": [],
   "source": [
    "internet['session_date'] = pd.to_datetime(internet['session_date'], format='%Y-%m-%d')"
   ]
  },
  {
   "cell_type": "code",
   "execution_count": 11,
   "metadata": {},
   "outputs": [],
   "source": [
    "messages['message_date'] = pd.to_datetime(messages['message_date'], format='%Y-%m-%d')"
   ]
  },
  {
   "cell_type": "code",
   "execution_count": 12,
   "metadata": {},
   "outputs": [],
   "source": [
    "users['churn_date'] = pd.to_datetime(users['churn_date'], format='%Y-%m-%d')"
   ]
  },
  {
   "cell_type": "code",
   "execution_count": 13,
   "metadata": {},
   "outputs": [],
   "source": [
    "users['reg_date'] = pd.to_datetime(users['reg_date'], format='%Y-%m-%d')"
   ]
  },
  {
   "cell_type": "markdown",
   "metadata": {},
   "source": [
    "### Устранение ошибок в данных"
   ]
  },
  {
   "cell_type": "markdown",
   "metadata": {},
   "source": [
    "В соответсвии с тарифом округлим длительность звонка до минут в большую сторону."
   ]
  },
  {
   "cell_type": "code",
   "execution_count": 14,
   "metadata": {},
   "outputs": [
    {
     "data": {
      "text/html": [
       "<div>\n",
       "<style scoped>\n",
       "    .dataframe tbody tr th:only-of-type {\n",
       "        vertical-align: middle;\n",
       "    }\n",
       "\n",
       "    .dataframe tbody tr th {\n",
       "        vertical-align: top;\n",
       "    }\n",
       "\n",
       "    .dataframe thead th {\n",
       "        text-align: right;\n",
       "    }\n",
       "</style>\n",
       "<table border=\"1\" class=\"dataframe\">\n",
       "  <thead>\n",
       "    <tr style=\"text-align: right;\">\n",
       "      <th></th>\n",
       "      <th>id</th>\n",
       "      <th>call_date</th>\n",
       "      <th>duration</th>\n",
       "      <th>user_id</th>\n",
       "      <th>tariff_duration</th>\n",
       "    </tr>\n",
       "  </thead>\n",
       "  <tbody>\n",
       "    <tr>\n",
       "      <td>0</td>\n",
       "      <td>1000_0</td>\n",
       "      <td>2018-07-25</td>\n",
       "      <td>0.00</td>\n",
       "      <td>1000</td>\n",
       "      <td>0</td>\n",
       "    </tr>\n",
       "    <tr>\n",
       "      <td>1</td>\n",
       "      <td>1000_1</td>\n",
       "      <td>2018-08-17</td>\n",
       "      <td>0.00</td>\n",
       "      <td>1000</td>\n",
       "      <td>0</td>\n",
       "    </tr>\n",
       "    <tr>\n",
       "      <td>2</td>\n",
       "      <td>1000_2</td>\n",
       "      <td>2018-06-11</td>\n",
       "      <td>2.85</td>\n",
       "      <td>1000</td>\n",
       "      <td>3</td>\n",
       "    </tr>\n",
       "    <tr>\n",
       "      <td>3</td>\n",
       "      <td>1000_3</td>\n",
       "      <td>2018-09-21</td>\n",
       "      <td>13.80</td>\n",
       "      <td>1000</td>\n",
       "      <td>14</td>\n",
       "    </tr>\n",
       "    <tr>\n",
       "      <td>4</td>\n",
       "      <td>1000_4</td>\n",
       "      <td>2018-12-15</td>\n",
       "      <td>5.18</td>\n",
       "      <td>1000</td>\n",
       "      <td>6</td>\n",
       "    </tr>\n",
       "  </tbody>\n",
       "</table>\n",
       "</div>"
      ],
      "text/plain": [
       "       id  call_date  duration  user_id  tariff_duration\n",
       "0  1000_0 2018-07-25      0.00     1000                0\n",
       "1  1000_1 2018-08-17      0.00     1000                0\n",
       "2  1000_2 2018-06-11      2.85     1000                3\n",
       "3  1000_3 2018-09-21     13.80     1000               14\n",
       "4  1000_4 2018-12-15      5.18     1000                6"
      ]
     },
     "metadata": {},
     "output_type": "display_data"
    },
    {
     "name": "stdout",
     "output_type": "stream",
     "text": [
      "<class 'pandas.core.frame.DataFrame'>\n",
      "RangeIndex: 202607 entries, 0 to 202606\n",
      "Data columns (total 5 columns):\n",
      "id                 202607 non-null object\n",
      "call_date          202607 non-null datetime64[ns]\n",
      "duration           202607 non-null float64\n",
      "user_id            202607 non-null int64\n",
      "tariff_duration    202607 non-null int64\n",
      "dtypes: datetime64[ns](1), float64(1), int64(2), object(1)\n",
      "memory usage: 7.7+ MB\n"
     ]
    }
   ],
   "source": [
    "calls['tariff_duration'] = np.ceil(calls['duration'])\n",
    "calls['tariff_duration'] = calls['tariff_duration'].astype('int64')\n",
    "display(calls.head())\n",
    "calls.info()"
   ]
  },
  {
   "cell_type": "markdown",
   "metadata": {},
   "source": [
    "В таблицах с длительностью звонков и интернет трафиком есть нулевые значения. Изучим их отдельно. Для этого создадим таблицу с количеством пользователей за 2018 год, таблицу с количеством нулевых интернет-сессий и таблицу с количеством звонков с нулевой длительностью. После этого построим три графика в обних координатных осях: количество пользователей, нулевых интернет-сессий и звонков с нулевой длительностью."
   ]
  },
  {
   "cell_type": "code",
   "execution_count": 15,
   "metadata": {},
   "outputs": [
    {
     "name": "stderr",
     "output_type": "stream",
     "text": [
      "/opt/conda/lib/python3.7/site-packages/pandas/plotting/_matplotlib/converter.py:103: FutureWarning: Using an implicitly registered datetime converter for a matplotlib plotting method. The converter was registered by pandas on import. Future versions of pandas will require you to explicitly register matplotlib converters.\n",
      "\n",
      "To register the converters:\n",
      "\t>>> from pandas.plotting import register_matplotlib_converters\n",
      "\t>>> register_matplotlib_converters()\n",
      "  warnings.warn(msg, FutureWarning)\n"
     ]
    },
    {
     "data": {
      "image/png": "[encoded data removed]",
      "text/plain": [
       "<Figure size 864x432 with 1 Axes>"
      ]
     },
     "metadata": {
      "needs_background": "light"
     },
     "output_type": "display_data"
    }
   ],
   "source": [
    "# Найдем количество пользователей\n",
    "\n",
    "users_profit = users.sort_values('reg_date').groupby('reg_date')['user_id'].count()\n",
    "users_decrease = users.sort_values('churn_date').groupby('churn_date')['user_id'].count()\n",
    "user_count = pd.DataFrame({'profit': users_profit, 'decrease': users_decrease})\n",
    "user_count['decrease'] = user_count['decrease'].fillna(0)\n",
    "user_count['profit'] = user_count['profit'].fillna(0)\n",
    "user_count['count'] = (user_count['profit'] - user_count['decrease'])\n",
    "counter = 0\n",
    "for index in user_count.index:\n",
    "    counter += user_count.loc[index, 'count']\n",
    "    user_count.loc[index, 'count'] = counter\n",
    "\n",
    "# Найдем объем интернет трафика\n",
    "\n",
    "internet_count_zero = (\n",
    "    internet\n",
    "    .query('mb_used == 0')\n",
    "    .sort_values('session_date')\n",
    "    .pivot_table(\n",
    "        index='session_date', \n",
    "        values='mb_used',\n",
    "        aggfunc='count')\n",
    ")\n",
    "\n",
    "\n",
    "# Найдем количество звонков\n",
    "\n",
    "calls_count_zero = (\n",
    "    calls\n",
    "    .query('duration == 0')\n",
    "    .sort_values('call_date')\n",
    "    .pivot_table(\n",
    "        index='call_date', \n",
    "        values='duration',\n",
    "        aggfunc='count')\n",
    ") \n",
    "\n",
    "# Начинаем строить графики\n",
    "fig, ax = plt.subplots()\n",
    "\n",
    "plt.plot(\n",
    "    user_count['count'],\n",
    "    label='Количество пользователей',\n",
    ")\n",
    "\n",
    "plt.plot(\n",
    "    internet_count_zero,\n",
    "    label='Количество нулевых интернет-сессий',\n",
    ")\n",
    "\n",
    "plt.plot(\n",
    "    calls_count_zero,\n",
    "    label='Количество звонков с нулевой длительностью',\n",
    ")\n",
    "fig.set_figwidth(12)\n",
    "fig.set_figheight(6)\n",
    "fig.suptitle('График нулевых интернет-сессий и звонков', fontsize = 15)\n",
    "\n",
    "ax.grid()\n",
    "ax.set_xlabel('Дата')\n",
    "ax.set_ylabel('Количество, (чел., шт.)')\n",
    "\n",
    "plt.legend()\n",
    "plt.show()"
   ]
  },
  {
   "cell_type": "markdown",
   "metadata": {},
   "source": [
    "**Вывод** \n",
    "\n",
    "По графику видно, количество нулевых интернет-сессий и звонков с нулевой длительностью растет пропорционально количеству пользователей. можно предположить, что звонок с нулевой длительностью - это пользователи не смогли дозвониться до абонента, то нулевые интернет-сессии, на мой взгляд - это технические проблемы и их следует удалить."
   ]
  },
  {
   "cell_type": "code",
   "execution_count": 16,
   "metadata": {},
   "outputs": [
    {
     "data": {
      "text/plain": [
       "id              0\n",
       "mb_used         0\n",
       "session_date    0\n",
       "user_id         0\n",
       "dtype: int64"
      ]
     },
     "execution_count": 16,
     "metadata": {},
     "output_type": "execute_result"
    }
   ],
   "source": [
    "internet = internet.query('mb_used != 0')\n",
    "internet.query('mb_used == 0').count()"
   ]
  },
  {
   "cell_type": "markdown",
   "metadata": {},
   "source": [
    "Для веб-трафика определим общий объем за месяц и округлим его до гигабайт в большую сторону."
   ]
  },
  {
   "cell_type": "code",
   "execution_count": 17,
   "metadata": {},
   "outputs": [
    {
     "data": {
      "text/html": [
       "<div>\n",
       "<style scoped>\n",
       "    .dataframe tbody tr th:only-of-type {\n",
       "        vertical-align: middle;\n",
       "    }\n",
       "\n",
       "    .dataframe tbody tr th {\n",
       "        vertical-align: top;\n",
       "    }\n",
       "\n",
       "    .dataframe thead th {\n",
       "        text-align: right;\n",
       "    }\n",
       "</style>\n",
       "<table border=\"1\" class=\"dataframe\">\n",
       "  <thead>\n",
       "    <tr style=\"text-align: right;\">\n",
       "      <th></th>\n",
       "      <th>user_id</th>\n",
       "      <th>month</th>\n",
       "      <th>mb_used</th>\n",
       "      <th>gb_used</th>\n",
       "    </tr>\n",
       "  </thead>\n",
       "  <tbody>\n",
       "    <tr>\n",
       "      <td>0</td>\n",
       "      <td>1000</td>\n",
       "      <td>2018-05</td>\n",
       "      <td>2253.49</td>\n",
       "      <td>3.0</td>\n",
       "    </tr>\n",
       "    <tr>\n",
       "      <td>1</td>\n",
       "      <td>1000</td>\n",
       "      <td>2018-06</td>\n",
       "      <td>23233.77</td>\n",
       "      <td>23.0</td>\n",
       "    </tr>\n",
       "    <tr>\n",
       "      <td>2</td>\n",
       "      <td>1000</td>\n",
       "      <td>2018-07</td>\n",
       "      <td>14003.64</td>\n",
       "      <td>14.0</td>\n",
       "    </tr>\n",
       "    <tr>\n",
       "      <td>3</td>\n",
       "      <td>1000</td>\n",
       "      <td>2018-08</td>\n",
       "      <td>14055.93</td>\n",
       "      <td>14.0</td>\n",
       "    </tr>\n",
       "    <tr>\n",
       "      <td>4</td>\n",
       "      <td>1000</td>\n",
       "      <td>2018-09</td>\n",
       "      <td>14568.91</td>\n",
       "      <td>15.0</td>\n",
       "    </tr>\n",
       "  </tbody>\n",
       "</table>\n",
       "</div>"
      ],
      "text/plain": [
       "   user_id    month   mb_used  gb_used\n",
       "0     1000  2018-05   2253.49      3.0\n",
       "1     1000  2018-06  23233.77     23.0\n",
       "2     1000  2018-07  14003.64     14.0\n",
       "3     1000  2018-08  14055.93     14.0\n",
       "4     1000  2018-09  14568.91     15.0"
      ]
     },
     "metadata": {},
     "output_type": "display_data"
    }
   ],
   "source": [
    "internet['month'] = internet['session_date'].dt.to_period('M')\n",
    "internet_pivot = internet.pivot_table(\n",
    "    index=['user_id', 'month'],\n",
    "    values='mb_used',\n",
    "    aggfunc='sum'\n",
    ").reset_index()\n",
    "internet_pivot['gb_used'] = np.ceil(internet_pivot['mb_used'] / 1024)\n",
    "internet_pivot['gb_used'].astype('int64')\n",
    "\n",
    "display(internet_pivot.head())"
   ]
  },
  {
   "cell_type": "markdown",
   "metadata": {},
   "source": [
    "### Расчет необходимых показателей"
   ]
  },
  {
   "cell_type": "markdown",
   "metadata": {},
   "source": [
    "Определим для каждого пользователя количество сделанных звонков и израсходованных минут разговора по месяцам."
   ]
  },
  {
   "cell_type": "code",
   "execution_count": 18,
   "metadata": {},
   "outputs": [
    {
     "data": {
      "text/html": [
       "<div>\n",
       "<style scoped>\n",
       "    .dataframe tbody tr th:only-of-type {\n",
       "        vertical-align: middle;\n",
       "    }\n",
       "\n",
       "    .dataframe tbody tr th {\n",
       "        vertical-align: top;\n",
       "    }\n",
       "\n",
       "    .dataframe thead th {\n",
       "        text-align: right;\n",
       "    }\n",
       "</style>\n",
       "<table border=\"1\" class=\"dataframe\">\n",
       "  <thead>\n",
       "    <tr style=\"text-align: right;\">\n",
       "      <th></th>\n",
       "      <th>user_id</th>\n",
       "      <th>month</th>\n",
       "      <th>tariff_duration</th>\n",
       "    </tr>\n",
       "  </thead>\n",
       "  <tbody>\n",
       "    <tr>\n",
       "      <td>0</td>\n",
       "      <td>1000</td>\n",
       "      <td>2018-05</td>\n",
       "      <td>159</td>\n",
       "    </tr>\n",
       "    <tr>\n",
       "      <td>1</td>\n",
       "      <td>1000</td>\n",
       "      <td>2018-06</td>\n",
       "      <td>172</td>\n",
       "    </tr>\n",
       "    <tr>\n",
       "      <td>2</td>\n",
       "      <td>1000</td>\n",
       "      <td>2018-07</td>\n",
       "      <td>340</td>\n",
       "    </tr>\n",
       "    <tr>\n",
       "      <td>3</td>\n",
       "      <td>1000</td>\n",
       "      <td>2018-08</td>\n",
       "      <td>408</td>\n",
       "    </tr>\n",
       "    <tr>\n",
       "      <td>4</td>\n",
       "      <td>1000</td>\n",
       "      <td>2018-09</td>\n",
       "      <td>466</td>\n",
       "    </tr>\n",
       "  </tbody>\n",
       "</table>\n",
       "</div>"
      ],
      "text/plain": [
       "   user_id    month  tariff_duration\n",
       "0     1000  2018-05              159\n",
       "1     1000  2018-06              172\n",
       "2     1000  2018-07              340\n",
       "3     1000  2018-08              408\n",
       "4     1000  2018-09              466"
      ]
     },
     "metadata": {},
     "output_type": "display_data"
    }
   ],
   "source": [
    "calls['month'] = calls['call_date'].dt.to_period('M')\n",
    "calls_pivot = calls.pivot_table(\n",
    "    index=['user_id', 'month'],\n",
    "    values='tariff_duration',\n",
    "    aggfunc='sum'\n",
    ").reset_index()\n",
    "display(calls_pivot.head())"
   ]
  },
  {
   "cell_type": "markdown",
   "metadata": {},
   "source": [
    "Определим для каждого пользователя количество сообщений по месяцам."
   ]
  },
  {
   "cell_type": "code",
   "execution_count": 19,
   "metadata": {
    "scrolled": true
   },
   "outputs": [
    {
     "data": {
      "text/html": [
       "<div>\n",
       "<style scoped>\n",
       "    .dataframe tbody tr th:only-of-type {\n",
       "        vertical-align: middle;\n",
       "    }\n",
       "\n",
       "    .dataframe tbody tr th {\n",
       "        vertical-align: top;\n",
       "    }\n",
       "\n",
       "    .dataframe thead th {\n",
       "        text-align: right;\n",
       "    }\n",
       "</style>\n",
       "<table border=\"1\" class=\"dataframe\">\n",
       "  <thead>\n",
       "    <tr style=\"text-align: right;\">\n",
       "      <th></th>\n",
       "      <th>user_id</th>\n",
       "      <th>month</th>\n",
       "      <th>messages</th>\n",
       "    </tr>\n",
       "  </thead>\n",
       "  <tbody>\n",
       "    <tr>\n",
       "      <td>0</td>\n",
       "      <td>1000</td>\n",
       "      <td>2018-05</td>\n",
       "      <td>22</td>\n",
       "    </tr>\n",
       "    <tr>\n",
       "      <td>1</td>\n",
       "      <td>1000</td>\n",
       "      <td>2018-06</td>\n",
       "      <td>60</td>\n",
       "    </tr>\n",
       "    <tr>\n",
       "      <td>2</td>\n",
       "      <td>1000</td>\n",
       "      <td>2018-07</td>\n",
       "      <td>75</td>\n",
       "    </tr>\n",
       "    <tr>\n",
       "      <td>3</td>\n",
       "      <td>1000</td>\n",
       "      <td>2018-08</td>\n",
       "      <td>81</td>\n",
       "    </tr>\n",
       "    <tr>\n",
       "      <td>4</td>\n",
       "      <td>1000</td>\n",
       "      <td>2018-09</td>\n",
       "      <td>57</td>\n",
       "    </tr>\n",
       "  </tbody>\n",
       "</table>\n",
       "</div>"
      ],
      "text/plain": [
       "   user_id    month  messages\n",
       "0     1000  2018-05        22\n",
       "1     1000  2018-06        60\n",
       "2     1000  2018-07        75\n",
       "3     1000  2018-08        81\n",
       "4     1000  2018-09        57"
      ]
     },
     "metadata": {},
     "output_type": "display_data"
    }
   ],
   "source": [
    "messages['month'] = messages['message_date'].dt.to_period('M')\n",
    "messages_pivot = messages.pivot_table(\n",
    "    index=['user_id', 'month'],\n",
    "    values='id',\n",
    "    aggfunc='count'\n",
    ").reset_index()\n",
    "messages_pivot.columns = ['user_id', 'month', 'messages']\n",
    "display(messages_pivot.head())"
   ]
  },
  {
   "cell_type": "markdown",
   "metadata": {},
   "source": [
    "Объеденим все необходимые данные для дальнейшей работы в одну таблицу."
   ]
  },
  {
   "cell_type": "code",
   "execution_count": 20,
   "metadata": {
    "scrolled": false
   },
   "outputs": [
    {
     "data": {
      "text/html": [
       "<div>\n",
       "<style scoped>\n",
       "    .dataframe tbody tr th:only-of-type {\n",
       "        vertical-align: middle;\n",
       "    }\n",
       "\n",
       "    .dataframe tbody tr th {\n",
       "        vertical-align: top;\n",
       "    }\n",
       "\n",
       "    .dataframe thead th {\n",
       "        text-align: right;\n",
       "    }\n",
       "</style>\n",
       "<table border=\"1\" class=\"dataframe\">\n",
       "  <thead>\n",
       "    <tr style=\"text-align: right;\">\n",
       "      <th></th>\n",
       "      <th>user_id</th>\n",
       "      <th>month</th>\n",
       "      <th>tariff_duration</th>\n",
       "      <th>messages</th>\n",
       "      <th>mb_used</th>\n",
       "      <th>gb_used</th>\n",
       "      <th>age</th>\n",
       "      <th>churn_date</th>\n",
       "      <th>city</th>\n",
       "      <th>first_name</th>\n",
       "      <th>last_name</th>\n",
       "      <th>reg_date</th>\n",
       "      <th>tariff_name</th>\n",
       "      <th>messages_included</th>\n",
       "      <th>mb_per_month_included</th>\n",
       "      <th>minutes_included</th>\n",
       "      <th>rub_monthly_fee</th>\n",
       "      <th>rub_per_gb</th>\n",
       "      <th>rub_per_message</th>\n",
       "      <th>rub_per_minute</th>\n",
       "    </tr>\n",
       "  </thead>\n",
       "  <tbody>\n",
       "    <tr>\n",
       "      <td>0</td>\n",
       "      <td>1000</td>\n",
       "      <td>2018-05</td>\n",
       "      <td>159.0</td>\n",
       "      <td>22.0</td>\n",
       "      <td>2253.49</td>\n",
       "      <td>3.0</td>\n",
       "      <td>52</td>\n",
       "      <td>NaT</td>\n",
       "      <td>Краснодар</td>\n",
       "      <td>Рафаил</td>\n",
       "      <td>Верещагин</td>\n",
       "      <td>2018-05-25</td>\n",
       "      <td>ultra</td>\n",
       "      <td>1000</td>\n",
       "      <td>30720</td>\n",
       "      <td>3000</td>\n",
       "      <td>1950</td>\n",
       "      <td>150</td>\n",
       "      <td>1</td>\n",
       "      <td>1</td>\n",
       "    </tr>\n",
       "    <tr>\n",
       "      <td>1</td>\n",
       "      <td>1000</td>\n",
       "      <td>2018-06</td>\n",
       "      <td>172.0</td>\n",
       "      <td>60.0</td>\n",
       "      <td>23233.77</td>\n",
       "      <td>23.0</td>\n",
       "      <td>52</td>\n",
       "      <td>NaT</td>\n",
       "      <td>Краснодар</td>\n",
       "      <td>Рафаил</td>\n",
       "      <td>Верещагин</td>\n",
       "      <td>2018-05-25</td>\n",
       "      <td>ultra</td>\n",
       "      <td>1000</td>\n",
       "      <td>30720</td>\n",
       "      <td>3000</td>\n",
       "      <td>1950</td>\n",
       "      <td>150</td>\n",
       "      <td>1</td>\n",
       "      <td>1</td>\n",
       "    </tr>\n",
       "    <tr>\n",
       "      <td>2</td>\n",
       "      <td>1000</td>\n",
       "      <td>2018-07</td>\n",
       "      <td>340.0</td>\n",
       "      <td>75.0</td>\n",
       "      <td>14003.64</td>\n",
       "      <td>14.0</td>\n",
       "      <td>52</td>\n",
       "      <td>NaT</td>\n",
       "      <td>Краснодар</td>\n",
       "      <td>Рафаил</td>\n",
       "      <td>Верещагин</td>\n",
       "      <td>2018-05-25</td>\n",
       "      <td>ultra</td>\n",
       "      <td>1000</td>\n",
       "      <td>30720</td>\n",
       "      <td>3000</td>\n",
       "      <td>1950</td>\n",
       "      <td>150</td>\n",
       "      <td>1</td>\n",
       "      <td>1</td>\n",
       "    </tr>\n",
       "    <tr>\n",
       "      <td>3</td>\n",
       "      <td>1000</td>\n",
       "      <td>2018-08</td>\n",
       "      <td>408.0</td>\n",
       "      <td>81.0</td>\n",
       "      <td>14055.93</td>\n",
       "      <td>14.0</td>\n",
       "      <td>52</td>\n",
       "      <td>NaT</td>\n",
       "      <td>Краснодар</td>\n",
       "      <td>Рафаил</td>\n",
       "      <td>Верещагин</td>\n",
       "      <td>2018-05-25</td>\n",
       "      <td>ultra</td>\n",
       "      <td>1000</td>\n",
       "      <td>30720</td>\n",
       "      <td>3000</td>\n",
       "      <td>1950</td>\n",
       "      <td>150</td>\n",
       "      <td>1</td>\n",
       "      <td>1</td>\n",
       "    </tr>\n",
       "    <tr>\n",
       "      <td>4</td>\n",
       "      <td>1000</td>\n",
       "      <td>2018-09</td>\n",
       "      <td>466.0</td>\n",
       "      <td>57.0</td>\n",
       "      <td>14568.91</td>\n",
       "      <td>15.0</td>\n",
       "      <td>52</td>\n",
       "      <td>NaT</td>\n",
       "      <td>Краснодар</td>\n",
       "      <td>Рафаил</td>\n",
       "      <td>Верещагин</td>\n",
       "      <td>2018-05-25</td>\n",
       "      <td>ultra</td>\n",
       "      <td>1000</td>\n",
       "      <td>30720</td>\n",
       "      <td>3000</td>\n",
       "      <td>1950</td>\n",
       "      <td>150</td>\n",
       "      <td>1</td>\n",
       "      <td>1</td>\n",
       "    </tr>\n",
       "    <tr>\n",
       "      <td>...</td>\n",
       "      <td>...</td>\n",
       "      <td>...</td>\n",
       "      <td>...</td>\n",
       "      <td>...</td>\n",
       "      <td>...</td>\n",
       "      <td>...</td>\n",
       "      <td>...</td>\n",
       "      <td>...</td>\n",
       "      <td>...</td>\n",
       "      <td>...</td>\n",
       "      <td>...</td>\n",
       "      <td>...</td>\n",
       "      <td>...</td>\n",
       "      <td>...</td>\n",
       "      <td>...</td>\n",
       "      <td>...</td>\n",
       "      <td>...</td>\n",
       "      <td>...</td>\n",
       "      <td>...</td>\n",
       "      <td>...</td>\n",
       "    </tr>\n",
       "    <tr>\n",
       "      <td>3211</td>\n",
       "      <td>1489</td>\n",
       "      <td>2018-09</td>\n",
       "      <td>NaN</td>\n",
       "      <td>32.0</td>\n",
       "      <td>17206.30</td>\n",
       "      <td>17.0</td>\n",
       "      <td>35</td>\n",
       "      <td>NaT</td>\n",
       "      <td>Санкт-Петербург</td>\n",
       "      <td>Павел</td>\n",
       "      <td>Гончаров</td>\n",
       "      <td>2018-08-15</td>\n",
       "      <td>smart</td>\n",
       "      <td>50</td>\n",
       "      <td>15360</td>\n",
       "      <td>500</td>\n",
       "      <td>550</td>\n",
       "      <td>200</td>\n",
       "      <td>3</td>\n",
       "      <td>3</td>\n",
       "    </tr>\n",
       "    <tr>\n",
       "      <td>3212</td>\n",
       "      <td>1489</td>\n",
       "      <td>2018-10</td>\n",
       "      <td>NaN</td>\n",
       "      <td>21.0</td>\n",
       "      <td>19559.44</td>\n",
       "      <td>20.0</td>\n",
       "      <td>35</td>\n",
       "      <td>NaT</td>\n",
       "      <td>Санкт-Петербург</td>\n",
       "      <td>Павел</td>\n",
       "      <td>Гончаров</td>\n",
       "      <td>2018-08-15</td>\n",
       "      <td>smart</td>\n",
       "      <td>50</td>\n",
       "      <td>15360</td>\n",
       "      <td>500</td>\n",
       "      <td>550</td>\n",
       "      <td>200</td>\n",
       "      <td>3</td>\n",
       "      <td>3</td>\n",
       "    </tr>\n",
       "    <tr>\n",
       "      <td>3213</td>\n",
       "      <td>1489</td>\n",
       "      <td>2018-11</td>\n",
       "      <td>NaN</td>\n",
       "      <td>20.0</td>\n",
       "      <td>17491.56</td>\n",
       "      <td>18.0</td>\n",
       "      <td>35</td>\n",
       "      <td>NaT</td>\n",
       "      <td>Санкт-Петербург</td>\n",
       "      <td>Павел</td>\n",
       "      <td>Гончаров</td>\n",
       "      <td>2018-08-15</td>\n",
       "      <td>smart</td>\n",
       "      <td>50</td>\n",
       "      <td>15360</td>\n",
       "      <td>500</td>\n",
       "      <td>550</td>\n",
       "      <td>200</td>\n",
       "      <td>3</td>\n",
       "      <td>3</td>\n",
       "    </tr>\n",
       "    <tr>\n",
       "      <td>3214</td>\n",
       "      <td>1489</td>\n",
       "      <td>2018-12</td>\n",
       "      <td>NaN</td>\n",
       "      <td>35.0</td>\n",
       "      <td>17322.51</td>\n",
       "      <td>17.0</td>\n",
       "      <td>35</td>\n",
       "      <td>NaT</td>\n",
       "      <td>Санкт-Петербург</td>\n",
       "      <td>Павел</td>\n",
       "      <td>Гончаров</td>\n",
       "      <td>2018-08-15</td>\n",
       "      <td>smart</td>\n",
       "      <td>50</td>\n",
       "      <td>15360</td>\n",
       "      <td>500</td>\n",
       "      <td>550</td>\n",
       "      <td>200</td>\n",
       "      <td>3</td>\n",
       "      <td>3</td>\n",
       "    </tr>\n",
       "    <tr>\n",
       "      <td>3215</td>\n",
       "      <td>1371</td>\n",
       "      <td>NaT</td>\n",
       "      <td>NaN</td>\n",
       "      <td>NaN</td>\n",
       "      <td>NaN</td>\n",
       "      <td>NaN</td>\n",
       "      <td>50</td>\n",
       "      <td>2018-12-30</td>\n",
       "      <td>Омск</td>\n",
       "      <td>Ириней</td>\n",
       "      <td>Трофимов</td>\n",
       "      <td>2018-12-25</td>\n",
       "      <td>smart</td>\n",
       "      <td>50</td>\n",
       "      <td>15360</td>\n",
       "      <td>500</td>\n",
       "      <td>550</td>\n",
       "      <td>200</td>\n",
       "      <td>3</td>\n",
       "      <td>3</td>\n",
       "    </tr>\n",
       "  </tbody>\n",
       "</table>\n",
       "<p>3216 rows × 20 columns</p>\n",
       "</div>"
      ],
      "text/plain": [
       "      user_id    month  tariff_duration  messages   mb_used  gb_used  age  \\\n",
       "0        1000  2018-05            159.0      22.0   2253.49      3.0   52   \n",
       "1        1000  2018-06            172.0      60.0  23233.77     23.0   52   \n",
       "2        1000  2018-07            340.0      75.0  14003.64     14.0   52   \n",
       "3        1000  2018-08            408.0      81.0  14055.93     14.0   52   \n",
       "4        1000  2018-09            466.0      57.0  14568.91     15.0   52   \n",
       "...       ...      ...              ...       ...       ...      ...  ...   \n",
       "3211     1489  2018-09              NaN      32.0  17206.30     17.0   35   \n",
       "3212     1489  2018-10              NaN      21.0  19559.44     20.0   35   \n",
       "3213     1489  2018-11              NaN      20.0  17491.56     18.0   35   \n",
       "3214     1489  2018-12              NaN      35.0  17322.51     17.0   35   \n",
       "3215     1371      NaT              NaN       NaN       NaN      NaN   50   \n",
       "\n",
       "     churn_date             city first_name  last_name   reg_date tariff_name  \\\n",
       "0           NaT        Краснодар     Рафаил  Верещагин 2018-05-25       ultra   \n",
       "1           NaT        Краснодар     Рафаил  Верещагин 2018-05-25       ultra   \n",
       "2           NaT        Краснодар     Рафаил  Верещагин 2018-05-25       ultra   \n",
       "3           NaT        Краснодар     Рафаил  Верещагин 2018-05-25       ultra   \n",
       "4           NaT        Краснодар     Рафаил  Верещагин 2018-05-25       ultra   \n",
       "...         ...              ...        ...        ...        ...         ...   \n",
       "3211        NaT  Санкт-Петербург      Павел   Гончаров 2018-08-15       smart   \n",
       "3212        NaT  Санкт-Петербург      Павел   Гончаров 2018-08-15       smart   \n",
       "3213        NaT  Санкт-Петербург      Павел   Гончаров 2018-08-15       smart   \n",
       "3214        NaT  Санкт-Петербург      Павел   Гончаров 2018-08-15       smart   \n",
       "3215 2018-12-30             Омск     Ириней   Трофимов 2018-12-25       smart   \n",
       "\n",
       "      messages_included  mb_per_month_included  minutes_included  \\\n",
       "0                  1000                  30720              3000   \n",
       "1                  1000                  30720              3000   \n",
       "2                  1000                  30720              3000   \n",
       "3                  1000                  30720              3000   \n",
       "4                  1000                  30720              3000   \n",
       "...                 ...                    ...               ...   \n",
       "3211                 50                  15360               500   \n",
       "3212                 50                  15360               500   \n",
       "3213                 50                  15360               500   \n",
       "3214                 50                  15360               500   \n",
       "3215                 50                  15360               500   \n",
       "\n",
       "      rub_monthly_fee  rub_per_gb  rub_per_message  rub_per_minute  \n",
       "0                1950         150                1               1  \n",
       "1                1950         150                1               1  \n",
       "2                1950         150                1               1  \n",
       "3                1950         150                1               1  \n",
       "4                1950         150                1               1  \n",
       "...               ...         ...              ...             ...  \n",
       "3211              550         200                3               3  \n",
       "3212              550         200                3               3  \n",
       "3213              550         200                3               3  \n",
       "3214              550         200                3               3  \n",
       "3215              550         200                3               3  \n",
       "\n",
       "[3216 rows x 20 columns]"
      ]
     },
     "metadata": {},
     "output_type": "display_data"
    }
   ],
   "source": [
    "data = calls_pivot.merge(messages_pivot, on=['user_id', 'month'], how='outer')\n",
    "data = data.merge(internet_pivot, on=['user_id', 'month'], how='outer')\n",
    "data = data.merge(users, on='user_id', how='outer')\n",
    "data = data.rename(columns={'tariff':'tariff_name'})\n",
    "data = data.merge(tariffs, on='tariff_name', how='outer')\n",
    "display(data)"
   ]
  },
  {
   "cell_type": "markdown",
   "metadata": {},
   "source": [
    "Для определения помесячной выручки с каждого пользователя объявим функцию, которая будет возвращать разницу между бесплатным лимитом и суммарным количеством звонков, сообщений и интернет-трафика, помноженную на значение из тарифного плана; после этого найдет сумму с абонентской платой, соответствующую тарифному плану)."
   ]
  },
  {
   "cell_type": "code",
   "execution_count": 21,
   "metadata": {},
   "outputs": [
    {
     "name": "stdout",
     "output_type": "stream",
     "text": [
      "<class 'pandas.core.frame.DataFrame'>\n",
      "Int64Index: 3216 entries, 0 to 3215\n",
      "Data columns (total 20 columns):\n",
      "user_id                  3216 non-null int64\n",
      "month                    3214 non-null period[M]\n",
      "tariff_duration          3174 non-null float64\n",
      "messages                 2717 non-null float64\n",
      "mb_used                  3201 non-null float64\n",
      "gb_used                  3201 non-null float64\n",
      "age                      3216 non-null int64\n",
      "churn_date               189 non-null datetime64[ns]\n",
      "city                     3216 non-null object\n",
      "first_name               3216 non-null object\n",
      "last_name                3216 non-null object\n",
      "reg_date                 3216 non-null datetime64[ns]\n",
      "tariff_name              3216 non-null object\n",
      "messages_included        3216 non-null int64\n",
      "mb_per_month_included    3216 non-null int64\n",
      "minutes_included         3216 non-null int64\n",
      "rub_monthly_fee          3216 non-null int64\n",
      "rub_per_gb               3216 non-null int64\n",
      "rub_per_message          3216 non-null int64\n",
      "rub_per_minute           3216 non-null int64\n",
      "dtypes: datetime64[ns](2), float64(4), int64(9), object(4), period[M](1)\n",
      "memory usage: 527.6+ KB\n"
     ]
    }
   ],
   "source": [
    "data.info()"
   ]
  },
  {
   "cell_type": "markdown",
   "metadata": {},
   "source": [
    "В таблице присутствуют пропуски. Обработаем их. \n",
    "\n",
    "Для начала посмотрим на два пропуска в столбце месяц."
   ]
  },
  {
   "cell_type": "code",
   "execution_count": 22,
   "metadata": {},
   "outputs": [
    {
     "data": {
      "text/html": [
       "<div>\n",
       "<style scoped>\n",
       "    .dataframe tbody tr th:only-of-type {\n",
       "        vertical-align: middle;\n",
       "    }\n",
       "\n",
       "    .dataframe tbody tr th {\n",
       "        vertical-align: top;\n",
       "    }\n",
       "\n",
       "    .dataframe thead th {\n",
       "        text-align: right;\n",
       "    }\n",
       "</style>\n",
       "<table border=\"1\" class=\"dataframe\">\n",
       "  <thead>\n",
       "    <tr style=\"text-align: right;\">\n",
       "      <th></th>\n",
       "      <th>user_id</th>\n",
       "      <th>month</th>\n",
       "      <th>tariff_duration</th>\n",
       "      <th>messages</th>\n",
       "      <th>mb_used</th>\n",
       "      <th>gb_used</th>\n",
       "      <th>age</th>\n",
       "      <th>churn_date</th>\n",
       "      <th>city</th>\n",
       "      <th>first_name</th>\n",
       "      <th>last_name</th>\n",
       "      <th>reg_date</th>\n",
       "      <th>tariff_name</th>\n",
       "      <th>messages_included</th>\n",
       "      <th>mb_per_month_included</th>\n",
       "      <th>minutes_included</th>\n",
       "      <th>rub_monthly_fee</th>\n",
       "      <th>rub_per_gb</th>\n",
       "      <th>rub_per_message</th>\n",
       "      <th>rub_per_minute</th>\n",
       "    </tr>\n",
       "  </thead>\n",
       "  <tbody>\n",
       "    <tr>\n",
       "      <td>985</td>\n",
       "      <td>1128</td>\n",
       "      <td>NaT</td>\n",
       "      <td>NaN</td>\n",
       "      <td>NaN</td>\n",
       "      <td>NaN</td>\n",
       "      <td>NaN</td>\n",
       "      <td>51</td>\n",
       "      <td>2018-12-23</td>\n",
       "      <td>Волжский</td>\n",
       "      <td>Ксения</td>\n",
       "      <td>Агаева</td>\n",
       "      <td>2018-12-15</td>\n",
       "      <td>ultra</td>\n",
       "      <td>1000</td>\n",
       "      <td>30720</td>\n",
       "      <td>3000</td>\n",
       "      <td>1950</td>\n",
       "      <td>150</td>\n",
       "      <td>1</td>\n",
       "      <td>1</td>\n",
       "    </tr>\n",
       "    <tr>\n",
       "      <td>3215</td>\n",
       "      <td>1371</td>\n",
       "      <td>NaT</td>\n",
       "      <td>NaN</td>\n",
       "      <td>NaN</td>\n",
       "      <td>NaN</td>\n",
       "      <td>NaN</td>\n",
       "      <td>50</td>\n",
       "      <td>2018-12-30</td>\n",
       "      <td>Омск</td>\n",
       "      <td>Ириней</td>\n",
       "      <td>Трофимов</td>\n",
       "      <td>2018-12-25</td>\n",
       "      <td>smart</td>\n",
       "      <td>50</td>\n",
       "      <td>15360</td>\n",
       "      <td>500</td>\n",
       "      <td>550</td>\n",
       "      <td>200</td>\n",
       "      <td>3</td>\n",
       "      <td>3</td>\n",
       "    </tr>\n",
       "  </tbody>\n",
       "</table>\n",
       "</div>"
      ],
      "text/plain": [
       "      user_id month  tariff_duration  messages  mb_used  gb_used  age  \\\n",
       "985      1128   NaT              NaN       NaN      NaN      NaN   51   \n",
       "3215     1371   NaT              NaN       NaN      NaN      NaN   50   \n",
       "\n",
       "     churn_date      city first_name last_name   reg_date tariff_name  \\\n",
       "985  2018-12-23  Волжский     Ксения    Агаева 2018-12-15       ultra   \n",
       "3215 2018-12-30      Омск     Ириней  Трофимов 2018-12-25       smart   \n",
       "\n",
       "      messages_included  mb_per_month_included  minutes_included  \\\n",
       "985                1000                  30720              3000   \n",
       "3215                 50                  15360               500   \n",
       "\n",
       "      rub_monthly_fee  rub_per_gb  rub_per_message  rub_per_minute  \n",
       "985              1950         150                1               1  \n",
       "3215              550         200                3               3  "
      ]
     },
     "metadata": {},
     "output_type": "display_data"
    }
   ],
   "source": [
    "display(data[data['month'].isna()])"
   ]
  },
  {
   "cell_type": "markdown",
   "metadata": {},
   "source": [
    "Очень подозрательные строки - почти все данные отсутствуют. Удалим эти строки."
   ]
  },
  {
   "cell_type": "code",
   "execution_count": 23,
   "metadata": {},
   "outputs": [
    {
     "name": "stdout",
     "output_type": "stream",
     "text": [
      "<class 'pandas.core.frame.DataFrame'>\n",
      "Int64Index: 3214 entries, 0 to 3214\n",
      "Data columns (total 20 columns):\n",
      "user_id                  3214 non-null int64\n",
      "month                    3214 non-null period[M]\n",
      "tariff_duration          3214 non-null float64\n",
      "messages                 3214 non-null float64\n",
      "mb_used                  3214 non-null float64\n",
      "gb_used                  3214 non-null float64\n",
      "age                      3214 non-null int64\n",
      "churn_date               187 non-null datetime64[ns]\n",
      "city                     3214 non-null object\n",
      "first_name               3214 non-null object\n",
      "last_name                3214 non-null object\n",
      "reg_date                 3214 non-null datetime64[ns]\n",
      "tariff_name              3214 non-null object\n",
      "messages_included        3214 non-null int64\n",
      "mb_per_month_included    3214 non-null int64\n",
      "minutes_included         3214 non-null int64\n",
      "rub_monthly_fee          3214 non-null int64\n",
      "rub_per_gb               3214 non-null int64\n",
      "rub_per_message          3214 non-null int64\n",
      "rub_per_minute           3214 non-null int64\n",
      "dtypes: datetime64[ns](2), float64(4), int64(9), object(4), period[M](1)\n",
      "memory usage: 527.3+ KB\n"
     ]
    }
   ],
   "source": [
    "data = data.dropna(subset=['month'])\n",
    "data['tariff_duration'] = data['tariff_duration'].fillna(0)\n",
    "data['messages'] = data['messages'].fillna(0)\n",
    "data['mb_used'] = data['mb_used'].fillna(0)\n",
    "data['gb_used'] = data['gb_used'].fillna(0)\n",
    "data.info()"
   ]
  },
  {
   "cell_type": "markdown",
   "metadata": {},
   "source": [
    "В столбце с длительностью столбца, количество сообщений, использованных гигабайтов и дату прекращения пользования тарифом оставим без изменений. Вписать \"0\" в столбец со звонком, смс, или трафиком нельзя, так как это тарификационный объем за месяц, а пропуск значит, что этих данных нет. отсутствие даты прекращения пользования тарифом заменить также не чем."
   ]
  },
  {
   "cell_type": "code",
   "execution_count": 24,
   "metadata": {
    "scrolled": false
   },
   "outputs": [
    {
     "data": {
      "text/plain": [
       "tariff_duration           3001\n",
       "messages                  1001\n",
       "gb_used                     31\n",
       "rub_monthly_fee           1950\n",
       "minutes_included          3000\n",
       "messages_included         1000\n",
       "mb_per_month_included    30720\n",
       "rub_per_minute               1\n",
       "rub_per_message              1\n",
       "rub_per_gb                 150\n",
       "dtype: int64"
      ]
     },
     "metadata": {},
     "output_type": "display_data"
    },
    {
     "data": {
      "text/plain": [
       "2102.0"
      ]
     },
     "execution_count": 24,
     "metadata": {},
     "output_type": "execute_result"
    }
   ],
   "source": [
    "def revenue(row):\n",
    "    \n",
    "    # Длительность звонков\n",
    "    duration_calls = row['tariff_duration'] \n",
    "    \n",
    "    # Количество сообщений\n",
    "    messages = row['messages']\n",
    "    \n",
    "    # Количество трафика\n",
    "    gb_used = row['gb_used']    \n",
    "    \n",
    "    # Ежемесячная абонентская плата в рублях\n",
    "    rub_monthly_fee = row['rub_monthly_fee']\n",
    "    \n",
    "    # Количество минут разговора в месяц, включённых в абонентскую плату\n",
    "    minutes_included = row['minutes_included']\n",
    "    \n",
    "    # Количество сообщений в месяц, включённых в абонентскую плату\n",
    "    messages_included = row['messages_included']\n",
    "    \n",
    "    # Объём интернет-трафика, включённого в абонентскую плату (в гигабайтах)\n",
    "    gb_per_month_included = (row['mb_per_month_included'] / 1024)\n",
    "    \n",
    "    # Cтоимость минуты разговора сверх тарифного пакета \n",
    "    # (например, если в тарифе 100 минут разговора в месяц, \n",
    "    # то со 101 минуты будет взиматься плата)\n",
    "    rub_per_minute = row['rub_per_minute']\n",
    "    \n",
    "    # Cтоимость отправки сообщения сверх тарифного пакета\n",
    "    rub_per_message = row['rub_per_message']\n",
    "    \n",
    "    # Cтоимость дополнительного гигабайта интернет-трафика \n",
    "    # сверх тарифного пакета (1 гигабайт = 1024 мегабайта)\n",
    "    rub_per_gb = row['rub_per_gb']\n",
    "    \n",
    "    monthly_revenue_user = 0\n",
    "    \n",
    "    if duration_calls > minutes_included:\n",
    "        monthly_revenue_user += (duration_calls - minutes_included) * rub_per_minute\n",
    "    if messages > messages_included:\n",
    "        monthly_revenue_user += (messages - messages_included) * rub_per_message\n",
    "    if gb_used > gb_per_month_included:\n",
    "        monthly_revenue_user += (gb_used - gb_per_month_included) * rub_per_gb\n",
    "    monthly_revenue_user += rub_monthly_fee\n",
    "    return monthly_revenue_user\n",
    "\n",
    "row_columns = [\n",
    "    'tariff_duration', \n",
    "    'messages', \n",
    "    'gb_used', \n",
    "    'rub_monthly_fee', \n",
    "    'minutes_included',\n",
    "    'messages_included',\n",
    "    'mb_per_month_included',\n",
    "    'rub_per_minute',\n",
    "    'rub_per_message',\n",
    "    'rub_per_gb'\n",
    "] \n",
    "\n",
    "row_values = [\n",
    "    3001,\n",
    "    1001,\n",
    "    31,\n",
    "    1950,\n",
    "    3000,\n",
    "    1000,\n",
    "    30720,\n",
    "    1,\n",
    "    1,\n",
    "    150\n",
    "]\n",
    "\n",
    "row = pd.Series(data=row_values, index=row_columns)\n",
    "display(row)\n",
    "revenue(row)"
   ]
  },
  {
   "cell_type": "markdown",
   "metadata": {},
   "source": [
    "Применим нашу функцию и найдем выручку по каждому месяцу"
   ]
  },
  {
   "cell_type": "code",
   "execution_count": 25,
   "metadata": {
    "scrolled": false
   },
   "outputs": [
    {
     "data": {
      "text/plain": [
       "count    3214.000000\n",
       "mean     1529.076229\n",
       "std       798.251091\n",
       "min       550.000000\n",
       "25%       750.000000\n",
       "50%      1653.500000\n",
       "75%      1950.000000\n",
       "max      6770.000000\n",
       "Name: revenue, dtype: float64"
      ]
     },
     "execution_count": 25,
     "metadata": {},
     "output_type": "execute_result"
    }
   ],
   "source": [
    "data['revenue'] = data.apply(revenue, axis=1)\n",
    "data['revenue'].describe()"
   ]
  },
  {
   "cell_type": "code",
   "execution_count": 26,
   "metadata": {},
   "outputs": [
    {
     "data": {
      "text/html": [
       "<div>\n",
       "<style scoped>\n",
       "    .dataframe tbody tr th:only-of-type {\n",
       "        vertical-align: middle;\n",
       "    }\n",
       "\n",
       "    .dataframe tbody tr th {\n",
       "        vertical-align: top;\n",
       "    }\n",
       "\n",
       "    .dataframe thead th {\n",
       "        text-align: right;\n",
       "    }\n",
       "</style>\n",
       "<table border=\"1\" class=\"dataframe\">\n",
       "  <thead>\n",
       "    <tr style=\"text-align: right;\">\n",
       "      <th></th>\n",
       "      <th>user_id</th>\n",
       "      <th>month</th>\n",
       "      <th>tariff_duration</th>\n",
       "      <th>messages</th>\n",
       "      <th>mb_used</th>\n",
       "      <th>gb_used</th>\n",
       "      <th>age</th>\n",
       "      <th>churn_date</th>\n",
       "      <th>city</th>\n",
       "      <th>first_name</th>\n",
       "      <th>...</th>\n",
       "      <th>reg_date</th>\n",
       "      <th>tariff_name</th>\n",
       "      <th>messages_included</th>\n",
       "      <th>mb_per_month_included</th>\n",
       "      <th>minutes_included</th>\n",
       "      <th>rub_monthly_fee</th>\n",
       "      <th>rub_per_gb</th>\n",
       "      <th>rub_per_message</th>\n",
       "      <th>rub_per_minute</th>\n",
       "      <th>revenue</th>\n",
       "    </tr>\n",
       "  </thead>\n",
       "  <tbody>\n",
       "    <tr>\n",
       "      <td>0</td>\n",
       "      <td>1000</td>\n",
       "      <td>2018-05</td>\n",
       "      <td>159.0</td>\n",
       "      <td>22.0</td>\n",
       "      <td>2253.49</td>\n",
       "      <td>3.0</td>\n",
       "      <td>52</td>\n",
       "      <td>NaT</td>\n",
       "      <td>Краснодар</td>\n",
       "      <td>Рафаил</td>\n",
       "      <td>...</td>\n",
       "      <td>2018-05-25</td>\n",
       "      <td>ultra</td>\n",
       "      <td>1000</td>\n",
       "      <td>30720</td>\n",
       "      <td>3000</td>\n",
       "      <td>1950</td>\n",
       "      <td>150</td>\n",
       "      <td>1</td>\n",
       "      <td>1</td>\n",
       "      <td>1950.0</td>\n",
       "    </tr>\n",
       "    <tr>\n",
       "      <td>1</td>\n",
       "      <td>1000</td>\n",
       "      <td>2018-06</td>\n",
       "      <td>172.0</td>\n",
       "      <td>60.0</td>\n",
       "      <td>23233.77</td>\n",
       "      <td>23.0</td>\n",
       "      <td>52</td>\n",
       "      <td>NaT</td>\n",
       "      <td>Краснодар</td>\n",
       "      <td>Рафаил</td>\n",
       "      <td>...</td>\n",
       "      <td>2018-05-25</td>\n",
       "      <td>ultra</td>\n",
       "      <td>1000</td>\n",
       "      <td>30720</td>\n",
       "      <td>3000</td>\n",
       "      <td>1950</td>\n",
       "      <td>150</td>\n",
       "      <td>1</td>\n",
       "      <td>1</td>\n",
       "      <td>1950.0</td>\n",
       "    </tr>\n",
       "    <tr>\n",
       "      <td>2</td>\n",
       "      <td>1000</td>\n",
       "      <td>2018-07</td>\n",
       "      <td>340.0</td>\n",
       "      <td>75.0</td>\n",
       "      <td>14003.64</td>\n",
       "      <td>14.0</td>\n",
       "      <td>52</td>\n",
       "      <td>NaT</td>\n",
       "      <td>Краснодар</td>\n",
       "      <td>Рафаил</td>\n",
       "      <td>...</td>\n",
       "      <td>2018-05-25</td>\n",
       "      <td>ultra</td>\n",
       "      <td>1000</td>\n",
       "      <td>30720</td>\n",
       "      <td>3000</td>\n",
       "      <td>1950</td>\n",
       "      <td>150</td>\n",
       "      <td>1</td>\n",
       "      <td>1</td>\n",
       "      <td>1950.0</td>\n",
       "    </tr>\n",
       "    <tr>\n",
       "      <td>3</td>\n",
       "      <td>1000</td>\n",
       "      <td>2018-08</td>\n",
       "      <td>408.0</td>\n",
       "      <td>81.0</td>\n",
       "      <td>14055.93</td>\n",
       "      <td>14.0</td>\n",
       "      <td>52</td>\n",
       "      <td>NaT</td>\n",
       "      <td>Краснодар</td>\n",
       "      <td>Рафаил</td>\n",
       "      <td>...</td>\n",
       "      <td>2018-05-25</td>\n",
       "      <td>ultra</td>\n",
       "      <td>1000</td>\n",
       "      <td>30720</td>\n",
       "      <td>3000</td>\n",
       "      <td>1950</td>\n",
       "      <td>150</td>\n",
       "      <td>1</td>\n",
       "      <td>1</td>\n",
       "      <td>1950.0</td>\n",
       "    </tr>\n",
       "    <tr>\n",
       "      <td>4</td>\n",
       "      <td>1000</td>\n",
       "      <td>2018-09</td>\n",
       "      <td>466.0</td>\n",
       "      <td>57.0</td>\n",
       "      <td>14568.91</td>\n",
       "      <td>15.0</td>\n",
       "      <td>52</td>\n",
       "      <td>NaT</td>\n",
       "      <td>Краснодар</td>\n",
       "      <td>Рафаил</td>\n",
       "      <td>...</td>\n",
       "      <td>2018-05-25</td>\n",
       "      <td>ultra</td>\n",
       "      <td>1000</td>\n",
       "      <td>30720</td>\n",
       "      <td>3000</td>\n",
       "      <td>1950</td>\n",
       "      <td>150</td>\n",
       "      <td>1</td>\n",
       "      <td>1</td>\n",
       "      <td>1950.0</td>\n",
       "    </tr>\n",
       "    <tr>\n",
       "      <td>...</td>\n",
       "      <td>...</td>\n",
       "      <td>...</td>\n",
       "      <td>...</td>\n",
       "      <td>...</td>\n",
       "      <td>...</td>\n",
       "      <td>...</td>\n",
       "      <td>...</td>\n",
       "      <td>...</td>\n",
       "      <td>...</td>\n",
       "      <td>...</td>\n",
       "      <td>...</td>\n",
       "      <td>...</td>\n",
       "      <td>...</td>\n",
       "      <td>...</td>\n",
       "      <td>...</td>\n",
       "      <td>...</td>\n",
       "      <td>...</td>\n",
       "      <td>...</td>\n",
       "      <td>...</td>\n",
       "      <td>...</td>\n",
       "      <td>...</td>\n",
       "    </tr>\n",
       "    <tr>\n",
       "      <td>3210</td>\n",
       "      <td>1489</td>\n",
       "      <td>2018-08</td>\n",
       "      <td>0.0</td>\n",
       "      <td>17.0</td>\n",
       "      <td>11050.56</td>\n",
       "      <td>11.0</td>\n",
       "      <td>35</td>\n",
       "      <td>NaT</td>\n",
       "      <td>Санкт-Петербург</td>\n",
       "      <td>Павел</td>\n",
       "      <td>...</td>\n",
       "      <td>2018-08-15</td>\n",
       "      <td>smart</td>\n",
       "      <td>50</td>\n",
       "      <td>15360</td>\n",
       "      <td>500</td>\n",
       "      <td>550</td>\n",
       "      <td>200</td>\n",
       "      <td>3</td>\n",
       "      <td>3</td>\n",
       "      <td>550.0</td>\n",
       "    </tr>\n",
       "    <tr>\n",
       "      <td>3211</td>\n",
       "      <td>1489</td>\n",
       "      <td>2018-09</td>\n",
       "      <td>0.0</td>\n",
       "      <td>32.0</td>\n",
       "      <td>17206.30</td>\n",
       "      <td>17.0</td>\n",
       "      <td>35</td>\n",
       "      <td>NaT</td>\n",
       "      <td>Санкт-Петербург</td>\n",
       "      <td>Павел</td>\n",
       "      <td>...</td>\n",
       "      <td>2018-08-15</td>\n",
       "      <td>smart</td>\n",
       "      <td>50</td>\n",
       "      <td>15360</td>\n",
       "      <td>500</td>\n",
       "      <td>550</td>\n",
       "      <td>200</td>\n",
       "      <td>3</td>\n",
       "      <td>3</td>\n",
       "      <td>950.0</td>\n",
       "    </tr>\n",
       "    <tr>\n",
       "      <td>3212</td>\n",
       "      <td>1489</td>\n",
       "      <td>2018-10</td>\n",
       "      <td>0.0</td>\n",
       "      <td>21.0</td>\n",
       "      <td>19559.44</td>\n",
       "      <td>20.0</td>\n",
       "      <td>35</td>\n",
       "      <td>NaT</td>\n",
       "      <td>Санкт-Петербург</td>\n",
       "      <td>Павел</td>\n",
       "      <td>...</td>\n",
       "      <td>2018-08-15</td>\n",
       "      <td>smart</td>\n",
       "      <td>50</td>\n",
       "      <td>15360</td>\n",
       "      <td>500</td>\n",
       "      <td>550</td>\n",
       "      <td>200</td>\n",
       "      <td>3</td>\n",
       "      <td>3</td>\n",
       "      <td>1550.0</td>\n",
       "    </tr>\n",
       "    <tr>\n",
       "      <td>3213</td>\n",
       "      <td>1489</td>\n",
       "      <td>2018-11</td>\n",
       "      <td>0.0</td>\n",
       "      <td>20.0</td>\n",
       "      <td>17491.56</td>\n",
       "      <td>18.0</td>\n",
       "      <td>35</td>\n",
       "      <td>NaT</td>\n",
       "      <td>Санкт-Петербург</td>\n",
       "      <td>Павел</td>\n",
       "      <td>...</td>\n",
       "      <td>2018-08-15</td>\n",
       "      <td>smart</td>\n",
       "      <td>50</td>\n",
       "      <td>15360</td>\n",
       "      <td>500</td>\n",
       "      <td>550</td>\n",
       "      <td>200</td>\n",
       "      <td>3</td>\n",
       "      <td>3</td>\n",
       "      <td>1150.0</td>\n",
       "    </tr>\n",
       "    <tr>\n",
       "      <td>3214</td>\n",
       "      <td>1489</td>\n",
       "      <td>2018-12</td>\n",
       "      <td>0.0</td>\n",
       "      <td>35.0</td>\n",
       "      <td>17322.51</td>\n",
       "      <td>17.0</td>\n",
       "      <td>35</td>\n",
       "      <td>NaT</td>\n",
       "      <td>Санкт-Петербург</td>\n",
       "      <td>Павел</td>\n",
       "      <td>...</td>\n",
       "      <td>2018-08-15</td>\n",
       "      <td>smart</td>\n",
       "      <td>50</td>\n",
       "      <td>15360</td>\n",
       "      <td>500</td>\n",
       "      <td>550</td>\n",
       "      <td>200</td>\n",
       "      <td>3</td>\n",
       "      <td>3</td>\n",
       "      <td>950.0</td>\n",
       "    </tr>\n",
       "  </tbody>\n",
       "</table>\n",
       "<p>3214 rows × 21 columns</p>\n",
       "</div>"
      ],
      "text/plain": [
       "      user_id    month  tariff_duration  messages   mb_used  gb_used  age  \\\n",
       "0        1000  2018-05            159.0      22.0   2253.49      3.0   52   \n",
       "1        1000  2018-06            172.0      60.0  23233.77     23.0   52   \n",
       "2        1000  2018-07            340.0      75.0  14003.64     14.0   52   \n",
       "3        1000  2018-08            408.0      81.0  14055.93     14.0   52   \n",
       "4        1000  2018-09            466.0      57.0  14568.91     15.0   52   \n",
       "...       ...      ...              ...       ...       ...      ...  ...   \n",
       "3210     1489  2018-08              0.0      17.0  11050.56     11.0   35   \n",
       "3211     1489  2018-09              0.0      32.0  17206.30     17.0   35   \n",
       "3212     1489  2018-10              0.0      21.0  19559.44     20.0   35   \n",
       "3213     1489  2018-11              0.0      20.0  17491.56     18.0   35   \n",
       "3214     1489  2018-12              0.0      35.0  17322.51     17.0   35   \n",
       "\n",
       "     churn_date             city first_name  ...   reg_date tariff_name  \\\n",
       "0           NaT        Краснодар     Рафаил  ... 2018-05-25       ultra   \n",
       "1           NaT        Краснодар     Рафаил  ... 2018-05-25       ultra   \n",
       "2           NaT        Краснодар     Рафаил  ... 2018-05-25       ultra   \n",
       "3           NaT        Краснодар     Рафаил  ... 2018-05-25       ultra   \n",
       "4           NaT        Краснодар     Рафаил  ... 2018-05-25       ultra   \n",
       "...         ...              ...        ...  ...        ...         ...   \n",
       "3210        NaT  Санкт-Петербург      Павел  ... 2018-08-15       smart   \n",
       "3211        NaT  Санкт-Петербург      Павел  ... 2018-08-15       smart   \n",
       "3212        NaT  Санкт-Петербург      Павел  ... 2018-08-15       smart   \n",
       "3213        NaT  Санкт-Петербург      Павел  ... 2018-08-15       smart   \n",
       "3214        NaT  Санкт-Петербург      Павел  ... 2018-08-15       smart   \n",
       "\n",
       "     messages_included  mb_per_month_included  minutes_included  \\\n",
       "0                 1000                  30720              3000   \n",
       "1                 1000                  30720              3000   \n",
       "2                 1000                  30720              3000   \n",
       "3                 1000                  30720              3000   \n",
       "4                 1000                  30720              3000   \n",
       "...                ...                    ...               ...   \n",
       "3210                50                  15360               500   \n",
       "3211                50                  15360               500   \n",
       "3212                50                  15360               500   \n",
       "3213                50                  15360               500   \n",
       "3214                50                  15360               500   \n",
       "\n",
       "      rub_monthly_fee  rub_per_gb  rub_per_message  rub_per_minute  revenue  \n",
       "0                1950         150                1               1   1950.0  \n",
       "1                1950         150                1               1   1950.0  \n",
       "2                1950         150                1               1   1950.0  \n",
       "3                1950         150                1               1   1950.0  \n",
       "4                1950         150                1               1   1950.0  \n",
       "...               ...         ...              ...             ...      ...  \n",
       "3210              550         200                3               3    550.0  \n",
       "3211              550         200                3               3    950.0  \n",
       "3212              550         200                3               3   1550.0  \n",
       "3213              550         200                3               3   1150.0  \n",
       "3214              550         200                3               3    950.0  \n",
       "\n",
       "[3214 rows x 21 columns]"
      ]
     },
     "execution_count": 26,
     "metadata": {},
     "output_type": "execute_result"
    }
   ],
   "source": [
    "data"
   ]
  },
  {
   "cell_type": "code",
   "execution_count": 27,
   "metadata": {},
   "outputs": [],
   "source": [
    "data = data.drop(\n",
    "    columns=[\n",
    "        'mb_used', \n",
    "        'age', \n",
    "        'churn_date', \n",
    "        'first_name', \n",
    "        'last_name', \n",
    "        'reg_date',\n",
    "        'messages_included', \n",
    "        'mb_per_month_included',\n",
    "        'minutes_included', \n",
    "        'rub_monthly_fee', \n",
    "        'rub_per_gb', \n",
    "        'rub_per_message',\n",
    "        'rub_per_minute'], \n",
    "    axis=1\n",
    ")\n",
    "data['revenue'] = data['revenue'].astype('int64')"
   ]
  },
  {
   "cell_type": "code",
   "execution_count": 28,
   "metadata": {
    "scrolled": false
   },
   "outputs": [
    {
     "name": "stdout",
     "output_type": "stream",
     "text": [
      "<class 'pandas.core.frame.DataFrame'>\n",
      "Int64Index: 3214 entries, 0 to 3214\n",
      "Data columns (total 8 columns):\n",
      "user_id            3214 non-null int64\n",
      "month              3214 non-null period[M]\n",
      "tariff_duration    3214 non-null float64\n",
      "messages           3214 non-null float64\n",
      "gb_used            3214 non-null float64\n",
      "city               3214 non-null object\n",
      "tariff_name        3214 non-null object\n",
      "revenue            3214 non-null int64\n",
      "dtypes: float64(3), int64(2), object(2), period[M](1)\n",
      "memory usage: 226.0+ KB\n"
     ]
    }
   ],
   "source": [
    "data.info()"
   ]
  },
  {
   "cell_type": "markdown",
   "metadata": {},
   "source": [
    "## Анализ данных"
   ]
  },
  {
   "cell_type": "markdown",
   "metadata": {},
   "source": [
    "### Описание поведения клиентов"
   ]
  },
  {
   "cell_type": "markdown",
   "metadata": {},
   "source": [
    "Опишем поведение клиентов оператора, исходя из выборки. Сколько минут разговора, сколько сообщений и какой объём интернет-трафика требуется пользователям каждого тарифа в месяц? Определим среднее количество, дисперсию и стандартное отклонение. Построим гистограммы. Опишем распределения."
   ]
  },
  {
   "cell_type": "code",
   "execution_count": 29,
   "metadata": {},
   "outputs": [
    {
     "data": {
      "text/html": [
       "<div>\n",
       "<style scoped>\n",
       "    .dataframe tbody tr th:only-of-type {\n",
       "        vertical-align: middle;\n",
       "    }\n",
       "\n",
       "    .dataframe tbody tr th {\n",
       "        vertical-align: top;\n",
       "    }\n",
       "\n",
       "    .dataframe thead th {\n",
       "        text-align: right;\n",
       "    }\n",
       "</style>\n",
       "<table border=\"1\" class=\"dataframe\">\n",
       "  <thead>\n",
       "    <tr style=\"text-align: right;\">\n",
       "      <th></th>\n",
       "      <th>user_id</th>\n",
       "      <th>month</th>\n",
       "      <th>calls</th>\n",
       "      <th>messages</th>\n",
       "      <th>internet</th>\n",
       "      <th>city</th>\n",
       "      <th>tariff</th>\n",
       "      <th>revenue</th>\n",
       "    </tr>\n",
       "  </thead>\n",
       "  <tbody>\n",
       "    <tr>\n",
       "      <td>0</td>\n",
       "      <td>1000</td>\n",
       "      <td>2018-05</td>\n",
       "      <td>159.0</td>\n",
       "      <td>22.0</td>\n",
       "      <td>3.0</td>\n",
       "      <td>Краснодар</td>\n",
       "      <td>ultra</td>\n",
       "      <td>1950</td>\n",
       "    </tr>\n",
       "    <tr>\n",
       "      <td>1</td>\n",
       "      <td>1000</td>\n",
       "      <td>2018-06</td>\n",
       "      <td>172.0</td>\n",
       "      <td>60.0</td>\n",
       "      <td>23.0</td>\n",
       "      <td>Краснодар</td>\n",
       "      <td>ultra</td>\n",
       "      <td>1950</td>\n",
       "    </tr>\n",
       "    <tr>\n",
       "      <td>2</td>\n",
       "      <td>1000</td>\n",
       "      <td>2018-07</td>\n",
       "      <td>340.0</td>\n",
       "      <td>75.0</td>\n",
       "      <td>14.0</td>\n",
       "      <td>Краснодар</td>\n",
       "      <td>ultra</td>\n",
       "      <td>1950</td>\n",
       "    </tr>\n",
       "    <tr>\n",
       "      <td>3</td>\n",
       "      <td>1000</td>\n",
       "      <td>2018-08</td>\n",
       "      <td>408.0</td>\n",
       "      <td>81.0</td>\n",
       "      <td>14.0</td>\n",
       "      <td>Краснодар</td>\n",
       "      <td>ultra</td>\n",
       "      <td>1950</td>\n",
       "    </tr>\n",
       "    <tr>\n",
       "      <td>4</td>\n",
       "      <td>1000</td>\n",
       "      <td>2018-09</td>\n",
       "      <td>466.0</td>\n",
       "      <td>57.0</td>\n",
       "      <td>15.0</td>\n",
       "      <td>Краснодар</td>\n",
       "      <td>ultra</td>\n",
       "      <td>1950</td>\n",
       "    </tr>\n",
       "    <tr>\n",
       "      <td>...</td>\n",
       "      <td>...</td>\n",
       "      <td>...</td>\n",
       "      <td>...</td>\n",
       "      <td>...</td>\n",
       "      <td>...</td>\n",
       "      <td>...</td>\n",
       "      <td>...</td>\n",
       "      <td>...</td>\n",
       "    </tr>\n",
       "    <tr>\n",
       "      <td>3210</td>\n",
       "      <td>1489</td>\n",
       "      <td>2018-08</td>\n",
       "      <td>0.0</td>\n",
       "      <td>17.0</td>\n",
       "      <td>11.0</td>\n",
       "      <td>Санкт-Петербург</td>\n",
       "      <td>smart</td>\n",
       "      <td>550</td>\n",
       "    </tr>\n",
       "    <tr>\n",
       "      <td>3211</td>\n",
       "      <td>1489</td>\n",
       "      <td>2018-09</td>\n",
       "      <td>0.0</td>\n",
       "      <td>32.0</td>\n",
       "      <td>17.0</td>\n",
       "      <td>Санкт-Петербург</td>\n",
       "      <td>smart</td>\n",
       "      <td>950</td>\n",
       "    </tr>\n",
       "    <tr>\n",
       "      <td>3212</td>\n",
       "      <td>1489</td>\n",
       "      <td>2018-10</td>\n",
       "      <td>0.0</td>\n",
       "      <td>21.0</td>\n",
       "      <td>20.0</td>\n",
       "      <td>Санкт-Петербург</td>\n",
       "      <td>smart</td>\n",
       "      <td>1550</td>\n",
       "    </tr>\n",
       "    <tr>\n",
       "      <td>3213</td>\n",
       "      <td>1489</td>\n",
       "      <td>2018-11</td>\n",
       "      <td>0.0</td>\n",
       "      <td>20.0</td>\n",
       "      <td>18.0</td>\n",
       "      <td>Санкт-Петербург</td>\n",
       "      <td>smart</td>\n",
       "      <td>1150</td>\n",
       "    </tr>\n",
       "    <tr>\n",
       "      <td>3214</td>\n",
       "      <td>1489</td>\n",
       "      <td>2018-12</td>\n",
       "      <td>0.0</td>\n",
       "      <td>35.0</td>\n",
       "      <td>17.0</td>\n",
       "      <td>Санкт-Петербург</td>\n",
       "      <td>smart</td>\n",
       "      <td>950</td>\n",
       "    </tr>\n",
       "  </tbody>\n",
       "</table>\n",
       "<p>3214 rows × 8 columns</p>\n",
       "</div>"
      ],
      "text/plain": [
       "      user_id    month  calls  messages  internet             city tariff  \\\n",
       "0        1000  2018-05  159.0      22.0       3.0        Краснодар  ultra   \n",
       "1        1000  2018-06  172.0      60.0      23.0        Краснодар  ultra   \n",
       "2        1000  2018-07  340.0      75.0      14.0        Краснодар  ultra   \n",
       "3        1000  2018-08  408.0      81.0      14.0        Краснодар  ultra   \n",
       "4        1000  2018-09  466.0      57.0      15.0        Краснодар  ultra   \n",
       "...       ...      ...    ...       ...       ...              ...    ...   \n",
       "3210     1489  2018-08    0.0      17.0      11.0  Санкт-Петербург  smart   \n",
       "3211     1489  2018-09    0.0      32.0      17.0  Санкт-Петербург  smart   \n",
       "3212     1489  2018-10    0.0      21.0      20.0  Санкт-Петербург  smart   \n",
       "3213     1489  2018-11    0.0      20.0      18.0  Санкт-Петербург  smart   \n",
       "3214     1489  2018-12    0.0      35.0      17.0  Санкт-Петербург  smart   \n",
       "\n",
       "      revenue  \n",
       "0        1950  \n",
       "1        1950  \n",
       "2        1950  \n",
       "3        1950  \n",
       "4        1950  \n",
       "...       ...  \n",
       "3210      550  \n",
       "3211      950  \n",
       "3212     1550  \n",
       "3213     1150  \n",
       "3214      950  \n",
       "\n",
       "[3214 rows x 8 columns]"
      ]
     },
     "metadata": {},
     "output_type": "display_data"
    }
   ],
   "source": [
    "# Для удобства восприятия переименуем столбцы.\n",
    "data.columns=['user_id', 'month', 'calls', 'messages', 'internet', 'city','tariff', 'revenue']\n",
    "display(data)"
   ]
  },
  {
   "cell_type": "code",
   "execution_count": 30,
   "metadata": {},
   "outputs": [
    {
     "data": {
      "text/html": [
       "<div>\n",
       "<style scoped>\n",
       "    .dataframe tbody tr th:only-of-type {\n",
       "        vertical-align: middle;\n",
       "    }\n",
       "\n",
       "    .dataframe tbody tr th {\n",
       "        vertical-align: top;\n",
       "    }\n",
       "\n",
       "    .dataframe thead tr th {\n",
       "        text-align: left;\n",
       "    }\n",
       "\n",
       "    .dataframe thead tr:last-of-type th {\n",
       "        text-align: right;\n",
       "    }\n",
       "</style>\n",
       "<table border=\"1\" class=\"dataframe\">\n",
       "  <thead>\n",
       "    <tr>\n",
       "      <th></th>\n",
       "      <th colspan=\"3\" halign=\"left\">mean</th>\n",
       "      <th colspan=\"3\" halign=\"left\">var</th>\n",
       "      <th colspan=\"3\" halign=\"left\">std</th>\n",
       "    </tr>\n",
       "    <tr>\n",
       "      <th></th>\n",
       "      <th>calls</th>\n",
       "      <th>internet</th>\n",
       "      <th>messages</th>\n",
       "      <th>calls</th>\n",
       "      <th>internet</th>\n",
       "      <th>messages</th>\n",
       "      <th>calls</th>\n",
       "      <th>internet</th>\n",
       "      <th>messages</th>\n",
       "    </tr>\n",
       "    <tr>\n",
       "      <th>tariff</th>\n",
       "      <th></th>\n",
       "      <th></th>\n",
       "      <th></th>\n",
       "      <th></th>\n",
       "      <th></th>\n",
       "      <th></th>\n",
       "      <th></th>\n",
       "      <th></th>\n",
       "      <th></th>\n",
       "    </tr>\n",
       "  </thead>\n",
       "  <tbody>\n",
       "    <tr>\n",
       "      <td>smart</td>\n",
       "      <td>417.934948</td>\n",
       "      <td>16.328847</td>\n",
       "      <td>33.384029</td>\n",
       "      <td>36219.315784</td>\n",
       "      <td>33.028705</td>\n",
       "      <td>796.812958</td>\n",
       "      <td>190.313730</td>\n",
       "      <td>5.747061</td>\n",
       "      <td>28.227876</td>\n",
       "    </tr>\n",
       "    <tr>\n",
       "      <td>ultra</td>\n",
       "      <td>526.623350</td>\n",
       "      <td>19.494416</td>\n",
       "      <td>49.363452</td>\n",
       "      <td>100873.633397</td>\n",
       "      <td>97.091686</td>\n",
       "      <td>2285.266143</td>\n",
       "      <td>317.606098</td>\n",
       "      <td>9.853511</td>\n",
       "      <td>47.804457</td>\n",
       "    </tr>\n",
       "  </tbody>\n",
       "</table>\n",
       "</div>"
      ],
      "text/plain": [
       "              mean                                  var             \\\n",
       "             calls   internet   messages          calls   internet   \n",
       "tariff                                                               \n",
       "smart   417.934948  16.328847  33.384029   36219.315784  33.028705   \n",
       "ultra   526.623350  19.494416  49.363452  100873.633397  97.091686   \n",
       "\n",
       "                            std                       \n",
       "           messages       calls  internet   messages  \n",
       "tariff                                                \n",
       "smart    796.812958  190.313730  5.747061  28.227876  \n",
       "ultra   2285.266143  317.606098  9.853511  47.804457  "
      ]
     },
     "execution_count": 30,
     "metadata": {},
     "output_type": "execute_result"
    }
   ],
   "source": [
    "data_pivot = data.pivot_table(\n",
    "    index='tariff',\n",
    "    values=['calls', 'messages', 'internet'],\n",
    "    aggfunc=['mean', 'var', 'std']\n",
    ")\n",
    "data_pivot"
   ]
  },
  {
   "cell_type": "code",
   "execution_count": 31,
   "metadata": {
    "scrolled": false
   },
   "outputs": [
    {
     "data": {
      "image/png": "[encoded data removed]",
      "text/plain": [
       "<Figure size 648x432 with 1 Axes>"
      ]
     },
     "metadata": {
      "needs_background": "light"
     },
     "output_type": "display_data"
    }
   ],
   "source": [
    "fig, ax = plt.subplots()\n",
    "\n",
    "plt.hist(\n",
    "    [\n",
    "        data[data['tariff'] == 'smart']['calls'], \n",
    "    ], \n",
    "    density=True,\n",
    "    label='smart',\n",
    "    alpha=0.5\n",
    ")\n",
    "\n",
    "plt.hist(\n",
    "    [\n",
    "        data[data['tariff'] == 'ultra']['calls'], \n",
    "    ], \n",
    "    density=True,\n",
    "    label='ultra',\n",
    "    alpha=0.5\n",
    ")\n",
    "\n",
    "fig.set_figwidth(9)\n",
    "fig.set_figheight(6)\n",
    "fig.suptitle('Гистограмма количества звонков в месяц', fontsize = 15)\n",
    "\n",
    "ax.set_xlabel('Продолжительность звонков в месяц, мин.')\n",
    "ax.set_ylabel('Плотность частоты')\n",
    "\n",
    "plt.legend()\n",
    "plt.show()"
   ]
  },
  {
   "cell_type": "markdown",
   "metadata": {},
   "source": [
    "По данной гистограмме видно что пользователи тарифа Смарт стараются вписаться в лимит 500 минут разговоров в месяц и редко выходят за его рамки. У пользователей тарифа Ультра потребление минут несколько шире, но и лимит гораздо больше."
   ]
  },
  {
   "cell_type": "code",
   "execution_count": 32,
   "metadata": {},
   "outputs": [
    {
     "data": {
      "image/png": "[encoded data removed]",
      "text/plain": [
       "<Figure size 648x432 with 1 Axes>"
      ]
     },
     "metadata": {
      "needs_background": "light"
     },
     "output_type": "display_data"
    }
   ],
   "source": [
    "fig, ax = plt.subplots()\n",
    "\n",
    "plt.hist(\n",
    "    [\n",
    "        data[data['tariff'] == 'smart']['messages'], \n",
    "    ], \n",
    "    density=True,\n",
    "    label='smart',\n",
    "    alpha=0.5\n",
    ")\n",
    "\n",
    "plt.hist(\n",
    "    [\n",
    "        data[data['tariff'] == 'ultra']['messages'], \n",
    "    ], \n",
    "    density=True,\n",
    "    label='ultra',\n",
    "    alpha=0.5\n",
    ")\n",
    "\n",
    "fig.set_figwidth(9)\n",
    "fig.set_figheight(6)\n",
    "fig.suptitle('Гистограмма количества сообщений в месяц', fontsize = 15)\n",
    "\n",
    "ax.set_xlabel('Количество сообщений в месяц, шт.')\n",
    "ax.set_ylabel('Плотность частоты')\n",
    "\n",
    "plt.legend()\n",
    "plt.show()"
   ]
  },
  {
   "cell_type": "markdown",
   "metadata": {},
   "source": [
    "Количество сообщений нахиться на пике в диапазоне от 0 до 30 в месяц на обоих тарифах. Это может говорить о непопулярности смс в современном мире и перетечению пользователей в мир мессенджеров."
   ]
  },
  {
   "cell_type": "code",
   "execution_count": 33,
   "metadata": {},
   "outputs": [
    {
     "data": {
      "image/png": "[encoded data removed]",
      "text/plain": [
       "<Figure size 648x432 with 1 Axes>"
      ]
     },
     "metadata": {
      "needs_background": "light"
     },
     "output_type": "display_data"
    }
   ],
   "source": [
    "fig, ax = plt.subplots()\n",
    "\n",
    "plt.hist(\n",
    "    [\n",
    "        data[data['tariff'] == 'smart']['internet'], \n",
    "    ], \n",
    "    density=True,\n",
    "    label='smart',\n",
    "    alpha=0.5\n",
    ")\n",
    "\n",
    "plt.hist(\n",
    "    [\n",
    "        data[data['tariff'] == 'ultra']['internet'], \n",
    "    ], \n",
    "    density=True,\n",
    "    label='ultra',\n",
    "    alpha=0.5\n",
    ")\n",
    "\n",
    "\n",
    "fig.set_figwidth(9)\n",
    "fig.set_figheight(6)\n",
    "fig.suptitle('Гистограмма объема интернет трафика в месяц', fontsize = 15)\n",
    "\n",
    "ax.set_xlabel('Объем интернет трафика в месяц, Гб')\n",
    "ax.set_ylabel('Плотность частоты')\n",
    "\n",
    "plt.legend()\n",
    "plt.show()"
   ]
  },
  {
   "cell_type": "markdown",
   "metadata": {},
   "source": [
    "Интернет трафик характеризуется пиком в районе 10 - 20 Гб в месяц для обоих тарифов. Значит можно сделать вывод, что всем пользователям, вне зависимости от тарифа, необходимо 10 - 20 Гб в месяц."
   ]
  },
  {
   "cell_type": "markdown",
   "metadata": {},
   "source": [
    "## Проверка гипотез"
   ]
  },
  {
   "cell_type": "markdown",
   "metadata": {},
   "source": [
    "Проверим гипотезу о равенстве средней выручке пользователей тарифов «Ультра» и «Смарт». Альтернативная гипотеза говорит о их различии. Для повышения точности примем уровень статистической значимости 1%."
   ]
  },
  {
   "cell_type": "code",
   "execution_count": 34,
   "metadata": {},
   "outputs": [
    {
     "name": "stdout",
     "output_type": "stream",
     "text": [
      "p-значение:  4.2606313931076085e-250\n",
      "Отвергаем нулевую гипотезу\n"
     ]
    }
   ],
   "source": [
    "ultra = data[data['tariff'] == 'ultra']['revenue']\n",
    "smart = data[data['tariff'] == 'smart']['revenue']\n",
    "alpha = .01 # критический уровень статистической значимости\n",
    "# если p-value окажется меньше него - отвегнем гипотезу\n",
    "\n",
    "results = st.ttest_ind(\n",
    "    ultra, \n",
    "    smart,\n",
    "    equal_var = False\n",
    ")\n",
    "\n",
    "print('p-значение: ', results.pvalue)\n",
    "\n",
    "if results.pvalue < alpha:\n",
    "    print(\"Отвергаем нулевую гипотезу\")\n",
    "else:\n",
    "    print(\"Не получилось отвергнуть нулевую гипотезу\") "
   ]
  },
  {
   "cell_type": "code",
   "execution_count": 35,
   "metadata": {
    "scrolled": false
   },
   "outputs": [
    {
     "data": {
      "text/plain": [
       "'Средняя выручка тарифа Смарт в месяц:'"
      ]
     },
     "metadata": {},
     "output_type": "display_data"
    },
    {
     "data": {
      "text/plain": [
       "1289.9735307312696"
      ]
     },
     "metadata": {},
     "output_type": "display_data"
    },
    {
     "data": {
      "text/plain": [
       "'Средняя выручка тарифа Ультра в месяц:'"
      ]
     },
     "metadata": {},
     "output_type": "display_data"
    },
    {
     "data": {
      "text/plain": [
       "2070.1522842639592"
      ]
     },
     "metadata": {},
     "output_type": "display_data"
    }
   ],
   "source": [
    "revenue_smart = data[data['tariff'] == 'smart']['revenue'].mean()\n",
    "revenue_ultra= data[data['tariff'] == 'ultra']['revenue'].mean()\n",
    "\n",
    "display(\n",
    "    'Средняя выручка тарифа Смарт в месяц:', revenue_smart, \n",
    "    'Средняя выручка тарифа Ультра в месяц:', revenue_ultra,\n",
    ")"
   ]
  },
  {
   "cell_type": "markdown",
   "metadata": {},
   "source": [
    "Проверим гипотезу, что средняя выручка пользователей из Москвы равна выручке пользователей из других регионов. Альтернативная говорит о их различии."
   ]
  },
  {
   "cell_type": "code",
   "execution_count": 36,
   "metadata": {},
   "outputs": [
    {
     "name": "stdout",
     "output_type": "stream",
     "text": [
      "p-значение:  0.5257376663729298\n",
      "Не получилось отвергнуть нулевую гипотезу\n"
     ]
    }
   ],
   "source": [
    "revenue_region = data[data['city'] != 'Москва']['revenue']\n",
    "revenue_moscow = data[data['city'] == 'Москва']['revenue']\n",
    "alpha = .01 # критический уровень статистической значимости\n",
    "# если p-value окажется меньше него - отвегнем гипотезу\n",
    "\n",
    "results = st.ttest_ind(\n",
    "    revenue_moscow, \n",
    "    revenue_region,\n",
    "    equal_var = False\n",
    ")\n",
    "\n",
    "print('p-значение: ', results.pvalue)\n",
    "\n",
    "if results.pvalue < alpha:\n",
    "    print(\"Отвергаем нулевую гипотезу\")\n",
    "else:\n",
    "    print(\"Не получилось отвергнуть нулевую гипотезу\") "
   ]
  },
  {
   "cell_type": "markdown",
   "metadata": {},
   "source": [
    "## Общий вывод"
   ]
  },
  {
   "cell_type": "markdown",
   "metadata": {},
   "source": [
    "Из проведенного исследования следует, что судя по средней выручке, коммерческому департаменту следует скорректировать рекламный бюджет в сторону тарифа \"Ультра\". Но в тоже время мы видим, что средняя разница между выручкой и ежемесячной платой по тарифу \"Смарт\" выше, поэтому, вероятно следует пересмотреть условия тарификации, так как клиенты на этом тарифе чаще превышает предусмотренный лимит. Так как гипотеза о выручке равенстве средней выручке в Москве и регионах подтвердилась, то на Мсокву не стоит делать отдельного акцента."
   ]
  },
  {
   "cell_type": "markdown",
   "metadata": {},
   "source": [
    "<div class=\"alert alert-info\">\n",
    "<font size=\"5\"><b>Комментарий ревьюера 2</b></font>\n",
    "\n",
    "Большая часть помарок исправлена. Отличная работа. Скорректируй неточность при обработке пропусков. Как сделаешь это, присылай проект снова. Постараюсь проверить твой проект как можно скорее :)\n",
    "\n",
    "</div>"
   ]
  },
  {
   "cell_type": "markdown",
   "metadata": {},
   "source": [
    "<div class=\"alert alert-info\">\n",
    "<font size=\"5\"><b>Комментарий студента 2</b></font>\n",
    "\n",
    "Спасибо большое за ревью. Учту твои замечания в дельнейщем (как никак впереди первый сборный проект) и буду внимательнее работать над проектом. Спасибо!\n",
    "    \n",
    "</div>"
   ]
  }
 ],
 "metadata": {
  "ExecuteTimeLog": [
   {
    "duration": 3,
    "start_time": "2022-01-12T11:15:27.256Z"
   },
   {
    "duration": 799,
    "start_time": "2022-01-12T11:21:02.539Z"
   },
   {
    "duration": 251,
    "start_time": "2022-01-12T11:22:49.551Z"
   },
   {
    "duration": 377,
    "start_time": "2022-01-12T11:23:31.829Z"
   },
   {
    "duration": 20,
    "start_time": "2022-01-12T11:23:54.278Z"
   },
   {
    "duration": 26,
    "start_time": "2022-01-12T11:24:22.911Z"
   },
   {
    "duration": 21,
    "start_time": "2022-01-12T11:25:09.216Z"
   },
   {
    "duration": 21,
    "start_time": "2022-01-12T11:25:41.935Z"
   },
   {
    "duration": 16,
    "start_time": "2022-01-12T11:25:41.958Z"
   },
   {
    "duration": 10,
    "start_time": "2022-01-12T11:25:41.976Z"
   },
   {
    "duration": 11,
    "start_time": "2022-01-12T11:25:41.988Z"
   },
   {
    "duration": 144,
    "start_time": "2022-01-12T18:13:29.898Z"
   },
   {
    "duration": 119,
    "start_time": "2022-01-12T18:17:01.580Z"
   },
   {
    "duration": 910,
    "start_time": "2022-01-12T18:17:09.612Z"
   },
   {
    "duration": 554,
    "start_time": "2022-01-12T18:17:10.525Z"
   },
   {
    "duration": 41,
    "start_time": "2022-01-12T18:17:11.082Z"
   },
   {
    "duration": 33,
    "start_time": "2022-01-12T18:17:11.126Z"
   },
   {
    "duration": 51,
    "start_time": "2022-01-12T18:17:11.161Z"
   },
   {
    "duration": 17,
    "start_time": "2022-01-12T18:17:11.215Z"
   },
   {
    "duration": 27,
    "start_time": "2022-01-12T18:17:11.234Z"
   },
   {
    "duration": 124,
    "start_time": "2022-01-12T18:17:11.263Z"
   },
   {
    "duration": 46,
    "start_time": "2022-01-12T18:18:06.887Z"
   },
   {
    "duration": 4,
    "start_time": "2022-01-12T18:21:13.762Z"
   },
   {
    "duration": 558,
    "start_time": "2022-01-12T18:21:13.769Z"
   },
   {
    "duration": 36,
    "start_time": "2022-01-12T18:21:14.330Z"
   },
   {
    "duration": 40,
    "start_time": "2022-01-12T18:21:14.369Z"
   },
   {
    "duration": 25,
    "start_time": "2022-01-12T18:21:14.411Z"
   },
   {
    "duration": 17,
    "start_time": "2022-01-12T18:21:14.439Z"
   },
   {
    "duration": 51,
    "start_time": "2022-01-12T18:21:14.458Z"
   },
   {
    "duration": 47,
    "start_time": "2022-01-12T18:21:14.512Z"
   },
   {
    "duration": 55,
    "start_time": "2022-01-12T18:21:14.562Z"
   },
   {
    "duration": 26,
    "start_time": "2022-01-12T18:21:14.620Z"
   },
   {
    "duration": 9958,
    "start_time": "2022-01-12T18:21:14.649Z"
   },
   {
    "duration": -41,
    "start_time": "2022-01-12T18:21:24.651Z"
   },
   {
    "duration": -40,
    "start_time": "2022-01-12T18:21:24.652Z"
   },
   {
    "duration": 8,
    "start_time": "2022-01-12T18:21:40.942Z"
   },
   {
    "duration": 5,
    "start_time": "2022-01-12T18:21:41.863Z"
   },
   {
    "duration": 26,
    "start_time": "2022-01-12T18:23:42.959Z"
   },
   {
    "duration": 12,
    "start_time": "2022-01-12T18:23:55.783Z"
   },
   {
    "duration": 924,
    "start_time": "2022-01-13T04:34:49.090Z"
   },
   {
    "duration": 667,
    "start_time": "2022-01-13T04:34:50.017Z"
   },
   {
    "duration": 40,
    "start_time": "2022-01-13T04:34:50.688Z"
   },
   {
    "duration": 31,
    "start_time": "2022-01-13T04:34:50.731Z"
   },
   {
    "duration": 50,
    "start_time": "2022-01-13T04:34:50.765Z"
   },
   {
    "duration": 18,
    "start_time": "2022-01-13T04:34:50.818Z"
   },
   {
    "duration": 20,
    "start_time": "2022-01-13T04:34:50.838Z"
   },
   {
    "duration": 86,
    "start_time": "2022-01-13T04:34:50.862Z"
   },
   {
    "duration": 50,
    "start_time": "2022-01-13T04:34:50.951Z"
   },
   {
    "duration": 28,
    "start_time": "2022-01-13T04:34:51.004Z"
   },
   {
    "duration": 7,
    "start_time": "2022-01-13T04:34:51.035Z"
   },
   {
    "duration": 25,
    "start_time": "2022-01-13T04:34:51.045Z"
   },
   {
    "duration": 4,
    "start_time": "2022-01-13T05:40:01.901Z"
   },
   {
    "duration": 15,
    "start_time": "2022-01-13T05:42:49.862Z"
   },
   {
    "duration": 18,
    "start_time": "2022-01-13T05:43:52.398Z"
   },
   {
    "duration": 38,
    "start_time": "2022-01-13T05:44:14.066Z"
   },
   {
    "duration": 34,
    "start_time": "2022-01-13T05:44:33.607Z"
   },
   {
    "duration": 40,
    "start_time": "2022-01-13T05:46:44.677Z"
   },
   {
    "duration": 44,
    "start_time": "2022-01-13T05:51:21.380Z"
   },
   {
    "duration": 44,
    "start_time": "2022-01-13T05:56:16.411Z"
   },
   {
    "duration": 40,
    "start_time": "2022-01-13T05:57:11.318Z"
   },
   {
    "duration": 3,
    "start_time": "2022-01-13T07:46:42.955Z"
   },
   {
    "duration": 601,
    "start_time": "2022-01-13T07:46:42.961Z"
   },
   {
    "duration": 61,
    "start_time": "2022-01-13T07:46:43.566Z"
   },
   {
    "duration": 69,
    "start_time": "2022-01-13T07:46:43.633Z"
   },
   {
    "duration": 31,
    "start_time": "2022-01-13T07:46:43.706Z"
   },
   {
    "duration": 21,
    "start_time": "2022-01-13T07:46:43.739Z"
   },
   {
    "duration": 56,
    "start_time": "2022-01-13T07:46:43.764Z"
   },
   {
    "duration": 44,
    "start_time": "2022-01-13T07:46:43.825Z"
   },
   {
    "duration": 36,
    "start_time": "2022-01-13T07:46:43.902Z"
   },
   {
    "duration": 29,
    "start_time": "2022-01-13T07:46:43.940Z"
   },
   {
    "duration": 33,
    "start_time": "2022-01-13T07:46:43.972Z"
   },
   {
    "duration": 14,
    "start_time": "2022-01-13T07:46:44.008Z"
   },
   {
    "duration": 48,
    "start_time": "2022-01-13T07:46:44.024Z"
   },
   {
    "duration": 1635,
    "start_time": "2022-01-13T07:52:34.082Z"
   },
   {
    "duration": 22,
    "start_time": "2022-01-13T07:53:40.488Z"
   },
   {
    "duration": 56,
    "start_time": "2022-01-13T09:11:12.733Z"
   },
   {
    "duration": 34,
    "start_time": "2022-01-13T09:14:01.574Z"
   },
   {
    "duration": 1480,
    "start_time": "2022-01-13T09:16:27.062Z"
   },
   {
    "duration": 1527,
    "start_time": "2022-01-13T09:17:16.310Z"
   },
   {
    "duration": 428,
    "start_time": "2022-01-13T09:39:33.826Z"
   },
   {
    "duration": 424,
    "start_time": "2022-01-13T09:40:24.627Z"
   },
   {
    "duration": 391,
    "start_time": "2022-01-13T09:41:05.922Z"
   },
   {
    "duration": 375,
    "start_time": "2022-01-13T09:41:34.722Z"
   },
   {
    "duration": 383,
    "start_time": "2022-01-13T09:41:41.506Z"
   },
   {
    "duration": 445,
    "start_time": "2022-01-13T09:42:47.065Z"
   },
   {
    "duration": 3,
    "start_time": "2022-01-13T09:44:03.433Z"
   },
   {
    "duration": 624,
    "start_time": "2022-01-13T09:44:03.439Z"
   },
   {
    "duration": 55,
    "start_time": "2022-01-13T09:44:04.066Z"
   },
   {
    "duration": 78,
    "start_time": "2022-01-13T09:44:04.125Z"
   },
   {
    "duration": 27,
    "start_time": "2022-01-13T09:44:04.206Z"
   },
   {
    "duration": 18,
    "start_time": "2022-01-13T09:44:04.235Z"
   },
   {
    "duration": 62,
    "start_time": "2022-01-13T09:44:04.256Z"
   },
   {
    "duration": 85,
    "start_time": "2022-01-13T09:44:04.321Z"
   },
   {
    "duration": 33,
    "start_time": "2022-01-13T09:44:04.411Z"
   },
   {
    "duration": 53,
    "start_time": "2022-01-13T09:44:04.447Z"
   },
   {
    "duration": 7,
    "start_time": "2022-01-13T09:44:04.503Z"
   },
   {
    "duration": 8,
    "start_time": "2022-01-13T09:44:04.513Z"
   },
   {
    "duration": 42,
    "start_time": "2022-01-13T09:44:04.524Z"
   },
   {
    "duration": 567,
    "start_time": "2022-01-13T09:44:04.569Z"
   },
   {
    "duration": 17,
    "start_time": "2022-01-13T09:44:53.155Z"
   },
   {
    "duration": 33,
    "start_time": "2022-01-13T09:45:14.803Z"
   },
   {
    "duration": 407,
    "start_time": "2022-01-13T09:46:32.915Z"
   },
   {
    "duration": 53,
    "start_time": "2022-01-13T09:46:39.362Z"
   },
   {
    "duration": 487,
    "start_time": "2022-01-13T09:48:01.778Z"
   },
   {
    "duration": 74,
    "start_time": "2022-01-13T09:48:16.818Z"
   },
   {
    "duration": 437,
    "start_time": "2022-01-13T09:50:27.794Z"
   },
   {
    "duration": 369,
    "start_time": "2022-01-13T09:51:38.625Z"
   },
   {
    "duration": 578,
    "start_time": "2022-01-13T09:51:47.537Z"
   },
   {
    "duration": 442,
    "start_time": "2022-01-13T09:51:53.713Z"
   },
   {
    "duration": 80,
    "start_time": "2022-01-13T09:54:12.801Z"
   },
   {
    "duration": 4,
    "start_time": "2022-01-13T10:35:02.062Z"
   },
   {
    "duration": 689,
    "start_time": "2022-01-13T10:35:02.070Z"
   },
   {
    "duration": 51,
    "start_time": "2022-01-13T10:35:02.762Z"
   },
   {
    "duration": 45,
    "start_time": "2022-01-13T10:35:02.816Z"
   },
   {
    "duration": 51,
    "start_time": "2022-01-13T10:35:02.863Z"
   },
   {
    "duration": 19,
    "start_time": "2022-01-13T10:35:02.917Z"
   },
   {
    "duration": 21,
    "start_time": "2022-01-13T10:35:02.939Z"
   },
   {
    "duration": 46,
    "start_time": "2022-01-13T10:35:03.002Z"
   },
   {
    "duration": 51,
    "start_time": "2022-01-13T10:35:03.051Z"
   },
   {
    "duration": 27,
    "start_time": "2022-01-13T10:35:03.105Z"
   },
   {
    "duration": 7,
    "start_time": "2022-01-13T10:35:03.134Z"
   },
   {
    "duration": 9,
    "start_time": "2022-01-13T10:35:03.144Z"
   },
   {
    "duration": 71,
    "start_time": "2022-01-13T10:35:03.155Z"
   },
   {
    "duration": 27,
    "start_time": "2022-01-13T10:35:03.228Z"
   },
   {
    "duration": 9,
    "start_time": "2022-01-13T10:35:22.907Z"
   },
   {
    "duration": 26,
    "start_time": "2022-01-13T10:35:26.027Z"
   },
   {
    "duration": 50,
    "start_time": "2022-01-13T10:39:59.611Z"
   },
   {
    "duration": 62,
    "start_time": "2022-01-13T10:45:56.171Z"
   },
   {
    "duration": 54,
    "start_time": "2022-01-13T10:47:44.667Z"
   },
   {
    "duration": 504,
    "start_time": "2022-01-13T10:48:12.874Z"
   },
   {
    "duration": 906,
    "start_time": "2022-01-13T10:49:00.650Z"
   },
   {
    "duration": 1065,
    "start_time": "2022-01-13T10:50:56.314Z"
   },
   {
    "duration": 1136,
    "start_time": "2022-01-13T10:51:35.114Z"
   },
   {
    "duration": 51,
    "start_time": "2022-01-13T10:51:57.834Z"
   },
   {
    "duration": 406,
    "start_time": "2022-01-13T10:54:32.601Z"
   },
   {
    "duration": 52,
    "start_time": "2022-01-13T10:56:21.978Z"
   },
   {
    "duration": 76,
    "start_time": "2022-01-13T11:08:15.079Z"
   },
   {
    "duration": 54,
    "start_time": "2022-01-13T11:09:10.872Z"
   },
   {
    "duration": 458,
    "start_time": "2022-01-13T11:10:55.671Z"
   },
   {
    "duration": 59,
    "start_time": "2022-01-13T11:11:03.783Z"
   },
   {
    "duration": 422,
    "start_time": "2022-01-13T11:11:21.671Z"
   },
   {
    "duration": 63,
    "start_time": "2022-01-13T11:17:32.087Z"
   },
   {
    "duration": 64,
    "start_time": "2022-01-13T11:17:51.949Z"
   },
   {
    "duration": 173,
    "start_time": "2022-01-13T11:20:09.190Z"
   },
   {
    "duration": 46,
    "start_time": "2022-01-13T11:20:18.150Z"
   },
   {
    "duration": 945,
    "start_time": "2022-01-13T11:21:52.309Z"
   },
   {
    "duration": 970,
    "start_time": "2022-01-13T11:22:23.574Z"
   },
   {
    "duration": 68,
    "start_time": "2022-01-13T11:29:38.373Z"
   },
   {
    "duration": 593,
    "start_time": "2022-01-13T12:04:38.322Z"
   },
   {
    "duration": 61,
    "start_time": "2022-01-13T12:04:47.346Z"
   },
   {
    "duration": 3,
    "start_time": "2022-01-13T15:04:31.178Z"
   },
   {
    "duration": 592,
    "start_time": "2022-01-13T15:04:31.184Z"
   },
   {
    "duration": 54,
    "start_time": "2022-01-13T15:04:31.780Z"
   },
   {
    "duration": 76,
    "start_time": "2022-01-13T15:04:31.838Z"
   },
   {
    "duration": 27,
    "start_time": "2022-01-13T15:04:31.917Z"
   },
   {
    "duration": 19,
    "start_time": "2022-01-13T15:04:31.946Z"
   },
   {
    "duration": 50,
    "start_time": "2022-01-13T15:04:31.968Z"
   },
   {
    "duration": 347,
    "start_time": "2022-01-13T15:04:32.020Z"
   },
   {
    "duration": 61,
    "start_time": "2022-01-13T15:04:32.371Z"
   },
   {
    "duration": 34,
    "start_time": "2022-01-13T15:04:32.435Z"
   },
   {
    "duration": 50,
    "start_time": "2022-01-13T15:04:32.472Z"
   },
   {
    "duration": 8,
    "start_time": "2022-01-13T15:04:32.525Z"
   },
   {
    "duration": 7,
    "start_time": "2022-01-13T15:04:32.536Z"
   },
   {
    "duration": 75,
    "start_time": "2022-01-13T15:04:32.546Z"
   },
   {
    "duration": 79,
    "start_time": "2022-01-13T15:04:32.623Z"
   },
   {
    "duration": 80,
    "start_time": "2022-01-13T15:04:32.704Z"
   },
   {
    "duration": 77,
    "start_time": "2022-01-13T15:04:32.786Z"
   },
   {
    "duration": 1494,
    "start_time": "2022-01-13T15:06:07.700Z"
   },
   {
    "duration": 85,
    "start_time": "2022-01-13T15:06:28.383Z"
   },
   {
    "duration": 61,
    "start_time": "2022-01-13T15:06:43.206Z"
   },
   {
    "duration": 13,
    "start_time": "2022-01-13T15:14:48.152Z"
   },
   {
    "duration": 402,
    "start_time": "2022-01-13T15:17:24.919Z"
   },
   {
    "duration": 1528,
    "start_time": "2022-01-13T15:22:12.254Z"
   },
   {
    "duration": 10,
    "start_time": "2022-01-13T15:24:15.769Z"
   },
   {
    "duration": 23,
    "start_time": "2022-01-13T15:27:41.585Z"
   },
   {
    "duration": 66,
    "start_time": "2022-01-13T15:28:21.925Z"
   },
   {
    "duration": 69,
    "start_time": "2022-01-13T15:28:33.841Z"
   },
   {
    "duration": 82,
    "start_time": "2022-01-13T15:29:07.040Z"
   },
   {
    "duration": 66,
    "start_time": "2022-01-13T15:29:20.585Z"
   },
   {
    "duration": 1864,
    "start_time": "2022-01-13T15:29:42.320Z"
   },
   {
    "duration": 65,
    "start_time": "2022-01-13T15:30:03.584Z"
   },
   {
    "duration": 1618,
    "start_time": "2022-01-13T15:35:59.696Z"
   },
   {
    "duration": 377,
    "start_time": "2022-01-13T15:37:29.617Z"
   },
   {
    "duration": 394,
    "start_time": "2022-01-13T15:37:57.729Z"
   },
   {
    "duration": 143,
    "start_time": "2022-01-13T15:38:29.920Z"
   },
   {
    "duration": 385,
    "start_time": "2022-01-13T15:38:35.824Z"
   },
   {
    "duration": 13,
    "start_time": "2022-01-13T15:39:43.457Z"
   },
   {
    "duration": 28,
    "start_time": "2022-01-13T15:39:53.762Z"
   },
   {
    "duration": 398,
    "start_time": "2022-01-13T15:41:07.886Z"
   },
   {
    "duration": 37,
    "start_time": "2022-01-13T15:41:53.025Z"
   },
   {
    "duration": 66,
    "start_time": "2022-01-13T15:43:04.974Z"
   },
   {
    "duration": 39,
    "start_time": "2022-01-13T15:43:08.161Z"
   },
   {
    "duration": 65,
    "start_time": "2022-01-13T15:44:01.201Z"
   },
   {
    "duration": 124,
    "start_time": "2022-01-13T15:47:52.230Z"
   },
   {
    "duration": 81,
    "start_time": "2022-01-13T15:48:00.537Z"
   },
   {
    "duration": 4,
    "start_time": "2022-01-13T18:42:13.221Z"
   },
   {
    "duration": 660,
    "start_time": "2022-01-13T18:42:13.228Z"
   },
   {
    "duration": 55,
    "start_time": "2022-01-13T18:42:13.891Z"
   },
   {
    "duration": 78,
    "start_time": "2022-01-13T18:42:13.949Z"
   },
   {
    "duration": 36,
    "start_time": "2022-01-13T18:42:14.029Z"
   },
   {
    "duration": 45,
    "start_time": "2022-01-13T18:42:14.068Z"
   },
   {
    "duration": 26,
    "start_time": "2022-01-13T18:42:14.116Z"
   },
   {
    "duration": 383,
    "start_time": "2022-01-13T18:42:14.145Z"
   },
   {
    "duration": 42,
    "start_time": "2022-01-13T18:42:14.533Z"
   },
   {
    "duration": 57,
    "start_time": "2022-01-13T18:42:14.579Z"
   },
   {
    "duration": 28,
    "start_time": "2022-01-13T18:42:14.639Z"
   },
   {
    "duration": 31,
    "start_time": "2022-01-13T18:42:14.670Z"
   },
   {
    "duration": 7,
    "start_time": "2022-01-13T18:42:14.704Z"
   },
   {
    "duration": 40,
    "start_time": "2022-01-13T18:42:14.714Z"
   },
   {
    "duration": 102,
    "start_time": "2022-01-13T18:42:14.757Z"
   },
   {
    "duration": 91,
    "start_time": "2022-01-13T18:42:14.863Z"
   },
   {
    "duration": 88,
    "start_time": "2022-01-13T18:42:14.956Z"
   },
   {
    "duration": 102,
    "start_time": "2022-01-13T18:42:15.048Z"
   },
   {
    "duration": 19,
    "start_time": "2022-01-13T19:26:26.282Z"
   },
   {
    "duration": 17,
    "start_time": "2022-01-13T19:27:10.286Z"
   },
   {
    "duration": 16,
    "start_time": "2022-01-13T19:28:40.647Z"
   },
   {
    "duration": 16,
    "start_time": "2022-01-13T19:29:28.566Z"
   },
   {
    "duration": 410,
    "start_time": "2022-01-13T19:31:42.918Z"
   },
   {
    "duration": 397,
    "start_time": "2022-01-13T19:32:23.203Z"
   },
   {
    "duration": 835,
    "start_time": "2022-01-14T04:20:09.242Z"
   },
   {
    "duration": 504,
    "start_time": "2022-01-14T04:20:10.079Z"
   },
   {
    "duration": 54,
    "start_time": "2022-01-14T04:20:10.585Z"
   },
   {
    "duration": 42,
    "start_time": "2022-01-14T04:20:10.642Z"
   },
   {
    "duration": 48,
    "start_time": "2022-01-14T04:20:10.687Z"
   },
   {
    "duration": 17,
    "start_time": "2022-01-14T04:20:10.737Z"
   },
   {
    "duration": 19,
    "start_time": "2022-01-14T04:20:10.756Z"
   },
   {
    "duration": 313,
    "start_time": "2022-01-14T04:20:10.778Z"
   },
   {
    "duration": 55,
    "start_time": "2022-01-14T04:20:11.094Z"
   },
   {
    "duration": 32,
    "start_time": "2022-01-14T04:20:11.151Z"
   },
   {
    "duration": 41,
    "start_time": "2022-01-14T04:20:11.185Z"
   },
   {
    "duration": 7,
    "start_time": "2022-01-14T04:20:11.228Z"
   },
   {
    "duration": 8,
    "start_time": "2022-01-14T04:20:11.237Z"
   },
   {
    "duration": 39,
    "start_time": "2022-01-14T04:20:11.248Z"
   },
   {
    "duration": 89,
    "start_time": "2022-01-14T04:20:11.290Z"
   },
   {
    "duration": 82,
    "start_time": "2022-01-14T04:20:11.381Z"
   },
   {
    "duration": 67,
    "start_time": "2022-01-14T04:20:11.465Z"
   },
   {
    "duration": 66,
    "start_time": "2022-01-14T04:20:11.535Z"
   },
   {
    "duration": 31,
    "start_time": "2022-01-14T04:20:11.603Z"
   },
   {
    "duration": 376,
    "start_time": "2022-01-14T04:20:11.637Z"
   },
   {
    "duration": 363,
    "start_time": "2022-01-14T04:47:24.788Z"
   },
   {
    "duration": 8,
    "start_time": "2022-01-14T04:47:34.635Z"
   },
   {
    "duration": 9,
    "start_time": "2022-01-14T04:47:58.772Z"
   },
   {
    "duration": 93,
    "start_time": "2022-01-14T04:53:05.961Z"
   },
   {
    "duration": 321,
    "start_time": "2022-01-14T04:53:28.035Z"
   },
   {
    "duration": 295,
    "start_time": "2022-01-14T04:53:37.605Z"
   },
   {
    "duration": 319,
    "start_time": "2022-01-14T04:54:30.307Z"
   },
   {
    "duration": 307,
    "start_time": "2022-01-14T04:55:20.122Z"
   },
   {
    "duration": 40,
    "start_time": "2022-01-14T04:55:31.028Z"
   },
   {
    "duration": 35,
    "start_time": "2022-01-14T04:55:56.708Z"
   },
   {
    "duration": 9,
    "start_time": "2022-01-14T05:00:20.745Z"
   },
   {
    "duration": 38,
    "start_time": "2022-01-14T05:04:24.379Z"
   },
   {
    "duration": 42,
    "start_time": "2022-01-14T05:07:54.882Z"
   },
   {
    "duration": 299,
    "start_time": "2022-01-14T06:37:32.620Z"
   },
   {
    "duration": 309,
    "start_time": "2022-01-14T06:39:57.422Z"
   },
   {
    "duration": 376,
    "start_time": "2022-01-14T06:42:49.924Z"
   },
   {
    "duration": 301,
    "start_time": "2022-01-14T06:53:33.331Z"
   },
   {
    "duration": 371,
    "start_time": "2022-01-14T06:55:04.539Z"
   },
   {
    "duration": 320,
    "start_time": "2022-01-14T06:55:38.035Z"
   },
   {
    "duration": 331,
    "start_time": "2022-01-14T06:58:17.703Z"
   },
   {
    "duration": 326,
    "start_time": "2022-01-14T07:06:52.626Z"
   },
   {
    "duration": 327,
    "start_time": "2022-01-14T07:07:29.892Z"
   },
   {
    "duration": 607,
    "start_time": "2022-01-14T07:07:49.395Z"
   },
   {
    "duration": 554,
    "start_time": "2022-01-14T07:07:57.972Z"
   },
   {
    "duration": 330,
    "start_time": "2022-01-14T07:08:09.362Z"
   },
   {
    "duration": 353,
    "start_time": "2022-01-14T08:27:21.642Z"
   },
   {
    "duration": 328,
    "start_time": "2022-01-14T08:29:29.340Z"
   },
   {
    "duration": 383,
    "start_time": "2022-01-14T08:30:33.565Z"
   },
   {
    "duration": 409,
    "start_time": "2022-01-14T11:28:46.613Z"
   },
   {
    "duration": 416,
    "start_time": "2022-01-14T11:29:08.203Z"
   },
   {
    "duration": 13,
    "start_time": "2022-01-14T11:29:14.833Z"
   },
   {
    "duration": 14,
    "start_time": "2022-01-14T11:30:07.238Z"
   },
   {
    "duration": 12,
    "start_time": "2022-01-14T11:41:37.348Z"
   },
   {
    "duration": 16,
    "start_time": "2022-01-14T11:52:52.054Z"
   },
   {
    "duration": 1495,
    "start_time": "2022-01-16T13:34:53.144Z"
   },
   {
    "duration": 584,
    "start_time": "2022-01-16T13:34:54.643Z"
   },
   {
    "duration": 62,
    "start_time": "2022-01-16T13:34:55.230Z"
   },
   {
    "duration": 70,
    "start_time": "2022-01-16T13:34:55.294Z"
   },
   {
    "duration": 27,
    "start_time": "2022-01-16T13:34:55.368Z"
   },
   {
    "duration": 17,
    "start_time": "2022-01-16T13:34:55.398Z"
   },
   {
    "duration": 58,
    "start_time": "2022-01-16T13:34:55.418Z"
   },
   {
    "duration": 359,
    "start_time": "2022-01-16T13:34:55.478Z"
   },
   {
    "duration": 46,
    "start_time": "2022-01-16T13:34:55.841Z"
   },
   {
    "duration": 29,
    "start_time": "2022-01-16T13:34:55.891Z"
   },
   {
    "duration": 40,
    "start_time": "2022-01-16T13:34:55.923Z"
   },
   {
    "duration": 7,
    "start_time": "2022-01-16T13:34:55.965Z"
   },
   {
    "duration": 8,
    "start_time": "2022-01-16T13:34:55.975Z"
   },
   {
    "duration": 42,
    "start_time": "2022-01-16T13:34:55.985Z"
   },
   {
    "duration": 94,
    "start_time": "2022-01-16T13:34:56.030Z"
   },
   {
    "duration": 73,
    "start_time": "2022-01-16T13:34:56.127Z"
   },
   {
    "duration": 68,
    "start_time": "2022-01-16T13:34:56.202Z"
   },
   {
    "duration": 76,
    "start_time": "2022-01-16T13:34:56.272Z"
   },
   {
    "duration": 25,
    "start_time": "2022-01-16T13:34:56.351Z"
   },
   {
    "duration": 493,
    "start_time": "2022-01-16T13:34:56.379Z"
   },
   {
    "duration": 41,
    "start_time": "2022-01-16T13:34:56.874Z"
   },
   {
    "duration": 67,
    "start_time": "2022-01-16T13:34:56.917Z"
   },
   {
    "duration": 44,
    "start_time": "2022-01-16T13:34:56.987Z"
   },
   {
    "duration": 518,
    "start_time": "2022-01-16T13:34:57.034Z"
   },
   {
    "duration": 374,
    "start_time": "2022-01-16T13:34:57.555Z"
   },
   {
    "duration": 512,
    "start_time": "2022-01-16T13:34:57.931Z"
   },
   {
    "duration": 21,
    "start_time": "2022-01-16T13:34:58.449Z"
   },
   {
    "duration": 18,
    "start_time": "2022-01-16T13:34:58.472Z"
   },
   {
    "duration": 14,
    "start_time": "2022-01-16T13:34:58.493Z"
   },
   {
    "duration": 14,
    "start_time": "2022-01-16T13:37:00.417Z"
   },
   {
    "duration": 50,
    "start_time": "2022-01-16T13:37:43.733Z"
   },
   {
    "duration": 962,
    "start_time": "2022-01-19T15:33:59.252Z"
   },
   {
    "duration": 381,
    "start_time": "2022-01-19T15:34:00.216Z"
   },
   {
    "duration": 40,
    "start_time": "2022-01-19T15:34:00.599Z"
   },
   {
    "duration": 30,
    "start_time": "2022-01-19T15:34:00.640Z"
   },
   {
    "duration": 18,
    "start_time": "2022-01-19T15:34:00.672Z"
   },
   {
    "duration": 24,
    "start_time": "2022-01-19T15:34:00.691Z"
   },
   {
    "duration": 30,
    "start_time": "2022-01-19T15:34:00.717Z"
   },
   {
    "duration": 218,
    "start_time": "2022-01-19T15:34:00.749Z"
   },
   {
    "duration": 28,
    "start_time": "2022-01-19T15:34:00.969Z"
   },
   {
    "duration": 31,
    "start_time": "2022-01-19T15:34:00.999Z"
   },
   {
    "duration": 24,
    "start_time": "2022-01-19T15:34:01.032Z"
   },
   {
    "duration": 34,
    "start_time": "2022-01-19T15:34:01.058Z"
   },
   {
    "duration": 28,
    "start_time": "2022-01-19T15:34:01.094Z"
   },
   {
    "duration": 67,
    "start_time": "2022-01-19T15:34:01.123Z"
   },
   {
    "duration": 48,
    "start_time": "2022-01-19T15:34:17.685Z"
   },
   {
    "duration": 38,
    "start_time": "2022-01-19T15:34:18.316Z"
   },
   {
    "duration": 1112,
    "start_time": "2022-01-20T07:01:29.020Z"
   },
   {
    "duration": 409,
    "start_time": "2022-01-20T07:01:31.812Z"
   },
   {
    "duration": 45,
    "start_time": "2022-01-20T07:01:34.363Z"
   },
   {
    "duration": 138,
    "start_time": "2022-01-20T07:02:36.615Z"
   },
   {
    "duration": 181,
    "start_time": "2022-01-20T07:05:52.842Z"
   },
   {
    "duration": 6,
    "start_time": "2022-01-20T07:11:15.428Z"
   },
   {
    "duration": 16,
    "start_time": "2022-01-20T07:11:26.195Z"
   },
   {
    "duration": 44,
    "start_time": "2022-01-20T07:11:55.347Z"
   },
   {
    "duration": 53,
    "start_time": "2022-01-20T07:12:16.578Z"
   },
   {
    "duration": 44,
    "start_time": "2022-01-20T07:12:29.250Z"
   },
   {
    "duration": 63,
    "start_time": "2022-01-20T07:14:07.446Z"
   },
   {
    "duration": 60,
    "start_time": "2022-01-20T07:19:13.059Z"
   },
   {
    "duration": 70,
    "start_time": "2022-01-20T07:21:28.721Z"
   },
   {
    "duration": 62,
    "start_time": "2022-01-20T07:24:02.161Z"
   },
   {
    "duration": 229,
    "start_time": "2022-01-20T07:26:09.968Z"
   },
   {
    "duration": 355,
    "start_time": "2022-01-20T07:26:39.633Z"
   },
   {
    "duration": 62,
    "start_time": "2022-01-20T07:27:30.033Z"
   },
   {
    "duration": 64,
    "start_time": "2022-01-20T08:45:28.083Z"
   },
   {
    "duration": 349,
    "start_time": "2022-01-20T08:56:35.448Z"
   },
   {
    "duration": 13,
    "start_time": "2022-01-20T08:56:51.728Z"
   },
   {
    "duration": 17,
    "start_time": "2022-01-20T08:57:05.882Z"
   },
   {
    "duration": 19,
    "start_time": "2022-01-20T08:57:35.897Z"
   },
   {
    "duration": 17,
    "start_time": "2022-01-20T08:57:42.154Z"
   },
   {
    "duration": 16,
    "start_time": "2022-01-20T08:58:46.857Z"
   },
   {
    "duration": 273,
    "start_time": "2022-01-20T08:59:32.169Z"
   },
   {
    "duration": 15,
    "start_time": "2022-01-20T08:59:38.351Z"
   },
   {
    "duration": 183,
    "start_time": "2022-01-20T09:03:32.793Z"
   },
   {
    "duration": 18,
    "start_time": "2022-01-20T09:03:48.921Z"
   },
   {
    "duration": 22,
    "start_time": "2022-01-20T09:04:26.857Z"
   },
   {
    "duration": 15,
    "start_time": "2022-01-20T09:04:50.697Z"
   },
   {
    "duration": 160,
    "start_time": "2022-01-20T09:08:44.232Z"
   },
   {
    "duration": 153,
    "start_time": "2022-01-20T09:09:06.072Z"
   },
   {
    "duration": 157,
    "start_time": "2022-01-20T09:10:43.256Z"
   },
   {
    "duration": 161,
    "start_time": "2022-01-20T09:11:28.936Z"
   },
   {
    "duration": 4028,
    "start_time": "2022-01-20T09:11:50.872Z"
   },
   {
    "duration": 11,
    "start_time": "2022-01-20T09:12:09.960Z"
   },
   {
    "duration": 431,
    "start_time": "2022-01-20T09:20:19.016Z"
   },
   {
    "duration": 376,
    "start_time": "2022-01-20T09:20:28.777Z"
   },
   {
    "duration": 217,
    "start_time": "2022-01-20T09:21:04.856Z"
   },
   {
    "duration": 237,
    "start_time": "2022-01-20T09:23:14.618Z"
   },
   {
    "duration": 243,
    "start_time": "2022-01-20T09:34:40.678Z"
   },
   {
    "duration": 306,
    "start_time": "2022-01-20T09:43:41.892Z"
   },
   {
    "duration": 7,
    "start_time": "2022-01-20T09:47:57.188Z"
   },
   {
    "duration": 267,
    "start_time": "2022-01-20T09:48:15.748Z"
   },
   {
    "duration": 7,
    "start_time": "2022-01-20T09:48:20.692Z"
   },
   {
    "duration": 13,
    "start_time": "2022-01-20T09:50:05.747Z"
   },
   {
    "duration": 303,
    "start_time": "2022-01-20T09:50:36.980Z"
   },
   {
    "duration": 103,
    "start_time": "2022-01-20T09:51:12.947Z"
   },
   {
    "duration": 11,
    "start_time": "2022-01-20T09:51:53.475Z"
   },
   {
    "duration": 11,
    "start_time": "2022-01-20T09:52:13.875Z"
   },
   {
    "duration": 11,
    "start_time": "2022-01-20T09:52:23.636Z"
   },
   {
    "duration": 10,
    "start_time": "2022-01-20T09:52:33.812Z"
   },
   {
    "duration": 11,
    "start_time": "2022-01-20T09:52:41.555Z"
   },
   {
    "duration": 11,
    "start_time": "2022-01-20T09:53:34.998Z"
   },
   {
    "duration": 10,
    "start_time": "2022-01-20T09:54:47.763Z"
   },
   {
    "duration": 11,
    "start_time": "2022-01-20T09:54:55.012Z"
   },
   {
    "duration": 9,
    "start_time": "2022-01-20T10:46:19.453Z"
   },
   {
    "duration": 10,
    "start_time": "2022-01-20T10:46:26.414Z"
   },
   {
    "duration": 134,
    "start_time": "2022-01-20T10:46:41.692Z"
   },
   {
    "duration": 14,
    "start_time": "2022-01-20T10:46:49.260Z"
   },
   {
    "duration": 18,
    "start_time": "2022-01-20T10:48:20.595Z"
   },
   {
    "duration": 275,
    "start_time": "2022-01-20T10:50:21.468Z"
   },
   {
    "duration": 18,
    "start_time": "2022-01-20T10:51:47.262Z"
   },
   {
    "duration": 18,
    "start_time": "2022-01-20T10:51:58.140Z"
   },
   {
    "duration": 19,
    "start_time": "2022-01-20T10:53:46.509Z"
   },
   {
    "duration": 19,
    "start_time": "2022-01-20T10:54:05.125Z"
   },
   {
    "duration": 6710,
    "start_time": "2022-01-20T11:00:22.467Z"
   },
   {
    "duration": 384,
    "start_time": "2022-01-20T17:49:04.488Z"
   },
   {
    "duration": 972,
    "start_time": "2022-01-20T17:49:14.745Z"
   },
   {
    "duration": 376,
    "start_time": "2022-01-20T17:49:15.719Z"
   },
   {
    "duration": 39,
    "start_time": "2022-01-20T17:49:16.097Z"
   },
   {
    "duration": 226,
    "start_time": "2022-01-20T17:49:16.137Z"
   },
   {
    "duration": 29,
    "start_time": "2022-01-20T17:49:16.365Z"
   },
   {
    "duration": 227,
    "start_time": "2022-01-20T17:49:16.395Z"
   },
   {
    "duration": 29,
    "start_time": "2022-01-20T17:49:16.623Z"
   },
   {
    "duration": 9,
    "start_time": "2022-01-20T17:49:16.654Z"
   },
   {
    "duration": 24,
    "start_time": "2022-01-20T17:49:16.665Z"
   },
   {
    "duration": 17,
    "start_time": "2022-01-20T17:49:32.682Z"
   },
   {
    "duration": 18,
    "start_time": "2022-01-20T17:50:24.189Z"
   },
   {
    "duration": 17,
    "start_time": "2022-01-20T17:50:44.589Z"
   },
   {
    "duration": 18,
    "start_time": "2022-01-20T17:51:10.460Z"
   },
   {
    "duration": 8863,
    "start_time": "2022-01-20T17:58:34.002Z"
   },
   {
    "duration": 16,
    "start_time": "2022-01-20T17:58:51.436Z"
   },
   {
    "duration": 364,
    "start_time": "2022-01-20T18:11:39.067Z"
   },
   {
    "duration": 17,
    "start_time": "2022-01-20T18:11:50.965Z"
   },
   {
    "duration": 60,
    "start_time": "2022-01-20T18:19:10.964Z"
   },
   {
    "duration": 17,
    "start_time": "2022-01-20T18:19:33.559Z"
   },
   {
    "duration": 20,
    "start_time": "2022-01-20T18:20:00.134Z"
   },
   {
    "duration": 12,
    "start_time": "2022-01-20T18:20:21.487Z"
   },
   {
    "duration": 334,
    "start_time": "2022-01-20T18:20:36.758Z"
   },
   {
    "duration": 13,
    "start_time": "2022-01-20T18:20:50.887Z"
   },
   {
    "duration": 2,
    "start_time": "2022-01-20T18:21:00.538Z"
   },
   {
    "duration": 370,
    "start_time": "2022-01-20T18:21:00.542Z"
   },
   {
    "duration": 33,
    "start_time": "2022-01-20T18:21:00.914Z"
   },
   {
    "duration": 208,
    "start_time": "2022-01-20T18:21:00.949Z"
   },
   {
    "duration": 30,
    "start_time": "2022-01-20T18:21:01.159Z"
   },
   {
    "duration": 225,
    "start_time": "2022-01-20T18:21:01.191Z"
   },
   {
    "duration": 17,
    "start_time": "2022-01-20T18:21:01.419Z"
   },
   {
    "duration": 9,
    "start_time": "2022-01-20T18:21:01.438Z"
   },
   {
    "duration": 13,
    "start_time": "2022-01-20T18:21:01.449Z"
   },
   {
    "duration": 12,
    "start_time": "2022-01-20T18:21:01.464Z"
   },
   {
    "duration": 13,
    "start_time": "2022-01-20T18:21:04.958Z"
   },
   {
    "duration": 14,
    "start_time": "2022-01-20T18:21:17.430Z"
   },
   {
    "duration": 17,
    "start_time": "2022-01-20T18:22:14.511Z"
   },
   {
    "duration": 14,
    "start_time": "2022-01-20T18:22:46.134Z"
   },
   {
    "duration": 22,
    "start_time": "2022-01-20T18:31:04.109Z"
   },
   {
    "duration": 17,
    "start_time": "2022-01-20T18:31:22.512Z"
   },
   {
    "duration": 15,
    "start_time": "2022-01-20T18:31:30.400Z"
   },
   {
    "duration": 94,
    "start_time": "2022-01-20T18:39:53.654Z"
   },
   {
    "duration": 350,
    "start_time": "2022-01-20T18:40:15.968Z"
   },
   {
    "duration": 1100,
    "start_time": "2022-01-21T04:32:29.457Z"
   },
   {
    "duration": 405,
    "start_time": "2022-01-21T04:32:30.559Z"
   },
   {
    "duration": 43,
    "start_time": "2022-01-21T04:32:30.966Z"
   },
   {
    "duration": 238,
    "start_time": "2022-01-21T04:32:31.011Z"
   },
   {
    "duration": 42,
    "start_time": "2022-01-21T04:32:31.251Z"
   },
   {
    "duration": 231,
    "start_time": "2022-01-21T04:32:31.295Z"
   },
   {
    "duration": 34,
    "start_time": "2022-01-21T04:32:31.528Z"
   },
   {
    "duration": 15,
    "start_time": "2022-01-21T04:32:31.565Z"
   },
   {
    "duration": 28,
    "start_time": "2022-01-21T04:32:31.582Z"
   },
   {
    "duration": 324,
    "start_time": "2022-01-21T04:32:39.947Z"
   },
   {
    "duration": 19,
    "start_time": "2022-01-21T04:39:26.672Z"
   },
   {
    "duration": 19,
    "start_time": "2022-01-21T04:52:31.359Z"
   },
   {
    "duration": 400,
    "start_time": "2022-01-21T04:54:34.393Z"
   },
   {
    "duration": 21,
    "start_time": "2022-01-21T04:55:40.125Z"
   },
   {
    "duration": 263,
    "start_time": "2022-01-21T04:56:32.409Z"
   },
   {
    "duration": 256,
    "start_time": "2022-01-21T04:58:05.033Z"
   },
   {
    "duration": 431,
    "start_time": "2022-01-21T04:58:11.209Z"
   },
   {
    "duration": 473,
    "start_time": "2022-01-21T04:58:42.729Z"
   },
   {
    "duration": 46,
    "start_time": "2022-01-21T04:59:35.750Z"
   },
   {
    "duration": 37,
    "start_time": "2022-01-21T05:01:10.121Z"
   },
   {
    "duration": 39,
    "start_time": "2022-01-21T05:01:38.856Z"
   },
   {
    "duration": 17,
    "start_time": "2022-01-21T05:02:22.264Z"
   },
   {
    "duration": 6335,
    "start_time": "2022-01-21T05:05:47.903Z"
   },
   {
    "duration": 269,
    "start_time": "2022-01-21T05:06:50.248Z"
   },
   {
    "duration": 6397,
    "start_time": "2022-01-21T05:07:17.689Z"
   },
   {
    "duration": 574,
    "start_time": "2022-01-21T05:09:34.999Z"
   },
   {
    "duration": 101,
    "start_time": "2022-01-21T05:11:06.933Z"
   },
   {
    "duration": 240,
    "start_time": "2022-01-21T05:12:28.839Z"
   },
   {
    "duration": 662,
    "start_time": "2022-01-21T05:23:38.967Z"
   },
   {
    "duration": 82,
    "start_time": "2022-01-21T05:27:24.021Z"
   },
   {
    "duration": 512,
    "start_time": "2022-01-21T05:28:02.453Z"
   },
   {
    "duration": 85,
    "start_time": "2022-01-21T05:28:25.989Z"
   },
   {
    "duration": 121,
    "start_time": "2022-01-21T05:28:37.685Z"
   },
   {
    "duration": 455,
    "start_time": "2022-01-21T05:28:46.628Z"
   },
   {
    "duration": 264,
    "start_time": "2022-01-21T05:29:14.373Z"
   },
   {
    "duration": 83,
    "start_time": "2022-01-21T05:29:43.429Z"
   },
   {
    "duration": 340,
    "start_time": "2022-01-21T05:29:59.380Z"
   },
   {
    "duration": 302,
    "start_time": "2022-01-21T05:30:27.653Z"
   },
   {
    "duration": 84,
    "start_time": "2022-01-21T05:31:24.533Z"
   },
   {
    "duration": 272,
    "start_time": "2022-01-21T05:35:15.332Z"
   },
   {
    "duration": 6685,
    "start_time": "2022-01-21T05:35:51.012Z"
   },
   {
    "duration": 651,
    "start_time": "2022-01-21T05:36:11.507Z"
   },
   {
    "duration": 522,
    "start_time": "2022-01-21T05:41:08.243Z"
   },
   {
    "duration": 3307,
    "start_time": "2022-01-21T05:50:09.906Z"
   },
   {
    "duration": 3128,
    "start_time": "2022-01-21T05:51:55.457Z"
   },
   {
    "duration": 1003,
    "start_time": "2022-01-21T05:52:27.330Z"
   },
   {
    "duration": 1091,
    "start_time": "2022-01-21T05:52:52.625Z"
   },
   {
    "duration": 1024,
    "start_time": "2022-01-21T05:53:07.143Z"
   },
   {
    "duration": 3296,
    "start_time": "2022-01-21T05:53:15.011Z"
   },
   {
    "duration": 4281,
    "start_time": "2022-01-21T05:54:06.689Z"
   },
   {
    "duration": 4240,
    "start_time": "2022-01-21T05:55:23.185Z"
   },
   {
    "duration": 3,
    "start_time": "2022-01-21T05:56:56.206Z"
   },
   {
    "duration": 409,
    "start_time": "2022-01-21T05:56:56.211Z"
   },
   {
    "duration": 38,
    "start_time": "2022-01-21T05:56:56.623Z"
   },
   {
    "duration": 32,
    "start_time": "2022-01-21T05:56:56.663Z"
   },
   {
    "duration": 19,
    "start_time": "2022-01-21T05:56:56.697Z"
   },
   {
    "duration": 11,
    "start_time": "2022-01-21T05:56:56.718Z"
   },
   {
    "duration": 14,
    "start_time": "2022-01-21T05:56:56.760Z"
   },
   {
    "duration": 210,
    "start_time": "2022-01-21T05:56:56.777Z"
   },
   {
    "duration": 27,
    "start_time": "2022-01-21T05:56:56.989Z"
   },
   {
    "duration": 21,
    "start_time": "2022-01-21T05:56:57.018Z"
   },
   {
    "duration": 35,
    "start_time": "2022-01-21T05:56:57.041Z"
   },
   {
    "duration": 5,
    "start_time": "2022-01-21T05:56:57.078Z"
   },
   {
    "duration": 44,
    "start_time": "2022-01-21T05:56:57.084Z"
   },
   {
    "duration": 54,
    "start_time": "2022-01-21T05:56:57.129Z"
   },
   {
    "duration": 302,
    "start_time": "2022-01-21T05:57:04.496Z"
   },
   {
    "duration": 406,
    "start_time": "2022-01-21T06:01:30.960Z"
   },
   {
    "duration": 332,
    "start_time": "2022-01-21T06:01:55.823Z"
   },
   {
    "duration": 338,
    "start_time": "2022-01-21T06:08:24.239Z"
   },
   {
    "duration": 359,
    "start_time": "2022-01-21T06:12:49.198Z"
   },
   {
    "duration": 373,
    "start_time": "2022-01-21T06:13:18.867Z"
   },
   {
    "duration": 407,
    "start_time": "2022-01-21T06:13:55.198Z"
   },
   {
    "duration": 361,
    "start_time": "2022-01-21T06:14:33.152Z"
   },
   {
    "duration": 367,
    "start_time": "2022-01-21T06:15:28.702Z"
   },
   {
    "duration": 360,
    "start_time": "2022-01-21T06:16:41.071Z"
   },
   {
    "duration": 369,
    "start_time": "2022-01-21T06:16:46.302Z"
   },
   {
    "duration": 380,
    "start_time": "2022-01-21T06:18:10.590Z"
   },
   {
    "duration": 475,
    "start_time": "2022-01-21T06:20:18.016Z"
   },
   {
    "duration": 365,
    "start_time": "2022-01-21T06:20:38.255Z"
   },
   {
    "duration": 362,
    "start_time": "2022-01-21T06:20:58.238Z"
   },
   {
    "duration": 422,
    "start_time": "2022-01-21T06:25:54.851Z"
   },
   {
    "duration": 3,
    "start_time": "2022-01-21T06:26:02.132Z"
   },
   {
    "duration": 451,
    "start_time": "2022-01-21T06:26:02.139Z"
   },
   {
    "duration": 40,
    "start_time": "2022-01-21T06:26:02.592Z"
   },
   {
    "duration": 35,
    "start_time": "2022-01-21T06:26:02.634Z"
   },
   {
    "duration": 3,
    "start_time": "2022-01-21T07:15:45.314Z"
   },
   {
    "duration": 446,
    "start_time": "2022-01-21T07:15:45.319Z"
   },
   {
    "duration": 41,
    "start_time": "2022-01-21T07:15:45.767Z"
   },
   {
    "duration": 60,
    "start_time": "2022-01-21T07:15:45.811Z"
   },
   {
    "duration": 21,
    "start_time": "2022-01-21T07:15:45.873Z"
   },
   {
    "duration": 29,
    "start_time": "2022-01-21T07:15:45.896Z"
   },
   {
    "duration": 39,
    "start_time": "2022-01-21T07:15:45.927Z"
   },
   {
    "duration": 205,
    "start_time": "2022-01-21T07:15:45.970Z"
   },
   {
    "duration": 29,
    "start_time": "2022-01-21T07:15:46.178Z"
   },
   {
    "duration": 35,
    "start_time": "2022-01-21T07:15:46.209Z"
   },
   {
    "duration": 38,
    "start_time": "2022-01-21T07:15:46.246Z"
   },
   {
    "duration": 21,
    "start_time": "2022-01-21T07:15:46.285Z"
   },
   {
    "duration": 22,
    "start_time": "2022-01-21T07:15:46.308Z"
   },
   {
    "duration": 48,
    "start_time": "2022-01-21T07:15:46.332Z"
   },
   {
    "duration": 399,
    "start_time": "2022-01-21T07:15:46.382Z"
   },
   {
    "duration": 5,
    "start_time": "2022-01-21T07:18:45.998Z"
   },
   {
    "duration": 4,
    "start_time": "2022-01-21T07:19:04.129Z"
   },
   {
    "duration": 294,
    "start_time": "2022-01-21T07:27:06.831Z"
   },
   {
    "duration": 262,
    "start_time": "2022-01-21T07:27:24.279Z"
   },
   {
    "duration": 344,
    "start_time": "2022-01-21T07:28:33.224Z"
   },
   {
    "duration": 9,
    "start_time": "2022-01-21T07:28:40.040Z"
   },
   {
    "duration": 343,
    "start_time": "2022-01-21T07:29:00.621Z"
   },
   {
    "duration": 8,
    "start_time": "2022-01-21T07:29:08.810Z"
   },
   {
    "duration": 8,
    "start_time": "2022-01-21T07:29:30.199Z"
   },
   {
    "duration": 8,
    "start_time": "2022-01-21T07:30:16.806Z"
   },
   {
    "duration": 5,
    "start_time": "2022-01-21T07:30:26.168Z"
   },
   {
    "duration": 5,
    "start_time": "2022-01-21T07:30:32.205Z"
   },
   {
    "duration": 4,
    "start_time": "2022-01-21T07:30:41.757Z"
   },
   {
    "duration": 441,
    "start_time": "2022-01-21T07:30:41.766Z"
   },
   {
    "duration": 40,
    "start_time": "2022-01-21T07:30:42.209Z"
   },
   {
    "duration": 34,
    "start_time": "2022-01-21T07:30:42.251Z"
   },
   {
    "duration": 19,
    "start_time": "2022-01-21T07:30:42.287Z"
   },
   {
    "duration": 16,
    "start_time": "2022-01-21T07:30:42.308Z"
   },
   {
    "duration": 43,
    "start_time": "2022-01-21T07:30:42.326Z"
   },
   {
    "duration": 194,
    "start_time": "2022-01-21T07:30:42.371Z"
   },
   {
    "duration": 30,
    "start_time": "2022-01-21T07:30:42.567Z"
   },
   {
    "duration": 22,
    "start_time": "2022-01-21T07:30:42.600Z"
   },
   {
    "duration": 39,
    "start_time": "2022-01-21T07:30:42.624Z"
   },
   {
    "duration": 6,
    "start_time": "2022-01-21T07:30:42.665Z"
   },
   {
    "duration": 12,
    "start_time": "2022-01-21T07:30:42.673Z"
   },
   {
    "duration": 33,
    "start_time": "2022-01-21T07:30:42.687Z"
   },
   {
    "duration": 426,
    "start_time": "2022-01-21T07:30:42.722Z"
   },
   {
    "duration": 14,
    "start_time": "2022-01-21T07:30:45.530Z"
   },
   {
    "duration": 39,
    "start_time": "2022-01-21T07:30:51.303Z"
   },
   {
    "duration": 17,
    "start_time": "2022-01-21T07:31:30.809Z"
   },
   {
    "duration": 3,
    "start_time": "2022-01-21T07:31:42.763Z"
   },
   {
    "duration": 423,
    "start_time": "2022-01-21T07:31:42.770Z"
   },
   {
    "duration": 39,
    "start_time": "2022-01-21T07:31:43.195Z"
   },
   {
    "duration": 32,
    "start_time": "2022-01-21T07:31:43.236Z"
   },
   {
    "duration": 24,
    "start_time": "2022-01-21T07:31:43.269Z"
   },
   {
    "duration": 31,
    "start_time": "2022-01-21T07:31:43.294Z"
   },
   {
    "duration": 26,
    "start_time": "2022-01-21T07:31:43.326Z"
   },
   {
    "duration": 179,
    "start_time": "2022-01-21T07:31:43.354Z"
   },
   {
    "duration": 41,
    "start_time": "2022-01-21T07:31:43.535Z"
   },
   {
    "duration": 21,
    "start_time": "2022-01-21T07:31:43.579Z"
   },
   {
    "duration": 20,
    "start_time": "2022-01-21T07:31:43.603Z"
   },
   {
    "duration": 6,
    "start_time": "2022-01-21T07:31:43.625Z"
   },
   {
    "duration": 29,
    "start_time": "2022-01-21T07:31:43.633Z"
   },
   {
    "duration": 32,
    "start_time": "2022-01-21T07:31:43.663Z"
   },
   {
    "duration": 405,
    "start_time": "2022-01-21T07:31:43.698Z"
   },
   {
    "duration": 19,
    "start_time": "2022-01-21T07:31:44.105Z"
   },
   {
    "duration": 62,
    "start_time": "2022-01-21T07:31:44.126Z"
   },
   {
    "duration": 56,
    "start_time": "2022-01-21T07:31:44.190Z"
   },
   {
    "duration": 48,
    "start_time": "2022-01-21T07:31:44.260Z"
   },
   {
    "duration": 63,
    "start_time": "2022-01-21T07:31:44.309Z"
   },
   {
    "duration": 8,
    "start_time": "2022-01-21T07:31:44.374Z"
   },
   {
    "duration": 42,
    "start_time": "2022-01-21T07:31:44.384Z"
   },
   {
    "duration": 270,
    "start_time": "2022-01-21T07:31:44.428Z"
   },
   {
    "duration": 28,
    "start_time": "2022-01-21T07:31:44.700Z"
   },
   {
    "duration": 37,
    "start_time": "2022-01-21T07:31:44.729Z"
   },
   {
    "duration": 38,
    "start_time": "2022-01-21T07:31:44.767Z"
   },
   {
    "duration": 56,
    "start_time": "2022-01-21T07:31:44.806Z"
   },
   {
    "duration": 246,
    "start_time": "2022-01-21T07:31:44.866Z"
   },
   {
    "duration": 223,
    "start_time": "2022-01-21T07:31:45.114Z"
   },
   {
    "duration": 212,
    "start_time": "2022-01-21T07:31:45.340Z"
   },
   {
    "duration": 13,
    "start_time": "2022-01-21T07:31:45.554Z"
   },
   {
    "duration": 31,
    "start_time": "2022-01-21T07:31:45.569Z"
   },
   {
    "duration": 21,
    "start_time": "2022-01-21T07:31:45.602Z"
   },
   {
    "duration": 24,
    "start_time": "2022-01-21T08:58:45.237Z"
   },
   {
    "duration": 16,
    "start_time": "2022-01-21T09:01:49.551Z"
   },
   {
    "duration": 272,
    "start_time": "2022-01-21T09:02:10.416Z"
   },
   {
    "duration": 6339,
    "start_time": "2022-01-21T09:02:46.656Z"
   },
   {
    "duration": 3,
    "start_time": "2022-01-21T09:03:50.437Z"
   },
   {
    "duration": 421,
    "start_time": "2022-01-21T09:03:50.444Z"
   },
   {
    "duration": 39,
    "start_time": "2022-01-21T09:03:50.867Z"
   },
   {
    "duration": 55,
    "start_time": "2022-01-21T09:03:50.908Z"
   },
   {
    "duration": 19,
    "start_time": "2022-01-21T09:03:50.966Z"
   },
   {
    "duration": 20,
    "start_time": "2022-01-21T09:03:50.987Z"
   },
   {
    "duration": 23,
    "start_time": "2022-01-21T09:03:51.009Z"
   },
   {
    "duration": 194,
    "start_time": "2022-01-21T09:03:51.034Z"
   },
   {
    "duration": 41,
    "start_time": "2022-01-21T09:03:51.229Z"
   },
   {
    "duration": 22,
    "start_time": "2022-01-21T09:03:51.273Z"
   },
   {
    "duration": 19,
    "start_time": "2022-01-21T09:03:51.296Z"
   },
   {
    "duration": 5,
    "start_time": "2022-01-21T09:03:51.317Z"
   },
   {
    "duration": 6,
    "start_time": "2022-01-21T09:03:51.324Z"
   },
   {
    "duration": 53,
    "start_time": "2022-01-21T09:03:51.332Z"
   },
   {
    "duration": 495,
    "start_time": "2022-01-21T09:03:51.387Z"
   },
   {
    "duration": 20,
    "start_time": "2022-01-21T09:03:51.884Z"
   },
   {
    "duration": 61,
    "start_time": "2022-01-21T09:03:51.907Z"
   },
   {
    "duration": 49,
    "start_time": "2022-01-21T09:03:51.969Z"
   },
   {
    "duration": 63,
    "start_time": "2022-01-21T09:03:52.020Z"
   },
   {
    "duration": 48,
    "start_time": "2022-01-21T09:03:52.085Z"
   },
   {
    "duration": 8,
    "start_time": "2022-01-21T09:03:52.135Z"
   },
   {
    "duration": 16,
    "start_time": "2022-01-21T09:03:56.302Z"
   },
   {
    "duration": 7,
    "start_time": "2022-01-21T09:04:45.365Z"
   },
   {
    "duration": 6,
    "start_time": "2022-01-21T09:06:14.703Z"
   },
   {
    "duration": 12,
    "start_time": "2022-01-21T09:06:28.670Z"
   },
   {
    "duration": 9,
    "start_time": "2022-01-21T09:18:17.997Z"
   },
   {
    "duration": 4,
    "start_time": "2022-01-21T09:18:40.765Z"
   },
   {
    "duration": 8220,
    "start_time": "2022-01-21T09:24:41.022Z"
   },
   {
    "duration": 4,
    "start_time": "2022-01-21T09:27:38.589Z"
   },
   {
    "duration": 266,
    "start_time": "2022-01-21T09:29:53.457Z"
   },
   {
    "duration": 5,
    "start_time": "2022-01-21T09:30:02.589Z"
   },
   {
    "duration": 793,
    "start_time": "2022-01-21T09:30:11.676Z"
   },
   {
    "duration": 275,
    "start_time": "2022-01-21T10:04:59.032Z"
   },
   {
    "duration": 3,
    "start_time": "2022-01-21T10:05:03.812Z"
   },
   {
    "duration": 466,
    "start_time": "2022-01-21T10:05:03.817Z"
   },
   {
    "duration": 42,
    "start_time": "2022-01-21T10:05:04.286Z"
   },
   {
    "duration": 49,
    "start_time": "2022-01-21T10:05:04.330Z"
   },
   {
    "duration": 71,
    "start_time": "2022-01-21T10:05:04.380Z"
   },
   {
    "duration": 39,
    "start_time": "2022-01-21T10:05:04.453Z"
   },
   {
    "duration": 88,
    "start_time": "2022-01-21T10:05:04.493Z"
   },
   {
    "duration": 284,
    "start_time": "2022-01-21T10:05:04.584Z"
   },
   {
    "duration": 31,
    "start_time": "2022-01-21T10:05:04.870Z"
   },
   {
    "duration": 53,
    "start_time": "2022-01-21T10:05:04.903Z"
   },
   {
    "duration": 55,
    "start_time": "2022-01-21T10:05:04.958Z"
   },
   {
    "duration": 18,
    "start_time": "2022-01-21T10:05:05.015Z"
   },
   {
    "duration": 51,
    "start_time": "2022-01-21T10:05:05.035Z"
   },
   {
    "duration": 68,
    "start_time": "2022-01-21T10:05:05.087Z"
   },
   {
    "duration": 396,
    "start_time": "2022-01-21T10:05:05.157Z"
   },
   {
    "duration": 18,
    "start_time": "2022-01-21T10:05:05.555Z"
   },
   {
    "duration": 55,
    "start_time": "2022-01-21T10:05:05.575Z"
   },
   {
    "duration": 69,
    "start_time": "2022-01-21T10:05:05.632Z"
   },
   {
    "duration": 59,
    "start_time": "2022-01-21T10:05:05.703Z"
   },
   {
    "duration": 50,
    "start_time": "2022-01-21T10:05:05.763Z"
   },
   {
    "duration": 8,
    "start_time": "2022-01-21T10:05:05.815Z"
   },
   {
    "duration": 37,
    "start_time": "2022-01-21T10:05:05.825Z"
   },
   {
    "duration": 68,
    "start_time": "2022-01-21T10:05:05.863Z"
   },
   {
    "duration": 42,
    "start_time": "2022-01-21T10:05:05.933Z"
   },
   {
    "duration": 279,
    "start_time": "2022-01-21T10:05:05.977Z"
   },
   {
    "duration": 32,
    "start_time": "2022-01-21T10:05:06.258Z"
   },
   {
    "duration": 13,
    "start_time": "2022-01-21T10:05:06.294Z"
   },
   {
    "duration": 85,
    "start_time": "2022-01-21T10:05:06.309Z"
   },
   {
    "duration": 64,
    "start_time": "2022-01-21T10:05:06.396Z"
   },
   {
    "duration": 59,
    "start_time": "2022-01-21T10:05:06.462Z"
   },
   {
    "duration": 296,
    "start_time": "2022-01-21T10:05:06.523Z"
   },
   {
    "duration": 234,
    "start_time": "2022-01-21T10:05:06.821Z"
   },
   {
    "duration": 233,
    "start_time": "2022-01-21T10:05:07.056Z"
   },
   {
    "duration": 9,
    "start_time": "2022-01-21T10:05:07.291Z"
   },
   {
    "duration": 50,
    "start_time": "2022-01-21T10:05:07.302Z"
   },
   {
    "duration": 55,
    "start_time": "2022-01-21T10:05:07.353Z"
   },
   {
    "duration": 8,
    "start_time": "2022-01-21T10:05:41.722Z"
   },
   {
    "duration": 255,
    "start_time": "2022-01-21T10:08:10.426Z"
   },
   {
    "duration": 3,
    "start_time": "2022-01-21T10:08:24.864Z"
   },
   {
    "duration": 463,
    "start_time": "2022-01-21T10:08:24.869Z"
   },
   {
    "duration": 41,
    "start_time": "2022-01-21T10:08:25.334Z"
   },
   {
    "duration": 41,
    "start_time": "2022-01-21T10:08:25.377Z"
   },
   {
    "duration": 36,
    "start_time": "2022-01-21T10:08:25.420Z"
   },
   {
    "duration": 45,
    "start_time": "2022-01-21T10:08:25.457Z"
   },
   {
    "duration": 51,
    "start_time": "2022-01-21T10:08:25.504Z"
   },
   {
    "duration": 201,
    "start_time": "2022-01-21T10:08:25.558Z"
   },
   {
    "duration": 29,
    "start_time": "2022-01-21T10:08:25.762Z"
   },
   {
    "duration": 25,
    "start_time": "2022-01-21T10:08:25.793Z"
   },
   {
    "duration": 55,
    "start_time": "2022-01-21T10:08:25.820Z"
   },
   {
    "duration": 12,
    "start_time": "2022-01-21T10:08:25.877Z"
   },
   {
    "duration": 31,
    "start_time": "2022-01-21T10:08:25.891Z"
   },
   {
    "duration": 50,
    "start_time": "2022-01-21T10:08:25.924Z"
   },
   {
    "duration": 402,
    "start_time": "2022-01-21T10:08:25.976Z"
   },
   {
    "duration": 19,
    "start_time": "2022-01-21T10:08:26.380Z"
   },
   {
    "duration": 41,
    "start_time": "2022-01-21T10:08:26.401Z"
   },
   {
    "duration": 47,
    "start_time": "2022-01-21T10:08:26.461Z"
   },
   {
    "duration": 58,
    "start_time": "2022-01-21T10:08:26.510Z"
   },
   {
    "duration": 54,
    "start_time": "2022-01-21T10:08:26.570Z"
   },
   {
    "duration": 11,
    "start_time": "2022-01-21T10:08:26.626Z"
   },
   {
    "duration": 80,
    "start_time": "2022-01-21T10:08:26.639Z"
   },
   {
    "duration": 60,
    "start_time": "2022-01-21T10:08:26.723Z"
   },
   {
    "duration": 27,
    "start_time": "2022-01-21T10:08:26.785Z"
   },
   {
    "duration": 270,
    "start_time": "2022-01-21T10:08:26.813Z"
   },
   {
    "duration": 30,
    "start_time": "2022-01-21T10:08:27.085Z"
   },
   {
    "duration": 9,
    "start_time": "2022-01-21T10:08:27.116Z"
   },
   {
    "duration": 8,
    "start_time": "2022-01-21T10:08:32.059Z"
   },
   {
    "duration": 3,
    "start_time": "2022-01-21T10:08:46.932Z"
   },
   {
    "duration": 461,
    "start_time": "2022-01-21T10:08:46.940Z"
   },
   {
    "duration": 56,
    "start_time": "2022-01-21T10:08:47.403Z"
   },
   {
    "duration": 45,
    "start_time": "2022-01-21T10:08:47.462Z"
   },
   {
    "duration": 29,
    "start_time": "2022-01-21T10:08:47.509Z"
   },
   {
    "duration": 33,
    "start_time": "2022-01-21T10:08:47.540Z"
   },
   {
    "duration": 40,
    "start_time": "2022-01-21T10:08:47.575Z"
   },
   {
    "duration": 226,
    "start_time": "2022-01-21T10:08:47.617Z"
   },
   {
    "duration": 38,
    "start_time": "2022-01-21T10:08:47.846Z"
   },
   {
    "duration": 24,
    "start_time": "2022-01-21T10:08:47.887Z"
   },
   {
    "duration": 34,
    "start_time": "2022-01-21T10:08:47.913Z"
   },
   {
    "duration": 31,
    "start_time": "2022-01-21T10:08:47.949Z"
   },
   {
    "duration": 40,
    "start_time": "2022-01-21T10:08:47.982Z"
   },
   {
    "duration": 69,
    "start_time": "2022-01-21T10:08:48.024Z"
   },
   {
    "duration": 404,
    "start_time": "2022-01-21T10:08:48.095Z"
   },
   {
    "duration": 19,
    "start_time": "2022-01-21T10:08:48.501Z"
   },
   {
    "duration": 73,
    "start_time": "2022-01-21T10:08:48.522Z"
   },
   {
    "duration": 69,
    "start_time": "2022-01-21T10:08:48.597Z"
   },
   {
    "duration": 51,
    "start_time": "2022-01-21T10:08:48.667Z"
   },
   {
    "duration": 60,
    "start_time": "2022-01-21T10:08:48.720Z"
   },
   {
    "duration": 8,
    "start_time": "2022-01-21T10:08:48.781Z"
   },
   {
    "duration": 25,
    "start_time": "2022-01-21T10:08:48.790Z"
   },
   {
    "duration": 33,
    "start_time": "2022-01-21T10:08:48.817Z"
   },
   {
    "duration": 27,
    "start_time": "2022-01-21T10:08:48.854Z"
   },
   {
    "duration": 259,
    "start_time": "2022-01-21T10:08:48.883Z"
   },
   {
    "duration": 34,
    "start_time": "2022-01-21T10:08:49.143Z"
   },
   {
    "duration": 34,
    "start_time": "2022-01-21T10:08:49.179Z"
   },
   {
    "duration": 73,
    "start_time": "2022-01-21T10:08:49.215Z"
   },
   {
    "duration": 59,
    "start_time": "2022-01-21T10:08:49.289Z"
   },
   {
    "duration": 49,
    "start_time": "2022-01-21T10:08:49.349Z"
   },
   {
    "duration": 74,
    "start_time": "2022-01-21T10:08:49.400Z"
   },
   {
    "duration": 340,
    "start_time": "2022-01-21T10:08:49.476Z"
   },
   {
    "duration": 306,
    "start_time": "2022-01-21T10:08:49.818Z"
   },
   {
    "duration": 251,
    "start_time": "2022-01-21T10:08:50.126Z"
   },
   {
    "duration": 10,
    "start_time": "2022-01-21T10:08:50.379Z"
   },
   {
    "duration": 84,
    "start_time": "2022-01-21T10:08:50.390Z"
   },
   {
    "duration": 57,
    "start_time": "2022-01-21T10:08:50.476Z"
   },
   {
    "duration": 17,
    "start_time": "2022-01-21T10:48:24.909Z"
   },
   {
    "duration": 87,
    "start_time": "2022-01-21T10:49:48.713Z"
   },
   {
    "duration": 11,
    "start_time": "2022-01-21T10:49:59.108Z"
   },
   {
    "duration": 14,
    "start_time": "2022-01-21T10:50:05.958Z"
   },
   {
    "duration": 16,
    "start_time": "2022-01-21T10:56:48.810Z"
   },
   {
    "duration": 32,
    "start_time": "2022-01-21T11:00:04.932Z"
   },
   {
    "duration": 4,
    "start_time": "2022-01-21T11:00:44.122Z"
   },
   {
    "duration": 3,
    "start_time": "2022-01-21T11:01:29.502Z"
   },
   {
    "duration": 17,
    "start_time": "2022-01-21T11:01:31.379Z"
   },
   {
    "duration": 364,
    "start_time": "2022-01-21T11:01:32.932Z"
   },
   {
    "duration": 30,
    "start_time": "2022-01-21T11:01:50.598Z"
   },
   {
    "duration": 238,
    "start_time": "2022-01-21T11:02:35.588Z"
   },
   {
    "duration": 209,
    "start_time": "2022-01-21T11:02:45.844Z"
   },
   {
    "duration": 238,
    "start_time": "2022-01-21T11:03:06.979Z"
   },
   {
    "duration": 9,
    "start_time": "2022-01-21T11:03:25.125Z"
   },
   {
    "duration": 10,
    "start_time": "2022-01-21T11:03:34.852Z"
   },
   {
    "duration": 10,
    "start_time": "2022-01-21T11:03:39.565Z"
   },
   {
    "duration": 298,
    "start_time": "2022-01-21T11:07:26.312Z"
   },
   {
    "duration": 280,
    "start_time": "2022-01-21T11:07:46.017Z"
   },
   {
    "duration": 279,
    "start_time": "2022-01-21T11:09:47.922Z"
   },
   {
    "duration": 265,
    "start_time": "2022-01-21T11:10:57.675Z"
   },
   {
    "duration": 1227,
    "start_time": "2022-01-21T11:12:39.868Z"
   },
   {
    "duration": 464,
    "start_time": "2022-01-21T11:12:41.097Z"
   },
   {
    "duration": 52,
    "start_time": "2022-01-21T11:12:41.564Z"
   },
   {
    "duration": 66,
    "start_time": "2022-01-21T11:12:41.618Z"
   },
   {
    "duration": 22,
    "start_time": "2022-01-21T11:12:41.687Z"
   },
   {
    "duration": 33,
    "start_time": "2022-01-21T11:12:41.711Z"
   },
   {
    "duration": 93,
    "start_time": "2022-01-21T11:12:41.746Z"
   },
   {
    "duration": 269,
    "start_time": "2022-01-21T11:12:41.841Z"
   },
   {
    "duration": 51,
    "start_time": "2022-01-21T11:12:42.114Z"
   },
   {
    "duration": 46,
    "start_time": "2022-01-21T11:12:42.167Z"
   },
   {
    "duration": 39,
    "start_time": "2022-01-21T11:12:42.215Z"
   },
   {
    "duration": 24,
    "start_time": "2022-01-21T11:12:42.256Z"
   },
   {
    "duration": 34,
    "start_time": "2022-01-21T11:12:42.281Z"
   },
   {
    "duration": 68,
    "start_time": "2022-01-21T11:12:42.317Z"
   },
   {
    "duration": 449,
    "start_time": "2022-01-21T11:12:42.387Z"
   },
   {
    "duration": 38,
    "start_time": "2022-01-21T11:12:42.838Z"
   },
   {
    "duration": 46,
    "start_time": "2022-01-21T11:12:42.879Z"
   },
   {
    "duration": 76,
    "start_time": "2022-01-21T11:12:42.927Z"
   },
   {
    "duration": 48,
    "start_time": "2022-01-21T11:12:43.005Z"
   },
   {
    "duration": 55,
    "start_time": "2022-01-21T11:12:43.061Z"
   },
   {
    "duration": 10,
    "start_time": "2022-01-21T11:12:43.119Z"
   },
   {
    "duration": 59,
    "start_time": "2022-01-21T11:12:43.131Z"
   },
   {
    "duration": 19,
    "start_time": "2022-01-21T11:12:43.193Z"
   },
   {
    "duration": 35,
    "start_time": "2022-01-21T11:12:43.214Z"
   },
   {
    "duration": 300,
    "start_time": "2022-01-21T11:12:43.251Z"
   },
   {
    "duration": 41,
    "start_time": "2022-01-21T11:12:43.553Z"
   },
   {
    "duration": 6,
    "start_time": "2022-01-21T11:12:43.599Z"
   },
   {
    "duration": 64,
    "start_time": "2022-01-21T11:12:43.607Z"
   },
   {
    "duration": 18,
    "start_time": "2022-01-21T11:12:43.674Z"
   },
   {
    "duration": 50,
    "start_time": "2022-01-21T11:12:43.694Z"
   },
   {
    "duration": 51,
    "start_time": "2022-01-21T11:12:43.746Z"
   },
   {
    "duration": 284,
    "start_time": "2022-01-21T11:12:43.798Z"
   },
   {
    "duration": 282,
    "start_time": "2022-01-21T11:12:44.084Z"
   },
   {
    "duration": 304,
    "start_time": "2022-01-21T11:12:44.369Z"
   },
   {
    "duration": 10,
    "start_time": "2022-01-21T11:12:44.676Z"
   },
   {
    "duration": 11,
    "start_time": "2022-01-21T11:12:44.688Z"
   },
   {
    "duration": 9,
    "start_time": "2022-01-21T11:12:44.701Z"
   },
   {
    "duration": 3,
    "start_time": "2022-01-21T11:14:09.508Z"
   },
   {
    "duration": 17,
    "start_time": "2022-01-21T11:14:38.315Z"
   },
   {
    "duration": 1182,
    "start_time": "2022-01-21T11:14:51.175Z"
   },
   {
    "duration": 461,
    "start_time": "2022-01-21T11:14:52.359Z"
   },
   {
    "duration": 48,
    "start_time": "2022-01-21T11:14:52.823Z"
   },
   {
    "duration": 46,
    "start_time": "2022-01-21T11:14:52.874Z"
   },
   {
    "duration": 20,
    "start_time": "2022-01-21T11:14:52.922Z"
   },
   {
    "duration": 32,
    "start_time": "2022-01-21T11:14:52.944Z"
   },
   {
    "duration": 34,
    "start_time": "2022-01-21T11:14:52.978Z"
   },
   {
    "duration": 278,
    "start_time": "2022-01-21T11:14:53.015Z"
   },
   {
    "duration": 31,
    "start_time": "2022-01-21T11:14:53.295Z"
   },
   {
    "duration": 41,
    "start_time": "2022-01-21T11:14:53.328Z"
   },
   {
    "duration": 59,
    "start_time": "2022-01-21T11:14:53.372Z"
   },
   {
    "duration": 28,
    "start_time": "2022-01-21T11:14:53.433Z"
   },
   {
    "duration": 60,
    "start_time": "2022-01-21T11:14:53.464Z"
   },
   {
    "duration": 89,
    "start_time": "2022-01-21T11:14:53.526Z"
   },
   {
    "duration": 450,
    "start_time": "2022-01-21T11:14:53.617Z"
   },
   {
    "duration": 20,
    "start_time": "2022-01-21T11:14:54.070Z"
   },
   {
    "duration": 49,
    "start_time": "2022-01-21T11:14:54.092Z"
   },
   {
    "duration": 71,
    "start_time": "2022-01-21T11:14:54.143Z"
   },
   {
    "duration": 72,
    "start_time": "2022-01-21T11:14:54.215Z"
   },
   {
    "duration": 49,
    "start_time": "2022-01-21T11:14:54.289Z"
   },
   {
    "duration": 28,
    "start_time": "2022-01-21T11:14:54.340Z"
   },
   {
    "duration": 19,
    "start_time": "2022-01-21T11:14:54.370Z"
   },
   {
    "duration": 21,
    "start_time": "2022-01-21T11:14:54.392Z"
   },
   {
    "duration": 20,
    "start_time": "2022-01-21T11:14:54.415Z"
   },
   {
    "duration": 275,
    "start_time": "2022-01-21T11:14:54.436Z"
   },
   {
    "duration": 33,
    "start_time": "2022-01-21T11:14:54.713Z"
   },
   {
    "duration": 22,
    "start_time": "2022-01-21T11:14:54.747Z"
   },
   {
    "duration": 25,
    "start_time": "2022-01-21T11:14:54.771Z"
   },
   {
    "duration": 25,
    "start_time": "2022-01-21T11:14:54.797Z"
   },
   {
    "duration": 41,
    "start_time": "2022-01-21T11:14:54.824Z"
   },
   {
    "duration": 320,
    "start_time": "2022-01-21T11:14:54.868Z"
   },
   {
    "duration": 342,
    "start_time": "2022-01-21T11:14:55.189Z"
   },
   {
    "duration": 401,
    "start_time": "2022-01-21T11:14:55.534Z"
   },
   {
    "duration": 10,
    "start_time": "2022-01-21T11:14:55.936Z"
   },
   {
    "duration": 35,
    "start_time": "2022-01-21T11:14:55.947Z"
   },
   {
    "duration": 29,
    "start_time": "2022-01-21T11:14:55.984Z"
   },
   {
    "duration": 1366,
    "start_time": "2022-01-22T08:57:25.453Z"
   },
   {
    "duration": 527,
    "start_time": "2022-01-22T08:57:26.823Z"
   },
   {
    "duration": 58,
    "start_time": "2022-01-22T08:57:27.353Z"
   },
   {
    "duration": 70,
    "start_time": "2022-01-22T08:57:27.413Z"
   },
   {
    "duration": 25,
    "start_time": "2022-01-22T08:57:27.486Z"
   },
   {
    "duration": 17,
    "start_time": "2022-01-22T08:57:27.514Z"
   },
   {
    "duration": 52,
    "start_time": "2022-01-22T08:57:27.533Z"
   },
   {
    "duration": 283,
    "start_time": "2022-01-22T08:57:27.589Z"
   },
   {
    "duration": 43,
    "start_time": "2022-01-22T08:57:27.875Z"
   },
   {
    "duration": 52,
    "start_time": "2022-01-22T08:57:27.921Z"
   },
   {
    "duration": 26,
    "start_time": "2022-01-22T08:57:27.975Z"
   },
   {
    "duration": 7,
    "start_time": "2022-01-22T08:57:28.003Z"
   },
   {
    "duration": 7,
    "start_time": "2022-01-22T08:57:28.012Z"
   },
   {
    "duration": 65,
    "start_time": "2022-01-22T08:57:28.021Z"
   },
   {
    "duration": 649,
    "start_time": "2022-01-22T08:57:28.089Z"
   },
   {
    "duration": 39,
    "start_time": "2022-01-22T08:57:28.741Z"
   },
   {
    "duration": 60,
    "start_time": "2022-01-22T08:57:28.782Z"
   },
   {
    "duration": 94,
    "start_time": "2022-01-22T08:57:28.845Z"
   },
   {
    "duration": 81,
    "start_time": "2022-01-22T08:57:28.942Z"
   },
   {
    "duration": 87,
    "start_time": "2022-01-22T08:57:29.025Z"
   },
   {
    "duration": 12,
    "start_time": "2022-01-22T08:57:29.114Z"
   },
   {
    "duration": 43,
    "start_time": "2022-01-22T08:57:29.128Z"
   },
   {
    "duration": 7364,
    "start_time": "2022-01-22T08:57:38.393Z"
   },
   {
    "duration": 6663,
    "start_time": "2022-01-22T08:59:05.925Z"
   },
   {
    "duration": 17,
    "start_time": "2022-01-22T08:59:47.904Z"
   },
   {
    "duration": 19,
    "start_time": "2022-01-22T09:00:34.464Z"
   },
   {
    "duration": 4,
    "start_time": "2022-01-22T09:00:41.341Z"
   },
   {
    "duration": 528,
    "start_time": "2022-01-22T09:00:41.347Z"
   },
   {
    "duration": 51,
    "start_time": "2022-01-22T09:00:41.878Z"
   },
   {
    "duration": 64,
    "start_time": "2022-01-22T09:00:41.931Z"
   },
   {
    "duration": 27,
    "start_time": "2022-01-22T09:00:41.997Z"
   },
   {
    "duration": 45,
    "start_time": "2022-01-22T09:00:42.026Z"
   },
   {
    "duration": 24,
    "start_time": "2022-01-22T09:00:42.074Z"
   },
   {
    "duration": 272,
    "start_time": "2022-01-22T09:00:42.101Z"
   },
   {
    "duration": 40,
    "start_time": "2022-01-22T09:00:42.376Z"
   },
   {
    "duration": 56,
    "start_time": "2022-01-22T09:00:42.418Z"
   },
   {
    "duration": 26,
    "start_time": "2022-01-22T09:00:42.476Z"
   },
   {
    "duration": 6,
    "start_time": "2022-01-22T09:00:42.505Z"
   },
   {
    "duration": 8,
    "start_time": "2022-01-22T09:00:42.514Z"
   },
   {
    "duration": 61,
    "start_time": "2022-01-22T09:00:42.524Z"
   },
   {
    "duration": 639,
    "start_time": "2022-01-22T09:00:42.588Z"
   },
   {
    "duration": 39,
    "start_time": "2022-01-22T09:00:43.229Z"
   },
   {
    "duration": 58,
    "start_time": "2022-01-22T09:00:43.270Z"
   },
   {
    "duration": 89,
    "start_time": "2022-01-22T09:00:43.330Z"
   },
   {
    "duration": 70,
    "start_time": "2022-01-22T09:00:43.421Z"
   },
   {
    "duration": 86,
    "start_time": "2022-01-22T09:00:43.494Z"
   },
   {
    "duration": 13,
    "start_time": "2022-01-22T09:00:43.582Z"
   },
   {
    "duration": 23,
    "start_time": "2022-01-22T09:00:43.598Z"
   },
   {
    "duration": 53,
    "start_time": "2022-01-22T09:00:43.627Z"
   },
   {
    "duration": 19,
    "start_time": "2022-01-22T09:00:43.684Z"
   },
   {
    "duration": 417,
    "start_time": "2022-01-22T09:00:43.706Z"
   },
   {
    "duration": 68,
    "start_time": "2022-01-22T09:00:44.126Z"
   },
   {
    "duration": 10,
    "start_time": "2022-01-22T09:00:44.197Z"
   },
   {
    "duration": 13,
    "start_time": "2022-01-22T09:00:44.210Z"
   },
   {
    "duration": 60,
    "start_time": "2022-01-22T09:00:44.225Z"
   },
   {
    "duration": 46,
    "start_time": "2022-01-22T09:00:44.289Z"
   },
   {
    "duration": 492,
    "start_time": "2022-01-22T09:00:44.339Z"
   },
   {
    "duration": 429,
    "start_time": "2022-01-22T09:00:44.834Z"
   },
   {
    "duration": 449,
    "start_time": "2022-01-22T09:00:45.269Z"
   },
   {
    "duration": 15,
    "start_time": "2022-01-22T09:00:45.721Z"
   },
   {
    "duration": 40,
    "start_time": "2022-01-22T09:00:45.738Z"
   },
   {
    "duration": 12,
    "start_time": "2022-01-22T09:00:45.780Z"
   },
   {
    "duration": 1596,
    "start_time": "2022-01-22T09:55:57.717Z"
   },
   {
    "duration": 544,
    "start_time": "2022-01-22T09:55:59.316Z"
   },
   {
    "duration": 56,
    "start_time": "2022-01-22T09:55:59.863Z"
   },
   {
    "duration": 66,
    "start_time": "2022-01-22T09:55:59.923Z"
   },
   {
    "duration": 26,
    "start_time": "2022-01-22T09:55:59.992Z"
   },
   {
    "duration": 50,
    "start_time": "2022-01-22T09:56:00.021Z"
   },
   {
    "duration": 25,
    "start_time": "2022-01-22T09:56:00.074Z"
   },
   {
    "duration": 309,
    "start_time": "2022-01-22T09:56:00.104Z"
   },
   {
    "duration": 62,
    "start_time": "2022-01-22T09:56:00.416Z"
   },
   {
    "duration": 30,
    "start_time": "2022-01-22T09:56:00.481Z"
   },
   {
    "duration": 26,
    "start_time": "2022-01-22T09:56:00.514Z"
   },
   {
    "duration": 9,
    "start_time": "2022-01-22T09:56:00.566Z"
   },
   {
    "duration": 13,
    "start_time": "2022-01-22T09:56:00.578Z"
   },
   {
    "duration": 48,
    "start_time": "2022-01-22T09:56:00.593Z"
   },
   {
    "duration": 667,
    "start_time": "2022-01-22T09:56:00.665Z"
   },
   {
    "duration": 40,
    "start_time": "2022-01-22T09:56:01.335Z"
   },
   {
    "duration": 61,
    "start_time": "2022-01-22T09:56:01.377Z"
   },
   {
    "duration": 94,
    "start_time": "2022-01-22T09:56:01.441Z"
   },
   {
    "duration": 74,
    "start_time": "2022-01-22T09:56:01.538Z"
   },
   {
    "duration": 90,
    "start_time": "2022-01-22T09:56:01.615Z"
   },
   {
    "duration": 12,
    "start_time": "2022-01-22T09:56:01.708Z"
   },
   {
    "duration": 44,
    "start_time": "2022-01-22T09:56:01.722Z"
   },
   {
    "duration": 21,
    "start_time": "2022-01-22T09:56:01.771Z"
   },
   {
    "duration": 16,
    "start_time": "2022-01-22T09:56:01.795Z"
   },
   {
    "duration": 405,
    "start_time": "2022-01-22T09:56:01.813Z"
   },
   {
    "duration": 59,
    "start_time": "2022-01-22T09:56:02.221Z"
   },
   {
    "duration": 9,
    "start_time": "2022-01-22T09:56:02.282Z"
   },
   {
    "duration": 13,
    "start_time": "2022-01-22T09:56:02.293Z"
   },
   {
    "duration": 25,
    "start_time": "2022-01-22T09:56:02.308Z"
   },
   {
    "duration": 72,
    "start_time": "2022-01-22T09:56:02.336Z"
   },
   {
    "duration": 478,
    "start_time": "2022-01-22T09:56:02.411Z"
   },
   {
    "duration": 503,
    "start_time": "2022-01-22T09:56:02.891Z"
   },
   {
    "duration": 536,
    "start_time": "2022-01-22T09:56:03.397Z"
   },
   {
    "duration": 33,
    "start_time": "2022-01-22T09:56:03.936Z"
   },
   {
    "duration": 20,
    "start_time": "2022-01-22T09:56:03.972Z"
   },
   {
    "duration": 12,
    "start_time": "2022-01-22T09:56:03.995Z"
   }
  ],
  "kernelspec": {
   "display_name": "Python 3 (ipykernel)",
   "language": "python",
   "name": "python3"
  },
  "language_info": {
   "codemirror_mode": {
    "name": "ipython",
    "version": 3
   },
   "file_extension": ".py",
   "mimetype": "text/x-python",
   "name": "python",
   "nbconvert_exporter": "python",
   "pygments_lexer": "ipython3",
   "version": "3.9.5"
  },
  "toc": {
   "base_numbering": 1,
   "nav_menu": {
    "height": "106px",
    "width": "219px"
   },
   "number_sections": true,
   "sideBar": true,
   "skip_h1_title": true,
   "title_cell": "Содержание",
   "title_sidebar": "Contents",
   "toc_cell": true,
   "toc_position": {
    "height": "calc(100% - 180px)",
    "left": "10px",
    "top": "150px",
    "width": "494.391px"
   },
   "toc_section_display": true,
   "toc_window_display": false
  }
 },
 "nbformat": 4,
 "nbformat_minor": 2
}
