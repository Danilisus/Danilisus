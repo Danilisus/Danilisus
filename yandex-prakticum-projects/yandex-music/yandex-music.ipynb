{
 "cells": [
  {
   "cell_type": "markdown",
   "metadata": {
    "id": "E0vqbgi9ay0H"
   },
   "source": [
    "# Яндекс.Музыка"
   ]
  },
  {
   "cell_type": "markdown",
   "metadata": {
    "id": "VUC88oWjTJw2"
   },
   "source": [
    "Предостваленя данные Яндекс.Музыки с пользователями из Москвы и Петербурга.\n",
    "\n",
    "**Цель исследования** — проверьте три гипотезы:\n",
    "1. Активность пользователей зависит от дня недели и отличается по городам.\n",
    "2. В понедельник утром в Москве преобладают одни жанры, а в Петербурге — другие. Так же и вечером пятницы преобладают разные жанры — в зависимости от города. \n",
    "3. Москва и Петербург предпочитают разные жанры музыки. В Москве чаще слушают поп-музыку, в Петербурге — русский рэп.\n",
    "\n",
    "**Ход исследования**\n",
    "\n",
    " 1. Обзор данных.\n",
    " 2. Предобработка данных.\n",
    " 3. Проверка гипотез.\n",
    "\n"
   ]
  },
  {
   "cell_type": "markdown",
   "metadata": {
    "id": "Ml1hmfXC_Zcs"
   },
   "source": [
    "## Обзор данных\n",
    "\n",
    "Составим первое представление о данных Яндекс.Музыки."
   ]
  },
  {
   "cell_type": "code",
   "execution_count": 1,
   "metadata": {
    "id": "AXN7PHPN_Zcs"
   },
   "outputs": [],
   "source": [
    "import pandas as pd"
   ]
  },
  {
   "cell_type": "markdown",
   "metadata": {
    "id": "SG23P8tt_Zcs"
   },
   "source": [
    "Прочитаем файл."
   ]
  },
  {
   "cell_type": "code",
   "execution_count": 2,
   "metadata": {
    "id": "fFVu7vqh_Zct"
   },
   "outputs": [],
   "source": [
    "df = pd.read_csv('/datasets/yandex_music_project.csv')"
   ]
  },
  {
   "cell_type": "markdown",
   "metadata": {
    "id": "rDoOMd3uTqnZ"
   },
   "source": [
    "Выведем на экран первые десять строк таблицы:"
   ]
  },
  {
   "cell_type": "code",
   "execution_count": 3,
   "metadata": {
    "id": "oWTVX3gW_Zct"
   },
   "outputs": [
    {
     "data": {
      "text/html": [
       "<div>\n",
       "<style scoped>\n",
       "    .dataframe tbody tr th:only-of-type {\n",
       "        vertical-align: middle;\n",
       "    }\n",
       "\n",
       "    .dataframe tbody tr th {\n",
       "        vertical-align: top;\n",
       "    }\n",
       "\n",
       "    .dataframe thead th {\n",
       "        text-align: right;\n",
       "    }\n",
       "</style>\n",
       "<table border=\"1\" class=\"dataframe\">\n",
       "  <thead>\n",
       "    <tr style=\"text-align: right;\">\n",
       "      <th></th>\n",
       "      <th>userID</th>\n",
       "      <th>Track</th>\n",
       "      <th>artist</th>\n",
       "      <th>genre</th>\n",
       "      <th>City</th>\n",
       "      <th>time</th>\n",
       "      <th>Day</th>\n",
       "    </tr>\n",
       "  </thead>\n",
       "  <tbody>\n",
       "    <tr>\n",
       "      <th>0</th>\n",
       "      <td>FFB692EC</td>\n",
       "      <td>Kamigata To Boots</td>\n",
       "      <td>The Mass Missile</td>\n",
       "      <td>rock</td>\n",
       "      <td>Saint-Petersburg</td>\n",
       "      <td>20:28:33</td>\n",
       "      <td>Wednesday</td>\n",
       "    </tr>\n",
       "    <tr>\n",
       "      <th>1</th>\n",
       "      <td>55204538</td>\n",
       "      <td>Delayed Because of Accident</td>\n",
       "      <td>Andreas Rönnberg</td>\n",
       "      <td>rock</td>\n",
       "      <td>Moscow</td>\n",
       "      <td>14:07:09</td>\n",
       "      <td>Friday</td>\n",
       "    </tr>\n",
       "    <tr>\n",
       "      <th>2</th>\n",
       "      <td>20EC38</td>\n",
       "      <td>Funiculì funiculà</td>\n",
       "      <td>Mario Lanza</td>\n",
       "      <td>pop</td>\n",
       "      <td>Saint-Petersburg</td>\n",
       "      <td>20:58:07</td>\n",
       "      <td>Wednesday</td>\n",
       "    </tr>\n",
       "    <tr>\n",
       "      <th>3</th>\n",
       "      <td>A3DD03C9</td>\n",
       "      <td>Dragons in the Sunset</td>\n",
       "      <td>Fire + Ice</td>\n",
       "      <td>folk</td>\n",
       "      <td>Saint-Petersburg</td>\n",
       "      <td>08:37:09</td>\n",
       "      <td>Monday</td>\n",
       "    </tr>\n",
       "    <tr>\n",
       "      <th>4</th>\n",
       "      <td>E2DC1FAE</td>\n",
       "      <td>Soul People</td>\n",
       "      <td>Space Echo</td>\n",
       "      <td>dance</td>\n",
       "      <td>Moscow</td>\n",
       "      <td>08:34:34</td>\n",
       "      <td>Monday</td>\n",
       "    </tr>\n",
       "    <tr>\n",
       "      <th>5</th>\n",
       "      <td>842029A1</td>\n",
       "      <td>Преданная</td>\n",
       "      <td>IMPERVTOR</td>\n",
       "      <td>rusrap</td>\n",
       "      <td>Saint-Petersburg</td>\n",
       "      <td>13:09:41</td>\n",
       "      <td>Friday</td>\n",
       "    </tr>\n",
       "    <tr>\n",
       "      <th>6</th>\n",
       "      <td>4CB90AA5</td>\n",
       "      <td>True</td>\n",
       "      <td>Roman Messer</td>\n",
       "      <td>dance</td>\n",
       "      <td>Moscow</td>\n",
       "      <td>13:00:07</td>\n",
       "      <td>Wednesday</td>\n",
       "    </tr>\n",
       "    <tr>\n",
       "      <th>7</th>\n",
       "      <td>F03E1C1F</td>\n",
       "      <td>Feeling This Way</td>\n",
       "      <td>Polina Griffith</td>\n",
       "      <td>dance</td>\n",
       "      <td>Moscow</td>\n",
       "      <td>20:47:49</td>\n",
       "      <td>Wednesday</td>\n",
       "    </tr>\n",
       "    <tr>\n",
       "      <th>8</th>\n",
       "      <td>8FA1D3BE</td>\n",
       "      <td>И вновь продолжается бой</td>\n",
       "      <td>NaN</td>\n",
       "      <td>ruspop</td>\n",
       "      <td>Moscow</td>\n",
       "      <td>09:17:40</td>\n",
       "      <td>Friday</td>\n",
       "    </tr>\n",
       "    <tr>\n",
       "      <th>9</th>\n",
       "      <td>E772D5C0</td>\n",
       "      <td>Pessimist</td>\n",
       "      <td>NaN</td>\n",
       "      <td>dance</td>\n",
       "      <td>Saint-Petersburg</td>\n",
       "      <td>21:20:49</td>\n",
       "      <td>Wednesday</td>\n",
       "    </tr>\n",
       "  </tbody>\n",
       "</table>\n",
       "</div>"
      ],
      "text/plain": [
       "     userID                        Track            artist   genre  \\\n",
       "0  FFB692EC            Kamigata To Boots  The Mass Missile    rock   \n",
       "1  55204538  Delayed Because of Accident  Andreas Rönnberg    rock   \n",
       "2    20EC38            Funiculì funiculà       Mario Lanza     pop   \n",
       "3  A3DD03C9        Dragons in the Sunset        Fire + Ice    folk   \n",
       "4  E2DC1FAE                  Soul People        Space Echo   dance   \n",
       "5  842029A1                    Преданная         IMPERVTOR  rusrap   \n",
       "6  4CB90AA5                         True      Roman Messer   dance   \n",
       "7  F03E1C1F             Feeling This Way   Polina Griffith   dance   \n",
       "8  8FA1D3BE     И вновь продолжается бой               NaN  ruspop   \n",
       "9  E772D5C0                    Pessimist               NaN   dance   \n",
       "\n",
       "             City        time        Day  \n",
       "0  Saint-Petersburg  20:28:33  Wednesday  \n",
       "1            Moscow  14:07:09     Friday  \n",
       "2  Saint-Petersburg  20:58:07  Wednesday  \n",
       "3  Saint-Petersburg  08:37:09     Monday  \n",
       "4            Moscow  08:34:34     Monday  \n",
       "5  Saint-Petersburg  13:09:41     Friday  \n",
       "6            Moscow  13:00:07  Wednesday  \n",
       "7            Moscow  20:47:49  Wednesday  \n",
       "8            Moscow  09:17:40     Friday  \n",
       "9  Saint-Petersburg  21:20:49  Wednesday  "
      ]
     },
     "metadata": {},
     "output_type": "display_data"
    }
   ],
   "source": [
    "display(df.head(10))"
   ]
  },
  {
   "cell_type": "markdown",
   "metadata": {
    "id": "EO73Kwic_Zct"
   },
   "source": [
    "Посмотрим общую информацию о таблице:"
   ]
  },
  {
   "cell_type": "code",
   "execution_count": 4,
   "metadata": {
    "id": "DSf2kIb-_Zct"
   },
   "outputs": [
    {
     "name": "stdout",
     "output_type": "stream",
     "text": [
      "<class 'pandas.core.frame.DataFrame'>\n",
      "RangeIndex: 65079 entries, 0 to 65078\n",
      "Data columns (total 7 columns):\n",
      " #   Column    Non-Null Count  Dtype \n",
      "---  ------    --------------  ----- \n",
      " 0     userID  65079 non-null  object\n",
      " 1   Track     63848 non-null  object\n",
      " 2   artist    57876 non-null  object\n",
      " 3   genre     63881 non-null  object\n",
      " 4     City    65079 non-null  object\n",
      " 5   time      65079 non-null  object\n",
      " 6   Day       65079 non-null  object\n",
      "dtypes: object(7)\n",
      "memory usage: 3.5+ MB\n"
     ]
    }
   ],
   "source": [
    "df.info()"
   ]
  },
  {
   "cell_type": "markdown",
   "metadata": {
    "id": "TaQ2Iwbr_Zct"
   },
   "source": [
    "Тип данных во всех столбцах — `object`.\n",
    "\n",
    "В названиях колонок видны три нарушения стиля:\n",
    "1. Строчные буквы сочетаются с прописными.\n",
    "2. Встречаются пробелы.\n",
    "3. Из названия не понятно какие данные хранятся в столбце.\n",
    "\n",
    "Количество значений в столбцах различается. Значит, в данных есть пропущенные значения.\n"
   ]
  },
  {
   "cell_type": "markdown",
   "metadata": {
    "id": "MCB6-dXG_Zct"
   },
   "source": [
    "**Выводы**\n",
    "\n",
    "В каждой строке таблицы — данные о прослушанном треке. Часть колонок описывает саму композицию: название, исполнителя и жанр. Остальные данные рассказывают о пользователе: из какого он города, когда он слушал музыку. \n",
    "\n",
    "Предварительно можно утверждать, что, данных достаточно для проверки гипотез. Но встречаются пропуски в данных, а в названиях колонок — расхождения с хорошим стилем.\n",
    "\n",
    "Чтобы двигаться дальше, нужно устранить проблемы в данных."
   ]
  },
  {
   "cell_type": "markdown",
   "metadata": {
    "id": "SjYF6Ub9_Zct"
   },
   "source": [
    "## Предобработка данных\n",
    "Исправим стиль в заголовках столбцов, исключим пропуски. Затем проверим данные на дубликаты."
   ]
  },
  {
   "cell_type": "markdown",
   "metadata": {
    "id": "dIaKXr29_Zct"
   },
   "source": [
    "### Стиль заголовков\n",
    "Выведем на экран названия столбцов:"
   ]
  },
  {
   "cell_type": "code",
   "execution_count": 5,
   "metadata": {
    "id": "oKOTdF_Q_Zct"
   },
   "outputs": [
    {
     "data": {
      "text/plain": [
       "Index(['  userID', 'Track', 'artist', 'genre', '  City  ', 'time', 'Day'], dtype='object')"
      ]
     },
     "execution_count": 5,
     "metadata": {},
     "output_type": "execute_result"
    }
   ],
   "source": [
    "df.columns"
   ]
  },
  {
   "cell_type": "markdown",
   "metadata": {
    "id": "zj5534cv_Zct"
   },
   "source": [
    "Приведем названия в соответствие с хорошим стилем:\n",
    "* несколько слов в названии запишем в «змеином_регистре»,\n",
    "* все символы сделаем строчными,\n",
    "* устраним пробелы."
   ]
  },
  {
   "cell_type": "code",
   "execution_count": 6,
   "metadata": {
    "id": "ISlFqs5y_Zct"
   },
   "outputs": [],
   "source": [
    "df = df.rename(columns={'  userID':'user_id', 'Track':'track', '  City  ':'city', 'Day':'day'})"
   ]
  },
  {
   "cell_type": "markdown",
   "metadata": {
    "id": "1dqbh00J_Zct"
   },
   "source": [
    "Проверим результат. Для этого ещё раз выведите на экран названия столбцов:"
   ]
  },
  {
   "cell_type": "code",
   "execution_count": 7,
   "metadata": {
    "id": "d4NOAmTW_Zct"
   },
   "outputs": [
    {
     "data": {
      "text/plain": [
       "Index(['user_id', 'track', 'artist', 'genre', 'city', 'time', 'day'], dtype='object')"
      ]
     },
     "metadata": {},
     "output_type": "display_data"
    }
   ],
   "source": [
    "display(df.columns)"
   ]
  },
  {
   "cell_type": "markdown",
   "metadata": {
    "id": "5ISfbcfY_Zct"
   },
   "source": [
    "### Пропуски значений\n",
    "Сначала посчитаем, сколько в таблице пропущенных значений."
   ]
  },
  {
   "cell_type": "code",
   "execution_count": 8,
   "metadata": {
    "id": "RskX29qr_Zct"
   },
   "outputs": [
    {
     "data": {
      "text/plain": [
       "user_id       0\n",
       "track      1231\n",
       "artist     7203\n",
       "genre      1198\n",
       "city          0\n",
       "time          0\n",
       "day           0\n",
       "dtype: int64"
      ]
     },
     "execution_count": 8,
     "metadata": {},
     "output_type": "execute_result"
    }
   ],
   "source": [
    "df.isna().sum()"
   ]
  },
  {
   "cell_type": "markdown",
   "metadata": {
    "id": "qubhgnlO_Zct"
   },
   "source": [
    "Не все пропущенные значения влияют на исследование. Так в `track` и `artist` пропуски не важны для вашей работы. Достаточно заменить их явными обозначениями.\n",
    "\n",
    "Но пропуски в `genre` могут помешать сравнению музыкальных вкусов в Москве и Санкт-Петербурге. На практике было бы правильно установить причину пропусков и восстановить данные. Поэтому поступим следующим образом:\n",
    "* заполним и эти пропуски явными обозначениями,\n",
    "* оценим, насколько они повредят расчётам. "
   ]
  },
  {
   "cell_type": "markdown",
   "metadata": {
    "id": "fSv2laPA_Zct"
   },
   "source": [
    "Заменим пропущенные значения в столбцах `track`, `artist` и `genre` на строку `'unknown'`."
   ]
  },
  {
   "cell_type": "code",
   "execution_count": 9,
   "metadata": {
    "id": "KplB5qWs_Zct"
   },
   "outputs": [],
   "source": [
    "columns_to_replace = ['track', 'artist', 'genre']\n",
    "for columns in columns_to_replace:\n",
    "    df[columns] = df[columns].fillna('unknown')"
   ]
  },
  {
   "cell_type": "markdown",
   "metadata": {
    "id": "Ilsm-MZo_Zct"
   },
   "source": [
    "Убедимся, что в таблице не осталось пропусков."
   ]
  },
  {
   "cell_type": "code",
   "execution_count": 10,
   "metadata": {
    "id": "Tq4nYRX4_Zct"
   },
   "outputs": [
    {
     "data": {
      "text/plain": [
       "user_id    0\n",
       "track      0\n",
       "artist     0\n",
       "genre      0\n",
       "city       0\n",
       "time       0\n",
       "day        0\n",
       "dtype: int64"
      ]
     },
     "metadata": {},
     "output_type": "display_data"
    }
   ],
   "source": [
    "display(df.isna().sum())"
   ]
  },
  {
   "cell_type": "markdown",
   "metadata": {
    "id": "BWKRtBJ3_Zct"
   },
   "source": [
    "### Дубликаты\n",
    "Посчитаем явные дубликаты в таблице:"
   ]
  },
  {
   "cell_type": "code",
   "execution_count": 11,
   "metadata": {
    "id": "36eES_S0_Zct"
   },
   "outputs": [
    {
     "data": {
      "text/plain": [
       "3826"
      ]
     },
     "execution_count": 11,
     "metadata": {},
     "output_type": "execute_result"
    }
   ],
   "source": [
    "df.duplicated().sum()"
   ]
  },
  {
   "cell_type": "markdown",
   "metadata": {
    "id": "Ot25h6XR_Zct"
   },
   "source": [
    "Удалим явные дубликаты:"
   ]
  },
  {
   "cell_type": "code",
   "execution_count": 12,
   "metadata": {
    "id": "exFHq6tt_Zct"
   },
   "outputs": [],
   "source": [
    "df = df.drop_duplicates().reset_index(drop=True)"
   ]
  },
  {
   "cell_type": "markdown",
   "metadata": {
    "id": "Im2YwBEG_Zct"
   },
   "source": [
    "Перепроверим наличие дубликатов."
   ]
  },
  {
   "cell_type": "code",
   "execution_count": 13,
   "metadata": {
    "id": "-8PuNWQ0_Zct"
   },
   "outputs": [
    {
     "data": {
      "text/plain": [
       "0"
      ]
     },
     "metadata": {},
     "output_type": "display_data"
    }
   ],
   "source": [
    "display(df.duplicated().sum())"
   ]
  },
  {
   "cell_type": "markdown",
   "metadata": {
    "id": "QlFBsxAr_Zct"
   },
   "source": [
    "Теперь избавимся от неявных дубликатов в колонке `genre`."
   ]
  },
  {
   "cell_type": "markdown",
   "metadata": {
    "id": "eSjWwsOh_Zct"
   },
   "source": [
    "Выведем на экран список уникальных названий жанров, отсортированный в алфавитном порядке."
   ]
  },
  {
   "cell_type": "code",
   "execution_count": 14,
   "metadata": {
    "id": "JIUcqzZN_Zct"
   },
   "outputs": [
    {
     "data": {
      "text/plain": [
       "['acid',\n",
       " 'acoustic',\n",
       " 'action',\n",
       " 'adult',\n",
       " 'africa',\n",
       " 'afrikaans',\n",
       " 'alternative',\n",
       " 'alternativepunk',\n",
       " 'ambient',\n",
       " 'americana',\n",
       " 'animated',\n",
       " 'anime',\n",
       " 'arabesk',\n",
       " 'arabic',\n",
       " 'arena',\n",
       " 'argentinetango',\n",
       " 'art',\n",
       " 'audiobook',\n",
       " 'author',\n",
       " 'avantgarde',\n",
       " 'axé',\n",
       " 'baile',\n",
       " 'balkan',\n",
       " 'beats',\n",
       " 'bigroom',\n",
       " 'black',\n",
       " 'bluegrass',\n",
       " 'blues',\n",
       " 'bollywood',\n",
       " 'bossa',\n",
       " 'brazilian',\n",
       " 'breakbeat',\n",
       " 'breaks',\n",
       " 'broadway',\n",
       " 'cantautori',\n",
       " 'cantopop',\n",
       " 'canzone',\n",
       " 'caribbean',\n",
       " 'caucasian',\n",
       " 'celtic',\n",
       " 'chamber',\n",
       " 'chanson',\n",
       " 'children',\n",
       " 'chill',\n",
       " 'chinese',\n",
       " 'choral',\n",
       " 'christian',\n",
       " 'christmas',\n",
       " 'classical',\n",
       " 'classicmetal',\n",
       " 'club',\n",
       " 'colombian',\n",
       " 'comedy',\n",
       " 'conjazz',\n",
       " 'contemporary',\n",
       " 'country',\n",
       " 'cuban',\n",
       " 'dance',\n",
       " 'dancehall',\n",
       " 'dancepop',\n",
       " 'dark',\n",
       " 'death',\n",
       " 'deep',\n",
       " 'deutschrock',\n",
       " 'deutschspr',\n",
       " 'dirty',\n",
       " 'disco',\n",
       " 'dnb',\n",
       " 'documentary',\n",
       " 'downbeat',\n",
       " 'downtempo',\n",
       " 'drum',\n",
       " 'dub',\n",
       " 'dubstep',\n",
       " 'eastern',\n",
       " 'easy',\n",
       " 'electronic',\n",
       " 'electropop',\n",
       " 'emo',\n",
       " 'entehno',\n",
       " 'epicmetal',\n",
       " 'estrada',\n",
       " 'ethnic',\n",
       " 'eurofolk',\n",
       " 'european',\n",
       " 'experimental',\n",
       " 'extrememetal',\n",
       " 'fado',\n",
       " 'fairytail',\n",
       " 'film',\n",
       " 'fitness',\n",
       " 'flamenco',\n",
       " 'folk',\n",
       " 'folklore',\n",
       " 'folkmetal',\n",
       " 'folkrock',\n",
       " 'folktronica',\n",
       " 'forró',\n",
       " 'frankreich',\n",
       " 'französisch',\n",
       " 'french',\n",
       " 'funk',\n",
       " 'future',\n",
       " 'gangsta',\n",
       " 'garage',\n",
       " 'german',\n",
       " 'ghazal',\n",
       " 'gitarre',\n",
       " 'glitch',\n",
       " 'gospel',\n",
       " 'gothic',\n",
       " 'grime',\n",
       " 'grunge',\n",
       " 'gypsy',\n",
       " 'handsup',\n",
       " \"hard'n'heavy\",\n",
       " 'hardcore',\n",
       " 'hardstyle',\n",
       " 'hardtechno',\n",
       " 'hip',\n",
       " 'hip-hop',\n",
       " 'hiphop',\n",
       " 'historisch',\n",
       " 'holiday',\n",
       " 'hop',\n",
       " 'horror',\n",
       " 'house',\n",
       " 'hymn',\n",
       " 'idm',\n",
       " 'independent',\n",
       " 'indian',\n",
       " 'indie',\n",
       " 'indipop',\n",
       " 'industrial',\n",
       " 'inspirational',\n",
       " 'instrumental',\n",
       " 'international',\n",
       " 'irish',\n",
       " 'jam',\n",
       " 'japanese',\n",
       " 'jazz',\n",
       " 'jewish',\n",
       " 'jpop',\n",
       " 'jungle',\n",
       " 'k-pop',\n",
       " 'karadeniz',\n",
       " 'karaoke',\n",
       " 'kayokyoku',\n",
       " 'korean',\n",
       " 'laiko',\n",
       " 'latin',\n",
       " 'latino',\n",
       " 'leftfield',\n",
       " 'local',\n",
       " 'lounge',\n",
       " 'loungeelectronic',\n",
       " 'lovers',\n",
       " 'malaysian',\n",
       " 'mandopop',\n",
       " 'marschmusik',\n",
       " 'meditative',\n",
       " 'mediterranean',\n",
       " 'melodic',\n",
       " 'metal',\n",
       " 'metalcore',\n",
       " 'mexican',\n",
       " 'middle',\n",
       " 'minimal',\n",
       " 'miscellaneous',\n",
       " 'modern',\n",
       " 'mood',\n",
       " 'mpb',\n",
       " 'muslim',\n",
       " 'native',\n",
       " 'neoklassik',\n",
       " 'neue',\n",
       " 'new',\n",
       " 'newage',\n",
       " 'newwave',\n",
       " 'nu',\n",
       " 'nujazz',\n",
       " 'numetal',\n",
       " 'oceania',\n",
       " 'old',\n",
       " 'opera',\n",
       " 'orchestral',\n",
       " 'other',\n",
       " 'piano',\n",
       " 'podcasts',\n",
       " 'pop',\n",
       " 'popdance',\n",
       " 'popelectronic',\n",
       " 'popeurodance',\n",
       " 'poprussian',\n",
       " 'post',\n",
       " 'posthardcore',\n",
       " 'postrock',\n",
       " 'power',\n",
       " 'progmetal',\n",
       " 'progressive',\n",
       " 'psychedelic',\n",
       " 'punjabi',\n",
       " 'punk',\n",
       " 'quebecois',\n",
       " 'ragga',\n",
       " 'ram',\n",
       " 'rancheras',\n",
       " 'rap',\n",
       " 'rave',\n",
       " 'reggae',\n",
       " 'reggaeton',\n",
       " 'regional',\n",
       " 'relax',\n",
       " 'religious',\n",
       " 'retro',\n",
       " 'rhythm',\n",
       " 'rnb',\n",
       " 'rnr',\n",
       " 'rock',\n",
       " 'rockabilly',\n",
       " 'rockalternative',\n",
       " 'rockindie',\n",
       " 'rockother',\n",
       " 'romance',\n",
       " 'roots',\n",
       " 'ruspop',\n",
       " 'rusrap',\n",
       " 'rusrock',\n",
       " 'russian',\n",
       " 'salsa',\n",
       " 'samba',\n",
       " 'scenic',\n",
       " 'schlager',\n",
       " 'self',\n",
       " 'sertanejo',\n",
       " 'shanson',\n",
       " 'shoegazing',\n",
       " 'showtunes',\n",
       " 'singer',\n",
       " 'ska',\n",
       " 'skarock',\n",
       " 'slow',\n",
       " 'smooth',\n",
       " 'soft',\n",
       " 'soul',\n",
       " 'soulful',\n",
       " 'sound',\n",
       " 'soundtrack',\n",
       " 'southern',\n",
       " 'specialty',\n",
       " 'speech',\n",
       " 'spiritual',\n",
       " 'sport',\n",
       " 'stonerrock',\n",
       " 'surf',\n",
       " 'swing',\n",
       " 'synthpop',\n",
       " 'synthrock',\n",
       " 'sängerportrait',\n",
       " 'tango',\n",
       " 'tanzorchester',\n",
       " 'taraftar',\n",
       " 'tatar',\n",
       " 'tech',\n",
       " 'techno',\n",
       " 'teen',\n",
       " 'thrash',\n",
       " 'top',\n",
       " 'traditional',\n",
       " 'tradjazz',\n",
       " 'trance',\n",
       " 'tribal',\n",
       " 'trip',\n",
       " 'triphop',\n",
       " 'tropical',\n",
       " 'türk',\n",
       " 'türkçe',\n",
       " 'ukrrock',\n",
       " 'unknown',\n",
       " 'urban',\n",
       " 'uzbek',\n",
       " 'variété',\n",
       " 'vi',\n",
       " 'videogame',\n",
       " 'vocal',\n",
       " 'western',\n",
       " 'world',\n",
       " 'worldbeat',\n",
       " 'ïîï',\n",
       " 'электроника']"
      ]
     },
     "execution_count": 14,
     "metadata": {},
     "output_type": "execute_result"
    }
   ],
   "source": [
    "genre_sorted = sorted(df['genre'].unique())\n",
    "genre_sorted"
   ]
  },
  {
   "cell_type": "markdown",
   "metadata": {
    "id": "qej-Qmuo_Zct"
   },
   "source": [
    "Просмотрим список и найдем неявные дубликаты названия `hiphop`. Это могут быть названия с ошибками или альтернативные названия того же жанра.\n",
    "\n",
    "Видим следующие неявные дубликаты:\n",
    "* *hip*,\n",
    "* *hop*,\n",
    "* *hip-hop*.\n",
    "\n",
    "Чтобы очистить от них таблицу, напишем функцию `replace_wrong_genres()` с двумя параметрами: \n",
    "* `wrong_genres` — список дубликатов,\n",
    "* `correct_genre` — строка с правильным значением.\n",
    "\n",
    "Функция исправит колонку `genre` в таблице `df`: заменит каждое значение из списка `wrong_genres` на значение из `correct_genre`."
   ]
  },
  {
   "cell_type": "code",
   "execution_count": 15,
   "metadata": {
    "id": "ErNDkmns_Zct"
   },
   "outputs": [],
   "source": [
    "def replace_wrong_genre(wrong_genres, correct_genre):\n",
    "    df['genre'] = df['genre'].replace(wrong_genres, correct_genre)"
   ]
  },
  {
   "cell_type": "markdown",
   "metadata": {
    "id": "aDoBJxbA_Zct"
   },
   "source": [
    "Вызовем `replace_wrong_genres()` и передадим ей такие аргументы, чтобы она устранила неявные дубликаты: вместо `hip`, `hop` и `hip-hop` в таблице должно быть значение `hiphop`:"
   ]
  },
  {
   "cell_type": "code",
   "execution_count": 16,
   "metadata": {
    "id": "YN5i2hpmSo09"
   },
   "outputs": [],
   "source": [
    "replace_wrong_genre(['hip','hop', 'hip-hop'],'hiphop')\n",
    "replace_wrong_genre('электроника', 'electronic')"
   ]
  },
  {
   "cell_type": "markdown",
   "metadata": {
    "id": "zQKF16_RG15m"
   },
   "source": [
    "Проверим, что заменили неправильные названия:\n",
    "\n",
    "*   hip\n",
    "*   hop\n",
    "*   hip-hop\n",
    "\n",
    "Выведем отсортированный список уникальных значений столбца `genre`:"
   ]
  },
  {
   "cell_type": "code",
   "execution_count": 17,
   "metadata": {
    "id": "wvixALnFG15m"
   },
   "outputs": [
    {
     "data": {
      "text/plain": [
       "['acid',\n",
       " 'acoustic',\n",
       " 'action',\n",
       " 'adult',\n",
       " 'africa',\n",
       " 'afrikaans',\n",
       " 'alternative',\n",
       " 'alternativepunk',\n",
       " 'ambient',\n",
       " 'americana',\n",
       " 'animated',\n",
       " 'anime',\n",
       " 'arabesk',\n",
       " 'arabic',\n",
       " 'arena',\n",
       " 'argentinetango',\n",
       " 'art',\n",
       " 'audiobook',\n",
       " 'author',\n",
       " 'avantgarde',\n",
       " 'axé',\n",
       " 'baile',\n",
       " 'balkan',\n",
       " 'beats',\n",
       " 'bigroom',\n",
       " 'black',\n",
       " 'bluegrass',\n",
       " 'blues',\n",
       " 'bollywood',\n",
       " 'bossa',\n",
       " 'brazilian',\n",
       " 'breakbeat',\n",
       " 'breaks',\n",
       " 'broadway',\n",
       " 'cantautori',\n",
       " 'cantopop',\n",
       " 'canzone',\n",
       " 'caribbean',\n",
       " 'caucasian',\n",
       " 'celtic',\n",
       " 'chamber',\n",
       " 'chanson',\n",
       " 'children',\n",
       " 'chill',\n",
       " 'chinese',\n",
       " 'choral',\n",
       " 'christian',\n",
       " 'christmas',\n",
       " 'classical',\n",
       " 'classicmetal',\n",
       " 'club',\n",
       " 'colombian',\n",
       " 'comedy',\n",
       " 'conjazz',\n",
       " 'contemporary',\n",
       " 'country',\n",
       " 'cuban',\n",
       " 'dance',\n",
       " 'dancehall',\n",
       " 'dancepop',\n",
       " 'dark',\n",
       " 'death',\n",
       " 'deep',\n",
       " 'deutschrock',\n",
       " 'deutschspr',\n",
       " 'dirty',\n",
       " 'disco',\n",
       " 'dnb',\n",
       " 'documentary',\n",
       " 'downbeat',\n",
       " 'downtempo',\n",
       " 'drum',\n",
       " 'dub',\n",
       " 'dubstep',\n",
       " 'eastern',\n",
       " 'easy',\n",
       " 'electronic',\n",
       " 'electropop',\n",
       " 'emo',\n",
       " 'entehno',\n",
       " 'epicmetal',\n",
       " 'estrada',\n",
       " 'ethnic',\n",
       " 'eurofolk',\n",
       " 'european',\n",
       " 'experimental',\n",
       " 'extrememetal',\n",
       " 'fado',\n",
       " 'fairytail',\n",
       " 'film',\n",
       " 'fitness',\n",
       " 'flamenco',\n",
       " 'folk',\n",
       " 'folklore',\n",
       " 'folkmetal',\n",
       " 'folkrock',\n",
       " 'folktronica',\n",
       " 'forró',\n",
       " 'frankreich',\n",
       " 'französisch',\n",
       " 'french',\n",
       " 'funk',\n",
       " 'future',\n",
       " 'gangsta',\n",
       " 'garage',\n",
       " 'german',\n",
       " 'ghazal',\n",
       " 'gitarre',\n",
       " 'glitch',\n",
       " 'gospel',\n",
       " 'gothic',\n",
       " 'grime',\n",
       " 'grunge',\n",
       " 'gypsy',\n",
       " 'handsup',\n",
       " \"hard'n'heavy\",\n",
       " 'hardcore',\n",
       " 'hardstyle',\n",
       " 'hardtechno',\n",
       " 'hiphop',\n",
       " 'historisch',\n",
       " 'holiday',\n",
       " 'horror',\n",
       " 'house',\n",
       " 'hymn',\n",
       " 'idm',\n",
       " 'independent',\n",
       " 'indian',\n",
       " 'indie',\n",
       " 'indipop',\n",
       " 'industrial',\n",
       " 'inspirational',\n",
       " 'instrumental',\n",
       " 'international',\n",
       " 'irish',\n",
       " 'jam',\n",
       " 'japanese',\n",
       " 'jazz',\n",
       " 'jewish',\n",
       " 'jpop',\n",
       " 'jungle',\n",
       " 'k-pop',\n",
       " 'karadeniz',\n",
       " 'karaoke',\n",
       " 'kayokyoku',\n",
       " 'korean',\n",
       " 'laiko',\n",
       " 'latin',\n",
       " 'latino',\n",
       " 'leftfield',\n",
       " 'local',\n",
       " 'lounge',\n",
       " 'loungeelectronic',\n",
       " 'lovers',\n",
       " 'malaysian',\n",
       " 'mandopop',\n",
       " 'marschmusik',\n",
       " 'meditative',\n",
       " 'mediterranean',\n",
       " 'melodic',\n",
       " 'metal',\n",
       " 'metalcore',\n",
       " 'mexican',\n",
       " 'middle',\n",
       " 'minimal',\n",
       " 'miscellaneous',\n",
       " 'modern',\n",
       " 'mood',\n",
       " 'mpb',\n",
       " 'muslim',\n",
       " 'native',\n",
       " 'neoklassik',\n",
       " 'neue',\n",
       " 'new',\n",
       " 'newage',\n",
       " 'newwave',\n",
       " 'nu',\n",
       " 'nujazz',\n",
       " 'numetal',\n",
       " 'oceania',\n",
       " 'old',\n",
       " 'opera',\n",
       " 'orchestral',\n",
       " 'other',\n",
       " 'piano',\n",
       " 'podcasts',\n",
       " 'pop',\n",
       " 'popdance',\n",
       " 'popelectronic',\n",
       " 'popeurodance',\n",
       " 'poprussian',\n",
       " 'post',\n",
       " 'posthardcore',\n",
       " 'postrock',\n",
       " 'power',\n",
       " 'progmetal',\n",
       " 'progressive',\n",
       " 'psychedelic',\n",
       " 'punjabi',\n",
       " 'punk',\n",
       " 'quebecois',\n",
       " 'ragga',\n",
       " 'ram',\n",
       " 'rancheras',\n",
       " 'rap',\n",
       " 'rave',\n",
       " 'reggae',\n",
       " 'reggaeton',\n",
       " 'regional',\n",
       " 'relax',\n",
       " 'religious',\n",
       " 'retro',\n",
       " 'rhythm',\n",
       " 'rnb',\n",
       " 'rnr',\n",
       " 'rock',\n",
       " 'rockabilly',\n",
       " 'rockalternative',\n",
       " 'rockindie',\n",
       " 'rockother',\n",
       " 'romance',\n",
       " 'roots',\n",
       " 'ruspop',\n",
       " 'rusrap',\n",
       " 'rusrock',\n",
       " 'russian',\n",
       " 'salsa',\n",
       " 'samba',\n",
       " 'scenic',\n",
       " 'schlager',\n",
       " 'self',\n",
       " 'sertanejo',\n",
       " 'shanson',\n",
       " 'shoegazing',\n",
       " 'showtunes',\n",
       " 'singer',\n",
       " 'ska',\n",
       " 'skarock',\n",
       " 'slow',\n",
       " 'smooth',\n",
       " 'soft',\n",
       " 'soul',\n",
       " 'soulful',\n",
       " 'sound',\n",
       " 'soundtrack',\n",
       " 'southern',\n",
       " 'specialty',\n",
       " 'speech',\n",
       " 'spiritual',\n",
       " 'sport',\n",
       " 'stonerrock',\n",
       " 'surf',\n",
       " 'swing',\n",
       " 'synthpop',\n",
       " 'synthrock',\n",
       " 'sängerportrait',\n",
       " 'tango',\n",
       " 'tanzorchester',\n",
       " 'taraftar',\n",
       " 'tatar',\n",
       " 'tech',\n",
       " 'techno',\n",
       " 'teen',\n",
       " 'thrash',\n",
       " 'top',\n",
       " 'traditional',\n",
       " 'tradjazz',\n",
       " 'trance',\n",
       " 'tribal',\n",
       " 'trip',\n",
       " 'triphop',\n",
       " 'tropical',\n",
       " 'türk',\n",
       " 'türkçe',\n",
       " 'ukrrock',\n",
       " 'unknown',\n",
       " 'urban',\n",
       " 'uzbek',\n",
       " 'variété',\n",
       " 'vi',\n",
       " 'videogame',\n",
       " 'vocal',\n",
       " 'western',\n",
       " 'world',\n",
       " 'worldbeat',\n",
       " 'ïîï']"
      ]
     },
     "metadata": {},
     "output_type": "display_data"
    }
   ],
   "source": [
    "genre_sorted = sorted(df['genre'].unique())\n",
    "display(genre_sorted)"
   ]
  },
  {
   "cell_type": "markdown",
   "metadata": {
    "id": "jz6a9-7HQUDd"
   },
   "source": [
    "**Выводы**\n",
    "\n",
    "Предобработка обнаружила три проблемы в данных:\n",
    "\n",
    "- нарушения в стиле заголовков,\n",
    "- пропущенные значения,\n",
    "- дубликаты — явные и неявные.\n",
    "\n",
    "Исправили заголовки, чтобы упростить работу с таблицей. Без дубликатов исследование станет более точным.\n",
    "\n",
    "Пропущенные значения заменили на `'unknown'`. Ещё предстоит увидеть, не повредят ли исследованию пропуски в колонке `genre`.\n",
    "\n",
    "Теперь можно перейти к проверке гипотез. "
   ]
  },
  {
   "cell_type": "markdown",
   "metadata": {
    "id": "WttZHXH0SqKk"
   },
   "source": [
    "## Проверка гипотез"
   ]
  },
  {
   "cell_type": "markdown",
   "metadata": {
    "id": "Im936VVi_Zcu"
   },
   "source": [
    "### Сравнение поведения пользователей двух столиц"
   ]
  },
  {
   "cell_type": "markdown",
   "metadata": {
    "id": "nwt_MuaL_Zcu"
   },
   "source": [
    "Первая гипотеза утверждает, что пользователи по-разному слушают музыку в Москве и Санкт-Петербурге. Проверим это предположение по данным о трёх днях недели — понедельнике, среде и пятнице. Для этого:\n",
    "\n",
    "* Разделим пользователей Москвы и Санкт-Петербурга\n",
    "* Сравним, сколько треков послушала каждая группа пользователей в понедельник, среду и пятницу.\n"
   ]
  },
  {
   "cell_type": "markdown",
   "metadata": {
    "id": "8Dw_YMmT_Zcu"
   },
   "source": [
    "Для тренировки сначала выполните каждый из расчётов по отдельности. \n",
    "\n",
    "Оцените активность пользователей в каждом городе. Сгруппируйте данные по городу и посчитайте прослушивания в каждой группе.\n",
    "\n"
   ]
  },
  {
   "cell_type": "code",
   "execution_count": 18,
   "metadata": {
    "id": "0_Qs96oh_Zcu"
   },
   "outputs": [
    {
     "data": {
      "text/plain": [
       "city\n",
       "Moscow              42741\n",
       "Saint-Petersburg    18512\n",
       "Name: user_id, dtype: int64"
      ]
     },
     "metadata": {},
     "output_type": "display_data"
    }
   ],
   "source": [
    "display(df.groupby('city')['user_id'].count())"
   ]
  },
  {
   "cell_type": "markdown",
   "metadata": {
    "id": "dzli3w8o_Zcu"
   },
   "source": [
    "В Москве прослушиваний больше, чем в Петербурге. Из этого не следует, что московские пользователи чаще слушают музыку. Просто самих пользователей в Москве больше.\n",
    "\n",
    "Теперь сгруппируйте данные по дню недели и подсчитайте прослушивания в понедельник, среду и пятницу. Учтите, что в данных есть информация только о прослушиваниях только за эти дни.\n"
   ]
  },
  {
   "cell_type": "code",
   "execution_count": 19,
   "metadata": {
    "id": "uZMKjiJz_Zcu"
   },
   "outputs": [
    {
     "data": {
      "text/plain": [
       "day\n",
       "Friday       21840\n",
       "Monday       21354\n",
       "Wednesday    18059\n",
       "Name: user_id, dtype: int64"
      ]
     },
     "metadata": {},
     "output_type": "display_data"
    }
   ],
   "source": [
    "display(df.groupby('day')['user_id'].count())"
   ]
  },
  {
   "cell_type": "markdown",
   "metadata": {
    "id": "cC2tNrlL_Zcu"
   },
   "source": [
    "В среднем пользователи из двух городов менее активны по средам. Но картина может измениться, если рассмотреть каждый город в отдельности."
   ]
  },
  {
   "cell_type": "markdown",
   "metadata": {
    "id": "POzs8bGa_Zcu"
   },
   "source": [
    "Напишем функцию, которая объединит два эти расчёта.\n",
    "\n",
    "Создайте функцию `number_tracks()`, которая посчитает прослушивания для заданного дня и города. Ей понадобятся два параметра:\n",
    "* день недели,\n",
    "* название города.\n",
    "\n",
    "В функции сохраните в переменную строки исходной таблицы, у которых значение:\n",
    "  * в колонке `day` равно параметру `day`,\n",
    "  * в колонке `city` равно параметру `city`.\n",
    "\n",
    "Затем посчитаем значения в столбце `user_id` получившейся таблицы. Результат сохраним в новую переменную."
   ]
  },
  {
   "cell_type": "code",
   "execution_count": 20,
   "metadata": {
    "id": "Nz3GdQB1_Zcu"
   },
   "outputs": [],
   "source": [
    "# <создание функции number_tracks()>\n",
    "def number_track(day, city):\n",
    "    track_list = df[df['day'] == day] \n",
    "    track_list = track_list[track_list['city'] == city]\n",
    "    track_list_count = track_list['user_id'].count()\n",
    "    return track_list_count "
   ]
  },
  {
   "cell_type": "markdown",
   "metadata": {
    "id": "ytf7xFrFJQ2r"
   },
   "source": [
    "Вызовем `number_tracks()` шесть раз, меняя значение параметров — так, чтобы получить данные для каждого города в каждый из трёх дней."
   ]
  },
  {
   "cell_type": "code",
   "execution_count": 21,
   "metadata": {
    "id": "rJcRATNQ_Zcu"
   },
   "outputs": [
    {
     "data": {
      "text/plain": [
       "15740"
      ]
     },
     "execution_count": 21,
     "metadata": {},
     "output_type": "execute_result"
    }
   ],
   "source": [
    "number_track('Monday', 'Moscow')\n",
    "# количество прослушиваний в Москве по понедельникам"
   ]
  },
  {
   "cell_type": "code",
   "execution_count": 22,
   "metadata": {
    "id": "hq_ncZ5T_Zcu"
   },
   "outputs": [
    {
     "data": {
      "text/plain": [
       "5614"
      ]
     },
     "execution_count": 22,
     "metadata": {},
     "output_type": "execute_result"
    }
   ],
   "source": [
    "number_track('Monday', 'Saint-Petersburg')\n",
    "# количество прослушиваний в Санкт-Петербурге по понедельникам"
   ]
  },
  {
   "cell_type": "code",
   "execution_count": 23,
   "metadata": {
    "id": "_NTy2VPU_Zcu"
   },
   "outputs": [
    {
     "data": {
      "text/plain": [
       "11056"
      ]
     },
     "execution_count": 23,
     "metadata": {},
     "output_type": "execute_result"
    }
   ],
   "source": [
    "number_track('Wednesday', 'Moscow')\n",
    "# количество прослушиваний в Москве по средам"
   ]
  },
  {
   "cell_type": "code",
   "execution_count": 24,
   "metadata": {
    "id": "j2y3TAwo_Zcu"
   },
   "outputs": [
    {
     "data": {
      "text/plain": [
       "7003"
      ]
     },
     "execution_count": 24,
     "metadata": {},
     "output_type": "execute_result"
    }
   ],
   "source": [
    "number_track('Wednesday', 'Saint-Petersburg')\n",
    "# количество прослушиваний в Санкт-Петербурге по средам"
   ]
  },
  {
   "cell_type": "code",
   "execution_count": 25,
   "metadata": {
    "id": "vYDw5u_K_Zcu"
   },
   "outputs": [
    {
     "data": {
      "text/plain": [
       "15945"
      ]
     },
     "execution_count": 25,
     "metadata": {},
     "output_type": "execute_result"
    }
   ],
   "source": [
    "number_track('Friday', 'Moscow')\n",
    "# количество прослушиваний в Москве по пятницам"
   ]
  },
  {
   "cell_type": "code",
   "execution_count": 26,
   "metadata": {
    "id": "8_yzFtW3_Zcu"
   },
   "outputs": [
    {
     "data": {
      "text/plain": [
       "5895"
      ]
     },
     "execution_count": 26,
     "metadata": {},
     "output_type": "execute_result"
    }
   ],
   "source": [
    "number_track('Friday', 'Saint-Petersburg')\n",
    "# количество прослушиваний в Санкт-Петербурге по пятницам"
   ]
  },
  {
   "cell_type": "markdown",
   "metadata": {
    "id": "7QXffbO-_Zcu"
   },
   "source": [
    "Создадим DataFrame таблицу, где\n",
    "* названия колонок — `['city', 'monday', 'wednesday', 'friday']`;\n",
    "* данные — результаты, которые вы получили с помощью `number_tracks`."
   ]
  },
  {
   "cell_type": "code",
   "execution_count": 27,
   "metadata": {
    "id": "APAcLpOr_Zcu"
   },
   "outputs": [
    {
     "data": {
      "text/html": [
       "<div>\n",
       "<style scoped>\n",
       "    .dataframe tbody tr th:only-of-type {\n",
       "        vertical-align: middle;\n",
       "    }\n",
       "\n",
       "    .dataframe tbody tr th {\n",
       "        vertical-align: top;\n",
       "    }\n",
       "\n",
       "    .dataframe thead th {\n",
       "        text-align: right;\n",
       "    }\n",
       "</style>\n",
       "<table border=\"1\" class=\"dataframe\">\n",
       "  <thead>\n",
       "    <tr style=\"text-align: right;\">\n",
       "      <th></th>\n",
       "      <th>city</th>\n",
       "      <th>monday</th>\n",
       "      <th>wednesday</th>\n",
       "      <th>friday</th>\n",
       "    </tr>\n",
       "  </thead>\n",
       "  <tbody>\n",
       "    <tr>\n",
       "      <th>0</th>\n",
       "      <td>Moscow</td>\n",
       "      <td>15740</td>\n",
       "      <td>11056</td>\n",
       "      <td>15945</td>\n",
       "    </tr>\n",
       "    <tr>\n",
       "      <th>1</th>\n",
       "      <td>Saint-Petersburg</td>\n",
       "      <td>5614</td>\n",
       "      <td>7003</td>\n",
       "      <td>5895</td>\n",
       "    </tr>\n",
       "  </tbody>\n",
       "</table>\n",
       "</div>"
      ],
      "text/plain": [
       "               city  monday  wednesday  friday\n",
       "0            Moscow   15740      11056   15945\n",
       "1  Saint-Petersburg    5614       7003    5895"
      ]
     },
     "metadata": {},
     "output_type": "display_data"
    }
   ],
   "source": [
    "columns = ['city', 'monday', 'wednesday', 'friday']\n",
    "data = [\n",
    "    ['Moscow', 15740,  11056, 15945],\n",
    "    ['Saint-Petersburg', 5614,7003, 5895],\n",
    "]\n",
    "\n",
    "music_city_day = pd.DataFrame(data=data, columns=columns)\n",
    "display(music_city_day)"
   ]
  },
  {
   "cell_type": "markdown",
   "metadata": {
    "id": "-EgPIHYu_Zcu"
   },
   "source": [
    "**Выводы**\n",
    "\n",
    "Данные показывают разницу поведения пользователей:\n",
    "\n",
    "- В Москве пик прослушиваний приходится на понедельник и пятницу, а в среду заметен спад.\n",
    "- В Петербурге, наоборот, больше слушают музыку по средам. Активность в понедельник и пятницу здесь почти в равной мере уступает среде.\n",
    "\n",
    "Значит, данные говорят в пользу первой гипотезы."
   ]
  },
  {
   "cell_type": "markdown",
   "metadata": {
    "id": "atZAxtq4_Zcu"
   },
   "source": [
    "### Музыка в начале и в конце недели"
   ]
  },
  {
   "cell_type": "markdown",
   "metadata": {
    "id": "eXrQqXFH_Zcu"
   },
   "source": [
    "Согласно второй гипотезе, утром в понедельник в Москве преобладают одни жанры, а в Петербурге — другие. Так же и вечером пятницы преобладают разные жанры — в зависимости от города."
   ]
  },
  {
   "cell_type": "markdown",
   "metadata": {
    "id": "S8UcW6Hw_Zcu"
   },
   "source": [
    "Сохраним таблицы с данными в две переменные:\n",
    "* по Москве — в `moscow_general`;\n",
    "* по Санкт-Петербургу — в `spb_general`."
   ]
  },
  {
   "cell_type": "code",
   "execution_count": 28,
   "metadata": {
    "id": "qeaFfM_P_Zcu"
   },
   "outputs": [],
   "source": [
    "moscow_general = df[df['city'] == 'Moscow']"
   ]
  },
  {
   "cell_type": "code",
   "execution_count": 29,
   "metadata": {
    "id": "ORaVRKto_Zcu"
   },
   "outputs": [],
   "source": [
    "spb_general = df[df['city'] == 'Saint-Petersburg']"
   ]
  },
  {
   "cell_type": "markdown",
   "metadata": {
    "id": "MEJV-CX2_Zcu"
   },
   "source": [
    "Создадим функцию `genre_weekday()` с четырьмя параметрами:\n",
    "* таблица (датафрейм) с данными,\n",
    "* день недели,\n",
    "* начальная временная метка в формате 'hh:mm', \n",
    "* последняя временная метка в формате 'hh:mm'.\n",
    "\n",
    "Функция должна вернуть информацию о топ-10 жанров тех треков, которые прослушивали в указанный день, в промежутке между двумя отметками времени."
   ]
  },
  {
   "cell_type": "code",
   "execution_count": 30,
   "metadata": {
    "id": "laJT9BYl_Zcu"
   },
   "outputs": [],
   "source": [
    "def genre_weekday(table, day, time1, time2):\n",
    "    genre_df = table[table['day'] == day] \n",
    "    genre_df = genre_df[genre_df['time'] > time1]\n",
    "    genre_df = genre_df[genre_df['time'] < time2]\n",
    "    genre_df_count = genre_df.groupby('genre')['user_id'].count()\n",
    "    genre_df_sorted = genre_df_count.sort_values(ascending=False)\n",
    "    return genre_df_sorted.head(10)"
   ]
  },
  {
   "cell_type": "markdown",
   "metadata": {
    "id": "la2s2_PF_Zcu"
   },
   "source": [
    "Cравним результаты функции `genre_weekday()` для Москвы и Санкт-Петербурга в понедельник утром (с 7:00 до 11:00) и в пятницу вечером (с 17:00 до 23:00): "
   ]
  },
  {
   "cell_type": "code",
   "execution_count": 31,
   "metadata": {
    "id": "yz7itPUQ_Zcu"
   },
   "outputs": [
    {
     "data": {
      "text/plain": [
       "genre\n",
       "pop            781\n",
       "dance          549\n",
       "electronic     480\n",
       "rock           474\n",
       "hiphop         286\n",
       "ruspop         186\n",
       "world          181\n",
       "rusrap         175\n",
       "alternative    164\n",
       "unknown        161\n",
       "Name: user_id, dtype: int64"
      ]
     },
     "execution_count": 31,
     "metadata": {},
     "output_type": "execute_result"
    }
   ],
   "source": [
    "genre_weekday(moscow_general, 'Monday', '07:00', '11:00')"
   ]
  },
  {
   "cell_type": "code",
   "execution_count": 32,
   "metadata": {
    "id": "kwUcHPdy_Zcu"
   },
   "outputs": [
    {
     "data": {
      "text/plain": [
       "genre\n",
       "pop            218\n",
       "dance          182\n",
       "rock           162\n",
       "electronic     147\n",
       "hiphop          80\n",
       "ruspop          64\n",
       "alternative     58\n",
       "rusrap          55\n",
       "jazz            44\n",
       "classical       40\n",
       "Name: user_id, dtype: int64"
      ]
     },
     "execution_count": 32,
     "metadata": {},
     "output_type": "execute_result"
    }
   ],
   "source": [
    "genre_weekday(spb_general, 'Monday', '07:00', '11:00')"
   ]
  },
  {
   "cell_type": "code",
   "execution_count": 33,
   "metadata": {
    "id": "EzXVRE1o_Zcu"
   },
   "outputs": [
    {
     "data": {
      "text/plain": [
       "genre\n",
       "pop            713\n",
       "rock           517\n",
       "dance          495\n",
       "electronic     482\n",
       "hiphop         273\n",
       "world          208\n",
       "ruspop         170\n",
       "alternative    163\n",
       "classical      163\n",
       "rusrap         142\n",
       "Name: user_id, dtype: int64"
      ]
     },
     "execution_count": 33,
     "metadata": {},
     "output_type": "execute_result"
    }
   ],
   "source": [
    "genre_weekday(moscow_general, 'Friday', '17:00', '23:00')"
   ]
  },
  {
   "cell_type": "code",
   "execution_count": 34,
   "metadata": {
    "id": "JZaEKu5v_Zcu"
   },
   "outputs": [
    {
     "data": {
      "text/plain": [
       "genre\n",
       "pop            256\n",
       "electronic     216\n",
       "rock           216\n",
       "dance          210\n",
       "hiphop          97\n",
       "alternative     63\n",
       "jazz            61\n",
       "classical       60\n",
       "rusrap          59\n",
       "world           54\n",
       "Name: user_id, dtype: int64"
      ]
     },
     "execution_count": 34,
     "metadata": {},
     "output_type": "execute_result"
    }
   ],
   "source": [
    "genre_weekday(spb_general, 'Friday', '17:00', '23:00')"
   ]
  },
  {
   "cell_type": "markdown",
   "metadata": {
    "id": "wrCe4MNX_Zcu"
   },
   "source": [
    "**Выводы**\n",
    "\n",
    "Если сравнить топ-10 жанров в понедельник утром, можно сделать такие выводы:\n",
    "\n",
    "1. В Москве и Петербурге слушают похожую музыку. Единственное отличие — в московский рейтинг вошёл жанр “world”, а в петербургский — джаз и классика.\n",
    "\n",
    "2. В Москве пропущенных значений оказалось так много, что значение `'unknown'` заняло десятое место среди самых популярных жанров. Значит, пропущенные значения занимают существенную долю в данных и угрожают достоверности исследования.\n",
    "\n",
    "Вечер пятницы не меняет эту картину. Некоторые жанры поднимаются немного выше, другие спускаются, но в целом топ-10 остаётся тем же самым.\n",
    "\n",
    "Таким образом, вторая гипотеза подтвердилась лишь частично:\n",
    "* Пользователи слушают похожую музыку в начале недели и в конце.\n",
    "* Разница между Москвой и Петербургом не слишком выражена. В Москве чаще слушают русскую популярную музыку, в Петербурге — джаз.\n",
    "\n",
    "Однако пропуски в данных ставят под сомнение этот результат. В Москве их так много, что рейтинг топ-10 мог бы выглядеть иначе, если бы не утерянные  данные о жанрах."
   ]
  },
  {
   "cell_type": "markdown",
   "metadata": {
    "id": "JolODAqr_Zcu"
   },
   "source": [
    "### Жанровые предпочтения в Москве и Петербурге\n",
    "\n",
    "Гипотеза: Петербург — столица рэпа, музыку этого жанра там слушают чаще, чем в Москве.  А Москва — город контрастов, в котором, тем не менее, преобладает поп-музыка."
   ]
  },
  {
   "cell_type": "markdown",
   "metadata": {
    "id": "DlegSvaT_Zcu"
   },
   "source": [
    "Сгруппируем таблицу `moscow_general` по жанру и посчитаем прослушивания треков каждого жанра методом `count()`. Затем отсортируем результат в порядке убывания и сохраним его в таблице `moscow_genres`."
   ]
  },
  {
   "cell_type": "code",
   "execution_count": 35,
   "metadata": {
    "id": "r19lIPke_Zcu"
   },
   "outputs": [],
   "source": [
    "moscow_genres = moscow_general.groupby('genre')['user_id'].count().sort_values(ascending=False)"
   ]
  },
  {
   "cell_type": "markdown",
   "metadata": {
    "id": "6kMuomxTiIr8"
   },
   "source": [
    "Выведите на экран первые десять строк `moscow_genres`:"
   ]
  },
  {
   "cell_type": "code",
   "execution_count": 36,
   "metadata": {
    "id": "WhCSooF8_Zcv"
   },
   "outputs": [
    {
     "data": {
      "text/plain": [
       "genre\n",
       "pop            5892\n",
       "dance          4435\n",
       "rock           3965\n",
       "electronic     3786\n",
       "hiphop         2096\n",
       "classical      1616\n",
       "world          1432\n",
       "alternative    1379\n",
       "ruspop         1372\n",
       "rusrap         1161\n",
       "Name: user_id, dtype: int64"
      ]
     },
     "metadata": {},
     "output_type": "display_data"
    }
   ],
   "source": [
    "display(moscow_genres.head(10))"
   ]
  },
  {
   "cell_type": "markdown",
   "metadata": {
    "id": "cnPG2vnN_Zcv"
   },
   "source": [
    "Теперь повторим то же и для Петербурга.\n",
    "\n",
    "Сгруппируем таблицу `spb_general` по жанру. Посчитаем прослушивания треков каждого жанра. Результат отсортируем в порядке убывания и сохраним в таблице `spb_genres`:\n"
   ]
  },
  {
   "cell_type": "code",
   "execution_count": 37,
   "metadata": {
    "id": "gluLIpE7_Zcv"
   },
   "outputs": [],
   "source": [
    "spb_genres = spb_general.groupby('genre')['user_id'].count().sort_values(ascending=False)"
   ]
  },
  {
   "cell_type": "markdown",
   "metadata": {
    "id": "5Doha_ODgyQ8"
   },
   "source": [
    "Выведем на экран первые десять строк `spb_genres`:"
   ]
  },
  {
   "cell_type": "code",
   "execution_count": 38,
   "metadata": {
    "id": "uaGJHjVU_Zcv"
   },
   "outputs": [
    {
     "data": {
      "text/plain": [
       "genre\n",
       "pop            2431\n",
       "dance          1932\n",
       "rock           1879\n",
       "electronic     1737\n",
       "hiphop          960\n",
       "alternative     649\n",
       "classical       646\n",
       "rusrap          564\n",
       "ruspop          538\n",
       "world           515\n",
       "Name: user_id, dtype: int64"
      ]
     },
     "metadata": {},
     "output_type": "display_data"
    }
   ],
   "source": [
    "display(spb_genres.head(10))"
   ]
  },
  {
   "cell_type": "markdown",
   "metadata": {
    "id": "RY51YJYu_Zcv"
   },
   "source": [
    "**Выводы**"
   ]
  },
  {
   "cell_type": "markdown",
   "metadata": {
    "id": "nVhnJEm__Zcv"
   },
   "source": [
    "Гипотеза частично подтвердилась:\n",
    "* Поп-музыка — самый популярный жанр в Москве, как и предполагала гипотеза. Более того, в топ-10 жанров встречается близкий жанр — русская популярная музыка.\n",
    "* Вопреки ожиданиям, рэп одинаково популярен в Москве и Петербурге. \n"
   ]
  },
  {
   "cell_type": "markdown",
   "metadata": {
    "id": "ykKQ0N65_Zcv"
   },
   "source": [
    "## Итоги исследования"
   ]
  },
  {
   "cell_type": "markdown",
   "metadata": {
    "id": "tjUwbHb3_Zcv"
   },
   "source": [
    "Мы проверили три гипотезы и установили:\n",
    "\n",
    "1. День недели по-разному влияет на активность пользователей в Москве и Петербурге. \n",
    "\n",
    "Первая гипотеза полностью подтвердилась.\n",
    "\n",
    "2. Музыкальные предпочтения не сильно меняются в течение недели — будь то Москва или Петербург. Небольшие различия заметны в начале недели, по понедельникам:\n",
    "* в Москве слушают музыку жанра “world”,\n",
    "* в Петербурге — джаз и классику.\n",
    "\n",
    "Таким образом, вторая гипотеза подтвердилась лишь отчасти. Этот результат мог оказаться иным, если бы не пропуски в данных.\n",
    "\n",
    "3. Во вкусах пользователей Москвы и Петербурга больше общего чем различий. Вопреки ожиданиям, предпочтения жанров в Петербурге напоминают московские.\n",
    "\n",
    "Третья гипотеза не подтвердилась. Если различия в предпочтениях и существуют, на основной массе пользователей они незаметны."
   ]
  }
 ],
 "metadata": {
  "ExecuteTimeLog": [
   {
    "duration": 621,
    "start_time": "2021-11-27T18:27:07.734Z"
   },
   {
    "duration": 96,
    "start_time": "2021-11-27T18:27:12.148Z"
   },
   {
    "duration": 173,
    "start_time": "2021-11-27T18:29:01.377Z"
   },
   {
    "duration": 24,
    "start_time": "2021-11-27T18:29:06.996Z"
   },
   {
    "duration": 30,
    "start_time": "2021-11-27T18:30:05.053Z"
   },
   {
    "duration": 316,
    "start_time": "2021-11-28T17:53:20.648Z"
   },
   {
    "duration": 258,
    "start_time": "2021-11-28T17:53:29.431Z"
   },
   {
    "duration": 260,
    "start_time": "2021-11-28T17:53:32.487Z"
   },
   {
    "duration": 724,
    "start_time": "2021-11-28T17:53:38.852Z"
   },
   {
    "duration": 181,
    "start_time": "2021-11-28T17:53:39.578Z"
   },
   {
    "duration": 25,
    "start_time": "2021-11-28T17:53:39.761Z"
   },
   {
    "duration": 48,
    "start_time": "2021-11-28T17:53:39.789Z"
   },
   {
    "duration": 33,
    "start_time": "2021-11-28T17:53:51.599Z"
   },
   {
    "duration": 6,
    "start_time": "2021-11-28T17:57:47.507Z"
   },
   {
    "duration": 29,
    "start_time": "2021-11-28T18:00:06.204Z"
   },
   {
    "duration": 6,
    "start_time": "2021-11-28T18:00:27.671Z"
   },
   {
    "duration": 29,
    "start_time": "2021-11-28T18:01:13.143Z"
   },
   {
    "duration": 21,
    "start_time": "2021-11-28T18:08:55.600Z"
   },
   {
    "duration": 306,
    "start_time": "2021-11-28T18:09:32.447Z"
   },
   {
    "duration": 88,
    "start_time": "2021-11-28T18:09:43.869Z"
   },
   {
    "duration": 282,
    "start_time": "2021-11-28T18:09:51.232Z"
   },
   {
    "duration": 30,
    "start_time": "2021-11-28T18:09:59.000Z"
   },
   {
    "duration": 82,
    "start_time": "2021-11-28T18:11:07.248Z"
   },
   {
    "duration": 91,
    "start_time": "2021-11-28T18:11:55.584Z"
   },
   {
    "duration": 81,
    "start_time": "2021-11-28T18:12:10.160Z"
   },
   {
    "duration": 94,
    "start_time": "2021-11-28T18:13:33.149Z"
   },
   {
    "duration": 77,
    "start_time": "2021-11-28T18:13:37.024Z"
   },
   {
    "duration": 9,
    "start_time": "2021-11-28T18:15:49.072Z"
   },
   {
    "duration": 8,
    "start_time": "2021-11-28T18:16:08.792Z"
   },
   {
    "duration": 272,
    "start_time": "2021-11-28T18:16:14.552Z"
   },
   {
    "duration": 9,
    "start_time": "2021-11-28T19:03:54.993Z"
   },
   {
    "duration": 7,
    "start_time": "2021-11-28T19:04:43.819Z"
   },
   {
    "duration": 14,
    "start_time": "2021-11-28T19:05:03.916Z"
   },
   {
    "duration": 94,
    "start_time": "2021-11-28T19:23:33.234Z"
   },
   {
    "duration": 89,
    "start_time": "2021-11-28T19:23:49.562Z"
   },
   {
    "duration": 143,
    "start_time": "2021-11-28T19:24:02.941Z"
   },
   {
    "duration": 4,
    "start_time": "2021-11-28T19:24:24.597Z"
   },
   {
    "duration": 288,
    "start_time": "2021-11-28T19:25:04.157Z"
   },
   {
    "duration": 7,
    "start_time": "2021-11-28T19:26:57.853Z"
   },
   {
    "duration": 14,
    "start_time": "2021-11-28T19:27:20.277Z"
   },
   {
    "duration": 20,
    "start_time": "2021-11-28T19:27:44.389Z"
   },
   {
    "duration": 16,
    "start_time": "2021-11-28T19:28:53.541Z"
   },
   {
    "duration": 15,
    "start_time": "2021-11-28T19:28:56.669Z"
   },
   {
    "duration": 22,
    "start_time": "2021-11-28T19:29:15.957Z"
   },
   {
    "duration": 20,
    "start_time": "2021-11-28T19:29:17.941Z"
   },
   {
    "duration": 17,
    "start_time": "2021-11-28T19:29:49.925Z"
   },
   {
    "duration": 14,
    "start_time": "2021-11-28T19:29:51.541Z"
   },
   {
    "duration": 836,
    "start_time": "2021-11-29T09:34:08.772Z"
   },
   {
    "duration": 190,
    "start_time": "2021-11-29T09:34:09.610Z"
   },
   {
    "duration": 28,
    "start_time": "2021-11-29T09:34:09.804Z"
   },
   {
    "duration": 33,
    "start_time": "2021-11-29T09:34:09.836Z"
   },
   {
    "duration": 30,
    "start_time": "2021-11-29T09:34:09.872Z"
   },
   {
    "duration": 31,
    "start_time": "2021-11-29T09:34:09.904Z"
   },
   {
    "duration": 6,
    "start_time": "2021-11-29T09:34:09.937Z"
   },
   {
    "duration": 68,
    "start_time": "2021-11-29T09:34:09.946Z"
   },
   {
    "duration": 31,
    "start_time": "2021-11-29T09:34:10.018Z"
   },
   {
    "duration": 57,
    "start_time": "2021-11-29T09:34:10.052Z"
   },
   {
    "duration": 105,
    "start_time": "2021-11-29T09:34:10.112Z"
   },
   {
    "duration": 111,
    "start_time": "2021-11-29T09:34:10.220Z"
   },
   {
    "duration": 125,
    "start_time": "2021-11-29T09:34:10.334Z"
   },
   {
    "duration": 21,
    "start_time": "2021-11-29T09:34:10.462Z"
   },
   {
    "duration": 18,
    "start_time": "2021-11-29T09:34:10.486Z"
   },
   {
    "duration": 25,
    "start_time": "2021-11-29T09:34:10.507Z"
   },
   {
    "duration": 20,
    "start_time": "2021-11-29T09:34:10.535Z"
   },
   {
    "duration": 74,
    "start_time": "2021-11-29T09:37:01.531Z"
   },
   {
    "duration": 44,
    "start_time": "2021-11-29T09:39:09.758Z"
   },
   {
    "duration": 122,
    "start_time": "2021-11-29T09:49:49.124Z"
   },
   {
    "duration": 5,
    "start_time": "2021-11-29T09:50:07.444Z"
   },
   {
    "duration": 30,
    "start_time": "2021-11-29T09:51:15.279Z"
   },
   {
    "duration": 22,
    "start_time": "2021-11-29T09:52:14.176Z"
   },
   {
    "duration": 6,
    "start_time": "2021-11-29T09:52:34.508Z"
   },
   {
    "duration": 5,
    "start_time": "2021-11-29T09:53:32.531Z"
   },
   {
    "duration": 33,
    "start_time": "2021-11-29T09:53:34.439Z"
   },
   {
    "duration": 986,
    "start_time": "2021-11-29T09:54:37.688Z"
   },
   {
    "duration": 4,
    "start_time": "2021-11-29T09:55:41.753Z"
   },
   {
    "duration": 55,
    "start_time": "2021-11-29T09:55:44.267Z"
   },
   {
    "duration": 83,
    "start_time": "2021-11-29T09:56:15.805Z"
   },
   {
    "duration": 5,
    "start_time": "2021-11-29T09:56:19.481Z"
   },
   {
    "duration": 70,
    "start_time": "2021-11-29T09:56:22.352Z"
   },
   {
    "duration": 5,
    "start_time": "2021-11-29T09:56:32.296Z"
   },
   {
    "duration": 65,
    "start_time": "2021-11-29T09:56:33.736Z"
   },
   {
    "duration": 5,
    "start_time": "2021-11-29T12:35:29.314Z"
   },
   {
    "duration": 44,
    "start_time": "2021-11-29T12:35:33.304Z"
   },
   {
    "duration": 5,
    "start_time": "2021-11-29T12:35:44.429Z"
   },
   {
    "duration": 55,
    "start_time": "2021-11-29T12:35:45.471Z"
   },
   {
    "duration": 5,
    "start_time": "2021-11-29T12:37:18.292Z"
   },
   {
    "duration": 50,
    "start_time": "2021-11-29T12:37:20.344Z"
   },
   {
    "duration": 5,
    "start_time": "2021-11-29T12:37:29.696Z"
   },
   {
    "duration": 59,
    "start_time": "2021-11-29T12:37:30.488Z"
   },
   {
    "duration": 5,
    "start_time": "2021-11-29T12:43:58.272Z"
   },
   {
    "duration": 816,
    "start_time": "2021-11-29T12:44:00.032Z"
   },
   {
    "duration": 5,
    "start_time": "2021-11-29T12:45:18.272Z"
   },
   {
    "duration": 58,
    "start_time": "2021-11-29T12:45:20.471Z"
   },
   {
    "duration": 5,
    "start_time": "2021-11-29T12:45:34.553Z"
   },
   {
    "duration": 49,
    "start_time": "2021-11-29T12:45:36.543Z"
   },
   {
    "duration": 5,
    "start_time": "2021-11-29T12:48:20.033Z"
   },
   {
    "duration": 3190,
    "start_time": "2021-11-29T12:48:22.528Z"
   },
   {
    "duration": 5,
    "start_time": "2021-11-29T12:49:24.104Z"
   },
   {
    "duration": 23,
    "start_time": "2021-11-29T12:49:25.560Z"
   },
   {
    "duration": 12,
    "start_time": "2021-11-29T12:49:32.548Z"
   },
   {
    "duration": 22,
    "start_time": "2021-11-29T12:49:47.768Z"
   },
   {
    "duration": 22,
    "start_time": "2021-11-29T12:50:30.056Z"
   },
   {
    "duration": 13,
    "start_time": "2021-11-29T12:51:06.264Z"
   },
   {
    "duration": 35,
    "start_time": "2021-11-29T12:51:13.984Z"
   },
   {
    "duration": 21,
    "start_time": "2021-11-29T12:51:28.240Z"
   },
   {
    "duration": 20,
    "start_time": "2021-11-29T12:57:01.622Z"
   },
   {
    "duration": 370,
    "start_time": "2021-11-29T13:00:23.937Z"
   },
   {
    "duration": 14,
    "start_time": "2021-11-29T13:02:43.049Z"
   },
   {
    "duration": 12,
    "start_time": "2021-11-29T13:03:47.406Z"
   },
   {
    "duration": 17,
    "start_time": "2021-11-29T13:06:05.093Z"
   },
   {
    "duration": 13,
    "start_time": "2021-11-29T13:06:46.896Z"
   },
   {
    "duration": 5,
    "start_time": "2021-11-29T13:13:49.325Z"
   },
   {
    "duration": 6,
    "start_time": "2021-11-29T13:15:39.577Z"
   },
   {
    "duration": 6,
    "start_time": "2021-11-29T13:17:11.317Z"
   },
   {
    "duration": 354,
    "start_time": "2021-11-29T13:18:08.177Z"
   },
   {
    "duration": 25,
    "start_time": "2021-11-29T13:18:17.513Z"
   },
   {
    "duration": 5,
    "start_time": "2021-11-29T13:18:51.009Z"
   },
   {
    "duration": 1001,
    "start_time": "2021-11-29T13:18:53.161Z"
   },
   {
    "duration": 5,
    "start_time": "2021-11-29T13:19:42.841Z"
   },
   {
    "duration": 35,
    "start_time": "2021-11-29T13:19:46.473Z"
   },
   {
    "duration": 5,
    "start_time": "2021-11-29T13:20:28.409Z"
   },
   {
    "duration": 26,
    "start_time": "2021-11-29T13:20:29.998Z"
   },
   {
    "duration": 6,
    "start_time": "2021-11-29T13:23:25.841Z"
   },
   {
    "duration": 939,
    "start_time": "2021-11-29T13:23:28.553Z"
   },
   {
    "duration": 5,
    "start_time": "2021-11-29T13:25:27.281Z"
   },
   {
    "duration": 26,
    "start_time": "2021-11-29T13:25:29.793Z"
   },
   {
    "duration": 5,
    "start_time": "2021-11-29T13:26:05.450Z"
   },
   {
    "duration": 26,
    "start_time": "2021-11-29T13:26:08.089Z"
   },
   {
    "duration": 18,
    "start_time": "2021-11-29T13:26:37.449Z"
   },
   {
    "duration": 15,
    "start_time": "2021-11-29T13:26:57.081Z"
   },
   {
    "duration": 13,
    "start_time": "2021-11-29T13:27:24.737Z"
   },
   {
    "duration": 30,
    "start_time": "2021-11-29T13:27:42.545Z"
   },
   {
    "duration": 19,
    "start_time": "2021-11-29T13:27:53.832Z"
   },
   {
    "duration": 13,
    "start_time": "2021-11-29T13:33:13.174Z"
   },
   {
    "duration": 548,
    "start_time": "2021-11-29T13:33:32.633Z"
   },
   {
    "duration": 7,
    "start_time": "2021-11-29T13:33:44.577Z"
   },
   {
    "duration": 9,
    "start_time": "2021-11-29T13:35:14.217Z"
   },
   {
    "duration": 6,
    "start_time": "2021-11-29T13:35:16.249Z"
   },
   {
    "duration": 5,
    "start_time": "2021-11-29T13:39:12.066Z"
   },
   {
    "duration": 4,
    "start_time": "2021-11-29T13:39:22.267Z"
   },
   {
    "duration": 213,
    "start_time": "2021-11-29T13:39:22.274Z"
   },
   {
    "duration": 20,
    "start_time": "2021-11-29T13:39:22.490Z"
   },
   {
    "duration": 39,
    "start_time": "2021-11-29T13:39:22.513Z"
   },
   {
    "duration": 5,
    "start_time": "2021-11-29T13:39:22.555Z"
   },
   {
    "duration": 62,
    "start_time": "2021-11-29T13:39:22.563Z"
   },
   {
    "duration": 6,
    "start_time": "2021-11-29T13:39:22.627Z"
   },
   {
    "duration": 34,
    "start_time": "2021-11-29T13:39:22.636Z"
   },
   {
    "duration": 23,
    "start_time": "2021-11-29T13:39:22.703Z"
   },
   {
    "duration": 33,
    "start_time": "2021-11-29T13:39:22.729Z"
   },
   {
    "duration": 112,
    "start_time": "2021-11-29T13:39:22.765Z"
   },
   {
    "duration": 115,
    "start_time": "2021-11-29T13:39:22.879Z"
   },
   {
    "duration": 82,
    "start_time": "2021-11-29T13:39:22.997Z"
   },
   {
    "duration": 26,
    "start_time": "2021-11-29T13:39:23.081Z"
   },
   {
    "duration": 4,
    "start_time": "2021-11-29T13:39:23.109Z"
   },
   {
    "duration": 25,
    "start_time": "2021-11-29T13:39:23.116Z"
   },
   {
    "duration": 16,
    "start_time": "2021-11-29T13:39:23.144Z"
   },
   {
    "duration": 90,
    "start_time": "2021-11-29T13:39:23.163Z"
   },
   {
    "duration": 67,
    "start_time": "2021-11-29T13:39:23.256Z"
   },
   {
    "duration": 5,
    "start_time": "2021-11-29T13:39:23.326Z"
   },
   {
    "duration": 33,
    "start_time": "2021-11-29T13:39:23.333Z"
   },
   {
    "duration": 37,
    "start_time": "2021-11-29T13:39:23.368Z"
   },
   {
    "duration": 20,
    "start_time": "2021-11-29T13:39:23.407Z"
   },
   {
    "duration": 20,
    "start_time": "2021-11-29T13:39:23.430Z"
   },
   {
    "duration": 58,
    "start_time": "2021-11-29T13:39:23.452Z"
   },
   {
    "duration": 21,
    "start_time": "2021-11-29T13:39:23.512Z"
   },
   {
    "duration": 14,
    "start_time": "2021-11-29T13:39:23.538Z"
   },
   {
    "duration": 19,
    "start_time": "2021-11-29T13:39:23.555Z"
   },
   {
    "duration": 16,
    "start_time": "2021-11-29T13:39:23.601Z"
   },
   {
    "duration": 6,
    "start_time": "2021-11-29T13:39:23.619Z"
   },
   {
    "duration": 33,
    "start_time": "2021-11-29T13:39:23.627Z"
   },
   {
    "duration": 47,
    "start_time": "2021-11-29T13:39:23.663Z"
   },
   {
    "duration": 25,
    "start_time": "2021-11-29T13:39:23.713Z"
   },
   {
    "duration": 18,
    "start_time": "2021-11-29T13:39:23.740Z"
   },
   {
    "duration": 45,
    "start_time": "2021-11-29T13:39:23.760Z"
   },
   {
    "duration": 6,
    "start_time": "2021-11-29T13:39:23.807Z"
   },
   {
    "duration": 12,
    "start_time": "2021-11-29T13:39:23.815Z"
   },
   {
    "duration": 11,
    "start_time": "2021-11-29T13:39:23.830Z"
   },
   {
    "duration": 1052,
    "start_time": "2021-11-29T16:56:40.788Z"
   },
   {
    "duration": 260,
    "start_time": "2021-11-29T16:56:41.844Z"
   },
   {
    "duration": 36,
    "start_time": "2021-11-29T16:56:42.108Z"
   },
   {
    "duration": 60,
    "start_time": "2021-11-29T16:56:42.147Z"
   },
   {
    "duration": 5,
    "start_time": "2021-11-29T16:56:42.209Z"
   },
   {
    "duration": 62,
    "start_time": "2021-11-29T16:56:42.217Z"
   },
   {
    "duration": 8,
    "start_time": "2021-11-29T16:56:42.282Z"
   },
   {
    "duration": 30,
    "start_time": "2021-11-29T16:56:42.294Z"
   },
   {
    "duration": 51,
    "start_time": "2021-11-29T16:56:42.328Z"
   },
   {
    "duration": 30,
    "start_time": "2021-11-29T16:56:42.382Z"
   },
   {
    "duration": 112,
    "start_time": "2021-11-29T16:56:42.415Z"
   },
   {
    "duration": 115,
    "start_time": "2021-11-29T16:56:42.530Z"
   },
   {
    "duration": 83,
    "start_time": "2021-11-29T16:56:42.647Z"
   },
   {
    "duration": 15,
    "start_time": "2021-11-29T16:56:42.732Z"
   },
   {
    "duration": 21,
    "start_time": "2021-11-29T16:56:42.749Z"
   },
   {
    "duration": 24,
    "start_time": "2021-11-29T16:56:42.773Z"
   },
   {
    "duration": 18,
    "start_time": "2021-11-29T16:56:42.800Z"
   },
   {
    "duration": 71,
    "start_time": "2021-11-29T16:56:42.821Z"
   },
   {
    "duration": 45,
    "start_time": "2021-11-29T16:56:42.895Z"
   },
   {
    "duration": 24,
    "start_time": "2021-11-29T16:56:42.943Z"
   },
   {
    "duration": 32,
    "start_time": "2021-11-29T16:56:42.969Z"
   },
   {
    "duration": 20,
    "start_time": "2021-11-29T16:56:43.003Z"
   },
   {
    "duration": 44,
    "start_time": "2021-11-29T16:56:43.030Z"
   },
   {
    "duration": 19,
    "start_time": "2021-11-29T16:56:43.078Z"
   },
   {
    "duration": 22,
    "start_time": "2021-11-29T16:56:43.099Z"
   },
   {
    "duration": 57,
    "start_time": "2021-11-29T16:56:43.124Z"
   },
   {
    "duration": 13,
    "start_time": "2021-11-29T16:56:43.183Z"
   },
   {
    "duration": 19,
    "start_time": "2021-11-29T16:56:43.199Z"
   },
   {
    "duration": 46,
    "start_time": "2021-11-29T16:56:43.221Z"
   },
   {
    "duration": 6,
    "start_time": "2021-11-29T16:56:43.270Z"
   },
   {
    "duration": 42,
    "start_time": "2021-11-29T16:56:43.279Z"
   },
   {
    "duration": 49,
    "start_time": "2021-11-29T16:56:43.325Z"
   },
   {
    "duration": 35,
    "start_time": "2021-11-29T16:56:43.377Z"
   },
   {
    "duration": 23,
    "start_time": "2021-11-29T16:56:43.415Z"
   },
   {
    "duration": 41,
    "start_time": "2021-11-29T16:56:43.441Z"
   },
   {
    "duration": 8,
    "start_time": "2021-11-29T16:56:43.485Z"
   },
   {
    "duration": 13,
    "start_time": "2021-11-29T16:56:43.496Z"
   },
   {
    "duration": 8,
    "start_time": "2021-11-29T16:56:43.512Z"
   },
   {
    "duration": 866,
    "start_time": "2021-11-29T17:28:08.396Z"
   },
   {
    "duration": 193,
    "start_time": "2021-11-29T17:28:09.265Z"
   },
   {
    "duration": 27,
    "start_time": "2021-11-29T17:28:09.462Z"
   },
   {
    "duration": 36,
    "start_time": "2021-11-29T17:28:09.492Z"
   },
   {
    "duration": 6,
    "start_time": "2021-11-29T17:28:09.530Z"
   },
   {
    "duration": 31,
    "start_time": "2021-11-29T17:28:09.567Z"
   },
   {
    "duration": 8,
    "start_time": "2021-11-29T17:28:09.601Z"
   },
   {
    "duration": 56,
    "start_time": "2021-11-29T17:28:09.613Z"
   },
   {
    "duration": 23,
    "start_time": "2021-11-29T17:28:09.672Z"
   },
   {
    "duration": 30,
    "start_time": "2021-11-29T17:28:09.697Z"
   },
   {
    "duration": 113,
    "start_time": "2021-11-29T17:28:09.730Z"
   },
   {
    "duration": 127,
    "start_time": "2021-11-29T17:28:09.845Z"
   },
   {
    "duration": 94,
    "start_time": "2021-11-29T17:28:09.975Z"
   },
   {
    "duration": 17,
    "start_time": "2021-11-29T17:28:10.072Z"
   },
   {
    "duration": 5,
    "start_time": "2021-11-29T17:28:10.092Z"
   },
   {
    "duration": 25,
    "start_time": "2021-11-29T17:28:10.100Z"
   },
   {
    "duration": 46,
    "start_time": "2021-11-29T17:28:10.128Z"
   },
   {
    "duration": 47,
    "start_time": "2021-11-29T17:28:10.177Z"
   },
   {
    "duration": 76,
    "start_time": "2021-11-29T17:28:10.227Z"
   },
   {
    "duration": 6,
    "start_time": "2021-11-29T17:28:10.306Z"
   },
   {
    "duration": 34,
    "start_time": "2021-11-29T17:28:10.314Z"
   },
   {
    "duration": 32,
    "start_time": "2021-11-29T17:28:10.351Z"
   },
   {
    "duration": 19,
    "start_time": "2021-11-29T17:28:10.388Z"
   },
   {
    "duration": 18,
    "start_time": "2021-11-29T17:28:10.410Z"
   },
   {
    "duration": 55,
    "start_time": "2021-11-29T17:28:10.430Z"
   },
   {
    "duration": 20,
    "start_time": "2021-11-29T17:28:10.487Z"
   },
   {
    "duration": 12,
    "start_time": "2021-11-29T17:28:10.509Z"
   },
   {
    "duration": 51,
    "start_time": "2021-11-29T17:28:10.523Z"
   },
   {
    "duration": 12,
    "start_time": "2021-11-29T17:28:10.576Z"
   },
   {
    "duration": 6,
    "start_time": "2021-11-29T17:28:10.591Z"
   },
   {
    "duration": 32,
    "start_time": "2021-11-29T17:28:10.600Z"
   },
   {
    "duration": 43,
    "start_time": "2021-11-29T17:28:10.634Z"
   },
   {
    "duration": 27,
    "start_time": "2021-11-29T17:28:10.679Z"
   },
   {
    "duration": 20,
    "start_time": "2021-11-29T17:28:10.709Z"
   },
   {
    "duration": 46,
    "start_time": "2021-11-29T17:28:10.732Z"
   },
   {
    "duration": 9,
    "start_time": "2021-11-29T17:28:10.781Z"
   },
   {
    "duration": 18,
    "start_time": "2021-11-29T17:28:10.793Z"
   },
   {
    "duration": 7,
    "start_time": "2021-11-29T17:28:10.814Z"
   },
   {
    "duration": 84,
    "start_time": "2021-11-29T18:23:50.912Z"
   },
   {
    "duration": 405,
    "start_time": "2021-11-29T18:24:08.830Z"
   },
   {
    "duration": 739,
    "start_time": "2021-11-29T18:24:24.079Z"
   },
   {
    "duration": 261,
    "start_time": "2021-11-29T18:24:24.821Z"
   },
   {
    "duration": 49,
    "start_time": "2021-11-29T18:24:25.086Z"
   },
   {
    "duration": 33,
    "start_time": "2021-11-29T18:24:50.211Z"
   },
   {
    "duration": 6,
    "start_time": "2021-11-29T18:25:10.526Z"
   },
   {
    "duration": 30,
    "start_time": "2021-11-29T18:26:16.798Z"
   },
   {
    "duration": 32,
    "start_time": "2021-11-29T18:26:39.198Z"
   },
   {
    "duration": 91,
    "start_time": "2021-11-29T18:27:48.718Z"
   },
   {
    "duration": 305,
    "start_time": "2021-11-29T18:29:14.014Z"
   },
   {
    "duration": 3,
    "start_time": "2021-11-29T18:29:20.458Z"
   },
   {
    "duration": 225,
    "start_time": "2021-11-29T18:29:20.464Z"
   },
   {
    "duration": 14,
    "start_time": "2021-11-29T18:29:20.692Z"
   },
   {
    "duration": 61,
    "start_time": "2021-11-29T18:29:20.709Z"
   },
   {
    "duration": 21,
    "start_time": "2021-11-29T18:29:20.772Z"
   },
   {
    "duration": 60,
    "start_time": "2021-11-29T18:29:20.795Z"
   },
   {
    "duration": 6,
    "start_time": "2021-11-29T18:29:20.857Z"
   },
   {
    "duration": 47,
    "start_time": "2021-11-29T18:29:20.869Z"
   },
   {
    "duration": 33,
    "start_time": "2021-11-29T18:29:20.919Z"
   },
   {
    "duration": 34,
    "start_time": "2021-11-29T18:29:20.955Z"
   },
   {
    "duration": 114,
    "start_time": "2021-11-29T18:29:20.992Z"
   },
   {
    "duration": 111,
    "start_time": "2021-11-29T18:29:21.109Z"
   },
   {
    "duration": 81,
    "start_time": "2021-11-29T18:29:21.222Z"
   },
   {
    "duration": 13,
    "start_time": "2021-11-29T18:29:25.758Z"
   },
   {
    "duration": 14,
    "start_time": "2021-11-29T18:31:40.291Z"
   },
   {
    "duration": 14,
    "start_time": "2021-11-29T18:33:15.995Z"
   },
   {
    "duration": 9,
    "start_time": "2021-11-29T18:37:16.471Z"
   },
   {
    "duration": 271,
    "start_time": "2021-11-29T18:37:20.845Z"
   },
   {
    "duration": 3,
    "start_time": "2021-11-29T18:37:33.569Z"
   },
   {
    "duration": 194,
    "start_time": "2021-11-29T18:37:33.575Z"
   },
   {
    "duration": 15,
    "start_time": "2021-11-29T18:37:33.772Z"
   },
   {
    "duration": 51,
    "start_time": "2021-11-29T18:37:33.790Z"
   },
   {
    "duration": 6,
    "start_time": "2021-11-29T18:37:33.843Z"
   },
   {
    "duration": 29,
    "start_time": "2021-11-29T18:37:33.851Z"
   },
   {
    "duration": 5,
    "start_time": "2021-11-29T18:37:33.882Z"
   },
   {
    "duration": 65,
    "start_time": "2021-11-29T18:37:33.892Z"
   },
   {
    "duration": 23,
    "start_time": "2021-11-29T18:37:33.960Z"
   },
   {
    "duration": 50,
    "start_time": "2021-11-29T18:37:33.985Z"
   },
   {
    "duration": 94,
    "start_time": "2021-11-29T18:37:34.037Z"
   },
   {
    "duration": 104,
    "start_time": "2021-11-29T18:37:34.133Z"
   },
   {
    "duration": 73,
    "start_time": "2021-11-29T18:37:34.240Z"
   },
   {
    "duration": 14,
    "start_time": "2021-11-29T18:37:34.328Z"
   },
   {
    "duration": 3,
    "start_time": "2021-11-29T18:37:34.344Z"
   },
   {
    "duration": 19,
    "start_time": "2021-11-29T18:37:34.349Z"
   },
   {
    "duration": 13,
    "start_time": "2021-11-29T18:37:34.371Z"
   },
   {
    "duration": 53,
    "start_time": "2021-11-29T18:37:34.386Z"
   },
   {
    "duration": 17,
    "start_time": "2021-11-29T18:37:34.442Z"
   },
   {
    "duration": 5,
    "start_time": "2021-11-29T18:37:34.462Z"
   },
   {
    "duration": 58,
    "start_time": "2021-11-29T18:37:34.470Z"
   },
   {
    "duration": 22,
    "start_time": "2021-11-29T18:37:34.530Z"
   },
   {
    "duration": 22,
    "start_time": "2021-11-29T18:37:34.559Z"
   },
   {
    "duration": 61,
    "start_time": "2021-11-29T18:37:34.585Z"
   },
   {
    "duration": 24,
    "start_time": "2021-11-29T18:37:34.649Z"
   },
   {
    "duration": 53,
    "start_time": "2021-11-29T18:37:34.676Z"
   },
   {
    "duration": 13,
    "start_time": "2021-11-29T18:37:34.732Z"
   },
   {
    "duration": 20,
    "start_time": "2021-11-29T18:37:34.747Z"
   },
   {
    "duration": 11,
    "start_time": "2021-11-29T18:37:34.769Z"
   },
   {
    "duration": 5,
    "start_time": "2021-11-29T18:37:34.782Z"
   },
   {
    "duration": 26,
    "start_time": "2021-11-29T18:37:38.357Z"
   },
   {
    "duration": 23,
    "start_time": "2021-11-29T18:39:56.763Z"
   },
   {
    "duration": 18,
    "start_time": "2021-11-29T18:40:08.814Z"
   },
   {
    "duration": 13,
    "start_time": "2021-11-29T18:47:02.860Z"
   },
   {
    "duration": 15,
    "start_time": "2021-11-29T18:47:05.560Z"
   },
   {
    "duration": 13,
    "start_time": "2021-11-29T18:49:08.287Z"
   },
   {
    "duration": 1077,
    "start_time": "2021-11-29T22:25:58.364Z"
   },
   {
    "duration": 184,
    "start_time": "2021-11-29T22:25:59.444Z"
   },
   {
    "duration": 27,
    "start_time": "2021-11-29T22:25:59.631Z"
   },
   {
    "duration": 49,
    "start_time": "2021-11-29T22:25:59.661Z"
   },
   {
    "duration": 5,
    "start_time": "2021-11-29T22:25:59.713Z"
   },
   {
    "duration": 35,
    "start_time": "2021-11-29T22:25:59.720Z"
   },
   {
    "duration": 26,
    "start_time": "2021-11-29T22:25:59.757Z"
   },
   {
    "duration": 30,
    "start_time": "2021-11-29T22:25:59.787Z"
   },
   {
    "duration": 21,
    "start_time": "2021-11-29T22:25:59.821Z"
   },
   {
    "duration": 57,
    "start_time": "2021-11-29T22:25:59.845Z"
   },
   {
    "duration": 96,
    "start_time": "2021-11-29T22:25:59.905Z"
   },
   {
    "duration": 103,
    "start_time": "2021-11-29T22:26:00.003Z"
   },
   {
    "duration": 86,
    "start_time": "2021-11-29T22:26:00.108Z"
   },
   {
    "duration": 14,
    "start_time": "2021-11-29T22:26:00.197Z"
   },
   {
    "duration": 4,
    "start_time": "2021-11-29T22:26:00.214Z"
   },
   {
    "duration": 16,
    "start_time": "2021-11-29T22:26:00.220Z"
   },
   {
    "duration": 44,
    "start_time": "2021-11-29T22:26:00.239Z"
   },
   {
    "duration": 15,
    "start_time": "2021-11-29T22:26:00.285Z"
   },
   {
    "duration": 15,
    "start_time": "2021-11-29T22:26:00.302Z"
   },
   {
    "duration": 5,
    "start_time": "2021-11-29T22:26:00.319Z"
   },
   {
    "duration": 63,
    "start_time": "2021-11-29T22:26:00.326Z"
   },
   {
    "duration": 20,
    "start_time": "2021-11-29T22:26:00.391Z"
   },
   {
    "duration": 19,
    "start_time": "2021-11-29T22:26:00.416Z"
   },
   {
    "duration": 46,
    "start_time": "2021-11-29T22:26:00.438Z"
   },
   {
    "duration": 24,
    "start_time": "2021-11-29T22:26:00.487Z"
   },
   {
    "duration": 22,
    "start_time": "2021-11-29T22:26:00.514Z"
   },
   {
    "duration": 52,
    "start_time": "2021-11-29T22:26:00.539Z"
   },
   {
    "duration": 19,
    "start_time": "2021-11-29T22:26:00.594Z"
   },
   {
    "duration": 13,
    "start_time": "2021-11-29T22:26:00.615Z"
   },
   {
    "duration": 8,
    "start_time": "2021-11-29T22:26:00.631Z"
   },
   {
    "duration": 63,
    "start_time": "2021-11-29T22:26:00.641Z"
   },
   {
    "duration": 36,
    "start_time": "2021-11-29T22:26:00.706Z"
   },
   {
    "duration": 37,
    "start_time": "2021-11-29T22:26:00.745Z"
   },
   {
    "duration": 19,
    "start_time": "2021-11-29T22:26:00.785Z"
   },
   {
    "duration": 24,
    "start_time": "2021-11-29T22:26:00.807Z"
   },
   {
    "duration": 27,
    "start_time": "2021-11-29T22:26:00.834Z"
   },
   {
    "duration": 32,
    "start_time": "2021-11-29T22:26:00.863Z"
   },
   {
    "duration": 44,
    "start_time": "2021-11-29T22:26:00.898Z"
   },
   {
    "duration": 9,
    "start_time": "2022-04-01T11:26:39.254Z"
   },
   {
    "duration": 4,
    "start_time": "2022-04-01T11:40:35.424Z"
   },
   {
    "duration": 48,
    "start_time": "2022-04-01T11:42:52.148Z"
   },
   {
    "duration": 6,
    "start_time": "2022-04-01T12:05:21.928Z"
   },
   {
    "duration": 414,
    "start_time": "2022-04-01T12:06:51.496Z"
   },
   {
    "duration": 164,
    "start_time": "2022-04-01T12:06:51.912Z"
   },
   {
    "duration": 18,
    "start_time": "2022-04-01T12:06:52.078Z"
   },
   {
    "duration": 40,
    "start_time": "2022-04-01T12:06:52.098Z"
   },
   {
    "duration": 5,
    "start_time": "2022-04-01T12:06:52.139Z"
   },
   {
    "duration": 17,
    "start_time": "2022-04-01T12:06:52.146Z"
   },
   {
    "duration": 8,
    "start_time": "2022-04-01T12:06:52.165Z"
   },
   {
    "duration": 30,
    "start_time": "2022-04-01T12:06:52.175Z"
   },
   {
    "duration": 37,
    "start_time": "2022-04-01T12:06:52.207Z"
   },
   {
    "duration": 30,
    "start_time": "2022-04-01T12:06:52.247Z"
   },
   {
    "duration": 88,
    "start_time": "2022-04-01T12:06:52.279Z"
   },
   {
    "duration": 85,
    "start_time": "2022-04-01T12:06:52.368Z"
   },
   {
    "duration": 63,
    "start_time": "2022-04-01T12:06:52.455Z"
   },
   {
    "duration": 20,
    "start_time": "2022-04-01T12:06:52.519Z"
   },
   {
    "duration": 11,
    "start_time": "2022-04-01T12:06:52.540Z"
   },
   {
    "duration": 31,
    "start_time": "2022-04-01T12:06:52.553Z"
   },
   {
    "duration": 13,
    "start_time": "2022-04-01T12:06:52.586Z"
   },
   {
    "duration": 28,
    "start_time": "2022-04-01T12:06:52.601Z"
   },
   {
    "duration": 13,
    "start_time": "2022-04-01T12:06:52.630Z"
   },
   {
    "duration": 3,
    "start_time": "2022-04-01T12:06:52.645Z"
   },
   {
    "duration": 25,
    "start_time": "2022-04-01T12:06:52.649Z"
   },
   {
    "duration": 25,
    "start_time": "2022-04-01T12:06:52.676Z"
   },
   {
    "duration": 27,
    "start_time": "2022-04-01T12:06:52.703Z"
   },
   {
    "duration": 20,
    "start_time": "2022-04-01T12:06:52.731Z"
   },
   {
    "duration": 29,
    "start_time": "2022-04-01T12:06:52.752Z"
   },
   {
    "duration": 16,
    "start_time": "2022-04-01T12:06:52.783Z"
   },
   {
    "duration": 21,
    "start_time": "2022-04-01T12:06:52.801Z"
   },
   {
    "duration": 20,
    "start_time": "2022-04-01T12:06:52.831Z"
   },
   {
    "duration": 17,
    "start_time": "2022-04-01T12:06:52.853Z"
   },
   {
    "duration": 19,
    "start_time": "2022-04-01T12:06:52.872Z"
   },
   {
    "duration": 30,
    "start_time": "2022-04-01T12:06:52.893Z"
   },
   {
    "duration": 19,
    "start_time": "2022-04-01T12:06:52.925Z"
   },
   {
    "duration": 28,
    "start_time": "2022-04-01T12:06:52.946Z"
   },
   {
    "duration": 12,
    "start_time": "2022-04-01T12:06:52.976Z"
   },
   {
    "duration": 28,
    "start_time": "2022-04-01T12:06:52.990Z"
   },
   {
    "duration": 13,
    "start_time": "2022-04-01T12:06:53.020Z"
   },
   {
    "duration": 27,
    "start_time": "2022-04-01T12:06:53.035Z"
   },
   {
    "duration": 34,
    "start_time": "2022-04-01T12:06:53.064Z"
   }
  ],
  "colab": {
   "collapsed_sections": [
    "E0vqbgi9ay0H",
    "VUC88oWjTJw2"
   ],
   "name": "yandex_music_project_2021.2.ipynb",
   "provenance": []
  },
  "kernelspec": {
   "display_name": "Python 3 (ipykernel)",
   "language": "python",
   "name": "python3"
  },
  "language_info": {
   "codemirror_mode": {
    "name": "ipython",
    "version": 3
   },
   "file_extension": ".py",
   "mimetype": "text/x-python",
   "name": "python",
   "nbconvert_exporter": "python",
   "pygments_lexer": "ipython3",
   "version": "3.9.5"
  },
  "toc": {
   "base_numbering": 1,
   "nav_menu": {
    "height": "201px",
    "width": "427px"
   },
   "number_sections": true,
   "sideBar": true,
   "skip_h1_title": true,
   "title_cell": "Table of Contents",
   "title_sidebar": "Contents",
   "toc_cell": false,
   "toc_position": {},
   "toc_section_display": true,
   "toc_window_display": false
  }
 },
 "nbformat": 4,
 "nbformat_minor": 1
}
