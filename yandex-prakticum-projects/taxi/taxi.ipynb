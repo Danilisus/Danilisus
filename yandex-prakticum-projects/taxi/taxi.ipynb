{
 "cells": [
  {
   "cell_type": "markdown",
   "metadata": {
    "toc": true
   },
   "source": [
    "<h1>Содержание<span class=\"tocSkip\"></span></h1>\n",
    "<div class=\"toc\"><ul class=\"toc-item\"><li><span><a href=\"#Подготовка\" data-toc-modified-id=\"Подготовка-1\"><span class=\"toc-item-num\">1&nbsp;&nbsp;</span>Подготовка</a></span></li><li><span><a href=\"#Анализ\" data-toc-modified-id=\"Анализ-2\"><span class=\"toc-item-num\">2&nbsp;&nbsp;</span>Анализ</a></span></li><li><span><a href=\"#Обучение\" data-toc-modified-id=\"Обучение-3\"><span class=\"toc-item-num\">3&nbsp;&nbsp;</span>Обучение</a></span></li><li><span><a href=\"#Тестирование\" data-toc-modified-id=\"Тестирование-4\"><span class=\"toc-item-num\">4&nbsp;&nbsp;</span>Тестирование</a></span></li><li><span><a href=\"#Чек-лист-проверки\" data-toc-modified-id=\"Чек-лист-проверки-5\"><span class=\"toc-item-num\">5&nbsp;&nbsp;</span>Чек-лист проверки</a></span></li></ul></div>"
   ]
  },
  {
   "cell_type": "markdown",
   "metadata": {},
   "source": [
    "#  Прогнозирование заказов такси"
   ]
  },
  {
   "cell_type": "markdown",
   "metadata": {},
   "source": [
    "Для компании службы такси, чтобы привлекать больше водителей в период пиковой нагрузки, нужно спрогнозировать количество заказов такси на следующий час. Постройте модель для такого предсказания.\n",
    "\n",
    "Значение метрики *RMSE* на тестовой выборке должно быть не больше 48.\n",
    "\n",
    "Вам нужно:\n",
    "\n",
    "1. Загрузить данные и выполнить их ресемплирование по одному часу.\n",
    "2. Проанализировать данные.\n",
    "3. Обучить разные модели с различными гиперпараметрами. Сделать тестовую выборку размером 10% от исходных данных.\n",
    "4. Проверить данные на тестовой выборке и сделать выводы."
   ]
  },
  {
   "cell_type": "markdown",
   "metadata": {},
   "source": [
    "## Подготовка"
   ]
  },
  {
   "cell_type": "markdown",
   "metadata": {},
   "source": [
    "импортируем все необходимые библиотеки для работы."
   ]
  },
  {
   "cell_type": "code",
   "execution_count": 1,
   "metadata": {},
   "outputs": [],
   "source": [
    "# Обновим библиотеку statsmodels\n",
    "!pip install -U statsmodels -q\n",
    "\n",
    "import pandas as pd\n",
    "import numpy as np\n",
    "from statsmodels.tsa.seasonal import seasonal_decompose\n",
    "import matplotlib.pyplot as plt\n",
    "from sklearn.model_selection import train_test_split, GridSearchCV, cross_val_score, TimeSeriesSplit\n",
    "from sklearn.metrics import mean_squared_error\n",
    "from sklearn.linear_model import LinearRegression\n",
    "from sklearn.tree import DecisionTreeRegressor"
   ]
  },
  {
   "cell_type": "markdown",
   "metadata": {},
   "source": [
    "Прочитаем файл, взглянем на него."
   ]
  },
  {
   "cell_type": "code",
   "execution_count": 2,
   "metadata": {},
   "outputs": [
    {
     "data": {
      "text/html": [
       "<div>\n",
       "<style scoped>\n",
       "    .dataframe tbody tr th:only-of-type {\n",
       "        vertical-align: middle;\n",
       "    }\n",
       "\n",
       "    .dataframe tbody tr th {\n",
       "        vertical-align: top;\n",
       "    }\n",
       "\n",
       "    .dataframe thead th {\n",
       "        text-align: right;\n",
       "    }\n",
       "</style>\n",
       "<table border=\"1\" class=\"dataframe\">\n",
       "  <thead>\n",
       "    <tr style=\"text-align: right;\">\n",
       "      <th></th>\n",
       "      <th>num_orders</th>\n",
       "    </tr>\n",
       "    <tr>\n",
       "      <th>datetime</th>\n",
       "      <th></th>\n",
       "    </tr>\n",
       "  </thead>\n",
       "  <tbody>\n",
       "    <tr>\n",
       "      <th>2018-03-01 00:00:00</th>\n",
       "      <td>9</td>\n",
       "    </tr>\n",
       "    <tr>\n",
       "      <th>2018-03-01 00:10:00</th>\n",
       "      <td>14</td>\n",
       "    </tr>\n",
       "    <tr>\n",
       "      <th>2018-03-01 00:20:00</th>\n",
       "      <td>28</td>\n",
       "    </tr>\n",
       "    <tr>\n",
       "      <th>2018-03-01 00:30:00</th>\n",
       "      <td>20</td>\n",
       "    </tr>\n",
       "    <tr>\n",
       "      <th>2018-03-01 00:40:00</th>\n",
       "      <td>32</td>\n",
       "    </tr>\n",
       "  </tbody>\n",
       "</table>\n",
       "</div>"
      ],
      "text/plain": [
       "                     num_orders\n",
       "datetime                       \n",
       "2018-03-01 00:00:00           9\n",
       "2018-03-01 00:10:00          14\n",
       "2018-03-01 00:20:00          28\n",
       "2018-03-01 00:30:00          20\n",
       "2018-03-01 00:40:00          32"
      ]
     },
     "metadata": {},
     "output_type": "display_data"
    }
   ],
   "source": [
    "data = pd.read_csv('/datasets/taxi.csv', index_col=[0], parse_dates=True)\n",
    "data.sort_index(inplace=True)\n",
    "display(data.head())"
   ]
  },
  {
   "cell_type": "markdown",
   "metadata": {},
   "source": [
    "Проведем ресемплирование по одному часу. Построим график среднего количества заказов."
   ]
  },
  {
   "cell_type": "code",
   "execution_count": 3,
   "metadata": {},
   "outputs": [
    {
     "data": {
      "text/html": [
       "<div>\n",
       "<style scoped>\n",
       "    .dataframe tbody tr th:only-of-type {\n",
       "        vertical-align: middle;\n",
       "    }\n",
       "\n",
       "    .dataframe tbody tr th {\n",
       "        vertical-align: top;\n",
       "    }\n",
       "\n",
       "    .dataframe thead th {\n",
       "        text-align: right;\n",
       "    }\n",
       "</style>\n",
       "<table border=\"1\" class=\"dataframe\">\n",
       "  <thead>\n",
       "    <tr style=\"text-align: right;\">\n",
       "      <th></th>\n",
       "      <th>num_orders</th>\n",
       "    </tr>\n",
       "    <tr>\n",
       "      <th>datetime</th>\n",
       "      <th></th>\n",
       "    </tr>\n",
       "  </thead>\n",
       "  <tbody>\n",
       "    <tr>\n",
       "      <th>2018-03-01 00:00:00</th>\n",
       "      <td>124</td>\n",
       "    </tr>\n",
       "    <tr>\n",
       "      <th>2018-03-01 01:00:00</th>\n",
       "      <td>85</td>\n",
       "    </tr>\n",
       "    <tr>\n",
       "      <th>2018-03-01 02:00:00</th>\n",
       "      <td>71</td>\n",
       "    </tr>\n",
       "    <tr>\n",
       "      <th>2018-03-01 03:00:00</th>\n",
       "      <td>66</td>\n",
       "    </tr>\n",
       "    <tr>\n",
       "      <th>2018-03-01 04:00:00</th>\n",
       "      <td>43</td>\n",
       "    </tr>\n",
       "  </tbody>\n",
       "</table>\n",
       "</div>"
      ],
      "text/plain": [
       "                     num_orders\n",
       "datetime                       \n",
       "2018-03-01 00:00:00         124\n",
       "2018-03-01 01:00:00          85\n",
       "2018-03-01 02:00:00          71\n",
       "2018-03-01 03:00:00          66\n",
       "2018-03-01 04:00:00          43"
      ]
     },
     "metadata": {},
     "output_type": "display_data"
    }
   ],
   "source": [
    "data = data.resample('1H').sum()\n",
    "display(data.head())"
   ]
  },
  {
   "cell_type": "markdown",
   "metadata": {},
   "source": [
    "## Анализ"
   ]
  },
  {
   "cell_type": "markdown",
   "metadata": {},
   "source": [
    "Построим график суммарного количества заказов такси."
   ]
  },
  {
   "cell_type": "code",
   "execution_count": 4,
   "metadata": {},
   "outputs": [
    {
     "data": {
      "text/plain": [
       "<AxesSubplot:xlabel='datetime'>"
      ]
     },
     "execution_count": 4,
     "metadata": {},
     "output_type": "execute_result"
    },
    {
     "data": {
      "image/png": "[encoded data removed]",
      "text/plain": [
       "<Figure size 1080x288 with 1 Axes>"
      ]
     },
     "metadata": {
      "needs_background": "light"
     },
     "output_type": "display_data"
    }
   ],
   "source": [
    "fig, ax = plt.subplots()\n",
    "fig.set_figwidth(15)\n",
    "fig.suptitle('График суммарного количества заказов', fontsize = 15)\n",
    "data.plot(ax=ax)"
   ]
  },
  {
   "cell_type": "markdown",
   "metadata": {},
   "source": [
    "Видим, что график стабилен, виден рост после августа.\n",
    "\n",
    "Так как в ряду много колебаний и график похож на кардиограмму, найдем скользящее среднее, построим график."
   ]
  },
  {
   "cell_type": "code",
   "execution_count": 5,
   "metadata": {},
   "outputs": [
    {
     "data": {
      "text/plain": [
       "<AxesSubplot:xlabel='datetime'>"
      ]
     },
     "execution_count": 5,
     "metadata": {},
     "output_type": "execute_result"
    },
    {
     "data": {
      "image/png": "[encoded data removed]",
      "text/plain": [
       "<Figure size 1080x288 with 1 Axes>"
      ]
     },
     "metadata": {
      "needs_background": "light"
     },
     "output_type": "display_data"
    }
   ],
   "source": [
    "data['rolling_mean'] = data.rolling(10).mean()\n",
    "data = data.dropna()\n",
    "\n",
    "fig, ax = plt.subplots()\n",
    "fig.set_figwidth(15)\n",
    "fig.suptitle('График скользящего среднего', fontsize = 15)\n",
    "data.plot(ax=ax)"
   ]
  },
  {
   "cell_type": "markdown",
   "metadata": {},
   "source": [
    "По скользыщему среднему видно, что март, апрель - количество заказов постоянно, после начинает расти. Это может быть связано с сезонностью. Проверим."
   ]
  },
  {
   "cell_type": "code",
   "execution_count": 6,
   "metadata": {},
   "outputs": [
    {
     "data": {
      "text/html": [
       "<div>\n",
       "<style scoped>\n",
       "    .dataframe tbody tr th:only-of-type {\n",
       "        vertical-align: middle;\n",
       "    }\n",
       "\n",
       "    .dataframe tbody tr th {\n",
       "        vertical-align: top;\n",
       "    }\n",
       "\n",
       "    .dataframe thead th {\n",
       "        text-align: right;\n",
       "    }\n",
       "</style>\n",
       "<table border=\"1\" class=\"dataframe\">\n",
       "  <thead>\n",
       "    <tr style=\"text-align: right;\">\n",
       "      <th></th>\n",
       "      <th>num_orders</th>\n",
       "      <th>rolling_mean</th>\n",
       "    </tr>\n",
       "    <tr>\n",
       "      <th>datetime</th>\n",
       "      <th></th>\n",
       "      <th></th>\n",
       "    </tr>\n",
       "  </thead>\n",
       "  <tbody>\n",
       "    <tr>\n",
       "      <th>2018-03-01 09:00:00</th>\n",
       "      <td>69</td>\n",
       "      <td>52.5</td>\n",
       "    </tr>\n",
       "    <tr>\n",
       "      <th>2018-03-01 10:00:00</th>\n",
       "      <td>64</td>\n",
       "      <td>46.5</td>\n",
       "    </tr>\n",
       "    <tr>\n",
       "      <th>2018-03-01 11:00:00</th>\n",
       "      <td>96</td>\n",
       "      <td>47.6</td>\n",
       "    </tr>\n",
       "    <tr>\n",
       "      <th>2018-03-01 12:00:00</th>\n",
       "      <td>30</td>\n",
       "      <td>43.5</td>\n",
       "    </tr>\n",
       "    <tr>\n",
       "      <th>2018-03-01 13:00:00</th>\n",
       "      <td>32</td>\n",
       "      <td>40.1</td>\n",
       "    </tr>\n",
       "    <tr>\n",
       "      <th>2018-03-01 14:00:00</th>\n",
       "      <td>48</td>\n",
       "      <td>40.6</td>\n",
       "    </tr>\n",
       "    <tr>\n",
       "      <th>2018-03-01 15:00:00</th>\n",
       "      <td>66</td>\n",
       "      <td>46.6</td>\n",
       "    </tr>\n",
       "    <tr>\n",
       "      <th>2018-03-01 16:00:00</th>\n",
       "      <td>43</td>\n",
       "      <td>49.7</td>\n",
       "    </tr>\n",
       "    <tr>\n",
       "      <th>2018-03-01 17:00:00</th>\n",
       "      <td>44</td>\n",
       "      <td>52.6</td>\n",
       "    </tr>\n",
       "    <tr>\n",
       "      <th>2018-03-01 18:00:00</th>\n",
       "      <td>73</td>\n",
       "      <td>56.5</td>\n",
       "    </tr>\n",
       "    <tr>\n",
       "      <th>2018-03-01 19:00:00</th>\n",
       "      <td>45</td>\n",
       "      <td>54.1</td>\n",
       "    </tr>\n",
       "  </tbody>\n",
       "</table>\n",
       "</div>"
      ],
      "text/plain": [
       "                     num_orders  rolling_mean\n",
       "datetime                                     \n",
       "2018-03-01 09:00:00          69          52.5\n",
       "2018-03-01 10:00:00          64          46.5\n",
       "2018-03-01 11:00:00          96          47.6\n",
       "2018-03-01 12:00:00          30          43.5\n",
       "2018-03-01 13:00:00          32          40.1\n",
       "2018-03-01 14:00:00          48          40.6\n",
       "2018-03-01 15:00:00          66          46.6\n",
       "2018-03-01 16:00:00          43          49.7\n",
       "2018-03-01 17:00:00          44          52.6\n",
       "2018-03-01 18:00:00          73          56.5\n",
       "2018-03-01 19:00:00          45          54.1"
      ]
     },
     "execution_count": 6,
     "metadata": {},
     "output_type": "execute_result"
    }
   ],
   "source": [
    "data.isna().sum()\n",
    "data.head(11)"
   ]
  },
  {
   "cell_type": "code",
   "execution_count": 7,
   "metadata": {},
   "outputs": [
    {
     "data": {
      "image/png": "[encoded data removed]",
      "text/plain": [
       "<Figure size 432x576 with 3 Axes>"
      ]
     },
     "metadata": {
      "needs_background": "light"
     },
     "output_type": "display_data"
    }
   ],
   "source": [
    "decomposed = seasonal_decompose(data['num_orders'])\n",
    "\n",
    "plt.figure(figsize=(6, 8))\n",
    "plt.subplot(311)\n",
    "decomposed.trend.plot(ax=plt.gca())\n",
    "plt.title('Trend')\n",
    "plt.subplot(312)\n",
    "decomposed.seasonal['2018-08-01':'2018-08-02'].plot(ax=plt.gca()) \n",
    "plt.title('Seasonality')\n",
    "plt.subplot(313)\n",
    "decomposed.resid.plot(ax=plt.gca()) \n",
    "plt.title('Residuals')\n",
    "plt.tight_layout()"
   ]
  },
  {
   "cell_type": "markdown",
   "metadata": {},
   "source": [
    "Тренд четко прослеживается - заказы растут с апреля и далее до конца августа, покуда имеются данные. Видим сезонность - 06:00 заказов очень мало, в течении дня их количество растет и достигает своего пика в 00:00. Также встречаются пики в течении дня: около 10:00 и 16:00.\n",
    "\n",
    "Проверим ряд на стационарность."
   ]
  },
  {
   "cell_type": "code",
   "execution_count": 8,
   "metadata": {},
   "outputs": [
    {
     "data": {
      "text/plain": [
       "<AxesSubplot:xlabel='datetime'>"
      ]
     },
     "execution_count": 8,
     "metadata": {},
     "output_type": "execute_result"
    },
    {
     "data": {
      "image/png": "[encoded data removed]",
      "text/plain": [
       "<Figure size 1080x288 with 1 Axes>"
      ]
     },
     "metadata": {
      "needs_background": "light"
     },
     "output_type": "display_data"
    }
   ],
   "source": [
    "data_mean_std = data - data.shift()\n",
    "\n",
    "data_mean_std['mean'] = data_mean_std['num_orders'].rolling(15).mean()\n",
    "data_mean_std['std'] = data_mean_std['num_orders'].rolling(15).std()\n",
    "fig, ax = plt.subplots()\n",
    "fig.set_figwidth(15)\n",
    "fig.suptitle('График стационарности', fontsize = 15)\n",
    "data_mean_std.plot(ax=ax)"
   ]
  },
  {
   "cell_type": "markdown",
   "metadata": {},
   "source": [
    "По графику видно, что ряд стационарный и его можно прогнозировать."
   ]
  },
  {
   "cell_type": "markdown",
   "metadata": {},
   "source": [
    "## Обучение"
   ]
  },
  {
   "cell_type": "markdown",
   "metadata": {},
   "source": [
    "Объявим функцию, которая будет возвращать датасет с созданными признаками: годом, месяцем, днем, днем недели, смещением и скользящим средним."
   ]
  },
  {
   "cell_type": "code",
   "execution_count": 9,
   "metadata": {},
   "outputs": [],
   "source": [
    "def make_features(data, max_lag, rolling_mean_size):\n",
    "    data['year'] = data.index.year\n",
    "    data['month'] = data.index.month\n",
    "    data['day'] = data.index.day\n",
    "    data['dayofweek'] = data.index.dayofweek\n",
    "    \n",
    "    for lag in range(1, max_lag + 1):\n",
    "        data['lag_{}'.format(lag)] = data['num_orders'].shift(lag)\n",
    "\n",
    "    data['rolling_mean'] = data['num_orders'].shift().rolling(rolling_mean_size).mean()"
   ]
  },
  {
   "cell_type": "markdown",
   "metadata": {},
   "source": [
    "Применим для наших данных."
   ]
  },
  {
   "cell_type": "code",
   "execution_count": 10,
   "metadata": {
    "scrolled": false
   },
   "outputs": [
    {
     "data": {
      "text/html": [
       "<div>\n",
       "<style scoped>\n",
       "    .dataframe tbody tr th:only-of-type {\n",
       "        vertical-align: middle;\n",
       "    }\n",
       "\n",
       "    .dataframe tbody tr th {\n",
       "        vertical-align: top;\n",
       "    }\n",
       "\n",
       "    .dataframe thead th {\n",
       "        text-align: right;\n",
       "    }\n",
       "</style>\n",
       "<table border=\"1\" class=\"dataframe\">\n",
       "  <thead>\n",
       "    <tr style=\"text-align: right;\">\n",
       "      <th></th>\n",
       "      <th>num_orders</th>\n",
       "      <th>rolling_mean</th>\n",
       "      <th>year</th>\n",
       "      <th>month</th>\n",
       "      <th>day</th>\n",
       "      <th>dayofweek</th>\n",
       "      <th>lag_1</th>\n",
       "      <th>lag_2</th>\n",
       "      <th>lag_3</th>\n",
       "      <th>lag_4</th>\n",
       "      <th>...</th>\n",
       "      <th>lag_21</th>\n",
       "      <th>lag_22</th>\n",
       "      <th>lag_23</th>\n",
       "      <th>lag_24</th>\n",
       "      <th>lag_25</th>\n",
       "      <th>lag_26</th>\n",
       "      <th>lag_27</th>\n",
       "      <th>lag_28</th>\n",
       "      <th>lag_29</th>\n",
       "      <th>lag_30</th>\n",
       "    </tr>\n",
       "    <tr>\n",
       "      <th>datetime</th>\n",
       "      <th></th>\n",
       "      <th></th>\n",
       "      <th></th>\n",
       "      <th></th>\n",
       "      <th></th>\n",
       "      <th></th>\n",
       "      <th></th>\n",
       "      <th></th>\n",
       "      <th></th>\n",
       "      <th></th>\n",
       "      <th></th>\n",
       "      <th></th>\n",
       "      <th></th>\n",
       "      <th></th>\n",
       "      <th></th>\n",
       "      <th></th>\n",
       "      <th></th>\n",
       "      <th></th>\n",
       "      <th></th>\n",
       "      <th></th>\n",
       "      <th></th>\n",
       "    </tr>\n",
       "  </thead>\n",
       "  <tbody>\n",
       "    <tr>\n",
       "      <th>2018-03-01 09:00:00</th>\n",
       "      <td>69</td>\n",
       "      <td>NaN</td>\n",
       "      <td>2018</td>\n",
       "      <td>3</td>\n",
       "      <td>1</td>\n",
       "      <td>3</td>\n",
       "      <td>NaN</td>\n",
       "      <td>NaN</td>\n",
       "      <td>NaN</td>\n",
       "      <td>NaN</td>\n",
       "      <td>...</td>\n",
       "      <td>NaN</td>\n",
       "      <td>NaN</td>\n",
       "      <td>NaN</td>\n",
       "      <td>NaN</td>\n",
       "      <td>NaN</td>\n",
       "      <td>NaN</td>\n",
       "      <td>NaN</td>\n",
       "      <td>NaN</td>\n",
       "      <td>NaN</td>\n",
       "      <td>NaN</td>\n",
       "    </tr>\n",
       "    <tr>\n",
       "      <th>2018-03-01 10:00:00</th>\n",
       "      <td>64</td>\n",
       "      <td>NaN</td>\n",
       "      <td>2018</td>\n",
       "      <td>3</td>\n",
       "      <td>1</td>\n",
       "      <td>3</td>\n",
       "      <td>69.0</td>\n",
       "      <td>NaN</td>\n",
       "      <td>NaN</td>\n",
       "      <td>NaN</td>\n",
       "      <td>...</td>\n",
       "      <td>NaN</td>\n",
       "      <td>NaN</td>\n",
       "      <td>NaN</td>\n",
       "      <td>NaN</td>\n",
       "      <td>NaN</td>\n",
       "      <td>NaN</td>\n",
       "      <td>NaN</td>\n",
       "      <td>NaN</td>\n",
       "      <td>NaN</td>\n",
       "      <td>NaN</td>\n",
       "    </tr>\n",
       "    <tr>\n",
       "      <th>2018-03-01 11:00:00</th>\n",
       "      <td>96</td>\n",
       "      <td>NaN</td>\n",
       "      <td>2018</td>\n",
       "      <td>3</td>\n",
       "      <td>1</td>\n",
       "      <td>3</td>\n",
       "      <td>64.0</td>\n",
       "      <td>69.0</td>\n",
       "      <td>NaN</td>\n",
       "      <td>NaN</td>\n",
       "      <td>...</td>\n",
       "      <td>NaN</td>\n",
       "      <td>NaN</td>\n",
       "      <td>NaN</td>\n",
       "      <td>NaN</td>\n",
       "      <td>NaN</td>\n",
       "      <td>NaN</td>\n",
       "      <td>NaN</td>\n",
       "      <td>NaN</td>\n",
       "      <td>NaN</td>\n",
       "      <td>NaN</td>\n",
       "    </tr>\n",
       "    <tr>\n",
       "      <th>2018-03-01 12:00:00</th>\n",
       "      <td>30</td>\n",
       "      <td>NaN</td>\n",
       "      <td>2018</td>\n",
       "      <td>3</td>\n",
       "      <td>1</td>\n",
       "      <td>3</td>\n",
       "      <td>96.0</td>\n",
       "      <td>64.0</td>\n",
       "      <td>69.0</td>\n",
       "      <td>NaN</td>\n",
       "      <td>...</td>\n",
       "      <td>NaN</td>\n",
       "      <td>NaN</td>\n",
       "      <td>NaN</td>\n",
       "      <td>NaN</td>\n",
       "      <td>NaN</td>\n",
       "      <td>NaN</td>\n",
       "      <td>NaN</td>\n",
       "      <td>NaN</td>\n",
       "      <td>NaN</td>\n",
       "      <td>NaN</td>\n",
       "    </tr>\n",
       "    <tr>\n",
       "      <th>2018-03-01 13:00:00</th>\n",
       "      <td>32</td>\n",
       "      <td>64.75</td>\n",
       "      <td>2018</td>\n",
       "      <td>3</td>\n",
       "      <td>1</td>\n",
       "      <td>3</td>\n",
       "      <td>30.0</td>\n",
       "      <td>96.0</td>\n",
       "      <td>64.0</td>\n",
       "      <td>69.0</td>\n",
       "      <td>...</td>\n",
       "      <td>NaN</td>\n",
       "      <td>NaN</td>\n",
       "      <td>NaN</td>\n",
       "      <td>NaN</td>\n",
       "      <td>NaN</td>\n",
       "      <td>NaN</td>\n",
       "      <td>NaN</td>\n",
       "      <td>NaN</td>\n",
       "      <td>NaN</td>\n",
       "      <td>NaN</td>\n",
       "    </tr>\n",
       "  </tbody>\n",
       "</table>\n",
       "<p>5 rows × 36 columns</p>\n",
       "</div>"
      ],
      "text/plain": [
       "                     num_orders  rolling_mean  year  month  day  dayofweek  \\\n",
       "datetime                                                                     \n",
       "2018-03-01 09:00:00          69           NaN  2018      3    1          3   \n",
       "2018-03-01 10:00:00          64           NaN  2018      3    1          3   \n",
       "2018-03-01 11:00:00          96           NaN  2018      3    1          3   \n",
       "2018-03-01 12:00:00          30           NaN  2018      3    1          3   \n",
       "2018-03-01 13:00:00          32         64.75  2018      3    1          3   \n",
       "\n",
       "                     lag_1  lag_2  lag_3  lag_4  ...  lag_21  lag_22  lag_23  \\\n",
       "datetime                                         ...                           \n",
       "2018-03-01 09:00:00    NaN    NaN    NaN    NaN  ...     NaN     NaN     NaN   \n",
       "2018-03-01 10:00:00   69.0    NaN    NaN    NaN  ...     NaN     NaN     NaN   \n",
       "2018-03-01 11:00:00   64.0   69.0    NaN    NaN  ...     NaN     NaN     NaN   \n",
       "2018-03-01 12:00:00   96.0   64.0   69.0    NaN  ...     NaN     NaN     NaN   \n",
       "2018-03-01 13:00:00   30.0   96.0   64.0   69.0  ...     NaN     NaN     NaN   \n",
       "\n",
       "                     lag_24  lag_25  lag_26  lag_27  lag_28  lag_29  lag_30  \n",
       "datetime                                                                     \n",
       "2018-03-01 09:00:00     NaN     NaN     NaN     NaN     NaN     NaN     NaN  \n",
       "2018-03-01 10:00:00     NaN     NaN     NaN     NaN     NaN     NaN     NaN  \n",
       "2018-03-01 11:00:00     NaN     NaN     NaN     NaN     NaN     NaN     NaN  \n",
       "2018-03-01 12:00:00     NaN     NaN     NaN     NaN     NaN     NaN     NaN  \n",
       "2018-03-01 13:00:00     NaN     NaN     NaN     NaN     NaN     NaN     NaN  \n",
       "\n",
       "[5 rows x 36 columns]"
      ]
     },
     "metadata": {},
     "output_type": "display_data"
    }
   ],
   "source": [
    "make_features(data, 30, 4)\n",
    "display(data.head())"
   ]
  },
  {
   "cell_type": "markdown",
   "metadata": {},
   "source": [
    "Выделим трейновую и тестовую выборки. Проверим, что тест следует за трейном."
   ]
  },
  {
   "cell_type": "code",
   "execution_count": 11,
   "metadata": {},
   "outputs": [
    {
     "data": {
      "text/plain": [
       "Timestamp('2018-03-02 15:00:00', freq='H')"
      ]
     },
     "metadata": {},
     "output_type": "display_data"
    },
    {
     "data": {
      "text/plain": [
       "Timestamp('2018-08-13 14:00:00', freq='H')"
      ]
     },
     "metadata": {},
     "output_type": "display_data"
    },
    {
     "data": {
      "text/plain": [
       "Timestamp('2018-08-13 15:00:00', freq='H')"
      ]
     },
     "metadata": {},
     "output_type": "display_data"
    },
    {
     "data": {
      "text/plain": [
       "Timestamp('2018-08-31 23:00:00', freq='H')"
      ]
     },
     "metadata": {},
     "output_type": "display_data"
    }
   ],
   "source": [
    "train, test = train_test_split(data, shuffle=False, test_size=0.1)\n",
    "train = train.dropna()\n",
    "display (train.index.min(), train.index.max())\n",
    "display (test.index.min(), test.index.max())"
   ]
  },
  {
   "cell_type": "markdown",
   "metadata": {},
   "source": [
    "Выделим признаки обучения и целевой признак. Обучим линейную регрессию."
   ]
  },
  {
   "cell_type": "code",
   "execution_count": 12,
   "metadata": {},
   "outputs": [
    {
     "data": {
      "text/plain": [
       "'RMSE обучающей выборки: 25.281'"
      ]
     },
     "metadata": {},
     "output_type": "display_data"
    }
   ],
   "source": [
    "features_train = train.drop(columns='num_orders')\n",
    "target_train = train['num_orders']\n",
    "features_test = test.drop(columns='num_orders')\n",
    "target_test = test['num_orders']\n",
    "\n",
    "model = LinearRegression().fit(features_train, target_train)\n",
    "predict_train = model.predict(features_train)\n",
    "\n",
    "display(f\"RMSE обучающей выборки: {mean_squared_error(target_train, predict_train, squared=False):.3f}\")"
   ]
  },
  {
   "cell_type": "code",
   "execution_count": 13,
   "metadata": {},
   "outputs": [
    {
     "data": {
      "text/plain": [
       "'Лучшие параметры для модели:'"
      ]
     },
     "metadata": {},
     "output_type": "display_data"
    },
    {
     "data": {
      "text/plain": [
       "{'criterion': 'mse', 'max_depth': 5, 'random_state': 12345}"
      ]
     },
     "metadata": {},
     "output_type": "display_data"
    },
    {
     "data": {
      "text/plain": [
       "'RMSE DecisionTreeRegressor cross valid = 31.568'"
      ]
     },
     "metadata": {},
     "output_type": "display_data"
    }
   ],
   "source": [
    "tscv = TimeSeriesSplit(n_splits=3)\n",
    "model_tree = DecisionTreeRegressor() \n",
    "max_depth = [i for i in range(2, 20)]\n",
    "params = [{'criterion':['mse'], \n",
    "                'max_depth':max_depth, \n",
    "                'random_state':[12345]}]\n",
    "\n",
    "grid_tree = GridSearchCV(model_tree, params, scoring='neg_mean_squared_error', cv=tscv)\n",
    "grid_tree.fit(features_train, target_train)\n",
    "display(\"Лучшие параметры для модели:\")\n",
    "display(grid_tree.best_params_)\n",
    "means = grid_tree.cv_results_['mean_test_score']\n",
    "stds = grid_tree.cv_results_['std_test_score']\n",
    "cross_valid_tree = (max(means)*-1) ** 0.5\n",
    "display(f'RMSE DecisionTreeRegressor cross valid = {cross_valid_tree:.3f}')"
   ]
  },
  {
   "cell_type": "code",
   "execution_count": 14,
   "metadata": {},
   "outputs": [
    {
     "data": {
      "text/plain": [
       "'RMSE DecisionTreeRegressor = 27.853'"
      ]
     },
     "metadata": {},
     "output_type": "display_data"
    }
   ],
   "source": [
    "model_tree = DecisionTreeRegressor(\n",
    "    criterion='mse', \n",
    "    max_depth=3, \n",
    "    random_state=12345).fit(features_train, target_train)\n",
    "pred_tree = model_tree.predict(features_train)\n",
    "rmse_tree = (mean_squared_error(target_train, pred_tree))**0.5\n",
    "display(f'RMSE DecisionTreeRegressor = {rmse_tree:.3f}')"
   ]
  },
  {
   "cell_type": "markdown",
   "metadata": {},
   "source": [
    "RMSE ниже порогового. Проверим на тестовой выборке."
   ]
  },
  {
   "cell_type": "markdown",
   "metadata": {},
   "source": [
    "## Тестирование"
   ]
  },
  {
   "cell_type": "code",
   "execution_count": 15,
   "metadata": {},
   "outputs": [
    {
     "data": {
      "text/plain": [
       "'RMSE тестовой выборки: 46.944'"
      ]
     },
     "metadata": {},
     "output_type": "display_data"
    }
   ],
   "source": [
    "pred_linear = model.predict(features_test)\n",
    "display(f\"RMSE тестовой выборки: {mean_squared_error(target_test, pred_linear, squared=False):.3f}\")"
   ]
  },
  {
   "cell_type": "code",
   "execution_count": 16,
   "metadata": {},
   "outputs": [
    {
     "data": {
      "text/plain": [
       "'RMSE тестовой выборки: 56.513'"
      ]
     },
     "metadata": {},
     "output_type": "display_data"
    }
   ],
   "source": [
    "pred_tree = model_tree.predict(features_test)\n",
    "display(f\"RMSE тестовой выборки: {mean_squared_error(target_test, pred_tree, squared=False):.3f}\")"
   ]
  },
  {
   "cell_type": "code",
   "execution_count": 17,
   "metadata": {},
   "outputs": [
    {
     "data": {
      "image/png": "[encoded data removed]",
      "text/plain": [
       "<Figure size 1080x288 with 1 Axes>"
      ]
     },
     "metadata": {
      "needs_background": "light"
     },
     "output_type": "display_data"
    }
   ],
   "source": [
    "data_plot = target_test.reset_index()\n",
    "pred_linear = pd.Series(data=pred_linear)\n",
    "pred_tree = pd.Series(data=pred_tree)\n",
    "data_plot['pred_linear'] = pred_linear\n",
    "data_plot['pred_tree'] = pred_tree\n",
    "data_plot = data_plot.set_index(keys='datetime')\n",
    "\n",
    "fig, ax = plt.subplots()\n",
    "fig.set_figwidth(15)\n",
    "fig.suptitle('', fontsize = 15)\n",
    "data_plot.plot(ax=ax)\n",
    "plt.show()"
   ]
  },
  {
   "cell_type": "markdown",
   "metadata": {},
   "source": [
    "**Вывод**\n",
    "\n",
    "После всех наших преобразований получаем уровень ошибки ниже порогового - следовательно наша модель на основе линейной регрессии предсказывает на достойном уровне. Модель на основе дерева решений не проходит пороговое значение RMSE."
   ]
  }
 ],
 "metadata": {
  "ExecuteTimeLog": [
   {
    "duration": 531,
    "start_time": "2022-05-05T06:32:58.953Z"
   },
   {
    "duration": 210,
    "start_time": "2022-05-05T06:37:31.878Z"
   },
   {
    "duration": 40,
    "start_time": "2022-05-05T06:37:43.496Z"
   },
   {
    "duration": 10,
    "start_time": "2022-05-05T06:38:15.504Z"
   },
   {
    "duration": 51,
    "start_time": "2022-05-05T06:38:55.745Z"
   },
   {
    "duration": 10,
    "start_time": "2022-05-05T06:44:22.993Z"
   },
   {
    "duration": 29,
    "start_time": "2022-05-05T06:44:31.208Z"
   },
   {
    "duration": 63,
    "start_time": "2022-05-05T06:45:06.585Z"
   },
   {
    "duration": 15,
    "start_time": "2022-05-05T06:45:10.192Z"
   },
   {
    "duration": 1057,
    "start_time": "2022-05-05T06:51:46.065Z"
   },
   {
    "duration": 370,
    "start_time": "2022-05-05T06:59:10.281Z"
   },
   {
    "duration": 443,
    "start_time": "2022-05-05T06:59:28.610Z"
   },
   {
    "duration": 367,
    "start_time": "2022-05-05T06:59:55.746Z"
   },
   {
    "duration": 780,
    "start_time": "2022-05-05T07:10:17.731Z"
   },
   {
    "duration": 66,
    "start_time": "2022-05-05T07:10:49.236Z"
   },
   {
    "duration": 4010,
    "start_time": "2022-05-05T07:12:05.140Z"
   },
   {
    "duration": 3652,
    "start_time": "2022-05-05T07:12:40.516Z"
   },
   {
    "duration": 3611,
    "start_time": "2022-05-05T07:13:05.267Z"
   },
   {
    "duration": 21,
    "start_time": "2022-05-05T07:13:13.827Z"
   },
   {
    "duration": 52,
    "start_time": "2022-05-05T07:14:34.988Z"
   },
   {
    "duration": 52,
    "start_time": "2022-05-05T07:16:39.732Z"
   },
   {
    "duration": 16,
    "start_time": "2022-05-05T07:16:41.986Z"
   },
   {
    "duration": 411,
    "start_time": "2022-05-05T07:16:44.419Z"
   },
   {
    "duration": 358,
    "start_time": "2022-05-05T07:16:45.731Z"
   },
   {
    "duration": 16,
    "start_time": "2022-05-05T07:16:47.555Z"
   },
   {
    "duration": 50,
    "start_time": "2022-05-05T07:17:06.035Z"
   },
   {
    "duration": 15,
    "start_time": "2022-05-05T07:17:06.675Z"
   },
   {
    "duration": 325,
    "start_time": "2022-05-05T07:17:07.443Z"
   },
   {
    "duration": 361,
    "start_time": "2022-05-05T07:17:11.460Z"
   },
   {
    "duration": 14,
    "start_time": "2022-05-05T07:17:13.491Z"
   },
   {
    "duration": 7,
    "start_time": "2022-05-05T07:17:34.451Z"
   },
   {
    "duration": 14,
    "start_time": "2022-05-05T07:17:51.077Z"
   },
   {
    "duration": 19,
    "start_time": "2022-05-05T07:17:54.899Z"
   },
   {
    "duration": 360,
    "start_time": "2022-05-05T07:18:26.452Z"
   },
   {
    "duration": 17,
    "start_time": "2022-05-05T07:18:28.675Z"
   },
   {
    "duration": 12,
    "start_time": "2022-05-05T07:18:42.220Z"
   },
   {
    "duration": 13,
    "start_time": "2022-05-05T07:18:55.379Z"
   },
   {
    "duration": 352,
    "start_time": "2022-05-05T07:19:48.499Z"
   },
   {
    "duration": 13,
    "start_time": "2022-05-05T07:19:50.579Z"
   },
   {
    "duration": 31,
    "start_time": "2022-05-05T07:19:53.780Z"
   },
   {
    "duration": 26,
    "start_time": "2022-05-05T07:29:56.261Z"
   },
   {
    "duration": 12,
    "start_time": "2022-05-05T07:34:22.868Z"
   },
   {
    "duration": 548,
    "start_time": "2022-05-05T07:34:32.196Z"
   },
   {
    "duration": 1036,
    "start_time": "2022-05-05T07:34:40.485Z"
   },
   {
    "duration": 766,
    "start_time": "2022-05-05T07:35:37.316Z"
   },
   {
    "duration": 1026,
    "start_time": "2022-05-05T07:36:00.548Z"
   },
   {
    "duration": 941,
    "start_time": "2022-05-05T07:36:07.731Z"
   },
   {
    "duration": 764,
    "start_time": "2022-05-05T07:36:40.884Z"
   },
   {
    "duration": 504,
    "start_time": "2022-05-05T07:47:32.213Z"
   },
   {
    "duration": 12,
    "start_time": "2022-05-05T08:55:04.009Z"
   },
   {
    "duration": 6097,
    "start_time": "2022-05-05T08:55:18.553Z"
   },
   {
    "duration": 16,
    "start_time": "2022-05-05T08:55:24.653Z"
   },
   {
    "duration": 16,
    "start_time": "2022-05-05T08:55:54.344Z"
   },
   {
    "duration": 7,
    "start_time": "2022-05-05T08:57:44.331Z"
   },
   {
    "duration": 4257,
    "start_time": "2022-05-05T08:58:03.561Z"
   },
   {
    "duration": 7,
    "start_time": "2022-05-05T08:58:24.490Z"
   },
   {
    "duration": 35,
    "start_time": "2022-05-05T08:58:25.529Z"
   },
   {
    "duration": 6150,
    "start_time": "2022-05-05T09:00:36.025Z"
   },
   {
    "duration": 4173,
    "start_time": "2022-05-05T09:01:49.611Z"
   },
   {
    "duration": 224,
    "start_time": "2022-05-05T09:02:09.177Z"
   },
   {
    "duration": 29,
    "start_time": "2022-05-05T09:03:37.849Z"
   },
   {
    "duration": 33,
    "start_time": "2022-05-05T09:04:05.370Z"
   },
   {
    "duration": 13,
    "start_time": "2022-05-05T09:05:30.074Z"
   },
   {
    "duration": 24,
    "start_time": "2022-05-05T09:05:50.142Z"
   },
   {
    "duration": 26,
    "start_time": "2022-05-05T09:06:02.857Z"
   },
   {
    "duration": 168,
    "start_time": "2022-05-05T09:06:11.227Z"
   },
   {
    "duration": 46,
    "start_time": "2022-05-05T09:06:18.569Z"
   },
   {
    "duration": 9,
    "start_time": "2022-05-05T09:06:33.689Z"
   },
   {
    "duration": 14,
    "start_time": "2022-05-05T09:12:02.108Z"
   },
   {
    "duration": 17,
    "start_time": "2022-05-05T09:12:17.979Z"
   },
   {
    "duration": 3823,
    "start_time": "2022-05-05T09:16:59.909Z"
   },
   {
    "duration": 67,
    "start_time": "2022-05-05T09:17:03.736Z"
   },
   {
    "duration": 16,
    "start_time": "2022-05-05T09:17:03.805Z"
   },
   {
    "duration": 359,
    "start_time": "2022-05-05T09:17:03.823Z"
   },
   {
    "duration": 517,
    "start_time": "2022-05-05T09:17:04.186Z"
   },
   {
    "duration": 15,
    "start_time": "2022-05-05T09:17:04.705Z"
   },
   {
    "duration": 867,
    "start_time": "2022-05-05T09:17:04.722Z"
   },
   {
    "duration": 535,
    "start_time": "2022-05-05T09:17:05.592Z"
   },
   {
    "duration": 7,
    "start_time": "2022-05-05T09:17:06.130Z"
   },
   {
    "duration": 39,
    "start_time": "2022-05-05T09:17:06.139Z"
   },
   {
    "duration": 17,
    "start_time": "2022-05-05T09:17:06.194Z"
   },
   {
    "duration": 81,
    "start_time": "2022-05-05T09:17:06.214Z"
   },
   {
    "duration": 108,
    "start_time": "2022-05-05T09:17:06.299Z"
   },
   {
    "duration": 3729,
    "start_time": "2022-05-05T09:22:43.186Z"
   },
   {
    "duration": 3810,
    "start_time": "2022-05-05T09:22:54.376Z"
   },
   {
    "duration": 52,
    "start_time": "2022-05-05T09:22:58.190Z"
   },
   {
    "duration": 15,
    "start_time": "2022-05-05T09:22:58.245Z"
   },
   {
    "duration": 351,
    "start_time": "2022-05-05T09:22:58.263Z"
   },
   {
    "duration": 377,
    "start_time": "2022-05-05T09:22:58.618Z"
   },
   {
    "duration": 13,
    "start_time": "2022-05-05T09:22:58.998Z"
   },
   {
    "duration": 869,
    "start_time": "2022-05-05T09:22:59.014Z"
   },
   {
    "duration": 628,
    "start_time": "2022-05-05T09:22:59.893Z"
   },
   {
    "duration": 10,
    "start_time": "2022-05-05T09:23:00.523Z"
   },
   {
    "duration": 41,
    "start_time": "2022-05-05T09:23:00.536Z"
   },
   {
    "duration": 21,
    "start_time": "2022-05-05T09:23:00.593Z"
   },
   {
    "duration": 182,
    "start_time": "2022-05-05T09:23:00.617Z"
   },
   {
    "duration": 208,
    "start_time": "2022-05-05T09:23:00.803Z"
   },
   {
    "duration": 10,
    "start_time": "2022-05-05T09:23:01.016Z"
   },
   {
    "duration": 397,
    "start_time": "2022-05-05T09:23:26.990Z"
   },
   {
    "duration": 46,
    "start_time": "2022-05-05T09:23:33.357Z"
   },
   {
    "duration": 59,
    "start_time": "2022-05-05T09:28:05.949Z"
   },
   {
    "duration": 18,
    "start_time": "2022-05-05T09:29:20.172Z"
   },
   {
    "duration": 27,
    "start_time": "2022-05-05T09:29:35.630Z"
   },
   {
    "duration": 21,
    "start_time": "2022-05-05T09:29:45.998Z"
   },
   {
    "duration": 4282,
    "start_time": "2022-05-05T09:30:11.411Z"
   },
   {
    "duration": 73,
    "start_time": "2022-05-05T09:30:15.697Z"
   },
   {
    "duration": 21,
    "start_time": "2022-05-05T09:30:15.773Z"
   },
   {
    "duration": 499,
    "start_time": "2022-05-05T09:30:15.797Z"
   },
   {
    "duration": 446,
    "start_time": "2022-05-05T09:30:16.300Z"
   },
   {
    "duration": 17,
    "start_time": "2022-05-05T09:30:16.749Z"
   },
   {
    "duration": 875,
    "start_time": "2022-05-05T09:30:16.769Z"
   },
   {
    "duration": 632,
    "start_time": "2022-05-05T09:30:17.646Z"
   },
   {
    "duration": 14,
    "start_time": "2022-05-05T09:30:18.280Z"
   },
   {
    "duration": 33,
    "start_time": "2022-05-05T09:30:18.296Z"
   },
   {
    "duration": 21,
    "start_time": "2022-05-05T09:30:18.331Z"
   },
   {
    "duration": 147,
    "start_time": "2022-05-05T09:30:18.354Z"
   },
   {
    "duration": 15,
    "start_time": "2022-05-05T09:30:18.595Z"
   },
   {
    "duration": 6112,
    "start_time": "2022-05-06T06:02:22.642Z"
   },
   {
    "duration": 52,
    "start_time": "2022-05-06T06:02:28.757Z"
   },
   {
    "duration": 18,
    "start_time": "2022-05-06T06:02:28.811Z"
   },
   {
    "duration": 515,
    "start_time": "2022-05-06T06:02:32.294Z"
   },
   {
    "duration": 489,
    "start_time": "2022-05-06T06:02:43.553Z"
   },
   {
    "duration": 428,
    "start_time": "2022-05-06T06:02:54.619Z"
   },
   {
    "duration": 377,
    "start_time": "2022-05-06T06:02:59.915Z"
   },
   {
    "duration": 411,
    "start_time": "2022-05-06T06:03:44.365Z"
   },
   {
    "duration": 381,
    "start_time": "2022-05-06T06:04:26.044Z"
   },
   {
    "duration": 380,
    "start_time": "2022-05-06T06:04:35.963Z"
   },
   {
    "duration": 678,
    "start_time": "2022-05-06T06:05:57.404Z"
   },
   {
    "duration": 3677,
    "start_time": "2022-05-06T06:06:04.183Z"
   },
   {
    "duration": 52,
    "start_time": "2022-05-06T06:06:07.864Z"
   },
   {
    "duration": 16,
    "start_time": "2022-05-06T06:06:07.918Z"
   },
   {
    "duration": 411,
    "start_time": "2022-05-06T06:06:07.937Z"
   },
   {
    "duration": 381,
    "start_time": "2022-05-06T06:06:08.354Z"
   },
   {
    "duration": 23,
    "start_time": "2022-05-06T06:06:08.739Z"
   },
   {
    "duration": 475,
    "start_time": "2022-05-06T06:06:08.765Z"
   },
   {
    "duration": 1104,
    "start_time": "2022-05-06T06:06:35.164Z"
   },
   {
    "duration": 991,
    "start_time": "2022-05-06T06:06:59.164Z"
   },
   {
    "duration": 967,
    "start_time": "2022-05-06T06:07:10.427Z"
   },
   {
    "duration": 437,
    "start_time": "2022-05-06T06:12:06.908Z"
   },
   {
    "duration": 557,
    "start_time": "2022-05-06T06:12:52.971Z"
   },
   {
    "duration": 6,
    "start_time": "2022-05-06T06:15:18.435Z"
   },
   {
    "duration": 31,
    "start_time": "2022-05-06T06:15:24.947Z"
   },
   {
    "duration": 6,
    "start_time": "2022-05-06T06:19:21.215Z"
   },
   {
    "duration": 18,
    "start_time": "2022-05-06T06:19:23.536Z"
   },
   {
    "duration": 6,
    "start_time": "2022-05-06T06:19:57.148Z"
   },
   {
    "duration": 16,
    "start_time": "2022-05-06T06:19:58.941Z"
   },
   {
    "duration": 6,
    "start_time": "2022-05-06T06:20:10.733Z"
   },
   {
    "duration": 28,
    "start_time": "2022-05-06T06:20:11.900Z"
   },
   {
    "duration": 6,
    "start_time": "2022-05-06T06:25:53.533Z"
   },
   {
    "duration": 27,
    "start_time": "2022-05-06T06:25:56.019Z"
   },
   {
    "duration": 4028,
    "start_time": "2022-05-06T06:26:07.878Z"
   },
   {
    "duration": 56,
    "start_time": "2022-05-06T06:26:11.910Z"
   },
   {
    "duration": 15,
    "start_time": "2022-05-06T06:26:11.969Z"
   },
   {
    "duration": 594,
    "start_time": "2022-05-06T06:26:11.987Z"
   },
   {
    "duration": 477,
    "start_time": "2022-05-06T06:26:12.583Z"
   },
   {
    "duration": 14,
    "start_time": "2022-05-06T06:26:13.062Z"
   },
   {
    "duration": 1007,
    "start_time": "2022-05-06T06:26:13.078Z"
   },
   {
    "duration": 594,
    "start_time": "2022-05-06T06:26:14.088Z"
   },
   {
    "duration": 5,
    "start_time": "2022-05-06T06:26:14.685Z"
   },
   {
    "duration": 36,
    "start_time": "2022-05-06T06:26:14.693Z"
   },
   {
    "duration": 39,
    "start_time": "2022-05-06T06:26:14.731Z"
   },
   {
    "duration": 180,
    "start_time": "2022-05-06T06:26:14.772Z"
   },
   {
    "duration": 13,
    "start_time": "2022-05-06T06:26:14.956Z"
   },
   {
    "duration": 18,
    "start_time": "2022-05-06T06:27:02.880Z"
   },
   {
    "duration": 3663,
    "start_time": "2022-05-06T06:39:00.941Z"
   },
   {
    "duration": 4019,
    "start_time": "2022-05-06T06:40:15.821Z"
   },
   {
    "duration": 3621,
    "start_time": "2022-05-06T06:42:04.142Z"
   },
   {
    "duration": 24,
    "start_time": "2022-05-06T06:42:55.263Z"
   },
   {
    "duration": 792,
    "start_time": "2022-05-06T06:43:18.078Z"
   },
   {
    "duration": 18,
    "start_time": "2022-05-06T06:44:40.545Z"
   },
   {
    "duration": 276,
    "start_time": "2022-05-06T06:45:02.734Z"
   },
   {
    "duration": 783,
    "start_time": "2022-05-06T06:45:12.558Z"
   },
   {
    "duration": 16,
    "start_time": "2022-05-06T06:45:18.893Z"
   },
   {
    "duration": 10,
    "start_time": "2022-05-06T06:46:53.726Z"
   },
   {
    "duration": 11,
    "start_time": "2022-05-06T06:47:02.830Z"
   },
   {
    "duration": 14,
    "start_time": "2022-05-06T06:51:47.682Z"
   },
   {
    "duration": 15,
    "start_time": "2022-05-06T06:52:22.174Z"
   },
   {
    "duration": 13,
    "start_time": "2022-05-06T06:52:48.734Z"
   },
   {
    "duration": 26,
    "start_time": "2022-05-06T06:53:33.261Z"
   },
   {
    "duration": 543,
    "start_time": "2022-05-06T06:54:15.708Z"
   },
   {
    "duration": 479,
    "start_time": "2022-05-06T06:54:31.307Z"
   },
   {
    "duration": 9,
    "start_time": "2022-05-06T06:55:26.075Z"
   },
   {
    "duration": 387,
    "start_time": "2022-05-06T06:56:04.986Z"
   },
   {
    "duration": 398,
    "start_time": "2022-05-06T06:56:48.891Z"
   },
   {
    "duration": 27,
    "start_time": "2022-05-06T06:57:16.267Z"
   },
   {
    "duration": 8,
    "start_time": "2022-05-06T06:57:22.963Z"
   },
   {
    "duration": 9,
    "start_time": "2022-05-06T06:57:39.851Z"
   },
   {
    "duration": 16,
    "start_time": "2022-05-06T06:57:54.891Z"
   },
   {
    "duration": 4,
    "start_time": "2022-05-06T06:59:12.940Z"
   },
   {
    "duration": 18,
    "start_time": "2022-05-06T07:00:24.939Z"
   },
   {
    "duration": 7,
    "start_time": "2022-05-06T07:01:03.004Z"
   },
   {
    "duration": 5,
    "start_time": "2022-05-06T07:01:21.725Z"
   },
   {
    "duration": 8,
    "start_time": "2022-05-06T07:01:49.357Z"
   },
   {
    "duration": 16,
    "start_time": "2022-05-06T07:02:11.902Z"
   },
   {
    "duration": 30,
    "start_time": "2022-05-06T07:02:27.117Z"
   },
   {
    "duration": 11,
    "start_time": "2022-05-06T07:02:42.158Z"
   },
   {
    "duration": 35,
    "start_time": "2022-05-06T07:04:38.798Z"
   },
   {
    "duration": 32,
    "start_time": "2022-05-06T07:05:09.503Z"
   },
   {
    "duration": 26,
    "start_time": "2022-05-06T07:06:01.614Z"
   },
   {
    "duration": 22,
    "start_time": "2022-05-06T07:06:54.477Z"
   },
   {
    "duration": 5885,
    "start_time": "2022-05-06T07:07:08.767Z"
   },
   {
    "duration": 59,
    "start_time": "2022-05-06T07:07:14.655Z"
   },
   {
    "duration": 16,
    "start_time": "2022-05-06T07:07:14.716Z"
   },
   {
    "duration": 448,
    "start_time": "2022-05-06T07:07:14.735Z"
   },
   {
    "duration": 490,
    "start_time": "2022-05-06T07:07:15.186Z"
   },
   {
    "duration": 14,
    "start_time": "2022-05-06T07:07:15.678Z"
   },
   {
    "duration": 1018,
    "start_time": "2022-05-06T07:07:15.694Z"
   },
   {
    "duration": 587,
    "start_time": "2022-05-06T07:07:16.715Z"
   },
   {
    "duration": 5,
    "start_time": "2022-05-06T07:07:17.305Z"
   },
   {
    "duration": 411,
    "start_time": "2022-05-06T07:07:17.313Z"
   },
   {
    "duration": 18,
    "start_time": "2022-05-06T07:07:17.726Z"
   },
   {
    "duration": 114,
    "start_time": "2022-05-06T07:07:17.746Z"
   },
   {
    "duration": 923,
    "start_time": "2022-05-06T07:07:17.863Z"
   },
   {
    "duration": 17,
    "start_time": "2022-05-06T07:07:18.789Z"
   },
   {
    "duration": 8,
    "start_time": "2022-05-06T07:07:18.809Z"
   },
   {
    "duration": 34,
    "start_time": "2022-05-06T07:07:18.819Z"
   },
   {
    "duration": 22,
    "start_time": "2022-05-06T07:07:18.855Z"
   },
   {
    "duration": 523,
    "start_time": "2022-05-06T07:07:18.879Z"
   },
   {
    "duration": 10,
    "start_time": "2022-05-06T07:08:10.718Z"
   },
   {
    "duration": 375,
    "start_time": "2022-05-06T07:08:42.782Z"
   },
   {
    "duration": 34,
    "start_time": "2022-05-06T07:10:10.341Z"
   },
   {
    "duration": 17,
    "start_time": "2022-05-06T07:10:14.799Z"
   },
   {
    "duration": 215,
    "start_time": "2022-05-06T07:10:22.137Z"
   },
   {
    "duration": 1297,
    "start_time": "2022-05-06T07:10:22.356Z"
   },
   {
    "duration": 23,
    "start_time": "2022-05-06T07:10:23.656Z"
   },
   {
    "duration": 8,
    "start_time": "2022-05-06T07:10:23.682Z"
   },
   {
    "duration": 14,
    "start_time": "2022-05-06T07:10:23.693Z"
   },
   {
    "duration": 570,
    "start_time": "2022-05-06T07:10:23.709Z"
   },
   {
    "duration": 30,
    "start_time": "2022-05-06T07:10:44.253Z"
   },
   {
    "duration": 18,
    "start_time": "2022-05-06T07:10:48.478Z"
   },
   {
    "duration": 54,
    "start_time": "2022-05-06T07:10:48.499Z"
   },
   {
    "duration": 1321,
    "start_time": "2022-05-06T07:10:48.557Z"
   },
   {
    "duration": 22,
    "start_time": "2022-05-06T07:10:49.881Z"
   },
   {
    "duration": 8,
    "start_time": "2022-05-06T07:10:49.905Z"
   },
   {
    "duration": 38,
    "start_time": "2022-05-06T07:10:49.916Z"
   },
   {
    "duration": 390,
    "start_time": "2022-05-06T07:10:49.956Z"
   },
   {
    "duration": 31,
    "start_time": "2022-05-06T07:11:05.789Z"
   },
   {
    "duration": 5765,
    "start_time": "2022-05-06T07:11:22.700Z"
   },
   {
    "duration": 50,
    "start_time": "2022-05-06T07:11:28.468Z"
   },
   {
    "duration": 31,
    "start_time": "2022-05-06T07:11:28.520Z"
   },
   {
    "duration": 431,
    "start_time": "2022-05-06T07:11:28.553Z"
   },
   {
    "duration": 500,
    "start_time": "2022-05-06T07:11:28.988Z"
   },
   {
    "duration": 13,
    "start_time": "2022-05-06T07:11:29.491Z"
   },
   {
    "duration": 981,
    "start_time": "2022-05-06T07:11:29.506Z"
   },
   {
    "duration": 593,
    "start_time": "2022-05-06T07:11:30.490Z"
   },
   {
    "duration": 6,
    "start_time": "2022-05-06T07:11:31.085Z"
   },
   {
    "duration": 36,
    "start_time": "2022-05-06T07:11:31.093Z"
   },
   {
    "duration": 37,
    "start_time": "2022-05-06T07:11:31.131Z"
   },
   {
    "duration": 90,
    "start_time": "2022-05-06T07:11:31.171Z"
   },
   {
    "duration": 992,
    "start_time": "2022-05-06T07:11:31.265Z"
   },
   {
    "duration": 18,
    "start_time": "2022-05-06T07:11:32.261Z"
   },
   {
    "duration": 7,
    "start_time": "2022-05-06T07:11:32.281Z"
   },
   {
    "duration": 18,
    "start_time": "2022-05-06T07:11:32.290Z"
   },
   {
    "duration": 412,
    "start_time": "2022-05-06T07:11:32.310Z"
   },
   {
    "duration": 36,
    "start_time": "2022-05-06T07:12:31.401Z"
   },
   {
    "duration": 18,
    "start_time": "2022-05-06T07:12:35.435Z"
   },
   {
    "duration": 196,
    "start_time": "2022-05-06T07:12:35.456Z"
   },
   {
    "duration": 1281,
    "start_time": "2022-05-06T07:12:35.655Z"
   },
   {
    "duration": 22,
    "start_time": "2022-05-06T07:12:36.951Z"
   },
   {
    "duration": 8,
    "start_time": "2022-05-06T07:12:36.975Z"
   },
   {
    "duration": 9,
    "start_time": "2022-05-06T07:12:36.985Z"
   },
   {
    "duration": 404,
    "start_time": "2022-05-06T07:12:36.996Z"
   },
   {
    "duration": 50,
    "start_time": "2022-05-06T07:13:02.058Z"
   },
   {
    "duration": 3874,
    "start_time": "2022-05-06T07:13:07.299Z"
   },
   {
    "duration": 48,
    "start_time": "2022-05-06T07:13:11.177Z"
   },
   {
    "duration": 16,
    "start_time": "2022-05-06T07:13:11.227Z"
   },
   {
    "duration": 401,
    "start_time": "2022-05-06T07:13:11.245Z"
   },
   {
    "duration": 443,
    "start_time": "2022-05-06T07:13:11.653Z"
   },
   {
    "duration": 13,
    "start_time": "2022-05-06T07:13:12.098Z"
   },
   {
    "duration": 1117,
    "start_time": "2022-05-06T07:13:12.114Z"
   },
   {
    "duration": 576,
    "start_time": "2022-05-06T07:13:13.233Z"
   },
   {
    "duration": 5,
    "start_time": "2022-05-06T07:13:13.812Z"
   },
   {
    "duration": 75,
    "start_time": "2022-05-06T07:13:13.820Z"
   },
   {
    "duration": 75,
    "start_time": "2022-05-06T07:13:25.533Z"
   },
   {
    "duration": 42,
    "start_time": "2022-05-06T07:13:25.611Z"
   },
   {
    "duration": 95,
    "start_time": "2022-05-06T07:13:25.656Z"
   },
   {
    "duration": 2160,
    "start_time": "2022-05-06T07:13:25.756Z"
   },
   {
    "duration": 51,
    "start_time": "2022-05-06T07:13:27.920Z"
   },
   {
    "duration": 14,
    "start_time": "2022-05-06T07:13:27.973Z"
   },
   {
    "duration": 105,
    "start_time": "2022-05-06T07:13:28.054Z"
   },
   {
    "duration": 409,
    "start_time": "2022-05-06T07:13:28.161Z"
   },
   {
    "duration": 38,
    "start_time": "2022-05-06T07:14:03.706Z"
   },
   {
    "duration": 5698,
    "start_time": "2022-05-06T07:15:56.667Z"
   },
   {
    "duration": 49,
    "start_time": "2022-05-06T07:16:02.369Z"
   },
   {
    "duration": 17,
    "start_time": "2022-05-06T07:16:02.420Z"
   },
   {
    "duration": 458,
    "start_time": "2022-05-06T07:16:02.456Z"
   },
   {
    "duration": 480,
    "start_time": "2022-05-06T07:16:02.916Z"
   },
   {
    "duration": 13,
    "start_time": "2022-05-06T07:16:03.399Z"
   },
   {
    "duration": 992,
    "start_time": "2022-05-06T07:16:03.414Z"
   },
   {
    "duration": 743,
    "start_time": "2022-05-06T07:16:04.409Z"
   },
   {
    "duration": 8,
    "start_time": "2022-05-06T07:16:05.155Z"
   },
   {
    "duration": 53,
    "start_time": "2022-05-06T07:16:05.168Z"
   },
   {
    "duration": 46,
    "start_time": "2022-05-06T07:16:05.224Z"
   },
   {
    "duration": 180,
    "start_time": "2022-05-06T07:16:05.274Z"
   },
   {
    "duration": 879,
    "start_time": "2022-05-06T07:16:05.458Z"
   },
   {
    "duration": 32,
    "start_time": "2022-05-06T07:16:06.339Z"
   },
   {
    "duration": 9,
    "start_time": "2022-05-06T07:16:06.374Z"
   },
   {
    "duration": 13,
    "start_time": "2022-05-06T07:16:06.385Z"
   },
   {
    "duration": 419,
    "start_time": "2022-05-06T07:16:06.400Z"
   },
   {
    "duration": 21,
    "start_time": "2022-05-06T07:19:35.434Z"
   },
   {
    "duration": 18,
    "start_time": "2022-05-06T07:19:38.042Z"
   },
   {
    "duration": 788,
    "start_time": "2022-05-06T07:19:39.673Z"
   },
   {
    "duration": 16,
    "start_time": "2022-05-06T07:19:41.418Z"
   },
   {
    "duration": 9,
    "start_time": "2022-05-06T07:19:45.914Z"
   },
   {
    "duration": 9,
    "start_time": "2022-05-06T07:19:47.001Z"
   },
   {
    "duration": 19,
    "start_time": "2022-05-06T07:20:02.985Z"
   },
   {
    "duration": 22,
    "start_time": "2022-05-06T07:20:05.162Z"
   },
   {
    "duration": 833,
    "start_time": "2022-05-06T07:20:05.866Z"
   },
   {
    "duration": 18,
    "start_time": "2022-05-06T07:20:06.701Z"
   },
   {
    "duration": 10,
    "start_time": "2022-05-06T07:20:08.906Z"
   },
   {
    "duration": 10,
    "start_time": "2022-05-06T07:20:09.515Z"
   },
   {
    "duration": 384,
    "start_time": "2022-05-06T07:20:10.842Z"
   },
   {
    "duration": 25,
    "start_time": "2022-05-06T07:20:25.866Z"
   },
   {
    "duration": 63,
    "start_time": "2022-05-06T07:20:37.081Z"
   },
   {
    "duration": 24,
    "start_time": "2022-05-06T07:20:44.233Z"
   },
   {
    "duration": 133,
    "start_time": "2022-05-06T07:20:49.625Z"
   },
   {
    "duration": 18,
    "start_time": "2022-05-06T07:20:54.361Z"
   },
   {
    "duration": 6488,
    "start_time": "2022-05-06T07:21:03.033Z"
   },
   {
    "duration": 59,
    "start_time": "2022-05-06T07:21:09.524Z"
   },
   {
    "duration": 17,
    "start_time": "2022-05-06T07:21:09.588Z"
   },
   {
    "duration": 468,
    "start_time": "2022-05-06T07:21:09.608Z"
   },
   {
    "duration": 530,
    "start_time": "2022-05-06T07:21:10.078Z"
   },
   {
    "duration": 14,
    "start_time": "2022-05-06T07:21:10.610Z"
   },
   {
    "duration": 1103,
    "start_time": "2022-05-06T07:21:10.626Z"
   },
   {
    "duration": 622,
    "start_time": "2022-05-06T07:21:11.732Z"
   },
   {
    "duration": 6,
    "start_time": "2022-05-06T07:21:12.357Z"
   },
   {
    "duration": 535,
    "start_time": "2022-05-06T07:21:12.366Z"
   },
   {
    "duration": 24,
    "start_time": "2022-05-06T07:21:12.904Z"
   },
   {
    "duration": 129,
    "start_time": "2022-05-06T07:21:12.931Z"
   },
   {
    "duration": 2831,
    "start_time": "2022-05-06T07:21:13.068Z"
   },
   {
    "duration": 64,
    "start_time": "2022-05-06T07:21:15.901Z"
   },
   {
    "duration": 93,
    "start_time": "2022-05-06T07:21:15.967Z"
   },
   {
    "duration": 91,
    "start_time": "2022-05-06T07:21:16.063Z"
   },
   {
    "duration": 404,
    "start_time": "2022-05-06T07:21:16.156Z"
   }
  ],
  "kernelspec": {
   "display_name": "Python 3 (ipykernel)",
   "language": "python",
   "name": "python3"
  },
  "language_info": {
   "codemirror_mode": {
    "name": "ipython",
    "version": 3
   },
   "file_extension": ".py",
   "mimetype": "text/x-python",
   "name": "python",
   "nbconvert_exporter": "python",
   "pygments_lexer": "ipython3",
   "version": "3.9.5"
  },
  "toc": {
   "base_numbering": 1,
   "nav_menu": {},
   "number_sections": true,
   "sideBar": true,
   "skip_h1_title": true,
   "title_cell": "Содержание",
   "title_sidebar": "Contents",
   "toc_cell": true,
   "toc_position": {},
   "toc_section_display": true,
   "toc_window_display": false
  }
 },
 "nbformat": 4,
 "nbformat_minor": 2
}
