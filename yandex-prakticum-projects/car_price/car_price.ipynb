{
 "cells": [
  {
   "cell_type": "markdown",
   "metadata": {},
   "source": [
    "# Определение стоимости автомобилей"
   ]
  },
  {
   "cell_type": "markdown",
   "metadata": {},
   "source": [
    "Сервис по продаже автомобилей с пробегом «Не бит, не крашен» разрабатывает приложение для привлечения новых клиентов. В нём можно быстро узнать рыночную стоимость своего автомобиля. В вашем распоряжении исторические данные: технические характеристики, комплектации и цены автомобилей. Вам нужно построить модель для определения стоимости. \n",
    "\n",
    "Заказчику важны:\n",
    "\n",
    "- качество предсказания;\n",
    "- скорость предсказания;\n",
    "- время обучения."
   ]
  },
  {
   "cell_type": "markdown",
   "metadata": {},
   "source": [
    "## Подготовка данных"
   ]
  },
  {
   "cell_type": "markdown",
   "metadata": {},
   "source": [
    "Импортируем необходимые библиотеки."
   ]
  },
  {
   "cell_type": "code",
   "execution_count": 1,
   "metadata": {},
   "outputs": [],
   "source": [
    "import pandas as pd\n",
    "\n",
    "import numpy as np\n",
    "\n",
    "import matplotlib.pyplot as plt\n",
    "\n",
    "import seaborn as sns\n",
    "\n",
    "from lightgbm import LGBMRegressor\n",
    "\n",
    "from catboost import Pool, CatBoostRegressor, cv\n",
    "\n",
    "from sklearn.preprocessing import OrdinalEncoder\n",
    "from sklearn.model_selection import train_test_split, GridSearchCV, cross_val_score\n",
    "from sklearn.linear_model import LinearRegression\n",
    "from sklearn.tree import DecisionTreeRegressor\n",
    "from sklearn.ensemble import RandomForestRegressor\n",
    "from sklearn.metrics import mean_squared_error"
   ]
  },
  {
   "cell_type": "markdown",
   "metadata": {},
   "source": [
    "Прочитаем датасет. В описании указаны столбцы с датами - сразу спарсим их как тип `datetime64`."
   ]
  },
  {
   "cell_type": "code",
   "execution_count": 2,
   "metadata": {},
   "outputs": [],
   "source": [
    "data = pd.read_csv('/datasets/autos.csv', parse_dates=[\n",
    "    'DateCrawled', \n",
    "    'DateCreated', \n",
    "    'LastSeen'])"
   ]
  },
  {
   "cell_type": "markdown",
   "metadata": {},
   "source": [
    "Посмотрим информацию о файле."
   ]
  },
  {
   "cell_type": "code",
   "execution_count": 3,
   "metadata": {
    "scrolled": false
   },
   "outputs": [
    {
     "name": "stdout",
     "output_type": "stream",
     "text": [
      "<class 'pandas.core.frame.DataFrame'>\n",
      "RangeIndex: 354369 entries, 0 to 354368\n",
      "Data columns (total 16 columns):\n",
      " #   Column             Non-Null Count   Dtype         \n",
      "---  ------             --------------   -----         \n",
      " 0   DateCrawled        354369 non-null  datetime64[ns]\n",
      " 1   Price              354369 non-null  int64         \n",
      " 2   VehicleType        316879 non-null  object        \n",
      " 3   RegistrationYear   354369 non-null  int64         \n",
      " 4   Gearbox            334536 non-null  object        \n",
      " 5   Power              354369 non-null  int64         \n",
      " 6   Model              334664 non-null  object        \n",
      " 7   Kilometer          354369 non-null  int64         \n",
      " 8   RegistrationMonth  354369 non-null  int64         \n",
      " 9   FuelType           321474 non-null  object        \n",
      " 10  Brand              354369 non-null  object        \n",
      " 11  NotRepaired        283215 non-null  object        \n",
      " 12  DateCreated        354369 non-null  datetime64[ns]\n",
      " 13  NumberOfPictures   354369 non-null  int64         \n",
      " 14  PostalCode         354369 non-null  int64         \n",
      " 15  LastSeen           354369 non-null  datetime64[ns]\n",
      "dtypes: datetime64[ns](3), int64(7), object(6)\n",
      "memory usage: 43.3+ MB\n"
     ]
    }
   ],
   "source": [
    "data.info()"
   ]
  },
  {
   "cell_type": "code",
   "execution_count": 4,
   "metadata": {},
   "outputs": [
    {
     "data": {
      "text/html": [
       "<div>\n",
       "<style scoped>\n",
       "    .dataframe tbody tr th:only-of-type {\n",
       "        vertical-align: middle;\n",
       "    }\n",
       "\n",
       "    .dataframe tbody tr th {\n",
       "        vertical-align: top;\n",
       "    }\n",
       "\n",
       "    .dataframe thead th {\n",
       "        text-align: right;\n",
       "    }\n",
       "</style>\n",
       "<table border=\"1\" class=\"dataframe\">\n",
       "  <thead>\n",
       "    <tr style=\"text-align: right;\">\n",
       "      <th></th>\n",
       "      <th>DateCrawled</th>\n",
       "      <th>Price</th>\n",
       "      <th>VehicleType</th>\n",
       "      <th>RegistrationYear</th>\n",
       "      <th>Gearbox</th>\n",
       "      <th>Power</th>\n",
       "      <th>Model</th>\n",
       "      <th>Kilometer</th>\n",
       "      <th>RegistrationMonth</th>\n",
       "      <th>FuelType</th>\n",
       "      <th>Brand</th>\n",
       "      <th>NotRepaired</th>\n",
       "      <th>DateCreated</th>\n",
       "      <th>NumberOfPictures</th>\n",
       "      <th>PostalCode</th>\n",
       "      <th>LastSeen</th>\n",
       "    </tr>\n",
       "  </thead>\n",
       "  <tbody>\n",
       "    <tr>\n",
       "      <th>0</th>\n",
       "      <td>2016-03-24 11:52:17</td>\n",
       "      <td>480</td>\n",
       "      <td>NaN</td>\n",
       "      <td>1993</td>\n",
       "      <td>manual</td>\n",
       "      <td>0</td>\n",
       "      <td>golf</td>\n",
       "      <td>150000</td>\n",
       "      <td>0</td>\n",
       "      <td>petrol</td>\n",
       "      <td>volkswagen</td>\n",
       "      <td>NaN</td>\n",
       "      <td>2016-03-24</td>\n",
       "      <td>0</td>\n",
       "      <td>70435</td>\n",
       "      <td>2016-04-07 03:16:57</td>\n",
       "    </tr>\n",
       "    <tr>\n",
       "      <th>1</th>\n",
       "      <td>2016-03-24 10:58:45</td>\n",
       "      <td>18300</td>\n",
       "      <td>coupe</td>\n",
       "      <td>2011</td>\n",
       "      <td>manual</td>\n",
       "      <td>190</td>\n",
       "      <td>NaN</td>\n",
       "      <td>125000</td>\n",
       "      <td>5</td>\n",
       "      <td>gasoline</td>\n",
       "      <td>audi</td>\n",
       "      <td>yes</td>\n",
       "      <td>2016-03-24</td>\n",
       "      <td>0</td>\n",
       "      <td>66954</td>\n",
       "      <td>2016-04-07 01:46:50</td>\n",
       "    </tr>\n",
       "    <tr>\n",
       "      <th>2</th>\n",
       "      <td>2016-03-14 12:52:21</td>\n",
       "      <td>9800</td>\n",
       "      <td>suv</td>\n",
       "      <td>2004</td>\n",
       "      <td>auto</td>\n",
       "      <td>163</td>\n",
       "      <td>grand</td>\n",
       "      <td>125000</td>\n",
       "      <td>8</td>\n",
       "      <td>gasoline</td>\n",
       "      <td>jeep</td>\n",
       "      <td>NaN</td>\n",
       "      <td>2016-03-14</td>\n",
       "      <td>0</td>\n",
       "      <td>90480</td>\n",
       "      <td>2016-04-05 12:47:46</td>\n",
       "    </tr>\n",
       "    <tr>\n",
       "      <th>3</th>\n",
       "      <td>2016-03-17 16:54:04</td>\n",
       "      <td>1500</td>\n",
       "      <td>small</td>\n",
       "      <td>2001</td>\n",
       "      <td>manual</td>\n",
       "      <td>75</td>\n",
       "      <td>golf</td>\n",
       "      <td>150000</td>\n",
       "      <td>6</td>\n",
       "      <td>petrol</td>\n",
       "      <td>volkswagen</td>\n",
       "      <td>no</td>\n",
       "      <td>2016-03-17</td>\n",
       "      <td>0</td>\n",
       "      <td>91074</td>\n",
       "      <td>2016-03-17 17:40:17</td>\n",
       "    </tr>\n",
       "    <tr>\n",
       "      <th>4</th>\n",
       "      <td>2016-03-31 17:25:20</td>\n",
       "      <td>3600</td>\n",
       "      <td>small</td>\n",
       "      <td>2008</td>\n",
       "      <td>manual</td>\n",
       "      <td>69</td>\n",
       "      <td>fabia</td>\n",
       "      <td>90000</td>\n",
       "      <td>7</td>\n",
       "      <td>gasoline</td>\n",
       "      <td>skoda</td>\n",
       "      <td>no</td>\n",
       "      <td>2016-03-31</td>\n",
       "      <td>0</td>\n",
       "      <td>60437</td>\n",
       "      <td>2016-04-06 10:17:21</td>\n",
       "    </tr>\n",
       "  </tbody>\n",
       "</table>\n",
       "</div>"
      ],
      "text/plain": [
       "          DateCrawled  Price VehicleType  RegistrationYear Gearbox  Power  \\\n",
       "0 2016-03-24 11:52:17    480         NaN              1993  manual      0   \n",
       "1 2016-03-24 10:58:45  18300       coupe              2011  manual    190   \n",
       "2 2016-03-14 12:52:21   9800         suv              2004    auto    163   \n",
       "3 2016-03-17 16:54:04   1500       small              2001  manual     75   \n",
       "4 2016-03-31 17:25:20   3600       small              2008  manual     69   \n",
       "\n",
       "   Model  Kilometer  RegistrationMonth  FuelType       Brand NotRepaired  \\\n",
       "0   golf     150000                  0    petrol  volkswagen         NaN   \n",
       "1    NaN     125000                  5  gasoline        audi         yes   \n",
       "2  grand     125000                  8  gasoline        jeep         NaN   \n",
       "3   golf     150000                  6    petrol  volkswagen          no   \n",
       "4  fabia      90000                  7  gasoline       skoda          no   \n",
       "\n",
       "  DateCreated  NumberOfPictures  PostalCode            LastSeen  \n",
       "0  2016-03-24                 0       70435 2016-04-07 03:16:57  \n",
       "1  2016-03-24                 0       66954 2016-04-07 01:46:50  \n",
       "2  2016-03-14                 0       90480 2016-04-05 12:47:46  \n",
       "3  2016-03-17                 0       91074 2016-03-17 17:40:17  \n",
       "4  2016-03-31                 0       60437 2016-04-06 10:17:21  "
      ]
     },
     "metadata": {},
     "output_type": "display_data"
    }
   ],
   "source": [
    "display(data.head())"
   ]
  },
  {
   "cell_type": "markdown",
   "metadata": {},
   "source": [
    "Посмотрим на количество пропусков в данных."
   ]
  },
  {
   "cell_type": "code",
   "execution_count": 5,
   "metadata": {
    "scrolled": true
   },
   "outputs": [
    {
     "data": {
      "text/plain": [
       "DateCrawled              0\n",
       "Price                    0\n",
       "VehicleType          37490\n",
       "RegistrationYear         0\n",
       "Gearbox              19833\n",
       "Power                    0\n",
       "Model                19705\n",
       "Kilometer                0\n",
       "RegistrationMonth        0\n",
       "FuelType             32895\n",
       "Brand                    0\n",
       "NotRepaired          71154\n",
       "DateCreated              0\n",
       "NumberOfPictures         0\n",
       "PostalCode               0\n",
       "LastSeen                 0\n",
       "dtype: int64"
      ]
     },
     "execution_count": 5,
     "metadata": {},
     "output_type": "execute_result"
    }
   ],
   "source": [
    "data.isna().sum()"
   ]
  },
  {
   "cell_type": "markdown",
   "metadata": {},
   "source": [
    "Заполним столбец `Notrepaires` пропуска значением `yes`, так как скорее всего владелец заинтересован скрыть факт ремонта своего автомобиля в целях повышения стоимости продажи."
   ]
  },
  {
   "cell_type": "code",
   "execution_count": 6,
   "metadata": {},
   "outputs": [],
   "source": [
    "data['NotRepaired'] = data['NotRepaired'].fillna('yes')"
   ]
  },
  {
   "cell_type": "markdown",
   "metadata": {},
   "source": [
    "Выведем на экран уникальные значения столбцов с пропусками."
   ]
  },
  {
   "cell_type": "code",
   "execution_count": 7,
   "metadata": {},
   "outputs": [
    {
     "data": {
      "text/plain": [
       "array([nan, 'coupe', 'suv', 'small', 'sedan', 'convertible', 'bus',\n",
       "       'wagon', 'other'], dtype=object)"
      ]
     },
     "metadata": {},
     "output_type": "display_data"
    },
    {
     "data": {
      "text/plain": [
       "array(['manual', 'auto', nan], dtype=object)"
      ]
     },
     "metadata": {},
     "output_type": "display_data"
    },
    {
     "data": {
      "text/plain": [
       "array(['golf', nan, 'grand', 'fabia', '3er', '2_reihe', 'other', 'c_max',\n",
       "       '3_reihe', 'passat', 'navara', 'ka', 'polo', 'twingo', 'a_klasse',\n",
       "       'scirocco', '5er', 'meriva', 'arosa', 'c4', 'civic', 'transporter',\n",
       "       'punto', 'e_klasse', 'clio', 'kadett', 'kangoo', 'corsa', 'one',\n",
       "       'fortwo', '1er', 'b_klasse', 'signum', 'astra', 'a8', 'jetta',\n",
       "       'fiesta', 'c_klasse', 'micra', 'vito', 'sprinter', '156', 'escort',\n",
       "       'forester', 'xc_reihe', 'scenic', 'a4', 'a1', 'insignia', 'combo',\n",
       "       'focus', 'tt', 'a6', 'jazz', 'omega', 'slk', '7er', '80', '147',\n",
       "       '100', 'z_reihe', 'sportage', 'sorento', 'v40', 'ibiza', 'mustang',\n",
       "       'eos', 'touran', 'getz', 'a3', 'almera', 'megane', 'lupo', 'r19',\n",
       "       'zafira', 'caddy', 'mondeo', 'cordoba', 'colt', 'impreza',\n",
       "       'vectra', 'berlingo', 'tiguan', 'i_reihe', 'espace', 'sharan',\n",
       "       '6_reihe', 'panda', 'up', 'seicento', 'ceed', '5_reihe', 'yeti',\n",
       "       'octavia', 'mii', 'rx_reihe', '6er', 'modus', 'fox', 'matiz',\n",
       "       'beetle', 'c1', 'rio', 'touareg', 'logan', 'spider', 'cuore',\n",
       "       's_max', 'a2', 'galaxy', 'c3', 'viano', 's_klasse', '1_reihe',\n",
       "       'avensis', 'roomster', 'sl', 'kaefer', 'santa', 'cooper', 'leon',\n",
       "       '4_reihe', 'a5', '500', 'laguna', 'ptcruiser', 'clk', 'primera',\n",
       "       'x_reihe', 'exeo', '159', 'transit', 'juke', 'qashqai', 'carisma',\n",
       "       'accord', 'corolla', 'lanos', 'phaeton', 'verso', 'swift', 'rav',\n",
       "       'picanto', 'boxster', 'kalos', 'superb', 'stilo', 'alhambra',\n",
       "       'mx_reihe', 'roadster', 'ypsilon', 'cayenne', 'galant', 'justy',\n",
       "       '90', 'sirion', 'crossfire', 'agila', 'duster', 'cr_reihe', 'v50',\n",
       "       'c_reihe', 'v_klasse', 'm_klasse', 'yaris', 'c5', 'aygo', 'cc',\n",
       "       'carnival', 'fusion', '911', 'bora', 'forfour', 'm_reihe', 'cl',\n",
       "       'tigra', '300c', 'spark', 'v70', 'kuga', 'x_type', 'ducato',\n",
       "       's_type', 'x_trail', 'toledo', 'altea', 'voyager', 'calibra',\n",
       "       'bravo', 'antara', 'tucson', 'citigo', 'jimny', 'wrangler',\n",
       "       'lybra', 'q7', 'lancer', 'captiva', 'c2', 'discovery',\n",
       "       'freelander', 'sandero', 'note', '900', 'cherokee', 'clubman',\n",
       "       'samara', 'defender', '601', 'cx_reihe', 'legacy', 'pajero',\n",
       "       'auris', 'niva', 's60', 'nubira', 'vivaro', 'g_klasse', 'lodgy',\n",
       "       '850', 'range_rover', 'q3', 'serie_2', 'glk', 'charade', 'croma',\n",
       "       'outlander', 'doblo', 'musa', 'move', '9000', 'v60', '145', 'aveo',\n",
       "       '200', 'b_max', 'range_rover_sport', 'terios', 'rangerover', 'q5',\n",
       "       'range_rover_evoque', 'materia', 'delta', 'gl', 'kalina', 'amarok',\n",
       "       'elefantino', 'i3', 'kappa', 'serie_3', 'serie_1'], dtype=object)"
      ]
     },
     "metadata": {},
     "output_type": "display_data"
    },
    {
     "data": {
      "text/plain": [
       "array(['petrol', 'gasoline', nan, 'lpg', 'other', 'hybrid', 'cng',\n",
       "       'electric'], dtype=object)"
      ]
     },
     "metadata": {},
     "output_type": "display_data"
    },
    {
     "data": {
      "text/plain": [
       "array([0])"
      ]
     },
     "metadata": {},
     "output_type": "display_data"
    }
   ],
   "source": [
    "display(data['VehicleType'].unique())\n",
    "display(data['Gearbox'].unique())\n",
    "display(data['Model'].unique())\n",
    "display(data['FuelType'].unique())\n",
    "display(data['NumberOfPictures'].unique())"
   ]
  },
  {
   "cell_type": "markdown",
   "metadata": {},
   "source": [
    "В столбце с количеством фотографий значение 0 во всех строках - значит этот столбец можем отбросить.\n",
    "\n",
    "Для начала заполним все пропуски словом `unknow`."
   ]
  },
  {
   "cell_type": "code",
   "execution_count": 8,
   "metadata": {},
   "outputs": [
    {
     "data": {
      "text/plain": [
       "DateCrawled          0\n",
       "Price                0\n",
       "VehicleType          0\n",
       "RegistrationYear     0\n",
       "Gearbox              0\n",
       "Power                0\n",
       "Model                0\n",
       "Kilometer            0\n",
       "RegistrationMonth    0\n",
       "FuelType             0\n",
       "Brand                0\n",
       "NotRepaired          0\n",
       "DateCreated          0\n",
       "PostalCode           0\n",
       "LastSeen             0\n",
       "dtype: int64"
      ]
     },
     "execution_count": 8,
     "metadata": {},
     "output_type": "execute_result"
    }
   ],
   "source": [
    "data = data.drop(columns='NumberOfPictures', axis=1)\n",
    "data = data.fillna('unknow')\n",
    "data.isna().sum()"
   ]
  },
  {
   "cell_type": "markdown",
   "metadata": {},
   "source": [
    "Необходимо применить технику Ordinal Encoding или порядкового кодирования для столбцов `VehicleType, Gearbox, FuelType, NotRepaired`. Столбец `Model` пока оставим как есть."
   ]
  },
  {
   "cell_type": "code",
   "execution_count": 9,
   "metadata": {
    "scrolled": false
   },
   "outputs": [
    {
     "data": {
      "text/html": [
       "<div>\n",
       "<style scoped>\n",
       "    .dataframe tbody tr th:only-of-type {\n",
       "        vertical-align: middle;\n",
       "    }\n",
       "\n",
       "    .dataframe tbody tr th {\n",
       "        vertical-align: top;\n",
       "    }\n",
       "\n",
       "    .dataframe thead th {\n",
       "        text-align: right;\n",
       "    }\n",
       "</style>\n",
       "<table border=\"1\" class=\"dataframe\">\n",
       "  <thead>\n",
       "    <tr style=\"text-align: right;\">\n",
       "      <th></th>\n",
       "      <th>DateCrawled</th>\n",
       "      <th>Price</th>\n",
       "      <th>VehicleType</th>\n",
       "      <th>RegistrationYear</th>\n",
       "      <th>Gearbox</th>\n",
       "      <th>Power</th>\n",
       "      <th>Model</th>\n",
       "      <th>Kilometer</th>\n",
       "      <th>RegistrationMonth</th>\n",
       "      <th>FuelType</th>\n",
       "      <th>...</th>\n",
       "      <th>NotRepaired</th>\n",
       "      <th>DateCreated</th>\n",
       "      <th>PostalCode</th>\n",
       "      <th>LastSeen</th>\n",
       "      <th>Model_code</th>\n",
       "      <th>Brand_code</th>\n",
       "      <th>VehicleType_code</th>\n",
       "      <th>Gearbox_code</th>\n",
       "      <th>FuelType_code</th>\n",
       "      <th>NotRepaired_code</th>\n",
       "    </tr>\n",
       "  </thead>\n",
       "  <tbody>\n",
       "    <tr>\n",
       "      <th>0</th>\n",
       "      <td>2016-03-24 11:52:17</td>\n",
       "      <td>480</td>\n",
       "      <td>unknow</td>\n",
       "      <td>1993</td>\n",
       "      <td>manual</td>\n",
       "      <td>0</td>\n",
       "      <td>golf</td>\n",
       "      <td>150000</td>\n",
       "      <td>0</td>\n",
       "      <td>petrol</td>\n",
       "      <td>...</td>\n",
       "      <td>yes</td>\n",
       "      <td>2016-03-24</td>\n",
       "      <td>70435</td>\n",
       "      <td>2016-04-07 03:16:57</td>\n",
       "      <td>116.0</td>\n",
       "      <td>38.0</td>\n",
       "      <td>7.0</td>\n",
       "      <td>1.0</td>\n",
       "      <td>6.0</td>\n",
       "      <td>1.0</td>\n",
       "    </tr>\n",
       "    <tr>\n",
       "      <th>1</th>\n",
       "      <td>2016-03-24 10:58:45</td>\n",
       "      <td>18300</td>\n",
       "      <td>coupe</td>\n",
       "      <td>2011</td>\n",
       "      <td>manual</td>\n",
       "      <td>190</td>\n",
       "      <td>unknow</td>\n",
       "      <td>125000</td>\n",
       "      <td>5</td>\n",
       "      <td>gasoline</td>\n",
       "      <td>...</td>\n",
       "      <td>yes</td>\n",
       "      <td>2016-03-24</td>\n",
       "      <td>66954</td>\n",
       "      <td>2016-04-07 01:46:50</td>\n",
       "      <td>228.0</td>\n",
       "      <td>1.0</td>\n",
       "      <td>2.0</td>\n",
       "      <td>1.0</td>\n",
       "      <td>2.0</td>\n",
       "      <td>1.0</td>\n",
       "    </tr>\n",
       "    <tr>\n",
       "      <th>2</th>\n",
       "      <td>2016-03-14 12:52:21</td>\n",
       "      <td>9800</td>\n",
       "      <td>suv</td>\n",
       "      <td>2004</td>\n",
       "      <td>auto</td>\n",
       "      <td>163</td>\n",
       "      <td>grand</td>\n",
       "      <td>125000</td>\n",
       "      <td>8</td>\n",
       "      <td>gasoline</td>\n",
       "      <td>...</td>\n",
       "      <td>yes</td>\n",
       "      <td>2016-03-14</td>\n",
       "      <td>90480</td>\n",
       "      <td>2016-04-05 12:47:46</td>\n",
       "      <td>117.0</td>\n",
       "      <td>14.0</td>\n",
       "      <td>6.0</td>\n",
       "      <td>0.0</td>\n",
       "      <td>2.0</td>\n",
       "      <td>1.0</td>\n",
       "    </tr>\n",
       "    <tr>\n",
       "      <th>3</th>\n",
       "      <td>2016-03-17 16:54:04</td>\n",
       "      <td>1500</td>\n",
       "      <td>small</td>\n",
       "      <td>2001</td>\n",
       "      <td>manual</td>\n",
       "      <td>75</td>\n",
       "      <td>golf</td>\n",
       "      <td>150000</td>\n",
       "      <td>6</td>\n",
       "      <td>petrol</td>\n",
       "      <td>...</td>\n",
       "      <td>no</td>\n",
       "      <td>2016-03-17</td>\n",
       "      <td>91074</td>\n",
       "      <td>2016-03-17 17:40:17</td>\n",
       "      <td>116.0</td>\n",
       "      <td>38.0</td>\n",
       "      <td>5.0</td>\n",
       "      <td>1.0</td>\n",
       "      <td>6.0</td>\n",
       "      <td>0.0</td>\n",
       "    </tr>\n",
       "    <tr>\n",
       "      <th>4</th>\n",
       "      <td>2016-03-31 17:25:20</td>\n",
       "      <td>3600</td>\n",
       "      <td>small</td>\n",
       "      <td>2008</td>\n",
       "      <td>manual</td>\n",
       "      <td>69</td>\n",
       "      <td>fabia</td>\n",
       "      <td>90000</td>\n",
       "      <td>7</td>\n",
       "      <td>gasoline</td>\n",
       "      <td>...</td>\n",
       "      <td>no</td>\n",
       "      <td>2016-03-31</td>\n",
       "      <td>60437</td>\n",
       "      <td>2016-04-06 10:17:21</td>\n",
       "      <td>101.0</td>\n",
       "      <td>31.0</td>\n",
       "      <td>5.0</td>\n",
       "      <td>1.0</td>\n",
       "      <td>2.0</td>\n",
       "      <td>0.0</td>\n",
       "    </tr>\n",
       "  </tbody>\n",
       "</table>\n",
       "<p>5 rows × 21 columns</p>\n",
       "</div>"
      ],
      "text/plain": [
       "          DateCrawled  Price VehicleType  RegistrationYear Gearbox  Power  \\\n",
       "0 2016-03-24 11:52:17    480      unknow              1993  manual      0   \n",
       "1 2016-03-24 10:58:45  18300       coupe              2011  manual    190   \n",
       "2 2016-03-14 12:52:21   9800         suv              2004    auto    163   \n",
       "3 2016-03-17 16:54:04   1500       small              2001  manual     75   \n",
       "4 2016-03-31 17:25:20   3600       small              2008  manual     69   \n",
       "\n",
       "    Model  Kilometer  RegistrationMonth  FuelType  ... NotRepaired  \\\n",
       "0    golf     150000                  0    petrol  ...         yes   \n",
       "1  unknow     125000                  5  gasoline  ...         yes   \n",
       "2   grand     125000                  8  gasoline  ...         yes   \n",
       "3    golf     150000                  6    petrol  ...          no   \n",
       "4   fabia      90000                  7  gasoline  ...          no   \n",
       "\n",
       "  DateCreated PostalCode            LastSeen Model_code  Brand_code  \\\n",
       "0  2016-03-24      70435 2016-04-07 03:16:57      116.0        38.0   \n",
       "1  2016-03-24      66954 2016-04-07 01:46:50      228.0         1.0   \n",
       "2  2016-03-14      90480 2016-04-05 12:47:46      117.0        14.0   \n",
       "3  2016-03-17      91074 2016-03-17 17:40:17      116.0        38.0   \n",
       "4  2016-03-31      60437 2016-04-06 10:17:21      101.0        31.0   \n",
       "\n",
       "   VehicleType_code  Gearbox_code  FuelType_code  NotRepaired_code  \n",
       "0               7.0           1.0            6.0               1.0  \n",
       "1               2.0           1.0            2.0               1.0  \n",
       "2               6.0           0.0            2.0               1.0  \n",
       "3               5.0           1.0            6.0               0.0  \n",
       "4               5.0           1.0            2.0               0.0  \n",
       "\n",
       "[5 rows x 21 columns]"
      ]
     },
     "metadata": {},
     "output_type": "display_data"
    }
   ],
   "source": [
    "encoder = OrdinalEncoder()\n",
    "\n",
    "data['Model_code'] = pd.DataFrame(encoder.fit_transform(data[['Model']]))\n",
    "data['Brand_code'] = pd.DataFrame(encoder.fit_transform(data[['Brand']]))\n",
    "data['VehicleType_code'] = pd.DataFrame(encoder.fit_transform(data[['VehicleType']]))\n",
    "data['Gearbox_code'] = pd.DataFrame(encoder.fit_transform(data[['Gearbox']]))\n",
    "data['FuelType_code'] = pd.DataFrame(encoder.fit_transform(data[['FuelType']]))\n",
    "data['NotRepaired_code'] = pd.DataFrame(encoder.fit_transform(data[['NotRepaired']]))\n",
    "\n",
    "display(data.head())"
   ]
  },
  {
   "cell_type": "markdown",
   "metadata": {},
   "source": [
    "Соберем в таблицу медианное значение (наиболее популярное) типа транспортного средства, закодированного ранее. Это позволит нам в дальнейшем заменить пропуски в таблице на такое значение."
   ]
  },
  {
   "cell_type": "code",
   "execution_count": 10,
   "metadata": {
    "scrolled": false
   },
   "outputs": [
    {
     "data": {
      "text/html": [
       "<div>\n",
       "<style scoped>\n",
       "    .dataframe tbody tr th:only-of-type {\n",
       "        vertical-align: middle;\n",
       "    }\n",
       "\n",
       "    .dataframe tbody tr th {\n",
       "        vertical-align: top;\n",
       "    }\n",
       "\n",
       "    .dataframe thead tr th {\n",
       "        text-align: left;\n",
       "    }\n",
       "\n",
       "    .dataframe thead tr:last-of-type th {\n",
       "        text-align: right;\n",
       "    }\n",
       "</style>\n",
       "<table border=\"1\" class=\"dataframe\">\n",
       "  <thead>\n",
       "    <tr>\n",
       "      <th></th>\n",
       "      <th colspan=\"21\" halign=\"left\">median</th>\n",
       "    </tr>\n",
       "    <tr>\n",
       "      <th>Model</th>\n",
       "      <th>100</th>\n",
       "      <th>145</th>\n",
       "      <th>147</th>\n",
       "      <th>156</th>\n",
       "      <th>159</th>\n",
       "      <th>1_reihe</th>\n",
       "      <th>1er</th>\n",
       "      <th>200</th>\n",
       "      <th>2_reihe</th>\n",
       "      <th>300c</th>\n",
       "      <th>...</th>\n",
       "      <th>wrangler</th>\n",
       "      <th>x_reihe</th>\n",
       "      <th>x_trail</th>\n",
       "      <th>x_type</th>\n",
       "      <th>xc_reihe</th>\n",
       "      <th>yaris</th>\n",
       "      <th>yeti</th>\n",
       "      <th>ypsilon</th>\n",
       "      <th>z_reihe</th>\n",
       "      <th>zafira</th>\n",
       "    </tr>\n",
       "    <tr>\n",
       "      <th>Brand</th>\n",
       "      <th></th>\n",
       "      <th></th>\n",
       "      <th></th>\n",
       "      <th></th>\n",
       "      <th></th>\n",
       "      <th></th>\n",
       "      <th></th>\n",
       "      <th></th>\n",
       "      <th></th>\n",
       "      <th></th>\n",
       "      <th></th>\n",
       "      <th></th>\n",
       "      <th></th>\n",
       "      <th></th>\n",
       "      <th></th>\n",
       "      <th></th>\n",
       "      <th></th>\n",
       "      <th></th>\n",
       "      <th></th>\n",
       "      <th></th>\n",
       "      <th></th>\n",
       "    </tr>\n",
       "  </thead>\n",
       "  <tbody>\n",
       "    <tr>\n",
       "      <th>alfa_romeo</th>\n",
       "      <td>NaN</td>\n",
       "      <td>5.0</td>\n",
       "      <td>4.0</td>\n",
       "      <td>4.0</td>\n",
       "      <td>8.0</td>\n",
       "      <td>NaN</td>\n",
       "      <td>NaN</td>\n",
       "      <td>NaN</td>\n",
       "      <td>NaN</td>\n",
       "      <td>NaN</td>\n",
       "      <td>...</td>\n",
       "      <td>NaN</td>\n",
       "      <td>NaN</td>\n",
       "      <td>NaN</td>\n",
       "      <td>NaN</td>\n",
       "      <td>NaN</td>\n",
       "      <td>NaN</td>\n",
       "      <td>NaN</td>\n",
       "      <td>NaN</td>\n",
       "      <td>NaN</td>\n",
       "      <td>NaN</td>\n",
       "    </tr>\n",
       "    <tr>\n",
       "      <th>audi</th>\n",
       "      <td>4.0</td>\n",
       "      <td>NaN</td>\n",
       "      <td>NaN</td>\n",
       "      <td>NaN</td>\n",
       "      <td>NaN</td>\n",
       "      <td>NaN</td>\n",
       "      <td>NaN</td>\n",
       "      <td>4.0</td>\n",
       "      <td>NaN</td>\n",
       "      <td>NaN</td>\n",
       "      <td>...</td>\n",
       "      <td>NaN</td>\n",
       "      <td>NaN</td>\n",
       "      <td>NaN</td>\n",
       "      <td>NaN</td>\n",
       "      <td>NaN</td>\n",
       "      <td>NaN</td>\n",
       "      <td>NaN</td>\n",
       "      <td>NaN</td>\n",
       "      <td>NaN</td>\n",
       "      <td>NaN</td>\n",
       "    </tr>\n",
       "    <tr>\n",
       "      <th>bmw</th>\n",
       "      <td>NaN</td>\n",
       "      <td>NaN</td>\n",
       "      <td>NaN</td>\n",
       "      <td>NaN</td>\n",
       "      <td>NaN</td>\n",
       "      <td>NaN</td>\n",
       "      <td>4.0</td>\n",
       "      <td>NaN</td>\n",
       "      <td>NaN</td>\n",
       "      <td>NaN</td>\n",
       "      <td>...</td>\n",
       "      <td>NaN</td>\n",
       "      <td>6.0</td>\n",
       "      <td>NaN</td>\n",
       "      <td>NaN</td>\n",
       "      <td>NaN</td>\n",
       "      <td>NaN</td>\n",
       "      <td>NaN</td>\n",
       "      <td>NaN</td>\n",
       "      <td>1.0</td>\n",
       "      <td>NaN</td>\n",
       "    </tr>\n",
       "    <tr>\n",
       "      <th>chevrolet</th>\n",
       "      <td>NaN</td>\n",
       "      <td>NaN</td>\n",
       "      <td>NaN</td>\n",
       "      <td>NaN</td>\n",
       "      <td>NaN</td>\n",
       "      <td>NaN</td>\n",
       "      <td>NaN</td>\n",
       "      <td>NaN</td>\n",
       "      <td>NaN</td>\n",
       "      <td>NaN</td>\n",
       "      <td>...</td>\n",
       "      <td>NaN</td>\n",
       "      <td>NaN</td>\n",
       "      <td>NaN</td>\n",
       "      <td>NaN</td>\n",
       "      <td>NaN</td>\n",
       "      <td>NaN</td>\n",
       "      <td>NaN</td>\n",
       "      <td>NaN</td>\n",
       "      <td>NaN</td>\n",
       "      <td>NaN</td>\n",
       "    </tr>\n",
       "    <tr>\n",
       "      <th>chrysler</th>\n",
       "      <td>NaN</td>\n",
       "      <td>NaN</td>\n",
       "      <td>NaN</td>\n",
       "      <td>NaN</td>\n",
       "      <td>NaN</td>\n",
       "      <td>NaN</td>\n",
       "      <td>NaN</td>\n",
       "      <td>NaN</td>\n",
       "      <td>NaN</td>\n",
       "      <td>8.0</td>\n",
       "      <td>...</td>\n",
       "      <td>NaN</td>\n",
       "      <td>NaN</td>\n",
       "      <td>NaN</td>\n",
       "      <td>NaN</td>\n",
       "      <td>NaN</td>\n",
       "      <td>NaN</td>\n",
       "      <td>NaN</td>\n",
       "      <td>NaN</td>\n",
       "      <td>NaN</td>\n",
       "      <td>NaN</td>\n",
       "    </tr>\n",
       "  </tbody>\n",
       "</table>\n",
       "<p>5 rows × 251 columns</p>\n",
       "</div>"
      ],
      "text/plain": [
       "           median                                                     ...  \\\n",
       "Model         100  145  147  156  159 1_reihe  1er  200 2_reihe 300c  ...   \n",
       "Brand                                                                 ...   \n",
       "alfa_romeo    NaN  5.0  4.0  4.0  8.0     NaN  NaN  NaN     NaN  NaN  ...   \n",
       "audi          4.0  NaN  NaN  NaN  NaN     NaN  NaN  4.0     NaN  NaN  ...   \n",
       "bmw           NaN  NaN  NaN  NaN  NaN     NaN  4.0  NaN     NaN  NaN  ...   \n",
       "chevrolet     NaN  NaN  NaN  NaN  NaN     NaN  NaN  NaN     NaN  NaN  ...   \n",
       "chrysler      NaN  NaN  NaN  NaN  NaN     NaN  NaN  NaN     NaN  8.0  ...   \n",
       "\n",
       "                                                                        \\\n",
       "Model      wrangler x_reihe x_trail x_type xc_reihe yaris yeti ypsilon   \n",
       "Brand                                                                    \n",
       "alfa_romeo      NaN     NaN     NaN    NaN      NaN   NaN  NaN     NaN   \n",
       "audi            NaN     NaN     NaN    NaN      NaN   NaN  NaN     NaN   \n",
       "bmw             NaN     6.0     NaN    NaN      NaN   NaN  NaN     NaN   \n",
       "chevrolet       NaN     NaN     NaN    NaN      NaN   NaN  NaN     NaN   \n",
       "chrysler        NaN     NaN     NaN    NaN      NaN   NaN  NaN     NaN   \n",
       "\n",
       "                           \n",
       "Model      z_reihe zafira  \n",
       "Brand                      \n",
       "alfa_romeo     NaN    NaN  \n",
       "audi           NaN    NaN  \n",
       "bmw            1.0    NaN  \n",
       "chevrolet      NaN    NaN  \n",
       "chrysler       NaN    NaN  \n",
       "\n",
       "[5 rows x 251 columns]"
      ]
     },
     "metadata": {},
     "output_type": "display_data"
    }
   ],
   "source": [
    "VehicleType = data.query('VehicleType != \"unknow\"').pivot_table(\n",
    "    index='Brand', \n",
    "    columns='Model', \n",
    "    values='VehicleType_code', \n",
    "    aggfunc=['median']\n",
    ")\n",
    "display(VehicleType.head())"
   ]
  },
  {
   "cell_type": "markdown",
   "metadata": {},
   "source": [
    "Также создадим словарь для расшифровки закодированных значений."
   ]
  },
  {
   "cell_type": "code",
   "execution_count": 11,
   "metadata": {
    "scrolled": true
   },
   "outputs": [
    {
     "data": {
      "text/plain": [
       "0            bus\n",
       "1    convertible\n",
       "2          coupe\n",
       "3          other\n",
       "4          sedan\n",
       "5          small\n",
       "6            suv\n",
       "7         unknow\n",
       "8          wagon\n",
       "Name: VehicleType, dtype: object"
      ]
     },
     "metadata": {},
     "output_type": "display_data"
    }
   ],
   "source": [
    "dict_VehicleType = data.pivot_table(\n",
    "    index=['VehicleType_code', 'VehicleType']\n",
    ").reset_index()\n",
    "dict_VehicleType = dict_VehicleType[['VehicleType_code', 'VehicleType']].sort_values('VehicleType_code')\n",
    "dict_VehicleType = dict_VehicleType['VehicleType']\n",
    "display(dict_VehicleType)"
   ]
  },
  {
   "cell_type": "markdown",
   "metadata": {},
   "source": [
    "Сделаем тоже для остальных сталбцов с пропусками."
   ]
  },
  {
   "cell_type": "code",
   "execution_count": 12,
   "metadata": {
    "scrolled": false
   },
   "outputs": [
    {
     "data": {
      "text/html": [
       "<div>\n",
       "<style scoped>\n",
       "    .dataframe tbody tr th:only-of-type {\n",
       "        vertical-align: middle;\n",
       "    }\n",
       "\n",
       "    .dataframe tbody tr th {\n",
       "        vertical-align: top;\n",
       "    }\n",
       "\n",
       "    .dataframe thead tr th {\n",
       "        text-align: left;\n",
       "    }\n",
       "\n",
       "    .dataframe thead tr:last-of-type th {\n",
       "        text-align: right;\n",
       "    }\n",
       "</style>\n",
       "<table border=\"1\" class=\"dataframe\">\n",
       "  <thead>\n",
       "    <tr>\n",
       "      <th></th>\n",
       "      <th colspan=\"21\" halign=\"left\">median</th>\n",
       "    </tr>\n",
       "    <tr>\n",
       "      <th>Model</th>\n",
       "      <th>100</th>\n",
       "      <th>145</th>\n",
       "      <th>147</th>\n",
       "      <th>156</th>\n",
       "      <th>159</th>\n",
       "      <th>1_reihe</th>\n",
       "      <th>1er</th>\n",
       "      <th>200</th>\n",
       "      <th>2_reihe</th>\n",
       "      <th>300c</th>\n",
       "      <th>...</th>\n",
       "      <th>wrangler</th>\n",
       "      <th>x_reihe</th>\n",
       "      <th>x_trail</th>\n",
       "      <th>x_type</th>\n",
       "      <th>xc_reihe</th>\n",
       "      <th>yaris</th>\n",
       "      <th>yeti</th>\n",
       "      <th>ypsilon</th>\n",
       "      <th>z_reihe</th>\n",
       "      <th>zafira</th>\n",
       "    </tr>\n",
       "    <tr>\n",
       "      <th>Brand</th>\n",
       "      <th></th>\n",
       "      <th></th>\n",
       "      <th></th>\n",
       "      <th></th>\n",
       "      <th></th>\n",
       "      <th></th>\n",
       "      <th></th>\n",
       "      <th></th>\n",
       "      <th></th>\n",
       "      <th></th>\n",
       "      <th></th>\n",
       "      <th></th>\n",
       "      <th></th>\n",
       "      <th></th>\n",
       "      <th></th>\n",
       "      <th></th>\n",
       "      <th></th>\n",
       "      <th></th>\n",
       "      <th></th>\n",
       "      <th></th>\n",
       "      <th></th>\n",
       "    </tr>\n",
       "  </thead>\n",
       "  <tbody>\n",
       "    <tr>\n",
       "      <th>alfa_romeo</th>\n",
       "      <td>NaN</td>\n",
       "      <td>1.0</td>\n",
       "      <td>1.0</td>\n",
       "      <td>1.0</td>\n",
       "      <td>1.0</td>\n",
       "      <td>NaN</td>\n",
       "      <td>NaN</td>\n",
       "      <td>NaN</td>\n",
       "      <td>NaN</td>\n",
       "      <td>NaN</td>\n",
       "      <td>...</td>\n",
       "      <td>NaN</td>\n",
       "      <td>NaN</td>\n",
       "      <td>NaN</td>\n",
       "      <td>NaN</td>\n",
       "      <td>NaN</td>\n",
       "      <td>NaN</td>\n",
       "      <td>NaN</td>\n",
       "      <td>NaN</td>\n",
       "      <td>NaN</td>\n",
       "      <td>NaN</td>\n",
       "    </tr>\n",
       "    <tr>\n",
       "      <th>audi</th>\n",
       "      <td>1.0</td>\n",
       "      <td>NaN</td>\n",
       "      <td>NaN</td>\n",
       "      <td>NaN</td>\n",
       "      <td>NaN</td>\n",
       "      <td>NaN</td>\n",
       "      <td>NaN</td>\n",
       "      <td>1.0</td>\n",
       "      <td>NaN</td>\n",
       "      <td>NaN</td>\n",
       "      <td>...</td>\n",
       "      <td>NaN</td>\n",
       "      <td>NaN</td>\n",
       "      <td>NaN</td>\n",
       "      <td>NaN</td>\n",
       "      <td>NaN</td>\n",
       "      <td>NaN</td>\n",
       "      <td>NaN</td>\n",
       "      <td>NaN</td>\n",
       "      <td>NaN</td>\n",
       "      <td>NaN</td>\n",
       "    </tr>\n",
       "    <tr>\n",
       "      <th>bmw</th>\n",
       "      <td>NaN</td>\n",
       "      <td>NaN</td>\n",
       "      <td>NaN</td>\n",
       "      <td>NaN</td>\n",
       "      <td>NaN</td>\n",
       "      <td>NaN</td>\n",
       "      <td>1.0</td>\n",
       "      <td>NaN</td>\n",
       "      <td>NaN</td>\n",
       "      <td>NaN</td>\n",
       "      <td>...</td>\n",
       "      <td>NaN</td>\n",
       "      <td>0.0</td>\n",
       "      <td>NaN</td>\n",
       "      <td>NaN</td>\n",
       "      <td>NaN</td>\n",
       "      <td>NaN</td>\n",
       "      <td>NaN</td>\n",
       "      <td>NaN</td>\n",
       "      <td>1.0</td>\n",
       "      <td>NaN</td>\n",
       "    </tr>\n",
       "    <tr>\n",
       "      <th>chevrolet</th>\n",
       "      <td>NaN</td>\n",
       "      <td>NaN</td>\n",
       "      <td>NaN</td>\n",
       "      <td>NaN</td>\n",
       "      <td>NaN</td>\n",
       "      <td>NaN</td>\n",
       "      <td>NaN</td>\n",
       "      <td>NaN</td>\n",
       "      <td>NaN</td>\n",
       "      <td>NaN</td>\n",
       "      <td>...</td>\n",
       "      <td>NaN</td>\n",
       "      <td>NaN</td>\n",
       "      <td>NaN</td>\n",
       "      <td>NaN</td>\n",
       "      <td>NaN</td>\n",
       "      <td>NaN</td>\n",
       "      <td>NaN</td>\n",
       "      <td>NaN</td>\n",
       "      <td>NaN</td>\n",
       "      <td>NaN</td>\n",
       "    </tr>\n",
       "    <tr>\n",
       "      <th>chrysler</th>\n",
       "      <td>NaN</td>\n",
       "      <td>NaN</td>\n",
       "      <td>NaN</td>\n",
       "      <td>NaN</td>\n",
       "      <td>NaN</td>\n",
       "      <td>NaN</td>\n",
       "      <td>NaN</td>\n",
       "      <td>NaN</td>\n",
       "      <td>NaN</td>\n",
       "      <td>0.0</td>\n",
       "      <td>...</td>\n",
       "      <td>NaN</td>\n",
       "      <td>NaN</td>\n",
       "      <td>NaN</td>\n",
       "      <td>NaN</td>\n",
       "      <td>NaN</td>\n",
       "      <td>NaN</td>\n",
       "      <td>NaN</td>\n",
       "      <td>NaN</td>\n",
       "      <td>NaN</td>\n",
       "      <td>NaN</td>\n",
       "    </tr>\n",
       "  </tbody>\n",
       "</table>\n",
       "<p>5 rows × 251 columns</p>\n",
       "</div>"
      ],
      "text/plain": [
       "           median                                                     ...  \\\n",
       "Model         100  145  147  156  159 1_reihe  1er  200 2_reihe 300c  ...   \n",
       "Brand                                                                 ...   \n",
       "alfa_romeo    NaN  1.0  1.0  1.0  1.0     NaN  NaN  NaN     NaN  NaN  ...   \n",
       "audi          1.0  NaN  NaN  NaN  NaN     NaN  NaN  1.0     NaN  NaN  ...   \n",
       "bmw           NaN  NaN  NaN  NaN  NaN     NaN  1.0  NaN     NaN  NaN  ...   \n",
       "chevrolet     NaN  NaN  NaN  NaN  NaN     NaN  NaN  NaN     NaN  NaN  ...   \n",
       "chrysler      NaN  NaN  NaN  NaN  NaN     NaN  NaN  NaN     NaN  0.0  ...   \n",
       "\n",
       "                                                                        \\\n",
       "Model      wrangler x_reihe x_trail x_type xc_reihe yaris yeti ypsilon   \n",
       "Brand                                                                    \n",
       "alfa_romeo      NaN     NaN     NaN    NaN      NaN   NaN  NaN     NaN   \n",
       "audi            NaN     NaN     NaN    NaN      NaN   NaN  NaN     NaN   \n",
       "bmw             NaN     0.0     NaN    NaN      NaN   NaN  NaN     NaN   \n",
       "chevrolet       NaN     NaN     NaN    NaN      NaN   NaN  NaN     NaN   \n",
       "chrysler        NaN     NaN     NaN    NaN      NaN   NaN  NaN     NaN   \n",
       "\n",
       "                           \n",
       "Model      z_reihe zafira  \n",
       "Brand                      \n",
       "alfa_romeo     NaN    NaN  \n",
       "audi           NaN    NaN  \n",
       "bmw            1.0    NaN  \n",
       "chevrolet      NaN    NaN  \n",
       "chrysler       NaN    NaN  \n",
       "\n",
       "[5 rows x 251 columns]"
      ]
     },
     "metadata": {},
     "output_type": "display_data"
    },
    {
     "data": {
      "text/plain": [
       "0      auto\n",
       "1    manual\n",
       "2    unknow\n",
       "Name: Gearbox, dtype: object"
      ]
     },
     "metadata": {},
     "output_type": "display_data"
    },
    {
     "data": {
      "text/html": [
       "<div>\n",
       "<style scoped>\n",
       "    .dataframe tbody tr th:only-of-type {\n",
       "        vertical-align: middle;\n",
       "    }\n",
       "\n",
       "    .dataframe tbody tr th {\n",
       "        vertical-align: top;\n",
       "    }\n",
       "\n",
       "    .dataframe thead tr th {\n",
       "        text-align: left;\n",
       "    }\n",
       "\n",
       "    .dataframe thead tr:last-of-type th {\n",
       "        text-align: right;\n",
       "    }\n",
       "</style>\n",
       "<table border=\"1\" class=\"dataframe\">\n",
       "  <thead>\n",
       "    <tr>\n",
       "      <th></th>\n",
       "      <th colspan=\"21\" halign=\"left\">median</th>\n",
       "    </tr>\n",
       "    <tr>\n",
       "      <th>Model</th>\n",
       "      <th>100</th>\n",
       "      <th>145</th>\n",
       "      <th>147</th>\n",
       "      <th>156</th>\n",
       "      <th>159</th>\n",
       "      <th>1_reihe</th>\n",
       "      <th>1er</th>\n",
       "      <th>200</th>\n",
       "      <th>2_reihe</th>\n",
       "      <th>300c</th>\n",
       "      <th>...</th>\n",
       "      <th>wrangler</th>\n",
       "      <th>x_reihe</th>\n",
       "      <th>x_trail</th>\n",
       "      <th>x_type</th>\n",
       "      <th>xc_reihe</th>\n",
       "      <th>yaris</th>\n",
       "      <th>yeti</th>\n",
       "      <th>ypsilon</th>\n",
       "      <th>z_reihe</th>\n",
       "      <th>zafira</th>\n",
       "    </tr>\n",
       "    <tr>\n",
       "      <th>Brand</th>\n",
       "      <th></th>\n",
       "      <th></th>\n",
       "      <th></th>\n",
       "      <th></th>\n",
       "      <th></th>\n",
       "      <th></th>\n",
       "      <th></th>\n",
       "      <th></th>\n",
       "      <th></th>\n",
       "      <th></th>\n",
       "      <th></th>\n",
       "      <th></th>\n",
       "      <th></th>\n",
       "      <th></th>\n",
       "      <th></th>\n",
       "      <th></th>\n",
       "      <th></th>\n",
       "      <th></th>\n",
       "      <th></th>\n",
       "      <th></th>\n",
       "      <th></th>\n",
       "    </tr>\n",
       "  </thead>\n",
       "  <tbody>\n",
       "    <tr>\n",
       "      <th>alfa_romeo</th>\n",
       "      <td>NaN</td>\n",
       "      <td>6.0</td>\n",
       "      <td>6.0</td>\n",
       "      <td>6.0</td>\n",
       "      <td>2.0</td>\n",
       "      <td>NaN</td>\n",
       "      <td>NaN</td>\n",
       "      <td>NaN</td>\n",
       "      <td>NaN</td>\n",
       "      <td>NaN</td>\n",
       "      <td>...</td>\n",
       "      <td>NaN</td>\n",
       "      <td>NaN</td>\n",
       "      <td>NaN</td>\n",
       "      <td>NaN</td>\n",
       "      <td>NaN</td>\n",
       "      <td>NaN</td>\n",
       "      <td>NaN</td>\n",
       "      <td>NaN</td>\n",
       "      <td>NaN</td>\n",
       "      <td>NaN</td>\n",
       "    </tr>\n",
       "    <tr>\n",
       "      <th>audi</th>\n",
       "      <td>6.0</td>\n",
       "      <td>NaN</td>\n",
       "      <td>NaN</td>\n",
       "      <td>NaN</td>\n",
       "      <td>NaN</td>\n",
       "      <td>NaN</td>\n",
       "      <td>NaN</td>\n",
       "      <td>6.0</td>\n",
       "      <td>NaN</td>\n",
       "      <td>NaN</td>\n",
       "      <td>...</td>\n",
       "      <td>NaN</td>\n",
       "      <td>NaN</td>\n",
       "      <td>NaN</td>\n",
       "      <td>NaN</td>\n",
       "      <td>NaN</td>\n",
       "      <td>NaN</td>\n",
       "      <td>NaN</td>\n",
       "      <td>NaN</td>\n",
       "      <td>NaN</td>\n",
       "      <td>NaN</td>\n",
       "    </tr>\n",
       "    <tr>\n",
       "      <th>bmw</th>\n",
       "      <td>NaN</td>\n",
       "      <td>NaN</td>\n",
       "      <td>NaN</td>\n",
       "      <td>NaN</td>\n",
       "      <td>NaN</td>\n",
       "      <td>NaN</td>\n",
       "      <td>6.0</td>\n",
       "      <td>NaN</td>\n",
       "      <td>NaN</td>\n",
       "      <td>NaN</td>\n",
       "      <td>...</td>\n",
       "      <td>NaN</td>\n",
       "      <td>2.0</td>\n",
       "      <td>NaN</td>\n",
       "      <td>NaN</td>\n",
       "      <td>NaN</td>\n",
       "      <td>NaN</td>\n",
       "      <td>NaN</td>\n",
       "      <td>NaN</td>\n",
       "      <td>6.0</td>\n",
       "      <td>NaN</td>\n",
       "    </tr>\n",
       "    <tr>\n",
       "      <th>chevrolet</th>\n",
       "      <td>NaN</td>\n",
       "      <td>NaN</td>\n",
       "      <td>NaN</td>\n",
       "      <td>NaN</td>\n",
       "      <td>NaN</td>\n",
       "      <td>NaN</td>\n",
       "      <td>NaN</td>\n",
       "      <td>NaN</td>\n",
       "      <td>NaN</td>\n",
       "      <td>NaN</td>\n",
       "      <td>...</td>\n",
       "      <td>NaN</td>\n",
       "      <td>NaN</td>\n",
       "      <td>NaN</td>\n",
       "      <td>NaN</td>\n",
       "      <td>NaN</td>\n",
       "      <td>NaN</td>\n",
       "      <td>NaN</td>\n",
       "      <td>NaN</td>\n",
       "      <td>NaN</td>\n",
       "      <td>NaN</td>\n",
       "    </tr>\n",
       "    <tr>\n",
       "      <th>chrysler</th>\n",
       "      <td>NaN</td>\n",
       "      <td>NaN</td>\n",
       "      <td>NaN</td>\n",
       "      <td>NaN</td>\n",
       "      <td>NaN</td>\n",
       "      <td>NaN</td>\n",
       "      <td>NaN</td>\n",
       "      <td>NaN</td>\n",
       "      <td>NaN</td>\n",
       "      <td>2.0</td>\n",
       "      <td>...</td>\n",
       "      <td>NaN</td>\n",
       "      <td>NaN</td>\n",
       "      <td>NaN</td>\n",
       "      <td>NaN</td>\n",
       "      <td>NaN</td>\n",
       "      <td>NaN</td>\n",
       "      <td>NaN</td>\n",
       "      <td>NaN</td>\n",
       "      <td>NaN</td>\n",
       "      <td>NaN</td>\n",
       "    </tr>\n",
       "  </tbody>\n",
       "</table>\n",
       "<p>5 rows × 251 columns</p>\n",
       "</div>"
      ],
      "text/plain": [
       "           median                                                     ...  \\\n",
       "Model         100  145  147  156  159 1_reihe  1er  200 2_reihe 300c  ...   \n",
       "Brand                                                                 ...   \n",
       "alfa_romeo    NaN  6.0  6.0  6.0  2.0     NaN  NaN  NaN     NaN  NaN  ...   \n",
       "audi          6.0  NaN  NaN  NaN  NaN     NaN  NaN  6.0     NaN  NaN  ...   \n",
       "bmw           NaN  NaN  NaN  NaN  NaN     NaN  6.0  NaN     NaN  NaN  ...   \n",
       "chevrolet     NaN  NaN  NaN  NaN  NaN     NaN  NaN  NaN     NaN  NaN  ...   \n",
       "chrysler      NaN  NaN  NaN  NaN  NaN     NaN  NaN  NaN     NaN  2.0  ...   \n",
       "\n",
       "                                                                        \\\n",
       "Model      wrangler x_reihe x_trail x_type xc_reihe yaris yeti ypsilon   \n",
       "Brand                                                                    \n",
       "alfa_romeo      NaN     NaN     NaN    NaN      NaN   NaN  NaN     NaN   \n",
       "audi            NaN     NaN     NaN    NaN      NaN   NaN  NaN     NaN   \n",
       "bmw             NaN     2.0     NaN    NaN      NaN   NaN  NaN     NaN   \n",
       "chevrolet       NaN     NaN     NaN    NaN      NaN   NaN  NaN     NaN   \n",
       "chrysler        NaN     NaN     NaN    NaN      NaN   NaN  NaN     NaN   \n",
       "\n",
       "                           \n",
       "Model      z_reihe zafira  \n",
       "Brand                      \n",
       "alfa_romeo     NaN    NaN  \n",
       "audi           NaN    NaN  \n",
       "bmw            6.0    NaN  \n",
       "chevrolet      NaN    NaN  \n",
       "chrysler       NaN    NaN  \n",
       "\n",
       "[5 rows x 251 columns]"
      ]
     },
     "metadata": {},
     "output_type": "display_data"
    },
    {
     "data": {
      "text/plain": [
       "0         cng\n",
       "1    electric\n",
       "2    gasoline\n",
       "3      hybrid\n",
       "4         lpg\n",
       "5       other\n",
       "6      petrol\n",
       "7      unknow\n",
       "Name: FuelType, dtype: object"
      ]
     },
     "metadata": {},
     "output_type": "display_data"
    }
   ],
   "source": [
    "Gearbox = data.query('Gearbox != \"unknow\"').pivot_table(\n",
    "    index='Brand', \n",
    "    columns='Model', \n",
    "    values='Gearbox_code', \n",
    "    aggfunc=['median']\n",
    ")\n",
    "display(Gearbox.head())\n",
    "\n",
    "dict_Gearbox = data.pivot_table(\n",
    "    index=['Gearbox_code', 'Gearbox']\n",
    ").reset_index()\n",
    "dict_Gearbox = dict_Gearbox[['Gearbox_code', 'Gearbox']].sort_values('Gearbox_code')\n",
    "dict_Gearbox = dict_Gearbox['Gearbox']\n",
    "display(dict_Gearbox)\n",
    "#################################################\n",
    "FuelType = data.query('FuelType != \"unknow\"').pivot_table(\n",
    "    index='Brand', \n",
    "    columns='Model',\n",
    "    values='FuelType_code', \n",
    "    aggfunc=['median']\n",
    ")\n",
    "display(FuelType.head())\n",
    "\n",
    "dict_FuelType = data.pivot_table(\n",
    "    index=['FuelType_code', 'FuelType']\n",
    ").reset_index()\n",
    "dict_FuelType = dict_FuelType[['FuelType_code', 'FuelType']].sort_values('FuelType_code')\n",
    "dict_FuelType = dict_FuelType['FuelType']\n",
    "display(dict_FuelType)"
   ]
  },
  {
   "cell_type": "markdown",
   "metadata": {},
   "source": [
    "Объявим функцию fill_missing_values_VehicleType, которая будет возвращать наиболее популярное значение VehicleType в зависимости от бренда и модели."
   ]
  },
  {
   "cell_type": "code",
   "execution_count": 13,
   "metadata": {},
   "outputs": [],
   "source": [
    "def fill_missing_values_VehicleType (row):\n",
    "    Brand = row['Brand']\n",
    "    Model = row['Model']\n",
    "    VehicleType_code = row['VehicleType_code']\n",
    "    Gearbox_code = row['Gearbox_code']\n",
    "    FuelType_code = row['FuelType_code']\n",
    "    NotRepaired_code = row['NotRepaired_code']\n",
    "\n",
    "# определение пропущенного значения VehicleType\n",
    "    if VehicleType_code == 7:\n",
    "        return VehicleType.loc[Brand,('median', Model)]\n",
    "    else:\n",
    "        return VehicleType_code\n",
    "\n",
    "def fill_missing_values_Gearbox (row):\n",
    "    Brand = row['Brand']\n",
    "    Model = row['Model']\n",
    "    VehicleType_code = row['VehicleType_code']\n",
    "    Gearbox_code = row['Gearbox_code']\n",
    "    FuelType_code = row['FuelType_code']\n",
    "    NotRepaired_code = row['NotRepaired_code']\n",
    "\n",
    "# определение пропущенного значения Gearbox\n",
    "    if Gearbox_code == 2:\n",
    "        return Gearbox.loc[Brand,('median', Model)]\n",
    "    else:\n",
    "        return Gearbox_code\n",
    "\n",
    "def fill_missing_values_FuelType (row):\n",
    "    Brand = row['Brand']\n",
    "    Model = row['Model']\n",
    "    VehicleType_code = row['VehicleType_code']\n",
    "    Gearbox_code = row['Gearbox_code']\n",
    "    FuelType_code = row['FuelType_code']\n",
    "    NotRepaired_code = row['NotRepaired_code']\n",
    "\n",
    "# определение пропущенного значения FuelType\n",
    "    if FuelType_code == 7:\n",
    "        return FuelType.loc[Brand,('median', Model)]\n",
    "    else:\n",
    "        return FuelType_code"
   ]
  },
  {
   "cell_type": "markdown",
   "metadata": {},
   "source": [
    "Применим нашу функцию, заполним пропущенные значения."
   ]
  },
  {
   "cell_type": "code",
   "execution_count": 14,
   "metadata": {
    "scrolled": false
   },
   "outputs": [
    {
     "data": {
      "text/html": [
       "<div>\n",
       "<style scoped>\n",
       "    .dataframe tbody tr th:only-of-type {\n",
       "        vertical-align: middle;\n",
       "    }\n",
       "\n",
       "    .dataframe tbody tr th {\n",
       "        vertical-align: top;\n",
       "    }\n",
       "\n",
       "    .dataframe thead th {\n",
       "        text-align: right;\n",
       "    }\n",
       "</style>\n",
       "<table border=\"1\" class=\"dataframe\">\n",
       "  <thead>\n",
       "    <tr style=\"text-align: right;\">\n",
       "      <th></th>\n",
       "      <th>DateCrawled</th>\n",
       "      <th>Price</th>\n",
       "      <th>VehicleType</th>\n",
       "      <th>RegistrationYear</th>\n",
       "      <th>Gearbox</th>\n",
       "      <th>Power</th>\n",
       "      <th>Model</th>\n",
       "      <th>Kilometer</th>\n",
       "      <th>RegistrationMonth</th>\n",
       "      <th>FuelType</th>\n",
       "      <th>...</th>\n",
       "      <th>NotRepaired</th>\n",
       "      <th>DateCreated</th>\n",
       "      <th>PostalCode</th>\n",
       "      <th>LastSeen</th>\n",
       "      <th>Model_code</th>\n",
       "      <th>Brand_code</th>\n",
       "      <th>VehicleType_code</th>\n",
       "      <th>Gearbox_code</th>\n",
       "      <th>FuelType_code</th>\n",
       "      <th>NotRepaired_code</th>\n",
       "    </tr>\n",
       "  </thead>\n",
       "  <tbody>\n",
       "    <tr>\n",
       "      <th>0</th>\n",
       "      <td>2016-03-24 11:52:17</td>\n",
       "      <td>480</td>\n",
       "      <td>unknow</td>\n",
       "      <td>1993</td>\n",
       "      <td>manual</td>\n",
       "      <td>0</td>\n",
       "      <td>golf</td>\n",
       "      <td>150000</td>\n",
       "      <td>0</td>\n",
       "      <td>petrol</td>\n",
       "      <td>...</td>\n",
       "      <td>yes</td>\n",
       "      <td>2016-03-24</td>\n",
       "      <td>70435</td>\n",
       "      <td>2016-04-07 03:16:57</td>\n",
       "      <td>116.0</td>\n",
       "      <td>38.0</td>\n",
       "      <td>4.0</td>\n",
       "      <td>1.0</td>\n",
       "      <td>6.0</td>\n",
       "      <td>1.0</td>\n",
       "    </tr>\n",
       "    <tr>\n",
       "      <th>1</th>\n",
       "      <td>2016-03-24 10:58:45</td>\n",
       "      <td>18300</td>\n",
       "      <td>coupe</td>\n",
       "      <td>2011</td>\n",
       "      <td>manual</td>\n",
       "      <td>190</td>\n",
       "      <td>unknow</td>\n",
       "      <td>125000</td>\n",
       "      <td>5</td>\n",
       "      <td>gasoline</td>\n",
       "      <td>...</td>\n",
       "      <td>yes</td>\n",
       "      <td>2016-03-24</td>\n",
       "      <td>66954</td>\n",
       "      <td>2016-04-07 01:46:50</td>\n",
       "      <td>228.0</td>\n",
       "      <td>1.0</td>\n",
       "      <td>2.0</td>\n",
       "      <td>1.0</td>\n",
       "      <td>2.0</td>\n",
       "      <td>1.0</td>\n",
       "    </tr>\n",
       "    <tr>\n",
       "      <th>2</th>\n",
       "      <td>2016-03-14 12:52:21</td>\n",
       "      <td>9800</td>\n",
       "      <td>suv</td>\n",
       "      <td>2004</td>\n",
       "      <td>auto</td>\n",
       "      <td>163</td>\n",
       "      <td>grand</td>\n",
       "      <td>125000</td>\n",
       "      <td>8</td>\n",
       "      <td>gasoline</td>\n",
       "      <td>...</td>\n",
       "      <td>yes</td>\n",
       "      <td>2016-03-14</td>\n",
       "      <td>90480</td>\n",
       "      <td>2016-04-05 12:47:46</td>\n",
       "      <td>117.0</td>\n",
       "      <td>14.0</td>\n",
       "      <td>6.0</td>\n",
       "      <td>0.0</td>\n",
       "      <td>2.0</td>\n",
       "      <td>1.0</td>\n",
       "    </tr>\n",
       "    <tr>\n",
       "      <th>3</th>\n",
       "      <td>2016-03-17 16:54:04</td>\n",
       "      <td>1500</td>\n",
       "      <td>small</td>\n",
       "      <td>2001</td>\n",
       "      <td>manual</td>\n",
       "      <td>75</td>\n",
       "      <td>golf</td>\n",
       "      <td>150000</td>\n",
       "      <td>6</td>\n",
       "      <td>petrol</td>\n",
       "      <td>...</td>\n",
       "      <td>no</td>\n",
       "      <td>2016-03-17</td>\n",
       "      <td>91074</td>\n",
       "      <td>2016-03-17 17:40:17</td>\n",
       "      <td>116.0</td>\n",
       "      <td>38.0</td>\n",
       "      <td>5.0</td>\n",
       "      <td>1.0</td>\n",
       "      <td>6.0</td>\n",
       "      <td>0.0</td>\n",
       "    </tr>\n",
       "    <tr>\n",
       "      <th>4</th>\n",
       "      <td>2016-03-31 17:25:20</td>\n",
       "      <td>3600</td>\n",
       "      <td>small</td>\n",
       "      <td>2008</td>\n",
       "      <td>manual</td>\n",
       "      <td>69</td>\n",
       "      <td>fabia</td>\n",
       "      <td>90000</td>\n",
       "      <td>7</td>\n",
       "      <td>gasoline</td>\n",
       "      <td>...</td>\n",
       "      <td>no</td>\n",
       "      <td>2016-03-31</td>\n",
       "      <td>60437</td>\n",
       "      <td>2016-04-06 10:17:21</td>\n",
       "      <td>101.0</td>\n",
       "      <td>31.0</td>\n",
       "      <td>5.0</td>\n",
       "      <td>1.0</td>\n",
       "      <td>2.0</td>\n",
       "      <td>0.0</td>\n",
       "    </tr>\n",
       "  </tbody>\n",
       "</table>\n",
       "<p>5 rows × 21 columns</p>\n",
       "</div>"
      ],
      "text/plain": [
       "          DateCrawled  Price VehicleType  RegistrationYear Gearbox  Power  \\\n",
       "0 2016-03-24 11:52:17    480      unknow              1993  manual      0   \n",
       "1 2016-03-24 10:58:45  18300       coupe              2011  manual    190   \n",
       "2 2016-03-14 12:52:21   9800         suv              2004    auto    163   \n",
       "3 2016-03-17 16:54:04   1500       small              2001  manual     75   \n",
       "4 2016-03-31 17:25:20   3600       small              2008  manual     69   \n",
       "\n",
       "    Model  Kilometer  RegistrationMonth  FuelType  ... NotRepaired  \\\n",
       "0    golf     150000                  0    petrol  ...         yes   \n",
       "1  unknow     125000                  5  gasoline  ...         yes   \n",
       "2   grand     125000                  8  gasoline  ...         yes   \n",
       "3    golf     150000                  6    petrol  ...          no   \n",
       "4   fabia      90000                  7  gasoline  ...          no   \n",
       "\n",
       "  DateCreated PostalCode            LastSeen Model_code  Brand_code  \\\n",
       "0  2016-03-24      70435 2016-04-07 03:16:57      116.0        38.0   \n",
       "1  2016-03-24      66954 2016-04-07 01:46:50      228.0         1.0   \n",
       "2  2016-03-14      90480 2016-04-05 12:47:46      117.0        14.0   \n",
       "3  2016-03-17      91074 2016-03-17 17:40:17      116.0        38.0   \n",
       "4  2016-03-31      60437 2016-04-06 10:17:21      101.0        31.0   \n",
       "\n",
       "   VehicleType_code  Gearbox_code  FuelType_code  NotRepaired_code  \n",
       "0               4.0           1.0            6.0               1.0  \n",
       "1               2.0           1.0            2.0               1.0  \n",
       "2               6.0           0.0            2.0               1.0  \n",
       "3               5.0           1.0            6.0               0.0  \n",
       "4               5.0           1.0            2.0               0.0  \n",
       "\n",
       "[5 rows x 21 columns]"
      ]
     },
     "metadata": {},
     "output_type": "display_data"
    }
   ],
   "source": [
    "data['VehicleType_code'] = data.apply(fill_missing_values_VehicleType, axis=1)\n",
    "data['Gearbox_code'] = data.apply(fill_missing_values_Gearbox, axis=1)\n",
    "data['FuelType_code'] = data.apply(fill_missing_values_FuelType, axis=1)\n",
    "\n",
    "display(data.head())"
   ]
  },
  {
   "cell_type": "markdown",
   "metadata": {},
   "source": [
    "Проверим, остались ли значения `unknow` в нашей таблице."
   ]
  },
  {
   "cell_type": "code",
   "execution_count": 15,
   "metadata": {
    "scrolled": false
   },
   "outputs": [
    {
     "data": {
      "text/plain": [
       "4.0    108175\n",
       "5.0     92555\n",
       "8.0     68188\n",
       "0.0     31945\n",
       "1.0     20552\n",
       "2.0     16742\n",
       "6.0     12516\n",
       "3.0      3668\n",
       "5.5        18\n",
       "4.5        10\n",
       "Name: VehicleType_code, dtype: int64"
      ]
     },
     "metadata": {},
     "output_type": "display_data"
    },
    {
     "data": {
      "text/plain": [
       "1.0    286051\n",
       "0.0     68318\n",
       "Name: Gearbox_code, dtype: int64"
      ]
     },
     "metadata": {},
     "output_type": "display_data"
    },
    {
     "data": {
      "text/plain": [
       "6.0    244039\n",
       "2.0    103547\n",
       "4.0      5680\n",
       "0.0       565\n",
       "3.0       242\n",
       "5.0       206\n",
       "1.0        90\n",
       "Name: FuelType_code, dtype: int64"
      ]
     },
     "metadata": {},
     "output_type": "display_data"
    }
   ],
   "source": [
    "display(data['VehicleType_code'].value_counts())\n",
    "display(data['Gearbox_code'].value_counts())\n",
    "display(data['FuelType_code'].value_counts())"
   ]
  },
  {
   "cell_type": "markdown",
   "metadata": {},
   "source": [
    "В столбце `VehicleType_code` имеются странные значения - 4.5 и 5.5. Так как их немного - удалим их."
   ]
  },
  {
   "cell_type": "code",
   "execution_count": 16,
   "metadata": {},
   "outputs": [],
   "source": [
    "data = data.drop(index=list(data.query('VehicleType_code == 4.5').index))\n",
    "data = data.drop(index=list(data.query('VehicleType_code == 5.5').index))"
   ]
  },
  {
   "cell_type": "markdown",
   "metadata": {},
   "source": [
    "Проверим."
   ]
  },
  {
   "cell_type": "code",
   "execution_count": 17,
   "metadata": {
    "scrolled": false
   },
   "outputs": [
    {
     "data": {
      "text/plain": [
       "4.0    108175\n",
       "5.0     92555\n",
       "8.0     68188\n",
       "0.0     31945\n",
       "1.0     20552\n",
       "2.0     16742\n",
       "6.0     12516\n",
       "3.0      3668\n",
       "Name: VehicleType_code, dtype: int64"
      ]
     },
     "metadata": {},
     "output_type": "display_data"
    }
   ],
   "source": [
    "display(data['VehicleType_code'].value_counts())"
   ]
  },
  {
   "cell_type": "markdown",
   "metadata": {},
   "source": [
    "Раскодируем признаки."
   ]
  },
  {
   "cell_type": "code",
   "execution_count": 18,
   "metadata": {},
   "outputs": [],
   "source": [
    "def values_VehicleType (row):\n",
    "    VehicleType_code = row['VehicleType_code']\n",
    "\n",
    "# определение пропущенного значения VehicleType\n",
    "    return dict_VehicleType[VehicleType_code]\n",
    "\n",
    "def values_Gearbox (row):\n",
    "    Gearbox_code = row['Gearbox_code']\n",
    "\n",
    "# определение пропущенного значения Gearbox\n",
    "    return dict_Gearbox[Gearbox_code]\n",
    "\n",
    "def values_FuelType (row):\n",
    "    FuelType_code = row['FuelType_code']\n",
    "\n",
    "# определение пропущенного значения FuelType\n",
    "    return dict_FuelType[FuelType_code]"
   ]
  },
  {
   "cell_type": "code",
   "execution_count": 19,
   "metadata": {},
   "outputs": [
    {
     "data": {
      "text/html": [
       "<div>\n",
       "<style scoped>\n",
       "    .dataframe tbody tr th:only-of-type {\n",
       "        vertical-align: middle;\n",
       "    }\n",
       "\n",
       "    .dataframe tbody tr th {\n",
       "        vertical-align: top;\n",
       "    }\n",
       "\n",
       "    .dataframe thead th {\n",
       "        text-align: right;\n",
       "    }\n",
       "</style>\n",
       "<table border=\"1\" class=\"dataframe\">\n",
       "  <thead>\n",
       "    <tr style=\"text-align: right;\">\n",
       "      <th></th>\n",
       "      <th>DateCrawled</th>\n",
       "      <th>Price</th>\n",
       "      <th>VehicleType</th>\n",
       "      <th>RegistrationYear</th>\n",
       "      <th>Gearbox</th>\n",
       "      <th>Power</th>\n",
       "      <th>Model</th>\n",
       "      <th>Kilometer</th>\n",
       "      <th>RegistrationMonth</th>\n",
       "      <th>FuelType</th>\n",
       "      <th>...</th>\n",
       "      <th>LastSeen</th>\n",
       "      <th>Model_code</th>\n",
       "      <th>Brand_code</th>\n",
       "      <th>VehicleType_code</th>\n",
       "      <th>Gearbox_code</th>\n",
       "      <th>FuelType_code</th>\n",
       "      <th>NotRepaired_code</th>\n",
       "      <th>VehicleType_str</th>\n",
       "      <th>Gearbox_str</th>\n",
       "      <th>FuelType_str</th>\n",
       "    </tr>\n",
       "  </thead>\n",
       "  <tbody>\n",
       "    <tr>\n",
       "      <th>0</th>\n",
       "      <td>2016-03-24 11:52:17</td>\n",
       "      <td>480</td>\n",
       "      <td>unknow</td>\n",
       "      <td>1993</td>\n",
       "      <td>manual</td>\n",
       "      <td>0</td>\n",
       "      <td>golf</td>\n",
       "      <td>150000</td>\n",
       "      <td>0</td>\n",
       "      <td>petrol</td>\n",
       "      <td>...</td>\n",
       "      <td>2016-04-07 03:16:57</td>\n",
       "      <td>116.0</td>\n",
       "      <td>38.0</td>\n",
       "      <td>4.0</td>\n",
       "      <td>1.0</td>\n",
       "      <td>6.0</td>\n",
       "      <td>1.0</td>\n",
       "      <td>sedan</td>\n",
       "      <td>manual</td>\n",
       "      <td>petrol</td>\n",
       "    </tr>\n",
       "    <tr>\n",
       "      <th>1</th>\n",
       "      <td>2016-03-24 10:58:45</td>\n",
       "      <td>18300</td>\n",
       "      <td>coupe</td>\n",
       "      <td>2011</td>\n",
       "      <td>manual</td>\n",
       "      <td>190</td>\n",
       "      <td>unknow</td>\n",
       "      <td>125000</td>\n",
       "      <td>5</td>\n",
       "      <td>gasoline</td>\n",
       "      <td>...</td>\n",
       "      <td>2016-04-07 01:46:50</td>\n",
       "      <td>228.0</td>\n",
       "      <td>1.0</td>\n",
       "      <td>2.0</td>\n",
       "      <td>1.0</td>\n",
       "      <td>2.0</td>\n",
       "      <td>1.0</td>\n",
       "      <td>coupe</td>\n",
       "      <td>manual</td>\n",
       "      <td>gasoline</td>\n",
       "    </tr>\n",
       "    <tr>\n",
       "      <th>2</th>\n",
       "      <td>2016-03-14 12:52:21</td>\n",
       "      <td>9800</td>\n",
       "      <td>suv</td>\n",
       "      <td>2004</td>\n",
       "      <td>auto</td>\n",
       "      <td>163</td>\n",
       "      <td>grand</td>\n",
       "      <td>125000</td>\n",
       "      <td>8</td>\n",
       "      <td>gasoline</td>\n",
       "      <td>...</td>\n",
       "      <td>2016-04-05 12:47:46</td>\n",
       "      <td>117.0</td>\n",
       "      <td>14.0</td>\n",
       "      <td>6.0</td>\n",
       "      <td>0.0</td>\n",
       "      <td>2.0</td>\n",
       "      <td>1.0</td>\n",
       "      <td>suv</td>\n",
       "      <td>auto</td>\n",
       "      <td>gasoline</td>\n",
       "    </tr>\n",
       "    <tr>\n",
       "      <th>3</th>\n",
       "      <td>2016-03-17 16:54:04</td>\n",
       "      <td>1500</td>\n",
       "      <td>small</td>\n",
       "      <td>2001</td>\n",
       "      <td>manual</td>\n",
       "      <td>75</td>\n",
       "      <td>golf</td>\n",
       "      <td>150000</td>\n",
       "      <td>6</td>\n",
       "      <td>petrol</td>\n",
       "      <td>...</td>\n",
       "      <td>2016-03-17 17:40:17</td>\n",
       "      <td>116.0</td>\n",
       "      <td>38.0</td>\n",
       "      <td>5.0</td>\n",
       "      <td>1.0</td>\n",
       "      <td>6.0</td>\n",
       "      <td>0.0</td>\n",
       "      <td>small</td>\n",
       "      <td>manual</td>\n",
       "      <td>petrol</td>\n",
       "    </tr>\n",
       "    <tr>\n",
       "      <th>4</th>\n",
       "      <td>2016-03-31 17:25:20</td>\n",
       "      <td>3600</td>\n",
       "      <td>small</td>\n",
       "      <td>2008</td>\n",
       "      <td>manual</td>\n",
       "      <td>69</td>\n",
       "      <td>fabia</td>\n",
       "      <td>90000</td>\n",
       "      <td>7</td>\n",
       "      <td>gasoline</td>\n",
       "      <td>...</td>\n",
       "      <td>2016-04-06 10:17:21</td>\n",
       "      <td>101.0</td>\n",
       "      <td>31.0</td>\n",
       "      <td>5.0</td>\n",
       "      <td>1.0</td>\n",
       "      <td>2.0</td>\n",
       "      <td>0.0</td>\n",
       "      <td>small</td>\n",
       "      <td>manual</td>\n",
       "      <td>gasoline</td>\n",
       "    </tr>\n",
       "  </tbody>\n",
       "</table>\n",
       "<p>5 rows × 24 columns</p>\n",
       "</div>"
      ],
      "text/plain": [
       "          DateCrawled  Price VehicleType  RegistrationYear Gearbox  Power  \\\n",
       "0 2016-03-24 11:52:17    480      unknow              1993  manual      0   \n",
       "1 2016-03-24 10:58:45  18300       coupe              2011  manual    190   \n",
       "2 2016-03-14 12:52:21   9800         suv              2004    auto    163   \n",
       "3 2016-03-17 16:54:04   1500       small              2001  manual     75   \n",
       "4 2016-03-31 17:25:20   3600       small              2008  manual     69   \n",
       "\n",
       "    Model  Kilometer  RegistrationMonth  FuelType  ...            LastSeen  \\\n",
       "0    golf     150000                  0    petrol  ... 2016-04-07 03:16:57   \n",
       "1  unknow     125000                  5  gasoline  ... 2016-04-07 01:46:50   \n",
       "2   grand     125000                  8  gasoline  ... 2016-04-05 12:47:46   \n",
       "3    golf     150000                  6    petrol  ... 2016-03-17 17:40:17   \n",
       "4   fabia      90000                  7  gasoline  ... 2016-04-06 10:17:21   \n",
       "\n",
       "  Model_code Brand_code  VehicleType_code Gearbox_code  FuelType_code  \\\n",
       "0      116.0       38.0               4.0          1.0            6.0   \n",
       "1      228.0        1.0               2.0          1.0            2.0   \n",
       "2      117.0       14.0               6.0          0.0            2.0   \n",
       "3      116.0       38.0               5.0          1.0            6.0   \n",
       "4      101.0       31.0               5.0          1.0            2.0   \n",
       "\n",
       "   NotRepaired_code  VehicleType_str  Gearbox_str  FuelType_str  \n",
       "0               1.0            sedan       manual        petrol  \n",
       "1               1.0            coupe       manual      gasoline  \n",
       "2               1.0              suv         auto      gasoline  \n",
       "3               0.0            small       manual        petrol  \n",
       "4               0.0            small       manual      gasoline  \n",
       "\n",
       "[5 rows x 24 columns]"
      ]
     },
     "metadata": {},
     "output_type": "display_data"
    }
   ],
   "source": [
    "data['VehicleType_str'] = data.apply(values_VehicleType, axis=1)\n",
    "data['Gearbox_str'] = data.apply(values_Gearbox, axis=1)\n",
    "data['FuelType_str'] = data.apply(values_FuelType, axis=1)\n",
    "\n",
    "display(data.head())"
   ]
  },
  {
   "cell_type": "code",
   "execution_count": 20,
   "metadata": {
    "scrolled": false
   },
   "outputs": [
    {
     "name": "stdout",
     "output_type": "stream",
     "text": [
      "<class 'pandas.core.frame.DataFrame'>\n",
      "Int64Index: 354341 entries, 0 to 354368\n",
      "Data columns (total 24 columns):\n",
      " #   Column             Non-Null Count   Dtype         \n",
      "---  ------             --------------   -----         \n",
      " 0   DateCrawled        354341 non-null  datetime64[ns]\n",
      " 1   Price              354341 non-null  int64         \n",
      " 2   VehicleType        354341 non-null  object        \n",
      " 3   RegistrationYear   354341 non-null  int64         \n",
      " 4   Gearbox            354341 non-null  object        \n",
      " 5   Power              354341 non-null  int64         \n",
      " 6   Model              354341 non-null  object        \n",
      " 7   Kilometer          354341 non-null  int64         \n",
      " 8   RegistrationMonth  354341 non-null  int64         \n",
      " 9   FuelType           354341 non-null  object        \n",
      " 10  Brand              354341 non-null  object        \n",
      " 11  NotRepaired        354341 non-null  object        \n",
      " 12  DateCreated        354341 non-null  datetime64[ns]\n",
      " 13  PostalCode         354341 non-null  int64         \n",
      " 14  LastSeen           354341 non-null  datetime64[ns]\n",
      " 15  Model_code         354341 non-null  float64       \n",
      " 16  Brand_code         354341 non-null  float64       \n",
      " 17  VehicleType_code   354341 non-null  float64       \n",
      " 18  Gearbox_code       354341 non-null  float64       \n",
      " 19  FuelType_code      354341 non-null  float64       \n",
      " 20  NotRepaired_code   354341 non-null  float64       \n",
      " 21  VehicleType_str    354341 non-null  object        \n",
      " 22  Gearbox_str        354341 non-null  object        \n",
      " 23  FuelType_str       354341 non-null  object        \n",
      "dtypes: datetime64[ns](3), float64(6), int64(6), object(9)\n",
      "memory usage: 67.6+ MB\n"
     ]
    }
   ],
   "source": [
    "data.info()"
   ]
  },
  {
   "cell_type": "markdown",
   "metadata": {},
   "source": [
    "С пропусками закончили. Изменим тип данных."
   ]
  },
  {
   "cell_type": "code",
   "execution_count": 21,
   "metadata": {},
   "outputs": [
    {
     "name": "stdout",
     "output_type": "stream",
     "text": [
      "<class 'pandas.core.frame.DataFrame'>\n",
      "Int64Index: 354341 entries, 0 to 354368\n",
      "Data columns (total 24 columns):\n",
      " #   Column             Non-Null Count   Dtype         \n",
      "---  ------             --------------   -----         \n",
      " 0   DateCrawled        354341 non-null  datetime64[ns]\n",
      " 1   Price              354341 non-null  int64         \n",
      " 2   VehicleType        354341 non-null  object        \n",
      " 3   RegistrationYear   354341 non-null  int64         \n",
      " 4   Gearbox            354341 non-null  object        \n",
      " 5   Power              354341 non-null  int64         \n",
      " 6   Model              354341 non-null  object        \n",
      " 7   Kilometer          354341 non-null  int64         \n",
      " 8   RegistrationMonth  354341 non-null  int64         \n",
      " 9   FuelType           354341 non-null  object        \n",
      " 10  Brand              354341 non-null  object        \n",
      " 11  NotRepaired        354341 non-null  object        \n",
      " 12  DateCreated        354341 non-null  datetime64[ns]\n",
      " 13  PostalCode         354341 non-null  int64         \n",
      " 14  LastSeen           354341 non-null  datetime64[ns]\n",
      " 15  Model_code         354341 non-null  float64       \n",
      " 16  Brand_code         354341 non-null  float64       \n",
      " 17  VehicleType_code   354341 non-null  int64         \n",
      " 18  Gearbox_code       354341 non-null  int64         \n",
      " 19  FuelType_code      354341 non-null  int64         \n",
      " 20  NotRepaired_code   354341 non-null  int64         \n",
      " 21  VehicleType_str    354341 non-null  object        \n",
      " 22  Gearbox_str        354341 non-null  object        \n",
      " 23  FuelType_str       354341 non-null  object        \n",
      "dtypes: datetime64[ns](3), float64(2), int64(10), object(9)\n",
      "memory usage: 67.6+ MB\n"
     ]
    }
   ],
   "source": [
    "data = data.astype({'VehicleType_code':'int64', 'Gearbox_code':'int64', 'FuelType_code':'int64', 'NotRepaired_code':'int64'})\n",
    "data.info()"
   ]
  },
  {
   "cell_type": "markdown",
   "metadata": {},
   "source": [
    "Взглянем еще раз на данные."
   ]
  },
  {
   "cell_type": "code",
   "execution_count": 22,
   "metadata": {
    "scrolled": false
   },
   "outputs": [
    {
     "data": {
      "text/html": [
       "<div>\n",
       "<style scoped>\n",
       "    .dataframe tbody tr th:only-of-type {\n",
       "        vertical-align: middle;\n",
       "    }\n",
       "\n",
       "    .dataframe tbody tr th {\n",
       "        vertical-align: top;\n",
       "    }\n",
       "\n",
       "    .dataframe thead th {\n",
       "        text-align: right;\n",
       "    }\n",
       "</style>\n",
       "<table border=\"1\" class=\"dataframe\">\n",
       "  <thead>\n",
       "    <tr style=\"text-align: right;\">\n",
       "      <th></th>\n",
       "      <th>DateCrawled</th>\n",
       "      <th>Price</th>\n",
       "      <th>VehicleType</th>\n",
       "      <th>RegistrationYear</th>\n",
       "      <th>Gearbox</th>\n",
       "      <th>Power</th>\n",
       "      <th>Model</th>\n",
       "      <th>Kilometer</th>\n",
       "      <th>RegistrationMonth</th>\n",
       "      <th>FuelType</th>\n",
       "      <th>...</th>\n",
       "      <th>LastSeen</th>\n",
       "      <th>Model_code</th>\n",
       "      <th>Brand_code</th>\n",
       "      <th>VehicleType_code</th>\n",
       "      <th>Gearbox_code</th>\n",
       "      <th>FuelType_code</th>\n",
       "      <th>NotRepaired_code</th>\n",
       "      <th>VehicleType_str</th>\n",
       "      <th>Gearbox_str</th>\n",
       "      <th>FuelType_str</th>\n",
       "    </tr>\n",
       "  </thead>\n",
       "  <tbody>\n",
       "    <tr>\n",
       "      <th>0</th>\n",
       "      <td>2016-03-24 11:52:17</td>\n",
       "      <td>480</td>\n",
       "      <td>unknow</td>\n",
       "      <td>1993</td>\n",
       "      <td>manual</td>\n",
       "      <td>0</td>\n",
       "      <td>golf</td>\n",
       "      <td>150000</td>\n",
       "      <td>0</td>\n",
       "      <td>petrol</td>\n",
       "      <td>...</td>\n",
       "      <td>2016-04-07 03:16:57</td>\n",
       "      <td>116.0</td>\n",
       "      <td>38.0</td>\n",
       "      <td>4</td>\n",
       "      <td>1</td>\n",
       "      <td>6</td>\n",
       "      <td>1</td>\n",
       "      <td>sedan</td>\n",
       "      <td>manual</td>\n",
       "      <td>petrol</td>\n",
       "    </tr>\n",
       "    <tr>\n",
       "      <th>1</th>\n",
       "      <td>2016-03-24 10:58:45</td>\n",
       "      <td>18300</td>\n",
       "      <td>coupe</td>\n",
       "      <td>2011</td>\n",
       "      <td>manual</td>\n",
       "      <td>190</td>\n",
       "      <td>unknow</td>\n",
       "      <td>125000</td>\n",
       "      <td>5</td>\n",
       "      <td>gasoline</td>\n",
       "      <td>...</td>\n",
       "      <td>2016-04-07 01:46:50</td>\n",
       "      <td>228.0</td>\n",
       "      <td>1.0</td>\n",
       "      <td>2</td>\n",
       "      <td>1</td>\n",
       "      <td>2</td>\n",
       "      <td>1</td>\n",
       "      <td>coupe</td>\n",
       "      <td>manual</td>\n",
       "      <td>gasoline</td>\n",
       "    </tr>\n",
       "    <tr>\n",
       "      <th>2</th>\n",
       "      <td>2016-03-14 12:52:21</td>\n",
       "      <td>9800</td>\n",
       "      <td>suv</td>\n",
       "      <td>2004</td>\n",
       "      <td>auto</td>\n",
       "      <td>163</td>\n",
       "      <td>grand</td>\n",
       "      <td>125000</td>\n",
       "      <td>8</td>\n",
       "      <td>gasoline</td>\n",
       "      <td>...</td>\n",
       "      <td>2016-04-05 12:47:46</td>\n",
       "      <td>117.0</td>\n",
       "      <td>14.0</td>\n",
       "      <td>6</td>\n",
       "      <td>0</td>\n",
       "      <td>2</td>\n",
       "      <td>1</td>\n",
       "      <td>suv</td>\n",
       "      <td>auto</td>\n",
       "      <td>gasoline</td>\n",
       "    </tr>\n",
       "    <tr>\n",
       "      <th>3</th>\n",
       "      <td>2016-03-17 16:54:04</td>\n",
       "      <td>1500</td>\n",
       "      <td>small</td>\n",
       "      <td>2001</td>\n",
       "      <td>manual</td>\n",
       "      <td>75</td>\n",
       "      <td>golf</td>\n",
       "      <td>150000</td>\n",
       "      <td>6</td>\n",
       "      <td>petrol</td>\n",
       "      <td>...</td>\n",
       "      <td>2016-03-17 17:40:17</td>\n",
       "      <td>116.0</td>\n",
       "      <td>38.0</td>\n",
       "      <td>5</td>\n",
       "      <td>1</td>\n",
       "      <td>6</td>\n",
       "      <td>0</td>\n",
       "      <td>small</td>\n",
       "      <td>manual</td>\n",
       "      <td>petrol</td>\n",
       "    </tr>\n",
       "    <tr>\n",
       "      <th>4</th>\n",
       "      <td>2016-03-31 17:25:20</td>\n",
       "      <td>3600</td>\n",
       "      <td>small</td>\n",
       "      <td>2008</td>\n",
       "      <td>manual</td>\n",
       "      <td>69</td>\n",
       "      <td>fabia</td>\n",
       "      <td>90000</td>\n",
       "      <td>7</td>\n",
       "      <td>gasoline</td>\n",
       "      <td>...</td>\n",
       "      <td>2016-04-06 10:17:21</td>\n",
       "      <td>101.0</td>\n",
       "      <td>31.0</td>\n",
       "      <td>5</td>\n",
       "      <td>1</td>\n",
       "      <td>2</td>\n",
       "      <td>0</td>\n",
       "      <td>small</td>\n",
       "      <td>manual</td>\n",
       "      <td>gasoline</td>\n",
       "    </tr>\n",
       "    <tr>\n",
       "      <th>5</th>\n",
       "      <td>2016-04-04 17:36:23</td>\n",
       "      <td>650</td>\n",
       "      <td>sedan</td>\n",
       "      <td>1995</td>\n",
       "      <td>manual</td>\n",
       "      <td>102</td>\n",
       "      <td>3er</td>\n",
       "      <td>150000</td>\n",
       "      <td>10</td>\n",
       "      <td>petrol</td>\n",
       "      <td>...</td>\n",
       "      <td>2016-04-06 19:17:07</td>\n",
       "      <td>11.0</td>\n",
       "      <td>2.0</td>\n",
       "      <td>4</td>\n",
       "      <td>1</td>\n",
       "      <td>6</td>\n",
       "      <td>1</td>\n",
       "      <td>sedan</td>\n",
       "      <td>manual</td>\n",
       "      <td>petrol</td>\n",
       "    </tr>\n",
       "    <tr>\n",
       "      <th>6</th>\n",
       "      <td>2016-04-01 20:48:51</td>\n",
       "      <td>2200</td>\n",
       "      <td>convertible</td>\n",
       "      <td>2004</td>\n",
       "      <td>manual</td>\n",
       "      <td>109</td>\n",
       "      <td>2_reihe</td>\n",
       "      <td>150000</td>\n",
       "      <td>8</td>\n",
       "      <td>petrol</td>\n",
       "      <td>...</td>\n",
       "      <td>2016-04-05 18:18:39</td>\n",
       "      <td>8.0</td>\n",
       "      <td>25.0</td>\n",
       "      <td>1</td>\n",
       "      <td>1</td>\n",
       "      <td>6</td>\n",
       "      <td>0</td>\n",
       "      <td>convertible</td>\n",
       "      <td>manual</td>\n",
       "      <td>petrol</td>\n",
       "    </tr>\n",
       "    <tr>\n",
       "      <th>7</th>\n",
       "      <td>2016-03-21 18:54:38</td>\n",
       "      <td>0</td>\n",
       "      <td>sedan</td>\n",
       "      <td>1980</td>\n",
       "      <td>manual</td>\n",
       "      <td>50</td>\n",
       "      <td>other</td>\n",
       "      <td>40000</td>\n",
       "      <td>7</td>\n",
       "      <td>petrol</td>\n",
       "      <td>...</td>\n",
       "      <td>2016-03-25 16:47:58</td>\n",
       "      <td>166.0</td>\n",
       "      <td>38.0</td>\n",
       "      <td>4</td>\n",
       "      <td>1</td>\n",
       "      <td>6</td>\n",
       "      <td>0</td>\n",
       "      <td>sedan</td>\n",
       "      <td>manual</td>\n",
       "      <td>petrol</td>\n",
       "    </tr>\n",
       "    <tr>\n",
       "      <th>8</th>\n",
       "      <td>2016-04-04 23:42:13</td>\n",
       "      <td>14500</td>\n",
       "      <td>bus</td>\n",
       "      <td>2014</td>\n",
       "      <td>manual</td>\n",
       "      <td>125</td>\n",
       "      <td>c_max</td>\n",
       "      <td>30000</td>\n",
       "      <td>8</td>\n",
       "      <td>petrol</td>\n",
       "      <td>...</td>\n",
       "      <td>2016-04-04 23:42:13</td>\n",
       "      <td>60.0</td>\n",
       "      <td>10.0</td>\n",
       "      <td>0</td>\n",
       "      <td>1</td>\n",
       "      <td>6</td>\n",
       "      <td>1</td>\n",
       "      <td>bus</td>\n",
       "      <td>manual</td>\n",
       "      <td>petrol</td>\n",
       "    </tr>\n",
       "    <tr>\n",
       "      <th>9</th>\n",
       "      <td>2016-03-17 10:53:50</td>\n",
       "      <td>999</td>\n",
       "      <td>small</td>\n",
       "      <td>1998</td>\n",
       "      <td>manual</td>\n",
       "      <td>101</td>\n",
       "      <td>golf</td>\n",
       "      <td>150000</td>\n",
       "      <td>0</td>\n",
       "      <td>unknow</td>\n",
       "      <td>...</td>\n",
       "      <td>2016-03-31 17:17:06</td>\n",
       "      <td>116.0</td>\n",
       "      <td>38.0</td>\n",
       "      <td>5</td>\n",
       "      <td>1</td>\n",
       "      <td>6</td>\n",
       "      <td>1</td>\n",
       "      <td>small</td>\n",
       "      <td>manual</td>\n",
       "      <td>petrol</td>\n",
       "    </tr>\n",
       "  </tbody>\n",
       "</table>\n",
       "<p>10 rows × 24 columns</p>\n",
       "</div>"
      ],
      "text/plain": [
       "          DateCrawled  Price  VehicleType  RegistrationYear Gearbox  Power  \\\n",
       "0 2016-03-24 11:52:17    480       unknow              1993  manual      0   \n",
       "1 2016-03-24 10:58:45  18300        coupe              2011  manual    190   \n",
       "2 2016-03-14 12:52:21   9800          suv              2004    auto    163   \n",
       "3 2016-03-17 16:54:04   1500        small              2001  manual     75   \n",
       "4 2016-03-31 17:25:20   3600        small              2008  manual     69   \n",
       "5 2016-04-04 17:36:23    650        sedan              1995  manual    102   \n",
       "6 2016-04-01 20:48:51   2200  convertible              2004  manual    109   \n",
       "7 2016-03-21 18:54:38      0        sedan              1980  manual     50   \n",
       "8 2016-04-04 23:42:13  14500          bus              2014  manual    125   \n",
       "9 2016-03-17 10:53:50    999        small              1998  manual    101   \n",
       "\n",
       "     Model  Kilometer  RegistrationMonth  FuelType  ...            LastSeen  \\\n",
       "0     golf     150000                  0    petrol  ... 2016-04-07 03:16:57   \n",
       "1   unknow     125000                  5  gasoline  ... 2016-04-07 01:46:50   \n",
       "2    grand     125000                  8  gasoline  ... 2016-04-05 12:47:46   \n",
       "3     golf     150000                  6    petrol  ... 2016-03-17 17:40:17   \n",
       "4    fabia      90000                  7  gasoline  ... 2016-04-06 10:17:21   \n",
       "5      3er     150000                 10    petrol  ... 2016-04-06 19:17:07   \n",
       "6  2_reihe     150000                  8    petrol  ... 2016-04-05 18:18:39   \n",
       "7    other      40000                  7    petrol  ... 2016-03-25 16:47:58   \n",
       "8    c_max      30000                  8    petrol  ... 2016-04-04 23:42:13   \n",
       "9     golf     150000                  0    unknow  ... 2016-03-31 17:17:06   \n",
       "\n",
       "  Model_code Brand_code  VehicleType_code Gearbox_code  FuelType_code  \\\n",
       "0      116.0       38.0                 4            1              6   \n",
       "1      228.0        1.0                 2            1              2   \n",
       "2      117.0       14.0                 6            0              2   \n",
       "3      116.0       38.0                 5            1              6   \n",
       "4      101.0       31.0                 5            1              2   \n",
       "5       11.0        2.0                 4            1              6   \n",
       "6        8.0       25.0                 1            1              6   \n",
       "7      166.0       38.0                 4            1              6   \n",
       "8       60.0       10.0                 0            1              6   \n",
       "9      116.0       38.0                 5            1              6   \n",
       "\n",
       "   NotRepaired_code  VehicleType_str  Gearbox_str  FuelType_str  \n",
       "0                 1            sedan       manual        petrol  \n",
       "1                 1            coupe       manual      gasoline  \n",
       "2                 1              suv         auto      gasoline  \n",
       "3                 0            small       manual        petrol  \n",
       "4                 0            small       manual      gasoline  \n",
       "5                 1            sedan       manual        petrol  \n",
       "6                 0      convertible       manual        petrol  \n",
       "7                 0            sedan       manual        petrol  \n",
       "8                 1              bus       manual        petrol  \n",
       "9                 1            small       manual        petrol  \n",
       "\n",
       "[10 rows x 24 columns]"
      ]
     },
     "metadata": {},
     "output_type": "display_data"
    }
   ],
   "source": [
    "display(data.head(10))"
   ]
  },
  {
   "cell_type": "markdown",
   "metadata": {},
   "source": [
    "Посмотрим на выбросы в данных."
   ]
  },
  {
   "cell_type": "code",
   "execution_count": 23,
   "metadata": {},
   "outputs": [
    {
     "data": {
      "image/png": "[encoded data removed]",
      "text/plain": [
       "<Figure size 720x576 with 3 Axes>"
      ]
     },
     "metadata": {
      "needs_background": "light"
     },
     "output_type": "display_data"
    }
   ],
   "source": [
    "fig, ax = plt.subplots(3,1)\n",
    "\n",
    "sns.boxplot(x=data['Price'], ax=ax[0])\n",
    "ax[0].set(xlabel = '', ylabel = 'Price')\n",
    "\n",
    "sns.boxplot(x=data['RegistrationYear'], ax=ax[1])\n",
    "ax[1].set(xlabel = '', ylabel = 'RegistrationYear')\n",
    "\n",
    "sns.boxplot(x=data['Power'], ax=ax[2])\n",
    "ax[2].set(xlabel = '', ylabel = 'Power')\n",
    "\n",
    "fig.set_figwidth(10)\n",
    "fig.set_figheight(8)\n",
    "fig.suptitle('Размах ключевых признаков для Региона №1', fontsize = 15)\n",
    "\n",
    "plt.show()"
   ]
  },
  {
   "cell_type": "markdown",
   "metadata": {},
   "source": [
    "Найдем процент выбросов от общих данных."
   ]
  },
  {
   "cell_type": "code",
   "execution_count": 24,
   "metadata": {},
   "outputs": [
    {
     "data": {
      "text/html": [
       "<div>\n",
       "<style scoped>\n",
       "    .dataframe tbody tr th:only-of-type {\n",
       "        vertical-align: middle;\n",
       "    }\n",
       "\n",
       "    .dataframe tbody tr th {\n",
       "        vertical-align: top;\n",
       "    }\n",
       "\n",
       "    .dataframe thead th {\n",
       "        text-align: right;\n",
       "    }\n",
       "</style>\n",
       "<table border=\"1\" class=\"dataframe\">\n",
       "  <thead>\n",
       "    <tr style=\"text-align: right;\">\n",
       "      <th></th>\n",
       "      <th>DateCrawled</th>\n",
       "      <th>Price</th>\n",
       "      <th>VehicleType</th>\n",
       "      <th>RegistrationYear</th>\n",
       "      <th>Gearbox</th>\n",
       "      <th>Power</th>\n",
       "      <th>Model</th>\n",
       "      <th>Kilometer</th>\n",
       "      <th>RegistrationMonth</th>\n",
       "      <th>FuelType</th>\n",
       "      <th>...</th>\n",
       "      <th>LastSeen</th>\n",
       "      <th>Model_code</th>\n",
       "      <th>Brand_code</th>\n",
       "      <th>VehicleType_code</th>\n",
       "      <th>Gearbox_code</th>\n",
       "      <th>FuelType_code</th>\n",
       "      <th>NotRepaired_code</th>\n",
       "      <th>VehicleType_str</th>\n",
       "      <th>Gearbox_str</th>\n",
       "      <th>FuelType_str</th>\n",
       "    </tr>\n",
       "  </thead>\n",
       "  <tbody>\n",
       "  </tbody>\n",
       "</table>\n",
       "<p>0 rows × 24 columns</p>\n",
       "</div>"
      ],
      "text/plain": [
       "Empty DataFrame\n",
       "Columns: [DateCrawled, Price, VehicleType, RegistrationYear, Gearbox, Power, Model, Kilometer, RegistrationMonth, FuelType, Brand, NotRepaired, DateCreated, PostalCode, LastSeen, Model_code, Brand_code, VehicleType_code, Gearbox_code, FuelType_code, NotRepaired_code, VehicleType_str, Gearbox_str, FuelType_str]\n",
       "Index: []\n",
       "\n",
       "[0 rows x 24 columns]"
      ]
     },
     "metadata": {},
     "output_type": "display_data"
    }
   ],
   "source": [
    "data = data.drop(data[data['DateCrawled'].dt.year < data['RegistrationYear']].index, axis=0)\n",
    "display(data[data['DateCrawled'].dt.year < data['RegistrationYear']])"
   ]
  },
  {
   "cell_type": "markdown",
   "metadata": {},
   "source": [
    "Отбросим значения в цене меньше 50."
   ]
  },
  {
   "cell_type": "code",
   "execution_count": 25,
   "metadata": {
    "scrolled": false
   },
   "outputs": [
    {
     "data": {
      "text/html": [
       "<div>\n",
       "<style scoped>\n",
       "    .dataframe tbody tr th:only-of-type {\n",
       "        vertical-align: middle;\n",
       "    }\n",
       "\n",
       "    .dataframe tbody tr th {\n",
       "        vertical-align: top;\n",
       "    }\n",
       "\n",
       "    .dataframe thead th {\n",
       "        text-align: right;\n",
       "    }\n",
       "</style>\n",
       "<table border=\"1\" class=\"dataframe\">\n",
       "  <thead>\n",
       "    <tr style=\"text-align: right;\">\n",
       "      <th></th>\n",
       "      <th>DateCrawled</th>\n",
       "      <th>Price</th>\n",
       "      <th>VehicleType</th>\n",
       "      <th>RegistrationYear</th>\n",
       "      <th>Gearbox</th>\n",
       "      <th>Power</th>\n",
       "      <th>Model</th>\n",
       "      <th>Kilometer</th>\n",
       "      <th>RegistrationMonth</th>\n",
       "      <th>FuelType</th>\n",
       "      <th>...</th>\n",
       "      <th>LastSeen</th>\n",
       "      <th>Model_code</th>\n",
       "      <th>Brand_code</th>\n",
       "      <th>VehicleType_code</th>\n",
       "      <th>Gearbox_code</th>\n",
       "      <th>FuelType_code</th>\n",
       "      <th>NotRepaired_code</th>\n",
       "      <th>VehicleType_str</th>\n",
       "      <th>Gearbox_str</th>\n",
       "      <th>FuelType_str</th>\n",
       "    </tr>\n",
       "  </thead>\n",
       "  <tbody>\n",
       "    <tr>\n",
       "      <th>1</th>\n",
       "      <td>2016-03-24 10:58:45</td>\n",
       "      <td>18300</td>\n",
       "      <td>coupe</td>\n",
       "      <td>2011</td>\n",
       "      <td>manual</td>\n",
       "      <td>190</td>\n",
       "      <td>unknow</td>\n",
       "      <td>125000</td>\n",
       "      <td>5</td>\n",
       "      <td>gasoline</td>\n",
       "      <td>...</td>\n",
       "      <td>2016-04-07 01:46:50</td>\n",
       "      <td>228.0</td>\n",
       "      <td>1.0</td>\n",
       "      <td>2</td>\n",
       "      <td>1</td>\n",
       "      <td>2</td>\n",
       "      <td>1</td>\n",
       "      <td>coupe</td>\n",
       "      <td>manual</td>\n",
       "      <td>gasoline</td>\n",
       "    </tr>\n",
       "    <tr>\n",
       "      <th>2</th>\n",
       "      <td>2016-03-14 12:52:21</td>\n",
       "      <td>9800</td>\n",
       "      <td>suv</td>\n",
       "      <td>2004</td>\n",
       "      <td>auto</td>\n",
       "      <td>163</td>\n",
       "      <td>grand</td>\n",
       "      <td>125000</td>\n",
       "      <td>8</td>\n",
       "      <td>gasoline</td>\n",
       "      <td>...</td>\n",
       "      <td>2016-04-05 12:47:46</td>\n",
       "      <td>117.0</td>\n",
       "      <td>14.0</td>\n",
       "      <td>6</td>\n",
       "      <td>0</td>\n",
       "      <td>2</td>\n",
       "      <td>1</td>\n",
       "      <td>suv</td>\n",
       "      <td>auto</td>\n",
       "      <td>gasoline</td>\n",
       "    </tr>\n",
       "    <tr>\n",
       "      <th>3</th>\n",
       "      <td>2016-03-17 16:54:04</td>\n",
       "      <td>1500</td>\n",
       "      <td>small</td>\n",
       "      <td>2001</td>\n",
       "      <td>manual</td>\n",
       "      <td>75</td>\n",
       "      <td>golf</td>\n",
       "      <td>150000</td>\n",
       "      <td>6</td>\n",
       "      <td>petrol</td>\n",
       "      <td>...</td>\n",
       "      <td>2016-03-17 17:40:17</td>\n",
       "      <td>116.0</td>\n",
       "      <td>38.0</td>\n",
       "      <td>5</td>\n",
       "      <td>1</td>\n",
       "      <td>6</td>\n",
       "      <td>0</td>\n",
       "      <td>small</td>\n",
       "      <td>manual</td>\n",
       "      <td>petrol</td>\n",
       "    </tr>\n",
       "    <tr>\n",
       "      <th>4</th>\n",
       "      <td>2016-03-31 17:25:20</td>\n",
       "      <td>3600</td>\n",
       "      <td>small</td>\n",
       "      <td>2008</td>\n",
       "      <td>manual</td>\n",
       "      <td>69</td>\n",
       "      <td>fabia</td>\n",
       "      <td>90000</td>\n",
       "      <td>7</td>\n",
       "      <td>gasoline</td>\n",
       "      <td>...</td>\n",
       "      <td>2016-04-06 10:17:21</td>\n",
       "      <td>101.0</td>\n",
       "      <td>31.0</td>\n",
       "      <td>5</td>\n",
       "      <td>1</td>\n",
       "      <td>2</td>\n",
       "      <td>0</td>\n",
       "      <td>small</td>\n",
       "      <td>manual</td>\n",
       "      <td>gasoline</td>\n",
       "    </tr>\n",
       "    <tr>\n",
       "      <th>5</th>\n",
       "      <td>2016-04-04 17:36:23</td>\n",
       "      <td>650</td>\n",
       "      <td>sedan</td>\n",
       "      <td>1995</td>\n",
       "      <td>manual</td>\n",
       "      <td>102</td>\n",
       "      <td>3er</td>\n",
       "      <td>150000</td>\n",
       "      <td>10</td>\n",
       "      <td>petrol</td>\n",
       "      <td>...</td>\n",
       "      <td>2016-04-06 19:17:07</td>\n",
       "      <td>11.0</td>\n",
       "      <td>2.0</td>\n",
       "      <td>4</td>\n",
       "      <td>1</td>\n",
       "      <td>6</td>\n",
       "      <td>1</td>\n",
       "      <td>sedan</td>\n",
       "      <td>manual</td>\n",
       "      <td>petrol</td>\n",
       "    </tr>\n",
       "  </tbody>\n",
       "</table>\n",
       "<p>5 rows × 24 columns</p>\n",
       "</div>"
      ],
      "text/plain": [
       "          DateCrawled  Price VehicleType  RegistrationYear Gearbox  Power  \\\n",
       "1 2016-03-24 10:58:45  18300       coupe              2011  manual    190   \n",
       "2 2016-03-14 12:52:21   9800         suv              2004    auto    163   \n",
       "3 2016-03-17 16:54:04   1500       small              2001  manual     75   \n",
       "4 2016-03-31 17:25:20   3600       small              2008  manual     69   \n",
       "5 2016-04-04 17:36:23    650       sedan              1995  manual    102   \n",
       "\n",
       "    Model  Kilometer  RegistrationMonth  FuelType  ...            LastSeen  \\\n",
       "1  unknow     125000                  5  gasoline  ... 2016-04-07 01:46:50   \n",
       "2   grand     125000                  8  gasoline  ... 2016-04-05 12:47:46   \n",
       "3    golf     150000                  6    petrol  ... 2016-03-17 17:40:17   \n",
       "4   fabia      90000                  7  gasoline  ... 2016-04-06 10:17:21   \n",
       "5     3er     150000                 10    petrol  ... 2016-04-06 19:17:07   \n",
       "\n",
       "  Model_code Brand_code  VehicleType_code Gearbox_code  FuelType_code  \\\n",
       "1      228.0        1.0                 2            1              2   \n",
       "2      117.0       14.0                 6            0              2   \n",
       "3      116.0       38.0                 5            1              6   \n",
       "4      101.0       31.0                 5            1              2   \n",
       "5       11.0        2.0                 4            1              6   \n",
       "\n",
       "   NotRepaired_code  VehicleType_str  Gearbox_str  FuelType_str  \n",
       "1                 1            coupe       manual      gasoline  \n",
       "2                 1              suv         auto      gasoline  \n",
       "3                 0            small       manual        petrol  \n",
       "4                 0            small       manual      gasoline  \n",
       "5                 1            sedan       manual        petrol  \n",
       "\n",
       "[5 rows x 24 columns]"
      ]
     },
     "metadata": {},
     "output_type": "display_data"
    }
   ],
   "source": [
    "data = data[data['Price'] > 50]\n",
    "data = data[data['Power'] > 0]\n",
    "display(data.head())"
   ]
  },
  {
   "cell_type": "code",
   "execution_count": 26,
   "metadata": {},
   "outputs": [
    {
     "data": {
      "text/plain": [
       "features\n",
       "Power               0.021343\n",
       "Price               0.046216\n",
       "RegistrationYear    0.015227\n",
       "Name: percent, dtype: float64"
      ]
     },
     "metadata": {},
     "output_type": "display_data"
    }
   ],
   "source": [
    "columns_features = ['Price', 'RegistrationYear', 'Power']\n",
    "outliers = []\n",
    "count = 0\n",
    "\n",
    "for i in columns_features:\n",
    "\n",
    "    lower_mustache = data[i].quantile(0.25) - 1.5 * (data[i].quantile(0.75) - data[i].quantile(0.25))\n",
    "    upper_mustache = data[i].quantile(0.75) + 1.5 * (data[i].quantile(0.75) - data[i].quantile(0.25))\n",
    "    sum_count = len(data.query('@data[@i] < @lower_mustache | @data[@i] > @upper_mustache').index)\n",
    "    percent = sum_count / len(data[i])\n",
    "\n",
    "    outliers.append([])\n",
    "    \n",
    "    outliers[count].append(i) \n",
    "    outliers[count].append(lower_mustache)\n",
    "    outliers[count].append(upper_mustache)\n",
    "    outliers[count].append(sum_count)\n",
    "    outliers[count].append(percent)\n",
    "    count += 1\n",
    "       \n",
    "columns = ['features', 'lower_mustache', 'upper_mustache', 'sum_count', 'percent']\n",
    "\n",
    "data_outliers = pd.DataFrame(outliers, columns=columns).groupby('features')['percent'].sum()\n",
    "display(data_outliers)"
   ]
  },
  {
   "cell_type": "markdown",
   "metadata": {},
   "source": [
    "Выбросов не так много, а самих данных достаточно для построения модели, поэтому удалим выбросы."
   ]
  },
  {
   "cell_type": "code",
   "execution_count": 27,
   "metadata": {
    "scrolled": false
   },
   "outputs": [
    {
     "name": "stdout",
     "output_type": "stream",
     "text": [
      "<class 'pandas.core.frame.DataFrame'>\n",
      "Int64Index: 289662 entries, 1 to 354368\n",
      "Data columns (total 24 columns):\n",
      " #   Column             Non-Null Count   Dtype         \n",
      "---  ------             --------------   -----         \n",
      " 0   DateCrawled        289662 non-null  datetime64[ns]\n",
      " 1   Price              289662 non-null  int64         \n",
      " 2   VehicleType        289662 non-null  object        \n",
      " 3   RegistrationYear   289662 non-null  int64         \n",
      " 4   Gearbox            289662 non-null  object        \n",
      " 5   Power              289662 non-null  int64         \n",
      " 6   Model              289662 non-null  object        \n",
      " 7   Kilometer          289662 non-null  int64         \n",
      " 8   RegistrationMonth  289662 non-null  int64         \n",
      " 9   FuelType           289662 non-null  object        \n",
      " 10  Brand              289662 non-null  object        \n",
      " 11  NotRepaired        289662 non-null  object        \n",
      " 12  DateCreated        289662 non-null  datetime64[ns]\n",
      " 13  PostalCode         289662 non-null  int64         \n",
      " 14  LastSeen           289662 non-null  datetime64[ns]\n",
      " 15  Model_code         289662 non-null  float64       \n",
      " 16  Brand_code         289662 non-null  float64       \n",
      " 17  VehicleType_code   289662 non-null  int64         \n",
      " 18  Gearbox_code       289662 non-null  int64         \n",
      " 19  FuelType_code      289662 non-null  int64         \n",
      " 20  NotRepaired_code   289662 non-null  int64         \n",
      " 21  VehicleType_str    289662 non-null  object        \n",
      " 22  Gearbox_str        289662 non-null  object        \n",
      " 23  FuelType_str       289662 non-null  object        \n",
      "dtypes: datetime64[ns](3), float64(2), int64(10), object(9)\n",
      "memory usage: 55.2+ MB\n"
     ]
    }
   ],
   "source": [
    "for j in columns_features:\n",
    "    lower_mustache = data[j].quantile(0.25) - 1.5 * (data[j].quantile(0.75) - data[j].quantile(0.25))\n",
    "    upper_mustache = data[j].quantile(0.75) + 1.5 * (data[j].quantile(0.75) - data[j].quantile(0.25))\n",
    "    drop = data.query('@data[@j] < @lower_mustache | @data[@j] > @upper_mustache')\n",
    "    data_learn = data.drop(drop.index)\n",
    "data_learn.info()"
   ]
  },
  {
   "cell_type": "markdown",
   "metadata": {},
   "source": [
    "В данных есть не информативные столбцы для обучения модели - на цену сильно не влияют дата скачивания анкеты из базы, почтовый индекс, дата последней активности. Также удалим столбцы, которые мы ранее закодировали."
   ]
  },
  {
   "cell_type": "code",
   "execution_count": 28,
   "metadata": {
    "scrolled": false
   },
   "outputs": [
    {
     "data": {
      "text/html": [
       "<div>\n",
       "<style scoped>\n",
       "    .dataframe tbody tr th:only-of-type {\n",
       "        vertical-align: middle;\n",
       "    }\n",
       "\n",
       "    .dataframe tbody tr th {\n",
       "        vertical-align: top;\n",
       "    }\n",
       "\n",
       "    .dataframe thead th {\n",
       "        text-align: right;\n",
       "    }\n",
       "</style>\n",
       "<table border=\"1\" class=\"dataframe\">\n",
       "  <thead>\n",
       "    <tr style=\"text-align: right;\">\n",
       "      <th></th>\n",
       "      <th>Price</th>\n",
       "      <th>RegistrationYear</th>\n",
       "      <th>Power</th>\n",
       "      <th>Model</th>\n",
       "      <th>Kilometer</th>\n",
       "      <th>RegistrationMonth</th>\n",
       "      <th>Brand</th>\n",
       "      <th>NotRepaired</th>\n",
       "      <th>Model_code</th>\n",
       "      <th>Brand_code</th>\n",
       "      <th>VehicleType_code</th>\n",
       "      <th>Gearbox_code</th>\n",
       "      <th>FuelType_code</th>\n",
       "      <th>NotRepaired_code</th>\n",
       "      <th>VehicleType_str</th>\n",
       "      <th>Gearbox_str</th>\n",
       "      <th>FuelType_str</th>\n",
       "    </tr>\n",
       "  </thead>\n",
       "  <tbody>\n",
       "    <tr>\n",
       "      <th>1</th>\n",
       "      <td>18300</td>\n",
       "      <td>2011</td>\n",
       "      <td>190</td>\n",
       "      <td>unknow</td>\n",
       "      <td>125000</td>\n",
       "      <td>5</td>\n",
       "      <td>audi</td>\n",
       "      <td>yes</td>\n",
       "      <td>228.0</td>\n",
       "      <td>1.0</td>\n",
       "      <td>2</td>\n",
       "      <td>1</td>\n",
       "      <td>2</td>\n",
       "      <td>1</td>\n",
       "      <td>coupe</td>\n",
       "      <td>manual</td>\n",
       "      <td>gasoline</td>\n",
       "    </tr>\n",
       "    <tr>\n",
       "      <th>2</th>\n",
       "      <td>9800</td>\n",
       "      <td>2004</td>\n",
       "      <td>163</td>\n",
       "      <td>grand</td>\n",
       "      <td>125000</td>\n",
       "      <td>8</td>\n",
       "      <td>jeep</td>\n",
       "      <td>yes</td>\n",
       "      <td>117.0</td>\n",
       "      <td>14.0</td>\n",
       "      <td>6</td>\n",
       "      <td>0</td>\n",
       "      <td>2</td>\n",
       "      <td>1</td>\n",
       "      <td>suv</td>\n",
       "      <td>auto</td>\n",
       "      <td>gasoline</td>\n",
       "    </tr>\n",
       "    <tr>\n",
       "      <th>3</th>\n",
       "      <td>1500</td>\n",
       "      <td>2001</td>\n",
       "      <td>75</td>\n",
       "      <td>golf</td>\n",
       "      <td>150000</td>\n",
       "      <td>6</td>\n",
       "      <td>volkswagen</td>\n",
       "      <td>no</td>\n",
       "      <td>116.0</td>\n",
       "      <td>38.0</td>\n",
       "      <td>5</td>\n",
       "      <td>1</td>\n",
       "      <td>6</td>\n",
       "      <td>0</td>\n",
       "      <td>small</td>\n",
       "      <td>manual</td>\n",
       "      <td>petrol</td>\n",
       "    </tr>\n",
       "    <tr>\n",
       "      <th>4</th>\n",
       "      <td>3600</td>\n",
       "      <td>2008</td>\n",
       "      <td>69</td>\n",
       "      <td>fabia</td>\n",
       "      <td>90000</td>\n",
       "      <td>7</td>\n",
       "      <td>skoda</td>\n",
       "      <td>no</td>\n",
       "      <td>101.0</td>\n",
       "      <td>31.0</td>\n",
       "      <td>5</td>\n",
       "      <td>1</td>\n",
       "      <td>2</td>\n",
       "      <td>0</td>\n",
       "      <td>small</td>\n",
       "      <td>manual</td>\n",
       "      <td>gasoline</td>\n",
       "    </tr>\n",
       "    <tr>\n",
       "      <th>5</th>\n",
       "      <td>650</td>\n",
       "      <td>1995</td>\n",
       "      <td>102</td>\n",
       "      <td>3er</td>\n",
       "      <td>150000</td>\n",
       "      <td>10</td>\n",
       "      <td>bmw</td>\n",
       "      <td>yes</td>\n",
       "      <td>11.0</td>\n",
       "      <td>2.0</td>\n",
       "      <td>4</td>\n",
       "      <td>1</td>\n",
       "      <td>6</td>\n",
       "      <td>1</td>\n",
       "      <td>sedan</td>\n",
       "      <td>manual</td>\n",
       "      <td>petrol</td>\n",
       "    </tr>\n",
       "  </tbody>\n",
       "</table>\n",
       "</div>"
      ],
      "text/plain": [
       "   Price  RegistrationYear  Power   Model  Kilometer  RegistrationMonth  \\\n",
       "1  18300              2011    190  unknow     125000                  5   \n",
       "2   9800              2004    163   grand     125000                  8   \n",
       "3   1500              2001     75    golf     150000                  6   \n",
       "4   3600              2008     69   fabia      90000                  7   \n",
       "5    650              1995    102     3er     150000                 10   \n",
       "\n",
       "        Brand NotRepaired  Model_code  Brand_code  VehicleType_code  \\\n",
       "1        audi         yes       228.0         1.0                 2   \n",
       "2        jeep         yes       117.0        14.0                 6   \n",
       "3  volkswagen          no       116.0        38.0                 5   \n",
       "4       skoda          no       101.0        31.0                 5   \n",
       "5         bmw         yes        11.0         2.0                 4   \n",
       "\n",
       "   Gearbox_code  FuelType_code  NotRepaired_code VehicleType_str Gearbox_str  \\\n",
       "1             1              2                 1           coupe      manual   \n",
       "2             0              2                 1             suv        auto   \n",
       "3             1              6                 0           small      manual   \n",
       "4             1              2                 0           small      manual   \n",
       "5             1              6                 1           sedan      manual   \n",
       "\n",
       "  FuelType_str  \n",
       "1     gasoline  \n",
       "2     gasoline  \n",
       "3       petrol  \n",
       "4     gasoline  \n",
       "5       petrol  "
      ]
     },
     "metadata": {},
     "output_type": "display_data"
    }
   ],
   "source": [
    "data_learn = data_learn.drop(columns=[\n",
    "    'DateCrawled', \n",
    "    'VehicleType', \n",
    "    'Gearbox',\n",
    "    'FuelType',\n",
    "    'DateCreated',\n",
    "    'PostalCode', \n",
    "    'LastSeen'], axis=1)\n",
    "display(data_learn.head())"
   ]
  },
  {
   "cell_type": "code",
   "execution_count": 29,
   "metadata": {},
   "outputs": [
    {
     "name": "stdout",
     "output_type": "stream",
     "text": [
      "<class 'pandas.core.frame.DataFrame'>\n",
      "Int64Index: 289662 entries, 1 to 354368\n",
      "Data columns (total 17 columns):\n",
      " #   Column             Non-Null Count   Dtype  \n",
      "---  ------             --------------   -----  \n",
      " 0   Price              289662 non-null  int64  \n",
      " 1   RegistrationYear   289662 non-null  int64  \n",
      " 2   Power              289662 non-null  int64  \n",
      " 3   Model              289662 non-null  object \n",
      " 4   Kilometer          289662 non-null  int64  \n",
      " 5   RegistrationMonth  289662 non-null  int64  \n",
      " 6   Brand              289662 non-null  object \n",
      " 7   NotRepaired        289662 non-null  object \n",
      " 8   Model_code         289662 non-null  float64\n",
      " 9   Brand_code         289662 non-null  float64\n",
      " 10  VehicleType_code   289662 non-null  int64  \n",
      " 11  Gearbox_code       289662 non-null  int64  \n",
      " 12  FuelType_code      289662 non-null  int64  \n",
      " 13  NotRepaired_code   289662 non-null  int64  \n",
      " 14  VehicleType_str    289662 non-null  object \n",
      " 15  Gearbox_str        289662 non-null  object \n",
      " 16  FuelType_str       289662 non-null  object \n",
      "dtypes: float64(2), int64(9), object(6)\n",
      "memory usage: 39.8+ MB\n"
     ]
    }
   ],
   "source": [
    "data_learn.info()"
   ]
  },
  {
   "cell_type": "code",
   "execution_count": 30,
   "metadata": {},
   "outputs": [
    {
     "data": {
      "text/html": [
       "<div>\n",
       "<style scoped>\n",
       "    .dataframe tbody tr th:only-of-type {\n",
       "        vertical-align: middle;\n",
       "    }\n",
       "\n",
       "    .dataframe tbody tr th {\n",
       "        vertical-align: top;\n",
       "    }\n",
       "\n",
       "    .dataframe thead th {\n",
       "        text-align: right;\n",
       "    }\n",
       "</style>\n",
       "<table border=\"1\" class=\"dataframe\">\n",
       "  <thead>\n",
       "    <tr style=\"text-align: right;\">\n",
       "      <th></th>\n",
       "      <th>Price</th>\n",
       "      <th>RegistrationYear</th>\n",
       "      <th>Power</th>\n",
       "      <th>Model</th>\n",
       "      <th>Kilometer</th>\n",
       "      <th>RegistrationMonth</th>\n",
       "      <th>Brand</th>\n",
       "      <th>NotRepaired</th>\n",
       "      <th>VehicleType_str</th>\n",
       "      <th>Gearbox_str</th>\n",
       "      <th>FuelType_str</th>\n",
       "    </tr>\n",
       "  </thead>\n",
       "  <tbody>\n",
       "    <tr>\n",
       "      <th>1</th>\n",
       "      <td>18300</td>\n",
       "      <td>2011</td>\n",
       "      <td>190</td>\n",
       "      <td>unknow</td>\n",
       "      <td>125000</td>\n",
       "      <td>5</td>\n",
       "      <td>audi</td>\n",
       "      <td>yes</td>\n",
       "      <td>coupe</td>\n",
       "      <td>manual</td>\n",
       "      <td>gasoline</td>\n",
       "    </tr>\n",
       "    <tr>\n",
       "      <th>2</th>\n",
       "      <td>9800</td>\n",
       "      <td>2004</td>\n",
       "      <td>163</td>\n",
       "      <td>grand</td>\n",
       "      <td>125000</td>\n",
       "      <td>8</td>\n",
       "      <td>jeep</td>\n",
       "      <td>yes</td>\n",
       "      <td>suv</td>\n",
       "      <td>auto</td>\n",
       "      <td>gasoline</td>\n",
       "    </tr>\n",
       "    <tr>\n",
       "      <th>3</th>\n",
       "      <td>1500</td>\n",
       "      <td>2001</td>\n",
       "      <td>75</td>\n",
       "      <td>golf</td>\n",
       "      <td>150000</td>\n",
       "      <td>6</td>\n",
       "      <td>volkswagen</td>\n",
       "      <td>no</td>\n",
       "      <td>small</td>\n",
       "      <td>manual</td>\n",
       "      <td>petrol</td>\n",
       "    </tr>\n",
       "    <tr>\n",
       "      <th>4</th>\n",
       "      <td>3600</td>\n",
       "      <td>2008</td>\n",
       "      <td>69</td>\n",
       "      <td>fabia</td>\n",
       "      <td>90000</td>\n",
       "      <td>7</td>\n",
       "      <td>skoda</td>\n",
       "      <td>no</td>\n",
       "      <td>small</td>\n",
       "      <td>manual</td>\n",
       "      <td>gasoline</td>\n",
       "    </tr>\n",
       "    <tr>\n",
       "      <th>5</th>\n",
       "      <td>650</td>\n",
       "      <td>1995</td>\n",
       "      <td>102</td>\n",
       "      <td>3er</td>\n",
       "      <td>150000</td>\n",
       "      <td>10</td>\n",
       "      <td>bmw</td>\n",
       "      <td>yes</td>\n",
       "      <td>sedan</td>\n",
       "      <td>manual</td>\n",
       "      <td>petrol</td>\n",
       "    </tr>\n",
       "  </tbody>\n",
       "</table>\n",
       "</div>"
      ],
      "text/plain": [
       "   Price  RegistrationYear  Power   Model  Kilometer  RegistrationMonth  \\\n",
       "1  18300              2011    190  unknow     125000                  5   \n",
       "2   9800              2004    163   grand     125000                  8   \n",
       "3   1500              2001     75    golf     150000                  6   \n",
       "4   3600              2008     69   fabia      90000                  7   \n",
       "5    650              1995    102     3er     150000                 10   \n",
       "\n",
       "        Brand NotRepaired VehicleType_str Gearbox_str FuelType_str  \n",
       "1        audi         yes           coupe      manual     gasoline  \n",
       "2        jeep         yes             suv        auto     gasoline  \n",
       "3  volkswagen          no           small      manual       petrol  \n",
       "4       skoda          no           small      manual     gasoline  \n",
       "5         bmw         yes           sedan      manual       petrol  "
      ]
     },
     "metadata": {},
     "output_type": "display_data"
    }
   ],
   "source": [
    "data_boost = data_learn.drop(columns=[\n",
    "    'Model_code',\n",
    "    'Brand_code',\n",
    "    'NotRepaired_code',\n",
    "    'FuelType_code',\n",
    "    'VehicleType_code',\n",
    "    'Gearbox_code',\n",
    "    'FuelType_code'], axis=1)\n",
    "display(data_boost.head())"
   ]
  },
  {
   "cell_type": "code",
   "execution_count": 31,
   "metadata": {},
   "outputs": [
    {
     "name": "stdout",
     "output_type": "stream",
     "text": [
      "<class 'pandas.core.frame.DataFrame'>\n",
      "Int64Index: 289662 entries, 1 to 354368\n",
      "Data columns (total 11 columns):\n",
      " #   Column             Non-Null Count   Dtype   \n",
      "---  ------             --------------   -----   \n",
      " 0   Price              289662 non-null  int64   \n",
      " 1   RegistrationYear   289662 non-null  int64   \n",
      " 2   Power              289662 non-null  int64   \n",
      " 3   Model              289662 non-null  category\n",
      " 4   Kilometer          289662 non-null  int64   \n",
      " 5   RegistrationMonth  289662 non-null  int64   \n",
      " 6   Brand              289662 non-null  category\n",
      " 7   NotRepaired        289662 non-null  category\n",
      " 8   VehicleType_str    289662 non-null  category\n",
      " 9   Gearbox_str        289662 non-null  category\n",
      " 10  FuelType_str       289662 non-null  category\n",
      "dtypes: category(6), int64(5)\n",
      "memory usage: 15.2 MB\n"
     ]
    }
   ],
   "source": [
    "data_boost = data_boost.astype({'Model':'category',\n",
    "           'Brand':'category', \n",
    "           'NotRepaired':'category', \n",
    "           'VehicleType_str':'category',\n",
    "           'Gearbox_str':'category', \n",
    "           'FuelType_str':'category'})\n",
    "data_boost.info()"
   ]
  },
  {
   "cell_type": "code",
   "execution_count": 32,
   "metadata": {},
   "outputs": [
    {
     "data": {
      "text/html": [
       "<div>\n",
       "<style scoped>\n",
       "    .dataframe tbody tr th:only-of-type {\n",
       "        vertical-align: middle;\n",
       "    }\n",
       "\n",
       "    .dataframe tbody tr th {\n",
       "        vertical-align: top;\n",
       "    }\n",
       "\n",
       "    .dataframe thead th {\n",
       "        text-align: right;\n",
       "    }\n",
       "</style>\n",
       "<table border=\"1\" class=\"dataframe\">\n",
       "  <thead>\n",
       "    <tr style=\"text-align: right;\">\n",
       "      <th></th>\n",
       "      <th>Price</th>\n",
       "      <th>RegistrationYear</th>\n",
       "      <th>Power</th>\n",
       "      <th>Kilometer</th>\n",
       "      <th>RegistrationMonth</th>\n",
       "      <th>Model_145</th>\n",
       "      <th>Model_147</th>\n",
       "      <th>Model_156</th>\n",
       "      <th>Model_159</th>\n",
       "      <th>Model_1_reihe</th>\n",
       "      <th>...</th>\n",
       "      <th>VehicleType_str_small</th>\n",
       "      <th>VehicleType_str_suv</th>\n",
       "      <th>VehicleType_str_wagon</th>\n",
       "      <th>Gearbox_str_manual</th>\n",
       "      <th>FuelType_str_electric</th>\n",
       "      <th>FuelType_str_gasoline</th>\n",
       "      <th>FuelType_str_hybrid</th>\n",
       "      <th>FuelType_str_lpg</th>\n",
       "      <th>FuelType_str_other</th>\n",
       "      <th>FuelType_str_petrol</th>\n",
       "    </tr>\n",
       "  </thead>\n",
       "  <tbody>\n",
       "    <tr>\n",
       "      <th>1</th>\n",
       "      <td>18300</td>\n",
       "      <td>2011</td>\n",
       "      <td>190</td>\n",
       "      <td>125000</td>\n",
       "      <td>5</td>\n",
       "      <td>0</td>\n",
       "      <td>0</td>\n",
       "      <td>0</td>\n",
       "      <td>0</td>\n",
       "      <td>0</td>\n",
       "      <td>...</td>\n",
       "      <td>0</td>\n",
       "      <td>0</td>\n",
       "      <td>0</td>\n",
       "      <td>1</td>\n",
       "      <td>0</td>\n",
       "      <td>1</td>\n",
       "      <td>0</td>\n",
       "      <td>0</td>\n",
       "      <td>0</td>\n",
       "      <td>0</td>\n",
       "    </tr>\n",
       "    <tr>\n",
       "      <th>2</th>\n",
       "      <td>9800</td>\n",
       "      <td>2004</td>\n",
       "      <td>163</td>\n",
       "      <td>125000</td>\n",
       "      <td>8</td>\n",
       "      <td>0</td>\n",
       "      <td>0</td>\n",
       "      <td>0</td>\n",
       "      <td>0</td>\n",
       "      <td>0</td>\n",
       "      <td>...</td>\n",
       "      <td>0</td>\n",
       "      <td>1</td>\n",
       "      <td>0</td>\n",
       "      <td>0</td>\n",
       "      <td>0</td>\n",
       "      <td>1</td>\n",
       "      <td>0</td>\n",
       "      <td>0</td>\n",
       "      <td>0</td>\n",
       "      <td>0</td>\n",
       "    </tr>\n",
       "    <tr>\n",
       "      <th>3</th>\n",
       "      <td>1500</td>\n",
       "      <td>2001</td>\n",
       "      <td>75</td>\n",
       "      <td>150000</td>\n",
       "      <td>6</td>\n",
       "      <td>0</td>\n",
       "      <td>0</td>\n",
       "      <td>0</td>\n",
       "      <td>0</td>\n",
       "      <td>0</td>\n",
       "      <td>...</td>\n",
       "      <td>1</td>\n",
       "      <td>0</td>\n",
       "      <td>0</td>\n",
       "      <td>1</td>\n",
       "      <td>0</td>\n",
       "      <td>0</td>\n",
       "      <td>0</td>\n",
       "      <td>0</td>\n",
       "      <td>0</td>\n",
       "      <td>1</td>\n",
       "    </tr>\n",
       "    <tr>\n",
       "      <th>4</th>\n",
       "      <td>3600</td>\n",
       "      <td>2008</td>\n",
       "      <td>69</td>\n",
       "      <td>90000</td>\n",
       "      <td>7</td>\n",
       "      <td>0</td>\n",
       "      <td>0</td>\n",
       "      <td>0</td>\n",
       "      <td>0</td>\n",
       "      <td>0</td>\n",
       "      <td>...</td>\n",
       "      <td>1</td>\n",
       "      <td>0</td>\n",
       "      <td>0</td>\n",
       "      <td>1</td>\n",
       "      <td>0</td>\n",
       "      <td>1</td>\n",
       "      <td>0</td>\n",
       "      <td>0</td>\n",
       "      <td>0</td>\n",
       "      <td>0</td>\n",
       "    </tr>\n",
       "    <tr>\n",
       "      <th>5</th>\n",
       "      <td>650</td>\n",
       "      <td>1995</td>\n",
       "      <td>102</td>\n",
       "      <td>150000</td>\n",
       "      <td>10</td>\n",
       "      <td>0</td>\n",
       "      <td>0</td>\n",
       "      <td>0</td>\n",
       "      <td>0</td>\n",
       "      <td>0</td>\n",
       "      <td>...</td>\n",
       "      <td>0</td>\n",
       "      <td>0</td>\n",
       "      <td>0</td>\n",
       "      <td>1</td>\n",
       "      <td>0</td>\n",
       "      <td>0</td>\n",
       "      <td>0</td>\n",
       "      <td>0</td>\n",
       "      <td>0</td>\n",
       "      <td>1</td>\n",
       "    </tr>\n",
       "  </tbody>\n",
       "</table>\n",
       "<p>5 rows × 307 columns</p>\n",
       "</div>"
      ],
      "text/plain": [
       "   Price  RegistrationYear  Power  Kilometer  RegistrationMonth  Model_145  \\\n",
       "1  18300              2011    190     125000                  5          0   \n",
       "2   9800              2004    163     125000                  8          0   \n",
       "3   1500              2001     75     150000                  6          0   \n",
       "4   3600              2008     69      90000                  7          0   \n",
       "5    650              1995    102     150000                 10          0   \n",
       "\n",
       "   Model_147  Model_156  Model_159  Model_1_reihe  ...  VehicleType_str_small  \\\n",
       "1          0          0          0              0  ...                      0   \n",
       "2          0          0          0              0  ...                      0   \n",
       "3          0          0          0              0  ...                      1   \n",
       "4          0          0          0              0  ...                      1   \n",
       "5          0          0          0              0  ...                      0   \n",
       "\n",
       "   VehicleType_str_suv  VehicleType_str_wagon  Gearbox_str_manual  \\\n",
       "1                    0                      0                   1   \n",
       "2                    1                      0                   0   \n",
       "3                    0                      0                   1   \n",
       "4                    0                      0                   1   \n",
       "5                    0                      0                   1   \n",
       "\n",
       "   FuelType_str_electric  FuelType_str_gasoline  FuelType_str_hybrid  \\\n",
       "1                      0                      1                    0   \n",
       "2                      0                      1                    0   \n",
       "3                      0                      0                    0   \n",
       "4                      0                      1                    0   \n",
       "5                      0                      0                    0   \n",
       "\n",
       "   FuelType_str_lpg  FuelType_str_other  FuelType_str_petrol  \n",
       "1                 0                   0                    0  \n",
       "2                 0                   0                    0  \n",
       "3                 0                   0                    1  \n",
       "4                 0                   0                    0  \n",
       "5                 0                   0                    1  \n",
       "\n",
       "[5 rows x 307 columns]"
      ]
     },
     "metadata": {},
     "output_type": "display_data"
    }
   ],
   "source": [
    "data_linear = pd.get_dummies(data_boost, drop_first=True)\n",
    "display(data_linear.head())"
   ]
  },
  {
   "cell_type": "code",
   "execution_count": 33,
   "metadata": {},
   "outputs": [
    {
     "data": {
      "text/html": [
       "<div>\n",
       "<style scoped>\n",
       "    .dataframe tbody tr th:only-of-type {\n",
       "        vertical-align: middle;\n",
       "    }\n",
       "\n",
       "    .dataframe tbody tr th {\n",
       "        vertical-align: top;\n",
       "    }\n",
       "\n",
       "    .dataframe thead th {\n",
       "        text-align: right;\n",
       "    }\n",
       "</style>\n",
       "<table border=\"1\" class=\"dataframe\">\n",
       "  <thead>\n",
       "    <tr style=\"text-align: right;\">\n",
       "      <th></th>\n",
       "      <th>Price</th>\n",
       "      <th>RegistrationYear</th>\n",
       "      <th>Power</th>\n",
       "      <th>Kilometer</th>\n",
       "      <th>RegistrationMonth</th>\n",
       "      <th>Model_code</th>\n",
       "      <th>Brand_code</th>\n",
       "      <th>VehicleType_code</th>\n",
       "      <th>Gearbox_code</th>\n",
       "      <th>FuelType_code</th>\n",
       "      <th>NotRepaired_code</th>\n",
       "    </tr>\n",
       "  </thead>\n",
       "  <tbody>\n",
       "    <tr>\n",
       "      <th>1</th>\n",
       "      <td>18300</td>\n",
       "      <td>2011</td>\n",
       "      <td>190</td>\n",
       "      <td>125000</td>\n",
       "      <td>5</td>\n",
       "      <td>228.0</td>\n",
       "      <td>1.0</td>\n",
       "      <td>2</td>\n",
       "      <td>1</td>\n",
       "      <td>2</td>\n",
       "      <td>1</td>\n",
       "    </tr>\n",
       "    <tr>\n",
       "      <th>2</th>\n",
       "      <td>9800</td>\n",
       "      <td>2004</td>\n",
       "      <td>163</td>\n",
       "      <td>125000</td>\n",
       "      <td>8</td>\n",
       "      <td>117.0</td>\n",
       "      <td>14.0</td>\n",
       "      <td>6</td>\n",
       "      <td>0</td>\n",
       "      <td>2</td>\n",
       "      <td>1</td>\n",
       "    </tr>\n",
       "    <tr>\n",
       "      <th>3</th>\n",
       "      <td>1500</td>\n",
       "      <td>2001</td>\n",
       "      <td>75</td>\n",
       "      <td>150000</td>\n",
       "      <td>6</td>\n",
       "      <td>116.0</td>\n",
       "      <td>38.0</td>\n",
       "      <td>5</td>\n",
       "      <td>1</td>\n",
       "      <td>6</td>\n",
       "      <td>0</td>\n",
       "    </tr>\n",
       "    <tr>\n",
       "      <th>4</th>\n",
       "      <td>3600</td>\n",
       "      <td>2008</td>\n",
       "      <td>69</td>\n",
       "      <td>90000</td>\n",
       "      <td>7</td>\n",
       "      <td>101.0</td>\n",
       "      <td>31.0</td>\n",
       "      <td>5</td>\n",
       "      <td>1</td>\n",
       "      <td>2</td>\n",
       "      <td>0</td>\n",
       "    </tr>\n",
       "    <tr>\n",
       "      <th>5</th>\n",
       "      <td>650</td>\n",
       "      <td>1995</td>\n",
       "      <td>102</td>\n",
       "      <td>150000</td>\n",
       "      <td>10</td>\n",
       "      <td>11.0</td>\n",
       "      <td>2.0</td>\n",
       "      <td>4</td>\n",
       "      <td>1</td>\n",
       "      <td>6</td>\n",
       "      <td>1</td>\n",
       "    </tr>\n",
       "  </tbody>\n",
       "</table>\n",
       "</div>"
      ],
      "text/plain": [
       "   Price  RegistrationYear  Power  Kilometer  RegistrationMonth  Model_code  \\\n",
       "1  18300              2011    190     125000                  5       228.0   \n",
       "2   9800              2004    163     125000                  8       117.0   \n",
       "3   1500              2001     75     150000                  6       116.0   \n",
       "4   3600              2008     69      90000                  7       101.0   \n",
       "5    650              1995    102     150000                 10        11.0   \n",
       "\n",
       "   Brand_code  VehicleType_code  Gearbox_code  FuelType_code  NotRepaired_code  \n",
       "1         1.0                 2             1              2                 1  \n",
       "2        14.0                 6             0              2                 1  \n",
       "3        38.0                 5             1              6                 0  \n",
       "4        31.0                 5             1              2                 0  \n",
       "5         2.0                 4             1              6                 1  "
      ]
     },
     "metadata": {},
     "output_type": "display_data"
    }
   ],
   "source": [
    "data_oe = data_learn.drop(columns=[\n",
    "    'Model',\n",
    "    'Brand',\n",
    "    'NotRepaired',\n",
    "    'VehicleType_str',\n",
    "    'Gearbox_str',\n",
    "    'FuelType_str'], axis=1)\n",
    "display(data_oe.head())"
   ]
  },
  {
   "cell_type": "markdown",
   "metadata": {},
   "source": [
    "Выделим признаки для обучения и целевой признак. Приступим к обучению моделей."
   ]
  },
  {
   "cell_type": "code",
   "execution_count": 34,
   "metadata": {},
   "outputs": [],
   "source": [
    "features_boost = data_boost.drop(columns=['Price'], axis=1)\n",
    "target_boost = data_learn['Price']\n",
    "\n",
    "features_train_boost, features_valid_boost, target_train_boost, target_valid_boost = train_test_split(\n",
    "    features_boost, target_boost, test_size=0.20, random_state=12345)\n",
    "\n",
    "features_train_boost, features_test_boost, target_train_boost, target_test_boost = train_test_split(\n",
    "    features_train_boost, target_train_boost, test_size=0.25, random_state=12345)"
   ]
  },
  {
   "cell_type": "code",
   "execution_count": 35,
   "metadata": {},
   "outputs": [],
   "source": [
    "features_linear = data_linear.drop(columns=['Price'], axis=1)\n",
    "target_linear = data_learn['Price']\n",
    "\n",
    "features_train_linear, features_valid_linear, target_train_linear, target_valid_linear = train_test_split(\n",
    "    features_linear, target_linear, test_size=0.20, random_state=12345)\n",
    "\n",
    "features_train_linear, features_test_linear, target_train_linear, target_test_linear = train_test_split(\n",
    "    features_train_linear, target_train_linear, test_size=0.25, random_state=12345)"
   ]
  },
  {
   "cell_type": "code",
   "execution_count": 36,
   "metadata": {},
   "outputs": [],
   "source": [
    "features_oe = data_oe.drop(columns=['Price'], axis=1)\n",
    "target_oe = data_learn['Price']\n",
    "\n",
    "features_train_oe, features_valid_oe, target_train_oe, target_valid_oe = train_test_split(\n",
    "    features_oe, target_oe, test_size=0.20, random_state=12345)\n",
    "\n",
    "features_train_oe, features_test_oe, target_train_oe, target_test_oe = train_test_split(\n",
    "    features_train_oe, target_train_oe, test_size=0.25, random_state=12345)"
   ]
  },
  {
   "cell_type": "markdown",
   "metadata": {},
   "source": [
    "**Вывод**\n",
    "\n",
    "Подведем итоги первого раздела:\n",
    "1. Проведен обзор данных;\n",
    "2. Обработали пропуска наиболее популярными значениями для конкретной марки и модели;\n",
    "3. Убрали выбросы из данных;\n",
    "4. Подготовили данные для обучения."
   ]
  },
  {
   "cell_type": "markdown",
   "metadata": {},
   "source": [
    "## Обучение моделей"
   ]
  },
  {
   "cell_type": "markdown",
   "metadata": {},
   "source": [
    "Линейная регрессия."
   ]
  },
  {
   "cell_type": "code",
   "execution_count": 37,
   "metadata": {
    "scrolled": false
   },
   "outputs": [
    {
     "data": {
      "text/plain": [
       "'RMSE LinearRegression = 2649.9811373742605'"
      ]
     },
     "metadata": {},
     "output_type": "display_data"
    },
    {
     "name": "stdout",
     "output_type": "stream",
     "text": [
      "CPU times: user 1min 39s, sys: 1min 22s, total: 3min 1s\n",
      "Wall time: 3min 2s\n"
     ]
    }
   ],
   "source": [
    "%%time\n",
    "\n",
    "model_linear_reg = LinearRegression()\n",
    "\n",
    "cross_valid_linear_reg = (cross_val_score(model_linear_reg, \n",
    "                             features_train_linear, \n",
    "                             target_train_linear, \n",
    "                             cv=5, \n",
    "                             scoring='neg_mean_squared_error').mean() * -1) ** 0.5\n",
    "display(f'RMSE LinearRegression = {cross_valid_linear_reg}')"
   ]
  },
  {
   "cell_type": "markdown",
   "metadata": {},
   "source": [
    "Решающее дерево."
   ]
  },
  {
   "cell_type": "code",
   "execution_count": 38,
   "metadata": {
    "scrolled": false
   },
   "outputs": [
    {
     "data": {
      "text/plain": [
       "'Лучшие параметры для модели:'"
      ]
     },
     "metadata": {},
     "output_type": "display_data"
    },
    {
     "data": {
      "text/plain": [
       "{'criterion': 'mse', 'max_depth': 12, 'random_state': 12345}"
      ]
     },
     "metadata": {},
     "output_type": "display_data"
    },
    {
     "data": {
      "text/plain": [
       "'RMSE DecisionTreeRegressor cross valid = 1879.4838201959158'"
      ]
     },
     "metadata": {},
     "output_type": "display_data"
    },
    {
     "name": "stdout",
     "output_type": "stream",
     "text": [
      "CPU times: user 46.8 s, sys: 0 ns, total: 46.8 s\n",
      "Wall time: 47.7 s\n"
     ]
    }
   ],
   "source": [
    "%%time\n",
    "\n",
    "model_tree = DecisionTreeRegressor() \n",
    "max_depth = [i for i in range(2, 20)]\n",
    "params = [{'criterion':['mse'], \n",
    "                'max_depth':max_depth, \n",
    "                'random_state':[12345]}]\n",
    "\n",
    "grid_tree = GridSearchCV(model_tree, params, scoring='neg_mean_squared_error')\n",
    "grid_tree.fit(features_train_oe, target_train_oe)\n",
    "display(\"Лучшие параметры для модели:\")\n",
    "display(grid_tree.best_params_)\n",
    "means = grid_tree.cv_results_['mean_test_score']\n",
    "stds = grid_tree.cv_results_['std_test_score']\n",
    "cross_valid_tree = (max(means)*-1) ** 0.5\n",
    "display(f'RMSE DecisionTreeRegressor cross valid = {cross_valid_tree}')"
   ]
  },
  {
   "cell_type": "code",
   "execution_count": 39,
   "metadata": {},
   "outputs": [
    {
     "data": {
      "text/plain": [
       "'RMSE DecisionTreeRegressor = 1837.83'"
      ]
     },
     "metadata": {},
     "output_type": "display_data"
    },
    {
     "name": "stdout",
     "output_type": "stream",
     "text": [
      "CPU times: user 611 ms, sys: 0 ns, total: 611 ms\n",
      "Wall time: 628 ms\n"
     ]
    }
   ],
   "source": [
    "%%time\n",
    "\n",
    "model_tree = DecisionTreeRegressor(\n",
    "    criterion='mse', \n",
    "    max_depth=12, \n",
    "    random_state=12345).fit(features_train_oe, target_train_oe)\n",
    "pred_tree = model_tree.predict(features_valid_oe)\n",
    "rmse_tree = (mean_squared_error(target_valid_oe, pred_tree))**0.5\n",
    "display(f'RMSE DecisionTreeRegressor = {rmse_tree:.2f}')"
   ]
  },
  {
   "cell_type": "markdown",
   "metadata": {},
   "source": [
    "CatBoost."
   ]
  },
  {
   "cell_type": "code",
   "execution_count": 40,
   "metadata": {
    "scrolled": false
   },
   "outputs": [
    {
     "data": {
      "text/plain": [
       "'RMSE CatBoost = 1535.29'"
      ]
     },
     "metadata": {},
     "output_type": "display_data"
    },
    {
     "name": "stdout",
     "output_type": "stream",
     "text": [
      "CPU times: user 5min 31s, sys: 0 ns, total: 5min 31s\n",
      "Wall time: 5min 40s\n"
     ]
    }
   ],
   "source": [
    "%%time\n",
    "\n",
    "cat_boost_reg = CatBoostRegressor(learning_rate=0.5,\n",
    "                random_state=12345,\n",
    "                verbose=False).fit(features_train_boost, target_train_boost, cat_features=[\n",
    "    'Model', 'Brand', 'NotRepaired', 'VehicleType_str', 'Gearbox_str', 'FuelType_str'])\n",
    "\n",
    "pred_cat = cat_boost_reg.predict(features_valid_boost)\n",
    "\n",
    "rmse_cat = (mean_squared_error(target_valid_boost, pred_cat))**0.5\n",
    "display(f'RMSE CatBoost = {rmse_cat:.2f}')"
   ]
  },
  {
   "cell_type": "markdown",
   "metadata": {},
   "source": [
    "LightGBM"
   ]
  },
  {
   "cell_type": "code",
   "execution_count": 41,
   "metadata": {},
   "outputs": [
    {
     "data": {
      "text/plain": [
       "'RMSE LightGBM = 1510.79'"
      ]
     },
     "metadata": {},
     "output_type": "display_data"
    },
    {
     "name": "stdout",
     "output_type": "stream",
     "text": [
      "CPU times: user 38min 55s, sys: 18.4 s, total: 39min 14s\n",
      "Wall time: 39min 29s\n"
     ]
    }
   ],
   "source": [
    "%%time\n",
    "\n",
    "lgbm_reg = LGBMRegressor(num_leaves=200, \n",
    "                learning_rate= 0.3,\n",
    "                random_state=12345).fit(\n",
    "    features_train_boost, \n",
    "    target_train_boost,\n",
    ")\n",
    "\n",
    "pred_lgbm = lgbm_reg.predict(features_valid_boost)\n",
    "\n",
    "rmse_lgbm = (mean_squared_error(target_valid_boost, pred_lgbm))**0.5\n",
    "display(f'RMSE LightGBM = {rmse_lgbm:.2f}')"
   ]
  },
  {
   "cell_type": "markdown",
   "metadata": {},
   "source": [
    "## Анализ моделей"
   ]
  },
  {
   "cell_type": "markdown",
   "metadata": {},
   "source": [
    "Проанализируем время работы моделей и их качество на тестовой выборке.\n",
    "\n",
    "Первым на очереди модель на основе линейной регрессии. Измерим время обучения, предсказания и точность модели."
   ]
  },
  {
   "cell_type": "code",
   "execution_count": 42,
   "metadata": {},
   "outputs": [
    {
     "name": "stdout",
     "output_type": "stream",
     "text": [
      "CPU times: user 22.6 s, sys: 20.9 s, total: 43.4 s\n",
      "Wall time: 43.8 s\n"
     ]
    }
   ],
   "source": [
    "%%time\n",
    "\n",
    "model_linear_reg = LinearRegression().fit(features_train_linear, target_train_linear)"
   ]
  },
  {
   "cell_type": "code",
   "execution_count": 43,
   "metadata": {},
   "outputs": [
    {
     "name": "stdout",
     "output_type": "stream",
     "text": [
      "CPU times: user 193 ms, sys: 134 ms, total: 328 ms\n",
      "Wall time: 372 ms\n"
     ]
    }
   ],
   "source": [
    "%%time\n",
    "\n",
    "pred_linear = model_linear_reg.predict(features_test_linear)"
   ]
  },
  {
   "cell_type": "code",
   "execution_count": 44,
   "metadata": {},
   "outputs": [
    {
     "data": {
      "text/plain": [
       "'RMSE LinearRegression = 2637.12'"
      ]
     },
     "metadata": {},
     "output_type": "display_data"
    }
   ],
   "source": [
    "rmse_linear = (mean_squared_error(target_test_linear, pred_linear))**0.5\n",
    "display(f'RMSE LinearRegression = {rmse_linear:.2f}')"
   ]
  },
  {
   "cell_type": "markdown",
   "metadata": {},
   "source": [
    "Вторым проверим модель дерева решений."
   ]
  },
  {
   "cell_type": "code",
   "execution_count": 45,
   "metadata": {},
   "outputs": [
    {
     "name": "stdout",
     "output_type": "stream",
     "text": [
      "CPU times: user 550 ms, sys: 0 ns, total: 550 ms\n",
      "Wall time: 564 ms\n"
     ]
    }
   ],
   "source": [
    "%%time\n",
    "\n",
    "model_tree = DecisionTreeRegressor(\n",
    "    criterion='mse', \n",
    "    max_depth=12, \n",
    "    random_state=12345).fit(features_train_oe, target_train_oe)"
   ]
  },
  {
   "cell_type": "code",
   "execution_count": 46,
   "metadata": {},
   "outputs": [
    {
     "name": "stdout",
     "output_type": "stream",
     "text": [
      "CPU times: user 17.5 ms, sys: 0 ns, total: 17.5 ms\n",
      "Wall time: 27.5 ms\n"
     ]
    }
   ],
   "source": [
    "%%time\n",
    "\n",
    "pred_tree = model_tree.predict(features_test_oe)"
   ]
  },
  {
   "cell_type": "code",
   "execution_count": 47,
   "metadata": {},
   "outputs": [
    {
     "data": {
      "text/plain": [
       "'RMSE DecisionTreeRegressor = 1850.20'"
      ]
     },
     "metadata": {},
     "output_type": "display_data"
    }
   ],
   "source": [
    "rmse_tree = (mean_squared_error(target_test_oe, pred_tree))**0.5\n",
    "display(f'RMSE DecisionTreeRegressor = {rmse_tree:.2f}')"
   ]
  },
  {
   "cell_type": "markdown",
   "metadata": {},
   "source": [
    "Посмотрим на работу CatBoost."
   ]
  },
  {
   "cell_type": "code",
   "execution_count": 48,
   "metadata": {},
   "outputs": [
    {
     "name": "stdout",
     "output_type": "stream",
     "text": [
      "CPU times: user 5min 20s, sys: 0 ns, total: 5min 20s\n",
      "Wall time: 5min 27s\n"
     ]
    }
   ],
   "source": [
    "%%time\n",
    "\n",
    "cat_boost_reg = CatBoostRegressor(learning_rate=0.5,\n",
    "                random_state=12345,\n",
    "                verbose=False).fit(features_train_boost, target_train_boost, cat_features=[\n",
    "    'Model', 'Brand', 'NotRepaired', 'VehicleType_str', 'Gearbox_str', 'FuelType_str'])"
   ]
  },
  {
   "cell_type": "code",
   "execution_count": 49,
   "metadata": {},
   "outputs": [
    {
     "name": "stdout",
     "output_type": "stream",
     "text": [
      "CPU times: user 807 ms, sys: 0 ns, total: 807 ms\n",
      "Wall time: 815 ms\n"
     ]
    }
   ],
   "source": [
    "%%time\n",
    "\n",
    "pred_cat = cat_boost_reg.predict(features_test_boost)"
   ]
  },
  {
   "cell_type": "code",
   "execution_count": 50,
   "metadata": {},
   "outputs": [
    {
     "data": {
      "text/plain": [
       "'RMSE DecisionTreeRegressor = 1522.87'"
      ]
     },
     "metadata": {},
     "output_type": "display_data"
    }
   ],
   "source": [
    "rmse_cat = (mean_squared_error(target_test_boost, pred_cat))**0.5\n",
    "display(f'RMSE DecisionTreeRegressor = {rmse_cat:.2f}')"
   ]
  },
  {
   "cell_type": "markdown",
   "metadata": {},
   "source": [
    "Теперь изучим LightGBM."
   ]
  },
  {
   "cell_type": "code",
   "execution_count": 51,
   "metadata": {},
   "outputs": [
    {
     "name": "stdout",
     "output_type": "stream",
     "text": [
      "CPU times: user 21min 47s, sys: 2.89 s, total: 21min 50s\n",
      "Wall time: 21min 59s\n"
     ]
    }
   ],
   "source": [
    "%%time\n",
    "\n",
    "lgbm_reg = LGBMRegressor(num_leaves=200, \n",
    "                learning_rate= 0.3,\n",
    "                random_state=12345).fit(features_train_boost, target_train_boost)"
   ]
  },
  {
   "cell_type": "code",
   "execution_count": 52,
   "metadata": {},
   "outputs": [
    {
     "name": "stdout",
     "output_type": "stream",
     "text": [
      "CPU times: user 1.21 s, sys: 0 ns, total: 1.21 s\n",
      "Wall time: 1.21 s\n"
     ]
    }
   ],
   "source": [
    "%%time\n",
    "\n",
    "pred_lgbm = lgbm_reg.predict(features_test_boost)"
   ]
  },
  {
   "cell_type": "code",
   "execution_count": 53,
   "metadata": {},
   "outputs": [
    {
     "data": {
      "text/plain": [
       "'RMSE DecisionTreeRegressor = 1503.86'"
      ]
     },
     "metadata": {},
     "output_type": "display_data"
    }
   ],
   "source": [
    "rmse_lgbm = (mean_squared_error(target_test_boost, pred_lgbm))**0.5\n",
    "display(f'RMSE DecisionTreeRegressor = {rmse_lgbm:.2f}')"
   ]
  },
  {
   "cell_type": "markdown",
   "metadata": {},
   "source": [
    "**Вывод**\n",
    "\n",
    "Сложилась очень интересная картина: самый точный алгоритм - LightGBM, но по времени он проигрывает абсолютно всем, причем с большим отрывом - учится 22 минуты, предсказывает 1,2 секунды. CatBoost ведет себя лучше: обучается 5,5 минут, предсказывает 815 мс, ошибка 1522, что больше LightGBM на 20, что совсем не значительно. Дерево решений обучается быстрее - 564 мс, предсказывает тоже быстрее - 27 мс, но точность уже 1850. Линейная регрессия сильно проигрывает в точности. Подведу итог, к продакшену следует рассмотреть CatBoost или же дерево решений."
   ]
  }
 ],
 "metadata": {
  "ExecuteTimeLog": [
   {
    "duration": 74,
    "start_time": "2022-04-23T05:34:57.113Z"
   },
   {
    "duration": 548,
    "start_time": "2022-04-23T05:35:01.689Z"
   },
   {
    "duration": 1114,
    "start_time": "2022-04-23T05:35:28.330Z"
   },
   {
    "duration": 1127,
    "start_time": "2022-04-23T05:35:34.922Z"
   },
   {
    "duration": 179,
    "start_time": "2022-04-23T05:38:12.667Z"
   },
   {
    "duration": 42,
    "start_time": "2022-04-23T05:41:12.459Z"
   },
   {
    "duration": 31,
    "start_time": "2022-04-23T05:41:19.153Z"
   },
   {
    "duration": 452,
    "start_time": "2022-04-25T07:03:17.306Z"
   },
   {
    "duration": 853,
    "start_time": "2022-04-25T07:03:17.760Z"
   },
   {
    "duration": 144,
    "start_time": "2022-04-25T07:03:18.615Z"
   },
   {
    "duration": 20,
    "start_time": "2022-04-25T07:03:18.761Z"
   },
   {
    "duration": 5,
    "start_time": "2022-04-25T07:05:42.741Z"
   },
   {
    "duration": 4,
    "start_time": "2022-04-25T07:08:10.782Z"
   },
   {
    "duration": 5,
    "start_time": "2022-04-25T07:11:43.775Z"
   },
   {
    "duration": 5,
    "start_time": "2022-04-25T07:12:09.102Z"
   },
   {
    "duration": 146,
    "start_time": "2022-04-25T07:24:07.022Z"
   },
   {
    "duration": 134,
    "start_time": "2022-04-25T07:30:00.079Z"
   },
   {
    "duration": 4,
    "start_time": "2022-04-25T07:34:59.703Z"
   },
   {
    "duration": 8,
    "start_time": "2022-04-25T07:45:00.768Z"
   },
   {
    "duration": 8,
    "start_time": "2022-04-25T07:45:04.946Z"
   },
   {
    "duration": 245,
    "start_time": "2022-04-25T07:45:19.729Z"
   },
   {
    "duration": 7,
    "start_time": "2022-04-25T07:45:23.343Z"
   },
   {
    "duration": 8,
    "start_time": "2022-04-25T07:45:37.087Z"
   },
   {
    "duration": 9,
    "start_time": "2022-04-25T07:46:31.632Z"
   },
   {
    "duration": 214,
    "start_time": "2022-04-25T07:47:17.090Z"
   },
   {
    "duration": 36,
    "start_time": "2022-04-25T07:47:25.840Z"
   },
   {
    "duration": 71,
    "start_time": "2022-04-25T07:47:43.985Z"
   },
   {
    "duration": 7,
    "start_time": "2022-04-25T07:48:21.801Z"
   },
   {
    "duration": 42,
    "start_time": "2022-04-25T07:48:33.440Z"
   },
   {
    "duration": 35,
    "start_time": "2022-04-25T07:57:44.449Z"
   },
   {
    "duration": 56,
    "start_time": "2022-04-25T09:27:08.813Z"
   },
   {
    "duration": 14,
    "start_time": "2022-04-25T09:35:19.927Z"
   },
   {
    "duration": 12,
    "start_time": "2022-04-25T09:35:31.587Z"
   },
   {
    "duration": 8,
    "start_time": "2022-04-25T09:35:44.153Z"
   },
   {
    "duration": 1423,
    "start_time": "2022-04-25T10:21:14.412Z"
   },
   {
    "duration": 108,
    "start_time": "2022-04-25T10:21:17.350Z"
   },
   {
    "duration": 19,
    "start_time": "2022-04-25T10:22:05.693Z"
   },
   {
    "duration": 157,
    "start_time": "2022-04-25T10:23:17.142Z"
   },
   {
    "duration": 20,
    "start_time": "2022-04-25T10:24:46.918Z"
   },
   {
    "duration": 53,
    "start_time": "2022-04-25T10:25:01.622Z"
   },
   {
    "duration": 42,
    "start_time": "2022-04-25T10:25:12.374Z"
   },
   {
    "duration": 52,
    "start_time": "2022-04-25T10:26:05.991Z"
   },
   {
    "duration": 51,
    "start_time": "2022-04-25T10:26:29.815Z"
   },
   {
    "duration": 85,
    "start_time": "2022-04-25T11:14:55.706Z"
   },
   {
    "duration": 84,
    "start_time": "2022-04-25T11:15:09.477Z"
   },
   {
    "duration": 20,
    "start_time": "2022-04-25T11:21:15.402Z"
   },
   {
    "duration": 108,
    "start_time": "2022-04-25T11:21:38.939Z"
   },
   {
    "duration": 134,
    "start_time": "2022-04-25T11:22:19.371Z"
   },
   {
    "duration": 159,
    "start_time": "2022-04-25T11:23:40.522Z"
   },
   {
    "duration": 168,
    "start_time": "2022-04-25T11:26:01.547Z"
   },
   {
    "duration": 234,
    "start_time": "2022-04-25T11:27:32.475Z"
   },
   {
    "duration": 114,
    "start_time": "2022-04-25T11:27:38.476Z"
   },
   {
    "duration": 110,
    "start_time": "2022-04-25T11:27:42.974Z"
   },
   {
    "duration": 104,
    "start_time": "2022-04-25T11:32:11.547Z"
   },
   {
    "duration": 895,
    "start_time": "2022-04-25T11:44:11.149Z"
   },
   {
    "duration": 1259,
    "start_time": "2022-04-25T17:19:57.787Z"
   },
   {
    "duration": 1004,
    "start_time": "2022-04-25T17:19:59.048Z"
   },
   {
    "duration": 110,
    "start_time": "2022-04-25T17:20:00.053Z"
   },
   {
    "duration": 34,
    "start_time": "2022-04-25T17:20:00.164Z"
   },
   {
    "duration": 99,
    "start_time": "2022-04-25T17:20:00.201Z"
   },
   {
    "duration": 116,
    "start_time": "2022-04-25T17:20:00.302Z"
   },
   {
    "duration": 231,
    "start_time": "2022-04-25T17:21:31.683Z"
   },
   {
    "duration": 2385,
    "start_time": "2022-04-25T17:21:37.895Z"
   },
   {
    "duration": 31,
    "start_time": "2022-04-25T17:22:07.648Z"
   },
   {
    "duration": 35,
    "start_time": "2022-04-25T17:22:52.352Z"
   },
   {
    "duration": 18,
    "start_time": "2022-04-25T17:23:44.736Z"
   },
   {
    "duration": 28,
    "start_time": "2022-04-25T17:23:55.592Z"
   },
   {
    "duration": 19,
    "start_time": "2022-04-25T17:24:06.719Z"
   },
   {
    "duration": 7,
    "start_time": "2022-04-25T17:24:28.607Z"
   },
   {
    "duration": 19,
    "start_time": "2022-04-25T17:24:32.760Z"
   },
   {
    "duration": 18,
    "start_time": "2022-04-25T17:25:41.473Z"
   },
   {
    "duration": 3,
    "start_time": "2022-04-25T17:28:47.066Z"
   },
   {
    "duration": 6,
    "start_time": "2022-04-25T17:29:03.200Z"
   },
   {
    "duration": 22,
    "start_time": "2022-04-25T17:29:21.256Z"
   },
   {
    "duration": 23,
    "start_time": "2022-04-25T17:36:45.752Z"
   },
   {
    "duration": 22,
    "start_time": "2022-04-25T17:37:42.763Z"
   },
   {
    "duration": 9,
    "start_time": "2022-04-25T17:38:20.362Z"
   },
   {
    "duration": 35,
    "start_time": "2022-04-25T17:38:31.251Z"
   },
   {
    "duration": 28,
    "start_time": "2022-04-25T17:38:48.515Z"
   },
   {
    "duration": 2248,
    "start_time": "2022-04-25T17:41:05.864Z"
   },
   {
    "duration": 116,
    "start_time": "2022-04-25T17:41:28.830Z"
   },
   {
    "duration": 172,
    "start_time": "2022-04-25T17:41:47.516Z"
   },
   {
    "duration": 3,
    "start_time": "2022-04-25T17:43:20.660Z"
   },
   {
    "duration": 985,
    "start_time": "2022-04-25T17:43:20.665Z"
   },
   {
    "duration": 100,
    "start_time": "2022-04-25T17:43:21.652Z"
   },
   {
    "duration": 16,
    "start_time": "2022-04-25T17:43:21.754Z"
   },
   {
    "duration": 104,
    "start_time": "2022-04-25T17:43:21.772Z"
   },
   {
    "duration": 116,
    "start_time": "2022-04-25T17:43:21.878Z"
   },
   {
    "duration": 10,
    "start_time": "2022-04-25T17:43:25.883Z"
   },
   {
    "duration": 206,
    "start_time": "2022-04-25T17:44:36.172Z"
   },
   {
    "duration": 14,
    "start_time": "2022-04-25T17:45:44.949Z"
   },
   {
    "duration": 143,
    "start_time": "2022-04-25T17:46:22.021Z"
   },
   {
    "duration": 491,
    "start_time": "2022-04-25T17:48:02.003Z"
   },
   {
    "duration": 35,
    "start_time": "2022-04-25T17:48:53.994Z"
   },
   {
    "duration": 117,
    "start_time": "2022-04-25T17:49:42.183Z"
   },
   {
    "duration": 75,
    "start_time": "2022-04-25T17:49:59.158Z"
   },
   {
    "duration": 81,
    "start_time": "2022-04-25T17:50:20.218Z"
   },
   {
    "duration": 73,
    "start_time": "2022-04-25T17:53:29.382Z"
   },
   {
    "duration": 79,
    "start_time": "2022-04-25T17:53:37.741Z"
   },
   {
    "duration": 80,
    "start_time": "2022-04-25T17:53:43.630Z"
   },
   {
    "duration": 15,
    "start_time": "2022-04-25T17:54:07.502Z"
   },
   {
    "duration": 11,
    "start_time": "2022-04-25T17:55:09.286Z"
   },
   {
    "duration": 16,
    "start_time": "2022-04-25T17:55:23.022Z"
   },
   {
    "duration": 589,
    "start_time": "2022-04-25T17:56:35.439Z"
   },
   {
    "duration": 6,
    "start_time": "2022-04-25T17:56:57.751Z"
   },
   {
    "duration": 599,
    "start_time": "2022-04-25T17:57:03.054Z"
   },
   {
    "duration": 3,
    "start_time": "2022-04-25T17:57:28.419Z"
   },
   {
    "duration": 936,
    "start_time": "2022-04-25T17:57:28.424Z"
   },
   {
    "duration": 101,
    "start_time": "2022-04-25T17:57:29.361Z"
   },
   {
    "duration": 14,
    "start_time": "2022-04-25T17:57:29.464Z"
   },
   {
    "duration": 99,
    "start_time": "2022-04-25T17:57:29.479Z"
   },
   {
    "duration": 115,
    "start_time": "2022-04-25T17:57:29.579Z"
   },
   {
    "duration": 200,
    "start_time": "2022-04-25T17:57:29.696Z"
   },
   {
    "duration": 524,
    "start_time": "2022-04-25T17:57:29.897Z"
   },
   {
    "duration": 90,
    "start_time": "2022-04-25T17:57:36.007Z"
   },
   {
    "duration": 84,
    "start_time": "2022-04-25T17:58:10.256Z"
   },
   {
    "duration": 739,
    "start_time": "2022-04-25T17:59:51.824Z"
   },
   {
    "duration": 96,
    "start_time": "2022-04-25T18:00:06.888Z"
   },
   {
    "duration": 8,
    "start_time": "2022-04-25T18:01:07.079Z"
   },
   {
    "duration": 10,
    "start_time": "2022-04-25T18:04:43.593Z"
   },
   {
    "duration": 9,
    "start_time": "2022-04-25T18:04:56.097Z"
   },
   {
    "duration": 12,
    "start_time": "2022-04-25T18:05:03.161Z"
   },
   {
    "duration": 11,
    "start_time": "2022-04-25T18:05:08.057Z"
   },
   {
    "duration": 80,
    "start_time": "2022-04-25T18:05:54.657Z"
   },
   {
    "duration": 97,
    "start_time": "2022-04-25T18:08:19.984Z"
   },
   {
    "duration": 99,
    "start_time": "2022-04-25T18:11:43.167Z"
   },
   {
    "duration": 81,
    "start_time": "2022-04-25T18:11:50.314Z"
   },
   {
    "duration": 86,
    "start_time": "2022-04-25T18:11:57.354Z"
   },
   {
    "duration": 88,
    "start_time": "2022-04-25T18:12:02.019Z"
   },
   {
    "duration": 88,
    "start_time": "2022-04-25T18:12:09.090Z"
   },
   {
    "duration": 2245,
    "start_time": "2022-04-25T18:12:32.154Z"
   },
   {
    "duration": 83,
    "start_time": "2022-04-25T18:12:43.074Z"
   },
   {
    "duration": 79,
    "start_time": "2022-04-25T18:13:12.562Z"
   },
   {
    "duration": 159,
    "start_time": "2022-04-25T18:19:04.688Z"
   },
   {
    "duration": 10,
    "start_time": "2022-04-25T18:28:30.531Z"
   },
   {
    "duration": 156,
    "start_time": "2022-04-25T18:30:23.518Z"
   },
   {
    "duration": 325,
    "start_time": "2022-04-25T18:31:28.980Z"
   },
   {
    "duration": 487,
    "start_time": "2022-04-25T18:32:51.276Z"
   },
   {
    "duration": 71,
    "start_time": "2022-04-25T18:36:38.823Z"
   },
   {
    "duration": 40,
    "start_time": "2022-04-25T18:37:11.351Z"
   },
   {
    "duration": 74,
    "start_time": "2022-04-25T18:37:53.407Z"
   },
   {
    "duration": 103,
    "start_time": "2022-04-25T18:38:30.896Z"
   },
   {
    "duration": 84,
    "start_time": "2022-04-25T18:38:42.712Z"
   },
   {
    "duration": 520,
    "start_time": "2022-04-25T18:39:28.561Z"
   },
   {
    "duration": 5,
    "start_time": "2022-04-25T18:40:42.376Z"
   },
   {
    "duration": 114,
    "start_time": "2022-04-25T18:41:47.229Z"
   },
   {
    "duration": 646,
    "start_time": "2022-04-25T18:41:52.201Z"
   },
   {
    "duration": 91,
    "start_time": "2022-04-25T18:48:42.094Z"
   },
   {
    "duration": 563,
    "start_time": "2022-04-25T18:48:59.739Z"
   },
   {
    "duration": 12,
    "start_time": "2022-04-25T18:55:13.560Z"
   },
   {
    "duration": 37,
    "start_time": "2022-04-25T18:56:42.269Z"
   },
   {
    "duration": 11,
    "start_time": "2022-04-25T18:56:45.252Z"
   },
   {
    "duration": 15,
    "start_time": "2022-04-25T18:57:12.283Z"
   },
   {
    "duration": 8,
    "start_time": "2022-04-25T18:57:47.316Z"
   },
   {
    "duration": 9,
    "start_time": "2022-04-25T18:58:00.539Z"
   },
   {
    "duration": 9,
    "start_time": "2022-04-25T18:58:07.452Z"
   },
   {
    "duration": 16,
    "start_time": "2022-04-25T18:58:31.732Z"
   },
   {
    "duration": 1726,
    "start_time": "2022-04-25T18:59:02.484Z"
   },
   {
    "duration": 9,
    "start_time": "2022-04-25T18:59:29.236Z"
   },
   {
    "duration": 10,
    "start_time": "2022-04-25T19:01:27.592Z"
   },
   {
    "duration": 6,
    "start_time": "2022-04-25T19:01:51.313Z"
   },
   {
    "duration": 10,
    "start_time": "2022-04-25T19:02:12.669Z"
   },
   {
    "duration": 10,
    "start_time": "2022-04-25T19:03:32.048Z"
   },
   {
    "duration": 677,
    "start_time": "2022-04-25T19:06:34.724Z"
   },
   {
    "duration": 143,
    "start_time": "2022-04-25T19:06:50.073Z"
   },
   {
    "duration": 1398,
    "start_time": "2022-04-25T19:07:14.029Z"
   },
   {
    "duration": 15,
    "start_time": "2022-04-25T19:08:34.426Z"
   },
   {
    "duration": 16,
    "start_time": "2022-04-25T19:09:01.049Z"
   },
   {
    "duration": 136,
    "start_time": "2022-04-25T19:10:49.072Z"
   },
   {
    "duration": 2298,
    "start_time": "2022-04-25T19:11:03.929Z"
   },
   {
    "duration": 28,
    "start_time": "2022-04-25T19:11:24.714Z"
   },
   {
    "duration": 5,
    "start_time": "2022-04-25T19:12:51.426Z"
   },
   {
    "duration": 10,
    "start_time": "2022-04-25T19:15:12.008Z"
   },
   {
    "duration": 16770,
    "start_time": "2022-04-25T19:15:17.530Z"
   },
   {
    "duration": 16511,
    "start_time": "2022-04-25T19:15:41.250Z"
   },
   {
    "duration": 16185,
    "start_time": "2022-04-25T19:16:26.867Z"
   },
   {
    "duration": 749,
    "start_time": "2022-04-25T19:20:32.425Z"
   },
   {
    "duration": 952,
    "start_time": "2022-04-25T19:20:57.662Z"
   },
   {
    "duration": 1076,
    "start_time": "2022-04-26T05:36:09.625Z"
   },
   {
    "duration": 895,
    "start_time": "2022-04-26T05:36:10.703Z"
   },
   {
    "duration": 93,
    "start_time": "2022-04-26T05:36:11.600Z"
   },
   {
    "duration": 18,
    "start_time": "2022-04-26T05:36:11.695Z"
   },
   {
    "duration": 96,
    "start_time": "2022-04-26T05:36:11.715Z"
   },
   {
    "duration": 108,
    "start_time": "2022-04-26T05:36:11.813Z"
   },
   {
    "duration": 209,
    "start_time": "2022-04-26T05:36:11.923Z"
   },
   {
    "duration": 13,
    "start_time": "2022-04-26T05:36:12.135Z"
   },
   {
    "duration": 190,
    "start_time": "2022-04-26T05:36:12.150Z"
   },
   {
    "duration": 0,
    "start_time": "2022-04-26T05:36:12.342Z"
   },
   {
    "duration": 0,
    "start_time": "2022-04-26T05:36:12.344Z"
   },
   {
    "duration": 3,
    "start_time": "2022-04-26T05:38:19.816Z"
   },
   {
    "duration": 867,
    "start_time": "2022-04-26T05:38:19.820Z"
   },
   {
    "duration": 86,
    "start_time": "2022-04-26T05:38:20.692Z"
   },
   {
    "duration": 22,
    "start_time": "2022-04-26T05:38:20.780Z"
   },
   {
    "duration": 101,
    "start_time": "2022-04-26T05:38:20.804Z"
   },
   {
    "duration": 92,
    "start_time": "2022-04-26T05:38:20.907Z"
   },
   {
    "duration": 186,
    "start_time": "2022-04-26T05:38:21.001Z"
   },
   {
    "duration": 374,
    "start_time": "2022-04-26T05:39:47.308Z"
   },
   {
    "duration": 134,
    "start_time": "2022-04-26T05:39:53.635Z"
   },
   {
    "duration": 79,
    "start_time": "2022-04-26T05:39:55.667Z"
   },
   {
    "duration": 606,
    "start_time": "2022-04-26T05:39:58.852Z"
   },
   {
    "duration": 14670,
    "start_time": "2022-04-26T06:40:10.095Z"
   },
   {
    "duration": 4,
    "start_time": "2022-04-26T06:46:42.976Z"
   },
   {
    "duration": 6,
    "start_time": "2022-04-26T06:47:01.305Z"
   },
   {
    "duration": 6,
    "start_time": "2022-04-26T06:48:19.257Z"
   },
   {
    "duration": 51645,
    "start_time": "2022-04-26T06:49:19.706Z"
   },
   {
    "duration": 1174,
    "start_time": "2022-04-26T06:51:59.190Z"
   },
   {
    "duration": 957,
    "start_time": "2022-04-26T06:52:00.366Z"
   },
   {
    "duration": 99,
    "start_time": "2022-04-26T06:52:01.325Z"
   },
   {
    "duration": 19,
    "start_time": "2022-04-26T06:52:01.425Z"
   },
   {
    "duration": 112,
    "start_time": "2022-04-26T06:52:01.446Z"
   },
   {
    "duration": 100,
    "start_time": "2022-04-26T06:52:01.560Z"
   },
   {
    "duration": 227,
    "start_time": "2022-04-26T06:52:01.662Z"
   },
   {
    "duration": 406,
    "start_time": "2022-04-26T06:52:01.892Z"
   },
   {
    "duration": 170,
    "start_time": "2022-04-26T06:52:02.299Z"
   },
   {
    "duration": 111,
    "start_time": "2022-04-26T06:52:02.471Z"
   },
   {
    "duration": 746,
    "start_time": "2022-04-26T06:52:02.584Z"
   },
   {
    "duration": 7,
    "start_time": "2022-04-26T06:52:03.331Z"
   },
   {
    "duration": 59631,
    "start_time": "2022-04-26T06:52:03.339Z"
   },
   {
    "duration": 24,
    "start_time": "2022-04-26T06:54:20.757Z"
   },
   {
    "duration": 915,
    "start_time": "2022-04-26T06:55:25.173Z"
   },
   {
    "duration": 21,
    "start_time": "2022-04-26T06:55:30.407Z"
   },
   {
    "duration": 1201,
    "start_time": "2022-04-26T06:57:00.596Z"
   },
   {
    "duration": 991,
    "start_time": "2022-04-26T06:57:01.799Z"
   },
   {
    "duration": 101,
    "start_time": "2022-04-26T06:57:02.793Z"
   },
   {
    "duration": 19,
    "start_time": "2022-04-26T06:57:02.895Z"
   },
   {
    "duration": 101,
    "start_time": "2022-04-26T06:57:02.917Z"
   },
   {
    "duration": 107,
    "start_time": "2022-04-26T06:57:03.019Z"
   },
   {
    "duration": 220,
    "start_time": "2022-04-26T06:57:03.127Z"
   },
   {
    "duration": 404,
    "start_time": "2022-04-26T06:57:03.349Z"
   },
   {
    "duration": 165,
    "start_time": "2022-04-26T06:57:03.755Z"
   },
   {
    "duration": 114,
    "start_time": "2022-04-26T06:57:03.922Z"
   },
   {
    "duration": 715,
    "start_time": "2022-04-26T06:57:04.038Z"
   },
   {
    "duration": 6,
    "start_time": "2022-04-26T06:57:04.755Z"
   },
   {
    "duration": 5465,
    "start_time": "2022-04-26T06:57:04.763Z"
   },
   {
    "duration": 0,
    "start_time": "2022-04-26T06:57:10.229Z"
   },
   {
    "duration": 8,
    "start_time": "2022-04-26T06:57:35.162Z"
   },
   {
    "duration": 5,
    "start_time": "2022-04-26T06:57:50.378Z"
   },
   {
    "duration": 26,
    "start_time": "2022-04-26T06:58:15.241Z"
   },
   {
    "duration": 5,
    "start_time": "2022-04-26T06:58:30.347Z"
   },
   {
    "duration": 3607,
    "start_time": "2022-04-26T06:58:38.874Z"
   },
   {
    "duration": 1183,
    "start_time": "2022-04-26T07:06:26.974Z"
   },
   {
    "duration": 1028,
    "start_time": "2022-04-26T07:06:28.159Z"
   },
   {
    "duration": 89,
    "start_time": "2022-04-26T07:06:29.189Z"
   },
   {
    "duration": 27,
    "start_time": "2022-04-26T07:06:29.280Z"
   },
   {
    "duration": 100,
    "start_time": "2022-04-26T07:06:29.309Z"
   },
   {
    "duration": 112,
    "start_time": "2022-04-26T07:06:29.410Z"
   },
   {
    "duration": 210,
    "start_time": "2022-04-26T07:06:29.524Z"
   },
   {
    "duration": 407,
    "start_time": "2022-04-26T07:06:29.736Z"
   },
   {
    "duration": 160,
    "start_time": "2022-04-26T07:06:30.144Z"
   },
   {
    "duration": 100,
    "start_time": "2022-04-26T07:06:30.306Z"
   },
   {
    "duration": 646,
    "start_time": "2022-04-26T07:06:30.408Z"
   },
   {
    "duration": 8,
    "start_time": "2022-04-26T07:06:31.055Z"
   },
   {
    "duration": 63733,
    "start_time": "2022-04-26T07:06:31.064Z"
   },
   {
    "duration": 42,
    "start_time": "2022-04-26T07:11:28.516Z"
   },
   {
    "duration": 56,
    "start_time": "2022-04-26T07:12:03.462Z"
   },
   {
    "duration": 21,
    "start_time": "2022-04-26T07:13:19.957Z"
   },
   {
    "duration": 33,
    "start_time": "2022-04-26T07:14:16.981Z"
   },
   {
    "duration": 1174,
    "start_time": "2022-04-26T07:16:02.507Z"
   },
   {
    "duration": 894,
    "start_time": "2022-04-26T07:16:03.684Z"
   },
   {
    "duration": 95,
    "start_time": "2022-04-26T07:16:04.580Z"
   },
   {
    "duration": 23,
    "start_time": "2022-04-26T07:16:04.677Z"
   },
   {
    "duration": 95,
    "start_time": "2022-04-26T07:16:04.703Z"
   },
   {
    "duration": 105,
    "start_time": "2022-04-26T07:16:04.800Z"
   },
   {
    "duration": 207,
    "start_time": "2022-04-26T07:16:04.907Z"
   },
   {
    "duration": 388,
    "start_time": "2022-04-26T07:16:05.116Z"
   },
   {
    "duration": 154,
    "start_time": "2022-04-26T07:16:05.506Z"
   },
   {
    "duration": 98,
    "start_time": "2022-04-26T07:16:05.661Z"
   },
   {
    "duration": 603,
    "start_time": "2022-04-26T07:16:05.760Z"
   },
   {
    "duration": 6,
    "start_time": "2022-04-26T07:16:06.364Z"
   },
   {
    "duration": 60975,
    "start_time": "2022-04-26T07:16:06.372Z"
   },
   {
    "duration": 47,
    "start_time": "2022-04-26T07:17:07.350Z"
   },
   {
    "duration": 1165,
    "start_time": "2022-04-26T07:23:19.728Z"
   },
   {
    "duration": 1051,
    "start_time": "2022-04-26T07:23:20.895Z"
   },
   {
    "duration": 113,
    "start_time": "2022-04-26T07:23:21.948Z"
   },
   {
    "duration": 30,
    "start_time": "2022-04-26T07:23:22.063Z"
   },
   {
    "duration": 102,
    "start_time": "2022-04-26T07:23:22.095Z"
   },
   {
    "duration": 24,
    "start_time": "2022-04-26T07:23:26.646Z"
   },
   {
    "duration": 23,
    "start_time": "2022-04-26T07:25:08.816Z"
   },
   {
    "duration": 77,
    "start_time": "2022-04-26T07:25:08.841Z"
   },
   {
    "duration": 212,
    "start_time": "2022-04-26T07:25:08.920Z"
   },
   {
    "duration": 794,
    "start_time": "2022-04-26T07:25:09.135Z"
   },
   {
    "duration": 268,
    "start_time": "2022-04-26T07:25:09.933Z"
   },
   {
    "duration": 108,
    "start_time": "2022-04-26T07:25:10.203Z"
   },
   {
    "duration": 475,
    "start_time": "2022-04-26T07:25:10.313Z"
   },
   {
    "duration": 6,
    "start_time": "2022-04-26T07:25:10.792Z"
   },
   {
    "duration": 42387,
    "start_time": "2022-04-26T07:25:10.799Z"
   },
   {
    "duration": 23,
    "start_time": "2022-04-26T07:25:53.192Z"
   },
   {
    "duration": 38,
    "start_time": "2022-04-26T07:33:56.201Z"
   },
   {
    "duration": 35,
    "start_time": "2022-04-26T07:34:01.735Z"
   },
   {
    "duration": 31,
    "start_time": "2022-04-26T07:34:12.328Z"
   },
   {
    "duration": 38,
    "start_time": "2022-04-26T07:34:25.448Z"
   },
   {
    "duration": 21,
    "start_time": "2022-04-26T07:34:42.842Z"
   },
   {
    "duration": 21,
    "start_time": "2022-04-26T07:35:15.081Z"
   },
   {
    "duration": 25,
    "start_time": "2022-04-26T07:35:29.256Z"
   },
   {
    "duration": 5,
    "start_time": "2022-04-26T07:37:14.808Z"
   },
   {
    "duration": 21,
    "start_time": "2022-04-26T07:39:33.961Z"
   },
   {
    "duration": 38,
    "start_time": "2022-04-26T07:40:01.369Z"
   },
   {
    "duration": 204,
    "start_time": "2022-04-26T07:43:36.319Z"
   },
   {
    "duration": 154,
    "start_time": "2022-04-26T07:43:53.144Z"
   },
   {
    "duration": 14,
    "start_time": "2022-04-26T09:02:49.167Z"
   },
   {
    "duration": 13,
    "start_time": "2022-04-26T09:03:17.616Z"
   },
   {
    "duration": 8,
    "start_time": "2022-04-26T09:09:58.751Z"
   },
   {
    "duration": 60,
    "start_time": "2022-04-26T09:11:12.751Z"
   },
   {
    "duration": 133,
    "start_time": "2022-04-26T09:11:36.414Z"
   },
   {
    "duration": 15,
    "start_time": "2022-04-26T09:12:15.454Z"
   },
   {
    "duration": 92,
    "start_time": "2022-04-26T09:14:34.526Z"
   },
   {
    "duration": 164,
    "start_time": "2022-04-26T09:20:09.893Z"
   },
   {
    "duration": 159,
    "start_time": "2022-04-26T09:55:40.579Z"
   },
   {
    "duration": 15,
    "start_time": "2022-04-26T09:56:16.482Z"
   },
   {
    "duration": 9,
    "start_time": "2022-04-26T10:23:29.861Z"
   },
   {
    "duration": 427,
    "start_time": "2022-04-26T10:23:46.774Z"
   },
   {
    "duration": 112,
    "start_time": "2022-04-26T10:23:51.174Z"
   },
   {
    "duration": 56,
    "start_time": "2022-04-26T10:24:04.645Z"
   },
   {
    "duration": 145,
    "start_time": "2022-04-26T10:24:09.110Z"
   },
   {
    "duration": 148,
    "start_time": "2022-04-26T10:24:18.005Z"
   },
   {
    "duration": 241,
    "start_time": "2022-04-26T10:25:02.038Z"
   },
   {
    "duration": 228,
    "start_time": "2022-04-26T10:25:18.726Z"
   },
   {
    "duration": 335,
    "start_time": "2022-04-26T10:25:26.198Z"
   },
   {
    "duration": 319,
    "start_time": "2022-04-26T10:25:43.157Z"
   },
   {
    "duration": 314,
    "start_time": "2022-04-26T10:25:52.844Z"
   },
   {
    "duration": 375,
    "start_time": "2022-04-26T10:26:29.562Z"
   },
   {
    "duration": 371,
    "start_time": "2022-04-26T10:26:40.453Z"
   },
   {
    "duration": 416,
    "start_time": "2022-04-26T10:27:24.108Z"
   },
   {
    "duration": 617,
    "start_time": "2022-04-26T10:28:05.686Z"
   },
   {
    "duration": 614,
    "start_time": "2022-04-26T10:28:24.906Z"
   },
   {
    "duration": 314,
    "start_time": "2022-04-26T10:28:45.830Z"
   },
   {
    "duration": 24,
    "start_time": "2022-04-26T10:32:57.895Z"
   },
   {
    "duration": 173,
    "start_time": "2022-04-26T10:38:52.923Z"
   },
   {
    "duration": 181,
    "start_time": "2022-04-26T10:39:21.543Z"
   },
   {
    "duration": 105,
    "start_time": "2022-04-26T10:49:27.880Z"
   },
   {
    "duration": 591,
    "start_time": "2022-04-26T10:49:49.785Z"
   },
   {
    "duration": 166,
    "start_time": "2022-04-26T11:01:02.133Z"
   },
   {
    "duration": 136,
    "start_time": "2022-04-26T11:01:18.969Z"
   },
   {
    "duration": 144,
    "start_time": "2022-04-26T11:01:39.257Z"
   },
   {
    "duration": 16,
    "start_time": "2022-04-26T11:02:55.120Z"
   },
   {
    "duration": 16,
    "start_time": "2022-04-26T11:03:32.124Z"
   },
   {
    "duration": 49,
    "start_time": "2022-04-26T11:13:38.311Z"
   },
   {
    "duration": 1749,
    "start_time": "2022-04-26T11:21:59.402Z"
   },
   {
    "duration": 1364,
    "start_time": "2022-04-26T11:22:01.153Z"
   },
   {
    "duration": 151,
    "start_time": "2022-04-26T11:22:02.520Z"
   },
   {
    "duration": 34,
    "start_time": "2022-04-26T11:22:02.674Z"
   },
   {
    "duration": 125,
    "start_time": "2022-04-26T11:22:02.713Z"
   },
   {
    "duration": 27,
    "start_time": "2022-04-26T11:22:02.841Z"
   },
   {
    "duration": 134,
    "start_time": "2022-04-26T11:22:02.870Z"
   },
   {
    "duration": 260,
    "start_time": "2022-04-26T11:22:03.006Z"
   },
   {
    "duration": 864,
    "start_time": "2022-04-26T11:22:03.268Z"
   },
   {
    "duration": 201,
    "start_time": "2022-04-26T11:22:04.135Z"
   },
   {
    "duration": 144,
    "start_time": "2022-04-26T11:22:04.343Z"
   },
   {
    "duration": 557,
    "start_time": "2022-04-26T11:22:04.489Z"
   },
   {
    "duration": 6,
    "start_time": "2022-04-26T11:22:05.048Z"
   },
   {
    "duration": 49848,
    "start_time": "2022-04-26T11:22:05.055Z"
   },
   {
    "duration": 38,
    "start_time": "2022-04-26T11:22:54.905Z"
   },
   {
    "duration": 143,
    "start_time": "2022-04-26T11:22:54.945Z"
   },
   {
    "duration": 16,
    "start_time": "2022-04-26T11:22:55.090Z"
   },
   {
    "duration": 173,
    "start_time": "2022-04-26T11:22:55.109Z"
   },
   {
    "duration": 243,
    "start_time": "2022-04-26T11:22:55.284Z"
   },
   {
    "duration": 43,
    "start_time": "2022-04-26T11:22:55.529Z"
   },
   {
    "duration": 459,
    "start_time": "2022-04-26T11:22:55.574Z"
   },
   {
    "duration": 316,
    "start_time": "2022-04-26T11:22:56.035Z"
   },
   {
    "duration": 426,
    "start_time": "2022-04-26T11:22:56.353Z"
   },
   {
    "duration": 44,
    "start_time": "2022-04-26T11:22:56.781Z"
   },
   {
    "duration": 26,
    "start_time": "2022-04-26T11:23:35.961Z"
   },
   {
    "duration": 1994,
    "start_time": "2022-04-26T11:24:13.387Z"
   },
   {
    "duration": 1137,
    "start_time": "2022-04-26T11:24:15.384Z"
   },
   {
    "duration": 100,
    "start_time": "2022-04-26T11:24:16.522Z"
   },
   {
    "duration": 22,
    "start_time": "2022-04-26T11:24:16.624Z"
   },
   {
    "duration": 103,
    "start_time": "2022-04-26T11:24:16.648Z"
   },
   {
    "duration": 23,
    "start_time": "2022-04-26T11:24:16.754Z"
   },
   {
    "duration": 132,
    "start_time": "2022-04-26T11:24:16.778Z"
   },
   {
    "duration": 319,
    "start_time": "2022-04-26T11:24:16.913Z"
   },
   {
    "duration": 638,
    "start_time": "2022-04-26T11:24:17.233Z"
   },
   {
    "duration": 171,
    "start_time": "2022-04-26T11:24:17.873Z"
   },
   {
    "duration": 191,
    "start_time": "2022-04-26T11:24:18.046Z"
   },
   {
    "duration": 817,
    "start_time": "2022-04-26T11:24:18.240Z"
   },
   {
    "duration": 9,
    "start_time": "2022-04-26T11:24:19.059Z"
   },
   {
    "duration": 55586,
    "start_time": "2022-04-26T11:24:19.070Z"
   },
   {
    "duration": 50,
    "start_time": "2022-04-26T11:25:14.659Z"
   },
   {
    "duration": 166,
    "start_time": "2022-04-26T11:25:14.711Z"
   },
   {
    "duration": 17,
    "start_time": "2022-04-26T11:25:14.879Z"
   },
   {
    "duration": 115,
    "start_time": "2022-04-26T11:25:14.901Z"
   },
   {
    "duration": 248,
    "start_time": "2022-04-26T11:25:15.018Z"
   },
   {
    "duration": 45,
    "start_time": "2022-04-26T11:25:15.269Z"
   },
   {
    "duration": 415,
    "start_time": "2022-04-26T11:25:15.316Z"
   },
   {
    "duration": 295,
    "start_time": "2022-04-26T11:25:15.733Z"
   },
   {
    "duration": 483,
    "start_time": "2022-04-26T11:25:16.030Z"
   },
   {
    "duration": 27,
    "start_time": "2022-04-26T11:25:16.515Z"
   },
   {
    "duration": 10,
    "start_time": "2022-04-26T11:29:04.877Z"
   },
   {
    "duration": 3122,
    "start_time": "2022-04-26T17:28:56.073Z"
   },
   {
    "duration": 1475,
    "start_time": "2022-04-26T17:28:59.198Z"
   },
   {
    "duration": 154,
    "start_time": "2022-04-26T17:29:00.675Z"
   },
   {
    "duration": 37,
    "start_time": "2022-04-26T17:29:00.839Z"
   },
   {
    "duration": 138,
    "start_time": "2022-04-26T17:29:00.879Z"
   },
   {
    "duration": 45,
    "start_time": "2022-04-26T17:29:01.019Z"
   },
   {
    "duration": 141,
    "start_time": "2022-04-26T17:29:01.066Z"
   },
   {
    "duration": 359,
    "start_time": "2022-04-26T17:29:01.209Z"
   },
   {
    "duration": 1099,
    "start_time": "2022-04-26T17:29:01.570Z"
   },
   {
    "duration": 279,
    "start_time": "2022-04-26T17:29:02.672Z"
   },
   {
    "duration": 162,
    "start_time": "2022-04-26T17:29:02.955Z"
   },
   {
    "duration": 851,
    "start_time": "2022-04-26T17:29:03.124Z"
   },
   {
    "duration": 9,
    "start_time": "2022-04-26T17:29:03.978Z"
   },
   {
    "duration": 89575,
    "start_time": "2022-04-26T17:29:03.993Z"
   },
   {
    "duration": 40,
    "start_time": "2022-04-26T17:30:33.573Z"
   },
   {
    "duration": 217,
    "start_time": "2022-04-26T17:30:33.628Z"
   },
   {
    "duration": 20,
    "start_time": "2022-04-26T17:30:33.847Z"
   },
   {
    "duration": 161,
    "start_time": "2022-04-26T17:30:33.869Z"
   },
   {
    "duration": 236,
    "start_time": "2022-04-26T17:30:34.033Z"
   },
   {
    "duration": 37,
    "start_time": "2022-04-26T17:30:34.271Z"
   },
   {
    "duration": 658,
    "start_time": "2022-04-26T17:30:34.310Z"
   },
   {
    "duration": 424,
    "start_time": "2022-04-26T17:30:34.971Z"
   },
   {
    "duration": 629,
    "start_time": "2022-04-26T17:30:35.397Z"
   },
   {
    "duration": 46,
    "start_time": "2022-04-26T17:30:36.028Z"
   },
   {
    "duration": 26,
    "start_time": "2022-04-26T17:30:36.077Z"
   },
   {
    "duration": 1649,
    "start_time": "2022-04-27T04:41:34.378Z"
   },
   {
    "duration": 907,
    "start_time": "2022-04-27T04:41:36.029Z"
   },
   {
    "duration": 94,
    "start_time": "2022-04-27T04:41:36.938Z"
   },
   {
    "duration": 16,
    "start_time": "2022-04-27T04:41:37.033Z"
   },
   {
    "duration": 93,
    "start_time": "2022-04-27T04:41:37.051Z"
   },
   {
    "duration": 22,
    "start_time": "2022-04-27T04:41:37.146Z"
   },
   {
    "duration": 76,
    "start_time": "2022-04-27T04:41:37.170Z"
   },
   {
    "duration": 204,
    "start_time": "2022-04-27T04:41:37.248Z"
   },
   {
    "duration": 531,
    "start_time": "2022-04-27T04:41:37.454Z"
   },
   {
    "duration": 151,
    "start_time": "2022-04-27T04:41:37.986Z"
   },
   {
    "duration": 90,
    "start_time": "2022-04-27T04:41:38.139Z"
   },
   {
    "duration": 448,
    "start_time": "2022-04-27T04:41:38.230Z"
   },
   {
    "duration": 5,
    "start_time": "2022-04-27T04:41:38.679Z"
   },
   {
    "duration": 38925,
    "start_time": "2022-04-27T04:41:38.687Z"
   },
   {
    "duration": 22,
    "start_time": "2022-04-27T04:42:17.613Z"
   },
   {
    "duration": 112,
    "start_time": "2022-04-27T04:42:17.637Z"
   },
   {
    "duration": 10,
    "start_time": "2022-04-27T04:42:17.751Z"
   },
   {
    "duration": 96,
    "start_time": "2022-04-27T04:42:17.762Z"
   },
   {
    "duration": 145,
    "start_time": "2022-04-27T04:42:17.859Z"
   },
   {
    "duration": 19,
    "start_time": "2022-04-27T04:42:18.006Z"
   },
   {
    "duration": 313,
    "start_time": "2022-04-27T04:42:18.027Z"
   },
   {
    "duration": 236,
    "start_time": "2022-04-27T04:42:18.342Z"
   },
   {
    "duration": 336,
    "start_time": "2022-04-27T04:42:18.580Z"
   },
   {
    "duration": 24,
    "start_time": "2022-04-27T04:42:18.918Z"
   },
   {
    "duration": 12,
    "start_time": "2022-04-27T04:42:18.944Z"
   },
   {
    "duration": 65,
    "start_time": "2022-04-27T04:44:08.966Z"
   },
   {
    "duration": 47,
    "start_time": "2022-04-27T04:44:27.990Z"
   },
   {
    "duration": 3,
    "start_time": "2022-04-27T10:00:40.690Z"
   },
   {
    "duration": 56,
    "start_time": "2022-04-27T10:03:45.901Z"
   },
   {
    "duration": 4,
    "start_time": "2022-04-27T10:06:46.835Z"
   },
   {
    "duration": 120,
    "start_time": "2022-04-27T10:09:24.893Z"
   },
   {
    "duration": 173,
    "start_time": "2022-04-27T10:17:43.528Z"
   },
   {
    "duration": 176,
    "start_time": "2022-04-27T10:18:40.157Z"
   },
   {
    "duration": 175,
    "start_time": "2022-04-27T10:18:48.365Z"
   },
   {
    "duration": 11,
    "start_time": "2022-04-27T10:41:02.295Z"
   },
   {
    "duration": 4,
    "start_time": "2022-04-27T10:41:43.226Z"
   },
   {
    "duration": 1105,
    "start_time": "2022-04-27T10:41:46.745Z"
   },
   {
    "duration": 1019,
    "start_time": "2022-04-27T10:43:02.601Z"
   },
   {
    "duration": 44404,
    "start_time": "2022-04-27T10:52:04.352Z"
   },
   {
    "duration": 5,
    "start_time": "2022-04-27T11:01:54.575Z"
   },
   {
    "duration": 52497,
    "start_time": "2022-04-27T11:03:56.426Z"
   },
   {
    "duration": 49644,
    "start_time": "2022-04-27T11:05:51.873Z"
   },
   {
    "duration": 956,
    "start_time": "2022-04-27T11:12:02.962Z"
   },
   {
    "duration": 907,
    "start_time": "2022-04-27T11:12:52.679Z"
   },
   {
    "duration": 931,
    "start_time": "2022-04-27T11:13:25.326Z"
   },
   {
    "duration": 923,
    "start_time": "2022-04-27T11:13:40.178Z"
   },
   {
    "duration": 1034,
    "start_time": "2022-04-27T11:13:57.414Z"
   },
   {
    "duration": 892,
    "start_time": "2022-04-27T11:14:45.361Z"
   },
   {
    "duration": 1093,
    "start_time": "2022-04-27T11:15:01.838Z"
   },
   {
    "duration": 964,
    "start_time": "2022-04-27T11:15:12.131Z"
   },
   {
    "duration": 916,
    "start_time": "2022-04-27T11:15:22.450Z"
   },
   {
    "duration": 942,
    "start_time": "2022-04-27T11:17:17.867Z"
   },
   {
    "duration": 5,
    "start_time": "2022-04-27T11:17:58.975Z"
   },
   {
    "duration": 964,
    "start_time": "2022-04-27T11:18:08.727Z"
   },
   {
    "duration": 215,
    "start_time": "2022-04-27T11:19:25.339Z"
   },
   {
    "duration": 1320,
    "start_time": "2022-04-27T11:19:46.327Z"
   },
   {
    "duration": 226,
    "start_time": "2022-04-27T11:19:49.681Z"
   },
   {
    "duration": 122,
    "start_time": "2022-04-27T11:21:36.980Z"
   },
   {
    "duration": 605687,
    "start_time": "2022-04-27T11:25:02.281Z"
   },
   {
    "duration": 625920,
    "start_time": "2022-04-27T11:47:48.473Z"
   },
   {
    "duration": 44932,
    "start_time": "2022-04-27T12:00:55.835Z"
   },
   {
    "duration": 17,
    "start_time": "2022-04-27T12:08:27.501Z"
   },
   {
    "duration": 71,
    "start_time": "2022-04-27T12:08:55.135Z"
   },
   {
    "duration": 1675,
    "start_time": "2022-04-27T15:08:48.034Z"
   },
   {
    "duration": 970,
    "start_time": "2022-04-27T15:08:49.711Z"
   },
   {
    "duration": 97,
    "start_time": "2022-04-27T15:08:50.683Z"
   },
   {
    "duration": 17,
    "start_time": "2022-04-27T15:08:50.782Z"
   },
   {
    "duration": 101,
    "start_time": "2022-04-27T15:08:50.801Z"
   },
   {
    "duration": 24,
    "start_time": "2022-04-27T15:08:50.904Z"
   },
   {
    "duration": 89,
    "start_time": "2022-04-27T15:08:50.930Z"
   },
   {
    "duration": 219,
    "start_time": "2022-04-27T15:08:51.021Z"
   },
   {
    "duration": 573,
    "start_time": "2022-04-27T15:08:51.242Z"
   },
   {
    "duration": 163,
    "start_time": "2022-04-27T15:08:51.817Z"
   },
   {
    "duration": 96,
    "start_time": "2022-04-27T15:08:51.981Z"
   },
   {
    "duration": 472,
    "start_time": "2022-04-27T15:08:52.079Z"
   },
   {
    "duration": 5,
    "start_time": "2022-04-27T15:08:52.553Z"
   },
   {
    "duration": 40960,
    "start_time": "2022-04-27T15:08:52.561Z"
   },
   {
    "duration": 24,
    "start_time": "2022-04-27T15:09:33.522Z"
   },
   {
    "duration": 129,
    "start_time": "2022-04-27T15:09:33.547Z"
   },
   {
    "duration": 10,
    "start_time": "2022-04-27T15:09:33.678Z"
   },
   {
    "duration": 105,
    "start_time": "2022-04-27T15:09:33.690Z"
   },
   {
    "duration": 152,
    "start_time": "2022-04-27T15:09:33.797Z"
   },
   {
    "duration": 33,
    "start_time": "2022-04-27T15:09:33.951Z"
   },
   {
    "duration": 430,
    "start_time": "2022-04-27T15:09:33.986Z"
   },
   {
    "duration": 273,
    "start_time": "2022-04-27T15:09:34.418Z"
   },
   {
    "duration": 392,
    "start_time": "2022-04-27T15:09:34.693Z"
   },
   {
    "duration": 32,
    "start_time": "2022-04-27T15:09:35.086Z"
   },
   {
    "duration": 42,
    "start_time": "2022-04-27T15:09:35.120Z"
   },
   {
    "duration": 69,
    "start_time": "2022-04-27T15:09:35.164Z"
   },
   {
    "duration": 1348,
    "start_time": "2022-04-27T15:09:35.235Z"
   },
   {
    "duration": 307,
    "start_time": "2022-04-27T15:09:36.674Z"
   },
   {
    "duration": 0,
    "start_time": "2022-04-27T15:09:36.983Z"
   },
   {
    "duration": 0,
    "start_time": "2022-04-27T15:09:36.984Z"
   },
   {
    "duration": 0,
    "start_time": "2022-04-27T15:09:36.986Z"
   },
   {
    "duration": 0,
    "start_time": "2022-04-27T15:09:36.987Z"
   },
   {
    "duration": 0,
    "start_time": "2022-04-27T15:09:36.989Z"
   },
   {
    "duration": 1338,
    "start_time": "2022-04-27T15:13:30.844Z"
   },
   {
    "duration": 395,
    "start_time": "2022-04-27T15:13:32.184Z"
   },
   {
    "duration": 0,
    "start_time": "2022-04-27T15:13:32.580Z"
   },
   {
    "duration": 0,
    "start_time": "2022-04-27T15:13:32.582Z"
   },
   {
    "duration": 0,
    "start_time": "2022-04-27T15:13:32.583Z"
   },
   {
    "duration": 0,
    "start_time": "2022-04-27T15:13:32.584Z"
   },
   {
    "duration": 0,
    "start_time": "2022-04-27T15:13:32.585Z"
   },
   {
    "duration": 1331,
    "start_time": "2022-04-27T15:13:46.954Z"
   },
   {
    "duration": 401,
    "start_time": "2022-04-27T15:13:48.373Z"
   },
   {
    "duration": 0,
    "start_time": "2022-04-27T15:13:48.776Z"
   },
   {
    "duration": 0,
    "start_time": "2022-04-27T15:13:48.777Z"
   },
   {
    "duration": 0,
    "start_time": "2022-04-27T15:13:48.779Z"
   },
   {
    "duration": 0,
    "start_time": "2022-04-27T15:13:48.779Z"
   },
   {
    "duration": 0,
    "start_time": "2022-04-27T15:13:48.781Z"
   },
   {
    "duration": 45780,
    "start_time": "2022-04-27T15:13:57.924Z"
   },
   {
    "duration": 749,
    "start_time": "2022-04-27T15:14:43.706Z"
   },
   {
    "duration": 483226,
    "start_time": "2022-04-27T15:14:44.457Z"
   },
   {
    "duration": 38698,
    "start_time": "2022-04-27T15:22:47.685Z"
   },
   {
    "duration": 564104,
    "start_time": "2022-04-27T15:23:26.386Z"
   },
   {
    "duration": 287,
    "start_time": "2022-04-27T15:32:50.492Z"
   },
   {
    "duration": 12754,
    "start_time": "2022-04-27T16:54:07.530Z"
   },
   {
    "duration": 19,
    "start_time": "2022-04-27T16:58:08.308Z"
   },
   {
    "duration": 4,
    "start_time": "2022-04-27T16:58:25.695Z"
   },
   {
    "duration": 6197,
    "start_time": "2022-04-27T16:58:33.279Z"
   },
   {
    "duration": 1597,
    "start_time": "2022-04-27T17:00:55.624Z"
   },
   {
    "duration": 2705,
    "start_time": "2022-04-27T17:00:57.224Z"
   },
   {
    "duration": 92,
    "start_time": "2022-04-27T17:00:59.931Z"
   },
   {
    "duration": 21,
    "start_time": "2022-04-27T17:01:00.025Z"
   },
   {
    "duration": 104,
    "start_time": "2022-04-27T17:01:00.048Z"
   },
   {
    "duration": 22,
    "start_time": "2022-04-27T17:01:00.154Z"
   },
   {
    "duration": 101,
    "start_time": "2022-04-27T17:01:00.178Z"
   },
   {
    "duration": 213,
    "start_time": "2022-04-27T17:01:00.281Z"
   },
   {
    "duration": 622,
    "start_time": "2022-04-27T17:01:00.496Z"
   },
   {
    "duration": 171,
    "start_time": "2022-04-27T17:01:01.121Z"
   },
   {
    "duration": 124,
    "start_time": "2022-04-27T17:01:01.294Z"
   },
   {
    "duration": 525,
    "start_time": "2022-04-27T17:01:01.419Z"
   },
   {
    "duration": 6,
    "start_time": "2022-04-27T17:01:01.945Z"
   },
   {
    "duration": 43147,
    "start_time": "2022-04-27T17:01:01.953Z"
   },
   {
    "duration": 26,
    "start_time": "2022-04-27T17:01:45.102Z"
   },
   {
    "duration": 123,
    "start_time": "2022-04-27T17:01:45.129Z"
   },
   {
    "duration": 19,
    "start_time": "2022-04-27T17:01:45.254Z"
   },
   {
    "duration": 100,
    "start_time": "2022-04-27T17:01:45.274Z"
   },
   {
    "duration": 162,
    "start_time": "2022-04-27T17:01:45.376Z"
   },
   {
    "duration": 33,
    "start_time": "2022-04-27T17:01:45.540Z"
   },
   {
    "duration": 349,
    "start_time": "2022-04-27T17:01:45.575Z"
   },
   {
    "duration": 329,
    "start_time": "2022-04-27T17:01:45.925Z"
   },
   {
    "duration": 416,
    "start_time": "2022-04-27T17:01:46.257Z"
   },
   {
    "duration": 31,
    "start_time": "2022-04-27T17:01:46.675Z"
   },
   {
    "duration": 23,
    "start_time": "2022-04-27T17:01:46.708Z"
   },
   {
    "duration": 60,
    "start_time": "2022-04-27T17:01:46.733Z"
   },
   {
    "duration": 1287,
    "start_time": "2022-04-27T17:01:46.795Z"
   },
   {
    "duration": 44108,
    "start_time": "2022-04-27T17:01:48.086Z"
   },
   {
    "duration": 473034,
    "start_time": "2022-04-27T17:02:32.195Z"
   },
   {
    "duration": 355658,
    "start_time": "2022-04-27T17:10:25.231Z"
   },
   {
    "duration": 287,
    "start_time": "2022-04-27T17:16:20.891Z"
   },
   {
    "duration": 799,
    "start_time": "2022-04-27T17:16:21.180Z"
   },
   {
    "duration": 36188,
    "start_time": "2022-04-27T17:16:21.981Z"
   },
   {
    "duration": 10918,
    "start_time": "2022-04-27T17:16:58.171Z"
   },
   {
    "duration": 1614,
    "start_time": "2022-04-28T04:05:44.779Z"
   },
   {
    "duration": 875,
    "start_time": "2022-04-28T04:05:46.395Z"
   },
   {
    "duration": 81,
    "start_time": "2022-04-28T04:05:47.272Z"
   },
   {
    "duration": 15,
    "start_time": "2022-04-28T04:05:47.355Z"
   },
   {
    "duration": 78,
    "start_time": "2022-04-28T04:05:47.372Z"
   },
   {
    "duration": 18,
    "start_time": "2022-04-28T04:05:47.452Z"
   },
   {
    "duration": 76,
    "start_time": "2022-04-28T04:05:47.471Z"
   },
   {
    "duration": 171,
    "start_time": "2022-04-28T04:05:47.549Z"
   },
   {
    "duration": 532,
    "start_time": "2022-04-28T04:05:47.721Z"
   },
   {
    "duration": 153,
    "start_time": "2022-04-28T04:05:48.255Z"
   },
   {
    "duration": 93,
    "start_time": "2022-04-28T04:05:48.410Z"
   },
   {
    "duration": 460,
    "start_time": "2022-04-28T04:05:48.505Z"
   },
   {
    "duration": 5,
    "start_time": "2022-04-28T04:05:48.967Z"
   },
   {
    "duration": 41351,
    "start_time": "2022-04-28T04:05:48.974Z"
   },
   {
    "duration": 24,
    "start_time": "2022-04-28T04:06:30.326Z"
   },
   {
    "duration": 118,
    "start_time": "2022-04-28T04:06:30.352Z"
   },
   {
    "duration": 10,
    "start_time": "2022-04-28T04:06:30.472Z"
   },
   {
    "duration": 92,
    "start_time": "2022-04-28T04:06:30.484Z"
   },
   {
    "duration": 145,
    "start_time": "2022-04-28T04:06:30.578Z"
   },
   {
    "duration": 22,
    "start_time": "2022-04-28T04:06:30.725Z"
   },
   {
    "duration": 413,
    "start_time": "2022-04-28T04:06:30.749Z"
   },
   {
    "duration": 283,
    "start_time": "2022-04-28T04:06:31.164Z"
   },
   {
    "duration": 370,
    "start_time": "2022-04-28T04:06:31.449Z"
   },
   {
    "duration": 29,
    "start_time": "2022-04-28T04:06:31.821Z"
   },
   {
    "duration": 12,
    "start_time": "2022-04-28T04:06:31.851Z"
   },
   {
    "duration": 68,
    "start_time": "2022-04-28T04:06:31.865Z"
   },
   {
    "duration": 1291,
    "start_time": "2022-04-28T04:06:31.935Z"
   },
   {
    "duration": 40964,
    "start_time": "2022-04-28T04:06:33.228Z"
   },
   {
    "duration": 447691,
    "start_time": "2022-04-28T04:07:14.193Z"
   },
   {
    "duration": 316646,
    "start_time": "2022-04-28T04:14:41.886Z"
   },
   {
    "duration": 111,
    "start_time": "2022-04-28T04:19:58.533Z"
   },
   {
    "duration": 79,
    "start_time": "2022-04-28T04:19:58.646Z"
   },
   {
    "duration": 98,
    "start_time": "2022-04-28T04:19:58.727Z"
   },
   {
    "duration": 770,
    "start_time": "2022-04-28T04:19:58.827Z"
   },
   {
    "duration": 25,
    "start_time": "2022-04-28T04:19:59.598Z"
   },
   {
    "duration": 5,
    "start_time": "2022-04-28T04:19:59.625Z"
   },
   {
    "duration": 34864,
    "start_time": "2022-04-28T04:19:59.631Z"
   },
   {
    "duration": 91,
    "start_time": "2022-04-28T04:20:34.497Z"
   },
   {
    "duration": 5,
    "start_time": "2022-04-28T04:20:34.590Z"
   },
   {
    "duration": 9427,
    "start_time": "2022-04-28T04:20:34.597Z"
   },
   {
    "duration": 613,
    "start_time": "2022-04-28T04:20:44.029Z"
   },
   {
    "duration": 6,
    "start_time": "2022-04-28T04:20:44.723Z"
   },
   {
    "duration": 237,
    "start_time": "2022-04-29T03:54:57.416Z"
   },
   {
    "duration": 228,
    "start_time": "2022-04-29T03:55:00.259Z"
   },
   {
    "duration": 1912,
    "start_time": "2022-04-29T06:13:50.220Z"
   },
   {
    "duration": 1454,
    "start_time": "2022-04-29T06:13:52.135Z"
   },
   {
    "duration": 168,
    "start_time": "2022-04-29T06:13:53.591Z"
   },
   {
    "duration": 24,
    "start_time": "2022-04-29T06:13:53.762Z"
   },
   {
    "duration": 169,
    "start_time": "2022-04-29T06:13:53.788Z"
   },
   {
    "duration": 35,
    "start_time": "2022-04-29T06:13:53.959Z"
   },
   {
    "duration": 109,
    "start_time": "2022-04-29T06:13:57.708Z"
   },
   {
    "duration": 274,
    "start_time": "2022-04-29T06:25:37.971Z"
   },
   {
    "duration": 625,
    "start_time": "2022-04-29T06:25:48.685Z"
   },
   {
    "duration": 210,
    "start_time": "2022-04-29T06:25:53.339Z"
   },
   {
    "duration": 105,
    "start_time": "2022-04-29T06:25:57.613Z"
   },
   {
    "duration": 555,
    "start_time": "2022-04-29T06:26:00.652Z"
   },
   {
    "duration": 5,
    "start_time": "2022-04-29T06:26:05.084Z"
   },
   {
    "duration": 47295,
    "start_time": "2022-04-29T06:26:08.028Z"
   },
   {
    "duration": 23,
    "start_time": "2022-04-29T06:34:13.614Z"
   },
   {
    "duration": 92,
    "start_time": "2022-04-29T06:34:18.316Z"
   },
   {
    "duration": 103,
    "start_time": "2022-04-29T06:35:07.012Z"
   },
   {
    "duration": 10,
    "start_time": "2022-04-29T06:35:09.069Z"
   },
   {
    "duration": 92,
    "start_time": "2022-04-29T06:35:10.940Z"
   },
   {
    "duration": 139,
    "start_time": "2022-04-29T06:53:11.534Z"
   },
   {
    "duration": 24,
    "start_time": "2022-04-29T06:53:14.704Z"
   },
   {
    "duration": 397,
    "start_time": "2022-04-29T06:53:17.135Z"
   },
   {
    "duration": 5,
    "start_time": "2022-04-29T07:25:57.307Z"
   },
   {
    "duration": 1250,
    "start_time": "2022-04-29T07:25:57.314Z"
   },
   {
    "duration": 88,
    "start_time": "2022-04-29T07:25:58.566Z"
   },
   {
    "duration": 13,
    "start_time": "2022-04-29T07:25:58.656Z"
   },
   {
    "duration": 100,
    "start_time": "2022-04-29T07:25:58.672Z"
   },
   {
    "duration": 19,
    "start_time": "2022-04-29T07:25:58.774Z"
   },
   {
    "duration": 89,
    "start_time": "2022-04-29T07:25:58.795Z"
   },
   {
    "duration": 329,
    "start_time": "2022-04-29T07:25:58.886Z"
   },
   {
    "duration": 595,
    "start_time": "2022-04-29T07:25:59.217Z"
   },
   {
    "duration": 149,
    "start_time": "2022-04-29T07:25:59.814Z"
   },
   {
    "duration": 91,
    "start_time": "2022-04-29T07:25:59.964Z"
   },
   {
    "duration": 410,
    "start_time": "2022-04-29T07:26:00.057Z"
   },
   {
    "duration": 6,
    "start_time": "2022-04-29T07:26:00.469Z"
   },
   {
    "duration": 41584,
    "start_time": "2022-04-29T07:26:00.478Z"
   },
   {
    "duration": 25,
    "start_time": "2022-04-29T07:26:42.063Z"
   },
   {
    "duration": 115,
    "start_time": "2022-04-29T07:26:42.090Z"
   },
   {
    "duration": 11,
    "start_time": "2022-04-29T07:26:42.207Z"
   },
   {
    "duration": 104,
    "start_time": "2022-04-29T07:26:42.220Z"
   },
   {
    "duration": 154,
    "start_time": "2022-04-29T07:26:42.326Z"
   },
   {
    "duration": 23,
    "start_time": "2022-04-29T07:26:42.481Z"
   },
   {
    "duration": 331,
    "start_time": "2022-04-29T07:26:42.506Z"
   },
   {
    "duration": 4,
    "start_time": "2022-04-29T07:27:34.767Z"
   },
   {
    "duration": 878,
    "start_time": "2022-04-29T07:27:34.773Z"
   },
   {
    "duration": 88,
    "start_time": "2022-04-29T07:27:35.653Z"
   },
   {
    "duration": 17,
    "start_time": "2022-04-29T07:27:35.743Z"
   },
   {
    "duration": 92,
    "start_time": "2022-04-29T07:27:35.763Z"
   },
   {
    "duration": 20,
    "start_time": "2022-04-29T07:27:35.857Z"
   },
   {
    "duration": 93,
    "start_time": "2022-04-29T07:27:35.878Z"
   },
   {
    "duration": 204,
    "start_time": "2022-04-29T07:27:35.972Z"
   },
   {
    "duration": 527,
    "start_time": "2022-04-29T07:27:36.178Z"
   },
   {
    "duration": 143,
    "start_time": "2022-04-29T07:27:36.707Z"
   },
   {
    "duration": 78,
    "start_time": "2022-04-29T07:27:36.852Z"
   },
   {
    "duration": 414,
    "start_time": "2022-04-29T07:27:36.932Z"
   },
   {
    "duration": 5,
    "start_time": "2022-04-29T07:27:37.354Z"
   },
   {
    "duration": 5,
    "start_time": "2022-04-29T07:38:05.716Z"
   },
   {
    "duration": 1227,
    "start_time": "2022-04-29T07:38:05.723Z"
   },
   {
    "duration": 84,
    "start_time": "2022-04-29T07:38:06.954Z"
   },
   {
    "duration": 29,
    "start_time": "2022-04-29T07:38:07.040Z"
   },
   {
    "duration": 158,
    "start_time": "2022-04-29T07:38:07.071Z"
   },
   {
    "duration": 30,
    "start_time": "2022-04-29T07:38:07.231Z"
   },
   {
    "duration": 91,
    "start_time": "2022-04-29T07:38:07.263Z"
   },
   {
    "duration": 199,
    "start_time": "2022-04-29T07:38:07.356Z"
   },
   {
    "duration": 527,
    "start_time": "2022-04-29T07:38:07.557Z"
   },
   {
    "duration": 143,
    "start_time": "2022-04-29T07:38:08.086Z"
   },
   {
    "duration": 92,
    "start_time": "2022-04-29T07:38:08.231Z"
   },
   {
    "duration": 475,
    "start_time": "2022-04-29T07:38:08.325Z"
   },
   {
    "duration": 5,
    "start_time": "2022-04-29T07:38:08.802Z"
   },
   {
    "duration": 43355,
    "start_time": "2022-04-29T07:38:08.810Z"
   },
   {
    "duration": 27,
    "start_time": "2022-04-29T07:38:52.167Z"
   },
   {
    "duration": 119,
    "start_time": "2022-04-29T07:38:52.195Z"
   },
   {
    "duration": 10,
    "start_time": "2022-04-29T07:38:52.316Z"
   },
   {
    "duration": 106,
    "start_time": "2022-04-29T07:38:52.328Z"
   },
   {
    "duration": 154,
    "start_time": "2022-04-29T07:38:52.436Z"
   },
   {
    "duration": 22,
    "start_time": "2022-04-29T07:38:52.592Z"
   },
   {
    "duration": 335,
    "start_time": "2022-04-29T07:38:52.616Z"
   },
   {
    "duration": 22,
    "start_time": "2022-04-29T09:07:38.332Z"
   },
   {
    "duration": 143,
    "start_time": "2022-04-29T09:09:52.621Z"
   },
   {
    "duration": 19,
    "start_time": "2022-04-29T09:12:54.405Z"
   },
   {
    "duration": 13,
    "start_time": "2022-04-29T09:24:17.528Z"
   },
   {
    "duration": 12,
    "start_time": "2022-04-29T09:24:34.101Z"
   },
   {
    "duration": 12,
    "start_time": "2022-04-29T09:43:13.383Z"
   },
   {
    "duration": 12,
    "start_time": "2022-04-29T09:44:08.023Z"
   },
   {
    "duration": 9,
    "start_time": "2022-04-29T09:44:20.888Z"
   },
   {
    "duration": 10,
    "start_time": "2022-04-29T09:54:08.154Z"
   },
   {
    "duration": 9,
    "start_time": "2022-04-29T09:55:31.515Z"
   },
   {
    "duration": 19,
    "start_time": "2022-04-29T09:55:39.064Z"
   },
   {
    "duration": 17,
    "start_time": "2022-04-29T09:57:24.969Z"
   },
   {
    "duration": 26,
    "start_time": "2022-04-29T09:57:48.123Z"
   },
   {
    "duration": 31,
    "start_time": "2022-04-29T09:59:11.161Z"
   },
   {
    "duration": 1534,
    "start_time": "2022-04-29T09:59:24.101Z"
   },
   {
    "duration": 894,
    "start_time": "2022-04-29T09:59:25.637Z"
   },
   {
    "duration": 101,
    "start_time": "2022-04-29T09:59:26.532Z"
   },
   {
    "duration": 20,
    "start_time": "2022-04-29T09:59:26.635Z"
   },
   {
    "duration": 83,
    "start_time": "2022-04-29T09:59:26.657Z"
   },
   {
    "duration": 23,
    "start_time": "2022-04-29T09:59:26.754Z"
   },
   {
    "duration": 86,
    "start_time": "2022-04-29T09:59:26.779Z"
   },
   {
    "duration": 236,
    "start_time": "2022-04-29T09:59:26.867Z"
   },
   {
    "duration": 556,
    "start_time": "2022-04-29T09:59:27.104Z"
   },
   {
    "duration": 157,
    "start_time": "2022-04-29T09:59:27.663Z"
   },
   {
    "duration": 103,
    "start_time": "2022-04-29T09:59:27.822Z"
   },
   {
    "duration": 459,
    "start_time": "2022-04-29T09:59:27.927Z"
   },
   {
    "duration": 5,
    "start_time": "2022-04-29T09:59:28.388Z"
   },
   {
    "duration": 41052,
    "start_time": "2022-04-29T09:59:28.395Z"
   },
   {
    "duration": 29,
    "start_time": "2022-04-29T10:00:09.448Z"
   },
   {
    "duration": 109,
    "start_time": "2022-04-29T10:00:09.479Z"
   },
   {
    "duration": 11,
    "start_time": "2022-04-29T10:00:09.590Z"
   },
   {
    "duration": 104,
    "start_time": "2022-04-29T10:00:09.602Z"
   },
   {
    "duration": 148,
    "start_time": "2022-04-29T10:00:09.708Z"
   },
   {
    "duration": 22,
    "start_time": "2022-04-29T10:00:09.858Z"
   },
   {
    "duration": 427,
    "start_time": "2022-04-29T10:00:09.882Z"
   },
   {
    "duration": 37,
    "start_time": "2022-04-29T10:01:34.440Z"
   },
   {
    "duration": 2560,
    "start_time": "2022-04-29T10:03:47.001Z"
   },
   {
    "duration": 985,
    "start_time": "2022-04-29T10:05:12.809Z"
   },
   {
    "duration": 108,
    "start_time": "2022-04-29T10:05:15.880Z"
   },
   {
    "duration": 2426,
    "start_time": "2022-04-29T10:06:52.605Z"
   },
   {
    "duration": 1523,
    "start_time": "2022-04-29T10:06:55.035Z"
   },
   {
    "duration": 171,
    "start_time": "2022-04-29T10:06:56.560Z"
   },
   {
    "duration": 35,
    "start_time": "2022-04-29T10:06:56.733Z"
   },
   {
    "duration": 124,
    "start_time": "2022-04-29T10:06:56.772Z"
   },
   {
    "duration": 22,
    "start_time": "2022-04-29T10:06:56.898Z"
   },
   {
    "duration": 97,
    "start_time": "2022-04-29T10:06:56.921Z"
   },
   {
    "duration": 246,
    "start_time": "2022-04-29T10:06:57.019Z"
   },
   {
    "duration": 575,
    "start_time": "2022-04-29T10:06:57.267Z"
   },
   {
    "duration": 160,
    "start_time": "2022-04-29T10:06:57.843Z"
   },
   {
    "duration": 111,
    "start_time": "2022-04-29T10:06:58.005Z"
   },
   {
    "duration": 477,
    "start_time": "2022-04-29T10:06:58.117Z"
   },
   {
    "duration": 6,
    "start_time": "2022-04-29T10:06:58.596Z"
   },
   {
    "duration": 41944,
    "start_time": "2022-04-29T10:06:58.605Z"
   },
   {
    "duration": 26,
    "start_time": "2022-04-29T10:07:40.555Z"
   },
   {
    "duration": 127,
    "start_time": "2022-04-29T10:07:40.582Z"
   },
   {
    "duration": 11,
    "start_time": "2022-04-29T10:07:40.711Z"
   },
   {
    "duration": 108,
    "start_time": "2022-04-29T10:07:40.724Z"
   },
   {
    "duration": 160,
    "start_time": "2022-04-29T10:07:40.834Z"
   },
   {
    "duration": 23,
    "start_time": "2022-04-29T10:07:40.995Z"
   },
   {
    "duration": 440,
    "start_time": "2022-04-29T10:07:41.020Z"
   },
   {
    "duration": 11,
    "start_time": "2022-04-29T10:10:34.628Z"
   },
   {
    "duration": 150,
    "start_time": "2022-04-29T10:10:48.649Z"
   },
   {
    "duration": 94,
    "start_time": "2022-04-29T10:11:56.746Z"
   },
   {
    "duration": 36,
    "start_time": "2022-04-29T10:12:17.737Z"
   },
   {
    "duration": 93,
    "start_time": "2022-04-29T10:12:56.617Z"
   },
   {
    "duration": 38,
    "start_time": "2022-04-29T10:13:13.432Z"
   },
   {
    "duration": 85,
    "start_time": "2022-04-29T10:13:20.954Z"
   },
   {
    "duration": 1715,
    "start_time": "2022-04-29T10:14:11.222Z"
   },
   {
    "duration": 910,
    "start_time": "2022-04-29T10:14:12.940Z"
   },
   {
    "duration": 101,
    "start_time": "2022-04-29T10:14:13.855Z"
   },
   {
    "duration": 17,
    "start_time": "2022-04-29T10:14:13.958Z"
   },
   {
    "duration": 98,
    "start_time": "2022-04-29T10:14:13.976Z"
   },
   {
    "duration": 26,
    "start_time": "2022-04-29T10:14:14.075Z"
   },
   {
    "duration": 99,
    "start_time": "2022-04-29T10:14:14.102Z"
   },
   {
    "duration": 258,
    "start_time": "2022-04-29T10:14:14.203Z"
   },
   {
    "duration": 562,
    "start_time": "2022-04-29T10:14:14.462Z"
   },
   {
    "duration": 167,
    "start_time": "2022-04-29T10:14:15.028Z"
   },
   {
    "duration": 98,
    "start_time": "2022-04-29T10:14:15.197Z"
   },
   {
    "duration": 485,
    "start_time": "2022-04-29T10:14:15.297Z"
   },
   {
    "duration": 7,
    "start_time": "2022-04-29T10:14:15.784Z"
   },
   {
    "duration": 41875,
    "start_time": "2022-04-29T10:14:15.792Z"
   },
   {
    "duration": 26,
    "start_time": "2022-04-29T10:14:57.669Z"
   },
   {
    "duration": 122,
    "start_time": "2022-04-29T10:14:57.697Z"
   },
   {
    "duration": 11,
    "start_time": "2022-04-29T10:14:57.821Z"
   },
   {
    "duration": 101,
    "start_time": "2022-04-29T10:14:57.834Z"
   },
   {
    "duration": 155,
    "start_time": "2022-04-29T10:14:57.938Z"
   },
   {
    "duration": 24,
    "start_time": "2022-04-29T10:14:58.095Z"
   },
   {
    "duration": 344,
    "start_time": "2022-04-29T10:14:58.121Z"
   },
   {
    "duration": 181,
    "start_time": "2022-04-29T10:16:07.594Z"
   },
   {
    "duration": 75,
    "start_time": "2022-04-29T10:17:00.648Z"
   },
   {
    "duration": 135,
    "start_time": "2022-04-29T10:18:06.025Z"
   },
   {
    "duration": 301,
    "start_time": "2022-04-29T10:18:30.785Z"
   },
   {
    "duration": 126,
    "start_time": "2022-04-29T10:18:41.513Z"
   },
   {
    "duration": 35,
    "start_time": "2022-04-29T10:19:41.274Z"
   },
   {
    "duration": 44,
    "start_time": "2022-04-29T10:20:02.860Z"
   },
   {
    "duration": 227,
    "start_time": "2022-04-29T10:20:12.729Z"
   },
   {
    "duration": 53,
    "start_time": "2022-04-29T10:20:55.306Z"
   },
   {
    "duration": 76,
    "start_time": "2022-04-29T10:21:16.937Z"
   },
   {
    "duration": 33,
    "start_time": "2022-04-29T10:22:43.482Z"
   },
   {
    "duration": 49,
    "start_time": "2022-04-29T10:23:02.248Z"
   },
   {
    "duration": 72,
    "start_time": "2022-04-29T10:24:14.944Z"
   },
   {
    "duration": 724,
    "start_time": "2022-04-29T10:43:54.107Z"
   },
   {
    "duration": 1631,
    "start_time": "2022-04-29T10:44:33.704Z"
   },
   {
    "duration": 925,
    "start_time": "2022-04-29T10:44:35.337Z"
   },
   {
    "duration": 95,
    "start_time": "2022-04-29T10:44:36.264Z"
   },
   {
    "duration": 16,
    "start_time": "2022-04-29T10:44:36.362Z"
   },
   {
    "duration": 103,
    "start_time": "2022-04-29T10:44:36.379Z"
   },
   {
    "duration": 26,
    "start_time": "2022-04-29T10:44:36.483Z"
   },
   {
    "duration": 95,
    "start_time": "2022-04-29T10:44:36.511Z"
   },
   {
    "duration": 247,
    "start_time": "2022-04-29T10:44:36.608Z"
   },
   {
    "duration": 564,
    "start_time": "2022-04-29T10:44:36.857Z"
   },
   {
    "duration": 157,
    "start_time": "2022-04-29T10:44:37.424Z"
   },
   {
    "duration": 104,
    "start_time": "2022-04-29T10:44:37.583Z"
   },
   {
    "duration": 452,
    "start_time": "2022-04-29T10:44:37.689Z"
   },
   {
    "duration": 5,
    "start_time": "2022-04-29T10:44:38.143Z"
   },
   {
    "duration": 42453,
    "start_time": "2022-04-29T10:44:38.154Z"
   },
   {
    "duration": 22,
    "start_time": "2022-04-29T10:45:20.609Z"
   },
   {
    "duration": 103,
    "start_time": "2022-04-29T10:45:20.633Z"
   },
   {
    "duration": 18,
    "start_time": "2022-04-29T10:45:20.738Z"
   },
   {
    "duration": 88,
    "start_time": "2022-04-29T10:45:20.757Z"
   },
   {
    "duration": 149,
    "start_time": "2022-04-29T10:45:20.855Z"
   },
   {
    "duration": 22,
    "start_time": "2022-04-29T10:45:21.006Z"
   },
   {
    "duration": 362,
    "start_time": "2022-04-29T10:45:21.029Z"
   },
   {
    "duration": 131,
    "start_time": "2022-04-29T10:45:21.393Z"
   },
   {
    "duration": 82,
    "start_time": "2022-04-29T10:45:21.525Z"
   },
   {
    "duration": 276,
    "start_time": "2022-04-29T10:45:21.608Z"
   },
   {
    "duration": 340,
    "start_time": "2022-04-29T10:45:21.886Z"
   },
   {
    "duration": 29,
    "start_time": "2022-04-29T10:45:22.228Z"
   },
   {
    "duration": 9,
    "start_time": "2022-04-29T10:45:22.258Z"
   },
   {
    "duration": 46,
    "start_time": "2022-04-29T10:45:22.270Z"
   },
   {
    "duration": 945,
    "start_time": "2022-04-29T10:45:22.318Z"
   },
   {
    "duration": 749,
    "start_time": "2022-04-29T10:59:13.005Z"
   },
   {
    "duration": 1153,
    "start_time": "2022-04-29T10:59:45.005Z"
   },
   {
    "duration": 1127,
    "start_time": "2022-04-29T11:00:16.429Z"
   },
   {
    "duration": 1120,
    "start_time": "2022-04-29T11:01:37.820Z"
   },
   {
    "duration": 671,
    "start_time": "2022-04-29T11:01:39.723Z"
   },
   {
    "duration": 48,
    "start_time": "2022-04-29T11:02:28.316Z"
   },
   {
    "duration": 1639,
    "start_time": "2022-04-29T11:05:13.146Z"
   },
   {
    "duration": 921,
    "start_time": "2022-04-29T11:05:14.787Z"
   },
   {
    "duration": 87,
    "start_time": "2022-04-29T11:05:15.710Z"
   },
   {
    "duration": 17,
    "start_time": "2022-04-29T11:05:15.798Z"
   },
   {
    "duration": 92,
    "start_time": "2022-04-29T11:05:15.817Z"
   },
   {
    "duration": 20,
    "start_time": "2022-04-29T11:05:15.910Z"
   },
   {
    "duration": 92,
    "start_time": "2022-04-29T11:05:15.932Z"
   },
   {
    "duration": 240,
    "start_time": "2022-04-29T11:05:16.026Z"
   },
   {
    "duration": 570,
    "start_time": "2022-04-29T11:05:16.268Z"
   },
   {
    "duration": 156,
    "start_time": "2022-04-29T11:05:16.840Z"
   },
   {
    "duration": 106,
    "start_time": "2022-04-29T11:05:16.997Z"
   },
   {
    "duration": 467,
    "start_time": "2022-04-29T11:05:17.104Z"
   },
   {
    "duration": 6,
    "start_time": "2022-04-29T11:05:17.572Z"
   },
   {
    "duration": 40964,
    "start_time": "2022-04-29T11:05:17.580Z"
   },
   {
    "duration": 29,
    "start_time": "2022-04-29T11:05:58.545Z"
   },
   {
    "duration": 111,
    "start_time": "2022-04-29T11:05:58.575Z"
   },
   {
    "duration": 11,
    "start_time": "2022-04-29T11:05:58.688Z"
   },
   {
    "duration": 103,
    "start_time": "2022-04-29T11:05:58.701Z"
   },
   {
    "duration": 153,
    "start_time": "2022-04-29T11:05:58.805Z"
   },
   {
    "duration": 24,
    "start_time": "2022-04-29T11:05:58.959Z"
   },
   {
    "duration": 417,
    "start_time": "2022-04-29T11:05:58.984Z"
   },
   {
    "duration": 129,
    "start_time": "2022-04-29T11:05:59.403Z"
   },
   {
    "duration": 81,
    "start_time": "2022-04-29T11:05:59.534Z"
   },
   {
    "duration": 353,
    "start_time": "2022-04-29T11:05:59.617Z"
   },
   {
    "duration": 342,
    "start_time": "2022-04-29T11:05:59.972Z"
   },
   {
    "duration": 25,
    "start_time": "2022-04-29T11:06:00.316Z"
   },
   {
    "duration": 20,
    "start_time": "2022-04-29T11:06:00.342Z"
   },
   {
    "duration": 78,
    "start_time": "2022-04-29T11:06:00.364Z"
   },
   {
    "duration": 1116,
    "start_time": "2022-04-29T11:06:00.443Z"
   },
   {
    "duration": 1420,
    "start_time": "2022-04-29T11:06:01.562Z"
   },
   {
    "duration": 677,
    "start_time": "2022-04-29T11:06:06.300Z"
   },
   {
    "duration": 100,
    "start_time": "2022-04-29T11:07:53.564Z"
   },
   {
    "duration": 11,
    "start_time": "2022-04-29T11:08:18.492Z"
   },
   {
    "duration": 79,
    "start_time": "2022-04-29T11:08:36.620Z"
   },
   {
    "duration": 96,
    "start_time": "2022-04-29T11:09:54.732Z"
   },
   {
    "duration": 17,
    "start_time": "2022-04-29T11:09:55.708Z"
   },
   {
    "duration": 87,
    "start_time": "2022-04-29T11:10:04.396Z"
   },
   {
    "duration": 18,
    "start_time": "2022-04-29T11:10:17.005Z"
   },
   {
    "duration": 106,
    "start_time": "2022-04-29T11:10:19.757Z"
   },
   {
    "duration": 1115,
    "start_time": "2022-04-29T11:10:20.844Z"
   },
   {
    "duration": 1956,
    "start_time": "2022-04-29T11:11:55.760Z"
   },
   {
    "duration": 2118,
    "start_time": "2022-04-29T11:11:57.718Z"
   },
   {
    "duration": 122,
    "start_time": "2022-04-29T11:11:59.840Z"
   },
   {
    "duration": 21,
    "start_time": "2022-04-29T11:11:59.965Z"
   },
   {
    "duration": 128,
    "start_time": "2022-04-29T11:11:59.988Z"
   },
   {
    "duration": 40,
    "start_time": "2022-04-29T11:12:00.119Z"
   },
   {
    "duration": 101,
    "start_time": "2022-04-29T11:12:00.161Z"
   },
   {
    "duration": 268,
    "start_time": "2022-04-29T11:12:00.265Z"
   },
   {
    "duration": 640,
    "start_time": "2022-04-29T11:12:00.535Z"
   },
   {
    "duration": 187,
    "start_time": "2022-04-29T11:12:01.178Z"
   },
   {
    "duration": 126,
    "start_time": "2022-04-29T11:12:01.367Z"
   },
   {
    "duration": 567,
    "start_time": "2022-04-29T11:12:01.495Z"
   },
   {
    "duration": 8,
    "start_time": "2022-04-29T11:12:02.064Z"
   },
   {
    "duration": 46641,
    "start_time": "2022-04-29T11:12:02.075Z"
   },
   {
    "duration": 49,
    "start_time": "2022-04-29T11:12:48.717Z"
   },
   {
    "duration": 131,
    "start_time": "2022-04-29T11:12:48.769Z"
   },
   {
    "duration": 13,
    "start_time": "2022-04-29T11:12:48.903Z"
   },
   {
    "duration": 123,
    "start_time": "2022-04-29T11:12:48.919Z"
   },
   {
    "duration": 174,
    "start_time": "2022-04-29T11:12:49.044Z"
   },
   {
    "duration": 36,
    "start_time": "2022-04-29T11:12:49.221Z"
   },
   {
    "duration": 403,
    "start_time": "2022-04-29T11:12:49.259Z"
   },
   {
    "duration": 149,
    "start_time": "2022-04-29T11:12:49.665Z"
   },
   {
    "duration": 92,
    "start_time": "2022-04-29T11:12:49.816Z"
   },
   {
    "duration": 339,
    "start_time": "2022-04-29T11:12:49.910Z"
   },
   {
    "duration": 410,
    "start_time": "2022-04-29T11:12:50.254Z"
   },
   {
    "duration": 27,
    "start_time": "2022-04-29T11:12:50.666Z"
   },
   {
    "duration": 22,
    "start_time": "2022-04-29T11:12:50.695Z"
   },
   {
    "duration": 68,
    "start_time": "2022-04-29T11:12:50.721Z"
   },
   {
    "duration": 1066,
    "start_time": "2022-04-29T11:12:50.791Z"
   },
   {
    "duration": 92,
    "start_time": "2022-04-29T11:12:54.866Z"
   },
   {
    "duration": 18,
    "start_time": "2022-04-29T11:12:56.018Z"
   },
   {
    "duration": 1680,
    "start_time": "2022-04-29T11:13:55.395Z"
   },
   {
    "duration": 57,
    "start_time": "2022-04-29T11:13:57.923Z"
   },
   {
    "duration": 84,
    "start_time": "2022-04-29T11:14:50.324Z"
   },
   {
    "duration": 15,
    "start_time": "2022-04-29T11:14:55.511Z"
   },
   {
    "duration": 89,
    "start_time": "2022-04-29T11:15:04.548Z"
   },
   {
    "duration": 84,
    "start_time": "2022-04-29T11:15:13.235Z"
   },
   {
    "duration": 16,
    "start_time": "2022-04-29T11:15:14.242Z"
   },
   {
    "duration": 24,
    "start_time": "2022-04-29T11:16:13.081Z"
   },
   {
    "duration": 49,
    "start_time": "2022-04-29T11:16:23.683Z"
   },
   {
    "duration": 82,
    "start_time": "2022-04-29T11:19:29.363Z"
   },
   {
    "duration": 37,
    "start_time": "2022-04-29T11:19:30.611Z"
   },
   {
    "duration": 17,
    "start_time": "2022-04-29T11:19:50.276Z"
   },
   {
    "duration": 4,
    "start_time": "2022-04-29T11:20:45.447Z"
   },
   {
    "duration": 965,
    "start_time": "2022-04-29T11:20:45.453Z"
   },
   {
    "duration": 100,
    "start_time": "2022-04-29T11:20:46.419Z"
   },
   {
    "duration": 15,
    "start_time": "2022-04-29T11:20:46.522Z"
   },
   {
    "duration": 90,
    "start_time": "2022-04-29T11:20:46.555Z"
   },
   {
    "duration": 26,
    "start_time": "2022-04-29T11:20:46.654Z"
   },
   {
    "duration": 111,
    "start_time": "2022-04-29T11:20:46.682Z"
   },
   {
    "duration": 227,
    "start_time": "2022-04-29T11:20:46.795Z"
   },
   {
    "duration": 600,
    "start_time": "2022-04-29T11:20:47.025Z"
   },
   {
    "duration": 168,
    "start_time": "2022-04-29T11:20:47.628Z"
   },
   {
    "duration": 145,
    "start_time": "2022-04-29T11:20:47.799Z"
   },
   {
    "duration": 651,
    "start_time": "2022-04-29T11:20:47.946Z"
   },
   {
    "duration": 9,
    "start_time": "2022-04-29T11:20:48.600Z"
   },
   {
    "duration": 45138,
    "start_time": "2022-04-29T11:20:48.611Z"
   },
   {
    "duration": 28,
    "start_time": "2022-04-29T11:21:33.755Z"
   },
   {
    "duration": 107,
    "start_time": "2022-04-29T11:21:33.785Z"
   },
   {
    "duration": 11,
    "start_time": "2022-04-29T11:21:33.894Z"
   },
   {
    "duration": 115,
    "start_time": "2022-04-29T11:21:33.907Z"
   },
   {
    "duration": 153,
    "start_time": "2022-04-29T11:21:34.024Z"
   },
   {
    "duration": 25,
    "start_time": "2022-04-29T11:21:34.179Z"
   },
   {
    "duration": 366,
    "start_time": "2022-04-29T11:21:34.206Z"
   },
   {
    "duration": 132,
    "start_time": "2022-04-29T11:21:34.574Z"
   },
   {
    "duration": 84,
    "start_time": "2022-04-29T11:21:34.707Z"
   },
   {
    "duration": 170,
    "start_time": "2022-04-29T11:21:34.793Z"
   },
   {
    "duration": 349,
    "start_time": "2022-04-29T11:21:34.965Z"
   },
   {
    "duration": 26,
    "start_time": "2022-04-29T11:21:35.316Z"
   },
   {
    "duration": 25,
    "start_time": "2022-04-29T11:21:35.355Z"
   },
   {
    "duration": 63,
    "start_time": "2022-04-29T11:21:35.383Z"
   },
   {
    "duration": 1108,
    "start_time": "2022-04-29T11:21:35.448Z"
   },
   {
    "duration": 82,
    "start_time": "2022-04-29T11:21:41.685Z"
   },
   {
    "duration": 18,
    "start_time": "2022-04-29T11:21:43.263Z"
   },
   {
    "duration": 1787,
    "start_time": "2022-04-29T11:22:05.032Z"
   },
   {
    "duration": 1032,
    "start_time": "2022-04-29T11:22:06.822Z"
   },
   {
    "duration": 99,
    "start_time": "2022-04-29T11:22:07.856Z"
   },
   {
    "duration": 17,
    "start_time": "2022-04-29T11:22:07.958Z"
   },
   {
    "duration": 107,
    "start_time": "2022-04-29T11:22:07.976Z"
   },
   {
    "duration": 25,
    "start_time": "2022-04-29T11:22:08.085Z"
   },
   {
    "duration": 96,
    "start_time": "2022-04-29T11:22:08.112Z"
   },
   {
    "duration": 273,
    "start_time": "2022-04-29T11:22:08.210Z"
   },
   {
    "duration": 589,
    "start_time": "2022-04-29T11:22:08.485Z"
   },
   {
    "duration": 173,
    "start_time": "2022-04-29T11:22:09.077Z"
   },
   {
    "duration": 116,
    "start_time": "2022-04-29T11:22:09.251Z"
   },
   {
    "duration": 493,
    "start_time": "2022-04-29T11:22:09.368Z"
   },
   {
    "duration": 6,
    "start_time": "2022-04-29T11:22:09.863Z"
   },
   {
    "duration": 45958,
    "start_time": "2022-04-29T11:22:09.871Z"
   },
   {
    "duration": 34,
    "start_time": "2022-04-29T11:22:55.830Z"
   },
   {
    "duration": 124,
    "start_time": "2022-04-29T11:22:55.865Z"
   },
   {
    "duration": 11,
    "start_time": "2022-04-29T11:22:55.991Z"
   },
   {
    "duration": 121,
    "start_time": "2022-04-29T11:22:56.004Z"
   },
   {
    "duration": 170,
    "start_time": "2022-04-29T11:22:56.127Z"
   },
   {
    "duration": 25,
    "start_time": "2022-04-29T11:22:56.299Z"
   },
   {
    "duration": 372,
    "start_time": "2022-04-29T11:22:56.327Z"
   },
   {
    "duration": 144,
    "start_time": "2022-04-29T11:22:56.701Z"
   },
   {
    "duration": 86,
    "start_time": "2022-04-29T11:22:56.847Z"
   },
   {
    "duration": 281,
    "start_time": "2022-04-29T11:22:56.935Z"
   },
   {
    "duration": 362,
    "start_time": "2022-04-29T11:22:57.217Z"
   },
   {
    "duration": 28,
    "start_time": "2022-04-29T11:22:57.581Z"
   },
   {
    "duration": 11,
    "start_time": "2022-04-29T11:22:57.611Z"
   },
   {
    "duration": 66,
    "start_time": "2022-04-29T11:22:57.626Z"
   },
   {
    "duration": 1063,
    "start_time": "2022-04-29T11:22:57.694Z"
   },
   {
    "duration": 84,
    "start_time": "2022-04-29T11:23:02.345Z"
   },
   {
    "duration": 18,
    "start_time": "2022-04-29T11:23:03.803Z"
   },
   {
    "duration": 1435,
    "start_time": "2022-04-29T11:23:12.875Z"
   },
   {
    "duration": 19,
    "start_time": "2022-04-29T11:23:15.290Z"
   },
   {
    "duration": 80,
    "start_time": "2022-04-29T11:24:22.715Z"
   },
   {
    "duration": 16,
    "start_time": "2022-04-29T11:24:24.714Z"
   },
   {
    "duration": 25,
    "start_time": "2022-04-29T11:26:02.347Z"
   },
   {
    "duration": 84,
    "start_time": "2022-04-29T11:26:21.787Z"
   },
   {
    "duration": 19,
    "start_time": "2022-04-29T11:26:22.651Z"
   },
   {
    "duration": 1813,
    "start_time": "2022-04-29T11:27:31.211Z"
   },
   {
    "duration": 30,
    "start_time": "2022-04-29T11:27:34.218Z"
   },
   {
    "duration": 632,
    "start_time": "2022-04-29T11:27:38.461Z"
   },
   {
    "duration": 336,
    "start_time": "2022-04-29T11:28:25.500Z"
   },
   {
    "duration": 18,
    "start_time": "2022-04-29T11:28:27.274Z"
   },
   {
    "duration": 1045,
    "start_time": "2022-04-29T11:28:45.723Z"
   },
   {
    "duration": 96,
    "start_time": "2022-04-29T11:30:05.498Z"
   },
   {
    "duration": 23,
    "start_time": "2022-04-29T11:30:06.650Z"
   },
   {
    "duration": 31,
    "start_time": "2022-04-29T11:30:55.968Z"
   },
   {
    "duration": 3033,
    "start_time": "2022-04-29T11:31:48.027Z"
   },
   {
    "duration": 2557,
    "start_time": "2022-04-29T11:32:09.835Z"
   },
   {
    "duration": 2826,
    "start_time": "2022-04-29T11:32:42.868Z"
   },
   {
    "duration": 2627,
    "start_time": "2022-04-29T11:33:10.843Z"
   },
   {
    "duration": 20,
    "start_time": "2022-04-29T11:33:17.501Z"
   },
   {
    "duration": 15,
    "start_time": "2022-04-29T11:33:55.227Z"
   },
   {
    "duration": 16,
    "start_time": "2022-04-29T11:41:26.939Z"
   },
   {
    "duration": 13,
    "start_time": "2022-04-29T11:50:56.397Z"
   },
   {
    "duration": 368,
    "start_time": "2022-04-29T11:51:08.957Z"
   },
   {
    "duration": 75,
    "start_time": "2022-04-29T11:54:25.277Z"
   },
   {
    "duration": 15,
    "start_time": "2022-04-29T11:54:26.444Z"
   },
   {
    "duration": 941,
    "start_time": "2022-04-29T11:54:27.516Z"
   },
   {
    "duration": 47,
    "start_time": "2022-04-30T07:23:35.630Z"
   },
   {
    "duration": 1612,
    "start_time": "2022-04-30T07:23:40.044Z"
   },
   {
    "duration": 938,
    "start_time": "2022-04-30T07:23:41.658Z"
   },
   {
    "duration": 91,
    "start_time": "2022-04-30T07:23:42.597Z"
   },
   {
    "duration": 17,
    "start_time": "2022-04-30T07:23:42.690Z"
   },
   {
    "duration": 97,
    "start_time": "2022-04-30T07:23:42.708Z"
   },
   {
    "duration": 20,
    "start_time": "2022-04-30T07:23:42.807Z"
   },
   {
    "duration": 95,
    "start_time": "2022-04-30T07:23:42.829Z"
   },
   {
    "duration": 242,
    "start_time": "2022-04-30T07:23:42.926Z"
   },
   {
    "duration": 565,
    "start_time": "2022-04-30T07:23:43.173Z"
   },
   {
    "duration": 167,
    "start_time": "2022-04-30T07:23:43.741Z"
   },
   {
    "duration": 115,
    "start_time": "2022-04-30T07:23:43.910Z"
   },
   {
    "duration": 505,
    "start_time": "2022-04-30T07:23:44.027Z"
   },
   {
    "duration": 6,
    "start_time": "2022-04-30T07:23:44.533Z"
   },
   {
    "duration": 40917,
    "start_time": "2022-04-30T07:23:44.540Z"
   },
   {
    "duration": 32,
    "start_time": "2022-04-30T07:24:25.458Z"
   },
   {
    "duration": 117,
    "start_time": "2022-04-30T07:24:25.492Z"
   },
   {
    "duration": 11,
    "start_time": "2022-04-30T07:24:25.611Z"
   },
   {
    "duration": 104,
    "start_time": "2022-04-30T07:24:25.623Z"
   },
   {
    "duration": 160,
    "start_time": "2022-04-30T07:24:25.728Z"
   },
   {
    "duration": 25,
    "start_time": "2022-04-30T07:24:25.890Z"
   },
   {
    "duration": 444,
    "start_time": "2022-04-30T07:24:25.916Z"
   },
   {
    "duration": 127,
    "start_time": "2022-04-30T07:24:26.362Z"
   },
   {
    "duration": 70,
    "start_time": "2022-04-30T07:24:26.491Z"
   },
   {
    "duration": 227,
    "start_time": "2022-04-30T07:24:26.572Z"
   },
   {
    "duration": 332,
    "start_time": "2022-04-30T07:24:26.802Z"
   },
   {
    "duration": 37,
    "start_time": "2022-04-30T07:24:27.136Z"
   },
   {
    "duration": 10,
    "start_time": "2022-04-30T07:24:27.175Z"
   },
   {
    "duration": 44,
    "start_time": "2022-04-30T07:24:27.186Z"
   },
   {
    "duration": 1246,
    "start_time": "2022-04-30T07:24:27.232Z"
   },
   {
    "duration": 115,
    "start_time": "2022-04-30T07:24:28.480Z"
   },
   {
    "duration": 0,
    "start_time": "2022-04-30T07:24:28.597Z"
   },
   {
    "duration": 0,
    "start_time": "2022-04-30T07:24:28.598Z"
   },
   {
    "duration": 0,
    "start_time": "2022-04-30T07:24:28.600Z"
   },
   {
    "duration": 0,
    "start_time": "2022-04-30T07:24:28.602Z"
   },
   {
    "duration": 77,
    "start_time": "2022-04-30T07:27:55.495Z"
   },
   {
    "duration": 17,
    "start_time": "2022-04-30T07:27:56.520Z"
   },
   {
    "duration": 21,
    "start_time": "2022-04-30T07:27:58.823Z"
   },
   {
    "duration": 92,
    "start_time": "2022-04-30T07:36:37.985Z"
   },
   {
    "duration": 10,
    "start_time": "2022-04-30T07:36:38.150Z"
   },
   {
    "duration": 15,
    "start_time": "2022-04-30T07:36:38.269Z"
   },
   {
    "duration": 1058,
    "start_time": "2022-04-30T07:36:38.517Z"
   },
   {
    "duration": 34660,
    "start_time": "2022-04-30T07:36:39.581Z"
   },
   {
    "duration": 212976,
    "start_time": "2022-04-30T07:37:14.243Z"
   },
   {
    "duration": 0,
    "start_time": "2022-04-30T07:40:47.222Z"
   },
   {
    "duration": 0,
    "start_time": "2022-04-30T07:40:47.223Z"
   },
   {
    "duration": 0,
    "start_time": "2022-04-30T07:40:47.224Z"
   },
   {
    "duration": 0,
    "start_time": "2022-04-30T07:40:47.225Z"
   },
   {
    "duration": 0,
    "start_time": "2022-04-30T07:40:47.226Z"
   },
   {
    "duration": 0,
    "start_time": "2022-04-30T07:40:47.227Z"
   },
   {
    "duration": 0,
    "start_time": "2022-04-30T07:40:47.228Z"
   },
   {
    "duration": 0,
    "start_time": "2022-04-30T07:40:47.229Z"
   },
   {
    "duration": 0,
    "start_time": "2022-04-30T07:40:47.230Z"
   },
   {
    "duration": 0,
    "start_time": "2022-04-30T07:40:47.231Z"
   },
   {
    "duration": 0,
    "start_time": "2022-04-30T07:40:47.232Z"
   },
   {
    "duration": 0,
    "start_time": "2022-04-30T07:40:47.233Z"
   },
   {
    "duration": 0,
    "start_time": "2022-04-30T07:40:47.234Z"
   },
   {
    "duration": 36413,
    "start_time": "2022-04-30T07:41:09.542Z"
   },
   {
    "duration": 33665,
    "start_time": "2022-04-30T07:42:56.808Z"
   },
   {
    "duration": 1736,
    "start_time": "2022-04-30T08:27:31.260Z"
   },
   {
    "duration": 904,
    "start_time": "2022-04-30T08:27:32.999Z"
   },
   {
    "duration": 100,
    "start_time": "2022-04-30T08:27:33.904Z"
   },
   {
    "duration": 15,
    "start_time": "2022-04-30T08:27:34.006Z"
   },
   {
    "duration": 98,
    "start_time": "2022-04-30T08:27:34.023Z"
   },
   {
    "duration": 24,
    "start_time": "2022-04-30T08:27:34.123Z"
   },
   {
    "duration": 83,
    "start_time": "2022-04-30T08:27:34.149Z"
   },
   {
    "duration": 225,
    "start_time": "2022-04-30T08:27:34.233Z"
   },
   {
    "duration": 526,
    "start_time": "2022-04-30T08:27:34.460Z"
   },
   {
    "duration": 156,
    "start_time": "2022-04-30T08:27:34.987Z"
   },
   {
    "duration": 108,
    "start_time": "2022-04-30T08:27:35.144Z"
   },
   {
    "duration": 448,
    "start_time": "2022-04-30T08:27:35.253Z"
   },
   {
    "duration": 5,
    "start_time": "2022-04-30T08:27:35.702Z"
   },
   {
    "duration": 38503,
    "start_time": "2022-04-30T08:27:35.709Z"
   },
   {
    "duration": 21,
    "start_time": "2022-04-30T08:28:14.214Z"
   },
   {
    "duration": 107,
    "start_time": "2022-04-30T08:28:14.236Z"
   },
   {
    "duration": 9,
    "start_time": "2022-04-30T08:28:14.345Z"
   },
   {
    "duration": 7,
    "start_time": "2022-04-30T08:30:10.707Z"
   },
   {
    "duration": 105,
    "start_time": "2022-04-30T08:32:07.966Z"
   },
   {
    "duration": 3416,
    "start_time": "2022-04-30T08:34:18.657Z"
   },
   {
    "duration": 7,
    "start_time": "2022-04-30T08:35:22.088Z"
   },
   {
    "duration": 29,
    "start_time": "2022-04-30T08:36:08.098Z"
   },
   {
    "duration": 5,
    "start_time": "2022-04-30T08:38:39.696Z"
   },
   {
    "duration": 9,
    "start_time": "2022-04-30T08:39:03.907Z"
   },
   {
    "duration": 7,
    "start_time": "2022-04-30T08:39:14.630Z"
   },
   {
    "duration": 4,
    "start_time": "2022-04-30T08:45:51.160Z"
   },
   {
    "duration": 1526,
    "start_time": "2022-04-30T08:52:28.989Z"
   },
   {
    "duration": 927,
    "start_time": "2022-04-30T08:52:30.518Z"
   },
   {
    "duration": 87,
    "start_time": "2022-04-30T08:52:31.447Z"
   },
   {
    "duration": 15,
    "start_time": "2022-04-30T08:52:31.536Z"
   },
   {
    "duration": 88,
    "start_time": "2022-04-30T08:52:31.553Z"
   },
   {
    "duration": 20,
    "start_time": "2022-04-30T08:52:31.643Z"
   },
   {
    "duration": 84,
    "start_time": "2022-04-30T08:52:31.665Z"
   },
   {
    "duration": 233,
    "start_time": "2022-04-30T08:52:31.751Z"
   },
   {
    "duration": 543,
    "start_time": "2022-04-30T08:52:31.985Z"
   },
   {
    "duration": 158,
    "start_time": "2022-04-30T08:52:32.530Z"
   },
   {
    "duration": 97,
    "start_time": "2022-04-30T08:52:32.690Z"
   },
   {
    "duration": 460,
    "start_time": "2022-04-30T08:52:32.788Z"
   },
   {
    "duration": 5,
    "start_time": "2022-04-30T08:52:33.249Z"
   },
   {
    "duration": 39045,
    "start_time": "2022-04-30T08:52:33.256Z"
   },
   {
    "duration": 21,
    "start_time": "2022-04-30T08:53:12.302Z"
   },
   {
    "duration": 105,
    "start_time": "2022-04-30T08:53:12.325Z"
   },
   {
    "duration": 10,
    "start_time": "2022-04-30T08:53:12.432Z"
   },
   {
    "duration": 7,
    "start_time": "2022-04-30T08:53:12.443Z"
   },
   {
    "duration": 12,
    "start_time": "2022-04-30T08:53:12.452Z"
   },
   {
    "duration": 11,
    "start_time": "2022-04-30T08:53:12.465Z"
   },
   {
    "duration": 487005,
    "start_time": "2022-04-30T08:53:12.477Z"
   },
   {
    "duration": 64831,
    "start_time": "2022-04-30T09:01:52.970Z"
   },
   {
    "duration": 1584,
    "start_time": "2022-04-30T09:03:20.783Z"
   },
   {
    "duration": 899,
    "start_time": "2022-04-30T09:03:22.368Z"
   },
   {
    "duration": 100,
    "start_time": "2022-04-30T09:03:23.268Z"
   },
   {
    "duration": 16,
    "start_time": "2022-04-30T09:03:23.371Z"
   },
   {
    "duration": 81,
    "start_time": "2022-04-30T09:03:23.401Z"
   },
   {
    "duration": 33,
    "start_time": "2022-04-30T09:03:23.484Z"
   },
   {
    "duration": 92,
    "start_time": "2022-04-30T09:03:23.519Z"
   },
   {
    "duration": 231,
    "start_time": "2022-04-30T09:03:23.613Z"
   },
   {
    "duration": 548,
    "start_time": "2022-04-30T09:03:23.846Z"
   },
   {
    "duration": 155,
    "start_time": "2022-04-30T09:03:24.399Z"
   },
   {
    "duration": 102,
    "start_time": "2022-04-30T09:03:24.555Z"
   },
   {
    "duration": 456,
    "start_time": "2022-04-30T09:03:24.659Z"
   },
   {
    "duration": 5,
    "start_time": "2022-04-30T09:03:25.117Z"
   },
   {
    "duration": 42431,
    "start_time": "2022-04-30T09:03:25.124Z"
   },
   {
    "duration": 23,
    "start_time": "2022-04-30T09:04:07.556Z"
   },
   {
    "duration": 104,
    "start_time": "2022-04-30T09:04:07.581Z"
   },
   {
    "duration": 22,
    "start_time": "2022-04-30T09:04:07.686Z"
   },
   {
    "duration": 7,
    "start_time": "2022-04-30T09:04:07.710Z"
   },
   {
    "duration": 645837,
    "start_time": "2022-04-30T09:04:07.719Z"
   },
   {
    "duration": 3178,
    "start_time": "2022-05-01T14:30:32.760Z"
   },
   {
    "duration": 1962,
    "start_time": "2022-05-01T14:30:35.941Z"
   },
   {
    "duration": 210,
    "start_time": "2022-05-01T14:30:37.906Z"
   },
   {
    "duration": 37,
    "start_time": "2022-05-01T14:30:38.124Z"
   },
   {
    "duration": 212,
    "start_time": "2022-05-01T14:30:38.163Z"
   },
   {
    "duration": 57,
    "start_time": "2022-05-01T14:30:38.378Z"
   },
   {
    "duration": 220,
    "start_time": "2022-05-01T14:30:38.439Z"
   },
   {
    "duration": 524,
    "start_time": "2022-05-01T14:30:38.662Z"
   },
   {
    "duration": 1432,
    "start_time": "2022-05-01T14:30:39.190Z"
   },
   {
    "duration": 326,
    "start_time": "2022-05-01T14:30:40.627Z"
   },
   {
    "duration": 195,
    "start_time": "2022-05-01T14:30:40.956Z"
   },
   {
    "duration": 982,
    "start_time": "2022-05-01T14:30:41.154Z"
   },
   {
    "duration": 13,
    "start_time": "2022-05-01T14:30:42.139Z"
   },
   {
    "duration": 114721,
    "start_time": "2022-05-01T14:30:42.155Z"
   },
   {
    "duration": 63,
    "start_time": "2022-05-01T14:32:36.886Z"
   },
   {
    "duration": 314,
    "start_time": "2022-05-01T14:32:36.958Z"
   },
   {
    "duration": 32,
    "start_time": "2022-05-01T14:32:37.280Z"
   },
   {
    "duration": 10,
    "start_time": "2022-05-01T14:33:29.737Z"
   },
   {
    "duration": 16,
    "start_time": "2022-05-01T14:33:45.197Z"
   },
   {
    "duration": 11,
    "start_time": "2022-05-01T14:33:53.807Z"
   },
   {
    "duration": 9,
    "start_time": "2022-05-01T14:36:38.544Z"
   },
   {
    "duration": 136268,
    "start_time": "2022-05-01T14:36:43.641Z"
   },
   {
    "duration": 9,
    "start_time": "2022-05-01T14:39:24.920Z"
   },
   {
    "duration": 171,
    "start_time": "2022-05-01T14:41:27.852Z"
   },
   {
    "duration": 197,
    "start_time": "2022-05-01T14:41:50.699Z"
   },
   {
    "duration": 159,
    "start_time": "2022-05-01T14:44:40.678Z"
   },
   {
    "duration": 171,
    "start_time": "2022-05-01T14:44:53.244Z"
   },
   {
    "duration": 20,
    "start_time": "2022-05-01T14:46:12.759Z"
   },
   {
    "duration": 46,
    "start_time": "2022-05-01T14:46:51.334Z"
   },
   {
    "duration": 2344,
    "start_time": "2022-05-01T14:47:22.045Z"
   },
   {
    "duration": 1986,
    "start_time": "2022-05-01T14:47:24.393Z"
   },
   {
    "duration": 219,
    "start_time": "2022-05-01T14:47:26.385Z"
   },
   {
    "duration": 39,
    "start_time": "2022-05-01T14:47:26.608Z"
   },
   {
    "duration": 216,
    "start_time": "2022-05-01T14:47:26.650Z"
   },
   {
    "duration": 48,
    "start_time": "2022-05-01T14:47:26.869Z"
   },
   {
    "duration": 200,
    "start_time": "2022-05-01T14:47:26.920Z"
   },
   {
    "duration": 502,
    "start_time": "2022-05-01T14:47:27.124Z"
   },
   {
    "duration": 1074,
    "start_time": "2022-05-01T14:47:27.629Z"
   },
   {
    "duration": 323,
    "start_time": "2022-05-01T14:47:28.708Z"
   },
   {
    "duration": 247,
    "start_time": "2022-05-01T14:47:35.463Z"
   },
   {
    "duration": 197,
    "start_time": "2022-05-01T14:48:23.863Z"
   },
   {
    "duration": 146,
    "start_time": "2022-05-01T14:48:31.426Z"
   },
   {
    "duration": 157,
    "start_time": "2022-05-01T14:48:42.786Z"
   },
   {
    "duration": 345,
    "start_time": "2022-05-01T14:49:19.055Z"
   },
   {
    "duration": 146,
    "start_time": "2022-05-01T14:49:33.809Z"
   },
   {
    "duration": 167,
    "start_time": "2022-05-01T14:49:57.461Z"
   },
   {
    "duration": 225,
    "start_time": "2022-05-01T14:51:13.382Z"
   },
   {
    "duration": 195,
    "start_time": "2022-05-01T14:51:37.805Z"
   },
   {
    "duration": 2096,
    "start_time": "2022-05-01T14:52:23.703Z"
   },
   {
    "duration": 871,
    "start_time": "2022-05-01T14:53:06.880Z"
   },
   {
    "duration": 13,
    "start_time": "2022-05-01T14:53:16.126Z"
   },
   {
    "duration": 99354,
    "start_time": "2022-05-01T14:53:18.048Z"
   },
   {
    "duration": 47,
    "start_time": "2022-05-01T14:54:57.410Z"
   },
   {
    "duration": 7,
    "start_time": "2022-05-01T14:56:03.338Z"
   },
   {
    "duration": 161,
    "start_time": "2022-05-01T14:58:00.232Z"
   },
   {
    "duration": 7,
    "start_time": "2022-05-01T14:58:11.726Z"
   },
   {
    "duration": 8765,
    "start_time": "2022-05-01T14:58:17.973Z"
   },
   {
    "duration": 51,
    "start_time": "2022-05-01T14:59:13.805Z"
   },
   {
    "duration": 258,
    "start_time": "2022-05-01T14:59:17.574Z"
   },
   {
    "duration": 20,
    "start_time": "2022-05-01T14:59:19.012Z"
   },
   {
    "duration": 8,
    "start_time": "2022-05-01T14:59:22.852Z"
   },
   {
    "duration": 47090,
    "start_time": "2022-05-01T14:59:24.011Z"
   },
   {
    "duration": 212,
    "start_time": "2022-05-01T15:00:32.560Z"
   },
   {
    "duration": 400,
    "start_time": "2022-05-01T15:00:39.801Z"
   },
   {
    "duration": 44,
    "start_time": "2022-05-01T15:00:44.012Z"
   },
   {
    "duration": 804,
    "start_time": "2022-05-01T15:00:48.152Z"
   },
   {
    "duration": 300,
    "start_time": "2022-05-01T15:00:54.201Z"
   },
   {
    "duration": 190,
    "start_time": "2022-05-01T15:00:59.873Z"
   },
   {
    "duration": 240,
    "start_time": "2022-05-01T15:01:08.396Z"
   },
   {
    "duration": 773,
    "start_time": "2022-05-01T15:01:11.803Z"
   },
   {
    "duration": 40,
    "start_time": "2022-05-01T15:03:05.232Z"
   },
   {
    "duration": 48,
    "start_time": "2022-05-01T15:04:27.627Z"
   },
   {
    "duration": 51,
    "start_time": "2022-05-01T15:04:41.762Z"
   },
   {
    "duration": 49,
    "start_time": "2022-05-01T15:05:05.974Z"
   },
   {
    "duration": 51,
    "start_time": "2022-05-01T15:38:40.643Z"
   },
   {
    "duration": 70,
    "start_time": "2022-05-01T15:40:10.128Z"
   },
   {
    "duration": 255,
    "start_time": "2022-05-01T15:40:43.775Z"
   },
   {
    "duration": 50,
    "start_time": "2022-05-01T15:44:48.240Z"
   },
   {
    "duration": 20,
    "start_time": "2022-05-01T15:46:43.442Z"
   },
   {
    "duration": 2784,
    "start_time": "2022-05-01T15:47:02.437Z"
   },
   {
    "duration": 11342,
    "start_time": "2022-05-01T15:47:05.224Z"
   },
   {
    "duration": 220,
    "start_time": "2022-05-01T15:47:16.573Z"
   },
   {
    "duration": 43,
    "start_time": "2022-05-01T15:47:16.797Z"
   },
   {
    "duration": 208,
    "start_time": "2022-05-01T15:47:16.843Z"
   },
   {
    "duration": 53,
    "start_time": "2022-05-01T15:47:17.054Z"
   },
   {
    "duration": 235,
    "start_time": "2022-05-01T15:47:17.116Z"
   },
   {
    "duration": 477,
    "start_time": "2022-05-01T15:47:17.354Z"
   },
   {
    "duration": 1325,
    "start_time": "2022-05-01T15:47:17.834Z"
   },
   {
    "duration": 298,
    "start_time": "2022-05-01T15:47:19.165Z"
   },
   {
    "duration": 205,
    "start_time": "2022-05-01T15:47:19.467Z"
   },
   {
    "duration": 969,
    "start_time": "2022-05-01T15:47:19.674Z"
   },
   {
    "duration": 9,
    "start_time": "2022-05-01T15:47:20.645Z"
   },
   {
    "duration": 100891,
    "start_time": "2022-05-01T15:47:20.657Z"
   },
   {
    "duration": 68,
    "start_time": "2022-05-01T15:49:01.551Z"
   },
   {
    "duration": 232,
    "start_time": "2022-05-01T15:49:01.622Z"
   },
   {
    "duration": 33,
    "start_time": "2022-05-01T15:49:01.857Z"
   },
   {
    "duration": 6,
    "start_time": "2022-05-01T15:49:01.893Z"
   },
   {
    "duration": 53974,
    "start_time": "2022-05-01T15:49:01.902Z"
   },
   {
    "duration": 219,
    "start_time": "2022-05-01T15:49:55.878Z"
   },
   {
    "duration": 347,
    "start_time": "2022-05-01T15:49:56.099Z"
   },
   {
    "duration": 57,
    "start_time": "2022-05-01T15:49:56.449Z"
   },
   {
    "duration": 583,
    "start_time": "2022-05-01T15:49:56.513Z"
   },
   {
    "duration": 249,
    "start_time": "2022-05-01T15:49:57.099Z"
   },
   {
    "duration": 187,
    "start_time": "2022-05-01T15:49:57.351Z"
   },
   {
    "duration": 422,
    "start_time": "2022-05-01T15:49:57.540Z"
   },
   {
    "duration": 835,
    "start_time": "2022-05-01T15:49:57.965Z"
   },
   {
    "duration": 77,
    "start_time": "2022-05-01T15:49:58.812Z"
   },
   {
    "duration": 177,
    "start_time": "2022-05-01T15:51:03.109Z"
   },
   {
    "duration": 51,
    "start_time": "2022-05-01T15:52:05.638Z"
   },
   {
    "duration": 1218,
    "start_time": "2022-05-01T15:54:12.190Z"
   },
   {
    "duration": 1418,
    "start_time": "2022-05-01T15:54:33.477Z"
   },
   {
    "duration": 1188,
    "start_time": "2022-05-01T15:57:17.275Z"
   },
   {
    "duration": 23,
    "start_time": "2022-05-01T15:57:59.740Z"
   },
   {
    "duration": 25,
    "start_time": "2022-05-01T16:00:30.710Z"
   },
   {
    "duration": 144,
    "start_time": "2022-05-01T16:10:37.419Z"
   },
   {
    "duration": 311,
    "start_time": "2022-05-01T16:10:47.042Z"
   },
   {
    "duration": 1325,
    "start_time": "2022-05-01T16:12:05.607Z"
   },
   {
    "duration": 128,
    "start_time": "2022-05-01T16:13:37.530Z"
   },
   {
    "duration": 164682,
    "start_time": "2022-05-01T16:15:31.355Z"
   },
   {
    "duration": 8565,
    "start_time": "2022-05-01T16:22:00.573Z"
   },
   {
    "duration": 49859,
    "start_time": "2022-05-01T16:22:14.353Z"
   },
   {
    "duration": 1113,
    "start_time": "2022-05-01T16:24:00.534Z"
   },
   {
    "duration": 946,
    "start_time": "2022-05-01T16:24:11.454Z"
   },
   {
    "duration": 19132,
    "start_time": "2022-05-01T16:25:14.930Z"
   },
   {
    "duration": 163,
    "start_time": "2022-05-01T16:27:53.898Z"
   },
   {
    "duration": 6,
    "start_time": "2022-05-01T16:30:00.752Z"
   },
   {
    "duration": 279387,
    "start_time": "2022-05-01T16:30:34.274Z"
   },
   {
    "duration": 188,
    "start_time": "2022-05-01T16:35:13.665Z"
   },
   {
    "duration": 2747,
    "start_time": "2022-05-01T16:37:11.887Z"
   },
   {
    "duration": 6808,
    "start_time": "2022-05-01T16:37:14.637Z"
   },
   {
    "duration": 168,
    "start_time": "2022-05-01T16:37:21.448Z"
   },
   {
    "duration": 34,
    "start_time": "2022-05-01T16:37:21.619Z"
   },
   {
    "duration": 222,
    "start_time": "2022-05-01T16:37:21.657Z"
   },
   {
    "duration": 46,
    "start_time": "2022-05-01T16:37:21.882Z"
   },
   {
    "duration": 202,
    "start_time": "2022-05-01T16:37:21.931Z"
   },
   {
    "duration": 442,
    "start_time": "2022-05-01T16:37:22.136Z"
   },
   {
    "duration": 1045,
    "start_time": "2022-05-01T16:37:22.581Z"
   },
   {
    "duration": 278,
    "start_time": "2022-05-01T16:37:23.628Z"
   },
   {
    "duration": 156,
    "start_time": "2022-05-01T16:37:23.909Z"
   },
   {
    "duration": 810,
    "start_time": "2022-05-01T16:37:24.067Z"
   },
   {
    "duration": 11,
    "start_time": "2022-05-01T16:37:24.879Z"
   },
   {
    "duration": 99704,
    "start_time": "2022-05-01T16:37:24.895Z"
   },
   {
    "duration": 39,
    "start_time": "2022-05-01T16:39:04.601Z"
   },
   {
    "duration": 226,
    "start_time": "2022-05-01T16:39:04.643Z"
   },
   {
    "duration": 23,
    "start_time": "2022-05-01T16:39:04.872Z"
   },
   {
    "duration": 7,
    "start_time": "2022-05-01T16:39:04.899Z"
   },
   {
    "duration": 33352,
    "start_time": "2022-05-01T16:39:04.908Z"
   },
   {
    "duration": 201,
    "start_time": "2022-05-01T16:39:38.262Z"
   },
   {
    "duration": 414,
    "start_time": "2022-05-01T16:39:38.466Z"
   },
   {
    "duration": 48,
    "start_time": "2022-05-01T16:39:38.885Z"
   },
   {
    "duration": 654,
    "start_time": "2022-05-01T16:39:38.935Z"
   },
   {
    "duration": 250,
    "start_time": "2022-05-01T16:39:39.592Z"
   },
   {
    "duration": 202,
    "start_time": "2022-05-01T16:39:39.845Z"
   },
   {
    "duration": 404,
    "start_time": "2022-05-01T16:39:40.049Z"
   },
   {
    "duration": 601,
    "start_time": "2022-05-01T16:39:40.456Z"
   },
   {
    "duration": 97,
    "start_time": "2022-05-01T16:39:41.061Z"
   },
   {
    "duration": 159,
    "start_time": "2022-05-01T16:39:41.164Z"
   },
   {
    "duration": 43,
    "start_time": "2022-05-01T16:39:41.330Z"
   },
   {
    "duration": 965,
    "start_time": "2022-05-01T16:39:41.385Z"
   },
   {
    "duration": 37,
    "start_time": "2022-05-01T16:39:42.352Z"
   },
   {
    "duration": 268,
    "start_time": "2022-05-01T16:39:42.392Z"
   },
   {
    "duration": 948,
    "start_time": "2022-05-01T16:39:42.663Z"
   },
   {
    "duration": 124,
    "start_time": "2022-05-01T16:39:43.614Z"
   },
   {
    "duration": 160744,
    "start_time": "2022-05-01T16:39:43.740Z"
   },
   {
    "duration": 41089,
    "start_time": "2022-05-01T16:42:24.493Z"
   },
   {
    "duration": 647,
    "start_time": "2022-05-01T16:43:05.584Z"
   },
   {
    "duration": 3171,
    "start_time": "2022-05-01T16:56:11.756Z"
   },
   {
    "duration": 2187,
    "start_time": "2022-05-01T16:56:14.931Z"
   },
   {
    "duration": 215,
    "start_time": "2022-05-01T16:56:17.121Z"
   },
   {
    "duration": 54,
    "start_time": "2022-05-01T16:56:17.339Z"
   },
   {
    "duration": 230,
    "start_time": "2022-05-01T16:56:17.398Z"
   },
   {
    "duration": 57,
    "start_time": "2022-05-01T16:56:17.631Z"
   },
   {
    "duration": 217,
    "start_time": "2022-05-01T16:56:17.693Z"
   },
   {
    "duration": 623,
    "start_time": "2022-05-01T16:56:17.915Z"
   },
   {
    "duration": 1439,
    "start_time": "2022-05-01T16:56:18.542Z"
   },
   {
    "duration": 349,
    "start_time": "2022-05-01T16:56:19.984Z"
   },
   {
    "duration": 231,
    "start_time": "2022-05-01T16:56:20.336Z"
   },
   {
    "duration": 1254,
    "start_time": "2022-05-01T16:56:20.570Z"
   },
   {
    "duration": 14,
    "start_time": "2022-05-01T16:56:21.827Z"
   },
   {
    "duration": 102675,
    "start_time": "2022-05-01T16:56:21.849Z"
   },
   {
    "duration": 60,
    "start_time": "2022-05-01T16:58:04.526Z"
   },
   {
    "duration": 201,
    "start_time": "2022-05-01T16:58:04.589Z"
   },
   {
    "duration": 21,
    "start_time": "2022-05-01T16:58:04.795Z"
   },
   {
    "duration": 15,
    "start_time": "2022-05-01T16:58:04.819Z"
   },
   {
    "duration": 38650,
    "start_time": "2022-05-01T16:58:04.837Z"
   },
   {
    "duration": 185,
    "start_time": "2022-05-01T16:58:43.489Z"
   },
   {
    "duration": 298,
    "start_time": "2022-05-01T16:58:43.676Z"
   },
   {
    "duration": 44,
    "start_time": "2022-05-01T16:58:43.977Z"
   },
   {
    "duration": 861,
    "start_time": "2022-05-01T16:58:44.023Z"
   },
   {
    "duration": 305,
    "start_time": "2022-05-01T16:58:44.887Z"
   },
   {
    "duration": 197,
    "start_time": "2022-05-01T16:58:45.197Z"
   },
   {
    "duration": 589,
    "start_time": "2022-05-01T16:58:45.397Z"
   },
   {
    "duration": 841,
    "start_time": "2022-05-01T16:58:45.989Z"
   },
   {
    "duration": 91,
    "start_time": "2022-05-01T16:58:46.834Z"
   },
   {
    "duration": 175,
    "start_time": "2022-05-01T16:58:46.928Z"
   },
   {
    "duration": 39,
    "start_time": "2022-05-01T16:58:47.106Z"
   },
   {
    "duration": 1357,
    "start_time": "2022-05-01T16:58:47.147Z"
   },
   {
    "duration": 33,
    "start_time": "2022-05-01T16:58:48.507Z"
   },
   {
    "duration": 283,
    "start_time": "2022-05-01T16:58:48.542Z"
   },
   {
    "duration": 866,
    "start_time": "2022-05-01T16:58:48.828Z"
   },
   {
    "duration": 156,
    "start_time": "2022-05-01T16:58:49.698Z"
   },
   {
    "duration": 183829,
    "start_time": "2022-05-01T16:58:49.857Z"
   },
   {
    "duration": 38765,
    "start_time": "2022-05-01T17:01:53.689Z"
   },
   {
    "duration": 834,
    "start_time": "2022-05-01T17:02:32.457Z"
   },
   {
    "duration": 6,
    "start_time": "2022-05-01T18:44:03.026Z"
   },
   {
    "duration": 1461,
    "start_time": "2022-05-01T18:44:03.034Z"
   },
   {
    "duration": 138,
    "start_time": "2022-05-01T18:44:04.499Z"
   },
   {
    "duration": 41,
    "start_time": "2022-05-01T18:44:04.640Z"
   },
   {
    "duration": 154,
    "start_time": "2022-05-01T18:44:04.687Z"
   },
   {
    "duration": 52,
    "start_time": "2022-05-01T18:44:04.844Z"
   },
   {
    "duration": 153,
    "start_time": "2022-05-01T18:44:04.898Z"
   },
   {
    "duration": 436,
    "start_time": "2022-05-01T18:44:05.054Z"
   },
   {
    "duration": 1382,
    "start_time": "2022-05-01T18:44:05.493Z"
   },
   {
    "duration": 296,
    "start_time": "2022-05-01T18:44:06.885Z"
   },
   {
    "duration": 157,
    "start_time": "2022-05-01T18:44:07.187Z"
   },
   {
    "duration": 859,
    "start_time": "2022-05-01T18:44:07.347Z"
   },
   {
    "duration": 18,
    "start_time": "2022-05-01T18:44:08.211Z"
   },
   {
    "duration": 2861,
    "start_time": "2022-05-01T18:45:03.114Z"
   },
   {
    "duration": 1420,
    "start_time": "2022-05-01T18:45:05.982Z"
   },
   {
    "duration": 136,
    "start_time": "2022-05-01T18:45:07.405Z"
   },
   {
    "duration": 40,
    "start_time": "2022-05-01T18:45:07.544Z"
   },
   {
    "duration": 135,
    "start_time": "2022-05-01T18:45:07.586Z"
   },
   {
    "duration": 30,
    "start_time": "2022-05-01T18:45:07.724Z"
   },
   {
    "duration": 136,
    "start_time": "2022-05-01T18:45:07.757Z"
   },
   {
    "duration": 354,
    "start_time": "2022-05-01T18:45:07.896Z"
   },
   {
    "duration": 1079,
    "start_time": "2022-05-01T18:45:08.252Z"
   },
   {
    "duration": 268,
    "start_time": "2022-05-01T18:45:09.335Z"
   },
   {
    "duration": 179,
    "start_time": "2022-05-01T18:45:09.605Z"
   },
   {
    "duration": 792,
    "start_time": "2022-05-01T18:45:09.786Z"
   },
   {
    "duration": 12,
    "start_time": "2022-05-01T18:45:10.585Z"
   },
   {
    "duration": 91672,
    "start_time": "2022-05-01T18:45:10.602Z"
   },
   {
    "duration": 46,
    "start_time": "2022-05-01T18:46:42.277Z"
   },
   {
    "duration": 214,
    "start_time": "2022-05-01T18:46:42.326Z"
   },
   {
    "duration": 15,
    "start_time": "2022-05-01T18:46:42.543Z"
   },
   {
    "duration": 23,
    "start_time": "2022-05-01T18:46:42.560Z"
   },
   {
    "duration": 34412,
    "start_time": "2022-05-01T18:46:42.590Z"
   },
   {
    "duration": 181,
    "start_time": "2022-05-01T18:47:17.005Z"
   },
   {
    "duration": 167660,
    "start_time": "2022-05-01T18:47:22.249Z"
   },
   {
    "duration": 39644,
    "start_time": "2022-05-01T18:50:09.912Z"
   },
   {
    "duration": 600,
    "start_time": "2022-05-01T18:50:49.558Z"
   },
   {
    "duration": 2366,
    "start_time": "2022-05-02T02:40:08.657Z"
   },
   {
    "duration": 1476,
    "start_time": "2022-05-02T02:40:11.026Z"
   },
   {
    "duration": 130,
    "start_time": "2022-05-02T02:40:12.504Z"
   },
   {
    "duration": 26,
    "start_time": "2022-05-02T02:40:12.637Z"
   },
   {
    "duration": 131,
    "start_time": "2022-05-02T02:40:12.665Z"
   },
   {
    "duration": 38,
    "start_time": "2022-05-02T02:40:12.798Z"
   },
   {
    "duration": 125,
    "start_time": "2022-05-02T02:40:12.838Z"
   },
   {
    "duration": 332,
    "start_time": "2022-05-02T02:40:12.966Z"
   },
   {
    "duration": 868,
    "start_time": "2022-05-02T02:40:13.300Z"
   },
   {
    "duration": 254,
    "start_time": "2022-05-02T02:40:14.172Z"
   },
   {
    "duration": 150,
    "start_time": "2022-05-02T02:40:14.428Z"
   },
   {
    "duration": 781,
    "start_time": "2022-05-02T02:40:14.580Z"
   },
   {
    "duration": 9,
    "start_time": "2022-05-02T02:40:15.363Z"
   },
   {
    "duration": 76256,
    "start_time": "2022-05-02T02:40:15.374Z"
   },
   {
    "duration": 39,
    "start_time": "2022-05-02T02:41:31.632Z"
   },
   {
    "duration": 233,
    "start_time": "2022-05-02T02:41:31.673Z"
   },
   {
    "duration": 25,
    "start_time": "2022-05-02T02:41:31.908Z"
   },
   {
    "duration": 5,
    "start_time": "2022-05-02T02:41:31.935Z"
   },
   {
    "duration": 30999,
    "start_time": "2022-05-02T02:41:31.943Z"
   },
   {
    "duration": 180,
    "start_time": "2022-05-02T02:42:02.944Z"
   },
   {
    "duration": 304,
    "start_time": "2022-05-02T02:42:03.127Z"
   },
   {
    "duration": 38,
    "start_time": "2022-05-02T02:42:03.434Z"
   },
   {
    "duration": 591,
    "start_time": "2022-05-02T02:42:03.475Z"
   },
   {
    "duration": 251,
    "start_time": "2022-05-02T02:42:04.069Z"
   },
   {
    "duration": 194,
    "start_time": "2022-05-02T02:42:04.325Z"
   },
   {
    "duration": 392,
    "start_time": "2022-05-02T02:42:04.525Z"
   },
   {
    "duration": 586,
    "start_time": "2022-05-02T02:42:04.925Z"
   },
   {
    "duration": 74,
    "start_time": "2022-05-02T02:42:05.525Z"
   },
   {
    "duration": 108,
    "start_time": "2022-05-02T02:42:05.601Z"
   },
   {
    "duration": 46,
    "start_time": "2022-05-02T02:42:05.711Z"
   },
   {
    "duration": 1258,
    "start_time": "2022-05-02T02:42:05.759Z"
   },
   {
    "duration": 25,
    "start_time": "2022-05-02T02:42:07.019Z"
   },
   {
    "duration": 305,
    "start_time": "2022-05-02T02:42:07.046Z"
   },
   {
    "duration": 879,
    "start_time": "2022-05-02T02:42:07.354Z"
   },
   {
    "duration": 125,
    "start_time": "2022-05-02T02:42:08.235Z"
   },
   {
    "duration": 76667,
    "start_time": "2022-05-02T02:42:08.362Z"
   },
   {
    "duration": 36026,
    "start_time": "2022-05-02T02:43:25.032Z"
   },
   {
    "duration": 588,
    "start_time": "2022-05-02T02:44:01.060Z"
   },
   {
    "duration": 2541266,
    "start_time": "2022-05-02T02:44:01.651Z"
   },
   {
    "duration": 2236,
    "start_time": "2022-05-02T03:27:35.054Z"
   },
   {
    "duration": 1402,
    "start_time": "2022-05-02T03:27:37.293Z"
   },
   {
    "duration": 130,
    "start_time": "2022-05-02T03:27:38.697Z"
   },
   {
    "duration": 26,
    "start_time": "2022-05-02T03:27:38.829Z"
   },
   {
    "duration": 130,
    "start_time": "2022-05-02T03:27:38.859Z"
   },
   {
    "duration": 35,
    "start_time": "2022-05-02T03:27:38.991Z"
   },
   {
    "duration": 130,
    "start_time": "2022-05-02T03:27:39.028Z"
   },
   {
    "duration": 337,
    "start_time": "2022-05-02T03:27:39.161Z"
   },
   {
    "duration": 865,
    "start_time": "2022-05-02T03:27:39.500Z"
   },
   {
    "duration": 259,
    "start_time": "2022-05-02T03:27:40.367Z"
   },
   {
    "duration": 172,
    "start_time": "2022-05-02T03:27:40.628Z"
   },
   {
    "duration": 786,
    "start_time": "2022-05-02T03:27:40.802Z"
   },
   {
    "duration": 9,
    "start_time": "2022-05-02T03:27:41.590Z"
   },
   {
    "duration": 75608,
    "start_time": "2022-05-02T03:27:41.603Z"
   },
   {
    "duration": 42,
    "start_time": "2022-05-02T03:28:57.213Z"
   },
   {
    "duration": 220,
    "start_time": "2022-05-02T03:28:57.257Z"
   },
   {
    "duration": 14,
    "start_time": "2022-05-02T03:28:57.479Z"
   },
   {
    "duration": 5,
    "start_time": "2022-05-02T03:28:57.496Z"
   },
   {
    "duration": 30871,
    "start_time": "2022-05-02T03:28:57.503Z"
   },
   {
    "duration": 185,
    "start_time": "2022-05-02T03:29:28.377Z"
   },
   {
    "duration": 300,
    "start_time": "2022-05-02T03:29:28.564Z"
   },
   {
    "duration": 38,
    "start_time": "2022-05-02T03:29:28.867Z"
   },
   {
    "duration": 577,
    "start_time": "2022-05-02T03:29:28.925Z"
   },
   {
    "duration": 265,
    "start_time": "2022-05-02T03:29:29.505Z"
   },
   {
    "duration": 221,
    "start_time": "2022-05-02T03:29:29.772Z"
   },
   {
    "duration": 447,
    "start_time": "2022-05-02T03:29:29.996Z"
   },
   {
    "duration": 611,
    "start_time": "2022-05-02T03:29:30.446Z"
   },
   {
    "duration": 73,
    "start_time": "2022-05-02T03:29:31.059Z"
   },
   {
    "duration": 106,
    "start_time": "2022-05-02T03:29:31.134Z"
   },
   {
    "duration": 38,
    "start_time": "2022-05-02T03:29:31.242Z"
   },
   {
    "duration": 1314,
    "start_time": "2022-05-02T03:29:31.282Z"
   },
   {
    "duration": 34,
    "start_time": "2022-05-02T03:29:32.598Z"
   },
   {
    "duration": 286,
    "start_time": "2022-05-02T03:29:32.634Z"
   },
   {
    "duration": 870,
    "start_time": "2022-05-02T03:29:32.925Z"
   },
   {
    "duration": 128,
    "start_time": "2022-05-02T03:29:33.797Z"
   },
   {
    "duration": 78206,
    "start_time": "2022-05-02T03:29:33.927Z"
   },
   {
    "duration": 36801,
    "start_time": "2022-05-02T03:30:52.225Z"
   },
   {
    "duration": 561,
    "start_time": "2022-05-02T03:31:29.028Z"
   },
   {
    "duration": 170,
    "start_time": "2022-05-02T03:43:24.594Z"
   },
   {
    "duration": 2158,
    "start_time": "2022-05-02T03:43:38.230Z"
   },
   {
    "duration": 1384,
    "start_time": "2022-05-02T03:43:40.391Z"
   },
   {
    "duration": 126,
    "start_time": "2022-05-02T03:43:41.777Z"
   },
   {
    "duration": 38,
    "start_time": "2022-05-02T03:43:41.905Z"
   },
   {
    "duration": 116,
    "start_time": "2022-05-02T03:43:41.946Z"
   },
   {
    "duration": 31,
    "start_time": "2022-05-02T03:43:42.064Z"
   },
   {
    "duration": 142,
    "start_time": "2022-05-02T03:43:42.097Z"
   },
   {
    "duration": 326,
    "start_time": "2022-05-02T03:43:42.241Z"
   },
   {
    "duration": 879,
    "start_time": "2022-05-02T03:43:42.569Z"
   },
   {
    "duration": 274,
    "start_time": "2022-05-02T03:43:43.450Z"
   },
   {
    "duration": 164,
    "start_time": "2022-05-02T03:43:43.726Z"
   },
   {
    "duration": 781,
    "start_time": "2022-05-02T03:43:43.892Z"
   },
   {
    "duration": 9,
    "start_time": "2022-05-02T03:43:44.675Z"
   },
   {
    "duration": 77124,
    "start_time": "2022-05-02T03:43:44.688Z"
   },
   {
    "duration": 42,
    "start_time": "2022-05-02T03:45:01.815Z"
   },
   {
    "duration": 218,
    "start_time": "2022-05-02T03:45:01.859Z"
   },
   {
    "duration": 16,
    "start_time": "2022-05-02T03:45:02.079Z"
   },
   {
    "duration": 5,
    "start_time": "2022-05-02T03:45:02.097Z"
   },
   {
    "duration": 31529,
    "start_time": "2022-05-02T03:45:02.124Z"
   },
   {
    "duration": 182,
    "start_time": "2022-05-02T03:45:33.655Z"
   },
   {
    "duration": 306,
    "start_time": "2022-05-02T03:45:33.839Z"
   },
   {
    "duration": 36,
    "start_time": "2022-05-02T03:45:34.147Z"
   },
   {
    "duration": 686,
    "start_time": "2022-05-02T03:45:34.185Z"
   },
   {
    "duration": 244,
    "start_time": "2022-05-02T03:45:34.873Z"
   },
   {
    "duration": 203,
    "start_time": "2022-05-02T03:45:35.123Z"
   },
   {
    "duration": 390,
    "start_time": "2022-05-02T03:45:35.328Z"
   },
   {
    "duration": 591,
    "start_time": "2022-05-02T03:45:35.720Z"
   },
   {
    "duration": 76,
    "start_time": "2022-05-02T03:45:36.314Z"
   },
   {
    "duration": 113,
    "start_time": "2022-05-02T03:45:36.393Z"
   },
   {
    "duration": 51,
    "start_time": "2022-05-02T03:45:36.508Z"
   },
   {
    "duration": 1301,
    "start_time": "2022-05-02T03:45:36.562Z"
   },
   {
    "duration": 26,
    "start_time": "2022-05-02T03:45:37.866Z"
   },
   {
    "duration": 302,
    "start_time": "2022-05-02T03:45:37.894Z"
   },
   {
    "duration": 889,
    "start_time": "2022-05-02T03:45:38.198Z"
   },
   {
    "duration": 117,
    "start_time": "2022-05-02T03:45:39.090Z"
   },
   {
    "duration": 79415,
    "start_time": "2022-05-02T03:45:39.210Z"
   },
   {
    "duration": 36395,
    "start_time": "2022-05-02T03:46:58.630Z"
   },
   {
    "duration": 561,
    "start_time": "2022-05-02T03:47:35.028Z"
   },
   {
    "duration": 310038,
    "start_time": "2022-05-02T03:47:35.591Z"
   },
   {
    "duration": 114,
    "start_time": "2022-05-02T03:52:45.632Z"
   },
   {
    "duration": 19674,
    "start_time": "2022-05-02T03:52:45.751Z"
   },
   {
    "duration": 399,
    "start_time": "2022-05-02T03:53:05.428Z"
   },
   {
    "duration": 97,
    "start_time": "2022-05-02T03:53:05.831Z"
   },
   {
    "duration": 628,
    "start_time": "2022-05-02T03:53:05.930Z"
   },
   {
    "duration": 18,
    "start_time": "2022-05-02T03:53:06.560Z"
   },
   {
    "duration": 7,
    "start_time": "2022-05-02T03:53:06.580Z"
   },
   {
    "duration": 313252,
    "start_time": "2022-05-02T03:53:06.589Z"
   },
   {
    "duration": 785,
    "start_time": "2022-05-02T03:58:19.844Z"
   },
   {
    "duration": 7,
    "start_time": "2022-05-02T03:58:20.632Z"
   },
   {
    "duration": 107,
    "start_time": "2022-05-02T03:58:20.641Z"
   },
   {
    "duration": 101,
    "start_time": "2022-05-02T03:58:20.751Z"
   },
   {
    "duration": 13,
    "start_time": "2022-05-02T03:58:20.854Z"
   },
   {
    "duration": 142,
    "start_time": "2022-05-02T04:01:41.620Z"
   },
   {
    "duration": 114,
    "start_time": "2022-05-02T04:03:12.860Z"
   },
   {
    "duration": 124,
    "start_time": "2022-05-02T04:03:21.600Z"
   },
   {
    "duration": 56,
    "start_time": "2022-05-02T04:11:39.661Z"
   },
   {
    "duration": 168,
    "start_time": "2022-05-02T04:11:57.208Z"
   },
   {
    "duration": 51,
    "start_time": "2022-05-02T04:13:18.219Z"
   },
   {
    "duration": 7,
    "start_time": "2022-05-02T05:36:05.118Z"
   },
   {
    "duration": 65,
    "start_time": "2022-05-02T05:39:20.357Z"
   },
   {
    "duration": 62,
    "start_time": "2022-05-02T05:39:23.377Z"
   },
   {
    "duration": 136,
    "start_time": "2022-05-02T05:39:34.718Z"
   },
   {
    "duration": 18,
    "start_time": "2022-05-02T05:49:40.230Z"
   },
   {
    "duration": 1479,
    "start_time": "2022-05-02T05:59:10.777Z"
   },
   {
    "duration": 92,
    "start_time": "2022-05-02T05:59:43.815Z"
   },
   {
    "duration": 33,
    "start_time": "2022-05-02T05:59:55.833Z"
   },
   {
    "duration": 217,
    "start_time": "2022-05-02T06:00:14.365Z"
   },
   {
    "duration": 222,
    "start_time": "2022-05-02T06:00:24.220Z"
   },
   {
    "duration": 280,
    "start_time": "2022-05-02T06:01:02.441Z"
   },
   {
    "duration": 205,
    "start_time": "2022-05-02T06:03:29.340Z"
   },
   {
    "duration": 131,
    "start_time": "2022-05-02T06:04:23.004Z"
   },
   {
    "duration": 165,
    "start_time": "2022-05-02T06:04:34.045Z"
   },
   {
    "duration": 90,
    "start_time": "2022-05-02T06:05:42.737Z"
   },
   {
    "duration": 250186,
    "start_time": "2022-05-02T06:05:52.745Z"
   },
   {
    "duration": 2163,
    "start_time": "2022-05-02T06:17:46.505Z"
   },
   {
    "duration": 1866,
    "start_time": "2022-05-02T06:17:48.673Z"
   },
   {
    "duration": 227,
    "start_time": "2022-05-02T06:17:50.543Z"
   },
   {
    "duration": 60,
    "start_time": "2022-05-02T06:17:50.773Z"
   },
   {
    "duration": 203,
    "start_time": "2022-05-02T06:17:50.838Z"
   },
   {
    "duration": 52,
    "start_time": "2022-05-02T06:17:51.044Z"
   },
   {
    "duration": 231,
    "start_time": "2022-05-02T06:17:51.099Z"
   },
   {
    "duration": 350,
    "start_time": "2022-05-02T06:17:51.332Z"
   },
   {
    "duration": 1002,
    "start_time": "2022-05-02T06:17:51.684Z"
   },
   {
    "duration": 278,
    "start_time": "2022-05-02T06:17:52.688Z"
   },
   {
    "duration": 176,
    "start_time": "2022-05-02T06:17:52.968Z"
   },
   {
    "duration": 819,
    "start_time": "2022-05-02T06:17:53.146Z"
   },
   {
    "duration": 8,
    "start_time": "2022-05-02T06:17:53.968Z"
   },
   {
    "duration": 82573,
    "start_time": "2022-05-02T06:17:53.981Z"
   },
   {
    "duration": 39,
    "start_time": "2022-05-02T06:19:16.556Z"
   },
   {
    "duration": 217,
    "start_time": "2022-05-02T06:19:16.597Z"
   },
   {
    "duration": 27,
    "start_time": "2022-05-02T06:19:16.816Z"
   },
   {
    "duration": 9,
    "start_time": "2022-05-02T06:19:16.845Z"
   },
   {
    "duration": 33410,
    "start_time": "2022-05-02T06:19:16.856Z"
   },
   {
    "duration": 197,
    "start_time": "2022-05-02T06:19:50.270Z"
   },
   {
    "duration": 301,
    "start_time": "2022-05-02T06:19:50.470Z"
   },
   {
    "duration": 55,
    "start_time": "2022-05-02T06:19:50.773Z"
   },
   {
    "duration": 588,
    "start_time": "2022-05-02T06:19:50.832Z"
   },
   {
    "duration": 253,
    "start_time": "2022-05-02T06:19:51.423Z"
   },
   {
    "duration": 200,
    "start_time": "2022-05-02T06:19:51.678Z"
   },
   {
    "duration": 422,
    "start_time": "2022-05-02T06:19:51.880Z"
   },
   {
    "duration": 604,
    "start_time": "2022-05-02T06:19:52.305Z"
   },
   {
    "duration": 73,
    "start_time": "2022-05-02T06:19:52.911Z"
   },
   {
    "duration": 116,
    "start_time": "2022-05-02T06:19:52.986Z"
   },
   {
    "duration": 50,
    "start_time": "2022-05-02T06:19:53.105Z"
   },
   {
    "duration": 242,
    "start_time": "2022-05-02T06:19:53.157Z"
   },
   {
    "duration": 1153,
    "start_time": "2022-05-02T06:19:53.401Z"
   },
   {
    "duration": 29,
    "start_time": "2022-05-02T06:19:54.556Z"
   },
   {
    "duration": 110,
    "start_time": "2022-05-02T06:19:54.587Z"
   },
   {
    "duration": 908,
    "start_time": "2022-05-02T06:19:54.699Z"
   },
   {
    "duration": 135,
    "start_time": "2022-05-02T06:19:55.609Z"
   },
   {
    "duration": 182188,
    "start_time": "2022-05-02T06:19:55.747Z"
   },
   {
    "duration": 47743,
    "start_time": "2022-05-02T06:22:57.938Z"
   },
   {
    "duration": 634,
    "start_time": "2022-05-02T06:23:45.683Z"
   },
   {
    "duration": 340373,
    "start_time": "2022-05-02T06:23:46.320Z"
   },
   {
    "duration": 2369035,
    "start_time": "2022-05-02T06:29:26.699Z"
   },
   {
    "duration": 43808,
    "start_time": "2022-05-02T07:08:55.737Z"
   },
   {
    "duration": 379,
    "start_time": "2022-05-02T07:09:39.548Z"
   },
   {
    "duration": 9,
    "start_time": "2022-05-02T07:09:39.931Z"
   },
   {
    "duration": 649,
    "start_time": "2022-05-02T07:09:39.943Z"
   },
   {
    "duration": 36,
    "start_time": "2022-05-02T07:09:40.594Z"
   },
   {
    "duration": 8,
    "start_time": "2022-05-02T07:09:40.632Z"
   },
   {
    "duration": 327165,
    "start_time": "2022-05-02T07:09:40.643Z"
   },
   {
    "duration": 820,
    "start_time": "2022-05-02T07:15:07.810Z"
   },
   {
    "duration": 9,
    "start_time": "2022-05-02T07:15:08.634Z"
   },
   {
    "duration": 1319185,
    "start_time": "2022-05-02T07:15:08.645Z"
   },
   {
    "duration": 1217,
    "start_time": "2022-05-02T07:37:07.833Z"
   },
   {
    "duration": 7,
    "start_time": "2022-05-02T07:37:09.052Z"
   }
  ],
  "kernelspec": {
   "display_name": "Python 3 (ipykernel)",
   "language": "python",
   "name": "python3"
  },
  "language_info": {
   "codemirror_mode": {
    "name": "ipython",
    "version": 3
   },
   "file_extension": ".py",
   "mimetype": "text/x-python",
   "name": "python",
   "nbconvert_exporter": "python",
   "pygments_lexer": "ipython3",
   "version": "3.9.5"
  },
  "toc": {
   "base_numbering": 1,
   "nav_menu": {},
   "number_sections": true,
   "sideBar": true,
   "skip_h1_title": true,
   "title_cell": "Table of Contents",
   "title_sidebar": "Contents",
   "toc_cell": false,
   "toc_position": {},
   "toc_section_display": true,
   "toc_window_display": false
  }
 },
 "nbformat": 4,
 "nbformat_minor": 2
}
