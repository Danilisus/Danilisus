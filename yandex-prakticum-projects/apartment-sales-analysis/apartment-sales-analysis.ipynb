{
 "cells": [
  {
   "cell_type": "markdown",
   "metadata": {},
   "source": [
    "# Исследование объявлений о продаже квартир\n",
    "\n",
    "Предоставлены данные Яндекс.Недвижимости по продаже квартир в Петебурге за несколько лет. Необходимо провести исследовательский анализ данных и определить факторы, влияющие на рыночную стоимость объектов недвижимости."
   ]
  },
  {
   "cell_type": "markdown",
   "metadata": {
    "toc": true
   },
   "source": [
    "<h1>Содержание<span class=\"tocSkip\"></span></h1>\n",
    "<div class=\"toc\"><ul class=\"toc-item\"><li><span><a href=\"#Изучение-данных-из-файла\" data-toc-modified-id=\"Изучение-данных-из-файла-1\"><span class=\"toc-item-num\">1&nbsp;&nbsp;</span>Изучение данных из файла</a></span></li><li><span><a href=\"#Предобработка-данных\" data-toc-modified-id=\"Предобработка-данных-2\"><span class=\"toc-item-num\">2&nbsp;&nbsp;</span>Предобработка данных</a></span><ul class=\"toc-item\"><li><span><a href=\"#Обработка-пропусков\" data-toc-modified-id=\"Обработка-пропусков-2.1\"><span class=\"toc-item-num\">2.1&nbsp;&nbsp;</span>Обработка пропусков</a></span></li><li><span><a href=\"#Преобразование-типов-данных\" data-toc-modified-id=\"Преобразование-типов-данных-2.2\"><span class=\"toc-item-num\">2.2&nbsp;&nbsp;</span>Преобразование типов данных</a></span></li></ul></li><li><span><a href=\"#Расчёты-и-добавление-результатов-в-таблицу\" data-toc-modified-id=\"Расчёты-и-добавление-результатов-в-таблицу-3\"><span class=\"toc-item-num\">3&nbsp;&nbsp;</span>Расчёты и добавление результатов в таблицу</a></span><ul class=\"toc-item\"><li><span><a href=\"#Расчет-цены-квадратного-метра\" data-toc-modified-id=\"Расчет-цены-квадратного-метра-3.1\"><span class=\"toc-item-num\">3.1&nbsp;&nbsp;</span>Расчет цены квадратного метра</a></span></li><li><span><a href=\"#Расчет-дня-недели,-месяца-и-года-публикации\" data-toc-modified-id=\"Расчет-дня-недели,-месяца-и-года-публикации-3.2\"><span class=\"toc-item-num\">3.2&nbsp;&nbsp;</span>Расчет дня недели, месяца и года публикации</a></span></li><li><span><a href=\"#Расчет-типа-этажа-квартиры-(первый,-последний,-другой)\" data-toc-modified-id=\"Расчет-типа-этажа-квартиры-(первый,-последний,-другой)-3.3\"><span class=\"toc-item-num\">3.3&nbsp;&nbsp;</span>Расчет типа этажа квартиры (первый, последний, другой)</a></span></li><li><span><a href=\"#Расчет-отношения-жилой-и-площади-кухни-к-общей\" data-toc-modified-id=\"Расчет-отношения-жилой-и-площади-кухни-к-общей-3.4\"><span class=\"toc-item-num\">3.4&nbsp;&nbsp;</span>Расчет отношения жилой и площади кухни к общей</a></span></li></ul></li><li><span><a href=\"#Исследовательский-анализ-данных\" data-toc-modified-id=\"Исследовательский-анализ-данных-4\"><span class=\"toc-item-num\">4&nbsp;&nbsp;</span>Исследовательский анализ данных</a></span><ul class=\"toc-item\"><li><span><a href=\"#Изучение-площади,-цены,-числа-комнат-и-высоты-потолков\" data-toc-modified-id=\"Изучение-площади,-цены,-числа-комнат-и-высоты-потолков-4.1\"><span class=\"toc-item-num\">4.1&nbsp;&nbsp;</span>Изучение площади, цены, числа комнат и высоты потолков</a></span></li><li><span><a href=\"#Изучение-времени-продажи-квартиры\" data-toc-modified-id=\"Изучение-времени-продажи-квартиры-4.2\"><span class=\"toc-item-num\">4.2&nbsp;&nbsp;</span>Изучение времени продажи квартиры</a></span></li><li><span><a href=\"#Обнаружение-редких-и-выбивающихся-значений\" data-toc-modified-id=\"Обнаружение-редких-и-выбивающихся-значений-4.3\"><span class=\"toc-item-num\">4.3&nbsp;&nbsp;</span>Обнаружение редких и выбивающихся значений</a></span></li><li><span><a href=\"#Факторы-стоимиости-квартиры\" data-toc-modified-id=\"Факторы-стоимиости-квартиры-4.4\"><span class=\"toc-item-num\">4.4&nbsp;&nbsp;</span>Факторы стоимиости квартиры</a></span></li><li><span><a href=\"#Определение-зависимости-цены-квадратного-метра-от-населенного-пункта\" data-toc-modified-id=\"Определение-зависимости-цены-квадратного-метра-от-населенного-пункта-4.5\"><span class=\"toc-item-num\">4.5&nbsp;&nbsp;</span>Определение зависимости цены квадратного метра от населенного пункта</a></span></li><li><span><a href=\"#Изучение-предложений-квартир\" data-toc-modified-id=\"Изучение-предложений-квартир-4.6\"><span class=\"toc-item-num\">4.6&nbsp;&nbsp;</span>Изучение предложений квартир</a></span></li><li><span><a href=\"#Изучение-квартир-в-центре-города\" data-toc-modified-id=\"Изучение-квартир-в-центре-города-4.7\"><span class=\"toc-item-num\">4.7&nbsp;&nbsp;</span>Изучение квартир в центре города</a></span></li></ul></li><li><span><a href=\"#Общий-вывод\" data-toc-modified-id=\"Общий-вывод-5\"><span class=\"toc-item-num\">5&nbsp;&nbsp;</span>Общий вывод</a></span></li></ul></div>"
   ]
  },
  {
   "cell_type": "markdown",
   "metadata": {},
   "source": [
    "# Исследование объявлений о продаже квартир\n",
    "\n",
    "В вашем распоряжении данные сервиса Яндекс.Недвижимость — архив объявлений о продаже квартир в Санкт-Петербурге и соседних населённых пунктах за несколько лет. Нужно научиться определять рыночную стоимость объектов недвижимости. Ваша задача — установить параметры. Это позволит построить автоматизированную систему: она отследит аномалии и мошенническую деятельность. \n",
    "\n",
    "По каждой квартире на продажу доступны два вида данных. Первые вписаны пользователем, вторые получены автоматически на основе картографических данных. Например, расстояние до центра, аэропорта, ближайшего парка и водоёма. "
   ]
  },
  {
   "cell_type": "markdown",
   "metadata": {},
   "source": [
    "## Изучение данных из файла"
   ]
  },
  {
   "cell_type": "markdown",
   "metadata": {},
   "source": [
    "# Исследование объявлений о продаже квартир\n",
    "\n",
    "В вашем распоряжении данные сервиса Яндекс.Недвижимость — архив объявлений о продаже квартир в Санкт-Петербурге и соседних населённых пунктах за несколько лет. Нужно научиться определять рыночную стоимость объектов недвижимости. Ваша задача — установить параметры. Это позволит построить автоматизированную систему: она отследит аномалии и мошенническую деятельность. \n",
    "\n",
    "По каждой квартире на продажу доступны два вида данных. Первые вписаны пользователем, вторые получены автоматически на основе картографических данных. Например, расстояние до центра, аэропорта, ближайшего парка и водоёма. "
   ]
  },
  {
   "cell_type": "markdown",
   "metadata": {},
   "source": [
    "Импортируем необходимые библиотеки для нашейго анализа."
   ]
  },
  {
   "cell_type": "code",
   "execution_count": 1,
   "metadata": {},
   "outputs": [],
   "source": [
    "import pandas as pd\n",
    "import matplotlib.pyplot as plt\n",
    "import seaborn as sns"
   ]
  },
  {
   "cell_type": "markdown",
   "metadata": {},
   "source": [
    "Откроем и просмотрим наш датасет."
   ]
  },
  {
   "cell_type": "code",
   "execution_count": 2,
   "metadata": {
    "scrolled": false
   },
   "outputs": [
    {
     "data": {
      "text/html": [
       "<div>\n",
       "<style scoped>\n",
       "    .dataframe tbody tr th:only-of-type {\n",
       "        vertical-align: middle;\n",
       "    }\n",
       "\n",
       "    .dataframe tbody tr th {\n",
       "        vertical-align: top;\n",
       "    }\n",
       "\n",
       "    .dataframe thead th {\n",
       "        text-align: right;\n",
       "    }\n",
       "</style>\n",
       "<table border=\"1\" class=\"dataframe\">\n",
       "  <thead>\n",
       "    <tr style=\"text-align: right;\">\n",
       "      <th></th>\n",
       "      <th>total_images</th>\n",
       "      <th>last_price</th>\n",
       "      <th>total_area</th>\n",
       "      <th>first_day_exposition</th>\n",
       "      <th>rooms</th>\n",
       "      <th>ceiling_height</th>\n",
       "      <th>floors_total</th>\n",
       "      <th>living_area</th>\n",
       "      <th>floor</th>\n",
       "      <th>is_apartment</th>\n",
       "      <th>...</th>\n",
       "      <th>kitchen_area</th>\n",
       "      <th>balcony</th>\n",
       "      <th>locality_name</th>\n",
       "      <th>airports_nearest</th>\n",
       "      <th>cityCenters_nearest</th>\n",
       "      <th>parks_around3000</th>\n",
       "      <th>parks_nearest</th>\n",
       "      <th>ponds_around3000</th>\n",
       "      <th>ponds_nearest</th>\n",
       "      <th>days_exposition</th>\n",
       "    </tr>\n",
       "  </thead>\n",
       "  <tbody>\n",
       "    <tr>\n",
       "      <th>0</th>\n",
       "      <td>20</td>\n",
       "      <td>13000000.0</td>\n",
       "      <td>108.00</td>\n",
       "      <td>2019-03-07T00:00:00</td>\n",
       "      <td>3</td>\n",
       "      <td>2.70</td>\n",
       "      <td>16.0</td>\n",
       "      <td>51.00</td>\n",
       "      <td>8</td>\n",
       "      <td>NaN</td>\n",
       "      <td>...</td>\n",
       "      <td>25.00</td>\n",
       "      <td>NaN</td>\n",
       "      <td>Санкт-Петербург</td>\n",
       "      <td>18863.0</td>\n",
       "      <td>16028.0</td>\n",
       "      <td>1.0</td>\n",
       "      <td>482.0</td>\n",
       "      <td>2.0</td>\n",
       "      <td>755.0</td>\n",
       "      <td>NaN</td>\n",
       "    </tr>\n",
       "    <tr>\n",
       "      <th>1</th>\n",
       "      <td>7</td>\n",
       "      <td>3350000.0</td>\n",
       "      <td>40.40</td>\n",
       "      <td>2018-12-04T00:00:00</td>\n",
       "      <td>1</td>\n",
       "      <td>NaN</td>\n",
       "      <td>11.0</td>\n",
       "      <td>18.60</td>\n",
       "      <td>1</td>\n",
       "      <td>NaN</td>\n",
       "      <td>...</td>\n",
       "      <td>11.00</td>\n",
       "      <td>2.0</td>\n",
       "      <td>посёлок Шушары</td>\n",
       "      <td>12817.0</td>\n",
       "      <td>18603.0</td>\n",
       "      <td>0.0</td>\n",
       "      <td>NaN</td>\n",
       "      <td>0.0</td>\n",
       "      <td>NaN</td>\n",
       "      <td>81.0</td>\n",
       "    </tr>\n",
       "    <tr>\n",
       "      <th>2</th>\n",
       "      <td>10</td>\n",
       "      <td>5196000.0</td>\n",
       "      <td>56.00</td>\n",
       "      <td>2015-08-20T00:00:00</td>\n",
       "      <td>2</td>\n",
       "      <td>NaN</td>\n",
       "      <td>5.0</td>\n",
       "      <td>34.30</td>\n",
       "      <td>4</td>\n",
       "      <td>NaN</td>\n",
       "      <td>...</td>\n",
       "      <td>8.30</td>\n",
       "      <td>0.0</td>\n",
       "      <td>Санкт-Петербург</td>\n",
       "      <td>21741.0</td>\n",
       "      <td>13933.0</td>\n",
       "      <td>1.0</td>\n",
       "      <td>90.0</td>\n",
       "      <td>2.0</td>\n",
       "      <td>574.0</td>\n",
       "      <td>558.0</td>\n",
       "    </tr>\n",
       "    <tr>\n",
       "      <th>3</th>\n",
       "      <td>0</td>\n",
       "      <td>64900000.0</td>\n",
       "      <td>159.00</td>\n",
       "      <td>2015-07-24T00:00:00</td>\n",
       "      <td>3</td>\n",
       "      <td>NaN</td>\n",
       "      <td>14.0</td>\n",
       "      <td>NaN</td>\n",
       "      <td>9</td>\n",
       "      <td>NaN</td>\n",
       "      <td>...</td>\n",
       "      <td>NaN</td>\n",
       "      <td>0.0</td>\n",
       "      <td>Санкт-Петербург</td>\n",
       "      <td>28098.0</td>\n",
       "      <td>6800.0</td>\n",
       "      <td>2.0</td>\n",
       "      <td>84.0</td>\n",
       "      <td>3.0</td>\n",
       "      <td>234.0</td>\n",
       "      <td>424.0</td>\n",
       "    </tr>\n",
       "    <tr>\n",
       "      <th>4</th>\n",
       "      <td>2</td>\n",
       "      <td>10000000.0</td>\n",
       "      <td>100.00</td>\n",
       "      <td>2018-06-19T00:00:00</td>\n",
       "      <td>2</td>\n",
       "      <td>3.03</td>\n",
       "      <td>14.0</td>\n",
       "      <td>32.00</td>\n",
       "      <td>13</td>\n",
       "      <td>NaN</td>\n",
       "      <td>...</td>\n",
       "      <td>41.00</td>\n",
       "      <td>NaN</td>\n",
       "      <td>Санкт-Петербург</td>\n",
       "      <td>31856.0</td>\n",
       "      <td>8098.0</td>\n",
       "      <td>2.0</td>\n",
       "      <td>112.0</td>\n",
       "      <td>1.0</td>\n",
       "      <td>48.0</td>\n",
       "      <td>121.0</td>\n",
       "    </tr>\n",
       "    <tr>\n",
       "      <th>5</th>\n",
       "      <td>10</td>\n",
       "      <td>2890000.0</td>\n",
       "      <td>30.40</td>\n",
       "      <td>2018-09-10T00:00:00</td>\n",
       "      <td>1</td>\n",
       "      <td>NaN</td>\n",
       "      <td>12.0</td>\n",
       "      <td>14.40</td>\n",
       "      <td>5</td>\n",
       "      <td>NaN</td>\n",
       "      <td>...</td>\n",
       "      <td>9.10</td>\n",
       "      <td>NaN</td>\n",
       "      <td>городской посёлок Янино-1</td>\n",
       "      <td>NaN</td>\n",
       "      <td>NaN</td>\n",
       "      <td>NaN</td>\n",
       "      <td>NaN</td>\n",
       "      <td>NaN</td>\n",
       "      <td>NaN</td>\n",
       "      <td>55.0</td>\n",
       "    </tr>\n",
       "    <tr>\n",
       "      <th>6</th>\n",
       "      <td>6</td>\n",
       "      <td>3700000.0</td>\n",
       "      <td>37.30</td>\n",
       "      <td>2017-11-02T00:00:00</td>\n",
       "      <td>1</td>\n",
       "      <td>NaN</td>\n",
       "      <td>26.0</td>\n",
       "      <td>10.60</td>\n",
       "      <td>6</td>\n",
       "      <td>NaN</td>\n",
       "      <td>...</td>\n",
       "      <td>14.40</td>\n",
       "      <td>1.0</td>\n",
       "      <td>посёлок Парголово</td>\n",
       "      <td>52996.0</td>\n",
       "      <td>19143.0</td>\n",
       "      <td>0.0</td>\n",
       "      <td>NaN</td>\n",
       "      <td>0.0</td>\n",
       "      <td>NaN</td>\n",
       "      <td>155.0</td>\n",
       "    </tr>\n",
       "    <tr>\n",
       "      <th>7</th>\n",
       "      <td>5</td>\n",
       "      <td>7915000.0</td>\n",
       "      <td>71.60</td>\n",
       "      <td>2019-04-18T00:00:00</td>\n",
       "      <td>2</td>\n",
       "      <td>NaN</td>\n",
       "      <td>24.0</td>\n",
       "      <td>NaN</td>\n",
       "      <td>22</td>\n",
       "      <td>NaN</td>\n",
       "      <td>...</td>\n",
       "      <td>18.90</td>\n",
       "      <td>2.0</td>\n",
       "      <td>Санкт-Петербург</td>\n",
       "      <td>23982.0</td>\n",
       "      <td>11634.0</td>\n",
       "      <td>0.0</td>\n",
       "      <td>NaN</td>\n",
       "      <td>0.0</td>\n",
       "      <td>NaN</td>\n",
       "      <td>NaN</td>\n",
       "    </tr>\n",
       "    <tr>\n",
       "      <th>8</th>\n",
       "      <td>20</td>\n",
       "      <td>2900000.0</td>\n",
       "      <td>33.16</td>\n",
       "      <td>2018-05-23T00:00:00</td>\n",
       "      <td>1</td>\n",
       "      <td>NaN</td>\n",
       "      <td>27.0</td>\n",
       "      <td>15.43</td>\n",
       "      <td>26</td>\n",
       "      <td>NaN</td>\n",
       "      <td>...</td>\n",
       "      <td>8.81</td>\n",
       "      <td>NaN</td>\n",
       "      <td>посёлок Мурино</td>\n",
       "      <td>NaN</td>\n",
       "      <td>NaN</td>\n",
       "      <td>NaN</td>\n",
       "      <td>NaN</td>\n",
       "      <td>NaN</td>\n",
       "      <td>NaN</td>\n",
       "      <td>189.0</td>\n",
       "    </tr>\n",
       "    <tr>\n",
       "      <th>9</th>\n",
       "      <td>18</td>\n",
       "      <td>5400000.0</td>\n",
       "      <td>61.00</td>\n",
       "      <td>2017-02-26T00:00:00</td>\n",
       "      <td>3</td>\n",
       "      <td>2.50</td>\n",
       "      <td>9.0</td>\n",
       "      <td>43.60</td>\n",
       "      <td>7</td>\n",
       "      <td>NaN</td>\n",
       "      <td>...</td>\n",
       "      <td>6.50</td>\n",
       "      <td>2.0</td>\n",
       "      <td>Санкт-Петербург</td>\n",
       "      <td>50898.0</td>\n",
       "      <td>15008.0</td>\n",
       "      <td>0.0</td>\n",
       "      <td>NaN</td>\n",
       "      <td>0.0</td>\n",
       "      <td>NaN</td>\n",
       "      <td>289.0</td>\n",
       "    </tr>\n",
       "  </tbody>\n",
       "</table>\n",
       "<p>10 rows × 22 columns</p>\n",
       "</div>"
      ],
      "text/plain": [
       "   total_images  last_price  total_area first_day_exposition  rooms  \\\n",
       "0            20  13000000.0      108.00  2019-03-07T00:00:00      3   \n",
       "1             7   3350000.0       40.40  2018-12-04T00:00:00      1   \n",
       "2            10   5196000.0       56.00  2015-08-20T00:00:00      2   \n",
       "3             0  64900000.0      159.00  2015-07-24T00:00:00      3   \n",
       "4             2  10000000.0      100.00  2018-06-19T00:00:00      2   \n",
       "5            10   2890000.0       30.40  2018-09-10T00:00:00      1   \n",
       "6             6   3700000.0       37.30  2017-11-02T00:00:00      1   \n",
       "7             5   7915000.0       71.60  2019-04-18T00:00:00      2   \n",
       "8            20   2900000.0       33.16  2018-05-23T00:00:00      1   \n",
       "9            18   5400000.0       61.00  2017-02-26T00:00:00      3   \n",
       "\n",
       "   ceiling_height  floors_total  living_area  floor is_apartment  ...  \\\n",
       "0            2.70          16.0        51.00      8          NaN  ...   \n",
       "1             NaN          11.0        18.60      1          NaN  ...   \n",
       "2             NaN           5.0        34.30      4          NaN  ...   \n",
       "3             NaN          14.0          NaN      9          NaN  ...   \n",
       "4            3.03          14.0        32.00     13          NaN  ...   \n",
       "5             NaN          12.0        14.40      5          NaN  ...   \n",
       "6             NaN          26.0        10.60      6          NaN  ...   \n",
       "7             NaN          24.0          NaN     22          NaN  ...   \n",
       "8             NaN          27.0        15.43     26          NaN  ...   \n",
       "9            2.50           9.0        43.60      7          NaN  ...   \n",
       "\n",
       "   kitchen_area  balcony              locality_name  airports_nearest  \\\n",
       "0         25.00      NaN            Санкт-Петербург           18863.0   \n",
       "1         11.00      2.0             посёлок Шушары           12817.0   \n",
       "2          8.30      0.0            Санкт-Петербург           21741.0   \n",
       "3           NaN      0.0            Санкт-Петербург           28098.0   \n",
       "4         41.00      NaN            Санкт-Петербург           31856.0   \n",
       "5          9.10      NaN  городской посёлок Янино-1               NaN   \n",
       "6         14.40      1.0          посёлок Парголово           52996.0   \n",
       "7         18.90      2.0            Санкт-Петербург           23982.0   \n",
       "8          8.81      NaN             посёлок Мурино               NaN   \n",
       "9          6.50      2.0            Санкт-Петербург           50898.0   \n",
       "\n",
       "  cityCenters_nearest  parks_around3000  parks_nearest  ponds_around3000  \\\n",
       "0             16028.0               1.0          482.0               2.0   \n",
       "1             18603.0               0.0            NaN               0.0   \n",
       "2             13933.0               1.0           90.0               2.0   \n",
       "3              6800.0               2.0           84.0               3.0   \n",
       "4              8098.0               2.0          112.0               1.0   \n",
       "5                 NaN               NaN            NaN               NaN   \n",
       "6             19143.0               0.0            NaN               0.0   \n",
       "7             11634.0               0.0            NaN               0.0   \n",
       "8                 NaN               NaN            NaN               NaN   \n",
       "9             15008.0               0.0            NaN               0.0   \n",
       "\n",
       "   ponds_nearest  days_exposition  \n",
       "0          755.0              NaN  \n",
       "1            NaN             81.0  \n",
       "2          574.0            558.0  \n",
       "3          234.0            424.0  \n",
       "4           48.0            121.0  \n",
       "5            NaN             55.0  \n",
       "6            NaN            155.0  \n",
       "7            NaN              NaN  \n",
       "8            NaN            189.0  \n",
       "9            NaN            289.0  \n",
       "\n",
       "[10 rows x 22 columns]"
      ]
     },
     "metadata": {},
     "output_type": "display_data"
    },
    {
     "name": "stdout",
     "output_type": "stream",
     "text": [
      "<class 'pandas.core.frame.DataFrame'>\n",
      "RangeIndex: 23699 entries, 0 to 23698\n",
      "Data columns (total 22 columns):\n",
      " #   Column                Non-Null Count  Dtype  \n",
      "---  ------                --------------  -----  \n",
      " 0   total_images          23699 non-null  int64  \n",
      " 1   last_price            23699 non-null  float64\n",
      " 2   total_area            23699 non-null  float64\n",
      " 3   first_day_exposition  23699 non-null  object \n",
      " 4   rooms                 23699 non-null  int64  \n",
      " 5   ceiling_height        14504 non-null  float64\n",
      " 6   floors_total          23613 non-null  float64\n",
      " 7   living_area           21796 non-null  float64\n",
      " 8   floor                 23699 non-null  int64  \n",
      " 9   is_apartment          2775 non-null   object \n",
      " 10  studio                23699 non-null  bool   \n",
      " 11  open_plan             23699 non-null  bool   \n",
      " 12  kitchen_area          21421 non-null  float64\n",
      " 13  balcony               12180 non-null  float64\n",
      " 14  locality_name         23650 non-null  object \n",
      " 15  airports_nearest      18157 non-null  float64\n",
      " 16  cityCenters_nearest   18180 non-null  float64\n",
      " 17  parks_around3000      18181 non-null  float64\n",
      " 18  parks_nearest         8079 non-null   float64\n",
      " 19  ponds_around3000      18181 non-null  float64\n",
      " 20  ponds_nearest         9110 non-null   float64\n",
      " 21  days_exposition       20518 non-null  float64\n",
      "dtypes: bool(2), float64(14), int64(3), object(3)\n",
      "memory usage: 3.7+ MB\n"
     ]
    }
   ],
   "source": [
    "df = pd.read_csv('/datasets/real_estate_data.csv', sep='\\t')\n",
    "display (df.head(10))\n",
    "df.info()"
   ]
  },
  {
   "cell_type": "markdown",
   "metadata": {},
   "source": [
    "**Вывод**"
   ]
  },
  {
   "cell_type": "markdown",
   "metadata": {},
   "source": [
    "После открытия и просмотра первых строк датасата, можно сказать, что в данных есть пропуски, дата и время записаны как строки, некоторые дробные можно перевести в целые числа. Данные неидеальны, попробуем это исправить."
   ]
  },
  {
   "cell_type": "markdown",
   "metadata": {},
   "source": [
    "## Предобработка данных"
   ]
  },
  {
   "cell_type": "markdown",
   "metadata": {},
   "source": [
    "### Обработка пропусков"
   ]
  },
  {
   "cell_type": "markdown",
   "metadata": {},
   "source": [
    "Первый столбец с пропусками - `ceiling_height` - высота потолков. Почти половина значений отсутствует. Попробуем изучить имеющиеся данные."
   ]
  },
  {
   "cell_type": "code",
   "execution_count": 3,
   "metadata": {},
   "outputs": [
    {
     "data": {
      "text/html": [
       "<div>\n",
       "<style scoped>\n",
       "    .dataframe tbody tr th:only-of-type {\n",
       "        vertical-align: middle;\n",
       "    }\n",
       "\n",
       "    .dataframe tbody tr th {\n",
       "        vertical-align: top;\n",
       "    }\n",
       "\n",
       "    .dataframe thead th {\n",
       "        text-align: right;\n",
       "    }\n",
       "</style>\n",
       "<table border=\"1\" class=\"dataframe\">\n",
       "  <thead>\n",
       "    <tr style=\"text-align: right;\">\n",
       "      <th></th>\n",
       "      <th>total_images</th>\n",
       "      <th>last_price</th>\n",
       "      <th>total_area</th>\n",
       "      <th>first_day_exposition</th>\n",
       "      <th>rooms</th>\n",
       "      <th>ceiling_height</th>\n",
       "      <th>floors_total</th>\n",
       "      <th>living_area</th>\n",
       "      <th>floor</th>\n",
       "      <th>is_apartment</th>\n",
       "      <th>...</th>\n",
       "      <th>kitchen_area</th>\n",
       "      <th>balcony</th>\n",
       "      <th>locality_name</th>\n",
       "      <th>airports_nearest</th>\n",
       "      <th>cityCenters_nearest</th>\n",
       "      <th>parks_around3000</th>\n",
       "      <th>parks_nearest</th>\n",
       "      <th>ponds_around3000</th>\n",
       "      <th>ponds_nearest</th>\n",
       "      <th>days_exposition</th>\n",
       "    </tr>\n",
       "  </thead>\n",
       "  <tbody>\n",
       "    <tr>\n",
       "      <th>1</th>\n",
       "      <td>7</td>\n",
       "      <td>3350000.0</td>\n",
       "      <td>40.4</td>\n",
       "      <td>2018-12-04T00:00:00</td>\n",
       "      <td>1</td>\n",
       "      <td>NaN</td>\n",
       "      <td>11.0</td>\n",
       "      <td>18.6</td>\n",
       "      <td>1</td>\n",
       "      <td>NaN</td>\n",
       "      <td>...</td>\n",
       "      <td>11.0</td>\n",
       "      <td>2.0</td>\n",
       "      <td>посёлок Шушары</td>\n",
       "      <td>12817.0</td>\n",
       "      <td>18603.0</td>\n",
       "      <td>0.0</td>\n",
       "      <td>NaN</td>\n",
       "      <td>0.0</td>\n",
       "      <td>NaN</td>\n",
       "      <td>81.0</td>\n",
       "    </tr>\n",
       "    <tr>\n",
       "      <th>2</th>\n",
       "      <td>10</td>\n",
       "      <td>5196000.0</td>\n",
       "      <td>56.0</td>\n",
       "      <td>2015-08-20T00:00:00</td>\n",
       "      <td>2</td>\n",
       "      <td>NaN</td>\n",
       "      <td>5.0</td>\n",
       "      <td>34.3</td>\n",
       "      <td>4</td>\n",
       "      <td>NaN</td>\n",
       "      <td>...</td>\n",
       "      <td>8.3</td>\n",
       "      <td>0.0</td>\n",
       "      <td>Санкт-Петербург</td>\n",
       "      <td>21741.0</td>\n",
       "      <td>13933.0</td>\n",
       "      <td>1.0</td>\n",
       "      <td>90.0</td>\n",
       "      <td>2.0</td>\n",
       "      <td>574.0</td>\n",
       "      <td>558.0</td>\n",
       "    </tr>\n",
       "    <tr>\n",
       "      <th>3</th>\n",
       "      <td>0</td>\n",
       "      <td>64900000.0</td>\n",
       "      <td>159.0</td>\n",
       "      <td>2015-07-24T00:00:00</td>\n",
       "      <td>3</td>\n",
       "      <td>NaN</td>\n",
       "      <td>14.0</td>\n",
       "      <td>NaN</td>\n",
       "      <td>9</td>\n",
       "      <td>NaN</td>\n",
       "      <td>...</td>\n",
       "      <td>NaN</td>\n",
       "      <td>0.0</td>\n",
       "      <td>Санкт-Петербург</td>\n",
       "      <td>28098.0</td>\n",
       "      <td>6800.0</td>\n",
       "      <td>2.0</td>\n",
       "      <td>84.0</td>\n",
       "      <td>3.0</td>\n",
       "      <td>234.0</td>\n",
       "      <td>424.0</td>\n",
       "    </tr>\n",
       "    <tr>\n",
       "      <th>5</th>\n",
       "      <td>10</td>\n",
       "      <td>2890000.0</td>\n",
       "      <td>30.4</td>\n",
       "      <td>2018-09-10T00:00:00</td>\n",
       "      <td>1</td>\n",
       "      <td>NaN</td>\n",
       "      <td>12.0</td>\n",
       "      <td>14.4</td>\n",
       "      <td>5</td>\n",
       "      <td>NaN</td>\n",
       "      <td>...</td>\n",
       "      <td>9.1</td>\n",
       "      <td>NaN</td>\n",
       "      <td>городской посёлок Янино-1</td>\n",
       "      <td>NaN</td>\n",
       "      <td>NaN</td>\n",
       "      <td>NaN</td>\n",
       "      <td>NaN</td>\n",
       "      <td>NaN</td>\n",
       "      <td>NaN</td>\n",
       "      <td>55.0</td>\n",
       "    </tr>\n",
       "    <tr>\n",
       "      <th>6</th>\n",
       "      <td>6</td>\n",
       "      <td>3700000.0</td>\n",
       "      <td>37.3</td>\n",
       "      <td>2017-11-02T00:00:00</td>\n",
       "      <td>1</td>\n",
       "      <td>NaN</td>\n",
       "      <td>26.0</td>\n",
       "      <td>10.6</td>\n",
       "      <td>6</td>\n",
       "      <td>NaN</td>\n",
       "      <td>...</td>\n",
       "      <td>14.4</td>\n",
       "      <td>1.0</td>\n",
       "      <td>посёлок Парголово</td>\n",
       "      <td>52996.0</td>\n",
       "      <td>19143.0</td>\n",
       "      <td>0.0</td>\n",
       "      <td>NaN</td>\n",
       "      <td>0.0</td>\n",
       "      <td>NaN</td>\n",
       "      <td>155.0</td>\n",
       "    </tr>\n",
       "    <tr>\n",
       "      <th>...</th>\n",
       "      <td>...</td>\n",
       "      <td>...</td>\n",
       "      <td>...</td>\n",
       "      <td>...</td>\n",
       "      <td>...</td>\n",
       "      <td>...</td>\n",
       "      <td>...</td>\n",
       "      <td>...</td>\n",
       "      <td>...</td>\n",
       "      <td>...</td>\n",
       "      <td>...</td>\n",
       "      <td>...</td>\n",
       "      <td>...</td>\n",
       "      <td>...</td>\n",
       "      <td>...</td>\n",
       "      <td>...</td>\n",
       "      <td>...</td>\n",
       "      <td>...</td>\n",
       "      <td>...</td>\n",
       "      <td>...</td>\n",
       "      <td>...</td>\n",
       "    </tr>\n",
       "    <tr>\n",
       "      <th>23687</th>\n",
       "      <td>6</td>\n",
       "      <td>3200000.0</td>\n",
       "      <td>39.0</td>\n",
       "      <td>2017-12-16T00:00:00</td>\n",
       "      <td>1</td>\n",
       "      <td>NaN</td>\n",
       "      <td>9.0</td>\n",
       "      <td>20.0</td>\n",
       "      <td>6</td>\n",
       "      <td>NaN</td>\n",
       "      <td>...</td>\n",
       "      <td>11.0</td>\n",
       "      <td>2.0</td>\n",
       "      <td>Санкт-Петербург</td>\n",
       "      <td>40837.0</td>\n",
       "      <td>16704.0</td>\n",
       "      <td>0.0</td>\n",
       "      <td>NaN</td>\n",
       "      <td>0.0</td>\n",
       "      <td>NaN</td>\n",
       "      <td>38.0</td>\n",
       "    </tr>\n",
       "    <tr>\n",
       "      <th>23690</th>\n",
       "      <td>3</td>\n",
       "      <td>5500000.0</td>\n",
       "      <td>52.0</td>\n",
       "      <td>2018-07-19T00:00:00</td>\n",
       "      <td>2</td>\n",
       "      <td>NaN</td>\n",
       "      <td>5.0</td>\n",
       "      <td>31.0</td>\n",
       "      <td>2</td>\n",
       "      <td>NaN</td>\n",
       "      <td>...</td>\n",
       "      <td>6.0</td>\n",
       "      <td>NaN</td>\n",
       "      <td>Санкт-Петербург</td>\n",
       "      <td>20151.0</td>\n",
       "      <td>6263.0</td>\n",
       "      <td>1.0</td>\n",
       "      <td>300.0</td>\n",
       "      <td>0.0</td>\n",
       "      <td>NaN</td>\n",
       "      <td>15.0</td>\n",
       "    </tr>\n",
       "    <tr>\n",
       "      <th>23692</th>\n",
       "      <td>2</td>\n",
       "      <td>1350000.0</td>\n",
       "      <td>30.0</td>\n",
       "      <td>2017-07-07T00:00:00</td>\n",
       "      <td>1</td>\n",
       "      <td>NaN</td>\n",
       "      <td>5.0</td>\n",
       "      <td>17.5</td>\n",
       "      <td>4</td>\n",
       "      <td>NaN</td>\n",
       "      <td>...</td>\n",
       "      <td>6.0</td>\n",
       "      <td>NaN</td>\n",
       "      <td>Тихвин</td>\n",
       "      <td>NaN</td>\n",
       "      <td>NaN</td>\n",
       "      <td>NaN</td>\n",
       "      <td>NaN</td>\n",
       "      <td>NaN</td>\n",
       "      <td>NaN</td>\n",
       "      <td>413.0</td>\n",
       "    </tr>\n",
       "    <tr>\n",
       "      <th>23695</th>\n",
       "      <td>14</td>\n",
       "      <td>3100000.0</td>\n",
       "      <td>59.0</td>\n",
       "      <td>2018-01-15T00:00:00</td>\n",
       "      <td>3</td>\n",
       "      <td>NaN</td>\n",
       "      <td>5.0</td>\n",
       "      <td>38.0</td>\n",
       "      <td>4</td>\n",
       "      <td>NaN</td>\n",
       "      <td>...</td>\n",
       "      <td>8.5</td>\n",
       "      <td>NaN</td>\n",
       "      <td>Тосно</td>\n",
       "      <td>NaN</td>\n",
       "      <td>NaN</td>\n",
       "      <td>NaN</td>\n",
       "      <td>NaN</td>\n",
       "      <td>NaN</td>\n",
       "      <td>NaN</td>\n",
       "      <td>45.0</td>\n",
       "    </tr>\n",
       "    <tr>\n",
       "      <th>23696</th>\n",
       "      <td>18</td>\n",
       "      <td>2500000.0</td>\n",
       "      <td>56.7</td>\n",
       "      <td>2018-02-11T00:00:00</td>\n",
       "      <td>2</td>\n",
       "      <td>NaN</td>\n",
       "      <td>3.0</td>\n",
       "      <td>29.7</td>\n",
       "      <td>1</td>\n",
       "      <td>NaN</td>\n",
       "      <td>...</td>\n",
       "      <td>NaN</td>\n",
       "      <td>NaN</td>\n",
       "      <td>село Рождествено</td>\n",
       "      <td>NaN</td>\n",
       "      <td>NaN</td>\n",
       "      <td>NaN</td>\n",
       "      <td>NaN</td>\n",
       "      <td>NaN</td>\n",
       "      <td>NaN</td>\n",
       "      <td>NaN</td>\n",
       "    </tr>\n",
       "  </tbody>\n",
       "</table>\n",
       "<p>9195 rows × 22 columns</p>\n",
       "</div>"
      ],
      "text/plain": [
       "       total_images  last_price  total_area first_day_exposition  rooms  \\\n",
       "1                 7   3350000.0        40.4  2018-12-04T00:00:00      1   \n",
       "2                10   5196000.0        56.0  2015-08-20T00:00:00      2   \n",
       "3                 0  64900000.0       159.0  2015-07-24T00:00:00      3   \n",
       "5                10   2890000.0        30.4  2018-09-10T00:00:00      1   \n",
       "6                 6   3700000.0        37.3  2017-11-02T00:00:00      1   \n",
       "...             ...         ...         ...                  ...    ...   \n",
       "23687             6   3200000.0        39.0  2017-12-16T00:00:00      1   \n",
       "23690             3   5500000.0        52.0  2018-07-19T00:00:00      2   \n",
       "23692             2   1350000.0        30.0  2017-07-07T00:00:00      1   \n",
       "23695            14   3100000.0        59.0  2018-01-15T00:00:00      3   \n",
       "23696            18   2500000.0        56.7  2018-02-11T00:00:00      2   \n",
       "\n",
       "       ceiling_height  floors_total  living_area  floor is_apartment  ...  \\\n",
       "1                 NaN          11.0         18.6      1          NaN  ...   \n",
       "2                 NaN           5.0         34.3      4          NaN  ...   \n",
       "3                 NaN          14.0          NaN      9          NaN  ...   \n",
       "5                 NaN          12.0         14.4      5          NaN  ...   \n",
       "6                 NaN          26.0         10.6      6          NaN  ...   \n",
       "...               ...           ...          ...    ...          ...  ...   \n",
       "23687             NaN           9.0         20.0      6          NaN  ...   \n",
       "23690             NaN           5.0         31.0      2          NaN  ...   \n",
       "23692             NaN           5.0         17.5      4          NaN  ...   \n",
       "23695             NaN           5.0         38.0      4          NaN  ...   \n",
       "23696             NaN           3.0         29.7      1          NaN  ...   \n",
       "\n",
       "       kitchen_area  balcony              locality_name  airports_nearest  \\\n",
       "1              11.0      2.0             посёлок Шушары           12817.0   \n",
       "2               8.3      0.0            Санкт-Петербург           21741.0   \n",
       "3               NaN      0.0            Санкт-Петербург           28098.0   \n",
       "5               9.1      NaN  городской посёлок Янино-1               NaN   \n",
       "6              14.4      1.0          посёлок Парголово           52996.0   \n",
       "...             ...      ...                        ...               ...   \n",
       "23687          11.0      2.0            Санкт-Петербург           40837.0   \n",
       "23690           6.0      NaN            Санкт-Петербург           20151.0   \n",
       "23692           6.0      NaN                     Тихвин               NaN   \n",
       "23695           8.5      NaN                      Тосно               NaN   \n",
       "23696           NaN      NaN           село Рождествено               NaN   \n",
       "\n",
       "      cityCenters_nearest  parks_around3000  parks_nearest  ponds_around3000  \\\n",
       "1                 18603.0               0.0            NaN               0.0   \n",
       "2                 13933.0               1.0           90.0               2.0   \n",
       "3                  6800.0               2.0           84.0               3.0   \n",
       "5                     NaN               NaN            NaN               NaN   \n",
       "6                 19143.0               0.0            NaN               0.0   \n",
       "...                   ...               ...            ...               ...   \n",
       "23687             16704.0               0.0            NaN               0.0   \n",
       "23690              6263.0               1.0          300.0               0.0   \n",
       "23692                 NaN               NaN            NaN               NaN   \n",
       "23695                 NaN               NaN            NaN               NaN   \n",
       "23696                 NaN               NaN            NaN               NaN   \n",
       "\n",
       "       ponds_nearest  days_exposition  \n",
       "1                NaN             81.0  \n",
       "2              574.0            558.0  \n",
       "3              234.0            424.0  \n",
       "5                NaN             55.0  \n",
       "6                NaN            155.0  \n",
       "...              ...              ...  \n",
       "23687            NaN             38.0  \n",
       "23690            NaN             15.0  \n",
       "23692            NaN            413.0  \n",
       "23695            NaN             45.0  \n",
       "23696            NaN              NaN  \n",
       "\n",
       "[9195 rows x 22 columns]"
      ]
     },
     "metadata": {},
     "output_type": "display_data"
    }
   ],
   "source": [
    "display(df[df['ceiling_height'].isna()])"
   ]
  },
  {
   "cell_type": "code",
   "execution_count": 4,
   "metadata": {},
   "outputs": [
    {
     "data": {
      "text/plain": [
       "'Числовое описание данных:'"
      ]
     },
     "metadata": {},
     "output_type": "display_data"
    },
    {
     "data": {
      "text/plain": [
       "count    14504.000000\n",
       "mean         2.771499\n",
       "std          1.261056\n",
       "min          1.000000\n",
       "25%          2.520000\n",
       "50%          2.650000\n",
       "75%          2.800000\n",
       "max        100.000000\n",
       "Name: ceiling_height, dtype: float64"
      ]
     },
     "metadata": {},
     "output_type": "display_data"
    },
    {
     "data": {
      "text/plain": [
       "'Количество уникальных значений в столбце:'"
      ]
     },
     "metadata": {},
     "output_type": "display_data"
    },
    {
     "data": {
      "text/plain": [
       "2.5    3515\n",
       "2.6    1646\n",
       "2.7    1574\n",
       "3.0    1112\n",
       "2.8     993\n",
       "Name: ceiling_height, dtype: int64"
      ]
     },
     "metadata": {},
     "output_type": "display_data"
    },
    {
     "data": {
      "image/png": "[encoded data removed]",
      "text/plain": [
       "<Figure size 1080x432 with 1 Axes>"
      ]
     },
     "metadata": {
      "needs_background": "light"
     },
     "output_type": "display_data"
    }
   ],
   "source": [
    "display(\n",
    "    'Числовое описание данных:',\n",
    "    df['ceiling_height'].describe()\n",
    ")\n",
    "\n",
    "display(\n",
    "    'Количество уникальных значений в столбце:',\n",
    "    df['ceiling_height'].value_counts().head()\n",
    ")\n",
    "\n",
    "fig, ax = plt.subplots()\n",
    "\n",
    "df['ceiling_height'].hist(bins=50, range=(2.3,4))\n",
    "\n",
    "fig.set_figwidth(15)\n",
    "fig.set_figheight(6)\n",
    "fig.suptitle('Анализ высоты потолков', fontsize = 15)\n",
    "\n",
    "ax.set_xlabel('Высота потолков, м')\n",
    "ax.set_ylabel('Количество объектов')\n",
    "\n",
    "plt.show()"
   ]
  },
  {
   "cell_type": "markdown",
   "metadata": {},
   "source": [
    "В данном случае, пользователи не стали вносить высоту потолка при оформлении объявления. Думаю, в большинстве случаев, это связано со стандартной высотой потолка в 2,5 метра, но в данных присутствуют и дорогие квартиры, в которых, можно предположить, что высота полотков будет больше. Поэтому примем медианное значение в 2,65 м. "
   ]
  },
  {
   "cell_type": "code",
   "execution_count": 5,
   "metadata": {},
   "outputs": [],
   "source": [
    "df['ceiling_height'] = df['ceiling_height'].fillna(df['ceiling_height'].median())"
   ]
  },
  {
   "cell_type": "markdown",
   "metadata": {},
   "source": [
    "Проверим наличие пропусков в данном столбце"
   ]
  },
  {
   "cell_type": "code",
   "execution_count": 6,
   "metadata": {
    "scrolled": true
   },
   "outputs": [
    {
     "data": {
      "text/html": [
       "<div>\n",
       "<style scoped>\n",
       "    .dataframe tbody tr th:only-of-type {\n",
       "        vertical-align: middle;\n",
       "    }\n",
       "\n",
       "    .dataframe tbody tr th {\n",
       "        vertical-align: top;\n",
       "    }\n",
       "\n",
       "    .dataframe thead th {\n",
       "        text-align: right;\n",
       "    }\n",
       "</style>\n",
       "<table border=\"1\" class=\"dataframe\">\n",
       "  <thead>\n",
       "    <tr style=\"text-align: right;\">\n",
       "      <th></th>\n",
       "      <th>total_images</th>\n",
       "      <th>last_price</th>\n",
       "      <th>total_area</th>\n",
       "      <th>first_day_exposition</th>\n",
       "      <th>rooms</th>\n",
       "      <th>ceiling_height</th>\n",
       "      <th>floors_total</th>\n",
       "      <th>living_area</th>\n",
       "      <th>floor</th>\n",
       "      <th>is_apartment</th>\n",
       "      <th>...</th>\n",
       "      <th>kitchen_area</th>\n",
       "      <th>balcony</th>\n",
       "      <th>locality_name</th>\n",
       "      <th>airports_nearest</th>\n",
       "      <th>cityCenters_nearest</th>\n",
       "      <th>parks_around3000</th>\n",
       "      <th>parks_nearest</th>\n",
       "      <th>ponds_around3000</th>\n",
       "      <th>ponds_nearest</th>\n",
       "      <th>days_exposition</th>\n",
       "    </tr>\n",
       "  </thead>\n",
       "  <tbody>\n",
       "  </tbody>\n",
       "</table>\n",
       "<p>0 rows × 22 columns</p>\n",
       "</div>"
      ],
      "text/plain": [
       "Empty DataFrame\n",
       "Columns: [total_images, last_price, total_area, first_day_exposition, rooms, ceiling_height, floors_total, living_area, floor, is_apartment, studio, open_plan, kitchen_area, balcony, locality_name, airports_nearest, cityCenters_nearest, parks_around3000, parks_nearest, ponds_around3000, ponds_nearest, days_exposition]\n",
       "Index: []\n",
       "\n",
       "[0 rows x 22 columns]"
      ]
     },
     "execution_count": 6,
     "metadata": {},
     "output_type": "execute_result"
    }
   ],
   "source": [
    "df[df['ceiling_height'].isna()]"
   ]
  },
  {
   "cell_type": "markdown",
   "metadata": {},
   "source": [
    "Следующий столбец: жилая площадь - `living_area`. В задачах анализа не требуется данная информация, поэтому пока оставим как есть."
   ]
  },
  {
   "cell_type": "markdown",
   "metadata": {},
   "source": [
    "Далее рассмотрим столбец `is_apartment`."
   ]
  },
  {
   "cell_type": "code",
   "execution_count": 7,
   "metadata": {},
   "outputs": [
    {
     "data": {
      "text/plain": [
       "array([nan, False, True], dtype=object)"
      ]
     },
     "execution_count": 7,
     "metadata": {},
     "output_type": "execute_result"
    }
   ],
   "source": [
    "df['is_apartment'].unique()"
   ]
  },
  {
   "cell_type": "markdown",
   "metadata": {},
   "source": [
    "Так как в России апартаменты не пользуются большим спросом и их очень мало, предположу что отсутствующие значения не являются ими."
   ]
  },
  {
   "cell_type": "code",
   "execution_count": 8,
   "metadata": {},
   "outputs": [
    {
     "name": "stdout",
     "output_type": "stream",
     "text": [
      "<class 'pandas.core.frame.DataFrame'>\n",
      "RangeIndex: 23699 entries, 0 to 23698\n",
      "Data columns (total 22 columns):\n",
      " #   Column                Non-Null Count  Dtype  \n",
      "---  ------                --------------  -----  \n",
      " 0   total_images          23699 non-null  int64  \n",
      " 1   last_price            23699 non-null  float64\n",
      " 2   total_area            23699 non-null  float64\n",
      " 3   first_day_exposition  23699 non-null  object \n",
      " 4   rooms                 23699 non-null  int64  \n",
      " 5   ceiling_height        23699 non-null  float64\n",
      " 6   floors_total          23613 non-null  float64\n",
      " 7   living_area           21796 non-null  float64\n",
      " 8   floor                 23699 non-null  int64  \n",
      " 9   is_apartment          23699 non-null  bool   \n",
      " 10  studio                23699 non-null  bool   \n",
      " 11  open_plan             23699 non-null  bool   \n",
      " 12  kitchen_area          21421 non-null  float64\n",
      " 13  balcony               12180 non-null  float64\n",
      " 14  locality_name         23650 non-null  object \n",
      " 15  airports_nearest      18157 non-null  float64\n",
      " 16  cityCenters_nearest   18180 non-null  float64\n",
      " 17  parks_around3000      18181 non-null  float64\n",
      " 18  parks_nearest         8079 non-null   float64\n",
      " 19  ponds_around3000      18181 non-null  float64\n",
      " 20  ponds_nearest         9110 non-null   float64\n",
      " 21  days_exposition       20518 non-null  float64\n",
      "dtypes: bool(3), float64(14), int64(3), object(2)\n",
      "memory usage: 3.5+ MB\n"
     ]
    }
   ],
   "source": [
    "df['is_apartment'] = df['is_apartment'].fillna(False)\n",
    "df.info()"
   ]
  },
  {
   "cell_type": "markdown",
   "metadata": {},
   "source": [
    "Теперь видно, что тип данных стал `bool`."
   ]
  },
  {
   "cell_type": "markdown",
   "metadata": {},
   "source": [
    "В столбце балконы `balcony`, пропуски заменим на 0, так как скорее всего не стали указывать количество так как их нет. Также заменим тип значений на целочисленные."
   ]
  },
  {
   "cell_type": "code",
   "execution_count": 9,
   "metadata": {
    "scrolled": true
   },
   "outputs": [
    {
     "data": {
      "text/plain": [
       "array([0, 2, 1, 5, 4, 3])"
      ]
     },
     "execution_count": 9,
     "metadata": {},
     "output_type": "execute_result"
    }
   ],
   "source": [
    "df['balcony'] = df['balcony'].fillna(0).astype('int')\n",
    "df['balcony'].unique()"
   ]
  },
  {
   "cell_type": "markdown",
   "metadata": {},
   "source": [
    "Найдем количество пропусков в столбце с общим числом этажей в здании - `floors_total`."
   ]
  },
  {
   "cell_type": "code",
   "execution_count": 10,
   "metadata": {},
   "outputs": [
    {
     "data": {
      "text/plain": [
       "86"
      ]
     },
     "execution_count": 10,
     "metadata": {},
     "output_type": "execute_result"
    }
   ],
   "source": [
    "df['floors_total'].isna().sum()"
   ]
  },
  {
   "cell_type": "markdown",
   "metadata": {},
   "source": [
    "Так как их мало можем удалить."
   ]
  },
  {
   "cell_type": "code",
   "execution_count": 11,
   "metadata": {},
   "outputs": [
    {
     "data": {
      "text/plain": [
       "0"
      ]
     },
     "execution_count": 11,
     "metadata": {},
     "output_type": "execute_result"
    }
   ],
   "source": [
    "df = df.dropna(subset=['floors_total'])\n",
    "df['floors_total'].isna().sum()"
   ]
  },
  {
   "cell_type": "markdown",
   "metadata": {},
   "source": [
    "**Вывод**"
   ]
  },
  {
   "cell_type": "markdown",
   "metadata": {},
   "source": [
    "Большое количество пропусков данных в столбцах с расстоянием. Предлагаю оставить ее как есть и проводить анализ на столбцах с данными, так как эта инфомрация формаровалась автоматически на основании картографии, то либо сбой в работе системы, либо не выгружены данные по какой-то причине, либо пользователи не предоставили данные об адресе объекта."
   ]
  },
  {
   "cell_type": "markdown",
   "metadata": {},
   "source": [
    "### Преобразование типов данных"
   ]
  },
  {
   "cell_type": "markdown",
   "metadata": {},
   "source": [
    "Преобразуем столбец с датой публикации - `first_day_exposition` в тип даты и времени."
   ]
  },
  {
   "cell_type": "code",
   "execution_count": 12,
   "metadata": {},
   "outputs": [],
   "source": [
    "df['first_day_exposition'] = pd.to_datetime(df['first_day_exposition'], format='%Y-%m-%dT%H:%M:%S')"
   ]
  },
  {
   "cell_type": "markdown",
   "metadata": {},
   "source": [
    "Количество этажей преобразуем в целочисленные значения."
   ]
  },
  {
   "cell_type": "code",
   "execution_count": 13,
   "metadata": {
    "scrolled": false
   },
   "outputs": [
    {
     "data": {
      "text/plain": [
       "0        16\n",
       "1        11\n",
       "2         5\n",
       "3        14\n",
       "4        14\n",
       "         ..\n",
       "23694     5\n",
       "23695     5\n",
       "23696     3\n",
       "23697    17\n",
       "23698     5\n",
       "Name: floors_total, Length: 23613, dtype: int64"
      ]
     },
     "execution_count": 13,
     "metadata": {},
     "output_type": "execute_result"
    }
   ],
   "source": [
    "df['floors_total'].astype('int')"
   ]
  },
  {
   "cell_type": "markdown",
   "metadata": {},
   "source": [
    "Также преобразуем в целочисленные значения количество балконов, так как дробного количества балконов не бывает"
   ]
  },
  {
   "cell_type": "code",
   "execution_count": 14,
   "metadata": {},
   "outputs": [
    {
     "data": {
      "text/plain": [
       "0        0\n",
       "1        2\n",
       "2        0\n",
       "3        0\n",
       "4        0\n",
       "        ..\n",
       "23694    0\n",
       "23695    0\n",
       "23696    0\n",
       "23697    2\n",
       "23698    0\n",
       "Name: balcony, Length: 23613, dtype: int64"
      ]
     },
     "execution_count": 14,
     "metadata": {},
     "output_type": "execute_result"
    }
   ],
   "source": [
    "df['balcony'].astype('int')"
   ]
  },
  {
   "cell_type": "markdown",
   "metadata": {},
   "source": [
    "Проверим типы данных."
   ]
  },
  {
   "cell_type": "code",
   "execution_count": 15,
   "metadata": {},
   "outputs": [
    {
     "name": "stdout",
     "output_type": "stream",
     "text": [
      "<class 'pandas.core.frame.DataFrame'>\n",
      "Int64Index: 23613 entries, 0 to 23698\n",
      "Data columns (total 22 columns):\n",
      " #   Column                Non-Null Count  Dtype         \n",
      "---  ------                --------------  -----         \n",
      " 0   total_images          23613 non-null  int64         \n",
      " 1   last_price            23613 non-null  float64       \n",
      " 2   total_area            23613 non-null  float64       \n",
      " 3   first_day_exposition  23613 non-null  datetime64[ns]\n",
      " 4   rooms                 23613 non-null  int64         \n",
      " 5   ceiling_height        23613 non-null  float64       \n",
      " 6   floors_total          23613 non-null  float64       \n",
      " 7   living_area           21743 non-null  float64       \n",
      " 8   floor                 23613 non-null  int64         \n",
      " 9   is_apartment          23613 non-null  bool          \n",
      " 10  studio                23613 non-null  bool          \n",
      " 11  open_plan             23613 non-null  bool          \n",
      " 12  kitchen_area          21382 non-null  float64       \n",
      " 13  balcony               23613 non-null  int64         \n",
      " 14  locality_name         23565 non-null  object        \n",
      " 15  airports_nearest      18081 non-null  float64       \n",
      " 16  cityCenters_nearest   18104 non-null  float64       \n",
      " 17  parks_around3000      18105 non-null  float64       \n",
      " 18  parks_nearest         8045 non-null   float64       \n",
      " 19  ponds_around3000      18105 non-null  float64       \n",
      " 20  ponds_nearest         9061 non-null   float64       \n",
      " 21  days_exposition       20441 non-null  float64       \n",
      "dtypes: bool(3), datetime64[ns](1), float64(13), int64(4), object(1)\n",
      "memory usage: 3.7+ MB\n"
     ]
    }
   ],
   "source": [
    "df.info()"
   ]
  },
  {
   "cell_type": "markdown",
   "metadata": {},
   "source": [
    "**Вывод**"
   ]
  },
  {
   "cell_type": "markdown",
   "metadata": {},
   "source": [
    "На мой взгляд типы данных выглядят корректно. Нарушение типа могло быть связано с отсутствием данных в некоторых ячейках по тем или иным причинаам. Так как в этом случае проставляется NaN, то Pandas преобразыет тип данных в object."
   ]
  },
  {
   "cell_type": "markdown",
   "metadata": {},
   "source": [
    "## Расчёты и добавление результатов в таблицу"
   ]
  },
  {
   "cell_type": "markdown",
   "metadata": {},
   "source": [
    "### Расчет цены квадратного метра"
   ]
  },
  {
   "cell_type": "markdown",
   "metadata": {},
   "source": [
    "Найдем цену квадратного метра."
   ]
  },
  {
   "cell_type": "code",
   "execution_count": 16,
   "metadata": {},
   "outputs": [
    {
     "data": {
      "text/plain": [
       "0        120370\n",
       "1         82920\n",
       "2         92785\n",
       "3        408176\n",
       "4        100000\n",
       "          ...  \n",
       "23694     72490\n",
       "23695     52542\n",
       "23696     44091\n",
       "23697    149511\n",
       "23698     41795\n",
       "Name: price_per_square_meter, Length: 23613, dtype: int64"
      ]
     },
     "execution_count": 16,
     "metadata": {},
     "output_type": "execute_result"
    }
   ],
   "source": [
    "# Расчитаем цену квадратного метра:\n",
    "df['price_per_square_meter'] = df['last_price'] / df['total_area']\n",
    "\n",
    "# Округлим до целых:\n",
    "df.round({'price_per_square_meter':0})\n",
    "\n",
    "# Заменит тип на целочисленные:\n",
    "df['price_per_square_meter'].astype('int')"
   ]
  },
  {
   "cell_type": "markdown",
   "metadata": {},
   "source": [
    "### Расчет дня недели, месяца и года публикации"
   ]
  },
  {
   "cell_type": "markdown",
   "metadata": {},
   "source": [
    "В данном случае, необходимо добавить в таблицу три столбика, с днем недели, месяцом и годом публикации. Для этого воспользуемся методом `.DatetimeIndex()`."
   ]
  },
  {
   "cell_type": "code",
   "execution_count": 17,
   "metadata": {},
   "outputs": [
    {
     "data": {
      "text/plain": [
       "3    4285\n",
       "1    4170\n",
       "4    3988\n",
       "2    3956\n",
       "0    3602\n",
       "5    1922\n",
       "6    1690\n",
       "Name: day_week_first_exposition, dtype: int64"
      ]
     },
     "metadata": {},
     "output_type": "display_data"
    },
    {
     "data": {
      "text/plain": [
       "2     2637\n",
       "3     2580\n",
       "11    2364\n",
       "4     2362\n",
       "10    2111\n",
       "9     1974\n",
       "6     1752\n",
       "8     1741\n",
       "7     1690\n",
       "12    1641\n",
       "1     1496\n",
       "5     1265\n",
       "Name: month_first_exposition, dtype: int64"
      ]
     },
     "metadata": {},
     "output_type": "display_data"
    },
    {
     "data": {
      "text/plain": [
       "2018    8492\n",
       "2017    8166\n",
       "2019    2871\n",
       "2016    2763\n",
       "2015    1184\n",
       "2014     137\n",
       "Name: year_first_exposition, dtype: int64"
      ]
     },
     "metadata": {},
     "output_type": "display_data"
    }
   ],
   "source": [
    "df['day_week_first_exposition'] = pd.DatetimeIndex(df['first_day_exposition']).dayofweek\n",
    "display(df['day_week_first_exposition'].value_counts())\n",
    "\n",
    "df['month_first_exposition'] = pd.DatetimeIndex(df['first_day_exposition']).month\n",
    "display(df['month_first_exposition'].value_counts())\n",
    "\n",
    "df['year_first_exposition'] = pd.DatetimeIndex(df['first_day_exposition']).year\n",
    "display(df['year_first_exposition'].value_counts())"
   ]
  },
  {
   "cell_type": "markdown",
   "metadata": {},
   "source": [
    "### Расчет типа этажа квартиры (первый, последний, другой)"
   ]
  },
  {
   "cell_type": "markdown",
   "metadata": {},
   "source": [
    "Для того чтобы нам получить столбец со сначениями типа этажа квартиры напишем функцию одной строки, которая будет возвращать данный тип этажа: первый, последний или другой."
   ]
  },
  {
   "cell_type": "code",
   "execution_count": 18,
   "metadata": {},
   "outputs": [
    {
     "data": {
      "text/plain": [
       "0    17363\n",
       "2     3336\n",
       "1     2914\n",
       "Name: number_type_floor, dtype: int64"
      ]
     },
     "execution_count": 18,
     "metadata": {},
     "output_type": "execute_result"
    }
   ],
   "source": [
    "# Напишем функцию, которая будет возвращать \n",
    "# тип этажности квартиры: первый, последний \n",
    "# или другой\n",
    "\n",
    "def type_floor(row):\n",
    "    floor = row['floor']\n",
    "    floors_total = row['floors_total']\n",
    "    \n",
    "    if floor == 1:\n",
    "        return 'first'\n",
    "    elif floor == floors_total:\n",
    "        return 'last'\n",
    "    return 'other'\n",
    "\n",
    "# Также объявим функцию, которая будет возвращать \n",
    "# id  типа этажности квартиры: первый - 1, последний - 2 \n",
    "# или другой - 0. Данная информация понадобиться для \n",
    "# дальнейшего онализа (расчет корреляции).\n",
    "\n",
    "def number_type_floor(row):\n",
    "    floor = row['floor']\n",
    "    floors_total = row['floors_total']\n",
    "    \n",
    "    if floor == 1:\n",
    "        return 1\n",
    "    elif floor == floors_total:\n",
    "        return 2\n",
    "    return 0\n",
    "\n",
    "# Алгоритм проверки функции\n",
    "row_values = [2, 3] #значения этажа квартиры и всего этажей в доме \n",
    "row_columns = ['floor', 'floors_total'] #названия столбцов \n",
    "row = pd.Series(data=row_values, index=row_columns)  \n",
    "#type_floor(row)\n",
    "\n",
    "# Применим наши функции к датафрейму:\n",
    "\n",
    "df['type_floor'] = df.apply(type_floor, axis=1)\n",
    "df['type_floor'].value_counts()\n",
    "\n",
    "df['number_type_floor'] = df.apply(number_type_floor, axis=1)\n",
    "df['number_type_floor'].value_counts()"
   ]
  },
  {
   "cell_type": "markdown",
   "metadata": {},
   "source": [
    "### Расчет отношения жилой и площади кухни к общей"
   ]
  },
  {
   "cell_type": "markdown",
   "metadata": {},
   "source": [
    "Расчитаем соотношение жилой и общей площади."
   ]
  },
  {
   "cell_type": "code",
   "execution_count": 19,
   "metadata": {},
   "outputs": [],
   "source": [
    "df['ratio_living_area'] = df['living_area'] / df['total_area']"
   ]
  },
  {
   "cell_type": "markdown",
   "metadata": {},
   "source": [
    "Расчитаем соотношение площади кухни к общей площади."
   ]
  },
  {
   "cell_type": "code",
   "execution_count": 20,
   "metadata": {},
   "outputs": [],
   "source": [
    "df['kitchen_living_area'] = df['kitchen_area'] / df['total_area']"
   ]
  },
  {
   "cell_type": "code",
   "execution_count": 21,
   "metadata": {
    "scrolled": false
   },
   "outputs": [
    {
     "data": {
      "text/html": [
       "<div>\n",
       "<style scoped>\n",
       "    .dataframe tbody tr th:only-of-type {\n",
       "        vertical-align: middle;\n",
       "    }\n",
       "\n",
       "    .dataframe tbody tr th {\n",
       "        vertical-align: top;\n",
       "    }\n",
       "\n",
       "    .dataframe thead th {\n",
       "        text-align: right;\n",
       "    }\n",
       "</style>\n",
       "<table border=\"1\" class=\"dataframe\">\n",
       "  <thead>\n",
       "    <tr style=\"text-align: right;\">\n",
       "      <th></th>\n",
       "      <th>total_images</th>\n",
       "      <th>last_price</th>\n",
       "      <th>total_area</th>\n",
       "      <th>first_day_exposition</th>\n",
       "      <th>rooms</th>\n",
       "      <th>ceiling_height</th>\n",
       "      <th>floors_total</th>\n",
       "      <th>living_area</th>\n",
       "      <th>floor</th>\n",
       "      <th>is_apartment</th>\n",
       "      <th>...</th>\n",
       "      <th>ponds_nearest</th>\n",
       "      <th>days_exposition</th>\n",
       "      <th>price_per_square_meter</th>\n",
       "      <th>day_week_first_exposition</th>\n",
       "      <th>month_first_exposition</th>\n",
       "      <th>year_first_exposition</th>\n",
       "      <th>type_floor</th>\n",
       "      <th>number_type_floor</th>\n",
       "      <th>ratio_living_area</th>\n",
       "      <th>kitchen_living_area</th>\n",
       "    </tr>\n",
       "  </thead>\n",
       "  <tbody>\n",
       "    <tr>\n",
       "      <th>0</th>\n",
       "      <td>20</td>\n",
       "      <td>13000000.0</td>\n",
       "      <td>108.0</td>\n",
       "      <td>2019-03-07</td>\n",
       "      <td>3</td>\n",
       "      <td>2.70</td>\n",
       "      <td>16.0</td>\n",
       "      <td>51.0</td>\n",
       "      <td>8</td>\n",
       "      <td>False</td>\n",
       "      <td>...</td>\n",
       "      <td>755.0</td>\n",
       "      <td>NaN</td>\n",
       "      <td>120370.370370</td>\n",
       "      <td>3</td>\n",
       "      <td>3</td>\n",
       "      <td>2019</td>\n",
       "      <td>other</td>\n",
       "      <td>0</td>\n",
       "      <td>0.472222</td>\n",
       "      <td>0.231481</td>\n",
       "    </tr>\n",
       "    <tr>\n",
       "      <th>1</th>\n",
       "      <td>7</td>\n",
       "      <td>3350000.0</td>\n",
       "      <td>40.4</td>\n",
       "      <td>2018-12-04</td>\n",
       "      <td>1</td>\n",
       "      <td>2.65</td>\n",
       "      <td>11.0</td>\n",
       "      <td>18.6</td>\n",
       "      <td>1</td>\n",
       "      <td>False</td>\n",
       "      <td>...</td>\n",
       "      <td>NaN</td>\n",
       "      <td>81.0</td>\n",
       "      <td>82920.792079</td>\n",
       "      <td>1</td>\n",
       "      <td>12</td>\n",
       "      <td>2018</td>\n",
       "      <td>first</td>\n",
       "      <td>1</td>\n",
       "      <td>0.460396</td>\n",
       "      <td>0.272277</td>\n",
       "    </tr>\n",
       "    <tr>\n",
       "      <th>2</th>\n",
       "      <td>10</td>\n",
       "      <td>5196000.0</td>\n",
       "      <td>56.0</td>\n",
       "      <td>2015-08-20</td>\n",
       "      <td>2</td>\n",
       "      <td>2.65</td>\n",
       "      <td>5.0</td>\n",
       "      <td>34.3</td>\n",
       "      <td>4</td>\n",
       "      <td>False</td>\n",
       "      <td>...</td>\n",
       "      <td>574.0</td>\n",
       "      <td>558.0</td>\n",
       "      <td>92785.714286</td>\n",
       "      <td>3</td>\n",
       "      <td>8</td>\n",
       "      <td>2015</td>\n",
       "      <td>other</td>\n",
       "      <td>0</td>\n",
       "      <td>0.612500</td>\n",
       "      <td>0.148214</td>\n",
       "    </tr>\n",
       "    <tr>\n",
       "      <th>3</th>\n",
       "      <td>0</td>\n",
       "      <td>64900000.0</td>\n",
       "      <td>159.0</td>\n",
       "      <td>2015-07-24</td>\n",
       "      <td>3</td>\n",
       "      <td>2.65</td>\n",
       "      <td>14.0</td>\n",
       "      <td>NaN</td>\n",
       "      <td>9</td>\n",
       "      <td>False</td>\n",
       "      <td>...</td>\n",
       "      <td>234.0</td>\n",
       "      <td>424.0</td>\n",
       "      <td>408176.100629</td>\n",
       "      <td>4</td>\n",
       "      <td>7</td>\n",
       "      <td>2015</td>\n",
       "      <td>other</td>\n",
       "      <td>0</td>\n",
       "      <td>NaN</td>\n",
       "      <td>NaN</td>\n",
       "    </tr>\n",
       "    <tr>\n",
       "      <th>4</th>\n",
       "      <td>2</td>\n",
       "      <td>10000000.0</td>\n",
       "      <td>100.0</td>\n",
       "      <td>2018-06-19</td>\n",
       "      <td>2</td>\n",
       "      <td>3.03</td>\n",
       "      <td>14.0</td>\n",
       "      <td>32.0</td>\n",
       "      <td>13</td>\n",
       "      <td>False</td>\n",
       "      <td>...</td>\n",
       "      <td>48.0</td>\n",
       "      <td>121.0</td>\n",
       "      <td>100000.000000</td>\n",
       "      <td>1</td>\n",
       "      <td>6</td>\n",
       "      <td>2018</td>\n",
       "      <td>other</td>\n",
       "      <td>0</td>\n",
       "      <td>0.320000</td>\n",
       "      <td>0.410000</td>\n",
       "    </tr>\n",
       "  </tbody>\n",
       "</table>\n",
       "<p>5 rows × 30 columns</p>\n",
       "</div>"
      ],
      "text/plain": [
       "   total_images  last_price  total_area first_day_exposition  rooms  \\\n",
       "0            20  13000000.0       108.0           2019-03-07      3   \n",
       "1             7   3350000.0        40.4           2018-12-04      1   \n",
       "2            10   5196000.0        56.0           2015-08-20      2   \n",
       "3             0  64900000.0       159.0           2015-07-24      3   \n",
       "4             2  10000000.0       100.0           2018-06-19      2   \n",
       "\n",
       "   ceiling_height  floors_total  living_area  floor  is_apartment  ...  \\\n",
       "0            2.70          16.0         51.0      8         False  ...   \n",
       "1            2.65          11.0         18.6      1         False  ...   \n",
       "2            2.65           5.0         34.3      4         False  ...   \n",
       "3            2.65          14.0          NaN      9         False  ...   \n",
       "4            3.03          14.0         32.0     13         False  ...   \n",
       "\n",
       "   ponds_nearest  days_exposition  price_per_square_meter  \\\n",
       "0          755.0              NaN           120370.370370   \n",
       "1            NaN             81.0            82920.792079   \n",
       "2          574.0            558.0            92785.714286   \n",
       "3          234.0            424.0           408176.100629   \n",
       "4           48.0            121.0           100000.000000   \n",
       "\n",
       "   day_week_first_exposition month_first_exposition  year_first_exposition  \\\n",
       "0                          3                      3                   2019   \n",
       "1                          1                     12                   2018   \n",
       "2                          3                      8                   2015   \n",
       "3                          4                      7                   2015   \n",
       "4                          1                      6                   2018   \n",
       "\n",
       "   type_floor  number_type_floor  ratio_living_area  kitchen_living_area  \n",
       "0       other                  0           0.472222             0.231481  \n",
       "1       first                  1           0.460396             0.272277  \n",
       "2       other                  0           0.612500             0.148214  \n",
       "3       other                  0                NaN                  NaN  \n",
       "4       other                  0           0.320000             0.410000  \n",
       "\n",
       "[5 rows x 30 columns]"
      ]
     },
     "metadata": {},
     "output_type": "display_data"
    },
    {
     "name": "stdout",
     "output_type": "stream",
     "text": [
      "<class 'pandas.core.frame.DataFrame'>\n",
      "Int64Index: 23613 entries, 0 to 23698\n",
      "Data columns (total 30 columns):\n",
      " #   Column                     Non-Null Count  Dtype         \n",
      "---  ------                     --------------  -----         \n",
      " 0   total_images               23613 non-null  int64         \n",
      " 1   last_price                 23613 non-null  float64       \n",
      " 2   total_area                 23613 non-null  float64       \n",
      " 3   first_day_exposition       23613 non-null  datetime64[ns]\n",
      " 4   rooms                      23613 non-null  int64         \n",
      " 5   ceiling_height             23613 non-null  float64       \n",
      " 6   floors_total               23613 non-null  float64       \n",
      " 7   living_area                21743 non-null  float64       \n",
      " 8   floor                      23613 non-null  int64         \n",
      " 9   is_apartment               23613 non-null  bool          \n",
      " 10  studio                     23613 non-null  bool          \n",
      " 11  open_plan                  23613 non-null  bool          \n",
      " 12  kitchen_area               21382 non-null  float64       \n",
      " 13  balcony                    23613 non-null  int64         \n",
      " 14  locality_name              23565 non-null  object        \n",
      " 15  airports_nearest           18081 non-null  float64       \n",
      " 16  cityCenters_nearest        18104 non-null  float64       \n",
      " 17  parks_around3000           18105 non-null  float64       \n",
      " 18  parks_nearest              8045 non-null   float64       \n",
      " 19  ponds_around3000           18105 non-null  float64       \n",
      " 20  ponds_nearest              9061 non-null   float64       \n",
      " 21  days_exposition            20441 non-null  float64       \n",
      " 22  price_per_square_meter     23613 non-null  float64       \n",
      " 23  day_week_first_exposition  23613 non-null  int64         \n",
      " 24  month_first_exposition     23613 non-null  int64         \n",
      " 25  year_first_exposition      23613 non-null  int64         \n",
      " 26  type_floor                 23613 non-null  object        \n",
      " 27  number_type_floor          23613 non-null  int64         \n",
      " 28  ratio_living_area          21743 non-null  float64       \n",
      " 29  kitchen_living_area        21382 non-null  float64       \n",
      "dtypes: bool(3), datetime64[ns](1), float64(16), int64(8), object(2)\n",
      "memory usage: 5.1+ MB\n"
     ]
    }
   ],
   "source": [
    "display(df.head())\n",
    "df.info()"
   ]
  },
  {
   "cell_type": "markdown",
   "metadata": {},
   "source": [
    "## Исследовательский анализ данных"
   ]
  },
  {
   "cell_type": "markdown",
   "metadata": {},
   "source": [
    "### Изучение площади, цены, числа комнат и высоты потолков"
   ]
  },
  {
   "cell_type": "markdown",
   "metadata": {},
   "source": [
    "Посмторим внимательно на площадь."
   ]
  },
  {
   "cell_type": "code",
   "execution_count": 22,
   "metadata": {
    "scrolled": false
   },
   "outputs": [
    {
     "data": {
      "text/plain": [
       "'Числовое описание данных для столбца \"total_price\":'"
      ]
     },
     "metadata": {},
     "output_type": "display_data"
    },
    {
     "data": {
      "text/plain": [
       "count    23613.000000\n",
       "mean        60.340678\n",
       "std         35.648988\n",
       "min         12.000000\n",
       "25%         40.000000\n",
       "50%         52.000000\n",
       "75%         69.800000\n",
       "max        900.000000\n",
       "Name: total_area, dtype: float64"
      ]
     },
     "metadata": {},
     "output_type": "display_data"
    },
    {
     "data": {
      "image/png": "[encoded data removed]",
      "text/plain": [
       "<Figure size 1080x432 with 1 Axes>"
      ]
     },
     "metadata": {
      "needs_background": "light"
     },
     "output_type": "display_data"
    }
   ],
   "source": [
    "display(\n",
    "    'Числовое описание данных для столбца \"total_price\":',\n",
    "    df['total_area'].describe()\n",
    ")\n",
    "\n",
    "fig, ax = plt.subplots()\n",
    "\n",
    "fig.set_figwidth(15)\n",
    "fig.set_figheight(6)\n",
    "fig.suptitle('Распределение общей площади', fontsize = 15)\n",
    "\n",
    "df['total_area'].hist(\n",
    "    bins=50, \n",
    "    range=(0, 200))\n",
    "\n",
    "ax.set_xlabel('Площадь')\n",
    "ax.set_ylabel('Количество объектов')\n",
    "ax.grid()\n",
    "\n",
    "plt.show()"
   ]
  },
  {
   "cell_type": "markdown",
   "metadata": {},
   "source": [
    "**Вывод**"
   ]
  },
  {
   "cell_type": "markdown",
   "metadata": {},
   "source": [
    "Из данных прослеживается большая популярность на рынке недвижимости среди квартир, площадью от40 до 70 квадратных метров."
   ]
  },
  {
   "cell_type": "code",
   "execution_count": 23,
   "metadata": {},
   "outputs": [
    {
     "data": {
      "text/plain": [
       "'Числовое описание данных для столбца \"last_price\":'"
      ]
     },
     "metadata": {},
     "output_type": "display_data"
    },
    {
     "data": {
      "text/plain": [
       "count    23613.000000\n",
       "mean         6.540555\n",
       "std         10.901723\n",
       "min          0.012190\n",
       "25%          3.400000\n",
       "50%          4.650000\n",
       "75%          6.799000\n",
       "max        763.000000\n",
       "Name: bil_last_price, dtype: float64"
      ]
     },
     "metadata": {},
     "output_type": "display_data"
    },
    {
     "data": {
      "image/png": "[encoded data removed]",
      "text/plain": [
       "<Figure size 1080x432 with 1 Axes>"
      ]
     },
     "metadata": {
      "needs_background": "light"
     },
     "output_type": "display_data"
    }
   ],
   "source": [
    "df['bil_last_price'] = df['last_price'] / 1000000\n",
    "display(\n",
    "    'Числовое описание данных для столбца \"last_price\":',\n",
    "    df['bil_last_price'].describe()\n",
    ")\n",
    "\n",
    "fig, ax = plt.subplots()\n",
    "\n",
    "fig.set_figwidth(15)\n",
    "fig.set_figheight(6)\n",
    "fig.suptitle('Распределение стоимости продажи', fontsize = 15)\n",
    "\n",
    "df['bil_last_price'].hist(bins=50, range=(0, 40))\n",
    "\n",
    "ax.set_xlabel('Стоимость продажи, млн')\n",
    "ax.set_ylabel('Количество объектов')\n",
    "ax.grid()\n",
    "\n",
    "plt.show()"
   ]
  },
  {
   "cell_type": "markdown",
   "metadata": {},
   "source": [
    "**Вывод**"
   ]
  },
  {
   "cell_type": "markdown",
   "metadata": {},
   "source": [
    "Так как пользуются популярностью небольшие квартиры то и цена на момент продажи будет преобладать небольшая: от 3,4 до 6,8 млн. руб."
   ]
  },
  {
   "cell_type": "code",
   "execution_count": 24,
   "metadata": {
    "scrolled": false
   },
   "outputs": [
    {
     "data": {
      "text/plain": [
       "'Числовое описание данных для столбца \"rooms\":'"
      ]
     },
     "metadata": {},
     "output_type": "display_data"
    },
    {
     "data": {
      "text/plain": [
       "count    23613.000000\n",
       "mean         2.071147\n",
       "std          1.078380\n",
       "min          0.000000\n",
       "25%          1.000000\n",
       "50%          2.000000\n",
       "75%          3.000000\n",
       "max         19.000000\n",
       "Name: rooms, dtype: float64"
      ]
     },
     "metadata": {},
     "output_type": "display_data"
    },
    {
     "data": {
      "image/png": "[encoded data removed]",
      "text/plain": [
       "<Figure size 1080x432 with 1 Axes>"
      ]
     },
     "metadata": {
      "needs_background": "light"
     },
     "output_type": "display_data"
    }
   ],
   "source": [
    "display(\n",
    "    'Числовое описание данных для столбца \"rooms\":',\n",
    "    df['rooms'].describe()\n",
    ")\n",
    "fig, ax = plt.subplots()\n",
    "\n",
    "fig.set_figwidth(15)\n",
    "fig.set_figheight(6)\n",
    "fig.suptitle('Распределение количества комнат', fontsize = 15)\n",
    "\n",
    "df['rooms'].hist(bins=10, range=(0, 10))\n",
    "\n",
    "ax.set_xlabel('Количество комнат')\n",
    "ax.set_ylabel('Количество объектов')\n",
    "ax.grid()\n",
    "\n",
    "plt.show()"
   ]
  },
  {
   "cell_type": "markdown",
   "metadata": {},
   "source": [
    "**Вывод**"
   ]
  },
  {
   "cell_type": "markdown",
   "metadata": {},
   "source": [
    "Число комнат ожидаемо преобладает от 1 до 3."
   ]
  },
  {
   "cell_type": "code",
   "execution_count": 25,
   "metadata": {
    "scrolled": false
   },
   "outputs": [
    {
     "data": {
      "text/plain": [
       "'Числовое описание данных:'"
      ]
     },
     "metadata": {},
     "output_type": "display_data"
    },
    {
     "data": {
      "text/plain": [
       "count    23613.000000\n",
       "mean         2.724581\n",
       "std          0.990085\n",
       "min          1.000000\n",
       "25%          2.600000\n",
       "50%          2.650000\n",
       "75%          2.700000\n",
       "max        100.000000\n",
       "Name: ceiling_height, dtype: float64"
      ]
     },
     "metadata": {},
     "output_type": "display_data"
    },
    {
     "data": {
      "image/png": "[encoded data removed]",
      "text/plain": [
       "<Figure size 1080x432 with 1 Axes>"
      ]
     },
     "metadata": {
      "needs_background": "light"
     },
     "output_type": "display_data"
    }
   ],
   "source": [
    "display(\n",
    "    'Числовое описание данных:',\n",
    "    df['ceiling_height'].describe()\n",
    ")\n",
    "\n",
    "fig, ax = plt.subplots()\n",
    "\n",
    "fig.set_figwidth(15)\n",
    "fig.set_figheight(6)\n",
    "fig.suptitle('Распределение высоты потолков', fontsize = 15)\n",
    "\n",
    "df['ceiling_height'].hist(bins=50, range=(2.25, 4))\n",
    "\n",
    "ax.set_xlabel('Высота потолков')\n",
    "ax.set_ylabel('Количество объектов')\n",
    "ax.grid()\n",
    "\n",
    "plt.show()"
   ]
  },
  {
   "cell_type": "markdown",
   "metadata": {},
   "source": [
    "**Вывод**"
   ]
  },
  {
   "cell_type": "markdown",
   "metadata": {},
   "source": [
    "Высота потолков преобладает от 2,6 до 2,7."
   ]
  },
  {
   "cell_type": "markdown",
   "metadata": {},
   "source": [
    "**Вывод**"
   ]
  },
  {
   "cell_type": "markdown",
   "metadata": {},
   "source": [
    "По итогам исследования в данном подразделе, в Санкт-Петербурге и его пригородах наиболее часто продаются квартиры не более трех комнат, с высотой потолков до 2,7, общей площадью квартир от 40 до 69 кв. метров. Стоимость квартир обычно лежит в диапазоне от 3,4 до 6,8 млн. руб."
   ]
  },
  {
   "cell_type": "markdown",
   "metadata": {},
   "source": [
    "### Изучение времени продажи квартиры"
   ]
  },
  {
   "cell_type": "code",
   "execution_count": 26,
   "metadata": {
    "scrolled": false
   },
   "outputs": [
    {
     "data": {
      "text/plain": [
       "'Числовое описание данных:'"
      ]
     },
     "metadata": {},
     "output_type": "display_data"
    },
    {
     "data": {
      "text/plain": [
       "count    20441.000000\n",
       "mean       180.884839\n",
       "std        219.685543\n",
       "min          1.000000\n",
       "25%         45.000000\n",
       "50%         95.000000\n",
       "75%        232.000000\n",
       "max       1580.000000\n",
       "Name: days_exposition, dtype: float64"
      ]
     },
     "metadata": {},
     "output_type": "display_data"
    },
    {
     "data": {
      "image/png": "[encoded data removed]",
      "text/plain": [
       "<Figure size 1080x432 with 1 Axes>"
      ]
     },
     "metadata": {
      "needs_background": "light"
     },
     "output_type": "display_data"
    }
   ],
   "source": [
    "display(\n",
    "    'Числовое описание данных:',\n",
    "    df['days_exposition'].describe()\n",
    ")\n",
    "\n",
    "fig, ax = plt.subplots()\n",
    "\n",
    "fig.set_figwidth(15)\n",
    "fig.set_figheight(6)\n",
    "fig.suptitle('Распределение срока продажи', fontsize = 15)\n",
    "\n",
    "df['days_exposition'].hist(bins=50)\n",
    "\n",
    "ax.set_xlabel('Срок продажи')\n",
    "ax.set_ylabel('Количество объектов')\n",
    "ax.grid()\n",
    "\n",
    "plt.show()"
   ]
  },
  {
   "cell_type": "markdown",
   "metadata": {},
   "source": [
    "**Вывод**"
   ]
  },
  {
   "cell_type": "markdown",
   "metadata": {},
   "source": [
    "Время продажи квартиры обычно занимает от 45 до 232 дней."
   ]
  },
  {
   "cell_type": "markdown",
   "metadata": {},
   "source": [
    "### Обнаружение редких и выбивающихся значений"
   ]
  },
  {
   "cell_type": "code",
   "execution_count": 27,
   "metadata": {},
   "outputs": [
    {
     "data": {
      "image/png": "[encoded data removed]",
      "text/plain": [
       "<Figure size 432x288 with 1 Axes>"
      ]
     },
     "metadata": {
      "needs_background": "light"
     },
     "output_type": "display_data"
    }
   ],
   "source": [
    "plt.ylim(-100, 550)\n",
    "df.boxplot('days_exposition')\n",
    "plt.show()"
   ]
  },
  {
   "cell_type": "markdown",
   "metadata": {},
   "source": [
    "Вывод: по диагримме размаха хорошо видно, что большая часть значений лежит в диапазоне от 45 дней до 232 дней. Все значения, больше 512 дней являются выбросом, я считаются редкими или аномальными. Уберем эти значения и в дальнейшем анализе будем использовать очищенный датасет `stat`."
   ]
  },
  {
   "cell_type": "code",
   "execution_count": 28,
   "metadata": {},
   "outputs": [],
   "source": [
    "stat = df.query('days_exposition <= 512')"
   ]
  },
  {
   "cell_type": "code",
   "execution_count": 29,
   "metadata": {
    "scrolled": true
   },
   "outputs": [
    {
     "data": {
      "image/png": "[encoded data removed]",
      "text/plain": [
       "<Figure size 432x288 with 1 Axes>"
      ]
     },
     "metadata": {
      "needs_background": "light"
     },
     "output_type": "display_data"
    }
   ],
   "source": [
    "plt.ylim(-100, 12000000)\n",
    "df.boxplot('last_price')\n",
    "plt.show()"
   ]
  },
  {
   "cell_type": "code",
   "execution_count": 30,
   "metadata": {},
   "outputs": [],
   "source": [
    "stat = df.query('last_price <= 12000000')"
   ]
  },
  {
   "cell_type": "markdown",
   "metadata": {},
   "source": [
    "### Факторы стоимиости квартиры"
   ]
  },
  {
   "cell_type": "markdown",
   "metadata": {},
   "source": [
    "Найдем факторы, которые больше всего влияют на стоимость квартиры. Для этого соберем все интересующие нас столбцы в одну таблицу и посмотрим на то как коррелирует цена продажи с остальными значениями."
   ]
  },
  {
   "cell_type": "code",
   "execution_count": 31,
   "metadata": {},
   "outputs": [
    {
     "data": {
      "text/html": [
       "<div>\n",
       "<style scoped>\n",
       "    .dataframe tbody tr th:only-of-type {\n",
       "        vertical-align: middle;\n",
       "    }\n",
       "\n",
       "    .dataframe tbody tr th {\n",
       "        vertical-align: top;\n",
       "    }\n",
       "\n",
       "    .dataframe thead th {\n",
       "        text-align: right;\n",
       "    }\n",
       "</style>\n",
       "<table border=\"1\" class=\"dataframe\">\n",
       "  <thead>\n",
       "    <tr style=\"text-align: right;\">\n",
       "      <th></th>\n",
       "      <th>last_price</th>\n",
       "      <th>total_area</th>\n",
       "      <th>rooms</th>\n",
       "      <th>number_type_floor</th>\n",
       "      <th>cityCenters_nearest</th>\n",
       "      <th>day_week_first_exposition</th>\n",
       "      <th>month_first_exposition</th>\n",
       "      <th>year_first_exposition</th>\n",
       "    </tr>\n",
       "  </thead>\n",
       "  <tbody>\n",
       "    <tr>\n",
       "      <th>last_price</th>\n",
       "      <td>1.000000</td>\n",
       "      <td>0.704699</td>\n",
       "      <td>0.457409</td>\n",
       "      <td>-0.115416</td>\n",
       "      <td>-0.348414</td>\n",
       "      <td>-0.016403</td>\n",
       "      <td>0.006082</td>\n",
       "      <td>-0.005155</td>\n",
       "    </tr>\n",
       "    <tr>\n",
       "      <th>total_area</th>\n",
       "      <td>0.704699</td>\n",
       "      <td>1.000000</td>\n",
       "      <td>0.802781</td>\n",
       "      <td>0.015615</td>\n",
       "      <td>-0.135178</td>\n",
       "      <td>-0.011921</td>\n",
       "      <td>0.008305</td>\n",
       "      <td>-0.070555</td>\n",
       "    </tr>\n",
       "    <tr>\n",
       "      <th>rooms</th>\n",
       "      <td>0.457409</td>\n",
       "      <td>0.802781</td>\n",
       "      <td>1.000000</td>\n",
       "      <td>0.075818</td>\n",
       "      <td>-0.086726</td>\n",
       "      <td>-0.002861</td>\n",
       "      <td>-0.003025</td>\n",
       "      <td>-0.042777</td>\n",
       "    </tr>\n",
       "    <tr>\n",
       "      <th>number_type_floor</th>\n",
       "      <td>-0.115416</td>\n",
       "      <td>0.015615</td>\n",
       "      <td>0.075818</td>\n",
       "      <td>1.000000</td>\n",
       "      <td>0.046870</td>\n",
       "      <td>0.003326</td>\n",
       "      <td>-0.009611</td>\n",
       "      <td>-0.011528</td>\n",
       "    </tr>\n",
       "    <tr>\n",
       "      <th>cityCenters_nearest</th>\n",
       "      <td>-0.348414</td>\n",
       "      <td>-0.135178</td>\n",
       "      <td>-0.086726</td>\n",
       "      <td>0.046870</td>\n",
       "      <td>1.000000</td>\n",
       "      <td>0.006929</td>\n",
       "      <td>-0.014893</td>\n",
       "      <td>0.017747</td>\n",
       "    </tr>\n",
       "    <tr>\n",
       "      <th>day_week_first_exposition</th>\n",
       "      <td>-0.016403</td>\n",
       "      <td>-0.011921</td>\n",
       "      <td>-0.002861</td>\n",
       "      <td>0.003326</td>\n",
       "      <td>0.006929</td>\n",
       "      <td>1.000000</td>\n",
       "      <td>0.012508</td>\n",
       "      <td>-0.003384</td>\n",
       "    </tr>\n",
       "    <tr>\n",
       "      <th>month_first_exposition</th>\n",
       "      <td>0.006082</td>\n",
       "      <td>0.008305</td>\n",
       "      <td>-0.003025</td>\n",
       "      <td>-0.009611</td>\n",
       "      <td>-0.014893</td>\n",
       "      <td>0.012508</td>\n",
       "      <td>1.000000</td>\n",
       "      <td>-0.266747</td>\n",
       "    </tr>\n",
       "    <tr>\n",
       "      <th>year_first_exposition</th>\n",
       "      <td>-0.005155</td>\n",
       "      <td>-0.070555</td>\n",
       "      <td>-0.042777</td>\n",
       "      <td>-0.011528</td>\n",
       "      <td>0.017747</td>\n",
       "      <td>-0.003384</td>\n",
       "      <td>-0.266747</td>\n",
       "      <td>1.000000</td>\n",
       "    </tr>\n",
       "  </tbody>\n",
       "</table>\n",
       "</div>"
      ],
      "text/plain": [
       "                           last_price  total_area     rooms  \\\n",
       "last_price                   1.000000    0.704699  0.457409   \n",
       "total_area                   0.704699    1.000000  0.802781   \n",
       "rooms                        0.457409    0.802781  1.000000   \n",
       "number_type_floor           -0.115416    0.015615  0.075818   \n",
       "cityCenters_nearest         -0.348414   -0.135178 -0.086726   \n",
       "day_week_first_exposition   -0.016403   -0.011921 -0.002861   \n",
       "month_first_exposition       0.006082    0.008305 -0.003025   \n",
       "year_first_exposition       -0.005155   -0.070555 -0.042777   \n",
       "\n",
       "                           number_type_floor  cityCenters_nearest  \\\n",
       "last_price                         -0.115416            -0.348414   \n",
       "total_area                          0.015615            -0.135178   \n",
       "rooms                               0.075818            -0.086726   \n",
       "number_type_floor                   1.000000             0.046870   \n",
       "cityCenters_nearest                 0.046870             1.000000   \n",
       "day_week_first_exposition           0.003326             0.006929   \n",
       "month_first_exposition             -0.009611            -0.014893   \n",
       "year_first_exposition              -0.011528             0.017747   \n",
       "\n",
       "                           day_week_first_exposition  month_first_exposition  \\\n",
       "last_price                                 -0.016403                0.006082   \n",
       "total_area                                 -0.011921                0.008305   \n",
       "rooms                                      -0.002861               -0.003025   \n",
       "number_type_floor                           0.003326               -0.009611   \n",
       "cityCenters_nearest                         0.006929               -0.014893   \n",
       "day_week_first_exposition                   1.000000                0.012508   \n",
       "month_first_exposition                      0.012508                1.000000   \n",
       "year_first_exposition                      -0.003384               -0.266747   \n",
       "\n",
       "                           year_first_exposition  \n",
       "last_price                             -0.005155  \n",
       "total_area                             -0.070555  \n",
       "rooms                                  -0.042777  \n",
       "number_type_floor                      -0.011528  \n",
       "cityCenters_nearest                     0.017747  \n",
       "day_week_first_exposition              -0.003384  \n",
       "month_first_exposition                 -0.266747  \n",
       "year_first_exposition                   1.000000  "
      ]
     },
     "execution_count": 31,
     "metadata": {},
     "output_type": "execute_result"
    }
   ],
   "source": [
    "correlation_data = stat.loc[:,[\n",
    "    'last_price', \n",
    "    'total_area', \n",
    "    'rooms', \n",
    "    'number_type_floor', \n",
    "    'cityCenters_nearest',\n",
    "    'day_week_first_exposition',\n",
    "    'month_first_exposition',\n",
    "    'year_first_exposition'\n",
    "]]\n",
    "correlation_data.corr()"
   ]
  },
  {
   "cell_type": "markdown",
   "metadata": {
    "scrolled": true
   },
   "source": [
    "**Вывод**"
   ]
  },
  {
   "cell_type": "markdown",
   "metadata": {},
   "source": [
    "Как и следовало ожидать, наибольшая зависимотсь стоимости продажи квартиры от ее общей площади. Также на стоимость продажи влияет число комнат, но не так сильно как площадь. Про остальные можно сказать, что не оказывают влияния на стоимость."
   ]
  },
  {
   "cell_type": "code",
   "execution_count": 32,
   "metadata": {
    "scrolled": false
   },
   "outputs": [
    {
     "data": {
      "text/html": [
       "<div>\n",
       "<style scoped>\n",
       "    .dataframe tbody tr th:only-of-type {\n",
       "        vertical-align: middle;\n",
       "    }\n",
       "\n",
       "    .dataframe tbody tr th {\n",
       "        vertical-align: top;\n",
       "    }\n",
       "\n",
       "    .dataframe thead th {\n",
       "        text-align: right;\n",
       "    }\n",
       "</style>\n",
       "<table border=\"1\" class=\"dataframe\">\n",
       "  <thead>\n",
       "    <tr style=\"text-align: right;\">\n",
       "      <th></th>\n",
       "      <th>last_price</th>\n",
       "      <th>price_per_square_meter</th>\n",
       "      <th>total_area</th>\n",
       "      <th>rooms</th>\n",
       "      <th>cityCenters_nearest</th>\n",
       "    </tr>\n",
       "  </thead>\n",
       "  <tbody>\n",
       "    <tr>\n",
       "      <th>last_price</th>\n",
       "      <td>1.000000</td>\n",
       "      <td>0.736746</td>\n",
       "      <td>0.653581</td>\n",
       "      <td>0.363124</td>\n",
       "      <td>-0.206213</td>\n",
       "    </tr>\n",
       "    <tr>\n",
       "      <th>price_per_square_meter</th>\n",
       "      <td>0.736746</td>\n",
       "      <td>1.000000</td>\n",
       "      <td>0.302397</td>\n",
       "      <td>0.055669</td>\n",
       "      <td>-0.317356</td>\n",
       "    </tr>\n",
       "    <tr>\n",
       "      <th>total_area</th>\n",
       "      <td>0.653581</td>\n",
       "      <td>0.302397</td>\n",
       "      <td>1.000000</td>\n",
       "      <td>0.758324</td>\n",
       "      <td>-0.230872</td>\n",
       "    </tr>\n",
       "    <tr>\n",
       "      <th>rooms</th>\n",
       "      <td>0.363124</td>\n",
       "      <td>0.055669</td>\n",
       "      <td>0.758324</td>\n",
       "      <td>1.000000</td>\n",
       "      <td>-0.184750</td>\n",
       "    </tr>\n",
       "    <tr>\n",
       "      <th>cityCenters_nearest</th>\n",
       "      <td>-0.206213</td>\n",
       "      <td>-0.317356</td>\n",
       "      <td>-0.230872</td>\n",
       "      <td>-0.184750</td>\n",
       "      <td>1.000000</td>\n",
       "    </tr>\n",
       "  </tbody>\n",
       "</table>\n",
       "</div>"
      ],
      "text/plain": [
       "                        last_price  price_per_square_meter  total_area  \\\n",
       "last_price                1.000000                0.736746    0.653581   \n",
       "price_per_square_meter    0.736746                1.000000    0.302397   \n",
       "total_area                0.653581                0.302397    1.000000   \n",
       "rooms                     0.363124                0.055669    0.758324   \n",
       "cityCenters_nearest      -0.206213               -0.317356   -0.230872   \n",
       "\n",
       "                           rooms  cityCenters_nearest  \n",
       "last_price              0.363124            -0.206213  \n",
       "price_per_square_meter  0.055669            -0.317356  \n",
       "total_area              0.758324            -0.230872  \n",
       "rooms                   1.000000            -0.184750  \n",
       "cityCenters_nearest    -0.184750             1.000000  "
      ]
     },
     "execution_count": 32,
     "metadata": {},
     "output_type": "execute_result"
    }
   ],
   "source": [
    "df[['last_price', 'price_per_square_meter', 'total_area', 'rooms', 'cityCenters_nearest']].corr()"
   ]
  },
  {
   "cell_type": "code",
   "execution_count": 33,
   "metadata": {
    "scrolled": false
   },
   "outputs": [
    {
     "data": {
      "text/plain": [
       "<seaborn.axisgrid.PairGrid at 0x7f836c0c7400>"
      ]
     },
     "execution_count": 33,
     "metadata": {},
     "output_type": "execute_result"
    },
    {
     "data": {
      "image/png": "[encoded data removed]",
      "text/plain": [
       "<Figure size 900x900 with 30 Axes>"
      ]
     },
     "metadata": {
      "needs_background": "light"
     },
     "output_type": "display_data"
    }
   ],
   "source": [
    "correlation_plot = df[['last_price', 'price_per_square_meter', 'total_area', 'rooms', 'cityCenters_nearest']]\n",
    "sns.pairplot(correlation_plot)"
   ]
  },
  {
   "cell_type": "markdown",
   "metadata": {},
   "source": [
    "Видна корреляция стоимости продажи квартиры от цены квадратного метра, от общей площади; также - общей площади и количества комнат.  "
   ]
  },
  {
   "cell_type": "code",
   "execution_count": 34,
   "metadata": {
    "scrolled": false
   },
   "outputs": [
    {
     "data": {
      "image/png": "[encoded data removed]",
      "text/plain": [
       "<Figure size 1080x432 with 1 Axes>"
      ]
     },
     "metadata": {
      "needs_background": "light"
     },
     "output_type": "display_data"
    }
   ],
   "source": [
    "fig, ax = plt.subplots()\n",
    "fig.suptitle('Распределение продаж по дням недели', fontsize = 15)\n",
    "\n",
    "stat.plot(\n",
    "    kind='hist',\n",
    "    x='last_price',\n",
    "    y='day_week_first_exposition',\n",
    "    bins=7,\n",
    "    ax=ax\n",
    ")\n",
    "\n",
    "fig.set_figwidth(15)\n",
    "fig.set_figheight(6)\n",
    "\n",
    "ax.set_xlabel('День недели')\n",
    "ax.set_ylabel('Количество объектов')\n",
    "ax.grid()\n",
    "\n",
    "plt.show()"
   ]
  },
  {
   "cell_type": "markdown",
   "metadata": {},
   "source": [
    "По данному графику хорошо видно, что в выходные мало продают недвижимость. Все сделки, в основном, проходят со вторника по пятницу."
   ]
  },
  {
   "cell_type": "code",
   "execution_count": 35,
   "metadata": {},
   "outputs": [
    {
     "data": {
      "image/png": "[encoded data removed]",
      "text/plain": [
       "<Figure size 1080x432 with 1 Axes>"
      ]
     },
     "metadata": {
      "needs_background": "light"
     },
     "output_type": "display_data"
    }
   ],
   "source": [
    "fig, ax = plt.subplots()\n",
    "fig.suptitle('Распределение продаж по месяцу объявления о продаже', fontsize = 15)\n",
    "\n",
    "stat.plot(\n",
    "    kind='hist',\n",
    "    x='last_price',\n",
    "    y='month_first_exposition',\n",
    "    bins=12,\n",
    "    ax=ax\n",
    ")\n",
    "\n",
    "fig.set_figwidth(15)\n",
    "fig.set_figheight(6)\n",
    "\n",
    "ax.set_xlabel('Месяц подачи объявления о продаже')\n",
    "ax.set_ylabel('Количество объектов')\n",
    "ax.grid()\n",
    "\n",
    "plt.show()"
   ]
  },
  {
   "cell_type": "markdown",
   "metadata": {},
   "source": [
    "Январь и май богаты на праздничные дни и выходные - поэтому мало кто торгует жильем в эти месяцы. Наиболее активно сделки совершаются весной - с февраля по апрель. После майских празников продажи недвижимости плавно растут до конца года. В декабре мало сделок, скорее всего связано с концом года и мало кто решается на переезд в конце года."
   ]
  },
  {
   "cell_type": "code",
   "execution_count": 36,
   "metadata": {},
   "outputs": [
    {
     "data": {
      "image/png": "[encoded data removed]",
      "text/plain": [
       "<Figure size 1080x432 with 1 Axes>"
      ]
     },
     "metadata": {
      "needs_background": "light"
     },
     "output_type": "display_data"
    }
   ],
   "source": [
    "fig, ax = plt.subplots()\n",
    "fig.suptitle('Распределение продаж по годам', fontsize = 15)\n",
    "\n",
    "stat.plot(\n",
    "    kind='hist',\n",
    "    x='last_price',\n",
    "    y='year_first_exposition',\n",
    "    bins=6,\n",
    "    ax=ax\n",
    ")\n",
    "\n",
    "fig.set_figwidth(15)\n",
    "fig.set_figheight(6)\n",
    "\n",
    "ax.set_xlabel('Год подачи объявления о продаже')\n",
    "ax.set_ylabel('Количество объектов')\n",
    "ax.grid()\n",
    "\n",
    "plt.show()"
   ]
  },
  {
   "cell_type": "markdown",
   "metadata": {},
   "source": [
    "По рынку недвижимости хорошо видно влияние кризиса 2014 года, когда продажи сильно снизились. В 2017-2018 годах рынок стремительно растет, но в 2019 видим резкий спад - возможно это связано с ростом инфляции. "
   ]
  },
  {
   "cell_type": "markdown",
   "metadata": {},
   "source": [
    "### Определение зависимости цены квадратного метра от населенного пункта"
   ]
  },
  {
   "cell_type": "markdown",
   "metadata": {},
   "source": [
    "Для того чтобы определить зависимость стоимости от населенного пункта, соберем отдельный датасет `city_stat`. Для этого создадим сводную таблицу `city_exposition`, в которой соберем 10 самых популярных населенных пунктов по количеству объявлений. Затем создадим сводную таблицу `price_per_square_meter`, в которой соберем среднюю стоимость квадратного метра в каждом населенном пункте. После этого соеденим `city_exposition` и `price_per_square_meter` в `city_stat`, с которым продолжим анализ."
   ]
  },
  {
   "cell_type": "code",
   "execution_count": 37,
   "metadata": {},
   "outputs": [
    {
     "data": {
      "text/html": [
       "<div>\n",
       "<style scoped>\n",
       "    .dataframe tbody tr th:only-of-type {\n",
       "        vertical-align: middle;\n",
       "    }\n",
       "\n",
       "    .dataframe tbody tr th {\n",
       "        vertical-align: top;\n",
       "    }\n",
       "\n",
       "    .dataframe thead th {\n",
       "        text-align: right;\n",
       "    }\n",
       "</style>\n",
       "<table border=\"1\" class=\"dataframe\">\n",
       "  <thead>\n",
       "    <tr style=\"text-align: right;\">\n",
       "      <th></th>\n",
       "      <th>count</th>\n",
       "    </tr>\n",
       "    <tr>\n",
       "      <th>locality_name</th>\n",
       "      <th></th>\n",
       "    </tr>\n",
       "  </thead>\n",
       "  <tbody>\n",
       "    <tr>\n",
       "      <th>Санкт-Петербург</th>\n",
       "      <td>13792</td>\n",
       "    </tr>\n",
       "    <tr>\n",
       "      <th>посёлок Мурино</th>\n",
       "      <td>520</td>\n",
       "    </tr>\n",
       "    <tr>\n",
       "      <th>посёлок Шушары</th>\n",
       "      <td>439</td>\n",
       "    </tr>\n",
       "    <tr>\n",
       "      <th>Всеволожск</th>\n",
       "      <td>397</td>\n",
       "    </tr>\n",
       "    <tr>\n",
       "      <th>Пушкин</th>\n",
       "      <td>339</td>\n",
       "    </tr>\n",
       "    <tr>\n",
       "      <th>Колпино</th>\n",
       "      <td>336</td>\n",
       "    </tr>\n",
       "    <tr>\n",
       "      <th>посёлок Парголово</th>\n",
       "      <td>327</td>\n",
       "    </tr>\n",
       "    <tr>\n",
       "      <th>Гатчина</th>\n",
       "      <td>305</td>\n",
       "    </tr>\n",
       "    <tr>\n",
       "      <th>деревня Кудрово</th>\n",
       "      <td>298</td>\n",
       "    </tr>\n",
       "    <tr>\n",
       "      <th>Выборг</th>\n",
       "      <td>236</td>\n",
       "    </tr>\n",
       "  </tbody>\n",
       "</table>\n",
       "</div>"
      ],
      "text/plain": [
       "                   count\n",
       "locality_name           \n",
       "Санкт-Петербург    13792\n",
       "посёлок Мурино       520\n",
       "посёлок Шушары       439\n",
       "Всеволожск           397\n",
       "Пушкин               339\n",
       "Колпино              336\n",
       "посёлок Парголово    327\n",
       "Гатчина              305\n",
       "деревня Кудрово      298\n",
       "Выборг               236"
      ]
     },
     "metadata": {},
     "output_type": "display_data"
    }
   ],
   "source": [
    "city_exposition = (\n",
    "    stat\n",
    "    .pivot_table(index='locality_name', values='last_price', aggfunc='count')\n",
    "    .sort_values(by='last_price', ascending=False)\n",
    "    .head(10)\n",
    ")\n",
    "city_exposition.columns = ['count']\n",
    "display(city_exposition)"
   ]
  },
  {
   "cell_type": "code",
   "execution_count": 38,
   "metadata": {},
   "outputs": [
    {
     "data": {
      "text/html": [
       "<div>\n",
       "<style scoped>\n",
       "    .dataframe tbody tr th:only-of-type {\n",
       "        vertical-align: middle;\n",
       "    }\n",
       "\n",
       "    .dataframe tbody tr th {\n",
       "        vertical-align: top;\n",
       "    }\n",
       "\n",
       "    .dataframe thead th {\n",
       "        text-align: right;\n",
       "    }\n",
       "</style>\n",
       "<table border=\"1\" class=\"dataframe\">\n",
       "  <thead>\n",
       "    <tr style=\"text-align: right;\">\n",
       "      <th></th>\n",
       "      <th>price_per_square_meter</th>\n",
       "    </tr>\n",
       "    <tr>\n",
       "      <th>locality_name</th>\n",
       "      <th></th>\n",
       "    </tr>\n",
       "  </thead>\n",
       "  <tbody>\n",
       "    <tr>\n",
       "      <th>посёлок Лисий Нос</th>\n",
       "      <td>121616.221359</td>\n",
       "    </tr>\n",
       "    <tr>\n",
       "      <th>Санкт-Петербург</th>\n",
       "      <td>105632.011302</td>\n",
       "    </tr>\n",
       "    <tr>\n",
       "      <th>Зеленогорск</th>\n",
       "      <td>100636.523580</td>\n",
       "    </tr>\n",
       "    <tr>\n",
       "      <th>Пушкин</th>\n",
       "      <td>100322.823868</td>\n",
       "    </tr>\n",
       "    <tr>\n",
       "      <th>Кудрово</th>\n",
       "      <td>99780.035133</td>\n",
       "    </tr>\n",
       "    <tr>\n",
       "      <th>...</th>\n",
       "      <td>...</td>\n",
       "    </tr>\n",
       "    <tr>\n",
       "      <th>поселок Совхозный</th>\n",
       "      <td>12629.129129</td>\n",
       "    </tr>\n",
       "    <tr>\n",
       "      <th>деревня Выскатка</th>\n",
       "      <td>12335.480902</td>\n",
       "    </tr>\n",
       "    <tr>\n",
       "      <th>деревня Вахнова Кара</th>\n",
       "      <td>11688.311688</td>\n",
       "    </tr>\n",
       "    <tr>\n",
       "      <th>посёлок станции Свирь</th>\n",
       "      <td>11481.481481</td>\n",
       "    </tr>\n",
       "    <tr>\n",
       "      <th>деревня Старополье</th>\n",
       "      <td>11206.221198</td>\n",
       "    </tr>\n",
       "  </tbody>\n",
       "</table>\n",
       "<p>364 rows × 1 columns</p>\n",
       "</div>"
      ],
      "text/plain": [
       "                       price_per_square_meter\n",
       "locality_name                                \n",
       "посёлок Лисий Нос               121616.221359\n",
       "Санкт-Петербург                 105632.011302\n",
       "Зеленогорск                     100636.523580\n",
       "Пушкин                          100322.823868\n",
       "Кудрово                          99780.035133\n",
       "...                                       ...\n",
       "поселок Совхозный                12629.129129\n",
       "деревня Выскатка                 12335.480902\n",
       "деревня Вахнова Кара             11688.311688\n",
       "посёлок станции Свирь            11481.481481\n",
       "деревня Старополье               11206.221198\n",
       "\n",
       "[364 rows x 1 columns]"
      ]
     },
     "metadata": {},
     "output_type": "display_data"
    }
   ],
   "source": [
    "price_per_square_meter = (\n",
    "    stat\n",
    "    .pivot_table(index='locality_name', values='price_per_square_meter', aggfunc='mean')\n",
    "    .sort_values(by='price_per_square_meter', ascending=False)\n",
    ")\n",
    "display(price_per_square_meter)"
   ]
  },
  {
   "cell_type": "code",
   "execution_count": 39,
   "metadata": {},
   "outputs": [
    {
     "data": {
      "text/html": [
       "<div>\n",
       "<style scoped>\n",
       "    .dataframe tbody tr th:only-of-type {\n",
       "        vertical-align: middle;\n",
       "    }\n",
       "\n",
       "    .dataframe tbody tr th {\n",
       "        vertical-align: top;\n",
       "    }\n",
       "\n",
       "    .dataframe thead th {\n",
       "        text-align: right;\n",
       "    }\n",
       "</style>\n",
       "<table border=\"1\" class=\"dataframe\">\n",
       "  <thead>\n",
       "    <tr style=\"text-align: right;\">\n",
       "      <th></th>\n",
       "      <th>count</th>\n",
       "      <th>price_per_square_meter</th>\n",
       "    </tr>\n",
       "    <tr>\n",
       "      <th>locality_name</th>\n",
       "      <th></th>\n",
       "      <th></th>\n",
       "    </tr>\n",
       "  </thead>\n",
       "  <tbody>\n",
       "    <tr>\n",
       "      <th>Санкт-Петербург</th>\n",
       "      <td>13792</td>\n",
       "      <td>105632.011302</td>\n",
       "    </tr>\n",
       "    <tr>\n",
       "      <th>Пушкин</th>\n",
       "      <td>339</td>\n",
       "      <td>100322.823868</td>\n",
       "    </tr>\n",
       "    <tr>\n",
       "      <th>деревня Кудрово</th>\n",
       "      <td>298</td>\n",
       "      <td>92409.726322</td>\n",
       "    </tr>\n",
       "    <tr>\n",
       "      <th>посёлок Парголово</th>\n",
       "      <td>327</td>\n",
       "      <td>90175.913458</td>\n",
       "    </tr>\n",
       "    <tr>\n",
       "      <th>посёлок Мурино</th>\n",
       "      <td>520</td>\n",
       "      <td>85673.259928</td>\n",
       "    </tr>\n",
       "    <tr>\n",
       "      <th>посёлок Шушары</th>\n",
       "      <td>439</td>\n",
       "      <td>78551.344545</td>\n",
       "    </tr>\n",
       "    <tr>\n",
       "      <th>Колпино</th>\n",
       "      <td>336</td>\n",
       "      <td>75185.478229</td>\n",
       "    </tr>\n",
       "    <tr>\n",
       "      <th>Гатчина</th>\n",
       "      <td>305</td>\n",
       "      <td>68421.902770</td>\n",
       "    </tr>\n",
       "    <tr>\n",
       "      <th>Всеволожск</th>\n",
       "      <td>397</td>\n",
       "      <td>67214.252635</td>\n",
       "    </tr>\n",
       "    <tr>\n",
       "      <th>Выборг</th>\n",
       "      <td>236</td>\n",
       "      <td>57932.878606</td>\n",
       "    </tr>\n",
       "  </tbody>\n",
       "</table>\n",
       "</div>"
      ],
      "text/plain": [
       "                   count  price_per_square_meter\n",
       "locality_name                                   \n",
       "Санкт-Петербург    13792           105632.011302\n",
       "Пушкин               339           100322.823868\n",
       "деревня Кудрово      298            92409.726322\n",
       "посёлок Парголово    327            90175.913458\n",
       "посёлок Мурино       520            85673.259928\n",
       "посёлок Шушары       439            78551.344545\n",
       "Колпино              336            75185.478229\n",
       "Гатчина              305            68421.902770\n",
       "Всеволожск           397            67214.252635\n",
       "Выборг               236            57932.878606"
      ]
     },
     "metadata": {},
     "output_type": "display_data"
    }
   ],
   "source": [
    "city_stat = city_exposition.join(price_per_square_meter)\n",
    "display(city_stat.sort_values(by='price_per_square_meter', ascending=False))"
   ]
  },
  {
   "cell_type": "markdown",
   "metadata": {},
   "source": [
    "**Вывод**"
   ]
  },
  {
   "cell_type": "markdown",
   "metadata": {},
   "source": [
    "Можно смело сказать, что из наиболее популярных населенных пунктов самая дорогая стоимость квадратного метра по праву принадлежит столице Ленанградской области - Санкт-Петербургу. Самое дешевое жилье из наиболее популярных это г. Выборг - что неудивительно, так как город находится на окраине Ленинградской области, с населением 74 тыс. человек. "
   ]
  },
  {
   "cell_type": "markdown",
   "metadata": {},
   "source": [
    "### Изучение предложений квартир"
   ]
  },
  {
   "cell_type": "markdown",
   "metadata": {},
   "source": [
    "Так как в вопросах продажи квартир Ленинградской области самый популярный город Санкт-Петербург, изучим его подробнее. Нам необходимо выявить зависимость стоимости квартиры и расстояние от центра города. Для выполнения этой задачи соберем специальный датасет `spb`, где соберем предложения по недвижимости только для Питера. Удалим строки с пропущенными значениями расстояния до центра (их 60) и округлим расстояние до целых метров."
   ]
  },
  {
   "cell_type": "code",
   "execution_count": 40,
   "metadata": {},
   "outputs": [
    {
     "data": {
      "text/plain": [
       "0"
      ]
     },
     "metadata": {},
     "output_type": "display_data"
    },
    {
     "data": {
      "text/plain": [
       "2        13933\n",
       "4         8098\n",
       "10       13878\n",
       "15       14259\n",
       "23       14211\n",
       "         ...  \n",
       "23671    15261\n",
       "23673    11881\n",
       "23681     7262\n",
       "23686    11602\n",
       "23689    16081\n",
       "Name: cityCenters_nearest, Length: 3186, dtype: int64"
      ]
     },
     "execution_count": 40,
     "metadata": {},
     "output_type": "execute_result"
    }
   ],
   "source": [
    "spb = df.query('locality_name == \"Санкт-Петербург\"')\n",
    "spb = spb.dropna()\n",
    "display(spb['cityCenters_nearest'].isna().sum())\n",
    "spb['cityCenters_nearest'].astype('int')"
   ]
  },
  {
   "cell_type": "markdown",
   "metadata": {},
   "source": [
    "Округлим расстояние до километров. Для этого объявим функцию, которая будет возвращать нужное нам расстояние."
   ]
  },
  {
   "cell_type": "code",
   "execution_count": 41,
   "metadata": {},
   "outputs": [],
   "source": [
    "# Объявим функцию, которая будет возвращать \n",
    "# рассояние до центра в километрах\n",
    "\n",
    "def city_center(distance):\n",
    "    return distance / 1000\n",
    "       \n",
    "# Алгоритм проверки функции\n",
    "row_values = [2000.25]\n",
    "row_columns = ['cityCenters_nearest']\n",
    "row = pd.Series(data=row_values, index=row_columns)  \n",
    "#city_center(row)\n",
    "\n",
    "# Применим нашу функцию к датафрейму:\n",
    "\n",
    "spb['distance_center'] = spb['cityCenters_nearest'].apply(city_center).round(0)"
   ]
  },
  {
   "cell_type": "code",
   "execution_count": 42,
   "metadata": {
    "scrolled": false
   },
   "outputs": [
    {
     "data": {
      "text/html": [
       "<div>\n",
       "<style scoped>\n",
       "    .dataframe tbody tr th:only-of-type {\n",
       "        vertical-align: middle;\n",
       "    }\n",
       "\n",
       "    .dataframe tbody tr th {\n",
       "        vertical-align: top;\n",
       "    }\n",
       "\n",
       "    .dataframe thead th {\n",
       "        text-align: right;\n",
       "    }\n",
       "</style>\n",
       "<table border=\"1\" class=\"dataframe\">\n",
       "  <thead>\n",
       "    <tr style=\"text-align: right;\">\n",
       "      <th></th>\n",
       "      <th>count</th>\n",
       "      <th>price_per_square_meter</th>\n",
       "    </tr>\n",
       "    <tr>\n",
       "      <th>distance_center</th>\n",
       "      <th></th>\n",
       "      <th></th>\n",
       "    </tr>\n",
       "  </thead>\n",
       "  <tbody>\n",
       "    <tr>\n",
       "      <th>0.0</th>\n",
       "      <td>18</td>\n",
       "      <td>235287.876167</td>\n",
       "    </tr>\n",
       "    <tr>\n",
       "      <th>1.0</th>\n",
       "      <td>117</td>\n",
       "      <td>171968.522300</td>\n",
       "    </tr>\n",
       "    <tr>\n",
       "      <th>2.0</th>\n",
       "      <td>187</td>\n",
       "      <td>160779.297912</td>\n",
       "    </tr>\n",
       "    <tr>\n",
       "      <th>3.0</th>\n",
       "      <td>149</td>\n",
       "      <td>121533.291749</td>\n",
       "    </tr>\n",
       "    <tr>\n",
       "      <th>4.0</th>\n",
       "      <td>179</td>\n",
       "      <td>133404.969510</td>\n",
       "    </tr>\n",
       "    <tr>\n",
       "      <th>5.0</th>\n",
       "      <td>189</td>\n",
       "      <td>134051.855113</td>\n",
       "    </tr>\n",
       "    <tr>\n",
       "      <th>6.0</th>\n",
       "      <td>207</td>\n",
       "      <td>157058.965954</td>\n",
       "    </tr>\n",
       "    <tr>\n",
       "      <th>7.0</th>\n",
       "      <td>146</td>\n",
       "      <td>182821.889045</td>\n",
       "    </tr>\n",
       "    <tr>\n",
       "      <th>8.0</th>\n",
       "      <td>190</td>\n",
       "      <td>134673.983187</td>\n",
       "    </tr>\n",
       "    <tr>\n",
       "      <th>9.0</th>\n",
       "      <td>94</td>\n",
       "      <td>121032.447778</td>\n",
       "    </tr>\n",
       "    <tr>\n",
       "      <th>10.0</th>\n",
       "      <td>135</td>\n",
       "      <td>116584.376545</td>\n",
       "    </tr>\n",
       "    <tr>\n",
       "      <th>11.0</th>\n",
       "      <td>228</td>\n",
       "      <td>116097.463870</td>\n",
       "    </tr>\n",
       "    <tr>\n",
       "      <th>12.0</th>\n",
       "      <td>365</td>\n",
       "      <td>107322.944478</td>\n",
       "    </tr>\n",
       "    <tr>\n",
       "      <th>13.0</th>\n",
       "      <td>216</td>\n",
       "      <td>102872.429275</td>\n",
       "    </tr>\n",
       "    <tr>\n",
       "      <th>14.0</th>\n",
       "      <td>221</td>\n",
       "      <td>99438.919829</td>\n",
       "    </tr>\n",
       "    <tr>\n",
       "      <th>15.0</th>\n",
       "      <td>209</td>\n",
       "      <td>98853.024086</td>\n",
       "    </tr>\n",
       "    <tr>\n",
       "      <th>16.0</th>\n",
       "      <td>171</td>\n",
       "      <td>95752.938766</td>\n",
       "    </tr>\n",
       "    <tr>\n",
       "      <th>17.0</th>\n",
       "      <td>70</td>\n",
       "      <td>111041.797950</td>\n",
       "    </tr>\n",
       "    <tr>\n",
       "      <th>18.0</th>\n",
       "      <td>39</td>\n",
       "      <td>92233.823501</td>\n",
       "    </tr>\n",
       "    <tr>\n",
       "      <th>19.0</th>\n",
       "      <td>20</td>\n",
       "      <td>106196.028119</td>\n",
       "    </tr>\n",
       "    <tr>\n",
       "      <th>20.0</th>\n",
       "      <td>2</td>\n",
       "      <td>108649.635036</td>\n",
       "    </tr>\n",
       "    <tr>\n",
       "      <th>21.0</th>\n",
       "      <td>6</td>\n",
       "      <td>78301.503235</td>\n",
       "    </tr>\n",
       "    <tr>\n",
       "      <th>22.0</th>\n",
       "      <td>2</td>\n",
       "      <td>92450.732997</td>\n",
       "    </tr>\n",
       "    <tr>\n",
       "      <th>25.0</th>\n",
       "      <td>4</td>\n",
       "      <td>84440.163427</td>\n",
       "    </tr>\n",
       "    <tr>\n",
       "      <th>26.0</th>\n",
       "      <td>20</td>\n",
       "      <td>86933.327581</td>\n",
       "    </tr>\n",
       "    <tr>\n",
       "      <th>28.0</th>\n",
       "      <td>2</td>\n",
       "      <td>68473.364669</td>\n",
       "    </tr>\n",
       "  </tbody>\n",
       "</table>\n",
       "</div>"
      ],
      "text/plain": [
       "                 count  price_per_square_meter\n",
       "distance_center                               \n",
       "0.0                 18           235287.876167\n",
       "1.0                117           171968.522300\n",
       "2.0                187           160779.297912\n",
       "3.0                149           121533.291749\n",
       "4.0                179           133404.969510\n",
       "5.0                189           134051.855113\n",
       "6.0                207           157058.965954\n",
       "7.0                146           182821.889045\n",
       "8.0                190           134673.983187\n",
       "9.0                 94           121032.447778\n",
       "10.0               135           116584.376545\n",
       "11.0               228           116097.463870\n",
       "12.0               365           107322.944478\n",
       "13.0               216           102872.429275\n",
       "14.0               221            99438.919829\n",
       "15.0               209            98853.024086\n",
       "16.0               171            95752.938766\n",
       "17.0                70           111041.797950\n",
       "18.0                39            92233.823501\n",
       "19.0                20           106196.028119\n",
       "20.0                 2           108649.635036\n",
       "21.0                 6            78301.503235\n",
       "22.0                 2            92450.732997\n",
       "25.0                 4            84440.163427\n",
       "26.0                20            86933.327581\n",
       "28.0                 2            68473.364669"
      ]
     },
     "metadata": {},
     "output_type": "display_data"
    }
   ],
   "source": [
    "count_kilometer = (\n",
    "    spb\n",
    "    .pivot_table(index='distance_center', values='price_per_square_meter', aggfunc='count')\n",
    ")\n",
    "\n",
    "price_per_square_meter_per_kilometer = (\n",
    "    spb\n",
    "    .pivot_table(index='distance_center', values='price_per_square_meter', aggfunc='mean')\n",
    ")\n",
    "\n",
    "price_per_kilometer = count_kilometer.merge(price_per_square_meter_per_kilometer, on='distance_center')\n",
    "\n",
    "price_per_kilometer.columns=['count', 'price_per_square_meter']\n",
    "display(price_per_kilometer)"
   ]
  },
  {
   "cell_type": "code",
   "execution_count": 51,
   "metadata": {
    "scrolled": false
   },
   "outputs": [
    {
     "data": {
      "image/png": "[encoded data removed]",
      "text/plain": [
       "<Figure size 1080x432 with 1 Axes>"
      ]
     },
     "metadata": {
      "needs_background": "light"
     },
     "output_type": "display_data"
    }
   ],
   "source": [
    "fig, ax = plt.subplots()\n",
    "fig.suptitle('Зависимость стоимости квадратного метра от расстояния до центра', fontsize = 15)\n",
    "\n",
    "price_per_kilometer['price_per_square_meter'].plot(\n",
    "    style='o-',\n",
    "    figsize=(10,7)\n",
    "   )\n",
    "\n",
    "fig.set_figwidth(15)\n",
    "fig.set_figheight(6)\n",
    "\n",
    "ax.set_xlabel('Расстояние до центра, км')\n",
    "ax.set_ylabel('Стоимость квадратного метра, руб.')\n",
    "ax.grid()\n",
    "\n",
    "plt.show()"
   ]
  },
  {
   "cell_type": "markdown",
   "metadata": {},
   "source": [
    "Видим падение стоимости квдратного метра в районе 10 километров от центра. Думаю эту величину слеудет принять как центр города в данном исследовании."
   ]
  },
  {
   "cell_type": "markdown",
   "metadata": {},
   "source": [
    "### Изучение квартир в центре города"
   ]
  },
  {
   "cell_type": "code",
   "execution_count": 44,
   "metadata": {},
   "outputs": [],
   "source": [
    "center = spb.query('distance_center <= 10')"
   ]
  },
  {
   "cell_type": "code",
   "execution_count": 54,
   "metadata": {
    "scrolled": false
   },
   "outputs": [
    {
     "data": {
      "image/png": "[encoded data removed]",
      "text/plain": [
       "<Figure size 1080x432 with 1 Axes>"
      ]
     },
     "metadata": {
      "needs_background": "light"
     },
     "output_type": "display_data"
    }
   ],
   "source": [
    "fig, ax = plt.subplots()\n",
    "fig.suptitle('Распределение продаж по общей площади в центре', fontsize = 15)\n",
    "\n",
    "center['total_area'].hist(\n",
    "    ax=ax\n",
    ")\n",
    "\n",
    "fig.set_figwidth(15)\n",
    "fig.set_figheight(6)\n",
    "\n",
    "ax.set_xlabel('Общая площадь')\n",
    "ax.set_ylabel('Количество объектов')\n",
    "\n",
    "plt.show()"
   ]
  },
  {
   "cell_type": "markdown",
   "metadata": {},
   "source": [
    "Зависимость общей площади и стоимости продажи похоже на распределение Пуассона, преобладает недвижимость до 120 кв. метров."
   ]
  },
  {
   "cell_type": "code",
   "execution_count": 59,
   "metadata": {
    "scrolled": false
   },
   "outputs": [
    {
     "data": {
      "image/png": "[encoded data removed]",
      "text/plain": [
       "<Figure size 1080x432 with 1 Axes>"
      ]
     },
     "metadata": {
      "needs_background": "light"
     },
     "output_type": "display_data"
    }
   ],
   "source": [
    "fig, ax = plt.subplots()\n",
    "fig.suptitle('Распределение продаж по стоимости продажи в центре', fontsize = 15)\n",
    "\n",
    "(center['last_price'] / 1000000).hist(\n",
    "    ax=ax\n",
    ")\n",
    "\n",
    "fig.set_figwidth(15)\n",
    "fig.set_figheight(6)\n",
    "\n",
    "ax.set_xlabel('Стоимость продажи, млн. руб.')\n",
    "ax.set_ylabel('Количество объектов')\n",
    "\n",
    "plt.show()"
   ]
  },
  {
   "cell_type": "markdown",
   "metadata": {},
   "source": [
    "Зависимость общей площади и стоимости продажи похоже на распределение Пуассона, преобладает нежвижимость до 50 млн.руб."
   ]
  },
  {
   "cell_type": "code",
   "execution_count": 60,
   "metadata": {
    "scrolled": false
   },
   "outputs": [
    {
     "data": {
      "image/png": "[encoded data removed]",
      "text/plain": [
       "<Figure size 1080x432 with 1 Axes>"
      ]
     },
     "metadata": {
      "needs_background": "light"
     },
     "output_type": "display_data"
    }
   ],
   "source": [
    "fig, ax = plt.subplots()\n",
    "fig.suptitle('Распределение продаж по количеству комнат в центре', fontsize = 15)\n",
    "\n",
    "center['rooms'].hist(\n",
    "    ax=ax\n",
    ")\n",
    "\n",
    "fig.set_figwidth(15)\n",
    "fig.set_figheight(6)\n",
    "\n",
    "ax.set_xlabel('Количество комнат')\n",
    "ax.set_ylabel('Количество объектов')\n",
    "\n",
    "plt.show()"
   ]
  },
  {
   "cell_type": "markdown",
   "metadata": {},
   "source": [
    "Зависимость общей площади и стоимости продажи похоже на распределение Пуассона, преобладает недвижимость 2 - 4-х комнатная.\n",
    "\n",
    "Найдем и уберем выбросы и аномалии в высоте потолков."
   ]
  },
  {
   "cell_type": "code",
   "execution_count": 62,
   "metadata": {},
   "outputs": [
    {
     "data": {
      "image/png": "[encoded data removed]",
      "text/plain": [
       "<Figure size 432x288 with 1 Axes>"
      ]
     },
     "metadata": {
      "needs_background": "light"
     },
     "output_type": "display_data"
    }
   ],
   "source": [
    "plt.ylim(2, 3.8)\n",
    "center.boxplot('ceiling_height')\n",
    "plt.show()\n",
    "\n",
    "center = center.query('ceiling_height <= 3.8')"
   ]
  },
  {
   "cell_type": "code",
   "execution_count": 63,
   "metadata": {},
   "outputs": [
    {
     "data": {
      "image/png": "[encoded data removed]",
      "text/plain": [
       "<Figure size 1080x432 with 1 Axes>"
      ]
     },
     "metadata": {
      "needs_background": "light"
     },
     "output_type": "display_data"
    }
   ],
   "source": [
    "fig, ax = plt.subplots()\n",
    "fig.suptitle('Распределение продаж по высоте потолков в центре', fontsize = 15)\n",
    "\n",
    "center['ceiling_height'].hist(\n",
    "    ax=ax\n",
    ")\n",
    "\n",
    "fig.set_figwidth(15)\n",
    "fig.set_figheight(6)\n",
    "\n",
    "ax.set_xlabel('Высота потолков')\n",
    "ax.set_ylabel('Количество объектов')\n",
    "\n",
    "plt.show()"
   ]
  },
  {
   "cell_type": "markdown",
   "metadata": {},
   "source": [
    "Зависимость общей площади и стоимости продажи похоже на распределение Пуассона, преобладает недвижимость с высотой потолков 2,6 метров. Пришлось эбрать выбивающиеся значения, так как гистограмма сливалась из-за значений в 100 м."
   ]
  },
  {
   "cell_type": "code",
   "execution_count": 206,
   "metadata": {},
   "outputs": [
    {
     "data": {
      "text/plain": [
       "0.3280242282382051"
      ]
     },
     "execution_count": 206,
     "metadata": {},
     "output_type": "execute_result"
    }
   ],
   "source": [
    "center['last_price'].corr(center['rooms'])"
   ]
  },
  {
   "cell_type": "code",
   "execution_count": 207,
   "metadata": {},
   "outputs": [
    {
     "data": {
      "text/plain": [
       "0.08131234158327774"
      ]
     },
     "execution_count": 207,
     "metadata": {},
     "output_type": "execute_result"
    }
   ],
   "source": [
    "center['last_price'].corr(center['floor'])"
   ]
  },
  {
   "cell_type": "code",
   "execution_count": 208,
   "metadata": {},
   "outputs": [
    {
     "data": {
      "text/plain": [
       "-0.13602012843859732"
      ]
     },
     "execution_count": 208,
     "metadata": {},
     "output_type": "execute_result"
    }
   ],
   "source": [
    "center['last_price'].corr(center['cityCenters_nearest'])"
   ]
  },
  {
   "cell_type": "code",
   "execution_count": 209,
   "metadata": {},
   "outputs": [
    {
     "data": {
      "text/plain": [
       "-0.1412434524251082"
      ]
     },
     "execution_count": 209,
     "metadata": {},
     "output_type": "execute_result"
    }
   ],
   "source": [
    "center['last_price'].corr(center['distance_center'])"
   ]
  },
  {
   "cell_type": "markdown",
   "metadata": {},
   "source": [
    "**Вывод**"
   ]
  },
  {
   "cell_type": "markdown",
   "metadata": {},
   "source": [
    "Видя корреляцию можно сказать, что в центре города, существует зависимость цены квадратного метра от количества комнат и этажа квартиры, но она настолько незначительна, что не стоит однозначно говорить о ее существовании.  Если сравнить полученные данные центра города с данными об области в целом, то видно, что явно выраженных зависимостей нет. Это связано скорее всего с тем, что в центре города находится элитное жилье, где возможно, существуют другие параметры от которых зависит стоимость жилья, которые мы не рассматривали в данном исследовании."
   ]
  },
  {
   "cell_type": "code",
   "execution_count": 65,
   "metadata": {
    "scrolled": false
   },
   "outputs": [
    {
     "data": {
      "image/png": "[encoded data removed]",
      "text/plain": [
       "<Figure size 864x432 with 1 Axes>"
      ]
     },
     "metadata": {
      "needs_background": "light"
     },
     "output_type": "display_data"
    }
   ],
   "source": [
    "fig, ax = plt.subplots()\n",
    "fig.suptitle('Распределение продаж по дням недели в центре', fontsize = 15)\n",
    "\n",
    "center.plot(\n",
    "    kind='hist',\n",
    "    x='last_price',\n",
    "    y='day_week_first_exposition',\n",
    "    bins=7,\n",
    "    ax=ax\n",
    ")\n",
    "\n",
    "fig.set_figwidth(12)\n",
    "fig.set_figheight(6)\n",
    "\n",
    "ax.set_xlabel('День недели')\n",
    "ax.set_ylabel('Количество объектов')\n",
    "\n",
    "plt.show()"
   ]
  },
  {
   "cell_type": "markdown",
   "metadata": {},
   "source": [
    "Видим что пик продаж недвижимости в центре в четверг - середина недели, в то время обычное жилье распределено в будни равномерно. "
   ]
  },
  {
   "cell_type": "code",
   "execution_count": 66,
   "metadata": {},
   "outputs": [
    {
     "data": {
      "image/png": "[encoded data removed]",
      "text/plain": [
       "<Figure size 864x432 with 1 Axes>"
      ]
     },
     "metadata": {
      "needs_background": "light"
     },
     "output_type": "display_data"
    }
   ],
   "source": [
    "fig, ax = plt.subplots()\n",
    "fig.suptitle('Распределение продаж по месяцам в центре', fontsize = 15)\n",
    "\n",
    "center.plot(\n",
    "    kind='hist',\n",
    "    x='last_price',\n",
    "    y='month_first_exposition',\n",
    "    bins=12,\n",
    "    ax=ax\n",
    ")\n",
    "\n",
    "fig.set_figwidth(12)\n",
    "fig.set_figheight(6)\n",
    "\n",
    "ax.set_xlabel('Месяц')\n",
    "ax.set_ylabel('Количество объектов')\n",
    "\n",
    "plt.show()"
   ]
  },
  {
   "cell_type": "markdown",
   "metadata": {},
   "source": [
    "Элитное жилье продается равномерно в течение года, кроме декабря и января. Есть пик в феврале."
   ]
  },
  {
   "cell_type": "markdown",
   "metadata": {},
   "source": [
    "<div class=\"alert alert-success\">\n",
    "<b>✔️ Комментарий ревьюера V2:</b> Отлично!"
   ]
  },
  {
   "cell_type": "code",
   "execution_count": 67,
   "metadata": {
    "scrolled": false
   },
   "outputs": [
    {
     "data": {
      "image/png": "[encoded data removed]",
      "text/plain": [
       "<Figure size 864x432 with 1 Axes>"
      ]
     },
     "metadata": {
      "needs_background": "light"
     },
     "output_type": "display_data"
    }
   ],
   "source": [
    "fig, ax = plt.subplots()\n",
    "fig.suptitle('Распределение продаж по годам в центре', fontsize = 15)\n",
    "\n",
    "center.plot(\n",
    "    kind='hist',\n",
    "    x='last_price',\n",
    "    y='year_first_exposition',\n",
    "    bins=6,\n",
    "    ax=ax\n",
    ")\n",
    "\n",
    "fig.set_figwidth(12)\n",
    "fig.set_figheight(6)\n",
    "\n",
    "ax.set_xlabel('Год')\n",
    "ax.set_ylabel('Количество объектов')\n",
    "\n",
    "plt.show()"
   ]
  },
  {
   "cell_type": "markdown",
   "metadata": {},
   "source": [
    "Распределениепродаж по годам характерно и очень похоже на то что было с популярным жильем."
   ]
  },
  {
   "cell_type": "markdown",
   "metadata": {},
   "source": [
    "## Общий вывод"
   ]
  },
  {
   "cell_type": "markdown",
   "metadata": {},
   "source": [
    "В результате нашего исследования смело можно сказать, что на основании тех данных, которыми мы располагаем, можно создать автоматизированную систему по отслеживанию аномалий. В ходе анализа мы определили, что стоимость квартиры зависит от общей площади квартиры и от количества комнат. Но, такая зависиость не характерна для дорогого жилья центра Петербурга. Также получили среднюю стоимость квадратного метра в населенный пунктах Ленобласти и Санкт-петербурга, опоределили границу аномальных значений и выбросы по количеству дней продажи квартиры - приемлимый срок, за который можно продать квартиру - это от 45 до 232 дней. Если продажа квартиры длится больше 512 дней - есть повод задуматься, почему это происходит."
   ]
  }
 ],
 "metadata": {
  "ExecuteTimeLog": [
   {
    "duration": 121,
    "start_time": "2021-12-24T02:31:55.065Z"
   },
   {
    "duration": 430,
    "start_time": "2021-12-24T02:32:54.227Z"
   },
   {
    "duration": 787,
    "start_time": "2021-12-24T02:32:58.037Z"
   },
   {
    "duration": 79,
    "start_time": "2021-12-24T02:33:01.293Z"
   },
   {
    "duration": 89,
    "start_time": "2021-12-24T02:33:17.461Z"
   },
   {
    "duration": 128,
    "start_time": "2021-12-24T02:33:58.772Z"
   },
   {
    "duration": 81,
    "start_time": "2021-12-24T02:36:55.455Z"
   },
   {
    "duration": 146,
    "start_time": "2021-12-24T02:37:14.551Z"
   },
   {
    "duration": 385,
    "start_time": "2021-12-24T08:59:30.977Z"
   },
   {
    "duration": 727,
    "start_time": "2021-12-24T08:59:35.856Z"
   },
   {
    "duration": 177,
    "start_time": "2021-12-24T08:59:38.232Z"
   },
   {
    "duration": 236,
    "start_time": "2021-12-24T09:06:40.545Z"
   },
   {
    "duration": 153,
    "start_time": "2021-12-24T09:12:40.184Z"
   },
   {
    "duration": 9,
    "start_time": "2021-12-24T09:31:49.237Z"
   },
   {
    "duration": 361,
    "start_time": "2021-12-24T09:32:35.973Z"
   },
   {
    "duration": 6,
    "start_time": "2021-12-24T09:32:45.197Z"
   },
   {
    "duration": 6,
    "start_time": "2021-12-24T09:32:58.414Z"
   },
   {
    "duration": 9,
    "start_time": "2021-12-24T09:33:04.397Z"
   },
   {
    "duration": 273,
    "start_time": "2021-12-24T09:33:14.910Z"
   },
   {
    "duration": 287,
    "start_time": "2021-12-24T09:33:26.733Z"
   },
   {
    "duration": 16,
    "start_time": "2021-12-24T09:33:50.269Z"
   },
   {
    "duration": 19,
    "start_time": "2021-12-24T09:35:18.238Z"
   },
   {
    "duration": 402,
    "start_time": "2021-12-24T09:35:43.966Z"
   },
   {
    "duration": 508,
    "start_time": "2021-12-24T09:37:49.741Z"
   },
   {
    "duration": 608,
    "start_time": "2021-12-24T09:38:47.677Z"
   },
   {
    "duration": 555,
    "start_time": "2021-12-24T09:39:51.521Z"
   },
   {
    "duration": 592,
    "start_time": "2021-12-24T09:40:03.260Z"
   },
   {
    "duration": 568,
    "start_time": "2021-12-24T09:44:25.964Z"
   },
   {
    "duration": 631,
    "start_time": "2021-12-24T09:48:24.128Z"
   },
   {
    "duration": 8,
    "start_time": "2021-12-24T09:49:54.236Z"
   },
   {
    "duration": 63,
    "start_time": "2021-12-24T09:50:04.284Z"
   },
   {
    "duration": 452,
    "start_time": "2021-12-24T10:15:22.816Z"
   },
   {
    "duration": 426,
    "start_time": "2021-12-24T10:15:52.873Z"
   },
   {
    "duration": 87,
    "start_time": "2021-12-24T10:23:40.538Z"
   },
   {
    "duration": 230,
    "start_time": "2021-12-24T10:24:00.888Z"
   },
   {
    "duration": 519,
    "start_time": "2021-12-24T10:24:25.192Z"
   },
   {
    "duration": 428,
    "start_time": "2021-12-24T10:24:33.772Z"
   },
   {
    "duration": 431,
    "start_time": "2021-12-24T10:24:53.720Z"
   },
   {
    "duration": 96,
    "start_time": "2021-12-24T10:25:03.480Z"
   },
   {
    "duration": 84,
    "start_time": "2021-12-24T10:25:09.581Z"
   },
   {
    "duration": 431,
    "start_time": "2021-12-24T10:25:17.512Z"
   },
   {
    "duration": 454,
    "start_time": "2021-12-24T10:27:42.920Z"
   },
   {
    "duration": 423,
    "start_time": "2021-12-24T10:28:03.240Z"
   },
   {
    "duration": 436,
    "start_time": "2021-12-24T10:28:21.384Z"
   },
   {
    "duration": 10,
    "start_time": "2021-12-24T10:49:04.526Z"
   },
   {
    "duration": 7,
    "start_time": "2021-12-24T10:49:30.775Z"
   },
   {
    "duration": 64,
    "start_time": "2021-12-24T10:50:06.390Z"
   },
   {
    "duration": 7,
    "start_time": "2021-12-24T10:50:15.974Z"
   },
   {
    "duration": 22,
    "start_time": "2021-12-24T10:50:20.189Z"
   },
   {
    "duration": 7324,
    "start_time": "2021-12-24T10:52:25.318Z"
   },
   {
    "duration": 54,
    "start_time": "2021-12-24T10:52:49.526Z"
   },
   {
    "duration": 11,
    "start_time": "2021-12-24T10:58:00.870Z"
   },
   {
    "duration": 10,
    "start_time": "2021-12-24T10:58:09.654Z"
   },
   {
    "duration": 13,
    "start_time": "2021-12-24T10:58:43.483Z"
   },
   {
    "duration": 8,
    "start_time": "2021-12-24T11:16:26.403Z"
   },
   {
    "duration": 11,
    "start_time": "2021-12-24T11:19:01.923Z"
   },
   {
    "duration": 10,
    "start_time": "2021-12-24T11:19:11.603Z"
   },
   {
    "duration": 11,
    "start_time": "2021-12-24T11:19:26.594Z"
   },
   {
    "duration": 265,
    "start_time": "2021-12-24T11:19:42.307Z"
   },
   {
    "duration": 298,
    "start_time": "2021-12-24T11:19:51.555Z"
   },
   {
    "duration": 267,
    "start_time": "2021-12-24T11:19:57.091Z"
   },
   {
    "duration": 16,
    "start_time": "2021-12-24T11:20:38.909Z"
   },
   {
    "duration": 276,
    "start_time": "2021-12-24T11:23:48.019Z"
   },
   {
    "duration": 256,
    "start_time": "2021-12-24T11:23:56.146Z"
   },
   {
    "duration": 91,
    "start_time": "2021-12-24T11:24:10.291Z"
   },
   {
    "duration": 16,
    "start_time": "2021-12-24T11:24:15.906Z"
   },
   {
    "duration": 85,
    "start_time": "2021-12-24T11:27:09.778Z"
   },
   {
    "duration": 6,
    "start_time": "2021-12-24T11:27:37.922Z"
   },
   {
    "duration": 7,
    "start_time": "2021-12-24T11:27:59.494Z"
   },
   {
    "duration": 273,
    "start_time": "2021-12-24T11:28:19.204Z"
   },
   {
    "duration": 6,
    "start_time": "2021-12-24T11:28:59.394Z"
   },
   {
    "duration": 7,
    "start_time": "2021-12-24T11:29:00.785Z"
   },
   {
    "duration": 12,
    "start_time": "2021-12-24T11:51:29.023Z"
   },
   {
    "duration": 5,
    "start_time": "2021-12-24T11:53:15.440Z"
   },
   {
    "duration": 16,
    "start_time": "2021-12-24T11:53:30.207Z"
   },
   {
    "duration": 312,
    "start_time": "2021-12-24T11:54:57.312Z"
   },
   {
    "duration": 6,
    "start_time": "2021-12-24T11:55:16.417Z"
   },
   {
    "duration": 10,
    "start_time": "2021-12-24T11:55:38.927Z"
   },
   {
    "duration": 9,
    "start_time": "2021-12-24T11:55:55.791Z"
   },
   {
    "duration": 13,
    "start_time": "2021-12-24T11:56:36.959Z"
   },
   {
    "duration": 7,
    "start_time": "2021-12-24T11:58:27.087Z"
   },
   {
    "duration": 9,
    "start_time": "2021-12-24T11:58:35.295Z"
   },
   {
    "duration": 7,
    "start_time": "2021-12-24T11:59:56.405Z"
   },
   {
    "duration": 10,
    "start_time": "2021-12-24T12:01:34.462Z"
   },
   {
    "duration": 10,
    "start_time": "2021-12-24T12:01:51.854Z"
   },
   {
    "duration": 10,
    "start_time": "2021-12-24T12:02:01.263Z"
   },
   {
    "duration": 7,
    "start_time": "2021-12-24T12:04:45.166Z"
   },
   {
    "duration": 311,
    "start_time": "2021-12-24T12:09:41.278Z"
   },
   {
    "duration": 15,
    "start_time": "2021-12-24T12:09:54.301Z"
   },
   {
    "duration": 8,
    "start_time": "2021-12-24T12:10:02.557Z"
   },
   {
    "duration": 8,
    "start_time": "2021-12-24T12:10:16.494Z"
   },
   {
    "duration": 6,
    "start_time": "2021-12-24T12:12:10.990Z"
   },
   {
    "duration": 3,
    "start_time": "2021-12-24T12:12:17.777Z"
   },
   {
    "duration": 143,
    "start_time": "2021-12-24T12:12:17.783Z"
   },
   {
    "duration": 105,
    "start_time": "2021-12-24T12:12:17.931Z"
   },
   {
    "duration": 761,
    "start_time": "2021-12-24T12:12:18.040Z"
   },
   {
    "duration": 13,
    "start_time": "2021-12-24T12:12:18.804Z"
   },
   {
    "duration": 22,
    "start_time": "2021-12-24T12:12:18.821Z"
   },
   {
    "duration": 14,
    "start_time": "2021-12-24T12:12:18.847Z"
   },
   {
    "duration": 51,
    "start_time": "2021-12-24T12:12:18.866Z"
   },
   {
    "duration": 9,
    "start_time": "2021-12-24T12:12:18.920Z"
   },
   {
    "duration": 8,
    "start_time": "2021-12-24T12:12:18.932Z"
   },
   {
    "duration": 23,
    "start_time": "2021-12-24T12:12:18.942Z"
   },
   {
    "duration": 56,
    "start_time": "2021-12-24T12:12:18.967Z"
   },
   {
    "duration": 26,
    "start_time": "2021-12-24T12:12:19.025Z"
   },
   {
    "duration": 7,
    "start_time": "2021-12-24T12:12:22.589Z"
   },
   {
    "duration": 8,
    "start_time": "2021-12-24T12:13:00.398Z"
   },
   {
    "duration": 7,
    "start_time": "2021-12-24T12:13:27.869Z"
   },
   {
    "duration": 15,
    "start_time": "2021-12-24T12:13:56.526Z"
   },
   {
    "duration": 12,
    "start_time": "2021-12-24T12:19:04.733Z"
   },
   {
    "duration": 407,
    "start_time": "2021-12-25T09:23:10.264Z"
   },
   {
    "duration": 592,
    "start_time": "2021-12-25T09:23:16.031Z"
   },
   {
    "duration": 103,
    "start_time": "2021-12-25T09:23:16.625Z"
   },
   {
    "duration": 33,
    "start_time": "2021-12-25T09:23:16.731Z"
   },
   {
    "duration": 338,
    "start_time": "2021-12-25T09:23:16.767Z"
   },
   {
    "duration": 4,
    "start_time": "2021-12-25T09:23:17.107Z"
   },
   {
    "duration": 24,
    "start_time": "2021-12-25T09:23:17.112Z"
   },
   {
    "duration": 5,
    "start_time": "2021-12-25T09:23:17.138Z"
   },
   {
    "duration": 11,
    "start_time": "2021-12-25T09:23:17.145Z"
   },
   {
    "duration": 5,
    "start_time": "2021-12-25T09:23:17.157Z"
   },
   {
    "duration": 5,
    "start_time": "2021-12-25T09:23:17.163Z"
   },
   {
    "duration": 12,
    "start_time": "2021-12-25T09:23:17.169Z"
   },
   {
    "duration": 7,
    "start_time": "2021-12-25T09:23:17.182Z"
   },
   {
    "duration": 40,
    "start_time": "2021-12-25T09:23:17.191Z"
   },
   {
    "duration": 6,
    "start_time": "2021-12-25T09:23:17.233Z"
   },
   {
    "duration": 12,
    "start_time": "2021-12-25T09:23:17.241Z"
   },
   {
    "duration": 9935,
    "start_time": "2021-12-25T09:23:17.255Z"
   },
   {
    "duration": 88,
    "start_time": "2021-12-25T09:23:35.854Z"
   },
   {
    "duration": 8,
    "start_time": "2021-12-25T09:24:27.478Z"
   },
   {
    "duration": 8,
    "start_time": "2021-12-25T09:25:02.245Z"
   },
   {
    "duration": 8,
    "start_time": "2021-12-25T09:25:12.941Z"
   },
   {
    "duration": 39,
    "start_time": "2021-12-25T09:25:22.966Z"
   },
   {
    "duration": 330,
    "start_time": "2021-12-25T09:27:31.331Z"
   },
   {
    "duration": 322,
    "start_time": "2021-12-25T09:27:36.598Z"
   },
   {
    "duration": 46,
    "start_time": "2021-12-25T09:28:44.411Z"
   },
   {
    "duration": 43,
    "start_time": "2021-12-25T09:28:58.775Z"
   },
   {
    "duration": 44,
    "start_time": "2021-12-25T09:29:13.351Z"
   },
   {
    "duration": 11,
    "start_time": "2021-12-25T09:30:08.892Z"
   },
   {
    "duration": 7,
    "start_time": "2021-12-25T09:41:44.196Z"
   },
   {
    "duration": 8,
    "start_time": "2021-12-25T09:42:11.815Z"
   },
   {
    "duration": 8,
    "start_time": "2021-12-25T09:45:09.845Z"
   },
   {
    "duration": 22,
    "start_time": "2021-12-25T09:46:44.804Z"
   },
   {
    "duration": 13,
    "start_time": "2021-12-25T09:46:52.975Z"
   },
   {
    "duration": 15,
    "start_time": "2021-12-25T09:47:10.191Z"
   },
   {
    "duration": 17,
    "start_time": "2021-12-25T09:47:36.391Z"
   },
   {
    "duration": 19,
    "start_time": "2021-12-25T09:47:49.472Z"
   },
   {
    "duration": 372,
    "start_time": "2021-12-25T10:45:26.330Z"
   },
   {
    "duration": 1523,
    "start_time": "2021-12-25T10:45:48.307Z"
   },
   {
    "duration": 6,
    "start_time": "2021-12-25T11:13:43.924Z"
   },
   {
    "duration": 7,
    "start_time": "2021-12-25T11:13:50.873Z"
   },
   {
    "duration": 6,
    "start_time": "2021-12-25T11:13:55.880Z"
   },
   {
    "duration": 492,
    "start_time": "2021-12-25T11:18:16.284Z"
   },
   {
    "duration": 4,
    "start_time": "2021-12-25T11:25:07.868Z"
   },
   {
    "duration": 8439,
    "start_time": "2021-12-25T11:26:38.596Z"
   },
   {
    "duration": 4,
    "start_time": "2021-12-25T11:27:02.103Z"
   },
   {
    "duration": 20,
    "start_time": "2021-12-25T11:27:34.081Z"
   },
   {
    "duration": 2,
    "start_time": "2021-12-25T11:28:32.538Z"
   },
   {
    "duration": 92,
    "start_time": "2021-12-25T11:28:32.542Z"
   },
   {
    "duration": 30,
    "start_time": "2021-12-25T11:28:32.636Z"
   },
   {
    "duration": 266,
    "start_time": "2021-12-25T11:28:32.667Z"
   },
   {
    "duration": 5,
    "start_time": "2021-12-25T11:28:32.935Z"
   },
   {
    "duration": 17,
    "start_time": "2021-12-25T11:28:32.942Z"
   },
   {
    "duration": 5,
    "start_time": "2021-12-25T11:28:32.962Z"
   },
   {
    "duration": 18,
    "start_time": "2021-12-25T11:28:32.969Z"
   },
   {
    "duration": 44,
    "start_time": "2021-12-25T11:28:32.989Z"
   },
   {
    "duration": 7,
    "start_time": "2021-12-25T11:28:33.035Z"
   },
   {
    "duration": 14,
    "start_time": "2021-12-25T11:28:33.043Z"
   },
   {
    "duration": 8,
    "start_time": "2021-12-25T11:28:33.058Z"
   },
   {
    "duration": 12,
    "start_time": "2021-12-25T11:28:33.068Z"
   },
   {
    "duration": 11,
    "start_time": "2021-12-25T11:28:33.082Z"
   },
   {
    "duration": 37,
    "start_time": "2021-12-25T11:28:33.095Z"
   },
   {
    "duration": 14,
    "start_time": "2021-12-25T11:28:33.135Z"
   },
   {
    "duration": 25,
    "start_time": "2021-12-25T11:28:33.151Z"
   },
   {
    "duration": 574,
    "start_time": "2021-12-25T11:28:33.178Z"
   },
   {
    "duration": 4,
    "start_time": "2021-12-25T11:28:33.756Z"
   },
   {
    "duration": 7,
    "start_time": "2021-12-25T11:28:33.762Z"
   },
   {
    "duration": 21,
    "start_time": "2021-12-25T11:28:36.330Z"
   },
   {
    "duration": 11,
    "start_time": "2021-12-25T11:29:14.371Z"
   },
   {
    "duration": 21,
    "start_time": "2021-12-25T11:29:25.929Z"
   },
   {
    "duration": 30,
    "start_time": "2021-12-25T11:29:39.266Z"
   },
   {
    "duration": 142,
    "start_time": "2021-12-25T11:33:28.545Z"
   },
   {
    "duration": 212,
    "start_time": "2021-12-25T11:33:51.103Z"
   },
   {
    "duration": 223,
    "start_time": "2021-12-25T11:34:14.401Z"
   },
   {
    "duration": 223,
    "start_time": "2021-12-25T11:35:30.081Z"
   },
   {
    "duration": 264,
    "start_time": "2021-12-25T11:36:24.770Z"
   },
   {
    "duration": 210,
    "start_time": "2021-12-25T11:36:33.842Z"
   },
   {
    "duration": 217,
    "start_time": "2021-12-25T11:36:39.746Z"
   },
   {
    "duration": 214,
    "start_time": "2021-12-25T11:36:44.170Z"
   },
   {
    "duration": 213,
    "start_time": "2021-12-25T11:36:57.354Z"
   },
   {
    "duration": 273,
    "start_time": "2021-12-25T11:37:04.130Z"
   },
   {
    "duration": 240,
    "start_time": "2021-12-25T11:37:49.177Z"
   },
   {
    "duration": 218,
    "start_time": "2021-12-25T11:38:33.346Z"
   },
   {
    "duration": 217,
    "start_time": "2021-12-25T11:38:49.587Z"
   },
   {
    "duration": 168,
    "start_time": "2021-12-25T11:39:00.882Z"
   },
   {
    "duration": 223,
    "start_time": "2021-12-25T11:40:08.819Z"
   },
   {
    "duration": 166,
    "start_time": "2021-12-25T11:40:18.202Z"
   },
   {
    "duration": 276,
    "start_time": "2021-12-25T11:40:29.978Z"
   },
   {
    "duration": 184,
    "start_time": "2021-12-25T11:40:36.490Z"
   },
   {
    "duration": 172,
    "start_time": "2021-12-25T11:40:41.794Z"
   },
   {
    "duration": 168,
    "start_time": "2021-12-25T11:40:50.602Z"
   },
   {
    "duration": 213,
    "start_time": "2021-12-25T11:40:55.010Z"
   },
   {
    "duration": 2,
    "start_time": "2021-12-25T17:52:19.810Z"
   },
   {
    "duration": 94,
    "start_time": "2021-12-25T17:52:19.814Z"
   },
   {
    "duration": 39,
    "start_time": "2021-12-25T17:52:19.910Z"
   },
   {
    "duration": 257,
    "start_time": "2021-12-25T17:52:19.951Z"
   },
   {
    "duration": 4,
    "start_time": "2021-12-25T17:52:20.210Z"
   },
   {
    "duration": 21,
    "start_time": "2021-12-25T17:52:20.215Z"
   },
   {
    "duration": 5,
    "start_time": "2021-12-25T17:52:20.239Z"
   },
   {
    "duration": 12,
    "start_time": "2021-12-25T17:52:20.247Z"
   },
   {
    "duration": 6,
    "start_time": "2021-12-25T17:52:20.261Z"
   },
   {
    "duration": 5,
    "start_time": "2021-12-25T17:52:20.269Z"
   },
   {
    "duration": 10,
    "start_time": "2021-12-25T17:52:20.276Z"
   },
   {
    "duration": 9,
    "start_time": "2021-12-25T17:52:20.328Z"
   },
   {
    "duration": 6,
    "start_time": "2021-12-25T17:52:20.339Z"
   },
   {
    "duration": 6,
    "start_time": "2021-12-25T17:52:20.347Z"
   },
   {
    "duration": 10,
    "start_time": "2021-12-25T17:52:20.355Z"
   },
   {
    "duration": 11,
    "start_time": "2021-12-25T17:52:20.367Z"
   },
   {
    "duration": 55,
    "start_time": "2021-12-25T17:52:20.380Z"
   },
   {
    "duration": 552,
    "start_time": "2021-12-25T17:52:20.436Z"
   },
   {
    "duration": 3,
    "start_time": "2021-12-25T17:52:20.991Z"
   },
   {
    "duration": 21,
    "start_time": "2021-12-25T17:52:20.996Z"
   },
   {
    "duration": 39,
    "start_time": "2021-12-25T17:52:21.019Z"
   },
   {
    "duration": 228,
    "start_time": "2021-12-25T17:52:21.060Z"
   },
   {
    "duration": 252,
    "start_time": "2021-12-25T17:52:21.290Z"
   },
   {
    "duration": 173,
    "start_time": "2021-12-25T17:52:21.544Z"
   },
   {
    "duration": 234,
    "start_time": "2021-12-25T17:52:21.718Z"
   },
   {
    "duration": 433,
    "start_time": "2021-12-26T05:49:04.618Z"
   },
   {
    "duration": 797,
    "start_time": "2021-12-26T05:49:10.957Z"
   },
   {
    "duration": 144,
    "start_time": "2021-12-26T05:49:11.759Z"
   },
   {
    "duration": 69,
    "start_time": "2021-12-26T05:49:11.906Z"
   },
   {
    "duration": 554,
    "start_time": "2021-12-26T05:49:11.977Z"
   },
   {
    "duration": 6,
    "start_time": "2021-12-26T05:49:12.534Z"
   },
   {
    "duration": 35,
    "start_time": "2021-12-26T05:49:12.542Z"
   },
   {
    "duration": 8,
    "start_time": "2021-12-26T05:49:12.579Z"
   },
   {
    "duration": 19,
    "start_time": "2021-12-26T05:49:12.591Z"
   },
   {
    "duration": 7,
    "start_time": "2021-12-26T05:49:12.613Z"
   },
   {
    "duration": 8,
    "start_time": "2021-12-26T05:49:12.660Z"
   },
   {
    "duration": 17,
    "start_time": "2021-12-26T05:49:12.672Z"
   },
   {
    "duration": 14,
    "start_time": "2021-12-26T05:49:12.692Z"
   },
   {
    "duration": 58,
    "start_time": "2021-12-26T05:49:12.708Z"
   },
   {
    "duration": 9,
    "start_time": "2021-12-26T05:49:12.769Z"
   },
   {
    "duration": 16,
    "start_time": "2021-12-26T05:49:12.781Z"
   },
   {
    "duration": 18,
    "start_time": "2021-12-26T05:49:12.799Z"
   },
   {
    "duration": 64,
    "start_time": "2021-12-26T05:49:12.819Z"
   },
   {
    "duration": 844,
    "start_time": "2021-12-26T05:49:12.885Z"
   },
   {
    "duration": 5,
    "start_time": "2021-12-26T05:49:13.731Z"
   },
   {
    "duration": 20,
    "start_time": "2021-12-26T05:49:13.739Z"
   },
   {
    "duration": 52,
    "start_time": "2021-12-26T05:49:13.762Z"
   },
   {
    "duration": 428,
    "start_time": "2021-12-26T05:49:13.816Z"
   },
   {
    "duration": 445,
    "start_time": "2021-12-26T05:49:14.249Z"
   },
   {
    "duration": 322,
    "start_time": "2021-12-26T05:49:14.697Z"
   },
   {
    "duration": 420,
    "start_time": "2021-12-26T05:49:15.021Z"
   },
   {
    "duration": 439,
    "start_time": "2021-12-26T05:49:58.637Z"
   },
   {
    "duration": 436,
    "start_time": "2021-12-26T05:50:21.436Z"
   },
   {
    "duration": 404,
    "start_time": "2021-12-26T05:50:37.292Z"
   },
   {
    "duration": 488,
    "start_time": "2021-12-26T05:50:54.741Z"
   },
   {
    "duration": 441,
    "start_time": "2021-12-26T05:51:14.452Z"
   },
   {
    "duration": 416,
    "start_time": "2021-12-26T06:07:39.357Z"
   },
   {
    "duration": 468,
    "start_time": "2021-12-26T06:08:01.969Z"
   },
   {
    "duration": 3,
    "start_time": "2021-12-26T06:11:47.979Z"
   },
   {
    "duration": 415,
    "start_time": "2021-12-26T06:12:50.669Z"
   },
   {
    "duration": 245,
    "start_time": "2021-12-26T06:13:18.317Z"
   },
   {
    "duration": 213,
    "start_time": "2021-12-26T06:16:30.310Z"
   },
   {
    "duration": 208,
    "start_time": "2021-12-26T06:16:37.916Z"
   },
   {
    "duration": 203,
    "start_time": "2021-12-26T06:16:49.949Z"
   },
   {
    "duration": 196,
    "start_time": "2021-12-26T06:16:56.669Z"
   },
   {
    "duration": 316,
    "start_time": "2021-12-26T06:20:18.637Z"
   },
   {
    "duration": 8,
    "start_time": "2021-12-26T06:29:23.461Z"
   },
   {
    "duration": 9,
    "start_time": "2021-12-26T06:30:25.194Z"
   },
   {
    "duration": 9,
    "start_time": "2021-12-26T06:30:43.686Z"
   },
   {
    "duration": 8,
    "start_time": "2021-12-26T06:31:07.317Z"
   },
   {
    "duration": 8,
    "start_time": "2021-12-26T06:32:22.373Z"
   },
   {
    "duration": 8,
    "start_time": "2021-12-26T06:33:16.254Z"
   },
   {
    "duration": 1548,
    "start_time": "2021-12-26T06:33:55.797Z"
   },
   {
    "duration": 9,
    "start_time": "2021-12-26T06:34:57.997Z"
   },
   {
    "duration": 8,
    "start_time": "2021-12-26T06:35:26.829Z"
   },
   {
    "duration": 9,
    "start_time": "2021-12-26T06:35:45.997Z"
   },
   {
    "duration": 508,
    "start_time": "2021-12-26T06:38:30.005Z"
   },
   {
    "duration": 388,
    "start_time": "2021-12-26T06:42:58.610Z"
   },
   {
    "duration": 377,
    "start_time": "2021-12-26T06:43:07.372Z"
   },
   {
    "duration": 26,
    "start_time": "2021-12-26T06:44:35.716Z"
   },
   {
    "duration": 20,
    "start_time": "2021-12-26T06:44:46.482Z"
   },
   {
    "duration": 370,
    "start_time": "2021-12-26T06:45:48.908Z"
   },
   {
    "duration": 21,
    "start_time": "2021-12-26T06:46:04.132Z"
   },
   {
    "duration": 22,
    "start_time": "2021-12-26T06:46:30.245Z"
   },
   {
    "duration": 16,
    "start_time": "2021-12-26T06:47:31.204Z"
   },
   {
    "duration": 21,
    "start_time": "2021-12-26T06:47:52.348Z"
   },
   {
    "duration": 22,
    "start_time": "2021-12-26T06:48:16.621Z"
   },
   {
    "duration": 22,
    "start_time": "2021-12-26T06:48:30.885Z"
   },
   {
    "duration": 22,
    "start_time": "2021-12-26T06:48:41.508Z"
   },
   {
    "duration": 127,
    "start_time": "2021-12-26T06:48:49.708Z"
   },
   {
    "duration": 22,
    "start_time": "2021-12-26T06:48:52.668Z"
   },
   {
    "duration": 60,
    "start_time": "2021-12-26T06:51:11.642Z"
   },
   {
    "duration": 7,
    "start_time": "2021-12-26T06:51:55.634Z"
   },
   {
    "duration": 7,
    "start_time": "2021-12-26T07:01:42.052Z"
   },
   {
    "duration": 12,
    "start_time": "2021-12-26T07:01:51.901Z"
   },
   {
    "duration": 922,
    "start_time": "2021-12-26T11:01:34.841Z"
   },
   {
    "duration": 140,
    "start_time": "2021-12-26T11:01:35.765Z"
   },
   {
    "duration": 72,
    "start_time": "2021-12-26T11:01:35.908Z"
   },
   {
    "duration": 478,
    "start_time": "2021-12-26T11:01:35.983Z"
   },
   {
    "duration": 5,
    "start_time": "2021-12-26T11:01:36.467Z"
   },
   {
    "duration": 23,
    "start_time": "2021-12-26T11:01:36.475Z"
   },
   {
    "duration": 13,
    "start_time": "2021-12-26T11:01:36.500Z"
   },
   {
    "duration": 19,
    "start_time": "2021-12-26T11:01:36.517Z"
   },
   {
    "duration": 8,
    "start_time": "2021-12-26T11:01:36.568Z"
   },
   {
    "duration": 11,
    "start_time": "2021-12-26T11:01:36.578Z"
   },
   {
    "duration": 21,
    "start_time": "2021-12-26T11:01:36.591Z"
   },
   {
    "duration": 12,
    "start_time": "2021-12-26T11:01:36.614Z"
   },
   {
    "duration": 41,
    "start_time": "2021-12-26T11:01:36.628Z"
   },
   {
    "duration": 12,
    "start_time": "2021-12-26T11:01:36.672Z"
   },
   {
    "duration": 26,
    "start_time": "2021-12-26T11:01:36.686Z"
   },
   {
    "duration": 22,
    "start_time": "2021-12-26T11:01:36.714Z"
   },
   {
    "duration": 51,
    "start_time": "2021-12-26T11:01:36.738Z"
   },
   {
    "duration": 881,
    "start_time": "2021-12-26T11:01:36.792Z"
   },
   {
    "duration": 4,
    "start_time": "2021-12-26T11:01:37.676Z"
   },
   {
    "duration": 7,
    "start_time": "2021-12-26T11:01:37.683Z"
   },
   {
    "duration": 77,
    "start_time": "2021-12-26T11:01:37.693Z"
   },
   {
    "duration": 457,
    "start_time": "2021-12-26T11:01:37.773Z"
   },
   {
    "duration": 480,
    "start_time": "2021-12-26T11:01:38.235Z"
   },
   {
    "duration": 344,
    "start_time": "2021-12-26T11:01:38.718Z"
   },
   {
    "duration": 455,
    "start_time": "2021-12-26T11:01:39.068Z"
   },
   {
    "duration": 485,
    "start_time": "2021-12-26T11:01:39.526Z"
   },
   {
    "duration": 270,
    "start_time": "2021-12-26T11:01:40.013Z"
   },
   {
    "duration": 9,
    "start_time": "2021-12-26T11:01:40.286Z"
   },
   {
    "duration": 9,
    "start_time": "2021-12-26T11:01:40.297Z"
   },
   {
    "duration": 8,
    "start_time": "2021-12-26T11:01:40.308Z"
   },
   {
    "duration": 1375,
    "start_time": "2021-12-26T11:01:40.319Z"
   },
   {
    "duration": 1460,
    "start_time": "2021-12-26T11:01:40.237Z"
   },
   {
    "duration": 1459,
    "start_time": "2021-12-26T11:01:40.239Z"
   },
   {
    "duration": 1456,
    "start_time": "2021-12-26T11:01:40.243Z"
   },
   {
    "duration": 1456,
    "start_time": "2021-12-26T11:01:40.244Z"
   },
   {
    "duration": 292,
    "start_time": "2021-12-26T13:10:20.497Z"
   },
   {
    "duration": 16,
    "start_time": "2021-12-26T13:10:36.467Z"
   },
   {
    "duration": 4,
    "start_time": "2021-12-26T13:10:42.069Z"
   },
   {
    "duration": 1807,
    "start_time": "2021-12-26T13:10:42.075Z"
   },
   {
    "duration": 60,
    "start_time": "2021-12-26T13:10:43.885Z"
   },
   {
    "duration": 455,
    "start_time": "2021-12-26T13:10:43.967Z"
   },
   {
    "duration": 6,
    "start_time": "2021-12-26T13:10:44.425Z"
   },
   {
    "duration": 39,
    "start_time": "2021-12-26T13:10:44.434Z"
   },
   {
    "duration": 7,
    "start_time": "2021-12-26T13:10:44.477Z"
   },
   {
    "duration": 20,
    "start_time": "2021-12-26T13:10:44.487Z"
   },
   {
    "duration": 7,
    "start_time": "2021-12-26T13:10:44.510Z"
   },
   {
    "duration": 6,
    "start_time": "2021-12-26T13:10:44.519Z"
   },
   {
    "duration": 14,
    "start_time": "2021-12-26T13:10:44.568Z"
   },
   {
    "duration": 12,
    "start_time": "2021-12-26T13:10:44.584Z"
   },
   {
    "duration": 11,
    "start_time": "2021-12-26T13:10:44.599Z"
   },
   {
    "duration": 8,
    "start_time": "2021-12-26T13:10:44.613Z"
   },
   {
    "duration": 50,
    "start_time": "2021-12-26T13:10:44.623Z"
   },
   {
    "duration": 15,
    "start_time": "2021-12-26T13:10:44.676Z"
   },
   {
    "duration": 30,
    "start_time": "2021-12-26T13:10:44.693Z"
   },
   {
    "duration": 948,
    "start_time": "2021-12-26T13:10:44.725Z"
   },
   {
    "duration": 6,
    "start_time": "2021-12-26T13:10:45.677Z"
   },
   {
    "duration": 8,
    "start_time": "2021-12-26T13:10:45.685Z"
   },
   {
    "duration": 76,
    "start_time": "2021-12-26T13:10:45.696Z"
   },
   {
    "duration": 466,
    "start_time": "2021-12-26T13:10:45.775Z"
   },
   {
    "duration": 481,
    "start_time": "2021-12-26T13:10:46.244Z"
   },
   {
    "duration": 351,
    "start_time": "2021-12-26T13:10:46.728Z"
   },
   {
    "duration": 461,
    "start_time": "2021-12-26T13:10:47.082Z"
   },
   {
    "duration": 480,
    "start_time": "2021-12-26T13:10:47.546Z"
   },
   {
    "duration": 234,
    "start_time": "2021-12-26T13:10:48.029Z"
   },
   {
    "duration": 9,
    "start_time": "2021-12-26T13:10:48.266Z"
   },
   {
    "duration": 10,
    "start_time": "2021-12-26T13:10:48.277Z"
   },
   {
    "duration": 9,
    "start_time": "2021-12-26T13:10:48.290Z"
   },
   {
    "duration": 2068,
    "start_time": "2021-12-26T13:10:48.301Z"
   },
   {
    "duration": -406,
    "start_time": "2021-12-26T13:10:50.778Z"
   },
   {
    "duration": -408,
    "start_time": "2021-12-26T13:10:50.782Z"
   },
   {
    "duration": -419,
    "start_time": "2021-12-26T13:10:50.795Z"
   },
   {
    "duration": -418,
    "start_time": "2021-12-26T13:10:50.796Z"
   },
   {
    "duration": 1715,
    "start_time": "2021-12-26T13:12:59.906Z"
   },
   {
    "duration": 951,
    "start_time": "2021-12-26T13:13:14.628Z"
   },
   {
    "duration": 4,
    "start_time": "2021-12-26T13:13:29.872Z"
   },
   {
    "duration": 166,
    "start_time": "2021-12-26T13:13:29.878Z"
   },
   {
    "duration": 69,
    "start_time": "2021-12-26T13:13:30.047Z"
   },
   {
    "duration": 486,
    "start_time": "2021-12-26T13:13:30.119Z"
   },
   {
    "duration": 7,
    "start_time": "2021-12-26T13:13:30.608Z"
   },
   {
    "duration": 25,
    "start_time": "2021-12-26T13:13:30.618Z"
   },
   {
    "duration": 8,
    "start_time": "2021-12-26T13:13:30.667Z"
   },
   {
    "duration": 29,
    "start_time": "2021-12-26T13:13:30.678Z"
   },
   {
    "duration": 8,
    "start_time": "2021-12-26T13:13:30.709Z"
   },
   {
    "duration": 23,
    "start_time": "2021-12-26T13:13:30.719Z"
   },
   {
    "duration": 32,
    "start_time": "2021-12-26T13:13:30.744Z"
   },
   {
    "duration": 24,
    "start_time": "2021-12-26T13:13:30.778Z"
   },
   {
    "duration": 20,
    "start_time": "2021-12-26T13:13:30.805Z"
   },
   {
    "duration": 21,
    "start_time": "2021-12-26T13:13:30.827Z"
   },
   {
    "duration": 42,
    "start_time": "2021-12-26T13:13:30.851Z"
   },
   {
    "duration": 19,
    "start_time": "2021-12-26T13:13:30.896Z"
   },
   {
    "duration": 81,
    "start_time": "2021-12-26T13:13:30.918Z"
   },
   {
    "duration": 1830,
    "start_time": "2021-12-26T13:13:31.002Z"
   },
   {
    "duration": 6,
    "start_time": "2021-12-26T13:13:32.836Z"
   },
   {
    "duration": 23,
    "start_time": "2021-12-26T13:13:32.844Z"
   },
   {
    "duration": 51,
    "start_time": "2021-12-26T13:13:32.870Z"
   },
   {
    "duration": 445,
    "start_time": "2021-12-26T13:13:32.924Z"
   },
   {
    "duration": 580,
    "start_time": "2021-12-26T13:13:33.372Z"
   },
   {
    "duration": 343,
    "start_time": "2021-12-26T13:13:33.954Z"
   },
   {
    "duration": 456,
    "start_time": "2021-12-26T13:13:34.300Z"
   },
   {
    "duration": 451,
    "start_time": "2021-12-26T13:13:34.759Z"
   },
   {
    "duration": 230,
    "start_time": "2021-12-26T13:13:35.213Z"
   },
   {
    "duration": 24,
    "start_time": "2021-12-26T13:13:35.445Z"
   },
   {
    "duration": 7,
    "start_time": "2021-12-26T13:13:35.471Z"
   },
   {
    "duration": 17,
    "start_time": "2021-12-26T13:13:35.480Z"
   },
   {
    "duration": 858,
    "start_time": "2021-12-26T13:13:35.499Z"
   },
   {
    "duration": -391,
    "start_time": "2021-12-26T13:13:36.751Z"
   },
   {
    "duration": -393,
    "start_time": "2021-12-26T13:13:36.754Z"
   },
   {
    "duration": -394,
    "start_time": "2021-12-26T13:13:36.756Z"
   },
   {
    "duration": -393,
    "start_time": "2021-12-26T13:13:36.757Z"
   },
   {
    "duration": 1844,
    "start_time": "2021-12-26T13:13:57.785Z"
   },
   {
    "duration": 9,
    "start_time": "2021-12-26T13:14:12.180Z"
   },
   {
    "duration": 9,
    "start_time": "2021-12-26T13:14:22.296Z"
   },
   {
    "duration": 7,
    "start_time": "2021-12-26T13:14:22.308Z"
   },
   {
    "duration": 7,
    "start_time": "2021-12-26T13:14:22.318Z"
   },
   {
    "duration": 17,
    "start_time": "2021-12-26T13:14:22.327Z"
   },
   {
    "duration": 24,
    "start_time": "2021-12-26T13:14:40.107Z"
   },
   {
    "duration": 25,
    "start_time": "2021-12-26T13:17:54.962Z"
   },
   {
    "duration": 25,
    "start_time": "2021-12-26T13:18:19.988Z"
   },
   {
    "duration": 23,
    "start_time": "2021-12-26T13:18:44.564Z"
   },
   {
    "duration": 279,
    "start_time": "2021-12-26T13:19:47.740Z"
   },
   {
    "duration": 21,
    "start_time": "2021-12-26T13:19:55.915Z"
   },
   {
    "duration": 84,
    "start_time": "2021-12-26T13:20:56.293Z"
   },
   {
    "duration": 1355,
    "start_time": "2021-12-26T13:21:28.556Z"
   },
   {
    "duration": 22,
    "start_time": "2021-12-26T13:21:53.116Z"
   },
   {
    "duration": 1115,
    "start_time": "2021-12-26T13:23:01.057Z"
   },
   {
    "duration": 23,
    "start_time": "2021-12-26T13:23:33.997Z"
   },
   {
    "duration": 25,
    "start_time": "2021-12-26T13:24:43.876Z"
   },
   {
    "duration": 17,
    "start_time": "2021-12-26T13:27:26.745Z"
   },
   {
    "duration": 22,
    "start_time": "2021-12-26T13:27:36.964Z"
   },
   {
    "duration": 338,
    "start_time": "2021-12-26T13:28:17.802Z"
   },
   {
    "duration": 24,
    "start_time": "2021-12-26T13:28:26.452Z"
   },
   {
    "duration": 25,
    "start_time": "2021-12-26T13:28:37.092Z"
   },
   {
    "duration": 12,
    "start_time": "2021-12-26T13:32:26.561Z"
   },
   {
    "duration": 12,
    "start_time": "2021-12-26T13:33:18.154Z"
   },
   {
    "duration": 13,
    "start_time": "2021-12-26T13:38:09.510Z"
   },
   {
    "duration": 62,
    "start_time": "2021-12-26T13:38:20.844Z"
   },
   {
    "duration": 68,
    "start_time": "2021-12-26T13:41:00.101Z"
   },
   {
    "duration": 321,
    "start_time": "2021-12-26T13:41:33.517Z"
   },
   {
    "duration": 4873,
    "start_time": "2021-12-26T13:41:48.485Z"
   },
   {
    "duration": 5328,
    "start_time": "2021-12-26T13:42:48.077Z"
   },
   {
    "duration": 7969,
    "start_time": "2021-12-26T13:46:43.093Z"
   },
   {
    "duration": 19,
    "start_time": "2021-12-26T13:47:13.909Z"
   },
   {
    "duration": 16,
    "start_time": "2021-12-26T13:47:21.940Z"
   },
   {
    "duration": 4395,
    "start_time": "2021-12-26T13:48:30.037Z"
   },
   {
    "duration": 3683,
    "start_time": "2021-12-26T13:49:35.046Z"
   },
   {
    "duration": 458,
    "start_time": "2021-12-26T13:50:07.093Z"
   },
   {
    "duration": 3,
    "start_time": "2021-12-26T13:50:22.236Z"
   },
   {
    "duration": 149,
    "start_time": "2021-12-26T13:50:22.246Z"
   },
   {
    "duration": 72,
    "start_time": "2021-12-26T13:50:22.398Z"
   },
   {
    "duration": 638,
    "start_time": "2021-12-26T13:50:22.473Z"
   },
   {
    "duration": 6,
    "start_time": "2021-12-26T13:50:23.114Z"
   },
   {
    "duration": 28,
    "start_time": "2021-12-26T13:50:23.122Z"
   },
   {
    "duration": 11,
    "start_time": "2021-12-26T13:50:23.152Z"
   },
   {
    "duration": 20,
    "start_time": "2021-12-26T13:50:23.165Z"
   },
   {
    "duration": 7,
    "start_time": "2021-12-26T13:50:23.187Z"
   },
   {
    "duration": 8,
    "start_time": "2021-12-26T13:50:23.199Z"
   },
   {
    "duration": 15,
    "start_time": "2021-12-26T13:50:23.211Z"
   },
   {
    "duration": 12,
    "start_time": "2021-12-26T13:50:23.228Z"
   },
   {
    "duration": 8,
    "start_time": "2021-12-26T13:50:23.242Z"
   },
   {
    "duration": 24,
    "start_time": "2021-12-26T13:50:23.252Z"
   },
   {
    "duration": 22,
    "start_time": "2021-12-26T13:50:23.279Z"
   },
   {
    "duration": 16,
    "start_time": "2021-12-26T13:50:23.303Z"
   },
   {
    "duration": 31,
    "start_time": "2021-12-26T13:50:23.321Z"
   },
   {
    "duration": 2102,
    "start_time": "2021-12-26T13:50:23.355Z"
   },
   {
    "duration": 6,
    "start_time": "2021-12-26T13:50:25.468Z"
   },
   {
    "duration": 10,
    "start_time": "2021-12-26T13:50:25.477Z"
   },
   {
    "duration": 78,
    "start_time": "2021-12-26T13:50:25.489Z"
   },
   {
    "duration": 461,
    "start_time": "2021-12-26T13:50:25.570Z"
   },
   {
    "duration": 480,
    "start_time": "2021-12-26T13:50:26.033Z"
   },
   {
    "duration": 337,
    "start_time": "2021-12-26T13:50:26.515Z"
   },
   {
    "duration": 445,
    "start_time": "2021-12-26T13:50:26.855Z"
   },
   {
    "duration": 589,
    "start_time": "2021-12-26T13:50:27.303Z"
   },
   {
    "duration": 238,
    "start_time": "2021-12-26T13:50:27.895Z"
   },
   {
    "duration": 7,
    "start_time": "2021-12-26T13:50:28.138Z"
   },
   {
    "duration": 24,
    "start_time": "2021-12-26T13:50:28.148Z"
   },
   {
    "duration": 7,
    "start_time": "2021-12-26T13:50:28.175Z"
   },
   {
    "duration": 8,
    "start_time": "2021-12-26T13:50:28.184Z"
   },
   {
    "duration": 7,
    "start_time": "2021-12-26T13:50:28.194Z"
   },
   {
    "duration": 8,
    "start_time": "2021-12-26T13:50:28.203Z"
   },
   {
    "duration": 62,
    "start_time": "2021-12-26T13:50:28.213Z"
   },
   {
    "duration": 22,
    "start_time": "2021-12-26T13:50:28.278Z"
   },
   {
    "duration": 66,
    "start_time": "2021-12-26T13:50:28.303Z"
   },
   {
    "duration": 13,
    "start_time": "2021-12-26T13:50:28.372Z"
   },
   {
    "duration": 420,
    "start_time": "2021-12-26T13:50:28.388Z"
   },
   {
    "duration": 670,
    "start_time": "2021-12-26T13:51:08.777Z"
   },
   {
    "duration": 449,
    "start_time": "2021-12-26T13:51:23.237Z"
   },
   {
    "duration": 1807,
    "start_time": "2021-12-26T13:52:21.430Z"
   },
   {
    "duration": 1014,
    "start_time": "2021-12-26T14:03:13.590Z"
   },
   {
    "duration": 1269,
    "start_time": "2021-12-26T14:03:22.398Z"
   },
   {
    "duration": 64,
    "start_time": "2021-12-26T14:19:09.994Z"
   },
   {
    "duration": 17,
    "start_time": "2021-12-26T14:19:35.001Z"
   },
   {
    "duration": 18,
    "start_time": "2021-12-26T14:28:17.029Z"
   },
   {
    "duration": 15,
    "start_time": "2021-12-26T14:28:25.182Z"
   },
   {
    "duration": 10557,
    "start_time": "2021-12-26T14:50:36.728Z"
   },
   {
    "duration": 17,
    "start_time": "2021-12-26T14:51:01.342Z"
   },
   {
    "duration": 166,
    "start_time": "2021-12-26T14:51:13.118Z"
   },
   {
    "duration": 19,
    "start_time": "2021-12-26T14:51:20.533Z"
   },
   {
    "duration": 10,
    "start_time": "2021-12-26T17:04:01.128Z"
   },
   {
    "duration": 70,
    "start_time": "2021-12-26T17:04:33.181Z"
   },
   {
    "duration": 93,
    "start_time": "2021-12-26T17:08:22.035Z"
   },
   {
    "duration": 8,
    "start_time": "2021-12-26T17:08:34.802Z"
   },
   {
    "duration": 16,
    "start_time": "2021-12-26T17:17:04.155Z"
   },
   {
    "duration": 18,
    "start_time": "2021-12-26T17:17:12.563Z"
   },
   {
    "duration": 1308,
    "start_time": "2021-12-26T17:17:46.260Z"
   },
   {
    "duration": 8,
    "start_time": "2021-12-26T17:19:30.404Z"
   },
   {
    "duration": 8,
    "start_time": "2021-12-26T17:19:43.867Z"
   },
   {
    "duration": 25,
    "start_time": "2021-12-26T17:23:02.561Z"
   },
   {
    "duration": 1349,
    "start_time": "2021-12-26T17:23:57.443Z"
   },
   {
    "duration": 8,
    "start_time": "2021-12-26T17:24:39.404Z"
   },
   {
    "duration": 8,
    "start_time": "2021-12-26T17:26:27.668Z"
   },
   {
    "duration": 8,
    "start_time": "2021-12-26T17:30:25.712Z"
   },
   {
    "duration": 311,
    "start_time": "2021-12-26T17:32:20.139Z"
   },
   {
    "duration": 6,
    "start_time": "2021-12-26T17:33:22.692Z"
   },
   {
    "duration": 21,
    "start_time": "2021-12-26T17:36:45.529Z"
   },
   {
    "duration": 20,
    "start_time": "2021-12-26T17:38:01.410Z"
   },
   {
    "duration": 21,
    "start_time": "2021-12-26T17:38:11.548Z"
   },
   {
    "duration": 47,
    "start_time": "2021-12-26T17:41:52.758Z"
   },
   {
    "duration": 23,
    "start_time": "2021-12-26T17:42:12.861Z"
   },
   {
    "duration": 97,
    "start_time": "2021-12-26T17:44:53.802Z"
   },
   {
    "duration": 29,
    "start_time": "2021-12-26T17:45:03.925Z"
   },
   {
    "duration": 30,
    "start_time": "2021-12-26T17:45:46.909Z"
   },
   {
    "duration": 319,
    "start_time": "2021-12-26T17:46:05.621Z"
   },
   {
    "duration": 30,
    "start_time": "2021-12-26T19:05:10.908Z"
   },
   {
    "duration": 34,
    "start_time": "2021-12-26T19:05:22.894Z"
   },
   {
    "duration": 36,
    "start_time": "2021-12-26T19:05:58.750Z"
   },
   {
    "duration": 276,
    "start_time": "2021-12-26T19:09:50.920Z"
   },
   {
    "duration": 872,
    "start_time": "2021-12-27T02:08:34.199Z"
   },
   {
    "duration": 645,
    "start_time": "2021-12-27T02:08:40.074Z"
   },
   {
    "duration": 98,
    "start_time": "2021-12-27T02:08:40.721Z"
   },
   {
    "duration": 40,
    "start_time": "2021-12-27T02:08:40.821Z"
   },
   {
    "duration": 279,
    "start_time": "2021-12-27T02:08:40.863Z"
   },
   {
    "duration": 5,
    "start_time": "2021-12-27T02:08:41.143Z"
   },
   {
    "duration": 20,
    "start_time": "2021-12-27T02:08:41.149Z"
   },
   {
    "duration": 5,
    "start_time": "2021-12-27T02:08:41.171Z"
   },
   {
    "duration": 12,
    "start_time": "2021-12-27T02:08:41.178Z"
   },
   {
    "duration": 4,
    "start_time": "2021-12-27T02:08:41.192Z"
   },
   {
    "duration": 4,
    "start_time": "2021-12-27T02:08:41.198Z"
   },
   {
    "duration": 13,
    "start_time": "2021-12-27T02:08:41.204Z"
   },
   {
    "duration": 43,
    "start_time": "2021-12-27T02:08:41.218Z"
   },
   {
    "duration": 7,
    "start_time": "2021-12-27T02:08:41.262Z"
   },
   {
    "duration": 7,
    "start_time": "2021-12-27T02:08:41.271Z"
   },
   {
    "duration": 10,
    "start_time": "2021-12-27T02:08:41.280Z"
   },
   {
    "duration": 16,
    "start_time": "2021-12-27T02:08:41.292Z"
   },
   {
    "duration": 55,
    "start_time": "2021-12-27T02:08:41.310Z"
   },
   {
    "duration": 994,
    "start_time": "2021-12-27T02:08:41.367Z"
   },
   {
    "duration": 4,
    "start_time": "2021-12-27T02:08:42.363Z"
   },
   {
    "duration": 5,
    "start_time": "2021-12-27T02:08:42.369Z"
   },
   {
    "duration": 34,
    "start_time": "2021-12-27T02:08:42.376Z"
   },
   {
    "duration": 276,
    "start_time": "2021-12-27T02:08:42.412Z"
   },
   {
    "duration": 262,
    "start_time": "2021-12-27T02:08:42.691Z"
   },
   {
    "duration": 195,
    "start_time": "2021-12-27T02:08:42.955Z"
   },
   {
    "duration": 254,
    "start_time": "2021-12-27T02:08:43.152Z"
   },
   {
    "duration": 257,
    "start_time": "2021-12-27T02:08:43.408Z"
   },
   {
    "duration": 188,
    "start_time": "2021-12-27T02:08:43.667Z"
   },
   {
    "duration": 7,
    "start_time": "2021-12-27T02:08:43.857Z"
   },
   {
    "duration": 5,
    "start_time": "2021-12-27T02:08:43.865Z"
   },
   {
    "duration": 6,
    "start_time": "2021-12-27T02:08:43.872Z"
   },
   {
    "duration": 5,
    "start_time": "2021-12-27T02:08:43.879Z"
   },
   {
    "duration": 5,
    "start_time": "2021-12-27T02:08:43.886Z"
   },
   {
    "duration": 5,
    "start_time": "2021-12-27T02:08:43.892Z"
   },
   {
    "duration": 5,
    "start_time": "2021-12-27T02:08:43.898Z"
   },
   {
    "duration": 333,
    "start_time": "2021-12-27T02:08:43.904Z"
   },
   {
    "duration": 543,
    "start_time": "2021-12-27T02:08:43.696Z"
   },
   {
    "duration": 541,
    "start_time": "2021-12-27T02:08:43.699Z"
   },
   {
    "duration": 540,
    "start_time": "2021-12-27T02:08:43.701Z"
   },
   {
    "duration": 540,
    "start_time": "2021-12-27T02:08:43.702Z"
   },
   {
    "duration": 534,
    "start_time": "2021-12-27T02:08:43.709Z"
   },
   {
    "duration": 533,
    "start_time": "2021-12-27T02:08:43.711Z"
   },
   {
    "duration": 271,
    "start_time": "2021-12-27T02:09:12.729Z"
   },
   {
    "duration": 15,
    "start_time": "2021-12-27T02:09:56.753Z"
   },
   {
    "duration": 17,
    "start_time": "2021-12-27T02:10:04.993Z"
   },
   {
    "duration": 9,
    "start_time": "2021-12-27T02:10:09.930Z"
   },
   {
    "duration": 19,
    "start_time": "2021-12-27T02:10:18.670Z"
   },
   {
    "duration": 5,
    "start_time": "2021-12-27T02:10:18.691Z"
   },
   {
    "duration": 24,
    "start_time": "2021-12-27T02:10:18.698Z"
   },
   {
    "duration": 181,
    "start_time": "2021-12-27T02:10:18.724Z"
   },
   {
    "duration": 91,
    "start_time": "2021-12-27T02:10:38.617Z"
   },
   {
    "duration": 164,
    "start_time": "2021-12-27T02:10:45.273Z"
   },
   {
    "duration": 226,
    "start_time": "2021-12-27T02:10:59.666Z"
   },
   {
    "duration": 7,
    "start_time": "2021-12-27T02:13:48.482Z"
   },
   {
    "duration": 169,
    "start_time": "2021-12-27T02:14:22.362Z"
   },
   {
    "duration": 170,
    "start_time": "2021-12-27T02:14:55.105Z"
   },
   {
    "duration": 175,
    "start_time": "2021-12-27T02:15:05.066Z"
   },
   {
    "duration": 178,
    "start_time": "2021-12-27T02:15:19.194Z"
   },
   {
    "duration": 263,
    "start_time": "2021-12-27T02:15:58.706Z"
   },
   {
    "duration": 6,
    "start_time": "2021-12-27T02:16:08.250Z"
   },
   {
    "duration": 5,
    "start_time": "2021-12-27T02:16:19.394Z"
   },
   {
    "duration": 6,
    "start_time": "2021-12-27T02:16:46.178Z"
   },
   {
    "duration": 6694,
    "start_time": "2021-12-27T02:17:22.659Z"
   },
   {
    "duration": 261,
    "start_time": "2021-12-27T02:17:31.259Z"
   },
   {
    "duration": 4,
    "start_time": "2021-12-27T02:18:56.060Z"
   },
   {
    "duration": 5,
    "start_time": "2021-12-27T02:19:46.059Z"
   },
   {
    "duration": 10,
    "start_time": "2021-12-27T02:21:06.267Z"
   },
   {
    "duration": 6,
    "start_time": "2021-12-27T02:21:19.179Z"
   },
   {
    "duration": 7,
    "start_time": "2021-12-27T02:21:24.275Z"
   },
   {
    "duration": 6,
    "start_time": "2021-12-27T02:21:29.099Z"
   },
   {
    "duration": 6,
    "start_time": "2021-12-27T02:21:33.492Z"
   },
   {
    "duration": 6,
    "start_time": "2021-12-27T02:21:39.891Z"
   },
   {
    "duration": 7,
    "start_time": "2021-12-27T02:21:45.698Z"
   },
   {
    "duration": 7,
    "start_time": "2021-12-27T02:21:49.690Z"
   },
   {
    "duration": 407,
    "start_time": "2021-12-27T02:22:39.827Z"
   },
   {
    "duration": 12,
    "start_time": "2021-12-27T02:23:41.651Z"
   },
   {
    "duration": 3,
    "start_time": "2021-12-27T02:24:49.274Z"
   },
   {
    "duration": 130,
    "start_time": "2021-12-27T02:24:49.279Z"
   },
   {
    "duration": 51,
    "start_time": "2021-12-27T02:24:49.411Z"
   },
   {
    "duration": 278,
    "start_time": "2021-12-27T02:24:49.465Z"
   },
   {
    "duration": 4,
    "start_time": "2021-12-27T02:24:49.745Z"
   },
   {
    "duration": 16,
    "start_time": "2021-12-27T02:24:49.750Z"
   },
   {
    "duration": 6,
    "start_time": "2021-12-27T02:24:49.768Z"
   },
   {
    "duration": 14,
    "start_time": "2021-12-27T02:24:49.776Z"
   },
   {
    "duration": 5,
    "start_time": "2021-12-27T02:24:49.793Z"
   },
   {
    "duration": 9,
    "start_time": "2021-12-27T02:24:49.800Z"
   },
   {
    "duration": 21,
    "start_time": "2021-12-27T02:24:49.811Z"
   },
   {
    "duration": 28,
    "start_time": "2021-12-27T02:24:49.834Z"
   },
   {
    "duration": 5,
    "start_time": "2021-12-27T02:24:49.864Z"
   },
   {
    "duration": 6,
    "start_time": "2021-12-27T02:24:49.870Z"
   },
   {
    "duration": 98,
    "start_time": "2021-12-27T02:24:49.878Z"
   },
   {
    "duration": 12,
    "start_time": "2021-12-27T02:24:49.977Z"
   },
   {
    "duration": 21,
    "start_time": "2021-12-27T02:24:49.990Z"
   },
   {
    "duration": 932,
    "start_time": "2021-12-27T02:24:50.013Z"
   },
   {
    "duration": 3,
    "start_time": "2021-12-27T02:24:50.947Z"
   },
   {
    "duration": 11,
    "start_time": "2021-12-27T02:24:50.952Z"
   },
   {
    "duration": 37,
    "start_time": "2021-12-27T02:24:50.965Z"
   },
   {
    "duration": 252,
    "start_time": "2021-12-27T02:24:51.003Z"
   },
   {
    "duration": 271,
    "start_time": "2021-12-27T02:24:51.257Z"
   },
   {
    "duration": 206,
    "start_time": "2021-12-27T02:24:51.530Z"
   },
   {
    "duration": 266,
    "start_time": "2021-12-27T02:24:51.738Z"
   },
   {
    "duration": 354,
    "start_time": "2021-12-27T02:24:52.006Z"
   },
   {
    "duration": 129,
    "start_time": "2021-12-27T02:24:52.364Z"
   },
   {
    "duration": 8,
    "start_time": "2021-12-27T02:24:52.495Z"
   },
   {
    "duration": 16,
    "start_time": "2021-12-27T02:24:52.504Z"
   },
   {
    "duration": 8,
    "start_time": "2021-12-27T02:24:52.522Z"
   },
   {
    "duration": 9,
    "start_time": "2021-12-27T02:24:52.532Z"
   },
   {
    "duration": 22,
    "start_time": "2021-12-27T02:24:52.542Z"
   },
   {
    "duration": 5,
    "start_time": "2021-12-27T02:24:52.565Z"
   },
   {
    "duration": 5,
    "start_time": "2021-12-27T02:24:52.572Z"
   },
   {
    "duration": 6,
    "start_time": "2021-12-27T02:24:52.579Z"
   },
   {
    "duration": 17,
    "start_time": "2021-12-27T02:24:52.586Z"
   },
   {
    "duration": 14,
    "start_time": "2021-12-27T02:24:52.605Z"
   },
   {
    "duration": 45,
    "start_time": "2021-12-27T02:24:52.621Z"
   },
   {
    "duration": 21,
    "start_time": "2021-12-27T02:24:52.667Z"
   },
   {
    "duration": 7,
    "start_time": "2021-12-27T02:24:52.689Z"
   },
   {
    "duration": 39,
    "start_time": "2021-12-27T02:24:52.697Z"
   },
   {
    "duration": 213,
    "start_time": "2021-12-27T02:24:52.738Z"
   },
   {
    "duration": 10,
    "start_time": "2021-12-27T02:24:52.953Z"
   },
   {
    "duration": 191,
    "start_time": "2021-12-27T02:24:52.965Z"
   },
   {
    "duration": 182,
    "start_time": "2021-12-27T02:24:53.157Z"
   },
   {
    "duration": 194,
    "start_time": "2021-12-27T02:24:53.341Z"
   },
   {
    "duration": 186,
    "start_time": "2021-12-27T02:24:53.537Z"
   },
   {
    "duration": 5,
    "start_time": "2021-12-27T02:24:53.724Z"
   },
   {
    "duration": 22,
    "start_time": "2021-12-27T02:24:53.730Z"
   },
   {
    "duration": 9,
    "start_time": "2021-12-27T02:24:53.754Z"
   },
   {
    "duration": 15,
    "start_time": "2021-12-27T02:24:53.764Z"
   },
   {
    "duration": 894,
    "start_time": "2021-12-27T05:01:08.118Z"
   },
   {
    "duration": 125,
    "start_time": "2021-12-27T05:01:09.015Z"
   },
   {
    "duration": 51,
    "start_time": "2021-12-27T05:01:09.143Z"
   },
   {
    "duration": 449,
    "start_time": "2021-12-27T05:01:09.197Z"
   },
   {
    "duration": 7,
    "start_time": "2021-12-27T05:01:09.650Z"
   },
   {
    "duration": 22,
    "start_time": "2021-12-27T05:01:09.660Z"
   },
   {
    "duration": 43,
    "start_time": "2021-12-27T05:01:09.685Z"
   },
   {
    "duration": 19,
    "start_time": "2021-12-27T05:01:09.733Z"
   },
   {
    "duration": 8,
    "start_time": "2021-12-27T05:01:09.756Z"
   },
   {
    "duration": 7,
    "start_time": "2021-12-27T05:01:09.767Z"
   },
   {
    "duration": 60,
    "start_time": "2021-12-27T05:01:09.777Z"
   },
   {
    "duration": 12,
    "start_time": "2021-12-27T05:01:09.840Z"
   },
   {
    "duration": 10,
    "start_time": "2021-12-27T05:01:09.855Z"
   },
   {
    "duration": 9,
    "start_time": "2021-12-27T05:01:09.868Z"
   },
   {
    "duration": 57,
    "start_time": "2021-12-27T05:01:09.879Z"
   },
   {
    "duration": 22,
    "start_time": "2021-12-27T05:01:09.939Z"
   },
   {
    "duration": 63,
    "start_time": "2021-12-27T05:01:09.964Z"
   },
   {
    "duration": 1526,
    "start_time": "2021-12-27T05:01:10.029Z"
   },
   {
    "duration": 5,
    "start_time": "2021-12-27T05:01:11.557Z"
   },
   {
    "duration": 22,
    "start_time": "2021-12-27T05:01:11.564Z"
   },
   {
    "duration": 60,
    "start_time": "2021-12-27T05:01:11.588Z"
   },
   {
    "duration": 421,
    "start_time": "2021-12-27T05:01:11.650Z"
   },
   {
    "duration": 449,
    "start_time": "2021-12-27T05:01:12.076Z"
   },
   {
    "duration": 314,
    "start_time": "2021-12-27T05:01:12.528Z"
   },
   {
    "duration": 542,
    "start_time": "2021-12-27T05:01:12.845Z"
   },
   {
    "duration": 437,
    "start_time": "2021-12-27T05:01:13.389Z"
   },
   {
    "duration": 274,
    "start_time": "2021-12-27T05:01:13.828Z"
   },
   {
    "duration": 20,
    "start_time": "2021-12-27T05:01:14.105Z"
   },
   {
    "duration": 8,
    "start_time": "2021-12-27T05:01:14.127Z"
   },
   {
    "duration": 21,
    "start_time": "2021-12-27T05:01:14.137Z"
   },
   {
    "duration": 13,
    "start_time": "2021-12-27T05:01:14.160Z"
   },
   {
    "duration": 22,
    "start_time": "2021-12-27T05:01:14.175Z"
   },
   {
    "duration": 25,
    "start_time": "2021-12-27T05:01:14.199Z"
   },
   {
    "duration": 7,
    "start_time": "2021-12-27T05:01:14.226Z"
   },
   {
    "duration": 16,
    "start_time": "2021-12-27T05:01:14.235Z"
   },
   {
    "duration": 27,
    "start_time": "2021-12-27T05:01:14.253Z"
   },
   {
    "duration": 44,
    "start_time": "2021-12-27T05:01:14.283Z"
   },
   {
    "duration": 12,
    "start_time": "2021-12-27T05:01:14.329Z"
   },
   {
    "duration": 34,
    "start_time": "2021-12-27T05:01:14.344Z"
   },
   {
    "duration": 13,
    "start_time": "2021-12-27T05:01:14.380Z"
   },
   {
    "duration": 51,
    "start_time": "2021-12-27T05:01:14.396Z"
   },
   {
    "duration": 359,
    "start_time": "2021-12-27T05:01:14.449Z"
   },
   {
    "duration": 16,
    "start_time": "2021-12-27T05:01:14.810Z"
   },
   {
    "duration": 301,
    "start_time": "2021-12-27T05:01:14.829Z"
   },
   {
    "duration": 332,
    "start_time": "2021-12-27T05:01:15.133Z"
   },
   {
    "duration": 298,
    "start_time": "2021-12-27T05:01:15.467Z"
   },
   {
    "duration": 312,
    "start_time": "2021-12-27T05:01:15.767Z"
   },
   {
    "duration": 7,
    "start_time": "2021-12-27T05:01:16.081Z"
   },
   {
    "duration": 30,
    "start_time": "2021-12-27T05:01:16.090Z"
   },
   {
    "duration": 14,
    "start_time": "2021-12-27T05:01:16.123Z"
   },
   {
    "duration": 10,
    "start_time": "2021-12-27T05:01:16.140Z"
   },
   {
    "duration": 11,
    "start_time": "2021-12-27T05:31:14.300Z"
   },
   {
    "duration": 6,
    "start_time": "2021-12-27T05:32:00.007Z"
   },
   {
    "duration": 15,
    "start_time": "2021-12-27T05:32:08.821Z"
   },
   {
    "duration": 7,
    "start_time": "2021-12-27T05:33:05.812Z"
   },
   {
    "duration": 8,
    "start_time": "2021-12-27T05:33:08.644Z"
   },
   {
    "duration": 1560,
    "start_time": "2021-12-27T05:38:34.939Z"
   },
   {
    "duration": 3,
    "start_time": "2021-12-27T05:40:09.568Z"
   },
   {
    "duration": 123,
    "start_time": "2021-12-27T05:40:09.579Z"
   },
   {
    "duration": 67,
    "start_time": "2021-12-27T05:40:09.704Z"
   },
   {
    "duration": 444,
    "start_time": "2021-12-27T05:40:09.774Z"
   },
   {
    "duration": 6,
    "start_time": "2021-12-27T05:40:10.220Z"
   },
   {
    "duration": 23,
    "start_time": "2021-12-27T05:40:10.229Z"
   },
   {
    "duration": 7,
    "start_time": "2021-12-27T05:40:10.255Z"
   },
   {
    "duration": 58,
    "start_time": "2021-12-27T05:40:10.265Z"
   },
   {
    "duration": 8,
    "start_time": "2021-12-27T05:40:10.326Z"
   },
   {
    "duration": 7,
    "start_time": "2021-12-27T05:40:10.338Z"
   },
   {
    "duration": 21,
    "start_time": "2021-12-27T05:40:10.348Z"
   },
   {
    "duration": 17,
    "start_time": "2021-12-27T05:40:10.371Z"
   },
   {
    "duration": 33,
    "start_time": "2021-12-27T05:40:10.391Z"
   },
   {
    "duration": 16,
    "start_time": "2021-12-27T05:40:10.426Z"
   },
   {
    "duration": 26,
    "start_time": "2021-12-27T05:40:10.444Z"
   },
   {
    "duration": 13,
    "start_time": "2021-12-27T05:40:10.472Z"
   },
   {
    "duration": 48,
    "start_time": "2021-12-27T05:40:10.488Z"
   },
   {
    "duration": 1466,
    "start_time": "2021-12-27T05:40:10.538Z"
   },
   {
    "duration": 5,
    "start_time": "2021-12-27T05:40:12.007Z"
   },
   {
    "duration": 5,
    "start_time": "2021-12-27T05:40:12.028Z"
   },
   {
    "duration": 57,
    "start_time": "2021-12-27T05:40:12.035Z"
   },
   {
    "duration": 98,
    "start_time": "2021-12-27T05:41:35.475Z"
   },
   {
    "duration": 404,
    "start_time": "2021-12-27T05:45:04.387Z"
   },
   {
    "duration": 391,
    "start_time": "2021-12-27T06:14:29.297Z"
   },
   {
    "duration": 414,
    "start_time": "2021-12-27T06:16:47.439Z"
   },
   {
    "duration": 411,
    "start_time": "2021-12-27T06:23:00.046Z"
   },
   {
    "duration": 6,
    "start_time": "2021-12-27T06:45:37.010Z"
   },
   {
    "duration": 24,
    "start_time": "2021-12-27T06:45:51.834Z"
   },
   {
    "duration": 107,
    "start_time": "2021-12-27T08:37:28.765Z"
   },
   {
    "duration": 94,
    "start_time": "2021-12-27T08:38:12.013Z"
   },
   {
    "duration": 105,
    "start_time": "2021-12-27T08:39:31.788Z"
   },
   {
    "duration": 699,
    "start_time": "2021-12-27T08:39:38.445Z"
   },
   {
    "duration": 648,
    "start_time": "2021-12-27T08:40:02.751Z"
   },
   {
    "duration": 349,
    "start_time": "2021-12-27T08:40:20.429Z"
   },
   {
    "duration": 4,
    "start_time": "2021-12-27T08:44:54.289Z"
   },
   {
    "duration": 159,
    "start_time": "2021-12-27T08:44:54.301Z"
   },
   {
    "duration": 87,
    "start_time": "2021-12-27T08:44:54.463Z"
   },
   {
    "duration": 488,
    "start_time": "2021-12-27T08:44:54.554Z"
   },
   {
    "duration": 6,
    "start_time": "2021-12-27T08:44:55.047Z"
   },
   {
    "duration": 37,
    "start_time": "2021-12-27T08:44:55.055Z"
   },
   {
    "duration": 12,
    "start_time": "2021-12-27T08:44:55.094Z"
   },
   {
    "duration": 36,
    "start_time": "2021-12-27T08:44:55.108Z"
   },
   {
    "duration": 14,
    "start_time": "2021-12-27T08:44:55.147Z"
   },
   {
    "duration": 9,
    "start_time": "2021-12-27T08:44:55.165Z"
   },
   {
    "duration": 58,
    "start_time": "2021-12-27T08:44:55.177Z"
   },
   {
    "duration": 14,
    "start_time": "2021-12-27T08:44:55.238Z"
   },
   {
    "duration": 11,
    "start_time": "2021-12-27T08:44:55.255Z"
   },
   {
    "duration": 13,
    "start_time": "2021-12-27T08:44:55.269Z"
   },
   {
    "duration": 21,
    "start_time": "2021-12-27T08:44:55.285Z"
   },
   {
    "duration": 27,
    "start_time": "2021-12-27T08:44:55.324Z"
   },
   {
    "duration": 29,
    "start_time": "2021-12-27T08:44:55.354Z"
   },
   {
    "duration": 1693,
    "start_time": "2021-12-27T08:44:55.385Z"
   },
   {
    "duration": 6,
    "start_time": "2021-12-27T08:44:57.080Z"
   },
   {
    "duration": 11,
    "start_time": "2021-12-27T08:44:57.088Z"
   },
   {
    "duration": 67,
    "start_time": "2021-12-27T08:44:57.102Z"
   },
   {
    "duration": 447,
    "start_time": "2021-12-27T08:44:57.171Z"
   },
   {
    "duration": 453,
    "start_time": "2021-12-27T08:44:57.624Z"
   },
   {
    "duration": 393,
    "start_time": "2021-12-27T08:44:58.079Z"
   },
   {
    "duration": 462,
    "start_time": "2021-12-27T08:44:58.474Z"
   },
   {
    "duration": 454,
    "start_time": "2021-12-27T08:44:58.939Z"
   },
   {
    "duration": 214,
    "start_time": "2021-12-27T08:44:59.395Z"
   },
   {
    "duration": 17,
    "start_time": "2021-12-27T08:44:59.615Z"
   },
   {
    "duration": 53,
    "start_time": "2021-12-27T08:44:59.635Z"
   },
   {
    "duration": 20,
    "start_time": "2021-12-27T08:44:59.690Z"
   },
   {
    "duration": 29,
    "start_time": "2021-12-27T08:44:59.712Z"
   },
   {
    "duration": 25,
    "start_time": "2021-12-27T08:44:59.743Z"
   },
   {
    "duration": 26,
    "start_time": "2021-12-27T08:44:59.770Z"
   },
   {
    "duration": 8,
    "start_time": "2021-12-27T08:44:59.798Z"
   },
   {
    "duration": 120,
    "start_time": "2021-12-27T08:44:59.808Z"
   },
   {
    "duration": 518,
    "start_time": "2021-12-27T08:44:59.931Z"
   },
   {
    "duration": 9,
    "start_time": "2021-12-27T08:45:00.452Z"
   },
   {
    "duration": 399,
    "start_time": "2021-12-27T08:45:00.463Z"
   },
   {
    "duration": 328,
    "start_time": "2021-12-27T08:45:00.865Z"
   },
   {
    "duration": 311,
    "start_time": "2021-12-27T08:45:01.196Z"
   },
   {
    "duration": 322,
    "start_time": "2021-12-27T08:45:01.509Z"
   },
   {
    "duration": 6,
    "start_time": "2021-12-27T08:45:01.837Z"
   },
   {
    "duration": 9,
    "start_time": "2021-12-27T08:45:01.846Z"
   },
   {
    "duration": 16,
    "start_time": "2021-12-27T08:45:01.858Z"
   },
   {
    "duration": 10,
    "start_time": "2021-12-27T08:45:01.877Z"
   },
   {
    "duration": 9,
    "start_time": "2021-12-27T08:45:17.317Z"
   },
   {
    "duration": 7,
    "start_time": "2021-12-27T08:45:21.271Z"
   },
   {
    "duration": 413,
    "start_time": "2021-12-27T08:45:21.281Z"
   },
   {
    "duration": 326,
    "start_time": "2021-12-27T08:45:21.697Z"
   },
   {
    "duration": 315,
    "start_time": "2021-12-27T08:45:22.026Z"
   },
   {
    "duration": 317,
    "start_time": "2021-12-27T08:45:22.344Z"
   },
   {
    "duration": 6,
    "start_time": "2021-12-27T08:45:22.663Z"
   },
   {
    "duration": 9,
    "start_time": "2021-12-27T08:45:22.671Z"
   },
   {
    "duration": 7,
    "start_time": "2021-12-27T08:45:22.683Z"
   },
   {
    "duration": 44,
    "start_time": "2021-12-27T08:45:22.692Z"
   },
   {
    "duration": 3,
    "start_time": "2021-12-27T08:48:28.713Z"
   },
   {
    "duration": 178,
    "start_time": "2021-12-27T08:48:28.720Z"
   },
   {
    "duration": 79,
    "start_time": "2021-12-27T08:48:28.903Z"
   },
   {
    "duration": 484,
    "start_time": "2021-12-27T08:48:28.984Z"
   },
   {
    "duration": 6,
    "start_time": "2021-12-27T08:48:29.471Z"
   },
   {
    "duration": 21,
    "start_time": "2021-12-27T08:48:29.480Z"
   },
   {
    "duration": 9,
    "start_time": "2021-12-27T08:48:29.524Z"
   },
   {
    "duration": 31,
    "start_time": "2021-12-27T08:48:29.539Z"
   },
   {
    "duration": 8,
    "start_time": "2021-12-27T08:48:29.573Z"
   },
   {
    "duration": 5,
    "start_time": "2021-12-27T08:48:29.583Z"
   },
   {
    "duration": 42,
    "start_time": "2021-12-27T08:48:29.591Z"
   },
   {
    "duration": 14,
    "start_time": "2021-12-27T08:48:29.638Z"
   },
   {
    "duration": 12,
    "start_time": "2021-12-27T08:48:29.654Z"
   },
   {
    "duration": 12,
    "start_time": "2021-12-27T08:48:29.670Z"
   },
   {
    "duration": 63,
    "start_time": "2021-12-27T08:48:29.686Z"
   },
   {
    "duration": 16,
    "start_time": "2021-12-27T08:48:29.751Z"
   },
   {
    "duration": 65,
    "start_time": "2021-12-27T08:48:29.770Z"
   },
   {
    "duration": 1626,
    "start_time": "2021-12-27T08:48:29.838Z"
   },
   {
    "duration": 5,
    "start_time": "2021-12-27T08:48:31.467Z"
   },
   {
    "duration": 14,
    "start_time": "2021-12-27T08:48:31.474Z"
   },
   {
    "duration": 75,
    "start_time": "2021-12-27T08:48:31.490Z"
   },
   {
    "duration": 564,
    "start_time": "2021-12-27T08:48:31.568Z"
   },
   {
    "duration": 476,
    "start_time": "2021-12-27T08:48:32.138Z"
   },
   {
    "duration": 498,
    "start_time": "2021-12-27T08:48:32.625Z"
   },
   {
    "duration": 439,
    "start_time": "2021-12-27T08:48:33.126Z"
   },
   {
    "duration": 479,
    "start_time": "2021-12-27T08:48:33.568Z"
   },
   {
    "duration": 319,
    "start_time": "2021-12-27T08:48:34.049Z"
   },
   {
    "duration": 13,
    "start_time": "2021-12-27T08:48:34.372Z"
   },
   {
    "duration": 59,
    "start_time": "2021-12-27T08:48:34.388Z"
   },
   {
    "duration": 23,
    "start_time": "2021-12-27T08:48:34.450Z"
   },
   {
    "duration": 55,
    "start_time": "2021-12-27T08:48:34.475Z"
   },
   {
    "duration": 15,
    "start_time": "2021-12-27T08:48:34.533Z"
   },
   {
    "duration": 24,
    "start_time": "2021-12-27T08:48:34.551Z"
   },
   {
    "duration": 8,
    "start_time": "2021-12-27T08:48:34.577Z"
   },
   {
    "duration": 68,
    "start_time": "2021-12-27T08:48:34.588Z"
   },
   {
    "duration": 413,
    "start_time": "2021-12-27T08:48:34.658Z"
   },
   {
    "duration": 9,
    "start_time": "2021-12-27T08:48:35.075Z"
   },
   {
    "duration": 451,
    "start_time": "2021-12-27T08:48:35.088Z"
   },
   {
    "duration": 352,
    "start_time": "2021-12-27T08:48:35.542Z"
   },
   {
    "duration": 485,
    "start_time": "2021-12-27T08:48:35.897Z"
   },
   {
    "duration": 322,
    "start_time": "2021-12-27T08:48:36.384Z"
   },
   {
    "duration": 17,
    "start_time": "2021-12-27T08:48:36.708Z"
   },
   {
    "duration": 10,
    "start_time": "2021-12-27T08:48:36.728Z"
   },
   {
    "duration": 9,
    "start_time": "2021-12-27T08:48:36.743Z"
   },
   {
    "duration": 7,
    "start_time": "2021-12-27T08:48:36.755Z"
   },
   {
    "duration": 480,
    "start_time": "2021-12-28T06:36:07.122Z"
   },
   {
    "duration": 686,
    "start_time": "2021-12-28T06:36:11.929Z"
   },
   {
    "duration": 96,
    "start_time": "2021-12-28T06:36:12.617Z"
   },
   {
    "duration": 38,
    "start_time": "2021-12-28T06:36:12.715Z"
   },
   {
    "duration": 264,
    "start_time": "2021-12-28T06:36:12.754Z"
   },
   {
    "duration": 10,
    "start_time": "2021-12-28T06:36:13.020Z"
   },
   {
    "duration": 14,
    "start_time": "2021-12-28T06:36:13.031Z"
   },
   {
    "duration": 5,
    "start_time": "2021-12-28T06:36:13.046Z"
   },
   {
    "duration": 13,
    "start_time": "2021-12-28T06:36:13.053Z"
   },
   {
    "duration": 8,
    "start_time": "2021-12-28T06:36:13.068Z"
   },
   {
    "duration": 5,
    "start_time": "2021-12-28T06:36:13.078Z"
   },
   {
    "duration": 45,
    "start_time": "2021-12-28T06:36:13.084Z"
   },
   {
    "duration": 8,
    "start_time": "2021-12-28T06:36:13.131Z"
   },
   {
    "duration": 6,
    "start_time": "2021-12-28T06:36:13.141Z"
   },
   {
    "duration": 5,
    "start_time": "2021-12-28T06:36:13.149Z"
   },
   {
    "duration": 10,
    "start_time": "2021-12-28T06:36:13.156Z"
   },
   {
    "duration": 14,
    "start_time": "2021-12-28T06:36:13.168Z"
   },
   {
    "duration": 53,
    "start_time": "2021-12-28T06:36:13.184Z"
   },
   {
    "duration": 977,
    "start_time": "2021-12-28T06:36:13.238Z"
   },
   {
    "duration": 4,
    "start_time": "2021-12-28T06:36:14.216Z"
   },
   {
    "duration": 7,
    "start_time": "2021-12-28T06:36:14.221Z"
   },
   {
    "duration": 36,
    "start_time": "2021-12-28T06:36:14.230Z"
   },
   {
    "duration": 239,
    "start_time": "2021-12-28T06:36:14.268Z"
   },
   {
    "duration": 273,
    "start_time": "2021-12-28T06:36:14.509Z"
   },
   {
    "duration": 171,
    "start_time": "2021-12-28T06:36:14.783Z"
   },
   {
    "duration": 244,
    "start_time": "2021-12-28T06:36:14.956Z"
   },
   {
    "duration": 312,
    "start_time": "2021-12-28T06:36:15.201Z"
   },
   {
    "duration": 126,
    "start_time": "2021-12-28T06:36:15.515Z"
   },
   {
    "duration": 8,
    "start_time": "2021-12-28T06:36:15.643Z"
   },
   {
    "duration": 20,
    "start_time": "2021-12-28T06:36:15.652Z"
   },
   {
    "duration": 386,
    "start_time": "2021-12-28T06:36:18.827Z"
   },
   {
    "duration": 11,
    "start_time": "2021-12-28T06:40:29.628Z"
   },
   {
    "duration": 12,
    "start_time": "2021-12-28T06:41:01.834Z"
   },
   {
    "duration": 816,
    "start_time": "2021-12-28T06:46:52.457Z"
   },
   {
    "duration": 311,
    "start_time": "2021-12-28T06:47:05.785Z"
   },
   {
    "duration": 630,
    "start_time": "2021-12-28T06:48:01.946Z"
   },
   {
    "duration": 113348,
    "start_time": "2021-12-28T06:49:37.416Z"
   },
   {
    "duration": -101,
    "start_time": "2021-12-28T06:51:30.867Z"
   },
   {
    "duration": 3,
    "start_time": "2021-12-28T06:51:38.968Z"
   },
   {
    "duration": 11062,
    "start_time": "2021-12-28T06:52:21.772Z"
   },
   {
    "duration": 110,
    "start_time": "2021-12-28T06:56:16.544Z"
   },
   {
    "duration": 2538,
    "start_time": "2021-12-28T06:56:25.534Z"
   },
   {
    "duration": 411,
    "start_time": "2021-12-28T06:57:11.448Z"
   },
   {
    "duration": 117,
    "start_time": "2021-12-28T07:03:44.430Z"
   },
   {
    "duration": 337,
    "start_time": "2021-12-28T07:03:48.967Z"
   },
   {
    "duration": 346,
    "start_time": "2021-12-28T07:03:53.191Z"
   },
   {
    "duration": 316,
    "start_time": "2021-12-28T07:04:11.799Z"
   },
   {
    "duration": 307,
    "start_time": "2021-12-28T07:04:20.453Z"
   },
   {
    "duration": 317,
    "start_time": "2021-12-28T07:04:41.623Z"
   },
   {
    "duration": 8363,
    "start_time": "2021-12-28T07:04:49.382Z"
   },
   {
    "duration": 176,
    "start_time": "2021-12-28T07:05:10.999Z"
   },
   {
    "duration": 261,
    "start_time": "2021-12-28T07:05:29.030Z"
   },
   {
    "duration": 256,
    "start_time": "2021-12-28T07:06:10.327Z"
   },
   {
    "duration": 733,
    "start_time": "2021-12-28T07:39:09.013Z"
   },
   {
    "duration": 705,
    "start_time": "2021-12-28T07:39:22.515Z"
   },
   {
    "duration": 541,
    "start_time": "2021-12-28T07:39:35.876Z"
   },
   {
    "duration": 224,
    "start_time": "2021-12-28T07:48:56.852Z"
   },
   {
    "duration": 311,
    "start_time": "2021-12-28T08:08:33.184Z"
   },
   {
    "duration": 440,
    "start_time": "2021-12-28T08:23:11.263Z"
   },
   {
    "duration": 181,
    "start_time": "2021-12-28T08:23:21.887Z"
   },
   {
    "duration": 192,
    "start_time": "2021-12-28T08:23:38.512Z"
   },
   {
    "duration": 199,
    "start_time": "2021-12-28T08:23:52.655Z"
   },
   {
    "duration": 191,
    "start_time": "2021-12-28T08:24:13.294Z"
   },
   {
    "duration": -130,
    "start_time": "2021-12-28T08:25:52.427Z"
   },
   {
    "duration": 190,
    "start_time": "2021-12-28T08:25:58.559Z"
   },
   {
    "duration": 197,
    "start_time": "2021-12-28T08:27:00.910Z"
   },
   {
    "duration": 192,
    "start_time": "2021-12-28T08:28:43.022Z"
   },
   {
    "duration": 185,
    "start_time": "2021-12-28T08:28:55.566Z"
   },
   {
    "duration": 62762,
    "start_time": "2021-12-28T08:31:45.711Z"
   },
   {
    "duration": 485,
    "start_time": "2021-12-28T08:43:05.532Z"
   },
   {
    "duration": 457,
    "start_time": "2021-12-28T08:43:45.006Z"
   },
   {
    "duration": 445,
    "start_time": "2021-12-28T08:45:12.300Z"
   },
   {
    "duration": 455,
    "start_time": "2021-12-28T08:45:25.027Z"
   },
   {
    "duration": 443,
    "start_time": "2021-12-28T08:45:47.214Z"
   },
   {
    "duration": 133,
    "start_time": "2021-12-28T08:46:27.212Z"
   },
   {
    "duration": 150,
    "start_time": "2021-12-28T08:46:34.796Z"
   },
   {
    "duration": 143,
    "start_time": "2021-12-28T08:46:51.009Z"
   },
   {
    "duration": 142,
    "start_time": "2021-12-28T08:47:05.039Z"
   },
   {
    "duration": 137,
    "start_time": "2021-12-28T08:47:08.668Z"
   },
   {
    "duration": 125,
    "start_time": "2021-12-28T08:47:27.290Z"
   },
   {
    "duration": 129,
    "start_time": "2021-12-28T08:47:34.315Z"
   },
   {
    "duration": 130,
    "start_time": "2021-12-28T08:47:41.194Z"
   },
   {
    "duration": 8,
    "start_time": "2021-12-28T08:48:18.443Z"
   },
   {
    "duration": 146,
    "start_time": "2021-12-28T08:49:31.017Z"
   },
   {
    "duration": 7,
    "start_time": "2021-12-28T08:49:31.164Z"
   },
   {
    "duration": 17,
    "start_time": "2021-12-28T08:49:31.173Z"
   },
   {
    "duration": 37,
    "start_time": "2021-12-28T08:49:31.192Z"
   },
   {
    "duration": 11976,
    "start_time": "2021-12-28T08:49:31.231Z"
   },
   {
    "duration": 492,
    "start_time": "2021-12-28T08:49:43.209Z"
   },
   {
    "duration": 2967,
    "start_time": "2021-12-28T08:49:43.703Z"
   },
   {
    "duration": -58,
    "start_time": "2021-12-28T08:49:46.730Z"
   },
   {
    "duration": -62,
    "start_time": "2021-12-28T08:49:46.735Z"
   },
   {
    "duration": -63,
    "start_time": "2021-12-28T08:49:46.737Z"
   },
   {
    "duration": -71,
    "start_time": "2021-12-28T08:49:46.746Z"
   },
   {
    "duration": -77,
    "start_time": "2021-12-28T08:49:46.753Z"
   },
   {
    "duration": -79,
    "start_time": "2021-12-28T08:49:46.756Z"
   },
   {
    "duration": -81,
    "start_time": "2021-12-28T08:49:46.759Z"
   },
   {
    "duration": -82,
    "start_time": "2021-12-28T08:49:46.761Z"
   },
   {
    "duration": -84,
    "start_time": "2021-12-28T08:49:46.764Z"
   },
   {
    "duration": -90,
    "start_time": "2021-12-28T08:49:46.771Z"
   },
   {
    "duration": -92,
    "start_time": "2021-12-28T08:49:46.774Z"
   },
   {
    "duration": -93,
    "start_time": "2021-12-28T08:49:46.776Z"
   },
   {
    "duration": -95,
    "start_time": "2021-12-28T08:49:46.779Z"
   },
   {
    "duration": -96,
    "start_time": "2021-12-28T08:49:46.781Z"
   },
   {
    "duration": -98,
    "start_time": "2021-12-28T08:49:46.784Z"
   },
   {
    "duration": -99,
    "start_time": "2021-12-28T08:49:46.786Z"
   },
   {
    "duration": -100,
    "start_time": "2021-12-28T08:49:46.788Z"
   },
   {
    "duration": 185,
    "start_time": "2021-12-28T08:50:19.227Z"
   },
   {
    "duration": 239,
    "start_time": "2021-12-28T08:51:02.045Z"
   },
   {
    "duration": 819,
    "start_time": "2021-12-28T08:51:34.299Z"
   },
   {
    "duration": 194,
    "start_time": "2021-12-28T08:51:53.020Z"
   },
   {
    "duration": 188,
    "start_time": "2021-12-28T08:51:58.027Z"
   },
   {
    "duration": 207,
    "start_time": "2021-12-28T08:52:32.875Z"
   },
   {
    "duration": 173,
    "start_time": "2021-12-28T08:52:53.468Z"
   },
   {
    "duration": 174,
    "start_time": "2021-12-28T08:53:55.041Z"
   },
   {
    "duration": 2,
    "start_time": "2021-12-28T08:55:47.849Z"
   },
   {
    "duration": 87,
    "start_time": "2021-12-28T08:55:47.860Z"
   },
   {
    "duration": 38,
    "start_time": "2021-12-28T08:55:47.949Z"
   },
   {
    "duration": 281,
    "start_time": "2021-12-28T08:55:47.989Z"
   },
   {
    "duration": 4,
    "start_time": "2021-12-28T08:55:48.272Z"
   },
   {
    "duration": 14,
    "start_time": "2021-12-28T08:55:48.277Z"
   },
   {
    "duration": 5,
    "start_time": "2021-12-28T08:55:48.293Z"
   },
   {
    "duration": 34,
    "start_time": "2021-12-28T08:55:48.299Z"
   },
   {
    "duration": 6,
    "start_time": "2021-12-28T08:55:48.335Z"
   },
   {
    "duration": 4,
    "start_time": "2021-12-28T08:55:48.344Z"
   },
   {
    "duration": 11,
    "start_time": "2021-12-28T08:55:48.351Z"
   },
   {
    "duration": 8,
    "start_time": "2021-12-28T08:55:48.363Z"
   },
   {
    "duration": 10,
    "start_time": "2021-12-28T08:55:48.372Z"
   },
   {
    "duration": 6,
    "start_time": "2021-12-28T08:55:48.383Z"
   },
   {
    "duration": 41,
    "start_time": "2021-12-28T08:55:48.390Z"
   },
   {
    "duration": 9,
    "start_time": "2021-12-28T08:55:48.433Z"
   },
   {
    "duration": 19,
    "start_time": "2021-12-28T08:55:48.444Z"
   },
   {
    "duration": 903,
    "start_time": "2021-12-28T08:55:48.464Z"
   },
   {
    "duration": 4,
    "start_time": "2021-12-28T08:55:49.368Z"
   },
   {
    "duration": 7,
    "start_time": "2021-12-28T08:55:49.373Z"
   },
   {
    "duration": 46,
    "start_time": "2021-12-28T08:55:49.381Z"
   },
   {
    "duration": 234,
    "start_time": "2021-12-28T08:55:49.429Z"
   },
   {
    "duration": 259,
    "start_time": "2021-12-28T08:55:49.665Z"
   },
   {
    "duration": 181,
    "start_time": "2021-12-28T08:55:49.926Z"
   },
   {
    "duration": 247,
    "start_time": "2021-12-28T08:55:50.109Z"
   },
   {
    "duration": 255,
    "start_time": "2021-12-28T08:55:50.358Z"
   },
   {
    "duration": 130,
    "start_time": "2021-12-28T08:55:50.615Z"
   },
   {
    "duration": 6,
    "start_time": "2021-12-28T08:55:50.749Z"
   },
   {
    "duration": 127,
    "start_time": "2021-12-28T08:55:50.757Z"
   },
   {
    "duration": 7,
    "start_time": "2021-12-28T08:55:50.886Z"
   },
   {
    "duration": 15,
    "start_time": "2021-12-28T08:55:50.894Z"
   },
   {
    "duration": 26,
    "start_time": "2021-12-28T08:55:50.910Z"
   },
   {
    "duration": 10258,
    "start_time": "2021-12-28T08:55:50.937Z"
   },
   {
    "duration": 195,
    "start_time": "2021-12-28T08:56:01.197Z"
   },
   {
    "duration": 195,
    "start_time": "2021-12-28T08:56:01.394Z"
   },
   {
    "duration": 196,
    "start_time": "2021-12-28T08:56:01.591Z"
   },
   {
    "duration": 195,
    "start_time": "2021-12-28T08:56:01.789Z"
   },
   {
    "duration": 15,
    "start_time": "2021-12-28T08:56:01.985Z"
   },
   {
    "duration": 32,
    "start_time": "2021-12-28T08:56:02.001Z"
   },
   {
    "duration": 8,
    "start_time": "2021-12-28T08:56:02.034Z"
   },
   {
    "duration": 19,
    "start_time": "2021-12-28T08:56:02.043Z"
   },
   {
    "duration": 5,
    "start_time": "2021-12-28T08:56:02.063Z"
   },
   {
    "duration": 23,
    "start_time": "2021-12-28T08:56:02.069Z"
   },
   {
    "duration": 220,
    "start_time": "2021-12-28T08:56:02.093Z"
   },
   {
    "duration": 16,
    "start_time": "2021-12-28T08:56:02.315Z"
   },
   {
    "duration": 186,
    "start_time": "2021-12-28T08:56:02.333Z"
   },
   {
    "duration": 167,
    "start_time": "2021-12-28T08:56:02.521Z"
   },
   {
    "duration": 170,
    "start_time": "2021-12-28T08:56:02.689Z"
   },
   {
    "duration": 210,
    "start_time": "2021-12-28T08:56:02.860Z"
   },
   {
    "duration": 5,
    "start_time": "2021-12-28T08:56:03.072Z"
   },
   {
    "duration": 8,
    "start_time": "2021-12-28T08:56:03.079Z"
   },
   {
    "duration": 7,
    "start_time": "2021-12-28T08:56:03.088Z"
   },
   {
    "duration": 9,
    "start_time": "2021-12-28T08:56:03.096Z"
   },
   {
    "duration": 17,
    "start_time": "2021-12-28T08:56:34.299Z"
   },
   {
    "duration": 18,
    "start_time": "2021-12-28T08:56:37.927Z"
   },
   {
    "duration": 5,
    "start_time": "2021-12-28T08:56:37.946Z"
   },
   {
    "duration": 26,
    "start_time": "2021-12-28T08:56:37.953Z"
   },
   {
    "duration": 233,
    "start_time": "2021-12-28T08:56:37.981Z"
   },
   {
    "duration": 13,
    "start_time": "2021-12-28T08:56:38.216Z"
   },
   {
    "duration": 172,
    "start_time": "2021-12-28T08:56:38.231Z"
   },
   {
    "duration": 181,
    "start_time": "2021-12-28T08:56:38.405Z"
   },
   {
    "duration": 172,
    "start_time": "2021-12-28T08:56:38.587Z"
   },
   {
    "duration": 179,
    "start_time": "2021-12-28T08:56:38.761Z"
   },
   {
    "duration": 4,
    "start_time": "2021-12-28T08:56:38.942Z"
   },
   {
    "duration": 7,
    "start_time": "2021-12-28T08:56:38.948Z"
   },
   {
    "duration": 5,
    "start_time": "2021-12-28T08:56:38.957Z"
   },
   {
    "duration": 5,
    "start_time": "2021-12-28T08:56:38.964Z"
   },
   {
    "duration": 5,
    "start_time": "2021-12-28T08:57:33.928Z"
   },
   {
    "duration": 172,
    "start_time": "2021-12-28T08:57:33.935Z"
   },
   {
    "duration": 183,
    "start_time": "2021-12-28T08:57:34.109Z"
   },
   {
    "duration": 180,
    "start_time": "2021-12-28T08:57:34.294Z"
   },
   {
    "duration": 180,
    "start_time": "2021-12-28T08:57:34.476Z"
   },
   {
    "duration": 5,
    "start_time": "2021-12-28T08:57:34.658Z"
   },
   {
    "duration": 12,
    "start_time": "2021-12-28T08:57:34.665Z"
   },
   {
    "duration": 5,
    "start_time": "2021-12-28T08:57:34.680Z"
   },
   {
    "duration": 5,
    "start_time": "2021-12-28T08:57:34.687Z"
   },
   {
    "duration": 160,
    "start_time": "2021-12-28T08:58:57.228Z"
   },
   {
    "duration": 184,
    "start_time": "2021-12-28T09:00:01.723Z"
   },
   {
    "duration": 173,
    "start_time": "2021-12-28T09:00:45.354Z"
   },
   {
    "duration": 118,
    "start_time": "2021-12-28T09:01:14.650Z"
   },
   {
    "duration": 116,
    "start_time": "2021-12-28T09:01:24.858Z"
   },
   {
    "duration": 123,
    "start_time": "2021-12-28T09:01:36.538Z"
   },
   {
    "duration": 128,
    "start_time": "2021-12-28T09:01:45.031Z"
   },
   {
    "duration": 111,
    "start_time": "2021-12-28T09:01:50.794Z"
   },
   {
    "duration": 113,
    "start_time": "2021-12-28T09:01:57.386Z"
   },
   {
    "duration": 123,
    "start_time": "2021-12-28T09:02:02.090Z"
   },
   {
    "duration": 119,
    "start_time": "2021-12-28T09:02:09.514Z"
   },
   {
    "duration": 119,
    "start_time": "2021-12-28T09:02:14.938Z"
   },
   {
    "duration": 123,
    "start_time": "2021-12-28T09:02:22.970Z"
   },
   {
    "duration": 128,
    "start_time": "2021-12-28T09:03:18.766Z"
   },
   {
    "duration": 135,
    "start_time": "2021-12-28T09:03:34.634Z"
   },
   {
    "duration": 132,
    "start_time": "2021-12-28T09:03:42.874Z"
   },
   {
    "duration": 134,
    "start_time": "2021-12-28T09:03:46.154Z"
   },
   {
    "duration": 136,
    "start_time": "2021-12-28T09:03:51.322Z"
   },
   {
    "duration": 129,
    "start_time": "2021-12-28T09:04:17.419Z"
   },
   {
    "duration": 168,
    "start_time": "2021-12-28T09:04:19.242Z"
   },
   {
    "duration": 174,
    "start_time": "2021-12-28T09:06:04.442Z"
   },
   {
    "duration": 166,
    "start_time": "2021-12-28T09:06:23.835Z"
   },
   {
    "duration": 166,
    "start_time": "2021-12-28T09:06:38.265Z"
   },
   {
    "duration": 187,
    "start_time": "2021-12-28T09:06:46.394Z"
   },
   {
    "duration": 166,
    "start_time": "2021-12-28T09:06:53.209Z"
   },
   {
    "duration": 120,
    "start_time": "2021-12-28T09:19:21.049Z"
   },
   {
    "duration": 6,
    "start_time": "2021-12-28T09:30:22.424Z"
   },
   {
    "duration": 157,
    "start_time": "2021-12-28T09:30:26.187Z"
   },
   {
    "duration": 188,
    "start_time": "2021-12-28T09:30:26.346Z"
   },
   {
    "duration": 173,
    "start_time": "2021-12-28T09:30:26.536Z"
   },
   {
    "duration": 145,
    "start_time": "2021-12-28T09:30:26.710Z"
   },
   {
    "duration": 179,
    "start_time": "2021-12-28T09:30:26.857Z"
   },
   {
    "duration": 5,
    "start_time": "2021-12-28T09:30:27.037Z"
   },
   {
    "duration": 5,
    "start_time": "2021-12-28T09:30:27.044Z"
   },
   {
    "duration": 5,
    "start_time": "2021-12-28T09:30:27.052Z"
   },
   {
    "duration": 5,
    "start_time": "2021-12-28T09:30:27.059Z"
   },
   {
    "duration": 208,
    "start_time": "2021-12-28T09:30:27.066Z"
   },
   {
    "duration": 197,
    "start_time": "2021-12-28T09:30:27.276Z"
   },
   {
    "duration": 195,
    "start_time": "2021-12-28T09:30:27.475Z"
   },
   {
    "duration": 170,
    "start_time": "2021-12-28T09:33:08.551Z"
   },
   {
    "duration": 248,
    "start_time": "2021-12-28T09:33:24.039Z"
   },
   {
    "duration": 157,
    "start_time": "2021-12-28T09:35:41.495Z"
   },
   {
    "duration": 174,
    "start_time": "2021-12-28T09:36:20.295Z"
   },
   {
    "duration": 166,
    "start_time": "2021-12-28T09:37:30.566Z"
   },
   {
    "duration": 131,
    "start_time": "2021-12-28T09:38:27.974Z"
   },
   {
    "duration": 326,
    "start_time": "2021-12-28T09:44:49.497Z"
   },
   {
    "duration": 245,
    "start_time": "2021-12-28T09:45:07.685Z"
   },
   {
    "duration": 228,
    "start_time": "2021-12-28T09:45:54.645Z"
   },
   {
    "duration": 238,
    "start_time": "2021-12-28T09:46:13.798Z"
   },
   {
    "duration": 527,
    "start_time": "2021-12-28T09:52:23.173Z"
   },
   {
    "duration": 115,
    "start_time": "2021-12-28T09:55:32.275Z"
   },
   {
    "duration": 109,
    "start_time": "2021-12-28T09:56:03.968Z"
   },
   {
    "duration": 314,
    "start_time": "2021-12-28T09:56:08.068Z"
   },
   {
    "duration": 224,
    "start_time": "2021-12-28T09:56:35.493Z"
   },
   {
    "duration": 7,
    "start_time": "2021-12-28T13:41:01.290Z"
   },
   {
    "duration": 1430,
    "start_time": "2022-03-30T10:37:06.931Z"
   },
   {
    "duration": 131,
    "start_time": "2022-03-30T10:37:08.364Z"
   },
   {
    "duration": 43,
    "start_time": "2022-03-30T10:37:08.496Z"
   },
   {
    "duration": 245,
    "start_time": "2022-03-30T10:37:08.542Z"
   },
   {
    "duration": 12,
    "start_time": "2022-03-30T10:37:08.789Z"
   },
   {
    "duration": 15,
    "start_time": "2022-03-30T10:37:08.803Z"
   },
   {
    "duration": 7,
    "start_time": "2022-03-30T10:37:08.820Z"
   },
   {
    "duration": 25,
    "start_time": "2022-03-30T10:37:08.829Z"
   },
   {
    "duration": 9,
    "start_time": "2022-03-30T10:37:08.857Z"
   },
   {
    "duration": 36,
    "start_time": "2022-03-30T10:37:08.870Z"
   },
   {
    "duration": 18,
    "start_time": "2022-03-30T10:37:08.908Z"
   },
   {
    "duration": 10,
    "start_time": "2022-03-30T10:37:08.928Z"
   },
   {
    "duration": 12,
    "start_time": "2022-03-30T10:37:08.939Z"
   },
   {
    "duration": 10,
    "start_time": "2022-03-30T10:37:08.952Z"
   },
   {
    "duration": 45,
    "start_time": "2022-03-30T10:37:08.964Z"
   },
   {
    "duration": 18,
    "start_time": "2022-03-30T10:37:09.011Z"
   },
   {
    "duration": 22,
    "start_time": "2022-03-30T10:37:09.031Z"
   },
   {
    "duration": 600,
    "start_time": "2022-03-30T10:37:09.055Z"
   },
   {
    "duration": 4,
    "start_time": "2022-03-30T10:37:09.657Z"
   },
   {
    "duration": 8,
    "start_time": "2022-03-30T10:37:09.663Z"
   },
   {
    "duration": 53,
    "start_time": "2022-03-30T10:37:09.672Z"
   },
   {
    "duration": 302,
    "start_time": "2022-03-30T10:37:38.970Z"
   },
   {
    "duration": 216,
    "start_time": "2022-03-30T10:39:06.026Z"
   },
   {
    "duration": 212,
    "start_time": "2022-03-30T10:39:37.354Z"
   },
   {
    "duration": 216,
    "start_time": "2022-03-30T10:39:44.521Z"
   },
   {
    "duration": 213,
    "start_time": "2022-03-30T10:39:51.338Z"
   },
   {
    "duration": 214,
    "start_time": "2022-03-30T10:40:26.346Z"
   },
   {
    "duration": 241,
    "start_time": "2022-03-30T10:43:28.266Z"
   },
   {
    "duration": 250,
    "start_time": "2022-03-30T10:43:59.163Z"
   },
   {
    "duration": 179,
    "start_time": "2022-03-30T10:53:53.112Z"
   },
   {
    "duration": 53,
    "start_time": "2022-03-30T11:56:30.945Z"
   },
   {
    "duration": 1419,
    "start_time": "2022-03-30T11:56:35.736Z"
   },
   {
    "duration": 144,
    "start_time": "2022-03-30T11:56:37.157Z"
   },
   {
    "duration": 47,
    "start_time": "2022-03-30T11:56:37.303Z"
   },
   {
    "duration": 239,
    "start_time": "2022-03-30T11:56:37.352Z"
   },
   {
    "duration": 6,
    "start_time": "2022-03-30T11:56:37.592Z"
   },
   {
    "duration": 16,
    "start_time": "2022-03-30T11:56:37.599Z"
   },
   {
    "duration": 18,
    "start_time": "2022-03-30T11:56:37.617Z"
   },
   {
    "duration": 21,
    "start_time": "2022-03-30T11:56:37.637Z"
   },
   {
    "duration": 8,
    "start_time": "2022-03-30T11:56:37.660Z"
   },
   {
    "duration": 5,
    "start_time": "2022-03-30T11:56:37.671Z"
   },
   {
    "duration": 15,
    "start_time": "2022-03-30T11:56:37.677Z"
   },
   {
    "duration": 40,
    "start_time": "2022-03-30T11:56:37.693Z"
   },
   {
    "duration": 6,
    "start_time": "2022-03-30T11:56:37.736Z"
   },
   {
    "duration": 8,
    "start_time": "2022-03-30T11:56:37.744Z"
   },
   {
    "duration": 16,
    "start_time": "2022-03-30T11:56:37.754Z"
   },
   {
    "duration": 14,
    "start_time": "2022-03-30T11:56:37.772Z"
   },
   {
    "duration": 57,
    "start_time": "2022-03-30T11:56:37.788Z"
   },
   {
    "duration": 585,
    "start_time": "2022-03-30T11:56:37.847Z"
   },
   {
    "duration": 4,
    "start_time": "2022-03-30T11:56:38.434Z"
   },
   {
    "duration": 7,
    "start_time": "2022-03-30T11:56:38.440Z"
   },
   {
    "duration": 45,
    "start_time": "2022-03-30T11:56:38.448Z"
   },
   {
    "duration": 255,
    "start_time": "2022-03-30T11:56:38.494Z"
   },
   {
    "duration": 337,
    "start_time": "2022-03-30T11:56:38.751Z"
   },
   {
    "duration": 198,
    "start_time": "2022-03-30T11:56:39.090Z"
   },
   {
    "duration": 246,
    "start_time": "2022-03-30T11:56:39.290Z"
   },
   {
    "duration": 243,
    "start_time": "2022-03-30T11:57:53.552Z"
   },
   {
    "duration": 230,
    "start_time": "2022-03-30T11:58:03.120Z"
   },
   {
    "duration": 44,
    "start_time": "2022-04-03T04:35:10.609Z"
   },
   {
    "duration": 1282,
    "start_time": "2022-04-03T04:35:17.965Z"
   },
   {
    "duration": 108,
    "start_time": "2022-04-03T04:35:19.249Z"
   },
   {
    "duration": 35,
    "start_time": "2022-04-03T04:35:19.363Z"
   },
   {
    "duration": 231,
    "start_time": "2022-04-03T04:35:22.927Z"
   },
   {
    "duration": 207,
    "start_time": "2022-04-03T04:36:21.257Z"
   },
   {
    "duration": 199,
    "start_time": "2022-04-03T04:36:37.340Z"
   },
   {
    "duration": 188,
    "start_time": "2022-04-03T04:39:38.940Z"
   },
   {
    "duration": 183,
    "start_time": "2022-04-03T04:39:52.024Z"
   },
   {
    "duration": 191,
    "start_time": "2022-04-03T04:40:02.761Z"
   },
   {
    "duration": 209,
    "start_time": "2022-04-03T04:44:12.937Z"
   },
   {
    "duration": 3,
    "start_time": "2022-04-03T04:44:20.118Z"
   },
   {
    "duration": 110,
    "start_time": "2022-04-03T04:44:20.123Z"
   },
   {
    "duration": 52,
    "start_time": "2022-04-03T04:44:20.236Z"
   },
   {
    "duration": 206,
    "start_time": "2022-04-03T04:44:20.290Z"
   },
   {
    "duration": 5,
    "start_time": "2022-04-03T04:44:20.499Z"
   },
   {
    "duration": 13,
    "start_time": "2022-04-03T04:44:20.505Z"
   },
   {
    "duration": 5,
    "start_time": "2022-04-03T04:44:20.520Z"
   },
   {
    "duration": 41,
    "start_time": "2022-04-03T04:44:20.527Z"
   },
   {
    "duration": 7,
    "start_time": "2022-04-03T04:44:20.570Z"
   },
   {
    "duration": 4,
    "start_time": "2022-04-03T04:44:20.579Z"
   },
   {
    "duration": 13,
    "start_time": "2022-04-03T04:44:20.586Z"
   },
   {
    "duration": 8,
    "start_time": "2022-04-03T04:44:20.600Z"
   },
   {
    "duration": 7,
    "start_time": "2022-04-03T04:44:20.610Z"
   },
   {
    "duration": 6,
    "start_time": "2022-04-03T04:44:20.619Z"
   },
   {
    "duration": 47,
    "start_time": "2022-04-03T04:44:20.626Z"
   },
   {
    "duration": 11,
    "start_time": "2022-04-03T04:44:20.675Z"
   },
   {
    "duration": 18,
    "start_time": "2022-04-03T04:44:20.687Z"
   },
   {
    "duration": 534,
    "start_time": "2022-04-03T04:44:20.707Z"
   },
   {
    "duration": 4,
    "start_time": "2022-04-03T04:44:21.243Z"
   },
   {
    "duration": 15,
    "start_time": "2022-04-03T04:44:21.248Z"
   },
   {
    "duration": 36,
    "start_time": "2022-04-03T04:44:21.264Z"
   },
   {
    "duration": 198,
    "start_time": "2022-04-03T04:44:21.302Z"
   },
   {
    "duration": 203,
    "start_time": "2022-04-03T04:44:21.502Z"
   },
   {
    "duration": 229,
    "start_time": "2022-04-03T04:44:21.707Z"
   },
   {
    "duration": 196,
    "start_time": "2022-04-03T04:44:21.937Z"
   },
   {
    "duration": 200,
    "start_time": "2022-04-03T04:44:22.135Z"
   },
   {
    "duration": 102,
    "start_time": "2022-04-03T04:44:22.337Z"
   },
   {
    "duration": 10,
    "start_time": "2022-04-03T04:44:22.441Z"
   },
   {
    "duration": 99,
    "start_time": "2022-04-03T04:44:22.464Z"
   },
   {
    "duration": 10,
    "start_time": "2022-04-03T04:44:22.564Z"
   },
   {
    "duration": 19,
    "start_time": "2022-04-03T04:44:22.575Z"
   },
   {
    "duration": 11,
    "start_time": "2022-04-03T04:44:22.595Z"
   },
   {
    "duration": 9387,
    "start_time": "2022-04-03T04:44:22.608Z"
   },
   {
    "duration": 245,
    "start_time": "2022-04-03T04:44:41.736Z"
   },
   {
    "duration": 250,
    "start_time": "2022-04-03T04:50:20.060Z"
   },
   {
    "duration": 235,
    "start_time": "2022-04-03T04:50:40.587Z"
   },
   {
    "duration": 209,
    "start_time": "2022-04-03T04:50:57.916Z"
   },
   {
    "duration": 224,
    "start_time": "2022-04-03T04:51:20.939Z"
   },
   {
    "duration": 569,
    "start_time": "2022-04-03T04:51:31.828Z"
   },
   {
    "duration": 125,
    "start_time": "2022-04-03T04:51:54.371Z"
   },
   {
    "duration": 146,
    "start_time": "2022-04-03T04:52:19.747Z"
   },
   {
    "duration": 159,
    "start_time": "2022-04-03T04:54:01.276Z"
   },
   {
    "duration": 4,
    "start_time": "2022-04-03T04:54:09.068Z"
   },
   {
    "duration": 133,
    "start_time": "2022-04-03T04:54:24.444Z"
   },
   {
    "duration": 135,
    "start_time": "2022-04-03T04:55:04.445Z"
   },
   {
    "duration": 123,
    "start_time": "2022-04-03T04:55:16.733Z"
   },
   {
    "duration": 1083,
    "start_time": "2022-04-03T04:56:55.551Z"
   },
   {
    "duration": 108,
    "start_time": "2022-04-03T04:56:56.636Z"
   },
   {
    "duration": 41,
    "start_time": "2022-04-03T04:56:56.746Z"
   },
   {
    "duration": 224,
    "start_time": "2022-04-03T04:56:56.788Z"
   },
   {
    "duration": 4,
    "start_time": "2022-04-03T04:56:57.014Z"
   },
   {
    "duration": 14,
    "start_time": "2022-04-03T04:56:57.019Z"
   },
   {
    "duration": 4,
    "start_time": "2022-04-03T04:56:57.035Z"
   },
   {
    "duration": 34,
    "start_time": "2022-04-03T04:56:57.041Z"
   },
   {
    "duration": 7,
    "start_time": "2022-04-03T04:56:57.076Z"
   },
   {
    "duration": 4,
    "start_time": "2022-04-03T04:56:57.086Z"
   },
   {
    "duration": 14,
    "start_time": "2022-04-03T04:56:57.091Z"
   },
   {
    "duration": 7,
    "start_time": "2022-04-03T04:56:57.106Z"
   },
   {
    "duration": 10,
    "start_time": "2022-04-03T04:56:57.115Z"
   },
   {
    "duration": 6,
    "start_time": "2022-04-03T04:56:57.127Z"
   },
   {
    "duration": 38,
    "start_time": "2022-04-03T04:56:57.134Z"
   },
   {
    "duration": 13,
    "start_time": "2022-04-03T04:56:57.174Z"
   },
   {
    "duration": 18,
    "start_time": "2022-04-03T04:56:57.188Z"
   },
   {
    "duration": 539,
    "start_time": "2022-04-03T04:56:57.208Z"
   },
   {
    "duration": 3,
    "start_time": "2022-04-03T04:56:57.749Z"
   },
   {
    "duration": 4,
    "start_time": "2022-04-03T04:56:57.762Z"
   },
   {
    "duration": 34,
    "start_time": "2022-04-03T04:56:57.767Z"
   },
   {
    "duration": 195,
    "start_time": "2022-04-03T04:56:57.803Z"
   },
   {
    "duration": 269,
    "start_time": "2022-04-03T04:56:58.000Z"
   },
   {
    "duration": 154,
    "start_time": "2022-04-03T04:56:58.271Z"
   },
   {
    "duration": 198,
    "start_time": "2022-04-03T04:56:58.427Z"
   },
   {
    "duration": 204,
    "start_time": "2022-04-03T04:56:58.627Z"
   },
   {
    "duration": 107,
    "start_time": "2022-04-03T04:56:58.832Z"
   },
   {
    "duration": 9,
    "start_time": "2022-04-03T04:56:58.943Z"
   },
   {
    "duration": 98,
    "start_time": "2022-04-03T04:56:58.953Z"
   },
   {
    "duration": 15,
    "start_time": "2022-04-03T04:56:59.053Z"
   },
   {
    "duration": 16,
    "start_time": "2022-04-03T04:56:59.069Z"
   },
   {
    "duration": 10,
    "start_time": "2022-04-03T04:56:59.087Z"
   },
   {
    "duration": 9482,
    "start_time": "2022-04-03T04:56:59.098Z"
   },
   {
    "duration": 130,
    "start_time": "2022-04-03T04:57:08.601Z"
   },
   {
    "duration": 143,
    "start_time": "2022-04-03T04:57:08.733Z"
   },
   {
    "duration": 145,
    "start_time": "2022-04-03T04:57:08.877Z"
   },
   {
    "duration": 412,
    "start_time": "2022-04-03T04:57:09.025Z"
   },
   {
    "duration": 25,
    "start_time": "2022-04-03T04:57:09.439Z"
   },
   {
    "duration": 14,
    "start_time": "2022-04-03T04:57:09.466Z"
   },
   {
    "duration": 13,
    "start_time": "2022-04-03T04:57:09.482Z"
   },
   {
    "duration": 19,
    "start_time": "2022-04-03T04:57:09.496Z"
   },
   {
    "duration": 6,
    "start_time": "2022-04-03T04:57:09.516Z"
   },
   {
    "duration": 50,
    "start_time": "2022-04-03T04:57:09.524Z"
   },
   {
    "duration": 151,
    "start_time": "2022-04-03T04:57:19.992Z"
   },
   {
    "duration": 151,
    "start_time": "2022-04-03T05:00:23.503Z"
   },
   {
    "duration": 240,
    "start_time": "2022-04-03T05:06:03.983Z"
   },
   {
    "duration": 155,
    "start_time": "2022-04-03T05:07:23.344Z"
   },
   {
    "duration": 211,
    "start_time": "2022-04-03T05:13:01.258Z"
   },
   {
    "duration": 154,
    "start_time": "2022-04-03T05:13:48.236Z"
   },
   {
    "duration": 977,
    "start_time": "2022-04-03T05:14:19.045Z"
   },
   {
    "duration": 188,
    "start_time": "2022-04-03T05:14:42.813Z"
   },
   {
    "duration": 1135,
    "start_time": "2022-04-03T05:19:49.709Z"
   },
   {
    "duration": 110,
    "start_time": "2022-04-03T05:19:50.846Z"
   },
   {
    "duration": 35,
    "start_time": "2022-04-03T05:19:50.958Z"
   },
   {
    "duration": 229,
    "start_time": "2022-04-03T05:19:50.995Z"
   },
   {
    "duration": 5,
    "start_time": "2022-04-03T05:19:51.226Z"
   },
   {
    "duration": 14,
    "start_time": "2022-04-03T05:19:51.232Z"
   },
   {
    "duration": 19,
    "start_time": "2022-04-03T05:19:51.247Z"
   },
   {
    "duration": 16,
    "start_time": "2022-04-03T05:19:51.268Z"
   },
   {
    "duration": 7,
    "start_time": "2022-04-03T05:19:51.286Z"
   },
   {
    "duration": 4,
    "start_time": "2022-04-03T05:19:51.296Z"
   },
   {
    "duration": 14,
    "start_time": "2022-04-03T05:19:51.301Z"
   },
   {
    "duration": 7,
    "start_time": "2022-04-03T05:19:51.316Z"
   },
   {
    "duration": 39,
    "start_time": "2022-04-03T05:19:51.325Z"
   },
   {
    "duration": 7,
    "start_time": "2022-04-03T05:19:51.365Z"
   },
   {
    "duration": 14,
    "start_time": "2022-04-03T05:19:51.373Z"
   },
   {
    "duration": 12,
    "start_time": "2022-04-03T05:19:51.388Z"
   },
   {
    "duration": 16,
    "start_time": "2022-04-03T05:19:51.401Z"
   },
   {
    "duration": 538,
    "start_time": "2022-04-03T05:19:51.419Z"
   },
   {
    "duration": 4,
    "start_time": "2022-04-03T05:19:51.962Z"
   },
   {
    "duration": 6,
    "start_time": "2022-04-03T05:19:51.967Z"
   },
   {
    "duration": 32,
    "start_time": "2022-04-03T05:19:51.974Z"
   },
   {
    "duration": 206,
    "start_time": "2022-04-03T05:19:52.008Z"
   },
   {
    "duration": 279,
    "start_time": "2022-04-03T05:19:52.216Z"
   },
   {
    "duration": 155,
    "start_time": "2022-04-03T05:19:52.496Z"
   },
   {
    "duration": 196,
    "start_time": "2022-04-03T05:19:52.653Z"
   },
   {
    "duration": 210,
    "start_time": "2022-04-03T05:19:52.851Z"
   },
   {
    "duration": 110,
    "start_time": "2022-04-03T05:19:53.063Z"
   },
   {
    "duration": 10,
    "start_time": "2022-04-03T05:19:53.176Z"
   },
   {
    "duration": 106,
    "start_time": "2022-04-03T05:19:53.188Z"
   },
   {
    "duration": 11,
    "start_time": "2022-04-03T05:19:53.295Z"
   },
   {
    "duration": 17,
    "start_time": "2022-04-03T05:19:53.307Z"
   },
   {
    "duration": 11,
    "start_time": "2022-04-03T05:19:53.325Z"
   },
   {
    "duration": 9121,
    "start_time": "2022-04-03T05:19:53.338Z"
   },
   {
    "duration": 164,
    "start_time": "2022-04-03T05:20:17.023Z"
   },
   {
    "duration": 37,
    "start_time": "2022-04-03T05:21:25.842Z"
   },
   {
    "duration": 1206,
    "start_time": "2022-04-03T08:38:58.362Z"
   },
   {
    "duration": 126,
    "start_time": "2022-04-03T08:38:59.570Z"
   },
   {
    "duration": 55,
    "start_time": "2022-04-03T08:38:59.698Z"
   },
   {
    "duration": 308,
    "start_time": "2022-04-03T08:38:59.755Z"
   },
   {
    "duration": 6,
    "start_time": "2022-04-03T08:39:00.064Z"
   },
   {
    "duration": 30,
    "start_time": "2022-04-03T08:39:00.071Z"
   },
   {
    "duration": 27,
    "start_time": "2022-04-03T08:39:00.103Z"
   },
   {
    "duration": 37,
    "start_time": "2022-04-03T08:39:00.131Z"
   },
   {
    "duration": 9,
    "start_time": "2022-04-03T08:39:00.170Z"
   },
   {
    "duration": 5,
    "start_time": "2022-04-03T08:39:00.182Z"
   },
   {
    "duration": 20,
    "start_time": "2022-04-03T08:39:00.189Z"
   },
   {
    "duration": 9,
    "start_time": "2022-04-03T08:39:00.211Z"
   },
   {
    "duration": 19,
    "start_time": "2022-04-03T08:39:00.222Z"
   },
   {
    "duration": 21,
    "start_time": "2022-04-03T08:39:00.243Z"
   },
   {
    "duration": 29,
    "start_time": "2022-04-03T08:39:00.266Z"
   },
   {
    "duration": 14,
    "start_time": "2022-04-03T08:39:00.296Z"
   },
   {
    "duration": 25,
    "start_time": "2022-04-03T08:39:00.311Z"
   },
   {
    "duration": 617,
    "start_time": "2022-04-03T08:39:00.339Z"
   },
   {
    "duration": 4,
    "start_time": "2022-04-03T08:39:00.958Z"
   },
   {
    "duration": 9,
    "start_time": "2022-04-03T08:39:00.963Z"
   },
   {
    "duration": 43,
    "start_time": "2022-04-03T08:39:00.974Z"
   },
   {
    "duration": 254,
    "start_time": "2022-04-03T08:39:01.019Z"
   },
   {
    "duration": 355,
    "start_time": "2022-04-03T08:39:01.275Z"
   },
   {
    "duration": 206,
    "start_time": "2022-04-03T08:39:01.632Z"
   },
   {
    "duration": 256,
    "start_time": "2022-04-03T08:39:01.841Z"
   },
   {
    "duration": 257,
    "start_time": "2022-04-03T08:39:02.098Z"
   },
   {
    "duration": 126,
    "start_time": "2022-04-03T08:39:02.357Z"
   },
   {
    "duration": 11,
    "start_time": "2022-04-03T08:39:02.486Z"
   },
   {
    "duration": 127,
    "start_time": "2022-04-03T08:39:02.499Z"
   },
   {
    "duration": 19,
    "start_time": "2022-04-03T08:39:02.628Z"
   },
   {
    "duration": 24,
    "start_time": "2022-04-03T08:39:02.650Z"
   },
   {
    "duration": 12,
    "start_time": "2022-04-03T08:39:02.676Z"
   },
   {
    "duration": 11333,
    "start_time": "2022-04-03T08:39:02.689Z"
   },
   {
    "duration": 320,
    "start_time": "2022-04-03T08:39:22.253Z"
   },
   {
    "duration": 219,
    "start_time": "2022-04-03T08:39:33.793Z"
   },
   {
    "duration": 222,
    "start_time": "2022-04-03T08:40:23.993Z"
   },
   {
    "duration": 542,
    "start_time": "2022-04-03T08:42:03.735Z"
   },
   {
    "duration": 211,
    "start_time": "2022-04-03T08:42:41.650Z"
   },
   {
    "duration": 205,
    "start_time": "2022-04-03T08:43:26.954Z"
   },
   {
    "duration": 1272,
    "start_time": "2022-04-03T08:45:12.606Z"
   },
   {
    "duration": 134,
    "start_time": "2022-04-03T08:45:13.880Z"
   },
   {
    "duration": 57,
    "start_time": "2022-04-03T08:45:14.016Z"
   },
   {
    "duration": 262,
    "start_time": "2022-04-03T08:45:14.075Z"
   },
   {
    "duration": 7,
    "start_time": "2022-04-03T08:45:14.340Z"
   },
   {
    "duration": 21,
    "start_time": "2022-04-03T08:45:14.350Z"
   },
   {
    "duration": 6,
    "start_time": "2022-04-03T08:45:14.373Z"
   },
   {
    "duration": 21,
    "start_time": "2022-04-03T08:45:14.380Z"
   },
   {
    "duration": 9,
    "start_time": "2022-04-03T08:45:14.402Z"
   },
   {
    "duration": 8,
    "start_time": "2022-04-03T08:45:14.437Z"
   },
   {
    "duration": 20,
    "start_time": "2022-04-03T08:45:14.448Z"
   },
   {
    "duration": 8,
    "start_time": "2022-04-03T08:45:14.470Z"
   },
   {
    "duration": 9,
    "start_time": "2022-04-03T08:45:14.480Z"
   },
   {
    "duration": 8,
    "start_time": "2022-04-03T08:45:14.490Z"
   },
   {
    "duration": 41,
    "start_time": "2022-04-03T08:45:14.499Z"
   },
   {
    "duration": 19,
    "start_time": "2022-04-03T08:45:14.541Z"
   },
   {
    "duration": 20,
    "start_time": "2022-04-03T08:45:14.561Z"
   },
   {
    "duration": 632,
    "start_time": "2022-04-03T08:45:14.583Z"
   },
   {
    "duration": 4,
    "start_time": "2022-04-03T08:45:15.217Z"
   },
   {
    "duration": 16,
    "start_time": "2022-04-03T08:45:15.222Z"
   },
   {
    "duration": 47,
    "start_time": "2022-04-03T08:45:15.240Z"
   },
   {
    "duration": 232,
    "start_time": "2022-04-03T08:45:15.289Z"
   },
   {
    "duration": 346,
    "start_time": "2022-04-03T08:45:15.523Z"
   },
   {
    "duration": 192,
    "start_time": "2022-04-03T08:45:15.871Z"
   },
   {
    "duration": 240,
    "start_time": "2022-04-03T08:45:16.065Z"
   },
   {
    "duration": 273,
    "start_time": "2022-04-03T08:45:16.306Z"
   },
   {
    "duration": 129,
    "start_time": "2022-04-03T08:45:16.580Z"
   },
   {
    "duration": 12,
    "start_time": "2022-04-03T08:45:16.712Z"
   },
   {
    "duration": 137,
    "start_time": "2022-04-03T08:45:16.725Z"
   },
   {
    "duration": 12,
    "start_time": "2022-04-03T08:45:16.864Z"
   },
   {
    "duration": 19,
    "start_time": "2022-04-03T08:45:16.878Z"
   },
   {
    "duration": 13,
    "start_time": "2022-04-03T08:45:16.899Z"
   },
   {
    "duration": 11366,
    "start_time": "2022-04-03T08:45:16.914Z"
   },
   {
    "duration": 242,
    "start_time": "2022-04-03T08:45:28.283Z"
   },
   {
    "duration": 230,
    "start_time": "2022-04-03T08:45:28.527Z"
   },
   {
    "duration": 235,
    "start_time": "2022-04-03T08:45:28.759Z"
   },
   {
    "duration": 16,
    "start_time": "2022-04-03T08:45:28.996Z"
   },
   {
    "duration": 34,
    "start_time": "2022-04-03T08:45:29.014Z"
   },
   {
    "duration": 10,
    "start_time": "2022-04-03T08:45:29.053Z"
   },
   {
    "duration": 19,
    "start_time": "2022-04-03T08:45:29.064Z"
   },
   {
    "duration": 5,
    "start_time": "2022-04-03T08:45:29.085Z"
   },
   {
    "duration": 371,
    "start_time": "2022-04-03T08:45:29.092Z"
   },
   {
    "duration": 172,
    "start_time": "2022-04-03T08:45:29.465Z"
   },
   {
    "duration": 13,
    "start_time": "2022-04-03T08:45:29.640Z"
   },
   {
    "duration": 167,
    "start_time": "2022-04-03T08:45:40.755Z"
   },
   {
    "duration": 121,
    "start_time": "2022-04-03T08:46:27.123Z"
   },
   {
    "duration": 178,
    "start_time": "2022-04-03T08:46:34.771Z"
   },
   {
    "duration": 165,
    "start_time": "2022-04-03T08:47:37.851Z"
   },
   {
    "duration": 199,
    "start_time": "2022-04-03T08:48:32.960Z"
   },
   {
    "duration": 171,
    "start_time": "2022-04-03T08:48:51.756Z"
   },
   {
    "duration": 191,
    "start_time": "2022-04-03T08:49:00.828Z"
   },
   {
    "duration": 180,
    "start_time": "2022-04-03T08:49:11.932Z"
   },
   {
    "duration": 180,
    "start_time": "2022-04-03T08:50:00.557Z"
   },
   {
    "duration": 174,
    "start_time": "2022-04-03T09:37:33.974Z"
   },
   {
    "duration": 207,
    "start_time": "2022-04-03T09:37:52.966Z"
   },
   {
    "duration": 250,
    "start_time": "2022-04-03T09:38:40.429Z"
   },
   {
    "duration": 117,
    "start_time": "2022-04-03T09:38:57.749Z"
   },
   {
    "duration": 216,
    "start_time": "2022-04-03T09:39:06.038Z"
   },
   {
    "duration": 194,
    "start_time": "2022-04-03T09:39:33.438Z"
   },
   {
    "duration": 185,
    "start_time": "2022-04-03T09:40:15.277Z"
   },
   {
    "duration": 187,
    "start_time": "2022-04-03T09:43:17.061Z"
   },
   {
    "duration": 129,
    "start_time": "2022-04-03T09:43:24.333Z"
   },
   {
    "duration": 188,
    "start_time": "2022-04-03T09:43:25.166Z"
   },
   {
    "duration": 201,
    "start_time": "2022-04-03T09:44:25.070Z"
   },
   {
    "duration": 188,
    "start_time": "2022-04-03T09:44:34.637Z"
   },
   {
    "duration": 198,
    "start_time": "2022-04-03T09:45:12.661Z"
   },
   {
    "duration": 196,
    "start_time": "2022-04-03T09:46:00.165Z"
   }
  ],
  "kernelspec": {
   "display_name": "Python 3 (ipykernel)",
   "language": "python",
   "name": "python3"
  },
  "language_info": {
   "codemirror_mode": {
    "name": "ipython",
    "version": 3
   },
   "file_extension": ".py",
   "mimetype": "text/x-python",
   "name": "python",
   "nbconvert_exporter": "python",
   "pygments_lexer": "ipython3",
   "version": "3.9.5"
  },
  "toc": {
   "base_numbering": 1,
   "nav_menu": {},
   "number_sections": true,
   "sideBar": true,
   "skip_h1_title": true,
   "title_cell": "Содержание",
   "title_sidebar": "Contents",
   "toc_cell": true,
   "toc_position": {},
   "toc_section_display": true,
   "toc_window_display": false
  }
 },
 "nbformat": 4,
 "nbformat_minor": 2
}
