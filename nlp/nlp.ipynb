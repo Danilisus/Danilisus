{
 "cells": [
  {
   "cell_type": "markdown",
   "metadata": {
    "toc": true
   },
   "source": [
    "<h1>Содержание<span class=\"tocSkip\"></span></h1>\n",
    "<div class=\"toc\"><ul class=\"toc-item\"><li><span><a href=\"#Подготовка\" data-toc-modified-id=\"Подготовка-1\"><span class=\"toc-item-num\">1&nbsp;&nbsp;</span>Подготовка</a></span></li><li><span><a href=\"#Обучение\" data-toc-modified-id=\"Обучение-2\"><span class=\"toc-item-num\">2&nbsp;&nbsp;</span>Обучение</a></span></li><li><span><a href=\"#Выводы\" data-toc-modified-id=\"Выводы-3\"><span class=\"toc-item-num\">3&nbsp;&nbsp;</span>Выводы</a></span></li></ul></div>"
   ]
  },
  {
   "cell_type": "markdown",
   "metadata": {},
   "source": [
    "# Проект для «Викишоп»"
   ]
  },
  {
   "cell_type": "markdown",
   "metadata": {},
   "source": [
    "Интернет-магазин запускает новый сервис. Теперь пользователи могут редактировать и дополнять описания товаров, как в вики-сообществах. То есть клиенты предлагают свои правки и комментируют изменения других. Магазину нужен инструмент, который будет искать токсичные комментарии и отправлять их на модерацию. \n",
    "\n",
    "Обучите модель классифицировать комментарии на позитивные и негативные. В вашем распоряжении набор данных с разметкой о токсичности правок.\n",
    "\n",
    "Постройте модель со значением метрики качества *F1* не меньше 0.75. \n",
    "\n",
    "**Инструкция по выполнению проекта**\n",
    "\n",
    "1. Загрузите и подготовьте данные.\n",
    "2. Обучите разные модели. \n",
    "3. Сделайте выводы.\n",
    "\n",
    "Для выполнения проекта применять *BERT* необязательно, но вы можете попробовать.\n",
    "\n",
    "**Описание данных**\n",
    "\n",
    "Данные находятся в файле `toxic_comments.csv`. Столбец *text* в нём содержит текст комментария, а *toxic* — целевой признак."
   ]
  },
  {
   "cell_type": "markdown",
   "metadata": {},
   "source": [
    "## Подготовка"
   ]
  },
  {
   "cell_type": "markdown",
   "metadata": {},
   "source": [
    "Импортируем необходимые библиотеки"
   ]
  },
  {
   "cell_type": "code",
   "execution_count": 1,
   "metadata": {},
   "outputs": [
    {
     "name": "stdout",
     "output_type": "stream",
     "text": [
      "Requirement already satisfied: pymystem3 in /opt/conda/lib/python3.9/site-packages (0.2.0)\r\n",
      "Requirement already satisfied: requests in /opt/conda/lib/python3.9/site-packages (from pymystem3) (2.25.1)\r\n",
      "Requirement already satisfied: certifi>=2017.4.17 in /opt/conda/lib/python3.9/site-packages (from requests->pymystem3) (2021.10.8)\r\n",
      "Requirement already satisfied: chardet<5,>=3.0.2 in /opt/conda/lib/python3.9/site-packages (from requests->pymystem3) (4.0.0)\r\n",
      "Requirement already satisfied: urllib3<1.27,>=1.21.1 in /opt/conda/lib/python3.9/site-packages (from requests->pymystem3) (1.26.6)\r\n",
      "Requirement already satisfied: idna<3,>=2.5 in /opt/conda/lib/python3.9/site-packages (from requests->pymystem3) (2.10)\r\n"
     ]
    }
   ],
   "source": [
    "! pip install pymystem3"
   ]
  },
  {
   "cell_type": "code",
   "execution_count": 1,
   "metadata": {},
   "outputs": [],
   "source": [
    "import pandas as pd\n",
    "from pymystem3 import Mystem\n",
    "import re\n",
    "import nltk\n",
    "from nltk.corpus import stopwords as nltk_stopwords\n",
    "from sklearn.feature_extraction.text import CountVectorizer\n",
    "from sklearn.feature_extraction.text import TfidfVectorizer\n",
    "\n",
    "from sklearn.model_selection import train_test_split, cross_val_score\n",
    "from sklearn.linear_model import LogisticRegression\n",
    "from sklearn.metrics import f1_score"
   ]
  },
  {
   "cell_type": "markdown",
   "metadata": {},
   "source": [
    "Прочитаем файл"
   ]
  },
  {
   "cell_type": "code",
   "execution_count": 2,
   "metadata": {},
   "outputs": [],
   "source": [
    "data = pd.read_csv('/datasets/toxic_comments.csv')"
   ]
  },
  {
   "cell_type": "markdown",
   "metadata": {},
   "source": [
    "Посмотрим на наши данные"
   ]
  },
  {
   "cell_type": "code",
   "execution_count": 3,
   "metadata": {},
   "outputs": [
    {
     "data": {
      "text/html": [
       "<div>\n",
       "<style scoped>\n",
       "    .dataframe tbody tr th:only-of-type {\n",
       "        vertical-align: middle;\n",
       "    }\n",
       "\n",
       "    .dataframe tbody tr th {\n",
       "        vertical-align: top;\n",
       "    }\n",
       "\n",
       "    .dataframe thead th {\n",
       "        text-align: right;\n",
       "    }\n",
       "</style>\n",
       "<table border=\"1\" class=\"dataframe\">\n",
       "  <thead>\n",
       "    <tr style=\"text-align: right;\">\n",
       "      <th></th>\n",
       "      <th>text</th>\n",
       "      <th>toxic</th>\n",
       "    </tr>\n",
       "  </thead>\n",
       "  <tbody>\n",
       "    <tr>\n",
       "      <th>0</th>\n",
       "      <td>Explanation\\nWhy the edits made under my usern...</td>\n",
       "      <td>0</td>\n",
       "    </tr>\n",
       "    <tr>\n",
       "      <th>1</th>\n",
       "      <td>D'aww! He matches this background colour I'm s...</td>\n",
       "      <td>0</td>\n",
       "    </tr>\n",
       "    <tr>\n",
       "      <th>2</th>\n",
       "      <td>Hey man, I'm really not trying to edit war. It...</td>\n",
       "      <td>0</td>\n",
       "    </tr>\n",
       "    <tr>\n",
       "      <th>3</th>\n",
       "      <td>\"\\nMore\\nI can't make any real suggestions on ...</td>\n",
       "      <td>0</td>\n",
       "    </tr>\n",
       "    <tr>\n",
       "      <th>4</th>\n",
       "      <td>You, sir, are my hero. Any chance you remember...</td>\n",
       "      <td>0</td>\n",
       "    </tr>\n",
       "  </tbody>\n",
       "</table>\n",
       "</div>"
      ],
      "text/plain": [
       "                                                text  toxic\n",
       "0  Explanation\\nWhy the edits made under my usern...      0\n",
       "1  D'aww! He matches this background colour I'm s...      0\n",
       "2  Hey man, I'm really not trying to edit war. It...      0\n",
       "3  \"\\nMore\\nI can't make any real suggestions on ...      0\n",
       "4  You, sir, are my hero. Any chance you remember...      0"
      ]
     },
     "metadata": {},
     "output_type": "display_data"
    }
   ],
   "source": [
    "display(data.head())"
   ]
  },
  {
   "cell_type": "markdown",
   "metadata": {},
   "source": [
    "Загрузим общую информацию о данных."
   ]
  },
  {
   "cell_type": "code",
   "execution_count": 4,
   "metadata": {},
   "outputs": [
    {
     "name": "stdout",
     "output_type": "stream",
     "text": [
      "<class 'pandas.core.frame.DataFrame'>\n",
      "RangeIndex: 159571 entries, 0 to 159570\n",
      "Data columns (total 2 columns):\n",
      " #   Column  Non-Null Count   Dtype \n",
      "---  ------  --------------   ----- \n",
      " 0   text    159571 non-null  object\n",
      " 1   toxic   159571 non-null  int64 \n",
      "dtypes: int64(1), object(1)\n",
      "memory usage: 2.4+ MB\n"
     ]
    }
   ],
   "source": [
    "data.info()"
   ]
  },
  {
   "cell_type": "markdown",
   "metadata": {},
   "source": [
    "**Вывод**\n",
    "\n",
    "Данные загружены, пропусков нет, типы данных верные.\n",
    "\n",
    "Перейдем к подготовке данных для обучения. Для начала удалим стоп-слова и лемматизируем текст."
   ]
  },
  {
   "cell_type": "code",
   "execution_count": 5,
   "metadata": {},
   "outputs": [
    {
     "data": {
      "text/html": [
       "<div>\n",
       "<style scoped>\n",
       "    .dataframe tbody tr th:only-of-type {\n",
       "        vertical-align: middle;\n",
       "    }\n",
       "\n",
       "    .dataframe tbody tr th {\n",
       "        vertical-align: top;\n",
       "    }\n",
       "\n",
       "    .dataframe thead th {\n",
       "        text-align: right;\n",
       "    }\n",
       "</style>\n",
       "<table border=\"1\" class=\"dataframe\">\n",
       "  <thead>\n",
       "    <tr style=\"text-align: right;\">\n",
       "      <th></th>\n",
       "      <th>text</th>\n",
       "      <th>toxic</th>\n",
       "      <th>lemm_text</th>\n",
       "    </tr>\n",
       "  </thead>\n",
       "  <tbody>\n",
       "    <tr>\n",
       "      <th>0</th>\n",
       "      <td>Explanation\\nWhy the edits made under my usern...</td>\n",
       "      <td>0</td>\n",
       "      <td>Explanation Why the edits made under my userna...</td>\n",
       "    </tr>\n",
       "    <tr>\n",
       "      <th>1</th>\n",
       "      <td>D'aww! He matches this background colour I'm s...</td>\n",
       "      <td>0</td>\n",
       "      <td>D aww He matches this background colour I m se...</td>\n",
       "    </tr>\n",
       "    <tr>\n",
       "      <th>2</th>\n",
       "      <td>Hey man, I'm really not trying to edit war. It...</td>\n",
       "      <td>0</td>\n",
       "      <td>Hey man I m really not trying to edit war It s...</td>\n",
       "    </tr>\n",
       "    <tr>\n",
       "      <th>3</th>\n",
       "      <td>\"\\nMore\\nI can't make any real suggestions on ...</td>\n",
       "      <td>0</td>\n",
       "      <td>More I can t make any real suggestions on impr...</td>\n",
       "    </tr>\n",
       "    <tr>\n",
       "      <th>4</th>\n",
       "      <td>You, sir, are my hero. Any chance you remember...</td>\n",
       "      <td>0</td>\n",
       "      <td>You sir are my hero Any chance you remember wh...</td>\n",
       "    </tr>\n",
       "  </tbody>\n",
       "</table>\n",
       "</div>"
      ],
      "text/plain": [
       "                                                text  toxic  \\\n",
       "0  Explanation\\nWhy the edits made under my usern...      0   \n",
       "1  D'aww! He matches this background colour I'm s...      0   \n",
       "2  Hey man, I'm really not trying to edit war. It...      0   \n",
       "3  \"\\nMore\\nI can't make any real suggestions on ...      0   \n",
       "4  You, sir, are my hero. Any chance you remember...      0   \n",
       "\n",
       "                                           lemm_text  \n",
       "0  Explanation Why the edits made under my userna...  \n",
       "1  D aww He matches this background colour I m se...  \n",
       "2  Hey man I m really not trying to edit war It s...  \n",
       "3  More I can t make any real suggestions on impr...  \n",
       "4  You sir are my hero Any chance you remember wh...  "
      ]
     },
     "metadata": {},
     "output_type": "display_data"
    }
   ],
   "source": [
    "def lemmatize(text):\n",
    "    m = Mystem()\n",
    "    lemm_list = m.lemmatize(text)\n",
    "    lemm_text = \"\".join(lemm_list)\n",
    "        \n",
    "    return clear_text(lemm_text)\n",
    "\n",
    "\n",
    "def clear_text(text):\n",
    "    text = \" \".join(re.sub(r'[^a-zA-Z]', ' ', text).split())\n",
    "    return text\n",
    "\n",
    "data['lemm_text'] = data['text'].apply(clear_text)\n",
    "\n",
    "display(data.head())"
   ]
  },
  {
   "cell_type": "markdown",
   "metadata": {},
   "source": [
    "Создадим корпус"
   ]
  },
  {
   "cell_type": "code",
   "execution_count": 6,
   "metadata": {},
   "outputs": [],
   "source": [
    "corpus = list(data['lemm_text'])"
   ]
  },
  {
   "cell_type": "markdown",
   "metadata": {},
   "source": [
    "Создадим мешок слов и n-граммы."
   ]
  },
  {
   "cell_type": "code",
   "execution_count": 7,
   "metadata": {},
   "outputs": [
    {
     "name": "stderr",
     "output_type": "stream",
     "text": [
      "[nltk_data] Downloading package stopwords to /home/jovyan/nltk_data...\n",
      "[nltk_data]   Package stopwords is already up-to-date!\n"
     ]
    }
   ],
   "source": [
    "nltk.download('stopwords')\n",
    "stopwords = set(nltk_stopwords.words('english'))"
   ]
  },
  {
   "cell_type": "markdown",
   "metadata": {},
   "source": [
    "Выделим признаки и целевой признак, разобем выборку на обучающую и тестовую."
   ]
  },
  {
   "cell_type": "code",
   "execution_count": 8,
   "metadata": {},
   "outputs": [
    {
     "data": {
      "text/plain": [
       "(127656, 5829309)"
      ]
     },
     "metadata": {},
     "output_type": "display_data"
    },
    {
     "data": {
      "text/plain": [
       "(31915, 5829309)"
      ]
     },
     "metadata": {},
     "output_type": "display_data"
    }
   ],
   "source": [
    "features = corpus\n",
    "target = data['toxic']\n",
    "\n",
    "features_train, features_valid, target_train, target_valid = train_test_split(\n",
    "    features, target, test_size=0.20, random_state=12345)\n",
    "\n",
    "count_vect = CountVectorizer(stop_words=stopwords, ngram_range=(1, 3))\n",
    "features_train = count_vect.fit_transform(features_train)\n",
    "features_valid = count_vect.transform(features_valid)\n",
    "display(features_train.shape)\n",
    "display(features_valid.shape)"
   ]
  },
  {
   "cell_type": "markdown",
   "metadata": {},
   "source": [
    "## Обучение"
   ]
  },
  {
   "cell_type": "markdown",
   "metadata": {},
   "source": [
    "Обучим логистическую регрессию, проверим на валидационной выброрке."
   ]
  },
  {
   "cell_type": "code",
   "execution_count": 9,
   "metadata": {
    "scrolled": true
   },
   "outputs": [
    {
     "name": "stderr",
     "output_type": "stream",
     "text": [
      "/opt/conda/lib/python3.9/site-packages/sklearn/linear_model/_logistic.py:763: ConvergenceWarning: lbfgs failed to converge (status=1):\n",
      "STOP: TOTAL NO. of ITERATIONS REACHED LIMIT.\n",
      "\n",
      "Increase the number of iterations (max_iter) or scale the data as shown in:\n",
      "    https://scikit-learn.org/stable/modules/preprocessing.html\n",
      "Please also refer to the documentation for alternative solver options:\n",
      "    https://scikit-learn.org/stable/modules/linear_model.html#logistic-regression\n",
      "  n_iter_i = _check_optimize_result(\n"
     ]
    },
    {
     "data": {
      "text/plain": [
       "'F1-мера на обучающей выборке: 0.9871555347968238'"
      ]
     },
     "metadata": {},
     "output_type": "display_data"
    }
   ],
   "source": [
    "model = LogisticRegression(random_state=12345, solver='lbfgs')\n",
    "\n",
    "model.fit(features_train, target_train)\n",
    "predict = model.predict(features_train)\n",
    "\n",
    "display(f'F1-мера на обучающей выборке: {f1_score(target_train, predict)}')"
   ]
  },
  {
   "cell_type": "code",
   "execution_count": 10,
   "metadata": {},
   "outputs": [
    {
     "data": {
      "text/plain": [
       "'F1-мера на валидационной выборке: 0.7620550587410135'"
      ]
     },
     "metadata": {},
     "output_type": "display_data"
    }
   ],
   "source": [
    "predict_valid = model.predict(features_valid)\n",
    "display(f'F1-мера на валидационной выборке: {f1_score(target_valid, predict_valid)}')"
   ]
  },
  {
   "cell_type": "markdown",
   "metadata": {},
   "source": [
    "## Выводы"
   ]
  },
  {
   "cell_type": "markdown",
   "metadata": {},
   "source": [
    "В данной работе исследовали алгоритм лемматизации текста, очистили текст от стоп-слов. После разбивки на обучающую и валидационную выборки провели векторизацию текста. Обучив логистическую регрессию, получили полне достойный результат F1-меры, равный 0,76. Так как целевая метрика достигнута - могу рекомендовать к использованию линейную регрессию - в виду наименьшего использования ресурсов."
   ]
  }
 ],
 "metadata": {
  "ExecuteTimeLog": [
   {
    "duration": 513,
    "start_time": "2022-05-11T04:48:54.115Z"
   },
   {
    "duration": 87,
    "start_time": "2022-05-11T04:49:49.386Z"
   },
   {
    "duration": 10189,
    "start_time": "2022-05-11T04:50:00.250Z"
   },
   {
    "duration": 15,
    "start_time": "2022-05-11T04:50:25.453Z"
   },
   {
    "duration": 35,
    "start_time": "2022-05-11T04:51:08.953Z"
   },
   {
    "duration": 3,
    "start_time": "2022-05-11T04:52:01.545Z"
   },
   {
    "duration": 105,
    "start_time": "2022-05-11T05:17:19.691Z"
   },
   {
    "duration": 36,
    "start_time": "2022-05-11T05:18:09.595Z"
   },
   {
    "duration": 1238,
    "start_time": "2022-05-11T05:19:03.035Z"
   },
   {
    "duration": 27,
    "start_time": "2022-05-11T05:23:12.316Z"
   },
   {
    "duration": 15,
    "start_time": "2022-05-11T05:29:30.973Z"
   },
   {
    "duration": 5,
    "start_time": "2022-05-11T05:42:33.483Z"
   },
   {
    "duration": 284371,
    "start_time": "2022-05-11T05:43:10.839Z"
   },
   {
    "duration": 389,
    "start_time": "2022-05-11T05:48:55.974Z"
   },
   {
    "duration": 843,
    "start_time": "2022-05-11T05:48:56.365Z"
   },
   {
    "duration": 13,
    "start_time": "2022-05-11T05:48:57.210Z"
   },
   {
    "duration": 31,
    "start_time": "2022-05-11T05:48:57.225Z"
   },
   {
    "duration": 3865,
    "start_time": "2022-05-11T05:48:57.258Z"
   },
   {
    "duration": 1067,
    "start_time": "2022-05-11T07:19:42.533Z"
   },
   {
    "duration": 42,
    "start_time": "2022-05-11T07:20:13.925Z"
   },
   {
    "duration": 25660,
    "start_time": "2022-05-11T07:20:51.895Z"
   },
   {
    "duration": 203,
    "start_time": "2022-05-11T07:22:53.815Z"
   },
   {
    "duration": 61,
    "start_time": "2022-05-11T07:24:55.001Z"
   },
   {
    "duration": 53,
    "start_time": "2022-05-11T07:25:04.244Z"
   },
   {
    "duration": 1739,
    "start_time": "2022-05-11T07:25:07.979Z"
   },
   {
    "duration": 12714,
    "start_time": "2022-05-11T07:25:09.720Z"
   },
   {
    "duration": 15,
    "start_time": "2022-05-11T07:25:22.439Z"
   },
   {
    "duration": 33,
    "start_time": "2022-05-11T07:25:22.456Z"
   },
   {
    "duration": 4504,
    "start_time": "2022-05-11T07:25:22.490Z"
   },
   {
    "duration": 36,
    "start_time": "2022-05-11T07:25:26.996Z"
   },
   {
    "duration": 26267,
    "start_time": "2022-05-11T07:25:27.043Z"
   },
   {
    "duration": 14456,
    "start_time": "2022-05-11T07:25:53.312Z"
   },
   {
    "duration": 1492,
    "start_time": "2022-05-11T08:11:56.561Z"
   },
   {
    "duration": 51,
    "start_time": "2022-05-11T08:20:33.673Z"
   },
   {
    "duration": 2011,
    "start_time": "2022-05-11T08:20:38.844Z"
   },
   {
    "duration": 1232,
    "start_time": "2022-05-11T08:20:40.858Z"
   },
   {
    "duration": 38,
    "start_time": "2022-05-11T08:20:42.093Z"
   },
   {
    "duration": 48,
    "start_time": "2022-05-11T08:20:42.134Z"
   },
   {
    "duration": 7369,
    "start_time": "2022-05-11T08:20:42.185Z"
   },
   {
    "duration": 78,
    "start_time": "2022-05-11T08:20:49.556Z"
   },
   {
    "duration": 24376,
    "start_time": "2022-05-11T08:20:49.637Z"
   },
   {
    "duration": 2284,
    "start_time": "2022-05-11T08:24:12.644Z"
   },
   {
    "duration": 1252,
    "start_time": "2022-05-11T08:24:14.930Z"
   },
   {
    "duration": 17,
    "start_time": "2022-05-11T08:24:16.184Z"
   },
   {
    "duration": 67,
    "start_time": "2022-05-11T08:24:16.204Z"
   },
   {
    "duration": 5561,
    "start_time": "2022-05-11T08:24:16.274Z"
   },
   {
    "duration": 30,
    "start_time": "2022-05-11T08:24:21.836Z"
   },
   {
    "duration": 22592,
    "start_time": "2022-05-11T08:24:21.868Z"
   },
   {
    "duration": 1442,
    "start_time": "2022-05-11T08:25:00.336Z"
   },
   {
    "duration": 800,
    "start_time": "2022-05-11T08:25:01.780Z"
   },
   {
    "duration": 14,
    "start_time": "2022-05-11T08:25:02.582Z"
   },
   {
    "duration": 40,
    "start_time": "2022-05-11T08:25:02.597Z"
   },
   {
    "duration": 4145,
    "start_time": "2022-05-11T08:25:02.640Z"
   },
   {
    "duration": 28,
    "start_time": "2022-05-11T08:25:06.787Z"
   },
   {
    "duration": 23613,
    "start_time": "2022-05-11T08:25:06.823Z"
   },
   {
    "duration": 1526,
    "start_time": "2022-05-11T08:25:40.050Z"
   },
   {
    "duration": 816,
    "start_time": "2022-05-11T08:25:41.578Z"
   },
   {
    "duration": 15,
    "start_time": "2022-05-11T08:25:42.396Z"
   },
   {
    "duration": 39,
    "start_time": "2022-05-11T08:25:42.413Z"
   },
   {
    "duration": 4038,
    "start_time": "2022-05-11T08:25:42.454Z"
   },
   {
    "duration": 33,
    "start_time": "2022-05-11T08:25:46.494Z"
   },
   {
    "duration": 22749,
    "start_time": "2022-05-11T08:25:46.529Z"
   },
   {
    "duration": 52,
    "start_time": "2022-05-11T08:26:20.833Z"
   },
   {
    "duration": 1695,
    "start_time": "2022-05-11T08:26:24.610Z"
   },
   {
    "duration": 844,
    "start_time": "2022-05-11T08:26:26.307Z"
   },
   {
    "duration": 14,
    "start_time": "2022-05-11T08:26:27.154Z"
   },
   {
    "duration": 30,
    "start_time": "2022-05-11T08:26:27.170Z"
   },
   {
    "duration": 3936,
    "start_time": "2022-05-11T08:26:27.202Z"
   },
   {
    "duration": 30,
    "start_time": "2022-05-11T08:26:31.140Z"
   },
   {
    "duration": 22653,
    "start_time": "2022-05-11T08:26:31.171Z"
   },
   {
    "duration": 2236,
    "start_time": "2022-05-11T08:27:02.382Z"
   },
   {
    "duration": 1748,
    "start_time": "2022-05-11T08:27:04.621Z"
   },
   {
    "duration": 16,
    "start_time": "2022-05-11T08:27:06.371Z"
   },
   {
    "duration": 45,
    "start_time": "2022-05-11T08:27:06.389Z"
   },
   {
    "duration": 4056,
    "start_time": "2022-05-11T08:27:06.436Z"
   },
   {
    "duration": 35,
    "start_time": "2022-05-11T08:27:10.494Z"
   },
   {
    "duration": 23387,
    "start_time": "2022-05-11T08:27:10.531Z"
   },
   {
    "duration": 1590,
    "start_time": "2022-05-11T08:28:24.139Z"
   },
   {
    "duration": 842,
    "start_time": "2022-05-11T08:28:25.731Z"
   },
   {
    "duration": 16,
    "start_time": "2022-05-11T08:28:26.575Z"
   },
   {
    "duration": 53,
    "start_time": "2022-05-11T08:28:26.594Z"
   },
   {
    "duration": 7117,
    "start_time": "2022-05-11T08:28:26.649Z"
   },
   {
    "duration": 39,
    "start_time": "2022-05-11T08:28:33.768Z"
   },
   {
    "duration": 34638,
    "start_time": "2022-05-11T08:28:33.809Z"
   },
   {
    "duration": 1936,
    "start_time": "2022-05-11T08:40:04.281Z"
   },
   {
    "duration": 14249,
    "start_time": "2022-05-11T08:40:06.219Z"
   },
   {
    "duration": 20,
    "start_time": "2022-05-11T08:40:20.472Z"
   },
   {
    "duration": 61,
    "start_time": "2022-05-11T08:40:20.494Z"
   },
   {
    "duration": 5932,
    "start_time": "2022-05-11T08:40:20.559Z"
   },
   {
    "duration": 41,
    "start_time": "2022-05-11T08:40:26.493Z"
   },
   {
    "duration": 24354,
    "start_time": "2022-05-11T08:40:26.536Z"
   },
   {
    "duration": 1690,
    "start_time": "2022-05-11T08:43:05.936Z"
   },
   {
    "duration": 10412,
    "start_time": "2022-05-11T08:43:07.631Z"
   },
   {
    "duration": 22,
    "start_time": "2022-05-11T08:43:18.046Z"
   },
   {
    "duration": 33,
    "start_time": "2022-05-11T08:43:18.070Z"
   },
   {
    "duration": 5170,
    "start_time": "2022-05-11T08:43:18.105Z"
   },
   {
    "duration": 31,
    "start_time": "2022-05-11T08:43:23.277Z"
   },
   {
    "duration": 27421,
    "start_time": "2022-05-11T08:43:23.310Z"
   },
   {
    "duration": 2075,
    "start_time": "2022-05-11T08:52:35.090Z"
   },
   {
    "duration": 1081,
    "start_time": "2022-05-11T08:52:37.168Z"
   },
   {
    "duration": 18,
    "start_time": "2022-05-11T08:52:38.251Z"
   },
   {
    "duration": 53,
    "start_time": "2022-05-11T08:52:38.271Z"
   },
   {
    "duration": 5884,
    "start_time": "2022-05-11T08:52:38.325Z"
   },
   {
    "duration": 49,
    "start_time": "2022-05-11T08:52:44.211Z"
   },
   {
    "duration": 31107,
    "start_time": "2022-05-11T08:52:44.263Z"
   },
   {
    "duration": 1752,
    "start_time": "2022-05-11T08:53:50.065Z"
   },
   {
    "duration": 1065,
    "start_time": "2022-05-11T08:53:51.822Z"
   },
   {
    "duration": 19,
    "start_time": "2022-05-11T08:53:52.890Z"
   },
   {
    "duration": 45,
    "start_time": "2022-05-11T08:53:52.910Z"
   },
   {
    "duration": 4425,
    "start_time": "2022-05-11T08:53:52.957Z"
   },
   {
    "duration": 30,
    "start_time": "2022-05-11T08:53:57.384Z"
   },
   {
    "duration": 32037,
    "start_time": "2022-05-11T08:53:57.416Z"
   },
   {
    "duration": 1672,
    "start_time": "2022-05-11T08:55:02.831Z"
   },
   {
    "duration": 887,
    "start_time": "2022-05-11T08:55:07.183Z"
   },
   {
    "duration": 16,
    "start_time": "2022-05-11T08:55:09.886Z"
   },
   {
    "duration": 43,
    "start_time": "2022-05-11T08:55:12.001Z"
   },
   {
    "duration": 4509,
    "start_time": "2022-05-11T08:55:13.743Z"
   },
   {
    "duration": 38,
    "start_time": "2022-05-11T08:55:21.408Z"
   },
   {
    "duration": 33005,
    "start_time": "2022-05-11T08:55:22.688Z"
   },
   {
    "duration": 74,
    "start_time": "2022-05-11T08:56:02.158Z"
   },
   {
    "duration": 286144,
    "start_time": "2022-05-11T08:56:03.726Z"
   },
   {
    "duration": 4,
    "start_time": "2022-05-11T09:03:03.814Z"
   },
   {
    "duration": 140414,
    "start_time": "2022-05-11T09:04:02.386Z"
   },
   {
    "duration": 21,
    "start_time": "2022-05-11T09:08:26.880Z"
   },
   {
    "duration": 177483,
    "start_time": "2022-05-11T09:13:34.289Z"
   },
   {
    "duration": 27,
    "start_time": "2022-05-11T09:16:39.136Z"
   },
   {
    "duration": 1500,
    "start_time": "2022-05-11T09:21:18.135Z"
   },
   {
    "duration": 921,
    "start_time": "2022-05-11T09:21:19.637Z"
   },
   {
    "duration": 16,
    "start_time": "2022-05-11T09:21:20.561Z"
   },
   {
    "duration": 44,
    "start_time": "2022-05-11T09:21:20.579Z"
   },
   {
    "duration": 4315,
    "start_time": "2022-05-11T09:21:20.625Z"
   },
   {
    "duration": 31,
    "start_time": "2022-05-11T09:21:24.942Z"
   },
   {
    "duration": 24163,
    "start_time": "2022-05-11T09:21:24.975Z"
   },
   {
    "duration": 84,
    "start_time": "2022-05-11T09:21:49.141Z"
   },
   {
    "duration": 173248,
    "start_time": "2022-05-11T09:21:49.227Z"
   },
   {
    "duration": 23,
    "start_time": "2022-05-11T09:24:42.476Z"
   },
   {
    "duration": 167621,
    "start_time": "2022-05-11T09:24:42.500Z"
   },
   {
    "duration": 27,
    "start_time": "2022-05-11T09:27:30.124Z"
   },
   {
    "duration": 4,
    "start_time": "2022-05-11T09:30:15.747Z"
   },
   {
    "duration": 163630,
    "start_time": "2022-05-11T09:30:32.788Z"
   },
   {
    "duration": 32,
    "start_time": "2022-05-11T09:33:16.420Z"
   },
   {
    "duration": 75527,
    "start_time": "2022-05-11T09:36:49.075Z"
   },
   {
    "duration": 163,
    "start_time": "2022-05-11T09:38:04.604Z"
   },
   {
    "duration": 393301,
    "start_time": "2022-05-11T09:38:04.769Z"
   },
   {
    "duration": 81,
    "start_time": "2022-05-11T09:44:38.072Z"
   },
   {
    "duration": 691457,
    "start_time": "2022-05-11T09:49:26.453Z"
   },
   {
    "duration": 0,
    "start_time": "2022-05-11T10:00:57.912Z"
   },
   {
    "duration": 144403,
    "start_time": "2022-05-11T10:01:08.103Z"
   },
   {
    "duration": 74,
    "start_time": "2022-05-11T10:03:32.508Z"
   },
   {
    "duration": 142315,
    "start_time": "2022-05-11T10:03:41.733Z"
   },
   {
    "duration": 88,
    "start_time": "2022-05-11T10:06:04.051Z"
   },
   {
    "duration": 1587,
    "start_time": "2022-05-11T10:06:20.207Z"
   },
   {
    "duration": 887,
    "start_time": "2022-05-11T10:06:21.796Z"
   },
   {
    "duration": 15,
    "start_time": "2022-05-11T10:06:22.685Z"
   },
   {
    "duration": 50,
    "start_time": "2022-05-11T10:06:22.701Z"
   },
   {
    "duration": 4134,
    "start_time": "2022-05-11T10:06:22.754Z"
   },
   {
    "duration": 39,
    "start_time": "2022-05-11T10:06:26.890Z"
   },
   {
    "duration": 76292,
    "start_time": "2022-05-11T10:06:26.931Z"
   },
   {
    "duration": 175,
    "start_time": "2022-05-11T10:07:43.225Z"
   },
   {
    "duration": 74,
    "start_time": "2022-05-11T10:33:08.599Z"
   },
   {
    "duration": 1612,
    "start_time": "2022-05-11T10:33:13.208Z"
   },
   {
    "duration": 927,
    "start_time": "2022-05-11T10:33:14.822Z"
   },
   {
    "duration": 14,
    "start_time": "2022-05-11T10:33:15.751Z"
   },
   {
    "duration": 41,
    "start_time": "2022-05-11T10:33:15.768Z"
   },
   {
    "duration": 4388,
    "start_time": "2022-05-11T10:33:15.824Z"
   },
   {
    "duration": 34,
    "start_time": "2022-05-11T10:33:20.214Z"
   },
   {
    "duration": 101732,
    "start_time": "2022-05-11T10:33:20.251Z"
   },
   {
    "duration": 186,
    "start_time": "2022-05-11T10:35:01.985Z"
   },
   {
    "duration": 2458,
    "start_time": "2022-05-11T10:36:03.089Z"
   },
   {
    "duration": 934,
    "start_time": "2022-05-11T10:36:05.549Z"
   },
   {
    "duration": 16,
    "start_time": "2022-05-11T10:36:06.485Z"
   },
   {
    "duration": 53,
    "start_time": "2022-05-11T10:36:06.502Z"
   },
   {
    "duration": 4175,
    "start_time": "2022-05-11T10:36:06.557Z"
   },
   {
    "duration": 33,
    "start_time": "2022-05-11T10:36:10.734Z"
   },
   {
    "duration": 74830,
    "start_time": "2022-05-11T10:36:10.769Z"
   },
   {
    "duration": 182,
    "start_time": "2022-05-11T10:37:25.600Z"
   },
   {
    "duration": 1546,
    "start_time": "2022-05-11T10:45:30.643Z"
   },
   {
    "duration": 880,
    "start_time": "2022-05-11T10:45:32.192Z"
   },
   {
    "duration": 18,
    "start_time": "2022-05-11T10:45:33.074Z"
   },
   {
    "duration": 51,
    "start_time": "2022-05-11T10:45:33.094Z"
   },
   {
    "duration": 4284,
    "start_time": "2022-05-11T10:45:33.148Z"
   },
   {
    "duration": 30,
    "start_time": "2022-05-11T10:45:37.435Z"
   },
   {
    "duration": 83405,
    "start_time": "2022-05-11T10:45:37.468Z"
   },
   {
    "duration": 176,
    "start_time": "2022-05-11T10:47:00.875Z"
   },
   {
    "duration": 57,
    "start_time": "2022-05-11T10:48:11.182Z"
   },
   {
    "duration": 1788,
    "start_time": "2022-05-11T10:48:18.185Z"
   },
   {
    "duration": 914,
    "start_time": "2022-05-11T10:48:21.385Z"
   },
   {
    "duration": 21,
    "start_time": "2022-05-11T10:48:23.320Z"
   },
   {
    "duration": 35,
    "start_time": "2022-05-11T10:48:25.002Z"
   },
   {
    "duration": 4606,
    "start_time": "2022-05-11T10:48:26.627Z"
   },
   {
    "duration": 32,
    "start_time": "2022-05-11T10:48:34.343Z"
   },
   {
    "duration": 0,
    "start_time": "2022-05-11T10:49:57.479Z"
   },
   {
    "duration": 29158,
    "start_time": "2022-05-11T10:50:01.385Z"
   },
   {
    "duration": 85,
    "start_time": "2022-05-11T10:50:33.434Z"
   },
   {
    "duration": 134876,
    "start_time": "2022-05-11T10:50:35.656Z"
   },
   {
    "duration": 38,
    "start_time": "2022-05-11T10:52:50.535Z"
   },
   {
    "duration": 10,
    "start_time": "2022-05-11T10:58:55.666Z"
   },
   {
    "duration": 4,
    "start_time": "2022-05-11T10:59:02.471Z"
   },
   {
    "duration": 1003,
    "start_time": "2022-05-11T10:59:03.834Z"
   },
   {
    "duration": 8,
    "start_time": "2022-05-11T10:59:05.574Z"
   },
   {
    "duration": 33,
    "start_time": "2022-05-11T10:59:06.758Z"
   },
   {
    "duration": 4901,
    "start_time": "2022-05-11T10:59:08.198Z"
   },
   {
    "duration": 33,
    "start_time": "2022-05-11T10:59:14.789Z"
   },
   {
    "duration": 29263,
    "start_time": "2022-05-11T10:59:16.359Z"
   },
   {
    "duration": 14,
    "start_time": "2022-05-11T10:59:48.916Z"
   },
   {
    "duration": 9,
    "start_time": "2022-05-11T11:00:27.547Z"
   },
   {
    "duration": 1229,
    "start_time": "2022-05-11T11:01:37.223Z"
   },
   {
    "duration": 12644,
    "start_time": "2022-05-11T11:01:45.543Z"
   },
   {
    "duration": 9591,
    "start_time": "2022-05-11T11:02:22.407Z"
   },
   {
    "duration": 25246,
    "start_time": "2022-05-11T11:05:17.143Z"
   },
   {
    "duration": 63,
    "start_time": "2022-05-11T11:08:56.535Z"
   },
   {
    "duration": 106,
    "start_time": "2022-05-11T11:09:05.944Z"
   },
   {
    "duration": 154054,
    "start_time": "2022-05-11T11:09:44.920Z"
   },
   {
    "duration": 31,
    "start_time": "2022-05-11T11:12:18.976Z"
   },
   {
    "duration": 31,
    "start_time": "2022-05-11T11:13:27.039Z"
   },
   {
    "duration": 31,
    "start_time": "2022-05-11T11:17:01.279Z"
   },
   {
    "duration": 47609,
    "start_time": "2022-05-11T11:17:14.039Z"
   },
   {
    "duration": 45637,
    "start_time": "2022-05-11T11:21:11.800Z"
   },
   {
    "duration": 12,
    "start_time": "2022-05-11T11:28:45.385Z"
   },
   {
    "duration": 156525,
    "start_time": "2022-05-11T11:28:55.800Z"
   },
   {
    "duration": 28,
    "start_time": "2022-05-11T11:31:32.327Z"
   },
   {
    "duration": 45991,
    "start_time": "2022-05-11T11:31:46.888Z"
   },
   {
    "duration": 28018,
    "start_time": "2022-05-11T11:35:33.849Z"
   },
   {
    "duration": 91,
    "start_time": "2022-05-11T11:36:09.849Z"
   },
   {
    "duration": 92377,
    "start_time": "2022-05-11T11:36:13.177Z"
   },
   {
    "duration": 71106,
    "start_time": "2022-05-11T11:38:15.657Z"
   },
   {
    "duration": 131,
    "start_time": "2022-05-11T11:39:31.785Z"
   },
   {
    "duration": 56,
    "start_time": "2022-05-11T11:42:02.027Z"
   },
   {
    "duration": 2306,
    "start_time": "2022-05-11T11:44:44.379Z"
   },
   {
    "duration": 15328,
    "start_time": "2022-05-11T11:44:46.687Z"
   },
   {
    "duration": 21,
    "start_time": "2022-05-11T11:45:02.017Z"
   },
   {
    "duration": 34,
    "start_time": "2022-05-11T11:45:02.040Z"
   },
   {
    "duration": 4371,
    "start_time": "2022-05-11T11:45:02.077Z"
   },
   {
    "duration": 29,
    "start_time": "2022-05-11T11:45:06.450Z"
   },
   {
    "duration": 253,
    "start_time": "2022-05-11T11:45:06.481Z"
   },
   {
    "duration": 24222,
    "start_time": "2022-05-11T11:45:06.736Z"
   },
   {
    "duration": 64375,
    "start_time": "2022-05-11T11:45:30.960Z"
   },
   {
    "duration": 162,
    "start_time": "2022-05-11T11:46:35.337Z"
   },
   {
    "duration": 199,
    "start_time": "2022-05-11T11:46:35.501Z"
   },
   {
    "duration": 0,
    "start_time": "2022-05-11T11:46:35.702Z"
   },
   {
    "duration": 0,
    "start_time": "2022-05-11T11:46:35.703Z"
   },
   {
    "duration": 158393,
    "start_time": "2022-05-11T11:47:02.010Z"
   },
   {
    "duration": 26,
    "start_time": "2022-05-11T11:49:47.468Z"
   },
   {
    "duration": 74,
    "start_time": "2022-05-11T11:50:22.298Z"
   },
   {
    "duration": 2464,
    "start_time": "2022-05-12T08:59:48.570Z"
   },
   {
    "duration": 1580,
    "start_time": "2022-05-12T08:59:51.036Z"
   },
   {
    "duration": 182,
    "start_time": "2022-05-12T08:59:52.617Z"
   },
   {
    "duration": 0,
    "start_time": "2022-05-12T08:59:52.801Z"
   },
   {
    "duration": 0,
    "start_time": "2022-05-12T08:59:52.802Z"
   },
   {
    "duration": 0,
    "start_time": "2022-05-12T08:59:52.803Z"
   },
   {
    "duration": 0,
    "start_time": "2022-05-12T08:59:52.804Z"
   },
   {
    "duration": 0,
    "start_time": "2022-05-12T08:59:52.805Z"
   },
   {
    "duration": 0,
    "start_time": "2022-05-12T08:59:52.806Z"
   },
   {
    "duration": 0,
    "start_time": "2022-05-12T08:59:52.807Z"
   },
   {
    "duration": 0,
    "start_time": "2022-05-12T08:59:52.808Z"
   },
   {
    "duration": 761,
    "start_time": "2022-05-12T09:00:15.787Z"
   },
   {
    "duration": 13,
    "start_time": "2022-05-12T09:00:19.019Z"
   },
   {
    "duration": 29,
    "start_time": "2022-05-12T09:00:20.092Z"
   },
   {
    "duration": 3865,
    "start_time": "2022-05-12T09:00:24.459Z"
   },
   {
    "duration": 33,
    "start_time": "2022-05-12T09:00:35.067Z"
   },
   {
    "duration": 140,
    "start_time": "2022-05-12T09:00:38.602Z"
   },
   {
    "duration": 47,
    "start_time": "2022-05-12T09:00:47.659Z"
   },
   {
    "duration": 43440,
    "start_time": "2022-05-12T09:45:00.487Z"
   },
   {
    "duration": 10,
    "start_time": "2022-05-12T09:45:56.048Z"
   },
   {
    "duration": 23,
    "start_time": "2022-05-12T09:46:26.583Z"
   },
   {
    "duration": 68538,
    "start_time": "2022-05-12T09:50:12.467Z"
   },
   {
    "duration": 251326,
    "start_time": "2022-05-12T09:51:45.986Z"
   },
   {
    "duration": 13,
    "start_time": "2022-05-12T09:55:57.314Z"
   },
   {
    "duration": 4956,
    "start_time": "2022-05-12T09:56:23.521Z"
   },
   {
    "duration": 51603,
    "start_time": "2022-05-12T09:56:52.466Z"
   },
   {
    "duration": 2260,
    "start_time": "2022-05-12T10:00:55.453Z"
   },
   {
    "duration": 1396,
    "start_time": "2022-05-12T10:00:57.715Z"
   },
   {
    "duration": 879,
    "start_time": "2022-05-12T10:00:59.113Z"
   },
   {
    "duration": 16,
    "start_time": "2022-05-12T10:00:59.994Z"
   },
   {
    "duration": 37,
    "start_time": "2022-05-12T10:01:00.011Z"
   },
   {
    "duration": 5539,
    "start_time": "2022-05-12T10:01:00.062Z"
   },
   {
    "duration": 31,
    "start_time": "2022-05-12T10:01:05.603Z"
   },
   {
    "duration": 173,
    "start_time": "2022-05-12T10:01:05.636Z"
   },
   {
    "duration": 61041,
    "start_time": "2022-05-12T10:01:05.810Z"
   },
   {
    "duration": 67400,
    "start_time": "2022-05-12T10:02:06.854Z"
   },
   {
    "duration": 213,
    "start_time": "2022-05-12T10:03:14.256Z"
   },
   {
    "duration": 1557,
    "start_time": "2022-05-12T10:12:00.486Z"
   },
   {
    "duration": 881,
    "start_time": "2022-05-12T10:12:03.729Z"
   },
   {
    "duration": 14,
    "start_time": "2022-05-12T10:12:05.618Z"
   },
   {
    "duration": 37,
    "start_time": "2022-05-12T10:12:09.937Z"
   },
   {
    "duration": 5224,
    "start_time": "2022-05-12T10:12:11.828Z"
   },
   {
    "duration": 34,
    "start_time": "2022-05-12T10:12:21.177Z"
   },
   {
    "duration": 213,
    "start_time": "2022-05-12T10:12:24.754Z"
   },
   {
    "duration": 48256,
    "start_time": "2022-05-12T10:12:30.426Z"
   },
   {
    "duration": 246598,
    "start_time": "2022-05-12T10:13:28.900Z"
   },
   {
    "duration": 25,
    "start_time": "2022-05-12T10:17:42.322Z"
   },
   {
    "duration": 146,
    "start_time": "2022-05-12T10:26:52.855Z"
   },
   {
    "duration": 164,
    "start_time": "2022-05-12T11:13:35.175Z"
   }
  ],
  "kernelspec": {
   "display_name": "Python 3 (ipykernel)",
   "language": "python",
   "name": "python3"
  },
  "language_info": {
   "codemirror_mode": {
    "name": "ipython",
    "version": 3
   },
   "file_extension": ".py",
   "mimetype": "text/x-python",
   "name": "python",
   "nbconvert_exporter": "python",
   "pygments_lexer": "ipython3",
   "version": "3.9.5"
  },
  "toc": {
   "base_numbering": 1,
   "nav_menu": {},
   "number_sections": true,
   "sideBar": true,
   "skip_h1_title": true,
   "title_cell": "Содержание",
   "title_sidebar": "Contents",
   "toc_cell": true,
   "toc_position": {
    "height": "calc(100% - 180px)",
    "left": "10px",
    "top": "150px",
    "width": "302.391px"
   },
   "toc_section_display": true,
   "toc_window_display": false
  }
 },
 "nbformat": 4,
 "nbformat_minor": 2
}
